{
 "cells": [
  {
   "cell_type": "markdown",
   "metadata": {},
   "source": [
    "https://yangtavares.com/2017/07/31/creating-a-simple-overlay-for-pynq-z1-board-from-vivado-hlx/"
   ]
  },
  {
   "cell_type": "code",
   "execution_count": 1,
   "metadata": {},
   "outputs": [
    {
     "data": {
      "application/json": {
       "Software versions": [
        {
         "module": "Python",
         "version": "3.6.2 64bit [GCC 4.4.7 20120313 (Red Hat 4.4.7-1)]"
        },
        {
         "module": "IPython",
         "version": "6.2.1"
        },
        {
         "module": "OS",
         "version": "Linux 4.15.0 30 generic x86_64 with debian stretch sid"
        },
        {
         "module": "myhdl",
         "version": "0.10"
        },
        {
         "module": "myhdlpeek",
         "version": "0.0.6"
        },
        {
         "module": "numpy",
         "version": "1.13.3"
        },
        {
         "module": "pandas",
         "version": "0.23.3"
        },
        {
         "module": "matplotlib",
         "version": "2.1.0"
        },
        {
         "module": "sympy",
         "version": "1.1.2.dev"
        },
        {
         "module": "itertools",
         "version": "The 'itertools' distribution was not found and is required by the application"
        },
        {
         "module": "IPython",
         "version": "6.2.1"
        }
       ]
      },
      "text/html": [
       "<table><tr><th>Software</th><th>Version</th></tr><tr><td>Python</td><td>3.6.2 64bit [GCC 4.4.7 20120313 (Red Hat 4.4.7-1)]</td></tr><tr><td>IPython</td><td>6.2.1</td></tr><tr><td>OS</td><td>Linux 4.15.0 30 generic x86_64 with debian stretch sid</td></tr><tr><td>myhdl</td><td>0.10</td></tr><tr><td>myhdlpeek</td><td>0.0.6</td></tr><tr><td>numpy</td><td>1.13.3</td></tr><tr><td>pandas</td><td>0.23.3</td></tr><tr><td>matplotlib</td><td>2.1.0</td></tr><tr><td>sympy</td><td>1.1.2.dev</td></tr><tr><td>itertools</td><td>The 'itertools' distribution was not found and is required by the application</td></tr><tr><td>IPython</td><td>6.2.1</td></tr><tr><td colspan='2'>Sun Sep 16 17:50:29 2018 MDT</td></tr></table>"
      ],
      "text/latex": [
       "\\begin{tabular}{|l|l|}\\hline\n",
       "{\\bf Software} & {\\bf Version} \\\\ \\hline\\hline\n",
       "Python & 3.6.2 64bit [GCC 4.4.7 20120313 (Red Hat 4.4.7-1)] \\\\ \\hline\n",
       "IPython & 6.2.1 \\\\ \\hline\n",
       "OS & Linux 4.15.0 30 generic x86\\_64 with debian stretch sid \\\\ \\hline\n",
       "myhdl & 0.10 \\\\ \\hline\n",
       "myhdlpeek & 0.0.6 \\\\ \\hline\n",
       "numpy & 1.13.3 \\\\ \\hline\n",
       "pandas & 0.23.3 \\\\ \\hline\n",
       "matplotlib & 2.1.0 \\\\ \\hline\n",
       "sympy & 1.1.2.dev \\\\ \\hline\n",
       "itertools & The 'itertools' distribution was not found and is required by the application \\\\ \\hline\n",
       "IPython & 6.2.1 \\\\ \\hline\n",
       "\\hline \\multicolumn{2}{|l|}{Sun Sep 16 17:50:29 2018 MDT} \\\\ \\hline\n",
       "\\end{tabular}\n"
      ],
      "text/plain": [
       "Software versions\n",
       "Python 3.6.2 64bit [GCC 4.4.7 20120313 (Red Hat 4.4.7-1)]\n",
       "IPython 6.2.1\n",
       "OS Linux 4.15.0 30 generic x86_64 with debian stretch sid\n",
       "myhdl 0.10\n",
       "myhdlpeek 0.0.6\n",
       "numpy 1.13.3\n",
       "pandas 0.23.3\n",
       "matplotlib 2.1.0\n",
       "sympy 1.1.2.dev\n",
       "itertools The 'itertools' distribution was not found and is required by the application\n",
       "IPython 6.2.1\n",
       "Sun Sep 16 17:50:29 2018 MDT"
      ]
     },
     "execution_count": 1,
     "metadata": {},
     "output_type": "execute_result"
    }
   ],
   "source": [
    "#This notebook also uses the `(some) LaTeX environments for Jupyter`\n",
    "#https://github.com/ProfFan/latex_envs wich is part of the\n",
    "#jupyter_contrib_nbextensions package\n",
    "\n",
    "from myhdl import *\n",
    "from myhdlpeek import Peeker\n",
    "import numpy as np\n",
    "import pandas as pd\n",
    "import matplotlib.pyplot as plt\n",
    "%matplotlib inline\n",
    "\n",
    "from sympy import *\n",
    "init_printing()\n",
    "\n",
    "import itertools\n",
    "\n",
    "from IPython.display import clear_output\n",
    "\n",
    "\n",
    "#https://github.com/jrjohansson/version_information\n",
    "%load_ext version_information\n",
    "%version_information myhdl, myhdlpeek, numpy, pandas, matplotlib, sympy, itertools, IPython"
   ]
  },
  {
   "cell_type": "code",
   "execution_count": 2,
   "metadata": {},
   "outputs": [],
   "source": [
    "#helper  functions to read in the .v and .vhd generated files into python\n",
    "def VerilogTextReader(loc, printresult=True):\n",
    "    with open(f'{loc}.v', 'r') as vText:\n",
    "        VerilogText=vText.read()\n",
    "    if printresult:\n",
    "        print(f'***Verilog modual from {loc}.v***\\n\\n', VerilogText)\n",
    "    return VerilogText\n",
    "\n",
    "def VHDLTextReader(loc, printresult=True):\n",
    "    with open(f'{loc}.vhd', 'r') as vText:\n",
    "        VerilogText=vText.read()\n",
    "    if printresult:\n",
    "        print(f'***VHDL modual from {loc}.vhd***\\n\\n', VerilogText)\n",
    "    return VerilogText\n",
    "\n",
    "def ConstraintXDCTextReader(loc, printresult=True):\n",
    "    with open(f'{loc}.xdc', 'r') as xdcText:\n",
    "        ConstraintText=xdcText.read()\n",
    "    if printresult:\n",
    "        print(f'***Constraint file from {loc}.xdc***\\n\\n', ConstraintText)\n",
    "    return ConstraintText"
   ]
  },
  {
   "cell_type": "markdown",
   "metadata": {},
   "source": [
    "# IP  ClockDivider"
   ]
  },
  {
   "cell_type": "markdown",
   "metadata": {},
   "source": [
    "## Non SoC Test"
   ]
  },
  {
   "cell_type": "code",
   "execution_count": 3,
   "metadata": {},
   "outputs": [],
   "source": [
    "@block\n",
    "def ClockDivider(Divisor, clkOut, clk,rst):\n",
    "    \"\"\"\n",
    "    Simple Clock Divider based on the Digilint Clock Divider\n",
    "    https://learn.digilentinc.com/Documents/262\n",
    "    \n",
    "    Input:\n",
    "        Divisor(32 bit): the clock frequncy divide by value\n",
    "        clk(bool): The input clock\n",
    "        rst(bool): clockDivider Reset\n",
    "    \n",
    "    Ouput:\n",
    "        clkOut(bool): the divided clock ouput\n",
    "        count(32bit): the value of the internal counter\n",
    "    \"\"\"\n",
    "    \n",
    "    count_i=Signal(modbv(0)[32:])\n",
    "    @always(clk.posedge, rst.posedge)\n",
    "    def counter():\n",
    "        if rst:\n",
    "            count_i.next=0\n",
    "        elif count_i==(Divisor-1):\n",
    "            count_i.next=0\n",
    "        else:\n",
    "            count_i.next=count_i+1\n",
    "    \n",
    "    clkOut_i=Signal(bool(0))\n",
    "    @always(clk.posedge, rst.posedge)\n",
    "    def clockTick():\n",
    "        if rst:\n",
    "            clkOut_i.next=0\n",
    "        elif count_i==(Divisor-1):\n",
    "            clkOut_i.next=not clkOut_i\n",
    "        else:\n",
    "            clkOut_i.next=clkOut_i\n",
    "        \n",
    "        \n",
    "    \n",
    "    @always_comb\n",
    "    def OuputBuffer():\n",
    "        clkOut.next=clkOut_i\n",
    "       \n",
    "    return instances()\n",
    "            \n",
    "        "
   ]
  },
  {
   "cell_type": "code",
   "execution_count": 4,
   "metadata": {},
   "outputs": [
    {
     "data": {
      "image/png": "[encoded data removed]",
      "text/latex": [
       "$$3125000$$"
      ],
      "text/plain": [
       "3125000"
      ]
     },
     "execution_count": 4,
     "metadata": {},
     "output_type": "execute_result"
    }
   ],
   "source": [
    "RefClkFreq=125e6\n",
    "TargetClkFreq=40\n",
    "DivsionFactor=int(RefClkFreq/TargetClkFreq)\n",
    "DivsionFactor"
   ]
  },
  {
   "cell_type": "code",
   "execution_count": 5,
   "metadata": {},
   "outputs": [
    {
     "name": "stdout",
     "output_type": "stream",
     "text": [
      "***Verilog modual from ClockDivider.v***\n",
      "\n",
      " // File: ClockDivider.v\n",
      "// Generated by MyHDL 0.10\n",
      "// Date: Sun Sep 16 17:50:31 2018\n",
      "\n",
      "\n",
      "`timescale 1ns/10ps\n",
      "\n",
      "module ClockDivider (\n",
      "    Divisor,\n",
      "    clkOut,\n",
      "    clk,\n",
      "    rst\n",
      ");\n",
      "// Simple Clock Divider based on the Digilint Clock Divider\n",
      "// https://learn.digilentinc.com/Documents/262\n",
      "// \n",
      "// Input:\n",
      "//     Divisor(32 bit): the clock frequncy divide by value\n",
      "//     clk(bool): The input clock\n",
      "//     rst(bool): clockDivider Reset\n",
      "// \n",
      "// Ouput:\n",
      "//     clkOut(bool): the divided clock ouput\n",
      "//     count(32bit): the value of the internal counter\n",
      "\n",
      "input [31:0] Divisor;\n",
      "output clkOut;\n",
      "wire clkOut;\n",
      "input clk;\n",
      "input rst;\n",
      "\n",
      "reg [31:0] count_i;\n",
      "reg clkOut_i;\n",
      "\n",
      "\n",
      "\n",
      "always @(posedge clk, posedge rst) begin: CLOCKDIVIDER_COUNTER\n",
      "    if (rst) begin\n",
      "        count_i <= 0;\n",
      "    end\n",
      "    else if (($signed({1'b0, count_i}) == ($signed({1'b0, Divisor}) - 1))) begin\n",
      "        count_i <= 0;\n",
      "    end\n",
      "    else begin\n",
      "        count_i <= (count_i + 1);\n",
      "    end\n",
      "end\n",
      "\n",
      "\n",
      "always @(posedge clk, posedge rst) begin: CLOCKDIVIDER_CLOCKTICK\n",
      "    if (rst) begin\n",
      "        clkOut_i <= 0;\n",
      "    end\n",
      "    else if (($signed({1'b0, count_i}) == ($signed({1'b0, Divisor}) - 1))) begin\n",
      "        clkOut_i <= (!clkOut_i);\n",
      "    end\n",
      "    else begin\n",
      "        clkOut_i <= clkOut_i;\n",
      "    end\n",
      "end\n",
      "\n",
      "\n",
      "\n",
      "assign clkOut = clkOut_i;\n",
      "\n",
      "endmodule\n",
      "\n"
     ]
    }
   ],
   "source": [
    "Peeker.clear()\n",
    "clk=Signal(bool(0)); Peeker(clk, 'clk')\n",
    "Divisor=Signal(intbv(DivsionFactor)[32:]); Peeker(Divisor, 'Divisor')\n",
    "clkOut=Signal(bool(0)); Peeker(clkOut, 'clkOut')\n",
    "rst=Signal(bool(0)); Peeker(rst, 'rst')\n",
    "\n",
    "DUT=ClockDivider(Divisor, clkOut, clk,rst)\n",
    "DUT.convert()\n",
    "VerilogTextReader('ClockDivider');"
   ]
  },
  {
   "cell_type": "code",
   "execution_count": 8,
   "metadata": {},
   "outputs": [
    {
     "name": "stdout",
     "output_type": "stream",
     "text": [
      "***Constraint file from ClockAXI.xdc***\n",
      "\n",
      " ## Switches\n",
      "set_property -dict {PACKAGE_PIN M20 IOSTANDARD LVCMOS33} [get_ports {sws_2bits_tri_i[0]}]\n",
      "set_property -dict {PACKAGE_PIN M19 IOSTANDARD LVCMOS33} [get_ports {sws_2bits_tri_i[1]}]\n",
      "\n",
      "## Buttons\n",
      "set_property -dict {PACKAGE_PIN D19 IOSTANDARD LVCMOS33} [get_ports {btns_4bits_tri_i[0]}]\n",
      "set_property -dict {PACKAGE_PIN D20 IOSTANDARD LVCMOS33} [get_ports {btns_4bits_tri_i[1]}]\n",
      "set_property -dict {PACKAGE_PIN L20 IOSTANDARD LVCMOS33} [get_ports {btns_4bits_tri_i[2]}]\n",
      "set_property -dict {PACKAGE_PIN L19 IOSTANDARD LVCMOS33} [get_ports {btns_4bits_tri_i[3]}]\n",
      "\n",
      "## LEDs\n",
      "set_property -dict {PACKAGE_PIN R14 IOSTANDARD LVCMOS33} [get_ports {clkOut}] ## leds_4bits_tri_o[0]\n",
      "##set_property -dict {PACKAGE_PIN P14 IOSTANDARD LVCMOS33} [get_ports {leds_4bits_tri_o[1]}]\n",
      "##set_property -dict {PACKAGE_PIN N16 IOSTANDARD LVCMOS33} [get_ports {leds_4bits_tri_o[2]}]\n",
      "##set_property -dict {PACKAGE_PIN M14 IOSTANDARD LVCMOS33} [get_ports {leds_4bits_tri_o[3]}]\n",
      "\n",
      "\n"
     ]
    }
   ],
   "source": [
    "ConstraintXDCTextReader('ClockAXI');"
   ]
  },
  {
   "cell_type": "markdown",
   "metadata": {},
   "source": [
    "## AXI SoC"
   ]
  },
  {
   "cell_type": "markdown",
   "metadata": {},
   "source": [
    "The IP Project is `myClockDividerIP_v1_0`\n",
    "After adding the Verilog Clock Divider Module under sources there are two addintal modules that where created with the IP that are the AXI Lite Slave IP Connection Header `myClockDividerIP_v1_0.v` and the AXI Slave BUS controler `myClockDividerIP_v1_0_S00_AXI_inst.v`"
   ]
  },
  {
   "cell_type": "code",
   "execution_count": null,
   "metadata": {},
   "outputs": [],
   "source": []
  }
 ],
 "metadata": {
  "hide_input": false,
  "kernelspec": {
   "display_name": "Python 3",
   "language": "python",
   "name": "python3"
  },
  "language_info": {
   "codemirror_mode": {
    "name": "ipython",
    "version": 3
   },
   "file_extension": ".py",
   "mimetype": "text/x-python",
   "name": "python",
   "nbconvert_exporter": "python",
   "pygments_lexer": "ipython3",
   "version": "3.6.2"
  },
  "latex_envs": {
   "LaTeX_envs_menu_present": true,
   "autoclose": false,
   "autocomplete": true,
   "bibliofile": "biblio.bib",
   "cite_by": "apalike",
   "current_citInitial": 1,
   "eqLabelWithNumbers": true,
   "eqNumInitial": 1,
   "hotkeys": {
    "equation": "Ctrl-E",
    "itemize": "Ctrl-I"
   },
   "labels_anchors": false,
   "latex_user_defs": false,
   "report_style_numbering": false,
   "user_envs_cfg": false
  },
  "toc": {
   "nav_menu": {},
   "number_sections": true,
   "sideBar": true,
   "skip_h1_title": false,
   "toc_cell": false,
   "toc_position": {},
   "toc_section_display": "block",
   "toc_window_display": false
  }
 },
 "nbformat": 4,
 "nbformat_minor": 2
}
