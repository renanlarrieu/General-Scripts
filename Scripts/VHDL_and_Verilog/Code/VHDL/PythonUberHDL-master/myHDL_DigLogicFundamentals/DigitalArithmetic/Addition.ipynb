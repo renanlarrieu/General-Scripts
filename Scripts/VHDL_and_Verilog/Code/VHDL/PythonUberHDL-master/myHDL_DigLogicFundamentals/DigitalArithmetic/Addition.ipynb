{
 "cells": [
  {
   "cell_type": "markdown",
   "metadata": {},
   "source": [
    "\\title{Addition in myHDL (In Progress)}\n",
    "\\author{Steven K Armour}\n",
    "\\maketitle"
   ]
  },
  {
   "cell_type": "markdown",
   "metadata": {},
   "source": [
    "# Refrances\n",
    "\n",
    "https://www.geeksforgeeks.org/digital-logic-carry-look-ahead-adder/\n",
    "\n",
    "http://faculty.kfupm.edu.sa/COE/abouh/Lesson3_3.pdf"
   ]
  },
  {
   "cell_type": "markdown",
   "metadata": {},
   "source": [
    "# Libraries and Helper functions"
   ]
  },
  {
   "cell_type": "code",
   "execution_count": 1,
   "metadata": {},
   "outputs": [
    {
     "data": {
      "application/json": {
       "Software versions": [
        {
         "module": "Python",
         "version": "3.6.5 64bit [GCC 7.2.0]"
        },
        {
         "module": "IPython",
         "version": "6.4.0"
        },
        {
         "module": "OS",
         "version": "Linux 4.15.0 30 generic x86_64 with debian buster sid"
        },
        {
         "module": "myhdl",
         "version": "0.10"
        },
        {
         "module": "myhdlpeek",
         "version": "0.0.7"
        },
        {
         "module": "numpy",
         "version": "1.14.3"
        },
        {
         "module": "pandas",
         "version": "0.23.0"
        },
        {
         "module": "matplotlib",
         "version": "2.2.2"
        },
        {
         "module": "sympy",
         "version": "1.1.1"
        },
        {
         "module": "random",
         "version": "The 'random' distribution was not found and is required by the application"
        },
        {
         "module": "itertools",
         "version": "The 'itertools' distribution was not found and is required by the application"
        }
       ]
      },
      "text/html": [
       "<table><tr><th>Software</th><th>Version</th></tr><tr><td>Python</td><td>3.6.5 64bit [GCC 7.2.0]</td></tr><tr><td>IPython</td><td>6.4.0</td></tr><tr><td>OS</td><td>Linux 4.15.0 30 generic x86_64 with debian buster sid</td></tr><tr><td>myhdl</td><td>0.10</td></tr><tr><td>myhdlpeek</td><td>0.0.7</td></tr><tr><td>numpy</td><td>1.14.3</td></tr><tr><td>pandas</td><td>0.23.0</td></tr><tr><td>matplotlib</td><td>2.2.2</td></tr><tr><td>sympy</td><td>1.1.1</td></tr><tr><td>random</td><td>The 'random' distribution was not found and is required by the application</td></tr><tr><td>itertools</td><td>The 'itertools' distribution was not found and is required by the application</td></tr><tr><td colspan='2'>Tue Aug 21 12:52:12 2018 MDT</td></tr></table>"
      ],
      "text/latex": [
       "\\begin{tabular}{|l|l|}\\hline\n",
       "{\\bf Software} & {\\bf Version} \\\\ \\hline\\hline\n",
       "Python & 3.6.5 64bit [GCC 7.2.0] \\\\ \\hline\n",
       "IPython & 6.4.0 \\\\ \\hline\n",
       "OS & Linux 4.15.0 30 generic x86\\_64 with debian buster sid \\\\ \\hline\n",
       "myhdl & 0.10 \\\\ \\hline\n",
       "myhdlpeek & 0.0.7 \\\\ \\hline\n",
       "numpy & 1.14.3 \\\\ \\hline\n",
       "pandas & 0.23.0 \\\\ \\hline\n",
       "matplotlib & 2.2.2 \\\\ \\hline\n",
       "sympy & 1.1.1 \\\\ \\hline\n",
       "random & The 'random' distribution was not found and is required by the application \\\\ \\hline\n",
       "itertools & The 'itertools' distribution was not found and is required by the application \\\\ \\hline\n",
       "\\hline \\multicolumn{2}{|l|}{Tue Aug 21 12:52:12 2018 MDT} \\\\ \\hline\n",
       "\\end{tabular}\n"
      ],
      "text/plain": [
       "Software versions\n",
       "Python 3.6.5 64bit [GCC 7.2.0]\n",
       "IPython 6.4.0\n",
       "OS Linux 4.15.0 30 generic x86_64 with debian buster sid\n",
       "myhdl 0.10\n",
       "myhdlpeek 0.0.7\n",
       "numpy 1.14.3\n",
       "pandas 0.23.0\n",
       "matplotlib 2.2.2\n",
       "sympy 1.1.1\n",
       "random The 'random' distribution was not found and is required by the application\n",
       "itertools The 'itertools' distribution was not found and is required by the application\n",
       "Tue Aug 21 12:52:12 2018 MDT"
      ]
     },
     "execution_count": 1,
     "metadata": {},
     "output_type": "execute_result"
    }
   ],
   "source": [
    "from myhdl import *\n",
    "from myhdlpeek import Peeker\n",
    "import numpy as np\n",
    "import pandas as pd\n",
    "import matplotlib.pyplot as plt\n",
    "%matplotlib inline\n",
    "\n",
    "from sympy import *\n",
    "init_printing()\n",
    "\n",
    "import itertools\n",
    "\n",
    "#https://github.com/jrjohansson/version_information\n",
    "%load_ext version_information\n",
    "%version_information myhdl, myhdlpeek, numpy, pandas, matplotlib, sympy, random, itertools"
   ]
  },
  {
   "cell_type": "code",
   "execution_count": 2,
   "metadata": {},
   "outputs": [],
   "source": [
    "#helper  functions to read in the .v and .vhd generated files into python\n",
    "def VerilogTextReader(loc, printresult=True):\n",
    "    with open(f'{loc}.v', 'r') as vText:\n",
    "        VerilogText=vText.read()\n",
    "    if printresult:\n",
    "        print(f'***Verilog modual from {loc}.v***\\n\\n', VerilogText)\n",
    "    return VerilogText\n",
    "\n",
    "def VHDLTextReader(loc, printresult=True):\n",
    "    with open(f'{loc}.vhd', 'r') as vText:\n",
    "        VerilogText=vText.read()\n",
    "    if printresult:\n",
    "        print(f'***VHDL modual from {loc}.vhd***\\n\\n', VerilogText)\n",
    "    return VerilogText"
   ]
  },
  {
   "cell_type": "code",
   "execution_count": 3,
   "metadata": {},
   "outputs": [],
   "source": [
    "BitVals=[0,1]"
   ]
  },
  {
   "cell_type": "markdown",
   "metadata": {},
   "source": [
    "# Half Adder"
   ]
  },
  {
   "cell_type": "markdown",
   "metadata": {},
   "source": [
    "## myHDL Code"
   ]
  },
  {
   "cell_type": "code",
   "execution_count": 4,
   "metadata": {},
   "outputs": [],
   "source": [
    "@block\n",
    "def HalfAdder(x1, x2, s, c):\n",
    "    \"\"\"\n",
    "    Half Adder\n",
    "    Input:\n",
    "        x1(bool): bit signal to be added\n",
    "        x2(bool): bit signal to be added\n",
    "    \n",
    "    Output:\n",
    "        s(bool): Half Adder Sum\n",
    "        c(bool): Half Adder Carry\n",
    "\n",
    "    \"\"\"\n",
    "    @always_comb\n",
    "    def logic():\n",
    "        s.next=x1 ^ x2\n",
    "        c.next=x1 & x2\n",
    "    \n",
    "    return instances()"
   ]
  },
  {
   "cell_type": "markdown",
   "metadata": {},
   "source": [
    "## myHDL Testing"
   ]
  },
  {
   "cell_type": "code",
   "execution_count": 5,
   "metadata": {},
   "outputs": [],
   "source": [
    "Peeker.clear()\n",
    "x1=Signal(bool(0)); Peeker(x1, 'x1')\n",
    "x2=Signal(bool(0)); Peeker(x2, 'x2')\n",
    "s=Signal(bool(0)); Peeker(s, 's')\n",
    "c=Signal(bool(0)); Peeker(c, 'c')\n",
    "\n",
    "#generate test values\n",
    "x1TVals=[i[0] for i in itertools.product(BitVals, repeat=len(BitVals))]\n",
    "x2TVals=[i[1] for i in itertools.product(BitVals, repeat=len(BitVals))]\n",
    "\n",
    "DUT=HalfAdder(x1, x2, s, c)\n",
    "\n",
    "\n",
    "def HalfAdder_TB():\n",
    "    \"\"\"\n",
    "    myHDL only Testbench for module \"HalfAdder\"\n",
    "    \"\"\"\n",
    "    @instance\n",
    "    def stimules():\n",
    "        for i, j in zip(x1TVals, x2TVals):\n",
    "            x1.next=i; x2.next=j\n",
    "            yield delay(1)\n",
    "        \n",
    "        raise StopSimulation()\n",
    "    \n",
    "    return instances()\n",
    "\n",
    "sim=Simulation(DUT, HalfAdder_TB(), *Peeker.instances()).run()"
   ]
  },
  {
   "cell_type": "code",
   "execution_count": 6,
   "metadata": {},
   "outputs": [
    {
     "data": {
      "text/html": [
       "<div><script type=\"WaveDrom\">{\"signal\": [{\"name\": \"x1\", \"wave\": \"0.1.\"}, {\"name\": \"x2\", \"wave\": \"0101\"}, {}, {}]}</script></div>"
      ]
     },
     "metadata": {},
     "output_type": "display_data"
    },
    {
     "data": {
      "application/javascript": [
       "$.getScript(\"http://wavedrom.com/wavedrom.min.js\", function () {\n",
       "$.getScript(\"http://wavedrom.com/skins/default.js\", function () {\n",
       "WaveDrom.ProcessAll();});\n",
       "});\n"
      ]
     },
     "metadata": {},
     "output_type": "display_data"
    }
   ],
   "source": [
    "Peeker.to_wavedrom('x1', 'x2', 's', 'c')"
   ]
  },
  {
   "cell_type": "code",
   "execution_count": 7,
   "metadata": {},
   "outputs": [
    {
     "data": {
      "text/html": [
       "<div>\n",
       "<style scoped>\n",
       "    .dataframe tbody tr th:only-of-type {\n",
       "        vertical-align: middle;\n",
       "    }\n",
       "\n",
       "    .dataframe tbody tr th {\n",
       "        vertical-align: top;\n",
       "    }\n",
       "\n",
       "    .dataframe thead th {\n",
       "        text-align: right;\n",
       "    }\n",
       "</style>\n",
       "<table border=\"1\" class=\"dataframe\">\n",
       "  <thead>\n",
       "    <tr style=\"text-align: right;\">\n",
       "      <th></th>\n",
       "      <th>x1</th>\n",
       "      <th>x2</th>\n",
       "      <th>s</th>\n",
       "      <th>c</th>\n",
       "    </tr>\n",
       "  </thead>\n",
       "  <tbody>\n",
       "    <tr>\n",
       "      <th>0</th>\n",
       "      <td>0</td>\n",
       "      <td>0</td>\n",
       "      <td>0</td>\n",
       "      <td>0</td>\n",
       "    </tr>\n",
       "    <tr>\n",
       "      <th>1</th>\n",
       "      <td>0</td>\n",
       "      <td>1</td>\n",
       "      <td>1</td>\n",
       "      <td>0</td>\n",
       "    </tr>\n",
       "    <tr>\n",
       "      <th>2</th>\n",
       "      <td>1</td>\n",
       "      <td>0</td>\n",
       "      <td>1</td>\n",
       "      <td>0</td>\n",
       "    </tr>\n",
       "    <tr>\n",
       "      <th>3</th>\n",
       "      <td>1</td>\n",
       "      <td>1</td>\n",
       "      <td>0</td>\n",
       "      <td>1</td>\n",
       "    </tr>\n",
       "  </tbody>\n",
       "</table>\n",
       "</div>"
      ],
      "text/plain": [
       "   x1  x2  s  c\n",
       "0   0   0  0  0\n",
       "1   0   1  1  0\n",
       "2   1   0  1  0\n",
       "3   1   1  0  1"
      ]
     },
     "execution_count": 7,
     "metadata": {},
     "output_type": "execute_result"
    }
   ],
   "source": [
    "HalfAdderData=Peeker.to_dataframe()\n",
    "HalfAdderData=HalfAdderData[['x1', 'x2', 's', 'c']]\n",
    "HalfAdderData"
   ]
  },
  {
   "cell_type": "code",
   "execution_count": 8,
   "metadata": {},
   "outputs": [
    {
     "data": {
      "text/html": [
       "<div>\n",
       "<style scoped>\n",
       "    .dataframe tbody tr th:only-of-type {\n",
       "        vertical-align: middle;\n",
       "    }\n",
       "\n",
       "    .dataframe tbody tr th {\n",
       "        vertical-align: top;\n",
       "    }\n",
       "\n",
       "    .dataframe thead th {\n",
       "        text-align: right;\n",
       "    }\n",
       "</style>\n",
       "<table border=\"1\" class=\"dataframe\">\n",
       "  <thead>\n",
       "    <tr style=\"text-align: right;\">\n",
       "      <th></th>\n",
       "      <th>x1</th>\n",
       "      <th>x2</th>\n",
       "      <th>s</th>\n",
       "      <th>c</th>\n",
       "      <th>sCheck</th>\n",
       "      <th>cCheck</th>\n",
       "    </tr>\n",
       "  </thead>\n",
       "  <tbody>\n",
       "    <tr>\n",
       "      <th>0</th>\n",
       "      <td>0</td>\n",
       "      <td>0</td>\n",
       "      <td>0</td>\n",
       "      <td>0</td>\n",
       "      <td>0</td>\n",
       "      <td>0</td>\n",
       "    </tr>\n",
       "    <tr>\n",
       "      <th>1</th>\n",
       "      <td>0</td>\n",
       "      <td>1</td>\n",
       "      <td>1</td>\n",
       "      <td>0</td>\n",
       "      <td>1</td>\n",
       "      <td>0</td>\n",
       "    </tr>\n",
       "    <tr>\n",
       "      <th>2</th>\n",
       "      <td>1</td>\n",
       "      <td>0</td>\n",
       "      <td>1</td>\n",
       "      <td>0</td>\n",
       "      <td>1</td>\n",
       "      <td>0</td>\n",
       "    </tr>\n",
       "    <tr>\n",
       "      <th>3</th>\n",
       "      <td>1</td>\n",
       "      <td>1</td>\n",
       "      <td>0</td>\n",
       "      <td>1</td>\n",
       "      <td>0</td>\n",
       "      <td>1</td>\n",
       "    </tr>\n",
       "  </tbody>\n",
       "</table>\n",
       "</div>"
      ],
      "text/plain": [
       "   x1  x2  s  c  sCheck  cCheck\n",
       "0   0   0  0  0       0       0\n",
       "1   0   1  1  0       1       0\n",
       "2   1   0  1  0       1       0\n",
       "3   1   1  0  1       0       1"
      ]
     },
     "execution_count": 8,
     "metadata": {},
     "output_type": "execute_result"
    }
   ],
   "source": [
    "HalfAdderData['sCheck']=HalfAdderData.apply(lambda row: row['x1']^row['x2'], axis=1)\n",
    "HalfAdderData['cCheck']=HalfAdderData.apply(lambda row: row['x1']&row['x2'], axis=1)\n",
    "HalfAdderData"
   ]
  },
  {
   "cell_type": "code",
   "execution_count": 9,
   "metadata": {},
   "outputs": [
    {
     "name": "stdout",
     "output_type": "stream",
     "text": [
      "Sum Result Check: True; Carry Result Check: True\n"
     ]
    }
   ],
   "source": [
    "SumCheck=(HalfAdderData['s']==HalfAdderData['sCheck']).all()\n",
    "CarryCheck=(HalfAdderData['c']==HalfAdderData['cCheck']).all()\n",
    "print(f'Sum Result Check: {SumCheck}; Carry Result Check: {CarryCheck}')"
   ]
  },
  {
   "cell_type": "markdown",
   "metadata": {},
   "source": [
    "## Verilog Code"
   ]
  },
  {
   "cell_type": "code",
   "execution_count": 10,
   "metadata": {},
   "outputs": [
    {
     "name": "stdout",
     "output_type": "stream",
     "text": [
      "***Verilog modual from HalfAdder.v***\n",
      "\n",
      " // File: HalfAdder.v\n",
      "// Generated by MyHDL 0.10\n",
      "// Date: Tue Aug 21 12:52:14 2018\n",
      "\n",
      "\n",
      "`timescale 1ns/10ps\n",
      "\n",
      "module HalfAdder (\n",
      "    x1,\n",
      "    x2,\n",
      "    s,\n",
      "    c\n",
      ");\n",
      "// Half Adder\n",
      "// Input:\n",
      "//     x1(bool): bit signal to be added\n",
      "//     x2(bool): bit signal to be added\n",
      "// \n",
      "// Output:\n",
      "//     s(bool): Half Adder Sum\n",
      "//     c(bool): Half Adder Carry\n",
      "\n",
      "input x1;\n",
      "input x2;\n",
      "output s;\n",
      "wire s;\n",
      "output c;\n",
      "wire c;\n",
      "\n",
      "\n",
      "\n",
      "\n",
      "\n",
      "assign s = (x1 ^ x2);\n",
      "assign c = (x1 & x2);\n",
      "\n",
      "endmodule\n",
      "\n"
     ]
    }
   ],
   "source": [
    "DUT.convert()\n",
    "VerilogTextReader('HalfAdder');"
   ]
  },
  {
   "cell_type": "markdown",
   "metadata": {},
   "source": [
    "## Verilog Testbench"
   ]
  },
  {
   "cell_type": "code",
   "execution_count": 11,
   "metadata": {},
   "outputs": [],
   "source": [
    "#generate test values\n",
    "x1TVals=[i[0] for i in itertools.product(BitVals, repeat=len(BitVals))]\n",
    "x2TVals=[i[1] for i in itertools.product(BitVals, repeat=len(BitVals))]\n",
    "#create single value representation of Test Inputs\n",
    "x1TVal=intbv(int(''.join([str(i) for i in x1TVals]), 2))[len(x1TVals):]\n",
    "x2TVal=intbv(int(''.join([str(i) for i in x2TVals]), 2))[len(x2TVals):]"
   ]
  },
  {
   "cell_type": "code",
   "execution_count": 12,
   "metadata": {},
   "outputs": [
    {
     "name": "stdout",
     "output_type": "stream",
     "text": [
      "x1Test: [0, 0, 1, 1], 3, [0, 0, 1, 1]\n",
      "x2Test: [0, 1, 0, 1], 5, [0, 1, 0, 1]\n"
     ]
    }
   ],
   "source": [
    "print(f'x1Test: {x1TVals}, {x1TVal}, {[int(i) for i in x1TVal]}')\n",
    "print(f'x2Test: {x2TVals}, {x2TVal}, {[int(i) for i in x2TVal]}')"
   ]
  },
  {
   "cell_type": "code",
   "execution_count": 13,
   "metadata": {},
   "outputs": [
    {
     "name": "stdout",
     "output_type": "stream",
     "text": [
      "<class 'myhdl._Signal._Signal'> <class '_ast.Name'>\n",
      "<class 'myhdl._Signal._Signal'> <class '_ast.Name'>\n",
      "<class 'myhdl._Signal._Signal'> <class '_ast.Name'>\n",
      "<class 'myhdl._Signal._Signal'> <class '_ast.Name'>\n",
      "***Verilog modual from HalfAdder_TBV.v***\n",
      "\n",
      " // File: HalfAdder_TBV.v\n",
      "// Generated by MyHDL 0.10\n",
      "// Date: Tue Aug 21 12:52:14 2018\n",
      "\n",
      "\n",
      "`timescale 1ns/10ps\n",
      "\n",
      "module HalfAdder_TBV (\n",
      "\n",
      ");\n",
      "// myHDL -> Verilog Testbench for module \"HalfAdder\"\n",
      "\n",
      "\n",
      "reg x1 = 0;\n",
      "reg x2 = 0;\n",
      "wire s;\n",
      "wire c;\n",
      "wire [3:0] x1TVals;\n",
      "wire [3:0] x2TVals;\n",
      "\n",
      "assign x1TVals = 4'd3;\n",
      "assign x2TVals = 4'd5;\n",
      "\n",
      "\n",
      "always @(s, x2, c, x1) begin: HALFADDER_TBV_PRINT_DATA\n",
      "    $write(\"%h\", x1);\n",
      "    $write(\" \");\n",
      "    $write(\"%h\", x2);\n",
      "    $write(\" \");\n",
      "    $write(\"%h\", s);\n",
      "    $write(\" \");\n",
      "    $write(\"%h\", c);\n",
      "    $write(\"\\n\");\n",
      "end\n",
      "\n",
      "\n",
      "\n",
      "assign s = (x1 ^ x2);\n",
      "assign c = (x1 & x2);\n",
      "\n",
      "\n",
      "initial begin: HALFADDER_TBV_STIMULES\n",
      "    integer i;\n",
      "    for (i=0; i<4; i=i+1) begin\n",
      "        x1 <= x1TVals[i];\n",
      "        x2 <= x2TVals[i];\n",
      "        # 1;\n",
      "    end\n",
      "    $finish;\n",
      "end\n",
      "\n",
      "endmodule\n",
      "\n"
     ]
    },
    {
     "name": "stderr",
     "output_type": "stream",
     "text": [
      "/home/iridium/anaconda3/lib/python3.6/site-packages/myhdl/conversion/_toVerilog.py:349: ToVerilogWarning: Signal is not driven: x1TVals\n",
      "  category=ToVerilogWarning\n",
      "/home/iridium/anaconda3/lib/python3.6/site-packages/myhdl/conversion/_toVerilog.py:349: ToVerilogWarning: Signal is not driven: x2TVals\n",
      "  category=ToVerilogWarning\n"
     ]
    }
   ],
   "source": [
    "@block\n",
    "def HalfAdder_TBV():\n",
    "    \"\"\"\n",
    "    myHDL -> Verilog Testbench for module \"HalfAdder\"\n",
    "    \"\"\"\n",
    "    x1=Signal(bool(0))\n",
    "    x2=Signal(bool(0))\n",
    "    s=Signal(bool(0))\n",
    "    c=Signal(bool(0))\n",
    "    \n",
    "    #test stimuli\n",
    "    x1TVals=Signal(x1TVal)\n",
    "    x2TVals=Signal(x2TVal)\n",
    "    \n",
    "    @always_comb\n",
    "    def print_data():\n",
    "        print(x1, x2, s, c)\n",
    "\n",
    "    DUT=HalfAdder(x1, x2, s, c)\n",
    "\n",
    "    @instance\n",
    "    def stimules():\n",
    "        for i in range(len(x1TVal)):\n",
    "            x1.next=x1TVals[i]; x2.next=x2TVals[i]\n",
    "            yield delay(1)\n",
    "        \n",
    "        raise StopSimulation()\n",
    "    \n",
    "    return instances()\n",
    "\n",
    "TB=HalfAdder_TBV()\n",
    "TB.convert(hdl=\"Verilog\", initial_values=True)\n",
    "VerilogTextReader('HalfAdder_TBV');"
   ]
  },
  {
   "cell_type": "markdown",
   "metadata": {},
   "source": [
    "# Full Adder From Exspresion"
   ]
  },
  {
   "cell_type": "markdown",
   "metadata": {},
   "source": [
    "## myHDL Code"
   ]
  },
  {
   "cell_type": "code",
   "execution_count": 14,
   "metadata": {},
   "outputs": [],
   "source": [
    "@block\n",
    "def FullAdder(x1, x2, cin, s, c):\n",
    "    \"\"\"\n",
    "    Full Adder 2bit+1 input from exspresion\n",
    "    Input:\n",
    "        x1(bool): bit signal to be added\n",
    "        x2(bool): bit signal to be added\n",
    "        cin(bool): carry in bit signal\n",
    "    \n",
    "    Output:\n",
    "        s(bool): Full Adder Sum\n",
    "        c(bool): Full Adder Carry\n",
    "\n",
    "    \"\"\"\n",
    "    @always_comb\n",
    "    def logic():\n",
    "        s.next=x1^x2^cin\n",
    "        c.next=(x1&x2) | (x1&cin) | (x2&cin)\n",
    "    \n",
    "    return instances()\n",
    "    "
   ]
  },
  {
   "cell_type": "markdown",
   "metadata": {},
   "source": [
    "## myHDL Testing "
   ]
  },
  {
   "cell_type": "code",
   "execution_count": 15,
   "metadata": {},
   "outputs": [],
   "source": [
    "Peeker.clear()\n",
    "x1=Signal(bool(0)); Peeker(x1, 'x1')\n",
    "x2=Signal(bool(0)); Peeker(x2, 'x2')\n",
    "cin=Signal(bool(0)); Peeker(cin, 'cin')\n",
    "s=Signal(bool(0)); Peeker(s, 's')\n",
    "c=Signal(bool(0)); Peeker(c, 'c')\n",
    "\n",
    "#generate test values\n",
    "x1TVals=[i[0] for i in itertools.product(BitVals, repeat=len(BitVals)+1)]\n",
    "x2TVals=[i[1] for i in itertools.product(BitVals, repeat=len(BitVals)+1)]\n",
    "cinTVals=[i[2] for i in itertools.product(BitVals, repeat=len(BitVals)+1)]\n",
    "\n",
    "DUT=FullAdder(x1, x2, cin, s, c)\n",
    "\n",
    "\n",
    "def FullAdder_TB():\n",
    "    \"\"\"\n",
    "    myHDL only Testbench for module \"FullAdder\"\n",
    "    \"\"\"\n",
    "    @instance\n",
    "    def stimules():\n",
    "        for i, j, k in zip(x1TVals, x2TVals, cinTVals):\n",
    "            x1.next=i; x2.next=j; cin.next=k\n",
    "            yield delay(1)\n",
    "        \n",
    "        raise StopSimulation()\n",
    "    \n",
    "    return instances()\n",
    "\n",
    "sim=Simulation(DUT, FullAdder_TB(), *Peeker.instances()).run()"
   ]
  },
  {
   "cell_type": "code",
   "execution_count": 16,
   "metadata": {},
   "outputs": [
    {
     "data": {
      "text/html": [
       "<div><script type=\"WaveDrom\">{\"signal\": [{\"name\": \"x1\", \"wave\": \"0...1...\"}, {}, {\"name\": \"cin\", \"wave\": \"01010101\"}, {\"name\": \"s\", \"wave\": \"01.010.1\"}, {\"name\": \"c\", \"wave\": \"0..101..\"}]}</script></div>"
      ]
     },
     "metadata": {},
     "output_type": "display_data"
    },
    {
     "data": {
      "application/javascript": [
       "$.getScript(\"http://wavedrom.com/wavedrom.min.js\", function () {\n",
       "$.getScript(\"http://wavedrom.com/skins/default.js\", function () {\n",
       "WaveDrom.ProcessAll();});\n",
       "});\n"
      ]
     },
     "metadata": {},
     "output_type": "display_data"
    }
   ],
   "source": [
    "Peeker.to_wavedrom('x1', 'x2', 'cin', 's', 'c')"
   ]
  },
  {
   "cell_type": "code",
   "execution_count": 17,
   "metadata": {},
   "outputs": [
    {
     "data": {
      "text/html": [
       "<div>\n",
       "<style scoped>\n",
       "    .dataframe tbody tr th:only-of-type {\n",
       "        vertical-align: middle;\n",
       "    }\n",
       "\n",
       "    .dataframe tbody tr th {\n",
       "        vertical-align: top;\n",
       "    }\n",
       "\n",
       "    .dataframe thead th {\n",
       "        text-align: right;\n",
       "    }\n",
       "</style>\n",
       "<table border=\"1\" class=\"dataframe\">\n",
       "  <thead>\n",
       "    <tr style=\"text-align: right;\">\n",
       "      <th></th>\n",
       "      <th>x1</th>\n",
       "      <th>x2</th>\n",
       "      <th>cin</th>\n",
       "      <th>s</th>\n",
       "      <th>c</th>\n",
       "    </tr>\n",
       "  </thead>\n",
       "  <tbody>\n",
       "    <tr>\n",
       "      <th>0</th>\n",
       "      <td>0</td>\n",
       "      <td>0</td>\n",
       "      <td>0</td>\n",
       "      <td>0</td>\n",
       "      <td>0</td>\n",
       "    </tr>\n",
       "    <tr>\n",
       "      <th>1</th>\n",
       "      <td>0</td>\n",
       "      <td>0</td>\n",
       "      <td>1</td>\n",
       "      <td>1</td>\n",
       "      <td>0</td>\n",
       "    </tr>\n",
       "    <tr>\n",
       "      <th>2</th>\n",
       "      <td>0</td>\n",
       "      <td>1</td>\n",
       "      <td>0</td>\n",
       "      <td>1</td>\n",
       "      <td>0</td>\n",
       "    </tr>\n",
       "    <tr>\n",
       "      <th>3</th>\n",
       "      <td>0</td>\n",
       "      <td>1</td>\n",
       "      <td>1</td>\n",
       "      <td>0</td>\n",
       "      <td>1</td>\n",
       "    </tr>\n",
       "    <tr>\n",
       "      <th>4</th>\n",
       "      <td>1</td>\n",
       "      <td>0</td>\n",
       "      <td>0</td>\n",
       "      <td>1</td>\n",
       "      <td>0</td>\n",
       "    </tr>\n",
       "    <tr>\n",
       "      <th>5</th>\n",
       "      <td>1</td>\n",
       "      <td>0</td>\n",
       "      <td>1</td>\n",
       "      <td>0</td>\n",
       "      <td>1</td>\n",
       "    </tr>\n",
       "    <tr>\n",
       "      <th>6</th>\n",
       "      <td>1</td>\n",
       "      <td>1</td>\n",
       "      <td>0</td>\n",
       "      <td>0</td>\n",
       "      <td>1</td>\n",
       "    </tr>\n",
       "    <tr>\n",
       "      <th>7</th>\n",
       "      <td>1</td>\n",
       "      <td>1</td>\n",
       "      <td>1</td>\n",
       "      <td>1</td>\n",
       "      <td>1</td>\n",
       "    </tr>\n",
       "  </tbody>\n",
       "</table>\n",
       "</div>"
      ],
      "text/plain": [
       "   x1  x2  cin  s  c\n",
       "0   0   0    0  0  0\n",
       "1   0   0    1  1  0\n",
       "2   0   1    0  1  0\n",
       "3   0   1    1  0  1\n",
       "4   1   0    0  1  0\n",
       "5   1   0    1  0  1\n",
       "6   1   1    0  0  1\n",
       "7   1   1    1  1  1"
      ]
     },
     "execution_count": 17,
     "metadata": {},
     "output_type": "execute_result"
    }
   ],
   "source": [
    "FullAdderData=Peeker.to_dataframe()\n",
    "FullAdderData=FullAdderData[['x1', 'x2', 'cin', 's', 'c']]\n",
    "FullAdderData"
   ]
  },
  {
   "cell_type": "code",
   "execution_count": 18,
   "metadata": {},
   "outputs": [
    {
     "data": {
      "text/html": [
       "<div>\n",
       "<style scoped>\n",
       "    .dataframe tbody tr th:only-of-type {\n",
       "        vertical-align: middle;\n",
       "    }\n",
       "\n",
       "    .dataframe tbody tr th {\n",
       "        vertical-align: top;\n",
       "    }\n",
       "\n",
       "    .dataframe thead th {\n",
       "        text-align: right;\n",
       "    }\n",
       "</style>\n",
       "<table border=\"1\" class=\"dataframe\">\n",
       "  <thead>\n",
       "    <tr style=\"text-align: right;\">\n",
       "      <th></th>\n",
       "      <th>x1</th>\n",
       "      <th>x2</th>\n",
       "      <th>cin</th>\n",
       "      <th>s</th>\n",
       "      <th>c</th>\n",
       "      <th>sCheck</th>\n",
       "      <th>cCheck</th>\n",
       "    </tr>\n",
       "  </thead>\n",
       "  <tbody>\n",
       "    <tr>\n",
       "      <th>0</th>\n",
       "      <td>0</td>\n",
       "      <td>0</td>\n",
       "      <td>0</td>\n",
       "      <td>0</td>\n",
       "      <td>0</td>\n",
       "      <td>0</td>\n",
       "      <td>0</td>\n",
       "    </tr>\n",
       "    <tr>\n",
       "      <th>1</th>\n",
       "      <td>0</td>\n",
       "      <td>0</td>\n",
       "      <td>1</td>\n",
       "      <td>1</td>\n",
       "      <td>0</td>\n",
       "      <td>1</td>\n",
       "      <td>0</td>\n",
       "    </tr>\n",
       "    <tr>\n",
       "      <th>2</th>\n",
       "      <td>0</td>\n",
       "      <td>1</td>\n",
       "      <td>0</td>\n",
       "      <td>1</td>\n",
       "      <td>0</td>\n",
       "      <td>1</td>\n",
       "      <td>0</td>\n",
       "    </tr>\n",
       "    <tr>\n",
       "      <th>3</th>\n",
       "      <td>0</td>\n",
       "      <td>1</td>\n",
       "      <td>1</td>\n",
       "      <td>0</td>\n",
       "      <td>1</td>\n",
       "      <td>0</td>\n",
       "      <td>1</td>\n",
       "    </tr>\n",
       "    <tr>\n",
       "      <th>4</th>\n",
       "      <td>1</td>\n",
       "      <td>0</td>\n",
       "      <td>0</td>\n",
       "      <td>1</td>\n",
       "      <td>0</td>\n",
       "      <td>1</td>\n",
       "      <td>0</td>\n",
       "    </tr>\n",
       "    <tr>\n",
       "      <th>5</th>\n",
       "      <td>1</td>\n",
       "      <td>0</td>\n",
       "      <td>1</td>\n",
       "      <td>0</td>\n",
       "      <td>1</td>\n",
       "      <td>0</td>\n",
       "      <td>1</td>\n",
       "    </tr>\n",
       "    <tr>\n",
       "      <th>6</th>\n",
       "      <td>1</td>\n",
       "      <td>1</td>\n",
       "      <td>0</td>\n",
       "      <td>0</td>\n",
       "      <td>1</td>\n",
       "      <td>0</td>\n",
       "      <td>1</td>\n",
       "    </tr>\n",
       "    <tr>\n",
       "      <th>7</th>\n",
       "      <td>1</td>\n",
       "      <td>1</td>\n",
       "      <td>1</td>\n",
       "      <td>1</td>\n",
       "      <td>1</td>\n",
       "      <td>1</td>\n",
       "      <td>1</td>\n",
       "    </tr>\n",
       "  </tbody>\n",
       "</table>\n",
       "</div>"
      ],
      "text/plain": [
       "   x1  x2  cin  s  c  sCheck  cCheck\n",
       "0   0   0    0  0  0       0       0\n",
       "1   0   0    1  1  0       1       0\n",
       "2   0   1    0  1  0       1       0\n",
       "3   0   1    1  0  1       0       1\n",
       "4   1   0    0  1  0       1       0\n",
       "5   1   0    1  0  1       0       1\n",
       "6   1   1    0  0  1       0       1\n",
       "7   1   1    1  1  1       1       1"
      ]
     },
     "execution_count": 18,
     "metadata": {},
     "output_type": "execute_result"
    }
   ],
   "source": [
    "FullAdderData['sCheck']=FullAdderData.apply(lambda row: row['x1']^row['x2']^row['cin'], axis=1)\n",
    "FullAdderData['cCheck']=FullAdderData.apply(lambda row: (row['x1']&row['x2'])|(row['cin']*(row['x1']^row['x2'])), axis=1)\n",
    "FullAdderData"
   ]
  },
  {
   "cell_type": "code",
   "execution_count": 19,
   "metadata": {},
   "outputs": [
    {
     "name": "stdout",
     "output_type": "stream",
     "text": [
      "Sum Result Check: True; Carry Result Check: True\n"
     ]
    }
   ],
   "source": [
    "SumCheck=(FullAdderData['s']==FullAdderData['sCheck']).all()\n",
    "CarryCheck=(FullAdderData['c']==FullAdderData['cCheck']).all()\n",
    "print(f'Sum Result Check: {SumCheck}; Carry Result Check: {CarryCheck}')"
   ]
  },
  {
   "cell_type": "markdown",
   "metadata": {},
   "source": [
    "## Verilog Code"
   ]
  },
  {
   "cell_type": "code",
   "execution_count": 20,
   "metadata": {},
   "outputs": [
    {
     "name": "stdout",
     "output_type": "stream",
     "text": [
      "***Verilog modual from FullAdder.v***\n",
      "\n",
      " // File: FullAdder.v\n",
      "// Generated by MyHDL 0.10\n",
      "// Date: Tue Aug 21 12:52:15 2018\n",
      "\n",
      "\n",
      "`timescale 1ns/10ps\n",
      "\n",
      "module FullAdder (\n",
      "    x1,\n",
      "    x2,\n",
      "    cin,\n",
      "    s,\n",
      "    c\n",
      ");\n",
      "// Full Adder 2bit+1 input from exspresion\n",
      "// Input:\n",
      "//     x1(bool): bit signal to be added\n",
      "//     x2(bool): bit signal to be added\n",
      "//     cin(bool): carry in bit signal\n",
      "// \n",
      "// Output:\n",
      "//     s(bool): Full Adder Sum\n",
      "//     c(bool): Full Adder Carry\n",
      "\n",
      "input x1;\n",
      "input x2;\n",
      "input cin;\n",
      "output s;\n",
      "wire s;\n",
      "output c;\n",
      "wire c;\n",
      "\n",
      "\n",
      "\n",
      "\n",
      "\n",
      "assign s = ((x1 ^ x2) ^ cin);\n",
      "assign c = (((x1 & x2) | (x1 & cin)) | (x2 & cin));\n",
      "\n",
      "endmodule\n",
      "\n"
     ]
    }
   ],
   "source": [
    "DUT.convert()\n",
    "VerilogTextReader('FullAdder');"
   ]
  },
  {
   "cell_type": "markdown",
   "metadata": {},
   "source": [
    "## Verilog Testbench"
   ]
  },
  {
   "cell_type": "code",
   "execution_count": 21,
   "metadata": {},
   "outputs": [],
   "source": [
    "#generate test values\n",
    "x1TVals=[i[0] for i in itertools.product(BitVals, repeat=len(BitVals)+1)]\n",
    "x2TVals=[i[1] for i in itertools.product(BitVals, repeat=len(BitVals)+1)]\n",
    "cinTVals=[i[2] for i in itertools.product(BitVals, repeat=len(BitVals)+1)]\n",
    "\n",
    "#create single value representation of Test Inputs\n",
    "x1TVal=intbv(int(''.join([str(i) for i in x1TVals]), 2))[len(x1TVals):]\n",
    "x2TVal=intbv(int(''.join([str(i) for i in x2TVals]), 2))[len(x2TVals):]\n",
    "cinTVal=intbv(int(''.join([str(i) for i in cinTVals]), 2))[len(cinTVals):]"
   ]
  },
  {
   "cell_type": "code",
   "execution_count": 22,
   "metadata": {},
   "outputs": [
    {
     "name": "stdout",
     "output_type": "stream",
     "text": [
      "x1Test: [0, 0, 0, 0, 1, 1, 1, 1], 0f, [0, 0, 0, 0, 1, 1, 1, 1]\n",
      "x2Test: [0, 0, 1, 1, 0, 0, 1, 1], 33, [0, 0, 1, 1, 0, 0, 1, 1]\n",
      "cinTest: [0, 1, 0, 1, 0, 1, 0, 1], 55, [0, 1, 0, 1, 0, 1, 0, 1]\n"
     ]
    }
   ],
   "source": [
    "print(f'x1Test: {x1TVals}, {x1TVal}, {[int(i) for i in x1TVal]}')\n",
    "print(f'x2Test: {x2TVals}, {x2TVal}, {[int(i) for i in x2TVal]}')\n",
    "print(f'cinTest: {cinTVals}, {cinTVal}, {[int(i) for i in cinTVal]}')"
   ]
  },
  {
   "cell_type": "code",
   "execution_count": 23,
   "metadata": {},
   "outputs": [
    {
     "name": "stdout",
     "output_type": "stream",
     "text": [
      "<class 'myhdl._Signal._Signal'> <class '_ast.Name'>\n",
      "<class 'myhdl._Signal._Signal'> <class '_ast.Name'>\n",
      "<class 'myhdl._Signal._Signal'> <class '_ast.Name'>\n",
      "<class 'myhdl._Signal._Signal'> <class '_ast.Name'>\n",
      "<class 'myhdl._Signal._Signal'> <class '_ast.Name'>\n",
      "***Verilog modual from FullAdder_TBV.v***\n",
      "\n",
      " // File: FullAdder_TBV.v\n",
      "// Generated by MyHDL 0.10\n",
      "// Date: Tue Aug 21 12:52:16 2018\n",
      "\n",
      "\n",
      "`timescale 1ns/10ps\n",
      "\n",
      "module FullAdder_TBV (\n",
      "\n",
      ");\n",
      "// myHDL -> Verilog Testbench for module \"FullAdder\"\n",
      "\n",
      "\n",
      "reg x1 = 0;\n",
      "reg x2 = 0;\n",
      "wire s;\n",
      "wire c;\n",
      "wire [7:0] x1TVals;\n",
      "wire [7:0] x2TVals;\n",
      "reg cin = 0;\n",
      "wire [7:0] cinTVals;\n",
      "\n",
      "assign x1TVals = 8'd15;\n",
      "assign x2TVals = 8'd51;\n",
      "assign cinTVals = 8'd85;\n",
      "\n",
      "\n",
      "always @(x2, c, s, cin, x1) begin: FULLADDER_TBV_PRINT_DATA\n",
      "    $write(\"%h\", x1);\n",
      "    $write(\" \");\n",
      "    $write(\"%h\", x2);\n",
      "    $write(\" \");\n",
      "    $write(\"%h\", cin);\n",
      "    $write(\" \");\n",
      "    $write(\"%h\", s);\n",
      "    $write(\" \");\n",
      "    $write(\"%h\", c);\n",
      "    $write(\"\\n\");\n",
      "end\n",
      "\n",
      "\n",
      "\n",
      "assign s = ((x1 ^ x2) ^ cin);\n",
      "assign c = (((x1 & x2) | (x1 & cin)) | (x2 & cin));\n",
      "\n",
      "\n",
      "initial begin: FULLADDER_TBV_STIMULES\n",
      "    integer i;\n",
      "    for (i=0; i<8; i=i+1) begin\n",
      "        x1 <= x1TVals[i];\n",
      "        x2 <= x2TVals[i];\n",
      "        cin <= cinTVals[i];\n",
      "        # 1;\n",
      "    end\n",
      "    $finish;\n",
      "end\n",
      "\n",
      "endmodule\n",
      "\n"
     ]
    },
    {
     "name": "stderr",
     "output_type": "stream",
     "text": [
      "/home/iridium/anaconda3/lib/python3.6/site-packages/myhdl/conversion/_toVerilog.py:349: ToVerilogWarning: Signal is not driven: x1TVals\n",
      "  category=ToVerilogWarning\n",
      "/home/iridium/anaconda3/lib/python3.6/site-packages/myhdl/conversion/_toVerilog.py:349: ToVerilogWarning: Signal is not driven: x2TVals\n",
      "  category=ToVerilogWarning\n",
      "/home/iridium/anaconda3/lib/python3.6/site-packages/myhdl/conversion/_toVerilog.py:349: ToVerilogWarning: Signal is not driven: cinTVals\n",
      "  category=ToVerilogWarning\n"
     ]
    }
   ],
   "source": [
    "@block\n",
    "def FullAdder_TBV():\n",
    "    \"\"\"\n",
    "    myHDL -> Verilog Testbench for module \"FullAdder\"\n",
    "    \"\"\"\n",
    "    x1=Signal(bool(0))\n",
    "    x2=Signal(bool(0))\n",
    "    cin=Signal(bool(0))\n",
    "    s=Signal(bool(0))\n",
    "    c=Signal(bool(0))\n",
    "    \n",
    "    #test stimuli\n",
    "    x1TVals=Signal(x1TVal)\n",
    "    x2TVals=Signal(x2TVal)\n",
    "    cinTVals=Signal(cinTVal)\n",
    "    \n",
    "    @always_comb\n",
    "    def print_data():\n",
    "        print(x1, x2, cin, s, c)\n",
    "\n",
    "    DUT=FullAdder(x1, x2, cin, s, c)\n",
    "\n",
    "    @instance\n",
    "    def stimules():\n",
    "        for i in range(len(x1TVal)):\n",
    "            x1.next=x1TVals[i]; x2.next=x2TVals[i]; cin.next=cinTVals[i]\n",
    "            yield delay(1)\n",
    "        \n",
    "        raise StopSimulation()\n",
    "    \n",
    "    return instances()\n",
    "\n",
    "TB=FullAdder_TBV()\n",
    "TB.convert(hdl=\"Verilog\", initial_values=True)\n",
    "VerilogTextReader('FullAdder_TBV');"
   ]
  },
  {
   "cell_type": "markdown",
   "metadata": {},
   "source": [
    "# Full Adder via HalfAdders"
   ]
  },
  {
   "cell_type": "markdown",
   "metadata": {},
   "source": [
    "## myHDL Code"
   ]
  },
  {
   "cell_type": "code",
   "execution_count": 24,
   "metadata": {},
   "outputs": [],
   "source": [
    "@block\n",
    "def FullAdderViaHAs(x1, x2, cin, s, c):\n",
    "    \"\"\"\n",
    "    Full Adder 2bit+1 input from Half Adders\n",
    "    Input:\n",
    "        x1(bool): bit signal to be added\n",
    "        x2(bool): bit signal to be added\n",
    "        cin(bool): carry in bit signal\n",
    "    \n",
    "    Output:\n",
    "        s(bool): Full Adder Sum\n",
    "        c(bool): Full Adder Carry\n",
    "\n",
    "    \"\"\"\n",
    "    #create ouput wires from first HA (HA1) to next HA and \n",
    "    #`CarryLogic`\n",
    "    s_HA1HA2=Signal(bool(0)); c_HA1CL=Signal(bool(0))\n",
    "    #create first HA and wire it\n",
    "    HA1_x1x2=HalfAdder(x1=x1, x2=x2, s=s_HA1HA2, c=c_HA1CL)\n",
    "    \n",
    "    #create output wire for seconed HA (HA2) to `CarryLogic`\n",
    "    c_HA2CL=Signal(bool(0))\n",
    "    HA2_HA1cin=HalfAdder(x1=cin, x2=s_HA1HA2, s=s, c=c_HA2CL)\n",
    "\n",
    "    @always_comb\n",
    "    def CarryLogic():\n",
    "        c.next= c_HA1CL|c_HA2CL\n",
    "    \n",
    "    return instances()\n",
    "    "
   ]
  },
  {
   "cell_type": "markdown",
   "metadata": {},
   "source": [
    "## myHDL Testing"
   ]
  },
  {
   "cell_type": "code",
   "execution_count": 25,
   "metadata": {},
   "outputs": [],
   "source": [
    "Peeker.clear()\n",
    "x1=Signal(bool(0)); Peeker(x1, 'x1')\n",
    "x2=Signal(bool(0)); Peeker(x2, 'x2')\n",
    "cin=Signal(bool(0)); Peeker(cin, 'cin')\n",
    "s=Signal(bool(0)); Peeker(s, 's')\n",
    "c=Signal(bool(0)); Peeker(c, 'c')\n",
    "\n",
    "#generate test values\n",
    "x1TVals=[i[0] for i in itertools.product(BitVals, repeat=len(BitVals)+1)]\n",
    "x2TVals=[i[1] for i in itertools.product(BitVals, repeat=len(BitVals)+1)]\n",
    "cinTVals=[i[2] for i in itertools.product(BitVals, repeat=len(BitVals)+1)]\n",
    "\n",
    "DUT=FullAdderViaHAs(x1, x2, cin, s, c)\n",
    "\n",
    "\n",
    "def FullAdderViaHAs_TB():\n",
    "    \"\"\"\n",
    "    myHDL only Testbench for module \"FullAdderViaHAs\"\n",
    "    \"\"\"\n",
    "    @instance\n",
    "    def stimules():\n",
    "        for i, j, k in zip(x1TVals, x2TVals, cinTVals):\n",
    "            x1.next=i; x2.next=j; cin.next=k\n",
    "            yield delay(1)\n",
    "        \n",
    "        raise StopSimulation()\n",
    "    \n",
    "    return instances()\n",
    "\n",
    "sim=Simulation(DUT, FullAdder_TB(), *Peeker.instances()).run()"
   ]
  },
  {
   "cell_type": "code",
   "execution_count": 26,
   "metadata": {},
   "outputs": [
    {
     "data": {
      "text/html": [
       "<div><script type=\"WaveDrom\">{\"signal\": [{\"name\": \"x1\", \"wave\": \"0...1...\"}, {}, {\"name\": \"cin\", \"wave\": \"01010101\"}, {\"name\": \"s\", \"wave\": \"01.010.1\"}, {\"name\": \"c\", \"wave\": \"0..101..\"}]}</script></div>"
      ]
     },
     "metadata": {},
     "output_type": "display_data"
    },
    {
     "data": {
      "application/javascript": [
       "$.getScript(\"http://wavedrom.com/wavedrom.min.js\", function () {\n",
       "$.getScript(\"http://wavedrom.com/skins/default.js\", function () {\n",
       "WaveDrom.ProcessAll();});\n",
       "});\n"
      ]
     },
     "metadata": {},
     "output_type": "display_data"
    }
   ],
   "source": [
    "Peeker.to_wavedrom('x1', 'x2', 'cin', 's', 'c')"
   ]
  },
  {
   "cell_type": "code",
   "execution_count": 27,
   "metadata": {},
   "outputs": [
    {
     "data": {
      "text/html": [
       "<div>\n",
       "<style scoped>\n",
       "    .dataframe tbody tr th:only-of-type {\n",
       "        vertical-align: middle;\n",
       "    }\n",
       "\n",
       "    .dataframe tbody tr th {\n",
       "        vertical-align: top;\n",
       "    }\n",
       "\n",
       "    .dataframe thead th {\n",
       "        text-align: right;\n",
       "    }\n",
       "</style>\n",
       "<table border=\"1\" class=\"dataframe\">\n",
       "  <thead>\n",
       "    <tr style=\"text-align: right;\">\n",
       "      <th></th>\n",
       "      <th>x1</th>\n",
       "      <th>x2</th>\n",
       "      <th>cin</th>\n",
       "      <th>s</th>\n",
       "      <th>c</th>\n",
       "    </tr>\n",
       "  </thead>\n",
       "  <tbody>\n",
       "    <tr>\n",
       "      <th>0</th>\n",
       "      <td>0</td>\n",
       "      <td>0</td>\n",
       "      <td>0</td>\n",
       "      <td>0</td>\n",
       "      <td>0</td>\n",
       "    </tr>\n",
       "    <tr>\n",
       "      <th>1</th>\n",
       "      <td>0</td>\n",
       "      <td>0</td>\n",
       "      <td>1</td>\n",
       "      <td>1</td>\n",
       "      <td>0</td>\n",
       "    </tr>\n",
       "    <tr>\n",
       "      <th>2</th>\n",
       "      <td>0</td>\n",
       "      <td>1</td>\n",
       "      <td>0</td>\n",
       "      <td>1</td>\n",
       "      <td>0</td>\n",
       "    </tr>\n",
       "    <tr>\n",
       "      <th>3</th>\n",
       "      <td>0</td>\n",
       "      <td>1</td>\n",
       "      <td>1</td>\n",
       "      <td>0</td>\n",
       "      <td>1</td>\n",
       "    </tr>\n",
       "    <tr>\n",
       "      <th>4</th>\n",
       "      <td>1</td>\n",
       "      <td>0</td>\n",
       "      <td>0</td>\n",
       "      <td>1</td>\n",
       "      <td>0</td>\n",
       "    </tr>\n",
       "    <tr>\n",
       "      <th>5</th>\n",
       "      <td>1</td>\n",
       "      <td>0</td>\n",
       "      <td>1</td>\n",
       "      <td>0</td>\n",
       "      <td>1</td>\n",
       "    </tr>\n",
       "    <tr>\n",
       "      <th>6</th>\n",
       "      <td>1</td>\n",
       "      <td>1</td>\n",
       "      <td>0</td>\n",
       "      <td>0</td>\n",
       "      <td>1</td>\n",
       "    </tr>\n",
       "    <tr>\n",
       "      <th>7</th>\n",
       "      <td>1</td>\n",
       "      <td>1</td>\n",
       "      <td>1</td>\n",
       "      <td>1</td>\n",
       "      <td>1</td>\n",
       "    </tr>\n",
       "  </tbody>\n",
       "</table>\n",
       "</div>"
      ],
      "text/plain": [
       "   x1  x2  cin  s  c\n",
       "0   0   0    0  0  0\n",
       "1   0   0    1  1  0\n",
       "2   0   1    0  1  0\n",
       "3   0   1    1  0  1\n",
       "4   1   0    0  1  0\n",
       "5   1   0    1  0  1\n",
       "6   1   1    0  0  1\n",
       "7   1   1    1  1  1"
      ]
     },
     "execution_count": 27,
     "metadata": {},
     "output_type": "execute_result"
    }
   ],
   "source": [
    "FullAdderHAData=Peeker.to_dataframe()\n",
    "FullAdderHAData=FullAdderHAData[['x1', 'x2', 'cin', 's', 'c']]\n",
    "FullAdderHAData"
   ]
  },
  {
   "cell_type": "code",
   "execution_count": 28,
   "metadata": {},
   "outputs": [
    {
     "data": {
      "text/html": [
       "<div>\n",
       "<style scoped>\n",
       "    .dataframe tbody tr th:only-of-type {\n",
       "        vertical-align: middle;\n",
       "    }\n",
       "\n",
       "    .dataframe tbody tr th {\n",
       "        vertical-align: top;\n",
       "    }\n",
       "\n",
       "    .dataframe thead th {\n",
       "        text-align: right;\n",
       "    }\n",
       "</style>\n",
       "<table border=\"1\" class=\"dataframe\">\n",
       "  <thead>\n",
       "    <tr style=\"text-align: right;\">\n",
       "      <th></th>\n",
       "      <th>x1</th>\n",
       "      <th>x2</th>\n",
       "      <th>cin</th>\n",
       "      <th>s</th>\n",
       "      <th>c</th>\n",
       "      <th>sCheck</th>\n",
       "      <th>cCheck</th>\n",
       "    </tr>\n",
       "  </thead>\n",
       "  <tbody>\n",
       "    <tr>\n",
       "      <th>0</th>\n",
       "      <td>0</td>\n",
       "      <td>0</td>\n",
       "      <td>0</td>\n",
       "      <td>0</td>\n",
       "      <td>0</td>\n",
       "      <td>0</td>\n",
       "      <td>0</td>\n",
       "    </tr>\n",
       "    <tr>\n",
       "      <th>1</th>\n",
       "      <td>0</td>\n",
       "      <td>0</td>\n",
       "      <td>1</td>\n",
       "      <td>1</td>\n",
       "      <td>0</td>\n",
       "      <td>1</td>\n",
       "      <td>0</td>\n",
       "    </tr>\n",
       "    <tr>\n",
       "      <th>2</th>\n",
       "      <td>0</td>\n",
       "      <td>1</td>\n",
       "      <td>0</td>\n",
       "      <td>1</td>\n",
       "      <td>0</td>\n",
       "      <td>1</td>\n",
       "      <td>0</td>\n",
       "    </tr>\n",
       "    <tr>\n",
       "      <th>3</th>\n",
       "      <td>0</td>\n",
       "      <td>1</td>\n",
       "      <td>1</td>\n",
       "      <td>0</td>\n",
       "      <td>1</td>\n",
       "      <td>0</td>\n",
       "      <td>1</td>\n",
       "    </tr>\n",
       "    <tr>\n",
       "      <th>4</th>\n",
       "      <td>1</td>\n",
       "      <td>0</td>\n",
       "      <td>0</td>\n",
       "      <td>1</td>\n",
       "      <td>0</td>\n",
       "      <td>1</td>\n",
       "      <td>0</td>\n",
       "    </tr>\n",
       "    <tr>\n",
       "      <th>5</th>\n",
       "      <td>1</td>\n",
       "      <td>0</td>\n",
       "      <td>1</td>\n",
       "      <td>0</td>\n",
       "      <td>1</td>\n",
       "      <td>0</td>\n",
       "      <td>1</td>\n",
       "    </tr>\n",
       "    <tr>\n",
       "      <th>6</th>\n",
       "      <td>1</td>\n",
       "      <td>1</td>\n",
       "      <td>0</td>\n",
       "      <td>0</td>\n",
       "      <td>1</td>\n",
       "      <td>0</td>\n",
       "      <td>1</td>\n",
       "    </tr>\n",
       "    <tr>\n",
       "      <th>7</th>\n",
       "      <td>1</td>\n",
       "      <td>1</td>\n",
       "      <td>1</td>\n",
       "      <td>1</td>\n",
       "      <td>1</td>\n",
       "      <td>1</td>\n",
       "      <td>1</td>\n",
       "    </tr>\n",
       "  </tbody>\n",
       "</table>\n",
       "</div>"
      ],
      "text/plain": [
       "   x1  x2  cin  s  c  sCheck  cCheck\n",
       "0   0   0    0  0  0       0       0\n",
       "1   0   0    1  1  0       1       0\n",
       "2   0   1    0  1  0       1       0\n",
       "3   0   1    1  0  1       0       1\n",
       "4   1   0    0  1  0       1       0\n",
       "5   1   0    1  0  1       0       1\n",
       "6   1   1    0  0  1       0       1\n",
       "7   1   1    1  1  1       1       1"
      ]
     },
     "execution_count": 28,
     "metadata": {},
     "output_type": "execute_result"
    }
   ],
   "source": [
    "FullAdderHAData['sCheck']=FullAdderHAData.apply(lambda row: row['x1']^row['x2']^row['cin'], axis=1)\n",
    "FullAdderHAData['cCheck']=FullAdderHAData.apply(lambda row: (row['x1']&row['x2'])|(row['cin']*(row['x1']^row['x2'])), axis=1)\n",
    "FullAdderHAData"
   ]
  },
  {
   "cell_type": "code",
   "execution_count": 29,
   "metadata": {},
   "outputs": [
    {
     "name": "stdout",
     "output_type": "stream",
     "text": [
      "Sum Result Check: True; Carry Result Check: True\n"
     ]
    }
   ],
   "source": [
    "SumCheck=(FullAdderHAData['s']==FullAdderHAData['sCheck']).all()\n",
    "CarryCheck=(FullAdderHAData['c']==FullAdderHAData['cCheck']).all()\n",
    "print(f'Sum Result Check: {SumCheck}; Carry Result Check: {CarryCheck}')"
   ]
  },
  {
   "cell_type": "code",
   "execution_count": 30,
   "metadata": {},
   "outputs": [
    {
     "data": {
      "text/plain": [
       "x1        True\n",
       "x2        True\n",
       "cin       True\n",
       "s         True\n",
       "c         True\n",
       "sCheck    True\n",
       "cCheck    True\n",
       "dtype: bool"
      ]
     },
     "execution_count": 30,
     "metadata": {},
     "output_type": "execute_result"
    }
   ],
   "source": [
    "(FullAdderData==FullAdderHAData).all()"
   ]
  },
  {
   "cell_type": "markdown",
   "metadata": {},
   "source": [
    "## Verilog Code"
   ]
  },
  {
   "cell_type": "code",
   "execution_count": 31,
   "metadata": {},
   "outputs": [
    {
     "name": "stdout",
     "output_type": "stream",
     "text": [
      "***Verilog modual from FullAdderViaHAs.v***\n",
      "\n",
      " // File: FullAdderViaHAs.v\n",
      "// Generated by MyHDL 0.10\n",
      "// Date: Tue Aug 21 12:52:18 2018\n",
      "\n",
      "\n",
      "`timescale 1ns/10ps\n",
      "\n",
      "module FullAdderViaHAs (\n",
      "    x1,\n",
      "    x2,\n",
      "    cin,\n",
      "    s,\n",
      "    c\n",
      ");\n",
      "// Full Adder 2bit+1 input from Half Adders\n",
      "// Input:\n",
      "//     x1(bool): bit signal to be added\n",
      "//     x2(bool): bit signal to be added\n",
      "//     cin(bool): carry in bit signal\n",
      "// \n",
      "// Output:\n",
      "//     s(bool): Full Adder Sum\n",
      "//     c(bool): Full Adder Carry\n",
      "\n",
      "input x1;\n",
      "input x2;\n",
      "input cin;\n",
      "output s;\n",
      "wire s;\n",
      "output c;\n",
      "wire c;\n",
      "\n",
      "wire s_HA1HA2;\n",
      "wire c_HA1CL;\n",
      "wire c_HA2CL;\n",
      "\n",
      "\n",
      "\n",
      "\n",
      "assign s_HA1HA2 = (x1 ^ x2);\n",
      "assign c_HA1CL = (x1 & x2);\n",
      "\n",
      "\n",
      "\n",
      "assign s = (cin ^ s_HA1HA2);\n",
      "assign c_HA2CL = (cin & s_HA1HA2);\n",
      "\n",
      "\n",
      "\n",
      "assign c = (c_HA1CL | c_HA2CL);\n",
      "\n",
      "endmodule\n",
      "\n"
     ]
    }
   ],
   "source": [
    "DUT.convert()\n",
    "VerilogTextReader('FullAdderViaHAs');"
   ]
  },
  {
   "cell_type": "markdown",
   "metadata": {},
   "source": [
    "## Verilog Testbench"
   ]
  },
  {
   "cell_type": "code",
   "execution_count": 32,
   "metadata": {},
   "outputs": [],
   "source": [
    "#generate test values\n",
    "x1TVals=[i[0] for i in itertools.product(BitVals, repeat=len(BitVals)+1)]\n",
    "x2TVals=[i[1] for i in itertools.product(BitVals, repeat=len(BitVals)+1)]\n",
    "cinTVals=[i[2] for i in itertools.product(BitVals, repeat=len(BitVals)+1)]\n",
    "\n",
    "#create single value representation of Test Inputs\n",
    "x1TVal=intbv(int(''.join([str(i) for i in x1TVals]), 2))[len(x1TVals):]\n",
    "x2TVal=intbv(int(''.join([str(i) for i in x2TVals]), 2))[len(x2TVals):]\n",
    "cinTVal=intbv(int(''.join([str(i) for i in cinTVals]), 2))[len(cinTVals):]"
   ]
  },
  {
   "cell_type": "code",
   "execution_count": 33,
   "metadata": {},
   "outputs": [
    {
     "name": "stdout",
     "output_type": "stream",
     "text": [
      "x1Test: [0, 0, 0, 0, 1, 1, 1, 1], 0f, [0, 0, 0, 0, 1, 1, 1, 1]\n",
      "x2Test: [0, 0, 1, 1, 0, 0, 1, 1], 33, [0, 0, 1, 1, 0, 0, 1, 1]\n",
      "cinTest: [0, 1, 0, 1, 0, 1, 0, 1], 55, [0, 1, 0, 1, 0, 1, 0, 1]\n"
     ]
    }
   ],
   "source": [
    "print(f'x1Test: {x1TVals}, {x1TVal}, {[int(i) for i in x1TVal]}')\n",
    "print(f'x2Test: {x2TVals}, {x2TVal}, {[int(i) for i in x2TVal]}')\n",
    "print(f'cinTest: {cinTVals}, {cinTVal}, {[int(i) for i in cinTVal]}')"
   ]
  },
  {
   "cell_type": "code",
   "execution_count": 34,
   "metadata": {},
   "outputs": [
    {
     "name": "stdout",
     "output_type": "stream",
     "text": [
      "<class 'myhdl._Signal._Signal'> <class '_ast.Name'>\n",
      "<class 'myhdl._Signal._Signal'> <class '_ast.Name'>\n",
      "<class 'myhdl._Signal._Signal'> <class '_ast.Name'>\n",
      "<class 'myhdl._Signal._Signal'> <class '_ast.Name'>\n",
      "<class 'myhdl._Signal._Signal'> <class '_ast.Name'>\n",
      "***Verilog modual from FullAdderViaHAs_TBV.v***\n",
      "\n",
      " // File: FullAdderViaHAs_TBV.v\n",
      "// Generated by MyHDL 0.10\n",
      "// Date: Tue Aug 21 12:52:20 2018\n",
      "\n",
      "\n",
      "`timescale 1ns/10ps\n",
      "\n",
      "module FullAdderViaHAs_TBV (\n",
      "\n",
      ");\n",
      "// myHDL -> Verilog Testbench for module \"FullAdderViaHAs\"\n",
      "\n",
      "\n",
      "reg x1 = 0;\n",
      "reg x2 = 0;\n",
      "wire s;\n",
      "wire c;\n",
      "wire [7:0] x1TVals;\n",
      "wire [7:0] x2TVals;\n",
      "reg cin = 0;\n",
      "wire [7:0] cinTVals;\n",
      "wire FullAdderViaHAs0_0_s_HA1HA2;\n",
      "wire FullAdderViaHAs0_0_c_HA1CL;\n",
      "wire FullAdderViaHAs0_0_c_HA2CL;\n",
      "\n",
      "assign x1TVals = 8'd15;\n",
      "assign x2TVals = 8'd51;\n",
      "assign cinTVals = 8'd85;\n",
      "\n",
      "\n",
      "always @(x2, c, s, cin, x1) begin: FULLADDERVIAHAS_TBV_PRINT_DATA\n",
      "    $write(\"%h\", x1);\n",
      "    $write(\" \");\n",
      "    $write(\"%h\", x2);\n",
      "    $write(\" \");\n",
      "    $write(\"%h\", cin);\n",
      "    $write(\" \");\n",
      "    $write(\"%h\", s);\n",
      "    $write(\" \");\n",
      "    $write(\"%h\", c);\n",
      "    $write(\"\\n\");\n",
      "end\n",
      "\n",
      "\n",
      "\n",
      "assign FullAdderViaHAs0_0_s_HA1HA2 = (x1 ^ x2);\n",
      "assign FullAdderViaHAs0_0_c_HA1CL = (x1 & x2);\n",
      "\n",
      "\n",
      "\n",
      "assign s = (cin ^ FullAdderViaHAs0_0_s_HA1HA2);\n",
      "assign FullAdderViaHAs0_0_c_HA2CL = (cin & FullAdderViaHAs0_0_s_HA1HA2);\n",
      "\n",
      "\n",
      "\n",
      "assign c = (FullAdderViaHAs0_0_c_HA1CL | FullAdderViaHAs0_0_c_HA2CL);\n",
      "\n",
      "\n",
      "initial begin: FULLADDERVIAHAS_TBV_STIMULES\n",
      "    integer i;\n",
      "    for (i=0; i<8; i=i+1) begin\n",
      "        x1 <= x1TVals[i];\n",
      "        x2 <= x2TVals[i];\n",
      "        cin <= cinTVals[i];\n",
      "        # 1;\n",
      "    end\n",
      "    $finish;\n",
      "end\n",
      "\n",
      "endmodule\n",
      "\n"
     ]
    },
    {
     "name": "stderr",
     "output_type": "stream",
     "text": [
      "/home/iridium/anaconda3/lib/python3.6/site-packages/myhdl/conversion/_toVerilog.py:349: ToVerilogWarning: Signal is not driven: x1TVals\n",
      "  category=ToVerilogWarning\n",
      "/home/iridium/anaconda3/lib/python3.6/site-packages/myhdl/conversion/_toVerilog.py:349: ToVerilogWarning: Signal is not driven: x2TVals\n",
      "  category=ToVerilogWarning\n",
      "/home/iridium/anaconda3/lib/python3.6/site-packages/myhdl/conversion/_toVerilog.py:349: ToVerilogWarning: Signal is not driven: cinTVals\n",
      "  category=ToVerilogWarning\n"
     ]
    }
   ],
   "source": [
    "@block\n",
    "def FullAdderViaHAs_TBV():\n",
    "    \"\"\"\n",
    "    myHDL -> Verilog Testbench for module \"FullAdderViaHAs\"\n",
    "    \"\"\"\n",
    "    x1=Signal(bool(0))\n",
    "    x2=Signal(bool(0))\n",
    "    cin=Signal(bool(0))\n",
    "    s=Signal(bool(0))\n",
    "    c=Signal(bool(0))\n",
    "    \n",
    "    #test stimuli\n",
    "    x1TVals=Signal(x1TVal)\n",
    "    x2TVals=Signal(x2TVal)\n",
    "    cinTVals=Signal(cinTVal)\n",
    "    \n",
    "    @always_comb\n",
    "    def print_data():\n",
    "        print(x1, x2, cin, s, c)\n",
    "\n",
    "    DUT=FullAdderViaHAs(x1, x2, cin, s, c)\n",
    "\n",
    "    @instance\n",
    "    def stimules():\n",
    "        for i in range(len(x1TVal)):\n",
    "            x1.next=x1TVals[i]; x2.next=x2TVals[i]; cin.next=cinTVals[i]\n",
    "            yield delay(1)\n",
    "        \n",
    "        raise StopSimulation()\n",
    "    \n",
    "    return instances()\n",
    "\n",
    "TB=FullAdderViaHAs_TBV()\n",
    "TB.convert(hdl=\"Verilog\", initial_values=True)\n",
    "VerilogTextReader('FullAdderViaHAs_TBV');"
   ]
  },
  {
   "cell_type": "markdown",
   "metadata": {},
   "source": [
    "# 4 Bit Ripple Carry "
   ]
  },
  {
   "cell_type": "markdown",
   "metadata": {},
   "source": [
    "## myHDL Code"
   ]
  },
  {
   "cell_type": "code",
   "execution_count": 35,
   "metadata": {},
   "outputs": [],
   "source": [
    "@block\n",
    "def RippleCarry4Bit(X1, X2, cin, S, c):\n",
    "    \"\"\"\n",
    "    4 Bit Ripple Carray Adder\n",
    "    Input:\n",
    "    Output:\n",
    "    \"\"\"\n",
    "    \n",
    "    S_i = [Signal(bool(0)) for _ in range(len(S))]   # Sum bit for each stage.\n",
    "    \n",
    "    #create intercontect wire between FA0 and FA1 and intialze FA0 and wire up\n",
    "    c_FA0FA1=Signal(bool(0))\n",
    "    FA0=FullAdder(x1=X1(0), x2=X2(0), cin=cin, s=S_i[0], c=c_FA0FA1)\n",
    "    \n",
    "    c_FA1FA2=Signal(bool(0))\n",
    "    FA1=FullAdder(x1=X1(1), x2=X2(1), cin=c_FA0FA1, s=S_i[1], c=c_FA1FA2)\n",
    "    \n",
    "    c_FA2FA3=Signal(bool(0))\n",
    "    FA2=FullAdder(x1=X1(2), x2=X2(2), cin=c_FA1FA2, s=S_i[2], c=c_FA2FA3)\n",
    "    \n",
    "    FA3=FullAdder(x1=X1(3), x2=X2(3), cin=c_FA2FA3, s=S_i[3], c=c)\n",
    "\n",
    "    #concat bus wires to single bitvec wire\n",
    "    @always_comb\n",
    "    def ConCatSum():\n",
    "        S.next=concat(S_i[3], S_i[2], S_i[1], S_i[0])\n",
    "\n",
    "    \n",
    "    return instances()"
   ]
  },
  {
   "cell_type": "markdown",
   "metadata": {},
   "source": [
    "## myHDL Testing"
   ]
  },
  {
   "cell_type": "code",
   "execution_count": 36,
   "metadata": {},
   "outputs": [
    {
     "name": "stdout",
     "output_type": "stream",
     "text": [
      "[11 11  6 13  1  2  3  3 12  0  6  1  4  5 13  9]\n",
      "[ 2 11  6 10  0  5  8 12 13  2  9  3 14  4  3  1]\n",
      "[0 1 1 0 0 0 0 0 0 0 1 1 1 1 0 0]\n"
     ]
    }
   ],
   "source": [
    "BitSize=4\n",
    "np.random.seed(12)\n",
    "X1TVals=np.random.randint(0, 2**BitSize, 2**BitSize)\n",
    "X2TVals=np.random.randint(0, 2**BitSize, 2**BitSize)\n",
    "cinTVals=np.random.randint(0,2,2**BitSize)\n",
    "\n",
    "print(X1TVals)\n",
    "print(X2TVals)\n",
    "print(cinTVals)"
   ]
  },
  {
   "cell_type": "code",
   "execution_count": 37,
   "metadata": {},
   "outputs": [],
   "source": [
    "Peeker.clear()\n",
    "X1=Signal(intbv(0)[BitSize:]); Peeker(X1, 'X1')\n",
    "X2=Signal(intbv(0)[BitSize:]); Peeker(X2, 'X2')\n",
    "cin=Signal(bool(0)); Peeker(cin, 'cin')\n",
    "S=Signal(intbv(0)[BitSize:]); Peeker(S, 'S')\n",
    "c=Signal(bool(0)); Peeker(c, 'c')\n",
    "\n",
    "DUT = RippleCarry4Bit(X1=X1, X2=X2, cin=cin, S=S, c=c)\n",
    "\n",
    "def RippleCarry4Bit_TB():\n",
    "    @instance\n",
    "    def stimules():\n",
    "        for i in range(len(X1TVals)):\n",
    "            X1.next=int(X1TVals[i])\n",
    "            X2.next=int(X2TVals[i])\n",
    "            cin.next=int(cinTVals[i])\n",
    "            yield delay(1)\n",
    "        \n",
    "        raise StopSimulation()\n",
    "\n",
    "    return instances()\n",
    "    \n",
    "    \n",
    "sim=Simulation(DUT, RippleCarry4Bit_TB(), *Peeker.instances()).run()"
   ]
  },
  {
   "cell_type": "code",
   "execution_count": 38,
   "metadata": {},
   "outputs": [
    {
     "data": {
      "text/html": [
       "<div><script type=\"WaveDrom\">{\"signal\": [{\"name\": \"cin\", \"wave\": \"01.0......1...0.\"}, {\"name\": \"X1\", \"wave\": \"=.=====.========\", \"data\": [\"11\", \"6\", \"d\", \"1\", \"2\", \"3\", \"c\", \"0\", \"6\", \"1\", \"4\", \"5\", \"d\", \"9\"]}, {}, {\"name\": \"S\", \"wave\": \"================\", \"data\": [\"13\", \"7\", \"d\", \"7\", \"1\", \"7\", \"b\", \"f\", \"9\", \"2\", \"0\", \"5\", \"3\", \"a\", \"0\", \"10\"]}, {\"name\": \"c\", \"wave\": \"01010...10101010\"}]}</script></div>"
      ]
     },
     "metadata": {},
     "output_type": "display_data"
    },
    {
     "data": {
      "application/javascript": [
       "$.getScript(\"http://wavedrom.com/wavedrom.min.js\", function () {\n",
       "$.getScript(\"http://wavedrom.com/skins/default.js\", function () {\n",
       "WaveDrom.ProcessAll();});\n",
       "});\n"
      ]
     },
     "metadata": {},
     "output_type": "display_data"
    }
   ],
   "source": [
    "Peeker.to_wavedrom('cin', 'X1', 'X2', 'S', 'c')"
   ]
  },
  {
   "cell_type": "code",
   "execution_count": 39,
   "metadata": {},
   "outputs": [
    {
     "data": {
      "text/html": [
       "<div>\n",
       "<style scoped>\n",
       "    .dataframe tbody tr th:only-of-type {\n",
       "        vertical-align: middle;\n",
       "    }\n",
       "\n",
       "    .dataframe tbody tr th {\n",
       "        vertical-align: top;\n",
       "    }\n",
       "\n",
       "    .dataframe thead th {\n",
       "        text-align: right;\n",
       "    }\n",
       "</style>\n",
       "<table border=\"1\" class=\"dataframe\">\n",
       "  <thead>\n",
       "    <tr style=\"text-align: right;\">\n",
       "      <th></th>\n",
       "      <th>cin</th>\n",
       "      <th>X1</th>\n",
       "      <th>X2</th>\n",
       "      <th>S</th>\n",
       "      <th>c</th>\n",
       "    </tr>\n",
       "  </thead>\n",
       "  <tbody>\n",
       "    <tr>\n",
       "      <th>0</th>\n",
       "      <td>0</td>\n",
       "      <td>11</td>\n",
       "      <td>2</td>\n",
       "      <td>13</td>\n",
       "      <td>0</td>\n",
       "    </tr>\n",
       "    <tr>\n",
       "      <th>1</th>\n",
       "      <td>1</td>\n",
       "      <td>11</td>\n",
       "      <td>11</td>\n",
       "      <td>7</td>\n",
       "      <td>1</td>\n",
       "    </tr>\n",
       "    <tr>\n",
       "      <th>2</th>\n",
       "      <td>1</td>\n",
       "      <td>6</td>\n",
       "      <td>6</td>\n",
       "      <td>13</td>\n",
       "      <td>0</td>\n",
       "    </tr>\n",
       "    <tr>\n",
       "      <th>3</th>\n",
       "      <td>0</td>\n",
       "      <td>13</td>\n",
       "      <td>10</td>\n",
       "      <td>7</td>\n",
       "      <td>1</td>\n",
       "    </tr>\n",
       "    <tr>\n",
       "      <th>4</th>\n",
       "      <td>0</td>\n",
       "      <td>1</td>\n",
       "      <td>0</td>\n",
       "      <td>1</td>\n",
       "      <td>0</td>\n",
       "    </tr>\n",
       "    <tr>\n",
       "      <th>5</th>\n",
       "      <td>0</td>\n",
       "      <td>2</td>\n",
       "      <td>5</td>\n",
       "      <td>7</td>\n",
       "      <td>0</td>\n",
       "    </tr>\n",
       "    <tr>\n",
       "      <th>6</th>\n",
       "      <td>0</td>\n",
       "      <td>3</td>\n",
       "      <td>8</td>\n",
       "      <td>11</td>\n",
       "      <td>0</td>\n",
       "    </tr>\n",
       "    <tr>\n",
       "      <th>7</th>\n",
       "      <td>0</td>\n",
       "      <td>3</td>\n",
       "      <td>12</td>\n",
       "      <td>15</td>\n",
       "      <td>0</td>\n",
       "    </tr>\n",
       "    <tr>\n",
       "      <th>8</th>\n",
       "      <td>0</td>\n",
       "      <td>12</td>\n",
       "      <td>13</td>\n",
       "      <td>9</td>\n",
       "      <td>1</td>\n",
       "    </tr>\n",
       "    <tr>\n",
       "      <th>9</th>\n",
       "      <td>0</td>\n",
       "      <td>0</td>\n",
       "      <td>2</td>\n",
       "      <td>2</td>\n",
       "      <td>0</td>\n",
       "    </tr>\n",
       "    <tr>\n",
       "      <th>10</th>\n",
       "      <td>1</td>\n",
       "      <td>6</td>\n",
       "      <td>9</td>\n",
       "      <td>0</td>\n",
       "      <td>1</td>\n",
       "    </tr>\n",
       "    <tr>\n",
       "      <th>11</th>\n",
       "      <td>1</td>\n",
       "      <td>1</td>\n",
       "      <td>3</td>\n",
       "      <td>5</td>\n",
       "      <td>0</td>\n",
       "    </tr>\n",
       "    <tr>\n",
       "      <th>12</th>\n",
       "      <td>1</td>\n",
       "      <td>4</td>\n",
       "      <td>14</td>\n",
       "      <td>3</td>\n",
       "      <td>1</td>\n",
       "    </tr>\n",
       "    <tr>\n",
       "      <th>13</th>\n",
       "      <td>1</td>\n",
       "      <td>5</td>\n",
       "      <td>4</td>\n",
       "      <td>10</td>\n",
       "      <td>0</td>\n",
       "    </tr>\n",
       "    <tr>\n",
       "      <th>14</th>\n",
       "      <td>0</td>\n",
       "      <td>13</td>\n",
       "      <td>3</td>\n",
       "      <td>0</td>\n",
       "      <td>1</td>\n",
       "    </tr>\n",
       "    <tr>\n",
       "      <th>15</th>\n",
       "      <td>0</td>\n",
       "      <td>9</td>\n",
       "      <td>1</td>\n",
       "      <td>10</td>\n",
       "      <td>0</td>\n",
       "    </tr>\n",
       "  </tbody>\n",
       "</table>\n",
       "</div>"
      ],
      "text/plain": [
       "    cin  X1  X2   S  c\n",
       "0     0  11   2  13  0\n",
       "1     1  11  11   7  1\n",
       "2     1   6   6  13  0\n",
       "3     0  13  10   7  1\n",
       "4     0   1   0   1  0\n",
       "5     0   2   5   7  0\n",
       "6     0   3   8  11  0\n",
       "7     0   3  12  15  0\n",
       "8     0  12  13   9  1\n",
       "9     0   0   2   2  0\n",
       "10    1   6   9   0  1\n",
       "11    1   1   3   5  0\n",
       "12    1   4  14   3  1\n",
       "13    1   5   4  10  0\n",
       "14    0  13   3   0  1\n",
       "15    0   9   1  10  0"
      ]
     },
     "execution_count": 39,
     "metadata": {},
     "output_type": "execute_result"
    }
   ],
   "source": [
    "RC4BData=Peeker.to_dataframe()\n",
    "RC4BData=RC4BData[['cin', 'X1', 'X2', 'S', 'c']]\n",
    "RC4BData"
   ]
  },
  {
   "cell_type": "code",
   "execution_count": 40,
   "metadata": {},
   "outputs": [
    {
     "data": {
      "text/html": [
       "<div>\n",
       "<style scoped>\n",
       "    .dataframe tbody tr th:only-of-type {\n",
       "        vertical-align: middle;\n",
       "    }\n",
       "\n",
       "    .dataframe tbody tr th {\n",
       "        vertical-align: top;\n",
       "    }\n",
       "\n",
       "    .dataframe thead th {\n",
       "        text-align: right;\n",
       "    }\n",
       "</style>\n",
       "<table border=\"1\" class=\"dataframe\">\n",
       "  <thead>\n",
       "    <tr style=\"text-align: right;\">\n",
       "      <th></th>\n",
       "      <th>cin</th>\n",
       "      <th>X1</th>\n",
       "      <th>X2</th>\n",
       "      <th>S</th>\n",
       "      <th>c</th>\n",
       "      <th>SCheck</th>\n",
       "      <th>cCheck</th>\n",
       "    </tr>\n",
       "  </thead>\n",
       "  <tbody>\n",
       "    <tr>\n",
       "      <th>0</th>\n",
       "      <td>0</td>\n",
       "      <td>11</td>\n",
       "      <td>2</td>\n",
       "      <td>13</td>\n",
       "      <td>0</td>\n",
       "      <td>13</td>\n",
       "      <td>0</td>\n",
       "    </tr>\n",
       "    <tr>\n",
       "      <th>1</th>\n",
       "      <td>1</td>\n",
       "      <td>11</td>\n",
       "      <td>11</td>\n",
       "      <td>7</td>\n",
       "      <td>1</td>\n",
       "      <td>7</td>\n",
       "      <td>1</td>\n",
       "    </tr>\n",
       "    <tr>\n",
       "      <th>2</th>\n",
       "      <td>1</td>\n",
       "      <td>6</td>\n",
       "      <td>6</td>\n",
       "      <td>13</td>\n",
       "      <td>0</td>\n",
       "      <td>13</td>\n",
       "      <td>0</td>\n",
       "    </tr>\n",
       "    <tr>\n",
       "      <th>3</th>\n",
       "      <td>0</td>\n",
       "      <td>13</td>\n",
       "      <td>10</td>\n",
       "      <td>7</td>\n",
       "      <td>1</td>\n",
       "      <td>7</td>\n",
       "      <td>1</td>\n",
       "    </tr>\n",
       "    <tr>\n",
       "      <th>4</th>\n",
       "      <td>0</td>\n",
       "      <td>1</td>\n",
       "      <td>0</td>\n",
       "      <td>1</td>\n",
       "      <td>0</td>\n",
       "      <td>1</td>\n",
       "      <td>0</td>\n",
       "    </tr>\n",
       "    <tr>\n",
       "      <th>5</th>\n",
       "      <td>0</td>\n",
       "      <td>2</td>\n",
       "      <td>5</td>\n",
       "      <td>7</td>\n",
       "      <td>0</td>\n",
       "      <td>7</td>\n",
       "      <td>0</td>\n",
       "    </tr>\n",
       "    <tr>\n",
       "      <th>6</th>\n",
       "      <td>0</td>\n",
       "      <td>3</td>\n",
       "      <td>8</td>\n",
       "      <td>11</td>\n",
       "      <td>0</td>\n",
       "      <td>11</td>\n",
       "      <td>0</td>\n",
       "    </tr>\n",
       "    <tr>\n",
       "      <th>7</th>\n",
       "      <td>0</td>\n",
       "      <td>3</td>\n",
       "      <td>12</td>\n",
       "      <td>15</td>\n",
       "      <td>0</td>\n",
       "      <td>15</td>\n",
       "      <td>0</td>\n",
       "    </tr>\n",
       "    <tr>\n",
       "      <th>8</th>\n",
       "      <td>0</td>\n",
       "      <td>12</td>\n",
       "      <td>13</td>\n",
       "      <td>9</td>\n",
       "      <td>1</td>\n",
       "      <td>9</td>\n",
       "      <td>1</td>\n",
       "    </tr>\n",
       "    <tr>\n",
       "      <th>9</th>\n",
       "      <td>0</td>\n",
       "      <td>0</td>\n",
       "      <td>2</td>\n",
       "      <td>2</td>\n",
       "      <td>0</td>\n",
       "      <td>2</td>\n",
       "      <td>0</td>\n",
       "    </tr>\n",
       "    <tr>\n",
       "      <th>10</th>\n",
       "      <td>1</td>\n",
       "      <td>6</td>\n",
       "      <td>9</td>\n",
       "      <td>0</td>\n",
       "      <td>1</td>\n",
       "      <td>0</td>\n",
       "      <td>1</td>\n",
       "    </tr>\n",
       "    <tr>\n",
       "      <th>11</th>\n",
       "      <td>1</td>\n",
       "      <td>1</td>\n",
       "      <td>3</td>\n",
       "      <td>5</td>\n",
       "      <td>0</td>\n",
       "      <td>5</td>\n",
       "      <td>0</td>\n",
       "    </tr>\n",
       "    <tr>\n",
       "      <th>12</th>\n",
       "      <td>1</td>\n",
       "      <td>4</td>\n",
       "      <td>14</td>\n",
       "      <td>3</td>\n",
       "      <td>1</td>\n",
       "      <td>3</td>\n",
       "      <td>1</td>\n",
       "    </tr>\n",
       "    <tr>\n",
       "      <th>13</th>\n",
       "      <td>1</td>\n",
       "      <td>5</td>\n",
       "      <td>4</td>\n",
       "      <td>10</td>\n",
       "      <td>0</td>\n",
       "      <td>10</td>\n",
       "      <td>0</td>\n",
       "    </tr>\n",
       "    <tr>\n",
       "      <th>14</th>\n",
       "      <td>0</td>\n",
       "      <td>13</td>\n",
       "      <td>3</td>\n",
       "      <td>0</td>\n",
       "      <td>1</td>\n",
       "      <td>0</td>\n",
       "      <td>1</td>\n",
       "    </tr>\n",
       "    <tr>\n",
       "      <th>15</th>\n",
       "      <td>0</td>\n",
       "      <td>9</td>\n",
       "      <td>1</td>\n",
       "      <td>10</td>\n",
       "      <td>0</td>\n",
       "      <td>10</td>\n",
       "      <td>0</td>\n",
       "    </tr>\n",
       "  </tbody>\n",
       "</table>\n",
       "</div>"
      ],
      "text/plain": [
       "    cin  X1  X2   S  c  SCheck  cCheck\n",
       "0     0  11   2  13  0      13       0\n",
       "1     1  11  11   7  1       7       1\n",
       "2     1   6   6  13  0      13       0\n",
       "3     0  13  10   7  1       7       1\n",
       "4     0   1   0   1  0       1       0\n",
       "5     0   2   5   7  0       7       0\n",
       "6     0   3   8  11  0      11       0\n",
       "7     0   3  12  15  0      15       0\n",
       "8     0  12  13   9  1       9       1\n",
       "9     0   0   2   2  0       2       0\n",
       "10    1   6   9   0  1       0       1\n",
       "11    1   1   3   5  0       5       0\n",
       "12    1   4  14   3  1       3       1\n",
       "13    1   5   4  10  0      10       0\n",
       "14    0  13   3   0  1       0       1\n",
       "15    0   9   1  10  0      10       0"
      ]
     },
     "execution_count": 40,
     "metadata": {},
     "output_type": "execute_result"
    }
   ],
   "source": [
    "def RC4B_SCheck(cin, X1, X2):\n",
    "    S=cin+X1+X2\n",
    "    if S<16:\n",
    "        return S\n",
    "    else:\n",
    "        return S-16\n",
    "def RC4B_cCheck(cin, X1, X2):\n",
    "    S=cin+X1+X2\n",
    "    if S<16:\n",
    "        return 0\n",
    "    else:\n",
    "        return 1\n",
    "\n",
    "RC4BData['SCheck']=RC4BData.apply(lambda row: RC4B_SCheck(row['cin'], row['X1'], row['X2']), axis=1)\n",
    "RC4BData['cCheck']=RC4BData.apply(lambda row: RC4B_cCheck(row['cin'], row['X1'], row['X2']), axis=1)\n",
    "RC4BData"
   ]
  },
  {
   "cell_type": "code",
   "execution_count": 41,
   "metadata": {},
   "outputs": [
    {
     "name": "stdout",
     "output_type": "stream",
     "text": [
      "Sum Result Check: True; Carry Result Check: True\n"
     ]
    }
   ],
   "source": [
    "SumCheck=(RC4BData['S']==RC4BData['SCheck']).all()\n",
    "CarryCheck=(RC4BData['c']==RC4BData['cCheck']).all()\n",
    "print(f'Sum Result Check: {SumCheck}; Carry Result Check: {CarryCheck}')"
   ]
  },
  {
   "cell_type": "code",
   "execution_count": 42,
   "metadata": {},
   "outputs": [
    {
     "name": "stdout",
     "output_type": "stream",
     "text": [
      "***Verilog modual from RippleCarry4Bit.v***\n",
      "\n",
      " // File: RippleCarry4Bit.v\n",
      "// Generated by MyHDL 0.10\n",
      "// Date: Tue Aug 21 12:52:22 2018\n",
      "\n",
      "\n",
      "`timescale 1ns/10ps\n",
      "\n",
      "module RippleCarry4Bit (\n",
      "    X1,\n",
      "    X2,\n",
      "    cin,\n",
      "    S,\n",
      "    c\n",
      ");\n",
      "// 4 Bit Ripple Carray Adder\n",
      "// Input:\n",
      "// Output:\n",
      "\n",
      "input [3:0] X1;\n",
      "input [3:0] X2;\n",
      "input cin;\n",
      "output [3:0] S;\n",
      "wire [3:0] S;\n",
      "output c;\n",
      "wire c;\n",
      "\n",
      "wire c_FA0FA1;\n",
      "wire FullAdder1_0_c;\n",
      "wire FullAdder2_c;\n",
      "wire S_i [0:4-1];\n",
      "\n",
      "\n",
      "\n",
      "\n",
      "assign S_i[0] = ((X1[0] ^ X2[0]) ^ cin);\n",
      "assign c_FA0FA1 = (((X1[0] & X2[0]) | (X1[0] & cin)) | (X2[0] & cin));\n",
      "\n",
      "\n",
      "\n",
      "assign S_i[1] = ((X1[1] ^ X2[1]) ^ c_FA0FA1);\n",
      "assign FullAdder1_0_c = (((X1[1] & X2[1]) | (X1[1] & c_FA0FA1)) | (X2[1] & c_FA0FA1));\n",
      "\n",
      "\n",
      "\n",
      "assign S_i[2] = ((X1[2] ^ X2[2]) ^ FullAdder1_0_c);\n",
      "assign FullAdder2_c = (((X1[2] & X2[2]) | (X1[2] & FullAdder1_0_c)) | (X2[2] & FullAdder1_0_c));\n",
      "\n",
      "\n",
      "\n",
      "assign S_i[3] = ((X1[3] ^ X2[3]) ^ FullAdder2_c);\n",
      "assign c = (((X1[3] & X2[3]) | (X1[3] & FullAdder2_c)) | (X2[3] & FullAdder2_c));\n",
      "\n",
      "\n",
      "\n",
      "assign S = {S_i[3], S_i[2], S_i[1], S_i[0]};\n",
      "\n",
      "endmodule\n",
      "\n"
     ]
    }
   ],
   "source": [
    "DUT.convert()\n",
    "VerilogTextReader('RippleCarry4Bit');"
   ]
  },
  {
   "cell_type": "markdown",
   "metadata": {},
   "source": [
    "## Verilog Testbench"
   ]
  },
  {
   "cell_type": "markdown",
   "metadata": {},
   "source": [
    "### Conversion Issue \n",
    "Values are not beeing set to `X1TVals` and `X1TVals` in `RippleCarry4Bit_TBV` thus the running the simultion results in High **Z** values for each time stamp"
   ]
  },
  {
   "cell_type": "code",
   "execution_count": 43,
   "metadata": {
    "code_folding": []
   },
   "outputs": [
    {
     "name": "stdout",
     "output_type": "stream",
     "text": [
      "[intbv(11), intbv(11), intbv(6), intbv(13), intbv(1), intbv(2), intbv(3), intbv(3), intbv(12), intbv(0), intbv(6), intbv(1), intbv(4), intbv(5), intbv(13), intbv(9)]\n",
      "[intbv(2), intbv(11), intbv(6), intbv(10), intbv(0), intbv(5), intbv(8), intbv(12), intbv(13), intbv(2), intbv(9), intbv(3), intbv(14), intbv(4), intbv(3), intbv(1)]\n",
      "603c\n"
     ]
    }
   ],
   "source": [
    "X1TVal=[intbv(int(i))[BitSize:] for i in X1TVals]\n",
    "X2TVal=[intbv(int(i))[BitSize:] for i in X2TVals]\n",
    "cinTVal=intbv(int(''.join([str(i) for i in cinTVals]), 2))[len(cinTVals):]\n",
    "\n",
    "print(X1TVal)\n",
    "print(X2TVal)\n",
    "print(cinTVal)"
   ]
  },
  {
   "cell_type": "code",
   "execution_count": 44,
   "metadata": {
    "scrolled": false
   },
   "outputs": [
    {
     "name": "stdout",
     "output_type": "stream",
     "text": [
      "<class 'myhdl._Signal._Signal'> <class '_ast.Name'>\n",
      "<class 'myhdl._Signal._Signal'> <class '_ast.Name'>\n",
      "<class 'myhdl._Signal._Signal'> <class '_ast.Name'>\n",
      "<class 'myhdl._Signal._Signal'> <class '_ast.Name'>\n",
      "<class 'myhdl._Signal._Signal'> <class '_ast.Name'>\n",
      "***Verilog modual from RippleCarry4Bit_TBV.v***\n",
      "\n",
      " // File: RippleCarry4Bit_TBV.v\n",
      "// Generated by MyHDL 0.10\n",
      "// Date: Tue Aug 21 12:52:25 2018\n",
      "\n",
      "\n",
      "`timescale 1ns/10ps\n",
      "\n",
      "module RippleCarry4Bit_TBV (\n",
      "\n",
      ");\n",
      "// myHDL -> Verilog Testbench for module \"FullAdderViaHAs\"\n",
      "\n",
      "\n",
      "wire [3:0] S;\n",
      "wire c;\n",
      "reg cin = 0;\n",
      "wire [15:0] cinTVals;\n",
      "reg [3:0] X1 = 0;\n",
      "reg [3:0] X2 = 0;\n",
      "wire RippleCarry4Bit0_0_c_FA0FA1;\n",
      "wire RippleCarry4Bit0_0_FullAdder1_0_1_c;\n",
      "wire RippleCarry4Bit0_0_FullAdder2_0_c;\n",
      "wire [3:0] X1TVals [0:16-1];\n",
      "wire [3:0] X2TVals [0:16-1];\n",
      "wire RippleCarry4Bit0_0_S_i [0:4-1];\n",
      "\n",
      "assign cinTVals = 16'd24636;\n",
      "\n",
      "\n",
      "always @(c, X1, cin, X2, S) begin: RIPPLECARRY4BIT_TBV_PRINT_DATA\n",
      "    $write(\"%h\", X1);\n",
      "    $write(\" \");\n",
      "    $write(\"%h\", X2);\n",
      "    $write(\" \");\n",
      "    $write(\"%h\", cin);\n",
      "    $write(\" \");\n",
      "    $write(\"%h\", S);\n",
      "    $write(\" \");\n",
      "    $write(\"%h\", c);\n",
      "    $write(\"\\n\");\n",
      "end\n",
      "\n",
      "\n",
      "\n",
      "assign RippleCarry4Bit0_0_S_i[0] = ((X1[0] ^ X2[0]) ^ cin);\n",
      "assign RippleCarry4Bit0_0_c_FA0FA1 = (((X1[0] & X2[0]) | (X1[0] & cin)) | (X2[0] & cin));\n",
      "\n",
      "\n",
      "\n",
      "assign RippleCarry4Bit0_0_S_i[1] = ((X1[1] ^ X2[1]) ^ RippleCarry4Bit0_0_c_FA0FA1);\n",
      "assign RippleCarry4Bit0_0_FullAdder1_0_1_c = (((X1[1] & X2[1]) | (X1[1] & RippleCarry4Bit0_0_c_FA0FA1)) | (X2[1] & RippleCarry4Bit0_0_c_FA0FA1));\n",
      "\n",
      "\n",
      "\n",
      "assign RippleCarry4Bit0_0_S_i[2] = ((X1[2] ^ X2[2]) ^ RippleCarry4Bit0_0_FullAdder1_0_1_c);\n",
      "assign RippleCarry4Bit0_0_FullAdder2_0_c = (((X1[2] & X2[2]) | (X1[2] & RippleCarry4Bit0_0_FullAdder1_0_1_c)) | (X2[2] & RippleCarry4Bit0_0_FullAdder1_0_1_c));\n",
      "\n",
      "\n",
      "\n",
      "assign RippleCarry4Bit0_0_S_i[3] = ((X1[3] ^ X2[3]) ^ RippleCarry4Bit0_0_FullAdder2_0_c);\n",
      "assign c = (((X1[3] & X2[3]) | (X1[3] & RippleCarry4Bit0_0_FullAdder2_0_c)) | (X2[3] & RippleCarry4Bit0_0_FullAdder2_0_c));\n",
      "\n",
      "\n",
      "\n",
      "assign S = {RippleCarry4Bit0_0_S_i[3], RippleCarry4Bit0_0_S_i[2], RippleCarry4Bit0_0_S_i[1], RippleCarry4Bit0_0_S_i[0]};\n",
      "\n",
      "\n",
      "initial begin: RIPPLECARRY4BIT_TBV_STIMULES\n",
      "    integer i;\n",
      "    for (i=0; i<16; i=i+1) begin\n",
      "        X1 <= X1TVals[i];\n",
      "        X2 <= X2TVals[i];\n",
      "        cin <= cinTVals[i];\n",
      "        # 1;\n",
      "    end\n",
      "    $finish;\n",
      "end\n",
      "\n",
      "endmodule\n",
      "\n"
     ]
    },
    {
     "name": "stderr",
     "output_type": "stream",
     "text": [
      "/home/iridium/anaconda3/lib/python3.6/site-packages/myhdl/conversion/_toVerilog.py:349: ToVerilogWarning: Signal is not driven: cinTVals\n",
      "  category=ToVerilogWarning\n"
     ]
    }
   ],
   "source": [
    "@block\n",
    "def RippleCarry4Bit_TBV():\n",
    "    \"\"\"\n",
    "    myHDL -> Verilog Testbench for module \"FullAdderViaHAs\"\n",
    "    \"\"\"\n",
    "    X1=Signal(intbv(0)[BitSize:])\n",
    "    X2=Signal(intbv(0)[BitSize:])\n",
    "    cin=Signal(bool(0))\n",
    "    S=Signal(intbv(0)[BitSize:])\n",
    "    c=Signal(bool(0))\n",
    "\n",
    "    \n",
    "    #test stimuli\n",
    "    X1TVals=[Signal(i) for i in X1TVal]\n",
    "    X2TVals=[Signal(i) for i in X2TVal]\n",
    "    cinTVals=Signal(cinTVal)\n",
    "    \n",
    "    @always_comb\n",
    "    def print_data():\n",
    "        print(X1, X2, cin, S, c)\n",
    "\n",
    "    DUT=RippleCarry4Bit(X1=X1, X2=X2, cin=cin, S=S, c=c)\n",
    "\n",
    "    @instance\n",
    "    def stimules():\n",
    "        for i in range(len(X1TVals)):\n",
    "            X1.next=X1TVals[i]\n",
    "            X2.next=X2TVals[i]\n",
    "            cin.next=cinTVals[i]\n",
    "            yield delay(1)\n",
    "        \n",
    "        raise StopSimulation()\n",
    "\n",
    "    return instances()\n",
    "\n",
    "\n",
    "TB=RippleCarry4Bit_TBV()\n",
    "TB.convert(hdl=\"Verilog\", initial_values=True)\n",
    "VerilogTextReader('RippleCarry4Bit_TBV');"
   ]
  },
  {
   "cell_type": "markdown",
   "metadata": {},
   "source": [
    "# N Bit Ripple Carray Adder"
   ]
  },
  {
   "cell_type": "code",
   "execution_count": 45,
   "metadata": {},
   "outputs": [],
   "source": [
    "@block\n",
    "def RippleCarryNBit(X1, X2, cin, S, c):\n",
    "    \"\"\"\n",
    "    N Bit Ripple Carray Adder\n",
    "    Input:\n",
    "    Output:\n",
    "    \"\"\"\n",
    "    \n",
    "    S_i = [Signal(bool(0)) for _ in range(len(S))]   # Sum bit for each stage.\n",
    "    c_FAiFAj=[Signal(bool(0)) for _ in range(len(S)-1)]\n",
    "    \n",
    "    FAStages=[]\n",
    "    \n",
    "    for i in range(len(S)):\n",
    "        if i==0:\n",
    "            FAStages.append(FullAdder(x1=X1(i), x2=X2(i), cin=cin, s=S_i[i], c=c_FAiFAj[i]))\n",
    "        elif i<(len(S)-1):\n",
    "            FAStages.append(FullAdder(x1=X1(i), x2=X2(i), cin=c_FAiFAj[i-1], s=S_i[i], c=c_FAiFAj[i]))\n",
    "        else:\n",
    "            FAStages.append(FullAdder(x1=X1(i), x2=X2(i), cin=c_FAiFAj[i-1], s=S_i[i], c=c))\n",
    "\n",
    "\n",
    "\n",
    "    #concat bus wires to single bitvec wire\n",
    "    @always_comb\n",
    "    def ConCatSum():\n",
    "        S.next=concat(*reversed(S_i))\n",
    "\n",
    "    \n",
    "    return instances()"
   ]
  },
  {
   "cell_type": "markdown",
   "metadata": {},
   "source": [
    "## myHDL Testing"
   ]
  },
  {
   "cell_type": "code",
   "execution_count": 46,
   "metadata": {},
   "outputs": [
    {
     "name": "stdout",
     "output_type": "stream",
     "text": [
      "[14155 38555 58758 19709 40177 36482  9475 63427 12108 61872   278 57393\n",
      " 16308 49029 20109 20953]\n",
      "[41378  8651  9846  5194 63872 11637 17512 19660 48397 36946 57433  9507\n",
      "  4030 48228  4515 40353]\n",
      "[0 1 1 0 0 0 0 0 0 0 1 1 1 1 0 0]\n"
     ]
    }
   ],
   "source": [
    "BitSize=16\n",
    "np.random.seed(12)\n",
    "X1TVals=np.random.randint(0, 2**BitSize, 2**4)\n",
    "X2TVals=np.random.randint(0, 2**BitSize, 2**4)\n",
    "cinTVals=np.random.randint(0,2,2**4)\n",
    "\n",
    "print(X1TVals)\n",
    "print(X2TVals)\n",
    "print(cinTVals)"
   ]
  },
  {
   "cell_type": "code",
   "execution_count": 47,
   "metadata": {},
   "outputs": [],
   "source": [
    "Peeker.clear()\n",
    "X1=Signal(intbv(0)[BitSize:]); Peeker(X1, 'X1')\n",
    "X2=Signal(intbv(0)[BitSize:]); Peeker(X2, 'X2')\n",
    "cin=Signal(bool(0)); Peeker(cin, 'cin')\n",
    "S=Signal(intbv(0)[BitSize:]); Peeker(S, 'S')\n",
    "c=Signal(bool(0)); Peeker(c, 'c')\n",
    "\n",
    "DUT = RippleCarryNBit(X1=X1, X2=X2, cin=cin, S=S, c=c)\n",
    "\n",
    "def RippleCarryNBit_TB():\n",
    "    @instance\n",
    "    def stimules():\n",
    "        for i in range(len(X1TVals)):\n",
    "            X1.next=int(X1TVals[i])\n",
    "            X2.next=int(X2TVals[i])\n",
    "            cin.next=int(cinTVals[i])\n",
    "            yield delay(1)\n",
    "        \n",
    "        raise StopSimulation()\n",
    "\n",
    "    return instances()\n",
    "    \n",
    "    \n",
    "sim=Simulation(DUT, RippleCarryNBit_TB(), *Peeker.instances()).run()"
   ]
  },
  {
   "cell_type": "code",
   "execution_count": 48,
   "metadata": {},
   "outputs": [
    {
     "data": {
      "text/html": [
       "<div><script type=\"WaveDrom\">{\"signal\": [{\"name\": \"cin\", \"wave\": \"01.0......1...0.\"}, {\"name\": \"X1\", \"wave\": \"================\", \"data\": [\"14155\", \"969b\", \"e586\", \"4cfd\", \"9cf1\", \"8e82\", \"2503\", \"f7c3\", \"2f4c\", \"f1b0\", \"0116\", \"e031\", \"3fb4\", \"bf85\", \"4e8d\", \"20953\"]}, {}, {\"name\": \"S\", \"wave\": \"================\", \"data\": [\"55533\", \"b867\", \"0bfd\", \"6147\", \"9671\", \"bbf7\", \"696b\", \"448f\", \"ec59\", \"8202\", \"e170\", \"0555\", \"4f73\", \"7bea\", \"6030\", \"61306\"]}, {\"name\": \"c\", \"wave\": \"0.1010.10101010.\"}]}</script></div>"
      ]
     },
     "metadata": {},
     "output_type": "display_data"
    },
    {
     "data": {
      "application/javascript": [
       "$.getScript(\"http://wavedrom.com/wavedrom.min.js\", function () {\n",
       "$.getScript(\"http://wavedrom.com/skins/default.js\", function () {\n",
       "WaveDrom.ProcessAll();});\n",
       "});\n"
      ]
     },
     "metadata": {},
     "output_type": "display_data"
    }
   ],
   "source": [
    "Peeker.to_wavedrom('cin', 'X1', 'X2', 'S', 'c')"
   ]
  },
  {
   "cell_type": "code",
   "execution_count": 49,
   "metadata": {},
   "outputs": [
    {
     "data": {
      "text/html": [
       "<div>\n",
       "<style scoped>\n",
       "    .dataframe tbody tr th:only-of-type {\n",
       "        vertical-align: middle;\n",
       "    }\n",
       "\n",
       "    .dataframe tbody tr th {\n",
       "        vertical-align: top;\n",
       "    }\n",
       "\n",
       "    .dataframe thead th {\n",
       "        text-align: right;\n",
       "    }\n",
       "</style>\n",
       "<table border=\"1\" class=\"dataframe\">\n",
       "  <thead>\n",
       "    <tr style=\"text-align: right;\">\n",
       "      <th></th>\n",
       "      <th>cin</th>\n",
       "      <th>X1</th>\n",
       "      <th>X2</th>\n",
       "      <th>S</th>\n",
       "      <th>c</th>\n",
       "    </tr>\n",
       "  </thead>\n",
       "  <tbody>\n",
       "    <tr>\n",
       "      <th>0</th>\n",
       "      <td>0</td>\n",
       "      <td>14155</td>\n",
       "      <td>41378</td>\n",
       "      <td>55533</td>\n",
       "      <td>0</td>\n",
       "    </tr>\n",
       "    <tr>\n",
       "      <th>1</th>\n",
       "      <td>1</td>\n",
       "      <td>38555</td>\n",
       "      <td>8651</td>\n",
       "      <td>47207</td>\n",
       "      <td>0</td>\n",
       "    </tr>\n",
       "    <tr>\n",
       "      <th>2</th>\n",
       "      <td>1</td>\n",
       "      <td>58758</td>\n",
       "      <td>9846</td>\n",
       "      <td>3069</td>\n",
       "      <td>1</td>\n",
       "    </tr>\n",
       "    <tr>\n",
       "      <th>3</th>\n",
       "      <td>0</td>\n",
       "      <td>19709</td>\n",
       "      <td>5194</td>\n",
       "      <td>24903</td>\n",
       "      <td>0</td>\n",
       "    </tr>\n",
       "    <tr>\n",
       "      <th>4</th>\n",
       "      <td>0</td>\n",
       "      <td>40177</td>\n",
       "      <td>63872</td>\n",
       "      <td>38513</td>\n",
       "      <td>1</td>\n",
       "    </tr>\n",
       "    <tr>\n",
       "      <th>5</th>\n",
       "      <td>0</td>\n",
       "      <td>36482</td>\n",
       "      <td>11637</td>\n",
       "      <td>48119</td>\n",
       "      <td>0</td>\n",
       "    </tr>\n",
       "    <tr>\n",
       "      <th>6</th>\n",
       "      <td>0</td>\n",
       "      <td>9475</td>\n",
       "      <td>17512</td>\n",
       "      <td>26987</td>\n",
       "      <td>0</td>\n",
       "    </tr>\n",
       "    <tr>\n",
       "      <th>7</th>\n",
       "      <td>0</td>\n",
       "      <td>63427</td>\n",
       "      <td>19660</td>\n",
       "      <td>17551</td>\n",
       "      <td>1</td>\n",
       "    </tr>\n",
       "    <tr>\n",
       "      <th>8</th>\n",
       "      <td>0</td>\n",
       "      <td>12108</td>\n",
       "      <td>48397</td>\n",
       "      <td>60505</td>\n",
       "      <td>0</td>\n",
       "    </tr>\n",
       "    <tr>\n",
       "      <th>9</th>\n",
       "      <td>0</td>\n",
       "      <td>61872</td>\n",
       "      <td>36946</td>\n",
       "      <td>33282</td>\n",
       "      <td>1</td>\n",
       "    </tr>\n",
       "    <tr>\n",
       "      <th>10</th>\n",
       "      <td>1</td>\n",
       "      <td>278</td>\n",
       "      <td>57433</td>\n",
       "      <td>57712</td>\n",
       "      <td>0</td>\n",
       "    </tr>\n",
       "    <tr>\n",
       "      <th>11</th>\n",
       "      <td>1</td>\n",
       "      <td>57393</td>\n",
       "      <td>9507</td>\n",
       "      <td>1365</td>\n",
       "      <td>1</td>\n",
       "    </tr>\n",
       "    <tr>\n",
       "      <th>12</th>\n",
       "      <td>1</td>\n",
       "      <td>16308</td>\n",
       "      <td>4030</td>\n",
       "      <td>20339</td>\n",
       "      <td>0</td>\n",
       "    </tr>\n",
       "    <tr>\n",
       "      <th>13</th>\n",
       "      <td>1</td>\n",
       "      <td>49029</td>\n",
       "      <td>48228</td>\n",
       "      <td>31722</td>\n",
       "      <td>1</td>\n",
       "    </tr>\n",
       "    <tr>\n",
       "      <th>14</th>\n",
       "      <td>0</td>\n",
       "      <td>20109</td>\n",
       "      <td>4515</td>\n",
       "      <td>24624</td>\n",
       "      <td>0</td>\n",
       "    </tr>\n",
       "    <tr>\n",
       "      <th>15</th>\n",
       "      <td>0</td>\n",
       "      <td>20953</td>\n",
       "      <td>40353</td>\n",
       "      <td>61306</td>\n",
       "      <td>0</td>\n",
       "    </tr>\n",
       "  </tbody>\n",
       "</table>\n",
       "</div>"
      ],
      "text/plain": [
       "    cin     X1     X2      S  c\n",
       "0     0  14155  41378  55533  0\n",
       "1     1  38555   8651  47207  0\n",
       "2     1  58758   9846   3069  1\n",
       "3     0  19709   5194  24903  0\n",
       "4     0  40177  63872  38513  1\n",
       "5     0  36482  11637  48119  0\n",
       "6     0   9475  17512  26987  0\n",
       "7     0  63427  19660  17551  1\n",
       "8     0  12108  48397  60505  0\n",
       "9     0  61872  36946  33282  1\n",
       "10    1    278  57433  57712  0\n",
       "11    1  57393   9507   1365  1\n",
       "12    1  16308   4030  20339  0\n",
       "13    1  49029  48228  31722  1\n",
       "14    0  20109   4515  24624  0\n",
       "15    0  20953  40353  61306  0"
      ]
     },
     "execution_count": 49,
     "metadata": {},
     "output_type": "execute_result"
    }
   ],
   "source": [
    "RCNBData=Peeker.to_dataframe()\n",
    "RCNBData=RCNBData[['cin', 'X1', 'X2', 'S', 'c']]\n",
    "RCNBData"
   ]
  },
  {
   "cell_type": "code",
   "execution_count": 50,
   "metadata": {},
   "outputs": [
    {
     "data": {
      "text/html": [
       "<div>\n",
       "<style scoped>\n",
       "    .dataframe tbody tr th:only-of-type {\n",
       "        vertical-align: middle;\n",
       "    }\n",
       "\n",
       "    .dataframe tbody tr th {\n",
       "        vertical-align: top;\n",
       "    }\n",
       "\n",
       "    .dataframe thead th {\n",
       "        text-align: right;\n",
       "    }\n",
       "</style>\n",
       "<table border=\"1\" class=\"dataframe\">\n",
       "  <thead>\n",
       "    <tr style=\"text-align: right;\">\n",
       "      <th></th>\n",
       "      <th>cin</th>\n",
       "      <th>X1</th>\n",
       "      <th>X2</th>\n",
       "      <th>S</th>\n",
       "      <th>c</th>\n",
       "      <th>SCheck</th>\n",
       "      <th>cCheck</th>\n",
       "    </tr>\n",
       "  </thead>\n",
       "  <tbody>\n",
       "    <tr>\n",
       "      <th>0</th>\n",
       "      <td>0</td>\n",
       "      <td>14155</td>\n",
       "      <td>41378</td>\n",
       "      <td>55533</td>\n",
       "      <td>0</td>\n",
       "      <td>55533</td>\n",
       "      <td>0</td>\n",
       "    </tr>\n",
       "    <tr>\n",
       "      <th>1</th>\n",
       "      <td>1</td>\n",
       "      <td>38555</td>\n",
       "      <td>8651</td>\n",
       "      <td>47207</td>\n",
       "      <td>0</td>\n",
       "      <td>47207</td>\n",
       "      <td>0</td>\n",
       "    </tr>\n",
       "    <tr>\n",
       "      <th>2</th>\n",
       "      <td>1</td>\n",
       "      <td>58758</td>\n",
       "      <td>9846</td>\n",
       "      <td>3069</td>\n",
       "      <td>1</td>\n",
       "      <td>3069</td>\n",
       "      <td>1</td>\n",
       "    </tr>\n",
       "    <tr>\n",
       "      <th>3</th>\n",
       "      <td>0</td>\n",
       "      <td>19709</td>\n",
       "      <td>5194</td>\n",
       "      <td>24903</td>\n",
       "      <td>0</td>\n",
       "      <td>24903</td>\n",
       "      <td>0</td>\n",
       "    </tr>\n",
       "    <tr>\n",
       "      <th>4</th>\n",
       "      <td>0</td>\n",
       "      <td>40177</td>\n",
       "      <td>63872</td>\n",
       "      <td>38513</td>\n",
       "      <td>1</td>\n",
       "      <td>38513</td>\n",
       "      <td>1</td>\n",
       "    </tr>\n",
       "    <tr>\n",
       "      <th>5</th>\n",
       "      <td>0</td>\n",
       "      <td>36482</td>\n",
       "      <td>11637</td>\n",
       "      <td>48119</td>\n",
       "      <td>0</td>\n",
       "      <td>48119</td>\n",
       "      <td>0</td>\n",
       "    </tr>\n",
       "    <tr>\n",
       "      <th>6</th>\n",
       "      <td>0</td>\n",
       "      <td>9475</td>\n",
       "      <td>17512</td>\n",
       "      <td>26987</td>\n",
       "      <td>0</td>\n",
       "      <td>26987</td>\n",
       "      <td>0</td>\n",
       "    </tr>\n",
       "    <tr>\n",
       "      <th>7</th>\n",
       "      <td>0</td>\n",
       "      <td>63427</td>\n",
       "      <td>19660</td>\n",
       "      <td>17551</td>\n",
       "      <td>1</td>\n",
       "      <td>17551</td>\n",
       "      <td>1</td>\n",
       "    </tr>\n",
       "    <tr>\n",
       "      <th>8</th>\n",
       "      <td>0</td>\n",
       "      <td>12108</td>\n",
       "      <td>48397</td>\n",
       "      <td>60505</td>\n",
       "      <td>0</td>\n",
       "      <td>60505</td>\n",
       "      <td>0</td>\n",
       "    </tr>\n",
       "    <tr>\n",
       "      <th>9</th>\n",
       "      <td>0</td>\n",
       "      <td>61872</td>\n",
       "      <td>36946</td>\n",
       "      <td>33282</td>\n",
       "      <td>1</td>\n",
       "      <td>33282</td>\n",
       "      <td>1</td>\n",
       "    </tr>\n",
       "    <tr>\n",
       "      <th>10</th>\n",
       "      <td>1</td>\n",
       "      <td>278</td>\n",
       "      <td>57433</td>\n",
       "      <td>57712</td>\n",
       "      <td>0</td>\n",
       "      <td>57712</td>\n",
       "      <td>0</td>\n",
       "    </tr>\n",
       "    <tr>\n",
       "      <th>11</th>\n",
       "      <td>1</td>\n",
       "      <td>57393</td>\n",
       "      <td>9507</td>\n",
       "      <td>1365</td>\n",
       "      <td>1</td>\n",
       "      <td>1365</td>\n",
       "      <td>1</td>\n",
       "    </tr>\n",
       "    <tr>\n",
       "      <th>12</th>\n",
       "      <td>1</td>\n",
       "      <td>16308</td>\n",
       "      <td>4030</td>\n",
       "      <td>20339</td>\n",
       "      <td>0</td>\n",
       "      <td>20339</td>\n",
       "      <td>0</td>\n",
       "    </tr>\n",
       "    <tr>\n",
       "      <th>13</th>\n",
       "      <td>1</td>\n",
       "      <td>49029</td>\n",
       "      <td>48228</td>\n",
       "      <td>31722</td>\n",
       "      <td>1</td>\n",
       "      <td>31722</td>\n",
       "      <td>1</td>\n",
       "    </tr>\n",
       "    <tr>\n",
       "      <th>14</th>\n",
       "      <td>0</td>\n",
       "      <td>20109</td>\n",
       "      <td>4515</td>\n",
       "      <td>24624</td>\n",
       "      <td>0</td>\n",
       "      <td>24624</td>\n",
       "      <td>0</td>\n",
       "    </tr>\n",
       "    <tr>\n",
       "      <th>15</th>\n",
       "      <td>0</td>\n",
       "      <td>20953</td>\n",
       "      <td>40353</td>\n",
       "      <td>61306</td>\n",
       "      <td>0</td>\n",
       "      <td>61306</td>\n",
       "      <td>0</td>\n",
       "    </tr>\n",
       "  </tbody>\n",
       "</table>\n",
       "</div>"
      ],
      "text/plain": [
       "    cin     X1     X2      S  c  SCheck  cCheck\n",
       "0     0  14155  41378  55533  0   55533       0\n",
       "1     1  38555   8651  47207  0   47207       0\n",
       "2     1  58758   9846   3069  1    3069       1\n",
       "3     0  19709   5194  24903  0   24903       0\n",
       "4     0  40177  63872  38513  1   38513       1\n",
       "5     0  36482  11637  48119  0   48119       0\n",
       "6     0   9475  17512  26987  0   26987       0\n",
       "7     0  63427  19660  17551  1   17551       1\n",
       "8     0  12108  48397  60505  0   60505       0\n",
       "9     0  61872  36946  33282  1   33282       1\n",
       "10    1    278  57433  57712  0   57712       0\n",
       "11    1  57393   9507   1365  1    1365       1\n",
       "12    1  16308   4030  20339  0   20339       0\n",
       "13    1  49029  48228  31722  1   31722       1\n",
       "14    0  20109   4515  24624  0   24624       0\n",
       "15    0  20953  40353  61306  0   61306       0"
      ]
     },
     "execution_count": 50,
     "metadata": {},
     "output_type": "execute_result"
    }
   ],
   "source": [
    "def RCNB_SCheck(cin, X1, X2):\n",
    "    S=cin+X1+X2\n",
    "    if S<2**BitSize:\n",
    "        return S\n",
    "    else:\n",
    "        return S-(2**BitSize)\n",
    "def RCNB_cCheck(cin, X1, X2):\n",
    "    S=cin+X1+X2\n",
    "    if S<2**BitSize:\n",
    "        return 0\n",
    "    else:\n",
    "        return 1\n",
    "\n",
    "RCNBData['SCheck']=RCNBData.apply(lambda row: RCNB_SCheck(row['cin'], row['X1'], row['X2']), axis=1)\n",
    "RCNBData['cCheck']=RCNBData.apply(lambda row: RCNB_cCheck(row['cin'], row['X1'], row['X2']), axis=1)\n",
    "RCNBData"
   ]
  },
  {
   "cell_type": "code",
   "execution_count": 51,
   "metadata": {},
   "outputs": [
    {
     "name": "stdout",
     "output_type": "stream",
     "text": [
      "Sum Result Check: True; Carry Result Check: True\n"
     ]
    }
   ],
   "source": [
    "SumCheck=(RCNBData['S']==RCNBData['SCheck']).all()\n",
    "CarryCheck=(RCNBData['c']==RCNBData['cCheck']).all()\n",
    "print(f'Sum Result Check: {SumCheck}; Carry Result Check: {CarryCheck}')"
   ]
  },
  {
   "cell_type": "markdown",
   "metadata": {},
   "source": [
    "## Verilog Code"
   ]
  },
  {
   "cell_type": "markdown",
   "metadata": {},
   "source": [
    "### Conversion Error \n",
    "there is a conversion error in that the converter does not know how to translate as least the `*` unpacking operator in line 27  of `RippleCarryNBit`\n",
    "\n",
    "```\n",
    "S.next=ConcatSignal(*reversed(S_i))\n",
    "```\n",
    "There is also a high liklyhood that the converter also does not know how to handle the `reversed` operator"
   ]
  },
  {
   "cell_type": "code",
   "execution_count": 52,
   "metadata": {},
   "outputs": [],
   "source": [
    "#DUT.convert()\n",
    "#VerilogTextReader('RippleCarryNBit');"
   ]
  },
  {
   "cell_type": "markdown",
   "metadata": {},
   "source": [
    "## myHDL Testbench (ToDo)\n",
    "To be done when Testbench conversion is improved"
   ]
  },
  {
   "cell_type": "markdown",
   "metadata": {},
   "source": [
    "# Carry Look Ahead 4 Bit\n",
    "https://www.geeksforgeeks.org/digital-logic-carry-look-ahead-adder/\n",
    "\n",
    "http://faculty.kfupm.edu.sa/COE/abouh/Lesson3_3.pdf"
   ]
  },
  {
   "cell_type": "markdown",
   "metadata": {},
   "source": [
    "## Stage One\n",
    "$$p_i=A_i \\oplus B_i$$\n",
    "$$G_i=A_i \\cdot B_i$$"
   ]
  },
  {
   "cell_type": "markdown",
   "metadata": {},
   "source": [
    "### myHDL Code"
   ]
  },
  {
   "cell_type": "code",
   "execution_count": 53,
   "metadata": {},
   "outputs": [],
   "source": [
    "@block\n",
    "def CLAS1(x1, x2, p, g):\n",
    "    \"\"\"\n",
    "    Carry Look Ahead Adder Stage One\n",
    "    Input:\n",
    "        x1(bool): x1 input\n",
    "        x2(bool): x2 input\n",
    "    \n",
    "    Output:\n",
    "        p(bool):carry propagate\n",
    "        g(bool):carry generate\n",
    "    \n",
    "    \"\"\"\n",
    "    @always_comb\n",
    "    def logic():\n",
    "        p.next=x1^x2\n",
    "        g.next=x1&x2\n",
    "    return instances()"
   ]
  },
  {
   "cell_type": "markdown",
   "metadata": {},
   "source": [
    "### myHDL Testing"
   ]
  },
  {
   "cell_type": "code",
   "execution_count": 54,
   "metadata": {},
   "outputs": [],
   "source": [
    "Peeker.clear()\n",
    "x1=Signal(bool(0)); Peeker(x1, 'x1')\n",
    "x2=Signal(bool(0)); Peeker(x2, 'x2')\n",
    "p=Signal(bool(0)); Peeker(p, 'p')\n",
    "g=Signal(bool(0)); Peeker(g, 'g')\n",
    "\n",
    "#generate test values\n",
    "x1TVals=[i[0] for i in itertools.product(BitVals, repeat=len(BitVals))]\n",
    "x2TVals=[i[1] for i in itertools.product(BitVals, repeat=len(BitVals))]\n",
    "\n",
    "DUT=CLAS1(x1, x2, p, g)\n",
    "\n",
    "\n",
    "def CLAS1_TB():\n",
    "    \"\"\"\n",
    "    myHDL only Testbench for module \"CL\"\n",
    "    \"\"\"\n",
    "    @instance\n",
    "    def stimules():\n",
    "        for i, j in zip(x1TVals, x2TVals):\n",
    "            x1.next=i; x2.next=j\n",
    "            yield delay(1)\n",
    "        \n",
    "        raise StopSimulation()\n",
    "    \n",
    "    return instances()\n",
    "\n",
    "sim=Simulation(DUT, CLAS1_TB(), *Peeker.instances()).run()"
   ]
  },
  {
   "cell_type": "code",
   "execution_count": 55,
   "metadata": {},
   "outputs": [
    {
     "data": {
      "text/html": [
       "<div><script type=\"WaveDrom\">{\"signal\": [{\"name\": \"x1\", \"wave\": \"0.1.\"}, {\"name\": \"x2\", \"wave\": \"0101\"}, {}, {}]}</script></div>"
      ]
     },
     "metadata": {},
     "output_type": "display_data"
    },
    {
     "data": {
      "application/javascript": [
       "$.getScript(\"http://wavedrom.com/wavedrom.min.js\", function () {\n",
       "$.getScript(\"http://wavedrom.com/skins/default.js\", function () {\n",
       "WaveDrom.ProcessAll();});\n",
       "});\n"
      ]
     },
     "metadata": {},
     "output_type": "display_data"
    }
   ],
   "source": [
    "Peeker.to_wavedrom('x1', 'x2', 'p', 'g')"
   ]
  },
  {
   "cell_type": "code",
   "execution_count": 56,
   "metadata": {},
   "outputs": [
    {
     "data": {
      "text/html": [
       "<div>\n",
       "<style scoped>\n",
       "    .dataframe tbody tr th:only-of-type {\n",
       "        vertical-align: middle;\n",
       "    }\n",
       "\n",
       "    .dataframe tbody tr th {\n",
       "        vertical-align: top;\n",
       "    }\n",
       "\n",
       "    .dataframe thead th {\n",
       "        text-align: right;\n",
       "    }\n",
       "</style>\n",
       "<table border=\"1\" class=\"dataframe\">\n",
       "  <thead>\n",
       "    <tr style=\"text-align: right;\">\n",
       "      <th></th>\n",
       "      <th>x1</th>\n",
       "      <th>x2</th>\n",
       "      <th>p</th>\n",
       "      <th>g</th>\n",
       "    </tr>\n",
       "  </thead>\n",
       "  <tbody>\n",
       "    <tr>\n",
       "      <th>0</th>\n",
       "      <td>0</td>\n",
       "      <td>0</td>\n",
       "      <td>0</td>\n",
       "      <td>0</td>\n",
       "    </tr>\n",
       "    <tr>\n",
       "      <th>1</th>\n",
       "      <td>0</td>\n",
       "      <td>1</td>\n",
       "      <td>1</td>\n",
       "      <td>0</td>\n",
       "    </tr>\n",
       "    <tr>\n",
       "      <th>2</th>\n",
       "      <td>1</td>\n",
       "      <td>0</td>\n",
       "      <td>1</td>\n",
       "      <td>0</td>\n",
       "    </tr>\n",
       "    <tr>\n",
       "      <th>3</th>\n",
       "      <td>1</td>\n",
       "      <td>1</td>\n",
       "      <td>0</td>\n",
       "      <td>1</td>\n",
       "    </tr>\n",
       "  </tbody>\n",
       "</table>\n",
       "</div>"
      ],
      "text/plain": [
       "   x1  x2  p  g\n",
       "0   0   0  0  0\n",
       "1   0   1  1  0\n",
       "2   1   0  1  0\n",
       "3   1   1  0  1"
      ]
     },
     "execution_count": 56,
     "metadata": {},
     "output_type": "execute_result"
    }
   ],
   "source": [
    "CLAS1Data=Peeker.to_dataframe()\n",
    "CLAS1Data=CLAS1Data[['x1', 'x2', 'p', 'g']]\n",
    "CLAS1Data"
   ]
  },
  {
   "cell_type": "code",
   "execution_count": 57,
   "metadata": {},
   "outputs": [
    {
     "data": {
      "text/html": [
       "<div>\n",
       "<style scoped>\n",
       "    .dataframe tbody tr th:only-of-type {\n",
       "        vertical-align: middle;\n",
       "    }\n",
       "\n",
       "    .dataframe tbody tr th {\n",
       "        vertical-align: top;\n",
       "    }\n",
       "\n",
       "    .dataframe thead th {\n",
       "        text-align: right;\n",
       "    }\n",
       "</style>\n",
       "<table border=\"1\" class=\"dataframe\">\n",
       "  <thead>\n",
       "    <tr style=\"text-align: right;\">\n",
       "      <th></th>\n",
       "      <th>x1</th>\n",
       "      <th>x2</th>\n",
       "      <th>p</th>\n",
       "      <th>g</th>\n",
       "      <th>pCheck</th>\n",
       "      <th>gCheck</th>\n",
       "    </tr>\n",
       "  </thead>\n",
       "  <tbody>\n",
       "    <tr>\n",
       "      <th>0</th>\n",
       "      <td>0</td>\n",
       "      <td>0</td>\n",
       "      <td>0</td>\n",
       "      <td>0</td>\n",
       "      <td>0</td>\n",
       "      <td>0</td>\n",
       "    </tr>\n",
       "    <tr>\n",
       "      <th>1</th>\n",
       "      <td>0</td>\n",
       "      <td>1</td>\n",
       "      <td>1</td>\n",
       "      <td>0</td>\n",
       "      <td>1</td>\n",
       "      <td>0</td>\n",
       "    </tr>\n",
       "    <tr>\n",
       "      <th>2</th>\n",
       "      <td>1</td>\n",
       "      <td>0</td>\n",
       "      <td>1</td>\n",
       "      <td>0</td>\n",
       "      <td>1</td>\n",
       "      <td>0</td>\n",
       "    </tr>\n",
       "    <tr>\n",
       "      <th>3</th>\n",
       "      <td>1</td>\n",
       "      <td>1</td>\n",
       "      <td>0</td>\n",
       "      <td>1</td>\n",
       "      <td>0</td>\n",
       "      <td>1</td>\n",
       "    </tr>\n",
       "  </tbody>\n",
       "</table>\n",
       "</div>"
      ],
      "text/plain": [
       "   x1  x2  p  g  pCheck  gCheck\n",
       "0   0   0  0  0       0       0\n",
       "1   0   1  1  0       1       0\n",
       "2   1   0  1  0       1       0\n",
       "3   1   1  0  1       0       1"
      ]
     },
     "execution_count": 57,
     "metadata": {},
     "output_type": "execute_result"
    }
   ],
   "source": [
    "CLAS1Data['pCheck']=CLAS1Data.apply(lambda row: row['x1']^row['x2'], axis=1)\n",
    "CLAS1Data['gCheck']=CLAS1Data.apply(lambda row: row['x1']&row['x2'], axis=1)\n",
    "CLAS1Data"
   ]
  },
  {
   "cell_type": "code",
   "execution_count": 58,
   "metadata": {},
   "outputs": [
    {
     "name": "stdout",
     "output_type": "stream",
     "text": [
      "p Result Check: True; g Result Check: True\n"
     ]
    }
   ],
   "source": [
    "pCheck=(CLAS1Data['p']==CLAS1Data['pCheck']).all()\n",
    "gCheck=(CLAS1Data['g']==CLAS1Data['gCheck']).all()\n",
    "print(f'p Result Check: {pCheck}; g Result Check: {gCheck}')"
   ]
  },
  {
   "cell_type": "markdown",
   "metadata": {},
   "source": [
    "### Verilog Code"
   ]
  },
  {
   "cell_type": "code",
   "execution_count": 59,
   "metadata": {},
   "outputs": [
    {
     "name": "stdout",
     "output_type": "stream",
     "text": [
      "***Verilog modual from CLAS1.v***\n",
      "\n",
      " // File: CLAS1.v\n",
      "// Generated by MyHDL 0.10\n",
      "// Date: Tue Aug 21 12:52:29 2018\n",
      "\n",
      "\n",
      "`timescale 1ns/10ps\n",
      "\n",
      "module CLAS1 (\n",
      "    x1,\n",
      "    x2,\n",
      "    p,\n",
      "    g\n",
      ");\n",
      "// Carry Look Ahead Adder Stage One\n",
      "// Input:\n",
      "//     x1(bool): x1 input\n",
      "//     x2(bool): x2 input\n",
      "// \n",
      "// Output:\n",
      "//     p(bool):carry propagate\n",
      "//     g(bool):carry generate\n",
      "\n",
      "input x1;\n",
      "input x2;\n",
      "output p;\n",
      "wire p;\n",
      "output g;\n",
      "wire g;\n",
      "\n",
      "\n",
      "\n",
      "\n",
      "\n",
      "assign p = (x1 ^ x2);\n",
      "assign g = (x1 & x2);\n",
      "\n",
      "endmodule\n",
      "\n"
     ]
    }
   ],
   "source": [
    "DUT.convert()\n",
    "VerilogTextReader('CLAS1');"
   ]
  },
  {
   "cell_type": "markdown",
   "metadata": {},
   "source": [
    "### Verilog Testbench"
   ]
  },
  {
   "cell_type": "code",
   "execution_count": 60,
   "metadata": {},
   "outputs": [],
   "source": [
    "#generate test values\n",
    "x1TVals=[i[0] for i in itertools.product(BitVals, repeat=len(BitVals))]\n",
    "x2TVals=[i[1] for i in itertools.product(BitVals, repeat=len(BitVals))]\n",
    "#create single value representation of Test Inputs\n",
    "x1TVal=intbv(int(''.join([str(i) for i in x1TVals]), 2))[len(x1TVals):]\n",
    "x2TVal=intbv(int(''.join([str(i) for i in x2TVals]), 2))[len(x2TVals):]"
   ]
  },
  {
   "cell_type": "code",
   "execution_count": 61,
   "metadata": {},
   "outputs": [
    {
     "name": "stdout",
     "output_type": "stream",
     "text": [
      "x1Test: [0, 0, 1, 1], 3, [0, 0, 1, 1]\n",
      "x2Test: [0, 1, 0, 1], 5, [0, 1, 0, 1]\n"
     ]
    }
   ],
   "source": [
    "print(f'x1Test: {x1TVals}, {x1TVal}, {[int(i) for i in x1TVal]}')\n",
    "print(f'x2Test: {x2TVals}, {x2TVal}, {[int(i) for i in x2TVal]}')"
   ]
  },
  {
   "cell_type": "code",
   "execution_count": 62,
   "metadata": {},
   "outputs": [
    {
     "name": "stdout",
     "output_type": "stream",
     "text": [
      "<class 'myhdl._Signal._Signal'> <class '_ast.Name'>\n",
      "<class 'myhdl._Signal._Signal'> <class '_ast.Name'>\n",
      "<class 'myhdl._Signal._Signal'> <class '_ast.Name'>\n",
      "<class 'myhdl._Signal._Signal'> <class '_ast.Name'>\n",
      "***Verilog modual from CLAS1_TBV.v***\n",
      "\n",
      " // File: CLAS1_TBV.v\n",
      "// Generated by MyHDL 0.10\n",
      "// Date: Tue Aug 21 12:52:30 2018\n",
      "\n",
      "\n",
      "`timescale 1ns/10ps\n",
      "\n",
      "module CLAS1_TBV (\n",
      "\n",
      ");\n",
      "// myHDL -> Verilog Testbench for module \"CLAS1\"\n",
      "\n",
      "\n",
      "reg x1 = 0;\n",
      "reg x2 = 0;\n",
      "wire [3:0] x1TVals;\n",
      "wire [3:0] x2TVals;\n",
      "wire p;\n",
      "wire g;\n",
      "\n",
      "assign x1TVals = 4'd3;\n",
      "assign x2TVals = 4'd5;\n",
      "\n",
      "\n",
      "always @(p, x2, g, x1) begin: CLAS1_TBV_PRINT_DATA\n",
      "    $write(\"%h\", x1);\n",
      "    $write(\" \");\n",
      "    $write(\"%h\", x2);\n",
      "    $write(\" \");\n",
      "    $write(\"%h\", p);\n",
      "    $write(\" \");\n",
      "    $write(\"%h\", g);\n",
      "    $write(\"\\n\");\n",
      "end\n",
      "\n",
      "\n",
      "\n",
      "assign p = (x1 ^ x2);\n",
      "assign g = (x1 & x2);\n",
      "\n",
      "\n",
      "initial begin: CLAS1_TBV_STIMULES\n",
      "    integer i;\n",
      "    for (i=0; i<4; i=i+1) begin\n",
      "        x1 <= x1TVals[i];\n",
      "        x2 <= x2TVals[i];\n",
      "        # 1;\n",
      "    end\n",
      "    $finish;\n",
      "end\n",
      "\n",
      "endmodule\n",
      "\n"
     ]
    },
    {
     "name": "stderr",
     "output_type": "stream",
     "text": [
      "/home/iridium/anaconda3/lib/python3.6/site-packages/myhdl/conversion/_toVerilog.py:349: ToVerilogWarning: Signal is not driven: x1TVals\n",
      "  category=ToVerilogWarning\n",
      "/home/iridium/anaconda3/lib/python3.6/site-packages/myhdl/conversion/_toVerilog.py:349: ToVerilogWarning: Signal is not driven: x2TVals\n",
      "  category=ToVerilogWarning\n"
     ]
    }
   ],
   "source": [
    "@block\n",
    "def CLAS1_TBV():\n",
    "    \"\"\"\n",
    "    myHDL -> Verilog Testbench for module \"CLAS1\"\n",
    "    \"\"\"\n",
    "    x1=Signal(bool(0))\n",
    "    x2=Signal(bool(0))\n",
    "    p=Signal(bool(0))\n",
    "    g=Signal(bool(0))\n",
    "    \n",
    "    #test stimuli\n",
    "    x1TVals=Signal(x1TVal)\n",
    "    x2TVals=Signal(x2TVal)\n",
    "    \n",
    "    @always_comb\n",
    "    def print_data():\n",
    "        print(x1, x2, p, g)\n",
    "\n",
    "    DUT=CLAS1(x1, x2, p, g)\n",
    "\n",
    "    @instance\n",
    "    def stimules():\n",
    "        for i in range(len(x1TVal)):\n",
    "            x1.next=x1TVals[i]; x2.next=x2TVals[i]\n",
    "            yield delay(1)\n",
    "        \n",
    "        raise StopSimulation()\n",
    "    \n",
    "    return instances()\n",
    "\n",
    "TB=CLAS1_TBV()\n",
    "TB.convert(hdl=\"Verilog\", initial_values=True)\n",
    "VerilogTextReader('CLAS1_TBV');"
   ]
  },
  {
   "cell_type": "markdown",
   "metadata": {},
   "source": [
    "## Stage Three\n",
    "$$S_i=P_i \\oplus C_i $$"
   ]
  },
  {
   "cell_type": "markdown",
   "metadata": {},
   "source": [
    "### myHDL Code"
   ]
  },
  {
   "cell_type": "code",
   "execution_count": 63,
   "metadata": {},
   "outputs": [],
   "source": [
    "@block\n",
    "def CLAS3(p, c, s):\n",
    "    \"\"\"\n",
    "    Carrry Look Ahead Adder Stage 3\n",
    "    Input:\n",
    "        p(bool):carry propagate\n",
    "        c(bool): carry\n",
    "\n",
    "    Output:\n",
    "        s(bool): sum\n",
    "    \"\"\"\n",
    "    @always_comb\n",
    "    def logic():\n",
    "        s.next=p^c\n",
    "    return instances()"
   ]
  },
  {
   "cell_type": "markdown",
   "metadata": {},
   "source": [
    "### myHDL Testing"
   ]
  },
  {
   "cell_type": "code",
   "execution_count": 64,
   "metadata": {},
   "outputs": [],
   "source": [
    "Peeker.clear()\n",
    "p=Signal(bool(0)); Peeker(p, 'p')\n",
    "c=Signal(bool(0)); Peeker(c, 'c')\n",
    "s=Signal(bool(0)); Peeker(s, 's')\n",
    "\n",
    "#generate test values\n",
    "pTVals=[i[0] for i in itertools.product(BitVals, repeat=len(BitVals))]\n",
    "cTVals=[i[1] for i in itertools.product(BitVals, repeat=len(BitVals))]\n",
    "\n",
    "DUT=CLAS3(p, c, s)\n",
    "\n",
    "\n",
    "def CLAS3_TB():\n",
    "    \"\"\"\n",
    "    myHDL only Testbench for module \"CLAS3\"\n",
    "    \"\"\"\n",
    "    @instance\n",
    "    def stimules():\n",
    "        for i, j in zip(pTVals, cTVals):\n",
    "            p.next=i; c.next=j\n",
    "            yield delay(1)\n",
    "        \n",
    "        raise StopSimulation()\n",
    "    \n",
    "    return instances()\n",
    "\n",
    "sim=Simulation(DUT, CLAS3_TB(), *Peeker.instances()).run()"
   ]
  },
  {
   "cell_type": "code",
   "execution_count": 65,
   "metadata": {},
   "outputs": [
    {
     "data": {
      "text/html": [
       "<div><script type=\"WaveDrom\">{\"signal\": [{\"name\": \"p\", \"wave\": \"0.1.\"}, {\"name\": \"c\", \"wave\": \"0101\"}, {\"name\": \"s\", \"wave\": \"01.0\"}]}</script></div>"
      ]
     },
     "metadata": {},
     "output_type": "display_data"
    },
    {
     "data": {
      "application/javascript": [
       "$.getScript(\"http://wavedrom.com/wavedrom.min.js\", function () {\n",
       "$.getScript(\"http://wavedrom.com/skins/default.js\", function () {\n",
       "WaveDrom.ProcessAll();});\n",
       "});\n"
      ]
     },
     "metadata": {},
     "output_type": "display_data"
    }
   ],
   "source": [
    "Peeker.to_wavedrom('p', 'c', 's')"
   ]
  },
  {
   "cell_type": "code",
   "execution_count": 66,
   "metadata": {},
   "outputs": [
    {
     "data": {
      "text/html": [
       "<div>\n",
       "<style scoped>\n",
       "    .dataframe tbody tr th:only-of-type {\n",
       "        vertical-align: middle;\n",
       "    }\n",
       "\n",
       "    .dataframe tbody tr th {\n",
       "        vertical-align: top;\n",
       "    }\n",
       "\n",
       "    .dataframe thead th {\n",
       "        text-align: right;\n",
       "    }\n",
       "</style>\n",
       "<table border=\"1\" class=\"dataframe\">\n",
       "  <thead>\n",
       "    <tr style=\"text-align: right;\">\n",
       "      <th></th>\n",
       "      <th>p</th>\n",
       "      <th>c</th>\n",
       "      <th>s</th>\n",
       "    </tr>\n",
       "  </thead>\n",
       "  <tbody>\n",
       "    <tr>\n",
       "      <th>0</th>\n",
       "      <td>0</td>\n",
       "      <td>0</td>\n",
       "      <td>0</td>\n",
       "    </tr>\n",
       "    <tr>\n",
       "      <th>1</th>\n",
       "      <td>0</td>\n",
       "      <td>1</td>\n",
       "      <td>1</td>\n",
       "    </tr>\n",
       "    <tr>\n",
       "      <th>2</th>\n",
       "      <td>1</td>\n",
       "      <td>0</td>\n",
       "      <td>1</td>\n",
       "    </tr>\n",
       "    <tr>\n",
       "      <th>3</th>\n",
       "      <td>1</td>\n",
       "      <td>1</td>\n",
       "      <td>0</td>\n",
       "    </tr>\n",
       "  </tbody>\n",
       "</table>\n",
       "</div>"
      ],
      "text/plain": [
       "   p  c  s\n",
       "0  0  0  0\n",
       "1  0  1  1\n",
       "2  1  0  1\n",
       "3  1  1  0"
      ]
     },
     "execution_count": 66,
     "metadata": {},
     "output_type": "execute_result"
    }
   ],
   "source": [
    "CLAS3Data=Peeker.to_dataframe()\n",
    "CLAS3Data=CLAS3Data[['p', 'c', 's']]\n",
    "CLAS3Data"
   ]
  },
  {
   "cell_type": "code",
   "execution_count": 67,
   "metadata": {},
   "outputs": [
    {
     "data": {
      "text/html": [
       "<div>\n",
       "<style scoped>\n",
       "    .dataframe tbody tr th:only-of-type {\n",
       "        vertical-align: middle;\n",
       "    }\n",
       "\n",
       "    .dataframe tbody tr th {\n",
       "        vertical-align: top;\n",
       "    }\n",
       "\n",
       "    .dataframe thead th {\n",
       "        text-align: right;\n",
       "    }\n",
       "</style>\n",
       "<table border=\"1\" class=\"dataframe\">\n",
       "  <thead>\n",
       "    <tr style=\"text-align: right;\">\n",
       "      <th></th>\n",
       "      <th>p</th>\n",
       "      <th>c</th>\n",
       "      <th>s</th>\n",
       "      <th>sCheck</th>\n",
       "    </tr>\n",
       "  </thead>\n",
       "  <tbody>\n",
       "    <tr>\n",
       "      <th>0</th>\n",
       "      <td>0</td>\n",
       "      <td>0</td>\n",
       "      <td>0</td>\n",
       "      <td>0</td>\n",
       "    </tr>\n",
       "    <tr>\n",
       "      <th>1</th>\n",
       "      <td>0</td>\n",
       "      <td>1</td>\n",
       "      <td>1</td>\n",
       "      <td>1</td>\n",
       "    </tr>\n",
       "    <tr>\n",
       "      <th>2</th>\n",
       "      <td>1</td>\n",
       "      <td>0</td>\n",
       "      <td>1</td>\n",
       "      <td>1</td>\n",
       "    </tr>\n",
       "    <tr>\n",
       "      <th>3</th>\n",
       "      <td>1</td>\n",
       "      <td>1</td>\n",
       "      <td>0</td>\n",
       "      <td>0</td>\n",
       "    </tr>\n",
       "  </tbody>\n",
       "</table>\n",
       "</div>"
      ],
      "text/plain": [
       "   p  c  s  sCheck\n",
       "0  0  0  0       0\n",
       "1  0  1  1       1\n",
       "2  1  0  1       1\n",
       "3  1  1  0       0"
      ]
     },
     "execution_count": 67,
     "metadata": {},
     "output_type": "execute_result"
    }
   ],
   "source": [
    "CLAS3Data['sCheck']=CLAS3Data.apply(lambda row: row['p']^row['c'], axis=1)\n",
    "CLAS3Data"
   ]
  },
  {
   "cell_type": "code",
   "execution_count": 68,
   "metadata": {},
   "outputs": [
    {
     "name": "stdout",
     "output_type": "stream",
     "text": [
      "s Result Check: True\n"
     ]
    }
   ],
   "source": [
    "sCheck=(CLAS3Data['s']==CLAS3Data['sCheck']).all()\n",
    "print(f's Result Check: {sCheck}')"
   ]
  },
  {
   "cell_type": "markdown",
   "metadata": {},
   "source": [
    "### Verilog Code"
   ]
  },
  {
   "cell_type": "code",
   "execution_count": 69,
   "metadata": {},
   "outputs": [
    {
     "name": "stdout",
     "output_type": "stream",
     "text": [
      "***Verilog modual from CLAS3.v***\n",
      "\n",
      " // File: CLAS3.v\n",
      "// Generated by MyHDL 0.10\n",
      "// Date: Tue Aug 21 12:52:30 2018\n",
      "\n",
      "\n",
      "`timescale 1ns/10ps\n",
      "\n",
      "module CLAS3 (\n",
      "    p,\n",
      "    c,\n",
      "    s\n",
      ");\n",
      "// Carrry Look Ahead Adder Stage 3\n",
      "// Input:\n",
      "//     p(bool):carry propagate\n",
      "//     c(bool): carry\n",
      "// \n",
      "// Output:\n",
      "//     s(bool): sum\n",
      "\n",
      "input p;\n",
      "input c;\n",
      "output s;\n",
      "wire s;\n",
      "\n",
      "\n",
      "\n",
      "\n",
      "\n",
      "assign s = (p ^ c);\n",
      "\n",
      "endmodule\n",
      "\n"
     ]
    }
   ],
   "source": [
    "DUT.convert()\n",
    "VerilogTextReader('CLAS3');"
   ]
  },
  {
   "cell_type": "markdown",
   "metadata": {},
   "source": [
    "### Verilog Testbench"
   ]
  },
  {
   "cell_type": "code",
   "execution_count": 70,
   "metadata": {},
   "outputs": [],
   "source": [
    "#generate test values\n",
    "pTVals=[i[0] for i in itertools.product(BitVals, repeat=len(BitVals))]\n",
    "cTVals=[i[1] for i in itertools.product(BitVals, repeat=len(BitVals))]\n",
    "#create single value representation of Test Inputs\n",
    "pTVal=intbv(int(''.join([str(i) for i in pTVals]), 2))[len(pTVals):]\n",
    "cTVal=intbv(int(''.join([str(i) for i in cTVals]), 2))[len(cTVals):]"
   ]
  },
  {
   "cell_type": "code",
   "execution_count": 71,
   "metadata": {},
   "outputs": [
    {
     "name": "stdout",
     "output_type": "stream",
     "text": [
      "pTest: [0, 0, 1, 1], 3, [0, 0, 1, 1]\n",
      "cTest: [0, 1, 0, 1], 5, [0, 1, 0, 1]\n"
     ]
    }
   ],
   "source": [
    "print(f'pTest: {pTVals}, {pTVal}, {[int(i) for i in pTVal]}')\n",
    "print(f'cTest: {cTVals}, {cTVal}, {[int(i) for i in cTVal]}')"
   ]
  },
  {
   "cell_type": "code",
   "execution_count": 72,
   "metadata": {},
   "outputs": [
    {
     "name": "stdout",
     "output_type": "stream",
     "text": [
      "<class 'myhdl._Signal._Signal'> <class '_ast.Name'>\n",
      "<class 'myhdl._Signal._Signal'> <class '_ast.Name'>\n",
      "<class 'myhdl._Signal._Signal'> <class '_ast.Name'>\n",
      "***Verilog modual from CLAS3_TBV.v***\n",
      "\n",
      " // File: CLAS3_TBV.v\n",
      "// Generated by MyHDL 0.10\n",
      "// Date: Tue Aug 21 12:52:32 2018\n",
      "\n",
      "\n",
      "`timescale 1ns/10ps\n",
      "\n",
      "module CLAS3_TBV (\n",
      "\n",
      ");\n",
      "// myHDL -> Verilog Testbench for module \"CLAS3\"\n",
      "\n",
      "\n",
      "wire s;\n",
      "reg c = 0;\n",
      "reg p = 0;\n",
      "wire [3:0] pTVals;\n",
      "wire [3:0] cTVals;\n",
      "\n",
      "assign pTVals = 4'd3;\n",
      "assign cTVals = 4'd5;\n",
      "\n",
      "\n",
      "always @(p, s, c) begin: CLAS3_TBV_PRINT_DATA\n",
      "    $write(\"%h\", p);\n",
      "    $write(\" \");\n",
      "    $write(\"%h\", c);\n",
      "    $write(\" \");\n",
      "    $write(\"%h\", s);\n",
      "    $write(\"\\n\");\n",
      "end\n",
      "\n",
      "\n",
      "\n",
      "assign s = (p ^ c);\n",
      "\n",
      "\n",
      "initial begin: CLAS3_TBV_STIMULES\n",
      "    integer i;\n",
      "    for (i=0; i<4; i=i+1) begin\n",
      "        p <= pTVals[i];\n",
      "        c <= cTVals[i];\n",
      "        # 1;\n",
      "    end\n",
      "    $finish;\n",
      "end\n",
      "\n",
      "endmodule\n",
      "\n"
     ]
    },
    {
     "name": "stderr",
     "output_type": "stream",
     "text": [
      "/home/iridium/anaconda3/lib/python3.6/site-packages/myhdl/conversion/_toVerilog.py:349: ToVerilogWarning: Signal is not driven: pTVals\n",
      "  category=ToVerilogWarning\n",
      "/home/iridium/anaconda3/lib/python3.6/site-packages/myhdl/conversion/_toVerilog.py:349: ToVerilogWarning: Signal is not driven: cTVals\n",
      "  category=ToVerilogWarning\n"
     ]
    }
   ],
   "source": [
    "@block\n",
    "def CLAS3_TBV():\n",
    "    \"\"\"\n",
    "    myHDL -> Verilog Testbench for module \"CLAS3\"\n",
    "    \"\"\"\n",
    "    p=Signal(bool(0))\n",
    "    c=Signal(bool(0))\n",
    "    s=Signal(bool(0))\n",
    "    \n",
    "    #test stimuli\n",
    "    pTVals=Signal(pTVal)\n",
    "    cTVals=Signal(cTVal)\n",
    "    \n",
    "    @always_comb\n",
    "    def print_data():\n",
    "        print(p, c, s)\n",
    "\n",
    "    DUT=CLAS3(p, c, s)\n",
    "\n",
    "    @instance\n",
    "    def stimules():\n",
    "        for i in range(len(pTVal)):\n",
    "            p.next=pTVals[i]; c.next=cTVals[i]\n",
    "            yield delay(1)\n",
    "        \n",
    "        raise StopSimulation()\n",
    "    \n",
    "    return instances()\n",
    "\n",
    "TB=CLAS3_TBV()\n",
    "TB.convert(hdl=\"Verilog\", initial_values=True)\n",
    "VerilogTextReader('CLAS3_TBV');"
   ]
  },
  {
   "cell_type": "markdown",
   "metadata": {},
   "source": [
    "## Stage Two\n",
    "$$C_i+1=G_i+P_i\\cdot C_i$$\n",
    "And is thus a recursion formula, so for a exsample a 4 bit  Carray Lock Ahead Adder would have the following carry exspersions\n",
    "\n",
    "$$C_1=G_0+P_0\\cdot C_{in}$$\n",
    "$$C_2=G_1+P_1\\cdot C_1=G_1+P_1G_0+P_1P_0C_{in}$$\n",
    "$$C_3=G_2+P_2\\cdot C_2=G_2+P_2G_1+P_2P_1G_0+P_2P_1P_0C_{in}$$\n",
    "$$C_4=G_3+P_3\\cdot C_3=G_3+P_3G_2+P_3P_2G_1+P_3P_2P_1G_0+P_3P_2P_1P_0C_{in}$$\n"
   ]
  },
  {
   "cell_type": "markdown",
   "metadata": {},
   "source": [
    "### myHDL Code (ToDo)"
   ]
  },
  {
   "cell_type": "markdown",
   "metadata": {},
   "source": [
    "### myHDL Testing (ToDo)"
   ]
  },
  {
   "cell_type": "code",
   "execution_count": 73,
   "metadata": {},
   "outputs": [
    {
     "data": {
      "image/png": "[encoded data removed]",
      "text/latex": [
       "$$14$$"
      ],
      "text/plain": [
       "14"
      ]
     },
     "execution_count": 73,
     "metadata": {},
     "output_type": "execute_result"
    }
   ],
   "source": [
    "def CLAS2B4_TestFunc(P, G, cin):\n",
    "    P=[int(i) for i in reversed(bin(P,4))]\n",
    "    G=[int(i) for i in reversed(bin(G,4))]\n",
    "    C=[]\n",
    "    for i in range(4):\n",
    "        if i==0:\n",
    "            C.append(int(G[i]) | (P[i]&cin))\n",
    "        else:\n",
    "            C.append(int(G[i]) | (P[i] &C[i-1]))\n",
    "        \n",
    "    C=int(''.join(str(i) for i in C[::-1]),2)\n",
    "    return C\n",
    "CLAS2B4_TestFunc(8,6,1)"
   ]
  },
  {
   "cell_type": "code",
   "execution_count": null,
   "metadata": {},
   "outputs": [],
   "source": []
  }
 ],
 "metadata": {
  "author": "Addition in myHDL (In Progress)",
  "hide_input": false,
  "kernelspec": {
   "display_name": "Python 3",
   "language": "python",
   "name": "python3"
  },
  "language_info": {
   "codemirror_mode": {
    "name": "ipython",
    "version": 3
   },
   "file_extension": ".py",
   "mimetype": "text/x-python",
   "name": "python",
   "nbconvert_exporter": "python",
   "pygments_lexer": "ipython3",
   "version": "3.6.5"
  },
  "latex_envs": {
   "LaTeX_envs_menu_present": true,
   "autoclose": false,
   "autocomplete": true,
   "bibliofile": "biblio.bib",
   "cite_by": "apalike",
   "current_citInitial": 1,
   "eqLabelWithNumbers": true,
   "eqNumInitial": 1,
   "hotkeys": {
    "equation": "Ctrl-E",
    "itemize": "Ctrl-I"
   },
   "labels_anchors": false,
   "latex_user_defs": false,
   "report_style_numbering": false,
   "user_envs_cfg": false
  },
  "toc": {
   "base_numbering": 1,
   "nav_menu": {},
   "number_sections": true,
   "sideBar": true,
   "skip_h1_title": false,
   "title_cell": "Table of Contents",
   "title_sidebar": "Contents",
   "toc_cell": false,
   "toc_position": {
    "height": "756px",
    "left": "24px",
    "top": "201.5px",
    "width": "190px"
   },
   "toc_section_display": true,
   "toc_window_display": true
  }
 },
 "nbformat": 4,
 "nbformat_minor": 2
}
