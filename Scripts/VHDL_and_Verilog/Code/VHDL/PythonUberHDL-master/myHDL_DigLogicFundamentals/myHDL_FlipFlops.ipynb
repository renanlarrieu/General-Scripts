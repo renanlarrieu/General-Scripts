{
 "cells": [
  {
   "cell_type": "markdown",
   "metadata": {},
   "source": [
    "\\title{Digital Flip-Flops with myHDL}\n",
    "\\author{Steven K Armour}\n",
    "\\maketitle"
   ]
  },
  {
   "cell_type": "markdown",
   "metadata": {},
   "source": [
    "# Refs\n",
    "@book{brown_vranesic_2014, place={New York, NY}, edition={3}, title={Fundamentals of digital logic with Verilog design}, publisher={McGraw-Hill}, author={Brown, Stephen and Vranesic, Zvonko G}, year={2014} },\n",
    "@book{lameres_2017, title={Introduction to logic circuits & logic design with Verilog}, publisher={springer}, author={LaMeres, Brock J}, year={2017} }"
   ]
  },
  {
   "cell_type": "markdown",
   "metadata": {},
   "source": [
    "# Acknowledgments\n",
    "\n",
    "Author of **myHDL** [Jan Decaluwe](http://www.myhdl.org/users/jandecaluwe.html) and the author of the **myHDL Peeker** [XESS Corp.](https://github.com/xesscorp/myhdlpeek)\n",
    "\n",
    "[**Draw.io**](https://www.draw.io/)\n",
    "\n",
    "**Xilinx**"
   ]
  },
  {
   "cell_type": "markdown",
   "metadata": {},
   "source": [
    "# Python Libraries Utilized"
   ]
  },
  {
   "cell_type": "code",
   "execution_count": 1,
   "metadata": {
    "collapsed": true
   },
   "outputs": [],
   "source": [
    "import numpy as np\n",
    "import pandas as pd\n",
    "from sympy import *\n",
    "init_printing()\n",
    "\n",
    "from myhdl import *\n",
    "from myhdlpeek import *\n",
    "import random\n",
    "\n",
    "#python file of convince tools. Should be located with this notebook\n",
    "from sympy_myhdl_tools import *"
   ]
  },
  {
   "cell_type": "markdown",
   "metadata": {},
   "source": [
    "# Flip-Flops vs Latches\n",
    "\n",
    "Latches and Flip-Flops are both metastaple logic circuit tobologies in that once loaded with a state they hold that state information till that state is upset by a new state or a reset command. But the diffrance between the two is that Flip-Flops are clock controlled devices built upon Latches where as Latches are not clock dependent. And not only are Flip-Flops CLocked controlled but can be asynchronous or synchronous"
   ]
  },
  {
   "cell_type": "markdown",
   "metadata": {},
   "source": [
    "# D-FlipFlop"
   ]
  },
  {
   "cell_type": "markdown",
   "metadata": {},
   "source": [
    "## Sync"
   ]
  },
  {
   "cell_type": "markdown",
   "metadata": {},
   "source": [
    "### Center Clock"
   ]
  },
  {
   "cell_type": "code",
   "execution_count": 9,
   "metadata": {
    "collapsed": true
   },
   "outputs": [],
   "source": [
    "def DFFSyncCenter(D_in, Q_out, Qn_out, clk):\n",
    "    @always(clk)\n",
    "    def logic():\n",
    "        Q_out.next=D_in\n",
    "        Qn_out.next=not D_in\n",
    "    return logic"
   ]
  },
  {
   "cell_type": "code",
   "execution_count": 10,
   "metadata": {},
   "outputs": [],
   "source": [
    "Peeker.clear()\n",
    "D_in, Q_out, Qn_out, clk=[Signal(bool(0)) for _ in range(4)]\n",
    "Peeker(D_in, 'D_in'); Peeker(clk, 'clk')\n",
    "Peeker(Q_out, 'Q_out'); Peeker(Qn_out, 'Qn_out')\n",
    "\n",
    "DUT=DFFSyncCenter(D_in=D_in, Q_out=Q_out, Qn_out=Qn_out, clk=clk)\n",
    "\n",
    "inputs=[D_in]\n",
    "time=[0]\n",
    "\n",
    "def DFFSync_TB(inputs=[]):\n",
    "    \n",
    "    #the # of inputs contorls everything\n",
    "    Ninputs=len(inputs)\n",
    "    tmax=2*2**Ninputs\n",
    "    #genrate sequantil number of inputs for comparsion to known\n",
    "    SequntialInputs=np.arange(2**Ninputs)\n",
    "        \n",
    "    \n",
    "    @always(delay(1))\n",
    "    def clkGen():\n",
    "        clk.next = not clk\n",
    "\n",
    "    @always(clk.negedge)\n",
    "    def stimulus():\n",
    "        time.append(time[-1]+1)\n",
    "        #run sequantial\n",
    "        try:\n",
    "            #genrate binary bit repsersintion of current sequantl input\n",
    "            NextSeqInput=np.binary_repr(SequntialInputs[time[-1]], width=Ninputs)\n",
    "\n",
    "            #pass each bit into the inputs\n",
    "            for i in range(Ninputs):\n",
    "                inputs[i].next=bool(int(NextSeqInput[i]))\n",
    "\n",
    "        #run the random to cheack for unexsected behavior\n",
    "        except IndexError:\n",
    "            NextRanInput=[random.randint(0,1) for i in range(Ninputs)]\n",
    "\n",
    "            for i in range(Ninputs):\n",
    "                inputs[i].next=NextRanInput[i]\n",
    "            \n",
    "        if time[-1]==tmax:\n",
    "            raise StopSimulation\n",
    "        \n",
    "        \n",
    "        \n",
    "        \n",
    "\n",
    "            \n",
    "\n",
    "    return clkGen, stimulus"
   ]
  },
  {
   "cell_type": "code",
   "execution_count": 11,
   "metadata": {},
   "outputs": [
    {
     "data": {
      "text/html": [
       "<div><script type=\"WaveDrom\">{\"signal\": [{\"name\": \"D_in\", \"wave\": \"0.1...0.\"}, {\"name\": \"clk\", \"wave\": \"01010101\"}, {\"name\": \"Q_out[0]\", \"wave\": \"0..1...0\"}, {\"name\": \"Qn_out[0]\", \"wave\": \"01.0...1\"}], \"head\": {\"tock\": 0}, \"foot\": {\"tock\": 0}}</script></div>"
      ]
     },
     "metadata": {},
     "output_type": "display_data"
    },
    {
     "data": {
      "application/javascript": [
       "$.getScript(\"http://wavedrom.com/wavedrom.min.js\", function () {\n",
       "$.getScript(\"http://wavedrom.com/skins/default.js\", function () {\n",
       "WaveDrom.ProcessAll();});\n",
       "});\n"
      ]
     },
     "metadata": {},
     "output_type": "display_data"
    }
   ],
   "source": [
    "Sim=Simulation(DUT, DFFSync_TB(inputs), *Peeker.instances()).run()        \n",
    "Peeker.to_wavedrom(start_time=0, tock=True)"
   ]
  },
  {
   "cell_type": "code",
   "execution_count": 12,
   "metadata": {},
   "outputs": [
    {
     "data": {
      "text/html": [
       "<div>\n",
       "<style>\n",
       "    .dataframe thead tr:only-child th {\n",
       "        text-align: right;\n",
       "    }\n",
       "\n",
       "    .dataframe thead th {\n",
       "        text-align: left;\n",
       "    }\n",
       "\n",
       "    .dataframe tbody tr th {\n",
       "        vertical-align: top;\n",
       "    }\n",
       "</style>\n",
       "<table border=\"1\" class=\"dataframe\">\n",
       "  <thead>\n",
       "    <tr style=\"text-align: right;\">\n",
       "      <th></th>\n",
       "      <th>D_in</th>\n",
       "      <th>Q_out</th>\n",
       "      <th>Qn_out</th>\n",
       "      <th>clk</th>\n",
       "    </tr>\n",
       "  </thead>\n",
       "  <tbody>\n",
       "    <tr>\n",
       "      <th>0</th>\n",
       "      <td>0</td>\n",
       "      <td>0</td>\n",
       "      <td>0</td>\n",
       "      <td>0</td>\n",
       "    </tr>\n",
       "    <tr>\n",
       "      <th>1</th>\n",
       "      <td>0</td>\n",
       "      <td>0</td>\n",
       "      <td>1</td>\n",
       "      <td>1</td>\n",
       "    </tr>\n",
       "    <tr>\n",
       "      <th>2</th>\n",
       "      <td>1</td>\n",
       "      <td>0</td>\n",
       "      <td>1</td>\n",
       "      <td>0</td>\n",
       "    </tr>\n",
       "    <tr>\n",
       "      <th>3</th>\n",
       "      <td>1</td>\n",
       "      <td>1</td>\n",
       "      <td>0</td>\n",
       "      <td>1</td>\n",
       "    </tr>\n",
       "    <tr>\n",
       "      <th>4</th>\n",
       "      <td>1</td>\n",
       "      <td>1</td>\n",
       "      <td>0</td>\n",
       "      <td>0</td>\n",
       "    </tr>\n",
       "    <tr>\n",
       "      <th>5</th>\n",
       "      <td>1</td>\n",
       "      <td>1</td>\n",
       "      <td>0</td>\n",
       "      <td>1</td>\n",
       "    </tr>\n",
       "    <tr>\n",
       "      <th>6</th>\n",
       "      <td>0</td>\n",
       "      <td>1</td>\n",
       "      <td>0</td>\n",
       "      <td>0</td>\n",
       "    </tr>\n",
       "    <tr>\n",
       "      <th>7</th>\n",
       "      <td>0</td>\n",
       "      <td>0</td>\n",
       "      <td>1</td>\n",
       "      <td>1</td>\n",
       "    </tr>\n",
       "  </tbody>\n",
       "</table>\n",
       "</div>"
      ],
      "text/plain": [
       "  D_in Q_out Qn_out clk\n",
       "0    0     0      0   0\n",
       "1    0     0      1   1\n",
       "2    1     0      1   0\n",
       "3    1     1      0   1\n",
       "4    1     1      0   0\n",
       "5    1     1      0   1\n",
       "6    0     1      0   0\n",
       "7    0     0      1   1"
      ]
     },
     "execution_count": 12,
     "metadata": {},
     "output_type": "execute_result"
    }
   ],
   "source": [
    "MakeDFfromPeeker(Peeker.to_wavejson(start_time=0))"
   ]
  },
  {
   "cell_type": "markdown",
   "metadata": {
    "collapsed": true
   },
   "source": [
    "#### Sythinsis "
   ]
  },
  {
   "cell_type": "code",
   "execution_count": 13,
   "metadata": {},
   "outputs": [
    {
     "name": "stdout",
     "output_type": "stream",
     "text": [
      "***Verilog modual from DFFSyncCenter.v***\n",
      "\n",
      " // File: DFFSyncCenter.v\n",
      "// Generated by MyHDL 0.9.0\n",
      "// Date: Thu Oct 26 01:02:57 2017\n",
      "\n",
      "\n",
      "`timescale 1ns/10ps\n",
      "\n",
      "module DFFSyncCenter (\n",
      "    D_in,\n",
      "    Q_out,\n",
      "    Qn_out,\n",
      "    clk\n",
      ");\n",
      "\n",
      "\n",
      "input D_in;\n",
      "output Q_out;\n",
      "reg Q_out;\n",
      "output Qn_out;\n",
      "reg Qn_out;\n",
      "input clk;\n",
      "\n",
      "\n",
      "\n",
      "\n",
      "\n",
      "\n",
      "always @(clk) begin: DFFSYNCCENTER_LOGIC\n",
      "    Q_out <= D_in;\n",
      "    Qn_out <= (!D_in);\n",
      "end\n",
      "\n",
      "endmodule\n",
      "\n"
     ]
    }
   ],
   "source": [
    "toVerilog(DFFSyncCenter, D_in, Q_out, Qn_out, clk)\n",
    "_=VerilogTextReader('DFFSyncCenter')"
   ]
  },
  {
   "cell_type": "markdown",
   "metadata": {},
   "source": [
    "!? clock in not hooked up on the wiring in this code need to figure out why\n",
    "suspect it is the ```@always(clk) ```"
   ]
  },
  {
   "cell_type": "markdown",
   "metadata": {},
   "source": [
    "### PosEdge"
   ]
  },
  {
   "cell_type": "code",
   "execution_count": 15,
   "metadata": {
    "collapsed": true
   },
   "outputs": [],
   "source": [
    "def DFFSyncPosEdge(D_in, Q_out, Qn_out, clk):\n",
    "    @always(clk.posedge)\n",
    "    def logic():\n",
    "        Q_out.next=D_in\n",
    "        Qn_out.next=not D_in\n",
    "    return logic"
   ]
  },
  {
   "cell_type": "code",
   "execution_count": 16,
   "metadata": {
    "collapsed": true
   },
   "outputs": [],
   "source": [
    "Peeker.clear()\n",
    "D_in, Q_out, Qn_out, clk=[Signal(bool(0)) for _ in range(4)]\n",
    "Peeker(D_in, 'D_in'); Peeker(clk, 'clk')\n",
    "Peeker(Q_out, 'Q_out'); Peeker(Qn_out, 'Qn_out')\n",
    "\n",
    "DUT=DFFSyncPosEdge(D_in=D_in, Q_out=Q_out, Qn_out=Qn_out, clk=clk)\n",
    "\n",
    "inputs=[D_in]\n",
    "time=[0]\n",
    "\n",
    "def DFFSync_TB(inputs=[]):\n",
    "    \n",
    "    #the # of inputs contorls everything\n",
    "    Ninputs=len(inputs)\n",
    "    tmax=2*2**Ninputs\n",
    "    #genrate sequantil number of inputs for comparsion to known\n",
    "    SequntialInputs=np.arange(2**Ninputs)\n",
    "        \n",
    "    \n",
    "    @always(delay(1))\n",
    "    def clkGen():\n",
    "        clk.next = not clk\n",
    "\n",
    "    @always(clk.negedge)\n",
    "    def stimulus():\n",
    "        time.append(time[-1]+1)\n",
    "        #run sequantial\n",
    "        try:\n",
    "            #genrate binary bit repsersintion of current sequantl input\n",
    "            NextSeqInput=np.binary_repr(SequntialInputs[time[-1]], width=Ninputs)\n",
    "\n",
    "            #pass each bit into the inputs\n",
    "            for i in range(Ninputs):\n",
    "                inputs[i].next=bool(int(NextSeqInput[i]))\n",
    "\n",
    "        #run the random to cheack for unexsected behavior\n",
    "        except IndexError:\n",
    "            NextRanInput=[random.randint(0,1) for i in range(Ninputs)]\n",
    "\n",
    "            for i in range(Ninputs):\n",
    "                inputs[i].next=NextRanInput[i]\n",
    "            \n",
    "        if time[-1]==tmax:\n",
    "            raise StopSimulation\n",
    "        \n",
    "        \n",
    "        \n",
    "        \n",
    "\n",
    "            \n",
    "\n",
    "    return clkGen, stimulus"
   ]
  },
  {
   "cell_type": "code",
   "execution_count": 17,
   "metadata": {},
   "outputs": [
    {
     "data": {
      "text/html": [
       "<div><script type=\"WaveDrom\">{\"signal\": [{\"name\": \"D_in\", \"wave\": \"0.1.....\"}, {\"name\": \"clk\", \"wave\": \"01010101\"}, {\"name\": \"Q_out[0]\", \"wave\": \"0..1....\"}, {\"name\": \"Qn_out[0]\", \"wave\": \"01.0....\"}], \"head\": {\"tock\": 0}, \"foot\": {\"tock\": 0}}</script></div>"
      ]
     },
     "metadata": {},
     "output_type": "display_data"
    },
    {
     "data": {
      "application/javascript": [
       "$.getScript(\"http://wavedrom.com/wavedrom.min.js\", function () {\n",
       "$.getScript(\"http://wavedrom.com/skins/default.js\", function () {\n",
       "WaveDrom.ProcessAll();});\n",
       "});\n"
      ]
     },
     "metadata": {},
     "output_type": "display_data"
    }
   ],
   "source": [
    "Sim=Simulation(DUT, DFFSync_TB(inputs), *Peeker.instances()).run()        \n",
    "Peeker.to_wavedrom(start_time=0, tock=True)"
   ]
  },
  {
   "cell_type": "markdown",
   "metadata": {},
   "source": [
    "#### Sythinsis \n"
   ]
  },
  {
   "cell_type": "code",
   "execution_count": 18,
   "metadata": {},
   "outputs": [
    {
     "name": "stdout",
     "output_type": "stream",
     "text": [
      "***Verilog modual from DFFSyncPosEdge.v***\n",
      "\n",
      " // File: DFFSyncPosEdge.v\n",
      "// Generated by MyHDL 0.9.0\n",
      "// Date: Thu Oct 26 01:05:13 2017\n",
      "\n",
      "\n",
      "`timescale 1ns/10ps\n",
      "\n",
      "module DFFSyncPosEdge (\n",
      "    D_in,\n",
      "    Q_out,\n",
      "    Qn_out,\n",
      "    clk\n",
      ");\n",
      "\n",
      "\n",
      "input D_in;\n",
      "output Q_out;\n",
      "reg Q_out;\n",
      "output Qn_out;\n",
      "reg Qn_out;\n",
      "input clk;\n",
      "\n",
      "\n",
      "\n",
      "\n",
      "\n",
      "\n",
      "always @(posedge clk) begin: DFFSYNCPOSEDGE_LOGIC\n",
      "    Q_out <= D_in;\n",
      "    Qn_out <= (!D_in);\n",
      "end\n",
      "\n",
      "endmodule\n",
      "\n"
     ]
    }
   ],
   "source": [
    "toVerilog(DFFSyncPosEdge, D_in, Q_out, Qn_out, clk)\n",
    "_=VerilogTextReader('DFFSyncPosEdge')"
   ]
  },
  {
   "cell_type": "markdown",
   "metadata": {},
   "source": [
    "The following shows the **Xilinx**'s _Vivado 2016.1_ RTL generated schematic of our myHDL Syncrones Postive Edge D Flip-Flop's verilog code\n",
    "<img style=\"float: center;\" src=\"DFFSyncPosBehavioralRTLSch.PNG\">"
   ]
  },
  {
   "cell_type": "markdown",
   "metadata": {},
   "source": [
    "### NegEdge"
   ]
  },
  {
   "cell_type": "code",
   "execution_count": 19,
   "metadata": {
    "collapsed": true
   },
   "outputs": [],
   "source": [
    "def DFFSyncNegEdge(D_in, Q_out, Qn_out, clk):\n",
    "    @always(clk.negedge)\n",
    "    def logic():\n",
    "        Q_out.next=D_in\n",
    "        Qn_out.next=not D_in\n",
    "    return logic"
   ]
  },
  {
   "cell_type": "code",
   "execution_count": 22,
   "metadata": {
    "collapsed": true
   },
   "outputs": [],
   "source": [
    "Peeker.clear()\n",
    "D_in, Q_out, Qn_out, clk=[Signal(bool(0)) for _ in range(4)]\n",
    "Peeker(D_in, 'D_in'); Peeker(clk, 'clk')\n",
    "Peeker(Q_out, 'Q_out'); Peeker(Qn_out, 'Qn_out')\n",
    "\n",
    "DUT=DFFSyncNegEdge(D_in=D_in, Q_out=Q_out, Qn_out=Qn_out, clk=clk)\n",
    "\n",
    "inputs=[D_in]\n",
    "time=[0]\n",
    "\n",
    "def DFFSync_TB(inputs=[]):\n",
    "    \n",
    "    #the # of inputs contorls everything\n",
    "    Ninputs=len(inputs)\n",
    "    tmax=2*2**Ninputs\n",
    "    #genrate sequantil number of inputs for comparsion to known\n",
    "    SequntialInputs=np.arange(2**Ninputs)\n",
    "        \n",
    "    \n",
    "    @always(delay(1))\n",
    "    def clkGen():\n",
    "        clk.next = not clk\n",
    "\n",
    "    @always(clk.posedge)\n",
    "    def stimulus():\n",
    "        time.append(time[-1]+1)\n",
    "        #run sequantial\n",
    "        try:\n",
    "            #genrate binary bit repsersintion of current sequantl input\n",
    "            NextSeqInput=np.binary_repr(SequntialInputs[time[-1]], width=Ninputs)\n",
    "\n",
    "            #pass each bit into the inputs\n",
    "            for i in range(Ninputs):\n",
    "                inputs[i].next=bool(int(NextSeqInput[i]))\n",
    "\n",
    "        #run the random to cheack for unexsected behavior\n",
    "        except IndexError:\n",
    "            NextRanInput=[random.randint(0,1) for i in range(Ninputs)]\n",
    "\n",
    "            for i in range(Ninputs):\n",
    "                inputs[i].next=NextRanInput[i]\n",
    "            \n",
    "        if time[-1]==tmax:\n",
    "            raise StopSimulation\n",
    "        \n",
    "        \n",
    "        \n",
    "        \n",
    "\n",
    "            \n",
    "\n",
    "    return clkGen, stimulus"
   ]
  },
  {
   "cell_type": "code",
   "execution_count": 23,
   "metadata": {},
   "outputs": [
    {
     "data": {
      "text/html": [
       "<div><script type=\"WaveDrom\">{\"signal\": [{\"name\": \"D_in\", \"wave\": \"01.0.1.\"}, {\"name\": \"clk\", \"wave\": \"0101010\"}, {\"name\": \"Q_out[0]\", \"wave\": \"0.1.0.1\"}, {\"name\": \"Qn_out[0]\", \"wave\": \"0...1.0\"}], \"head\": {\"tock\": 0}, \"foot\": {\"tock\": 0}}</script></div>"
      ]
     },
     "metadata": {},
     "output_type": "display_data"
    },
    {
     "data": {
      "application/javascript": [
       "$.getScript(\"http://wavedrom.com/wavedrom.min.js\", function () {\n",
       "$.getScript(\"http://wavedrom.com/skins/default.js\", function () {\n",
       "WaveDrom.ProcessAll();});\n",
       "});\n"
      ]
     },
     "metadata": {},
     "output_type": "display_data"
    }
   ],
   "source": [
    "Sim=Simulation(DUT, DFFSync_TB(inputs), *Peeker.instances()).run()        \n",
    "Peeker.to_wavedrom(start_time=0, tock=True)"
   ]
  },
  {
   "cell_type": "raw",
   "metadata": {},
   "source": [
    "! Need to put in comment about if pos use Neg in Test Bench and vis versa, but still need to verify"
   ]
  },
  {
   "cell_type": "code",
   "execution_count": 24,
   "metadata": {},
   "outputs": [
    {
     "name": "stdout",
     "output_type": "stream",
     "text": [
      "***Verilog modual from DFFSyncNegEdge.v***\n",
      "\n",
      " // File: DFFSyncNegEdge.v\n",
      "// Generated by MyHDL 0.9.0\n",
      "// Date: Thu Oct 26 01:11:08 2017\n",
      "\n",
      "\n",
      "`timescale 1ns/10ps\n",
      "\n",
      "module DFFSyncNegEdge (\n",
      "    D_in,\n",
      "    Q_out,\n",
      "    Qn_out,\n",
      "    clk\n",
      ");\n",
      "\n",
      "\n",
      "input D_in;\n",
      "output Q_out;\n",
      "reg Q_out;\n",
      "output Qn_out;\n",
      "reg Qn_out;\n",
      "input clk;\n",
      "\n",
      "\n",
      "\n",
      "\n",
      "\n",
      "\n",
      "always @(negedge clk) begin: DFFSYNCNEGEDGE_LOGIC\n",
      "    Q_out <= D_in;\n",
      "    Qn_out <= (!D_in);\n",
      "end\n",
      "\n",
      "endmodule\n",
      "\n"
     ]
    }
   ],
   "source": [
    "toVerilog(DFFSyncNegEdge, D_in, Q_out, Qn_out, clk)\n",
    "_=VerilogTextReader('DFFSyncNegEdge')"
   ]
  },
  {
   "cell_type": "markdown",
   "metadata": {},
   "source": [
    "The following shows the **Xilinx**'s _Vivado 2016.1_ RTL generated schematic of our myHDL Syncrones Postive Edge D Flip-Flop's verilog code\n",
    "<img style=\"float: center;\" src=\"DFFSyncNegBehavioralRTLSch.PNG\">"
   ]
  },
  {
   "cell_type": "markdown",
   "metadata": {},
   "source": [
    "## Asyncroness"
   ]
  },
  {
   "cell_type": "markdown",
   "metadata": {},
   "source": [
    "# SR Flip Flop"
   ]
  },
  {
   "cell_type": "markdown",
   "metadata": {},
   "source": [
    "# JK Flip Flop"
   ]
  },
  {
   "cell_type": "markdown",
   "metadata": {},
   "source": [
    "# T Flip Flop"
   ]
  },
  {
   "cell_type": "code",
   "execution_count": null,
   "metadata": {
    "collapsed": true
   },
   "outputs": [],
   "source": []
  }
 ],
 "metadata": {
  "author": "Digital Flip-Flops with myHDL",
  "hide_input": false,
  "kernelspec": {
   "display_name": "Python 3",
   "language": "python",
   "name": "python3"
  },
  "language_info": {
   "codemirror_mode": {
    "name": "ipython",
    "version": 3
   },
   "file_extension": ".py",
   "mimetype": "text/x-python",
   "name": "python",
   "nbconvert_exporter": "python",
   "pygments_lexer": "ipython3",
   "version": "3.6.1"
  },
  "latex_envs": {
   "LaTeX_envs_menu_present": true,
   "autocomplete": true,
   "bibliofile": "biblio.bib",
   "cite_by": "apalike",
   "current_citInitial": 1,
   "eqLabelWithNumbers": true,
   "eqNumInitial": 1,
   "hotkeys": {
    "equation": "Ctrl-E",
    "itemize": "Ctrl-I"
   },
   "labels_anchors": false,
   "latex_user_defs": false,
   "report_style_numbering": false,
   "user_envs_cfg": false
  },
  "toc": {
   "colors": {
    "hover_highlight": "#DAA520",
    "navigate_num": "#000000",
    "navigate_text": "#333333",
    "running_highlight": "#FF0000",
    "selected_highlight": "#FFD700",
    "sidebar_border": "#EEEEEE",
    "wrapper_background": "#FFFFFF"
   },
   "moveMenuLeft": true,
   "nav_menu": {
    "height": "281px",
    "width": "252px"
   },
   "navigate_menu": true,
   "number_sections": true,
   "sideBar": true,
   "threshold": 4,
   "toc_cell": false,
   "toc_section_display": "block",
   "toc_window_display": false,
   "widenNotebook": false
  }
 },
 "nbformat": 4,
 "nbformat_minor": 2
}
