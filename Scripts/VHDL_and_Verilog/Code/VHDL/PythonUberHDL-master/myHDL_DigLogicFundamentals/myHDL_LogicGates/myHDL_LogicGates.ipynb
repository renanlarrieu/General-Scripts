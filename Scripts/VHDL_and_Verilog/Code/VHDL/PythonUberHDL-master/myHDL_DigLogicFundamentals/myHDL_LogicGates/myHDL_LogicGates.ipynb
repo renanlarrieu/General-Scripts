{
 "cells": [
  {
   "cell_type": "markdown",
   "metadata": {},
   "source": [
    "\\title{Logic Gate Primitives in myHDL}\n",
    "\\author{Steven K Armour}\n",
    "\\maketitle"
   ]
  },
  {
   "cell_type": "markdown",
   "metadata": {
    "toc": true
   },
   "source": [
    "<h1>Table of Contents<span class=\"tocSkip\"></span></h1>\n",
    "<div class=\"toc\" style=\"margin-top: 1em;\"><ul class=\"toc-item\"><li><span><a href=\"#Libraries-and-Helper-functions\" data-toc-modified-id=\"Libraries-and-Helper-functions-1\"><span class=\"toc-item-num\">1&nbsp;&nbsp;</span>Libraries and Helper functions</a></span></li><li><span><a href=\"#Table-of-Digital-Gate-Symbols-commonly-used\" data-toc-modified-id=\"Table-of-Digital-Gate-Symbols-commonly-used-2\"><span class=\"toc-item-num\">2&nbsp;&nbsp;</span>Table of Digital Gate Symbols commonly used</a></span></li><li><span><a href=\"#How-to-load-output-Verilog-from-myHDL-to-Xilinx's-Vivado\" data-toc-modified-id=\"How-to-load-output-Verilog-from-myHDL-to-Xilinx's-Vivado-3\"><span class=\"toc-item-num\">3&nbsp;&nbsp;</span>How to load output Verilog from myHDL to Xilinx's Vivado</a></span></li><li><span><a href=\"#Wire-High\" data-toc-modified-id=\"Wire-High-4\"><span class=\"toc-item-num\">4&nbsp;&nbsp;</span>Wire High</a></span><ul class=\"toc-item\"><li><span><a href=\"#Sympy-Exspresion\" data-toc-modified-id=\"Sympy-Exspresion-4.1\"><span class=\"toc-item-num\">4.1&nbsp;&nbsp;</span>Sympy Exspresion</a></span></li><li><span><a href=\"#myHDL-Module\" data-toc-modified-id=\"myHDL-Module-4.2\"><span class=\"toc-item-num\">4.2&nbsp;&nbsp;</span>myHDL Module</a></span></li><li><span><a href=\"#Verilog-Conversion\" data-toc-modified-id=\"Verilog-Conversion-4.3\"><span class=\"toc-item-num\">4.3&nbsp;&nbsp;</span>Verilog Conversion</a></span></li><li><span><a href=\"#PYNQ-Z1-Deployment\" data-toc-modified-id=\"PYNQ-Z1-Deployment-4.4\"><span class=\"toc-item-num\">4.4&nbsp;&nbsp;</span>PYNQ-Z1 Deployment</a></span><ul class=\"toc-item\"><li><span><a href=\"#Board-Circuit\" data-toc-modified-id=\"Board-Circuit-4.4.1\"><span class=\"toc-item-num\">4.4.1&nbsp;&nbsp;</span>Board Circuit</a></span></li><li><span><a href=\"#Board-Constraint\" data-toc-modified-id=\"Board-Constraint-4.4.2\"><span class=\"toc-item-num\">4.4.2&nbsp;&nbsp;</span>Board Constraint</a></span></li></ul></li></ul></li><li><span><a href=\"#Wire-Low\" data-toc-modified-id=\"Wire-Low-5\"><span class=\"toc-item-num\">5&nbsp;&nbsp;</span>Wire Low</a></span><ul class=\"toc-item\"><li><span><a href=\"#Sympy-Expression\" data-toc-modified-id=\"Sympy-Expression-5.1\"><span class=\"toc-item-num\">5.1&nbsp;&nbsp;</span>Sympy Expression</a></span></li><li><span><a href=\"#myHDL-Module\" data-toc-modified-id=\"myHDL-Module-5.2\"><span class=\"toc-item-num\">5.2&nbsp;&nbsp;</span>myHDL Module</a></span></li><li><span><a href=\"#Verilog-Conversion\" data-toc-modified-id=\"Verilog-Conversion-5.3\"><span class=\"toc-item-num\">5.3&nbsp;&nbsp;</span>Verilog Conversion</a></span></li><li><span><a href=\"#PYNQ-Z1-Deployment\" data-toc-modified-id=\"PYNQ-Z1-Deployment-5.4\"><span class=\"toc-item-num\">5.4&nbsp;&nbsp;</span>PYNQ-Z1 Deployment</a></span><ul class=\"toc-item\"><li><span><a href=\"#Board-Circuit\" data-toc-modified-id=\"Board-Circuit-5.4.1\"><span class=\"toc-item-num\">5.4.1&nbsp;&nbsp;</span>Board Circuit</a></span></li><li><span><a href=\"#Board-Constraint\" data-toc-modified-id=\"Board-Constraint-5.4.2\"><span class=\"toc-item-num\">5.4.2&nbsp;&nbsp;</span>Board Constraint</a></span></li></ul></li></ul></li><li><span><a href=\"#Buffer\" data-toc-modified-id=\"Buffer-6\"><span class=\"toc-item-num\">6&nbsp;&nbsp;</span>Buffer</a></span><ul class=\"toc-item\"><li><span><a href=\"#Sympy-Expression\" data-toc-modified-id=\"Sympy-Expression-6.1\"><span class=\"toc-item-num\">6.1&nbsp;&nbsp;</span>Sympy Expression</a></span></li><li><span><a href=\"#myHDL-Module\" data-toc-modified-id=\"myHDL-Module-6.2\"><span class=\"toc-item-num\">6.2&nbsp;&nbsp;</span>myHDL Module</a></span></li><li><span><a href=\"#myHDL-Testing\" data-toc-modified-id=\"myHDL-Testing-6.3\"><span class=\"toc-item-num\">6.3&nbsp;&nbsp;</span>myHDL Testing</a></span></li><li><span><a href=\"#Verilog-Conversion\" data-toc-modified-id=\"Verilog-Conversion-6.4\"><span class=\"toc-item-num\">6.4&nbsp;&nbsp;</span>Verilog Conversion</a></span></li><li><span><a href=\"#myHDL-to-Verilog-Testbench\" data-toc-modified-id=\"myHDL-to-Verilog-Testbench-6.5\"><span class=\"toc-item-num\">6.5&nbsp;&nbsp;</span>myHDL to Verilog Testbench</a></span></li><li><span><a href=\"#PYNQ-Z1-Deployment\" data-toc-modified-id=\"PYNQ-Z1-Deployment-6.6\"><span class=\"toc-item-num\">6.6&nbsp;&nbsp;</span>PYNQ-Z1 Deployment</a></span><ul class=\"toc-item\"><li><span><a href=\"#Board-Circuit\" data-toc-modified-id=\"Board-Circuit-6.6.1\"><span class=\"toc-item-num\">6.6.1&nbsp;&nbsp;</span>Board Circuit</a></span></li><li><span><a href=\"#Board-Constraint-File\" data-toc-modified-id=\"Board-Constraint-File-6.6.2\"><span class=\"toc-item-num\">6.6.2&nbsp;&nbsp;</span>Board Constraint File</a></span></li><li><span><a href=\"#Video-of-Deployment\" data-toc-modified-id=\"Video-of-Deployment-6.6.3\"><span class=\"toc-item-num\">6.6.3&nbsp;&nbsp;</span>Video of Deployment</a></span></li></ul></li></ul></li><li><span><a href=\"#NOT\" data-toc-modified-id=\"NOT-7\"><span class=\"toc-item-num\">7&nbsp;&nbsp;</span>NOT</a></span><ul class=\"toc-item\"><li><span><a href=\"#Sympy-Expression\" data-toc-modified-id=\"Sympy-Expression-7.1\"><span class=\"toc-item-num\">7.1&nbsp;&nbsp;</span>Sympy Expression</a></span></li><li><span><a href=\"#myHDL-Module\" data-toc-modified-id=\"myHDL-Module-7.2\"><span class=\"toc-item-num\">7.2&nbsp;&nbsp;</span>myHDL Module</a></span></li><li><span><a href=\"#myHDL-Testing\" data-toc-modified-id=\"myHDL-Testing-7.3\"><span class=\"toc-item-num\">7.3&nbsp;&nbsp;</span>myHDL Testing</a></span></li><li><span><a href=\"#Verilog-Conversion\" data-toc-modified-id=\"Verilog-Conversion-7.4\"><span class=\"toc-item-num\">7.4&nbsp;&nbsp;</span>Verilog Conversion</a></span></li><li><span><a href=\"#myHDL-to-Verilog-Testbench\" data-toc-modified-id=\"myHDL-to-Verilog-Testbench-7.5\"><span class=\"toc-item-num\">7.5&nbsp;&nbsp;</span>myHDL to Verilog Testbench</a></span></li><li><span><a href=\"#PYNQ-Z1-Deployment\" data-toc-modified-id=\"PYNQ-Z1-Deployment-7.6\"><span class=\"toc-item-num\">7.6&nbsp;&nbsp;</span>PYNQ-Z1 Deployment</a></span><ul class=\"toc-item\"><li><span><a href=\"#Board-Circuit\" data-toc-modified-id=\"Board-Circuit-7.6.1\"><span class=\"toc-item-num\">7.6.1&nbsp;&nbsp;</span>Board Circuit</a></span></li><li><span><a href=\"#Board-Constraint\" data-toc-modified-id=\"Board-Constraint-7.6.2\"><span class=\"toc-item-num\">7.6.2&nbsp;&nbsp;</span>Board Constraint</a></span></li><li><span><a href=\"#Video-of-Deployment\" data-toc-modified-id=\"Video-of-Deployment-7.6.3\"><span class=\"toc-item-num\">7.6.3&nbsp;&nbsp;</span>Video of Deployment</a></span></li></ul></li></ul></li><li><span><a href=\"#AND\" data-toc-modified-id=\"AND-8\"><span class=\"toc-item-num\">8&nbsp;&nbsp;</span>AND</a></span><ul class=\"toc-item\"><li><span><a href=\"#Sympy-Expression\" data-toc-modified-id=\"Sympy-Expression-8.1\"><span class=\"toc-item-num\">8.1&nbsp;&nbsp;</span>Sympy Expression</a></span></li><li><span><a href=\"#myHDL-Module\" data-toc-modified-id=\"myHDL-Module-8.2\"><span class=\"toc-item-num\">8.2&nbsp;&nbsp;</span>myHDL Module</a></span></li><li><span><a href=\"#myHDL-Testing\" data-toc-modified-id=\"myHDL-Testing-8.3\"><span class=\"toc-item-num\">8.3&nbsp;&nbsp;</span>myHDL Testing</a></span></li><li><span><a href=\"#Verilog-Conversion\" data-toc-modified-id=\"Verilog-Conversion-8.4\"><span class=\"toc-item-num\">8.4&nbsp;&nbsp;</span>Verilog Conversion</a></span></li><li><span><a href=\"#myHDL-to-Verilog-Testbench\" data-toc-modified-id=\"myHDL-to-Verilog-Testbench-8.5\"><span class=\"toc-item-num\">8.5&nbsp;&nbsp;</span>myHDL to Verilog Testbench</a></span></li><li><span><a href=\"#PYNQ-Z1-Deployment\" data-toc-modified-id=\"PYNQ-Z1-Deployment-8.6\"><span class=\"toc-item-num\">8.6&nbsp;&nbsp;</span>PYNQ-Z1 Deployment</a></span><ul class=\"toc-item\"><li><span><a href=\"#Board-Circuit\" data-toc-modified-id=\"Board-Circuit-8.6.1\"><span class=\"toc-item-num\">8.6.1&nbsp;&nbsp;</span>Board Circuit</a></span></li><li><span><a href=\"#Board-Constraint\" data-toc-modified-id=\"Board-Constraint-8.6.2\"><span class=\"toc-item-num\">8.6.2&nbsp;&nbsp;</span>Board Constraint</a></span></li><li><span><a href=\"#Video-of-Deployment\" data-toc-modified-id=\"Video-of-Deployment-8.6.3\"><span class=\"toc-item-num\">8.6.3&nbsp;&nbsp;</span>Video of Deployment</a></span></li></ul></li></ul></li><li><span><a href=\"#OR\" data-toc-modified-id=\"OR-9\"><span class=\"toc-item-num\">9&nbsp;&nbsp;</span>OR</a></span><ul class=\"toc-item\"><li><span><a href=\"#Sympy-Expression\" data-toc-modified-id=\"Sympy-Expression-9.1\"><span class=\"toc-item-num\">9.1&nbsp;&nbsp;</span>Sympy Expression</a></span></li><li><span><a href=\"#myHDL-Module\" data-toc-modified-id=\"myHDL-Module-9.2\"><span class=\"toc-item-num\">9.2&nbsp;&nbsp;</span>myHDL Module</a></span></li><li><span><a href=\"#myHDL-Testing\" data-toc-modified-id=\"myHDL-Testing-9.3\"><span class=\"toc-item-num\">9.3&nbsp;&nbsp;</span>myHDL Testing</a></span></li><li><span><a href=\"#Verilog-Conversion\" data-toc-modified-id=\"Verilog-Conversion-9.4\"><span class=\"toc-item-num\">9.4&nbsp;&nbsp;</span>Verilog Conversion</a></span></li><li><span><a href=\"#myHDL-to-Verilog-Testbench\" data-toc-modified-id=\"myHDL-to-Verilog-Testbench-9.5\"><span class=\"toc-item-num\">9.5&nbsp;&nbsp;</span>myHDL to Verilog Testbench</a></span></li><li><span><a href=\"#PYNQ-Z1-Deployment\" data-toc-modified-id=\"PYNQ-Z1-Deployment-9.6\"><span class=\"toc-item-num\">9.6&nbsp;&nbsp;</span>PYNQ-Z1 Deployment</a></span><ul class=\"toc-item\"><li><span><a href=\"#Board-Circuit\" data-toc-modified-id=\"Board-Circuit-9.6.1\"><span class=\"toc-item-num\">9.6.1&nbsp;&nbsp;</span>Board Circuit</a></span></li><li><span><a href=\"#Board-Constraint\" data-toc-modified-id=\"Board-Constraint-9.6.2\"><span class=\"toc-item-num\">9.6.2&nbsp;&nbsp;</span>Board Constraint</a></span></li><li><span><a href=\"#Video-of-Deployment\" data-toc-modified-id=\"Video-of-Deployment-9.6.3\"><span class=\"toc-item-num\">9.6.3&nbsp;&nbsp;</span>Video of Deployment</a></span></li></ul></li></ul></li><li><span><a href=\"#XOR\" data-toc-modified-id=\"XOR-10\"><span class=\"toc-item-num\">10&nbsp;&nbsp;</span>XOR</a></span><ul class=\"toc-item\"><li><span><a href=\"#Sympy-Expression\" data-toc-modified-id=\"Sympy-Expression-10.1\"><span class=\"toc-item-num\">10.1&nbsp;&nbsp;</span>Sympy Expression</a></span></li><li><span><a href=\"#myHDL-Module\" data-toc-modified-id=\"myHDL-Module-10.2\"><span class=\"toc-item-num\">10.2&nbsp;&nbsp;</span>myHDL Module</a></span></li><li><span><a href=\"#myHDL-Testing\" data-toc-modified-id=\"myHDL-Testing-10.3\"><span class=\"toc-item-num\">10.3&nbsp;&nbsp;</span>myHDL Testing</a></span></li><li><span><a href=\"#Verilog-Conversion\" data-toc-modified-id=\"Verilog-Conversion-10.4\"><span class=\"toc-item-num\">10.4&nbsp;&nbsp;</span>Verilog Conversion</a></span></li><li><span><a href=\"#myHDL-to-Verilog-Testbench\" data-toc-modified-id=\"myHDL-to-Verilog-Testbench-10.5\"><span class=\"toc-item-num\">10.5&nbsp;&nbsp;</span>myHDL to Verilog Testbench</a></span></li><li><span><a href=\"#PYNQ-Z1-Deployment\" data-toc-modified-id=\"PYNQ-Z1-Deployment-10.6\"><span class=\"toc-item-num\">10.6&nbsp;&nbsp;</span>PYNQ-Z1 Deployment</a></span><ul class=\"toc-item\"><li><span><a href=\"#Board-Circuit\" data-toc-modified-id=\"Board-Circuit-10.6.1\"><span class=\"toc-item-num\">10.6.1&nbsp;&nbsp;</span>Board Circuit</a></span></li><li><span><a href=\"#Board-Constraint\" data-toc-modified-id=\"Board-Constraint-10.6.2\"><span class=\"toc-item-num\">10.6.2&nbsp;&nbsp;</span>Board Constraint</a></span></li><li><span><a href=\"#Video-of-Deployment\" data-toc-modified-id=\"Video-of-Deployment-10.6.3\"><span class=\"toc-item-num\">10.6.3&nbsp;&nbsp;</span>Video of Deployment</a></span></li></ul></li></ul></li><li><span><a href=\"#NAND\" data-toc-modified-id=\"NAND-11\"><span class=\"toc-item-num\">11&nbsp;&nbsp;</span>NAND</a></span><ul class=\"toc-item\"><li><span><a href=\"#Sympy-Expression\" data-toc-modified-id=\"Sympy-Expression-11.1\"><span class=\"toc-item-num\">11.1&nbsp;&nbsp;</span>Sympy Expression</a></span></li><li><span><a href=\"#myHDL-Module\" data-toc-modified-id=\"myHDL-Module-11.2\"><span class=\"toc-item-num\">11.2&nbsp;&nbsp;</span>myHDL Module</a></span></li><li><span><a href=\"#myHDL-Testing\" data-toc-modified-id=\"myHDL-Testing-11.3\"><span class=\"toc-item-num\">11.3&nbsp;&nbsp;</span>myHDL Testing</a></span></li><li><span><a href=\"#Verilog-Conversion\" data-toc-modified-id=\"Verilog-Conversion-11.4\"><span class=\"toc-item-num\">11.4&nbsp;&nbsp;</span>Verilog Conversion</a></span></li><li><span><a href=\"#myHDL-to-Verilog-Testbench\" data-toc-modified-id=\"myHDL-to-Verilog-Testbench-11.5\"><span class=\"toc-item-num\">11.5&nbsp;&nbsp;</span>myHDL to Verilog Testbench</a></span></li><li><span><a href=\"#PYNQ-Z1-Deyployment\" data-toc-modified-id=\"PYNQ-Z1-Deyployment-11.6\"><span class=\"toc-item-num\">11.6&nbsp;&nbsp;</span>PYNQ-Z1 Deyployment</a></span><ul class=\"toc-item\"><li><span><a href=\"#Board-Circuit\" data-toc-modified-id=\"Board-Circuit-11.6.1\"><span class=\"toc-item-num\">11.6.1&nbsp;&nbsp;</span>Board Circuit</a></span></li><li><span><a href=\"#Board-Constraint\" data-toc-modified-id=\"Board-Constraint-11.6.2\"><span class=\"toc-item-num\">11.6.2&nbsp;&nbsp;</span>Board Constraint</a></span></li><li><span><a href=\"#Video-of-Deployment\" data-toc-modified-id=\"Video-of-Deployment-11.6.3\"><span class=\"toc-item-num\">11.6.3&nbsp;&nbsp;</span>Video of Deployment</a></span></li></ul></li></ul></li><li><span><a href=\"#NOR\" data-toc-modified-id=\"NOR-12\"><span class=\"toc-item-num\">12&nbsp;&nbsp;</span>NOR</a></span><ul class=\"toc-item\"><li><span><a href=\"#Sympy-Expression\" data-toc-modified-id=\"Sympy-Expression-12.1\"><span class=\"toc-item-num\">12.1&nbsp;&nbsp;</span>Sympy Expression</a></span></li><li><span><a href=\"#myHDL-Module\" data-toc-modified-id=\"myHDL-Module-12.2\"><span class=\"toc-item-num\">12.2&nbsp;&nbsp;</span>myHDL Module</a></span></li><li><span><a href=\"#myHDL-Testing\" data-toc-modified-id=\"myHDL-Testing-12.3\"><span class=\"toc-item-num\">12.3&nbsp;&nbsp;</span>myHDL Testing</a></span></li><li><span><a href=\"#Verilog-Conversion\" data-toc-modified-id=\"Verilog-Conversion-12.4\"><span class=\"toc-item-num\">12.4&nbsp;&nbsp;</span>Verilog Conversion</a></span></li><li><span><a href=\"#myHDL-to-Verilog-Testbench\" data-toc-modified-id=\"myHDL-to-Verilog-Testbench-12.5\"><span class=\"toc-item-num\">12.5&nbsp;&nbsp;</span>myHDL to Verilog Testbench</a></span></li><li><span><a href=\"#PYNQ-Z1-Deployment\" data-toc-modified-id=\"PYNQ-Z1-Deployment-12.6\"><span class=\"toc-item-num\">12.6&nbsp;&nbsp;</span>PYNQ-Z1 Deployment</a></span><ul class=\"toc-item\"><li><span><a href=\"#Board-Circuit\" data-toc-modified-id=\"Board-Circuit-12.6.1\"><span class=\"toc-item-num\">12.6.1&nbsp;&nbsp;</span>Board Circuit</a></span></li><li><span><a href=\"#Board-Constraint\" data-toc-modified-id=\"Board-Constraint-12.6.2\"><span class=\"toc-item-num\">12.6.2&nbsp;&nbsp;</span>Board Constraint</a></span></li><li><span><a href=\"#Video-of-Deployment\" data-toc-modified-id=\"Video-of-Deployment-12.6.3\"><span class=\"toc-item-num\">12.6.3&nbsp;&nbsp;</span>Video of Deployment</a></span></li></ul></li></ul></li><li><span><a href=\"#XNOR\" data-toc-modified-id=\"XNOR-13\"><span class=\"toc-item-num\">13&nbsp;&nbsp;</span>XNOR</a></span><ul class=\"toc-item\"><li><span><a href=\"#Sympy-Expression\" data-toc-modified-id=\"Sympy-Expression-13.1\"><span class=\"toc-item-num\">13.1&nbsp;&nbsp;</span>Sympy Expression</a></span></li><li><span><a href=\"#myHDL-Module\" data-toc-modified-id=\"myHDL-Module-13.2\"><span class=\"toc-item-num\">13.2&nbsp;&nbsp;</span>myHDL Module</a></span></li><li><span><a href=\"#myHDL-Testing\" data-toc-modified-id=\"myHDL-Testing-13.3\"><span class=\"toc-item-num\">13.3&nbsp;&nbsp;</span>myHDL Testing</a></span></li><li><span><a href=\"#Verilog-Conversion\" data-toc-modified-id=\"Verilog-Conversion-13.4\"><span class=\"toc-item-num\">13.4&nbsp;&nbsp;</span>Verilog Conversion</a></span></li><li><span><a href=\"#myHDL-to-Verilog-Testbench\" data-toc-modified-id=\"myHDL-to-Verilog-Testbench-13.5\"><span class=\"toc-item-num\">13.5&nbsp;&nbsp;</span>myHDL to Verilog Testbench</a></span></li><li><span><a href=\"#PYNQ-Z1-Deployment\" data-toc-modified-id=\"PYNQ-Z1-Deployment-13.6\"><span class=\"toc-item-num\">13.6&nbsp;&nbsp;</span>PYNQ-Z1 Deployment</a></span><ul class=\"toc-item\"><li><span><a href=\"#Board-Circuit\" data-toc-modified-id=\"Board-Circuit-13.6.1\"><span class=\"toc-item-num\">13.6.1&nbsp;&nbsp;</span>Board Circuit</a></span></li><li><span><a href=\"#Board-Constraint\" data-toc-modified-id=\"Board-Constraint-13.6.2\"><span class=\"toc-item-num\">13.6.2&nbsp;&nbsp;</span>Board Constraint</a></span></li><li><span><a href=\"#Video-of-Deployment\" data-toc-modified-id=\"Video-of-Deployment-13.6.3\"><span class=\"toc-item-num\">13.6.3&nbsp;&nbsp;</span>Video of Deployment</a></span></li></ul></li></ul></li></ul></div>"
   ]
  },
  {
   "cell_type": "markdown",
   "metadata": {},
   "source": [
    "# Libraries and Helper functions"
   ]
  },
  {
   "cell_type": "code",
   "execution_count": 1,
   "metadata": {},
   "outputs": [
    {
     "data": {
      "application/json": {
       "Software versions": [
        {
         "module": "Python",
         "version": "3.6.2 64bit [GCC 4.4.7 20120313 (Red Hat 4.4.7-1)]"
        },
        {
         "module": "IPython",
         "version": "6.2.1"
        },
        {
         "module": "OS",
         "version": "Linux 4.15.0 30 generic x86_64 with debian stretch sid"
        },
        {
         "module": "myhdl",
         "version": "0.10"
        },
        {
         "module": "myhdlpeek",
         "version": "0.0.6"
        },
        {
         "module": "numpy",
         "version": "1.13.3"
        },
        {
         "module": "pandas",
         "version": "0.23.3"
        },
        {
         "module": "matplotlib",
         "version": "2.1.0"
        },
        {
         "module": "sympy",
         "version": "1.1.2.dev"
        },
        {
         "module": "itertools",
         "version": "The 'itertools' distribution was not found and is required by the application"
        },
        {
         "module": "SchemDraw",
         "version": "0.3.0"
        }
       ]
      },
      "text/html": [
       "<table><tr><th>Software</th><th>Version</th></tr><tr><td>Python</td><td>3.6.2 64bit [GCC 4.4.7 20120313 (Red Hat 4.4.7-1)]</td></tr><tr><td>IPython</td><td>6.2.1</td></tr><tr><td>OS</td><td>Linux 4.15.0 30 generic x86_64 with debian stretch sid</td></tr><tr><td>myhdl</td><td>0.10</td></tr><tr><td>myhdlpeek</td><td>0.0.6</td></tr><tr><td>numpy</td><td>1.13.3</td></tr><tr><td>pandas</td><td>0.23.3</td></tr><tr><td>matplotlib</td><td>2.1.0</td></tr><tr><td>sympy</td><td>1.1.2.dev</td></tr><tr><td>itertools</td><td>The 'itertools' distribution was not found and is required by the application</td></tr><tr><td>SchemDraw</td><td>0.3.0</td></tr><tr><td colspan='2'>Mon Sep 03 14:42:23 2018 MDT</td></tr></table>"
      ],
      "text/latex": [
       "\\begin{tabular}{|l|l|}\\hline\n",
       "{\\bf Software} & {\\bf Version} \\\\ \\hline\\hline\n",
       "Python & 3.6.2 64bit [GCC 4.4.7 20120313 (Red Hat 4.4.7-1)] \\\\ \\hline\n",
       "IPython & 6.2.1 \\\\ \\hline\n",
       "OS & Linux 4.15.0 30 generic x86\\_64 with debian stretch sid \\\\ \\hline\n",
       "myhdl & 0.10 \\\\ \\hline\n",
       "myhdlpeek & 0.0.6 \\\\ \\hline\n",
       "numpy & 1.13.3 \\\\ \\hline\n",
       "pandas & 0.23.3 \\\\ \\hline\n",
       "matplotlib & 2.1.0 \\\\ \\hline\n",
       "sympy & 1.1.2.dev \\\\ \\hline\n",
       "itertools & The 'itertools' distribution was not found and is required by the application \\\\ \\hline\n",
       "SchemDraw & 0.3.0 \\\\ \\hline\n",
       "\\hline \\multicolumn{2}{|l|}{Mon Sep 03 14:42:23 2018 MDT} \\\\ \\hline\n",
       "\\end{tabular}\n"
      ],
      "text/plain": [
       "Software versions\n",
       "Python 3.6.2 64bit [GCC 4.4.7 20120313 (Red Hat 4.4.7-1)]\n",
       "IPython 6.2.1\n",
       "OS Linux 4.15.0 30 generic x86_64 with debian stretch sid\n",
       "myhdl 0.10\n",
       "myhdlpeek 0.0.6\n",
       "numpy 1.13.3\n",
       "pandas 0.23.3\n",
       "matplotlib 2.1.0\n",
       "sympy 1.1.2.dev\n",
       "itertools The 'itertools' distribution was not found and is required by the application\n",
       "SchemDraw 0.3.0\n",
       "Mon Sep 03 14:42:23 2018 MDT"
      ]
     },
     "execution_count": 1,
     "metadata": {},
     "output_type": "execute_result"
    }
   ],
   "source": [
    "#This notebook also uses the `(some) LaTeX environments for Jupyter`\n",
    "#https://github.com/ProfFan/latex_envs wich is part of the\n",
    "#jupyter_contrib_nbextensions package\n",
    "\n",
    "from myhdl import *\n",
    "from myhdlpeek import Peeker\n",
    "import numpy as np\n",
    "import pandas as pd\n",
    "import matplotlib.pyplot as plt\n",
    "%matplotlib inline\n",
    "\n",
    "from sympy import *\n",
    "init_printing()\n",
    "\n",
    "import itertools\n",
    "\n",
    "#EE drawing tools in python from https://cdelker.bitbucket.io/SchemDraw/\n",
    "import SchemDraw as schem\n",
    "import SchemDraw.elements as e\n",
    "import SchemDraw.logic as l\n",
    "\n",
    "#https://github.com/jrjohansson/version_information\n",
    "%load_ext version_information\n",
    "%version_information myhdl, myhdlpeek, numpy, pandas, matplotlib, sympy, itertools, SchemDraw"
   ]
  },
  {
   "cell_type": "code",
   "execution_count": 2,
   "metadata": {},
   "outputs": [],
   "source": [
    "#helper  functions to read in the .v and .vhd generated files into python\n",
    "def VerilogTextReader(loc, printresult=True):\n",
    "    with open(f'{loc}.v', 'r') as vText:\n",
    "        VerilogText=vText.read()\n",
    "    if printresult:\n",
    "        print(f'***Verilog modual from {loc}.v***\\n\\n', VerilogText)\n",
    "    return VerilogText\n",
    "\n",
    "def VHDLTextReader(loc, printresult=True):\n",
    "    with open(f'{loc}.vhd', 'r') as vText:\n",
    "        VerilogText=vText.read()\n",
    "    if printresult:\n",
    "        print(f'***VHDL modual from {loc}.vhd***\\n\\n', VerilogText)\n",
    "    return VerilogText\n",
    "\n",
    "def ConstraintXDCTextReader(loc, printresult=True):\n",
    "    with open(f'{loc}.xdc', 'r') as xdcText:\n",
    "        ConstraintText=xdcText.read()\n",
    "    if printresult:\n",
    "        print(f'***Constraint file from {loc}.xdc***\\n\\n', ConstraintText)\n",
    "    return ConstraintText"
   ]
  },
  {
   "cell_type": "code",
   "execution_count": 3,
   "metadata": {},
   "outputs": [],
   "source": [
    "def TruthTabelGenrator(BoolSymFunc):\n",
    "    \"\"\"\n",
    "    Function to generate a truth table from a sympy boolian expression\n",
    "    BoolSymFunc: sympy boolian expression\n",
    "    return TT: a Truth table stored in a pandas dataframe\n",
    "    \"\"\"\n",
    "    colsL=sorted([i for i in list(BoolSymFunc.rhs.atoms())], key=lambda x:x.sort_key())\n",
    "    colsR=sorted([i for i in list(BoolSymFunc.lhs.atoms())], key=lambda x:x.sort_key())\n",
    "    bitwidth=len(colsL)\n",
    "    cols=colsL+colsR; cols\n",
    "    \n",
    "    TT=pd.DataFrame(columns=cols, index=range(2**bitwidth))\n",
    "    \n",
    "    for i in range(2**bitwidth):\n",
    "        inputs=[int(j) for j in list(np.binary_repr(i, bitwidth))]\n",
    "        outputs=BoolSymFunc.rhs.subs({j:v for j, v in zip(colsL, inputs)})\n",
    "        inputs.append(int(bool(outputs)))\n",
    "        TT.iloc[i]=inputs\n",
    "    \n",
    "    return TT\n",
    "    \n",
    "    \n",
    "    "
   ]
  },
  {
   "cell_type": "markdown",
   "metadata": {},
   "source": [
    "# Table of Digital Gate Symbols commonly used \n",
    "\n",
    "\\begin{figure}\n",
    "\\centerline{\\includegraphics[width=10cm]{LogicGateSymbols.jpg}}\n",
    "\\caption{\\label{fig:GateSyms} Table of selected Logic Gate Symbols found worldwide; http://www.nutsvolts.com/magazine/article/understanding_digital_buffer_gate_and_ic_circuits_part_1}\n",
    "\\end{figure}"
   ]
  },
  {
   "cell_type": "markdown",
   "metadata": {},
   "source": [
    "# How to load output Verilog from myHDL to Xilinx's Vivado\n",
    "[YouTube](https://youtu.be/K6rLsdJO2CE) "
   ]
  },
  {
   "cell_type": "markdown",
   "metadata": {},
   "source": [
    "# Wire High"
   ]
  },
  {
   "cell_type": "markdown",
   "metadata": {},
   "source": [
    "\\begin{definition}\\label{def:Wire High}\n",
    "A Wire to High is a Wire connected to the Highest reference voltage in a Digital Circuit with the Boolean equivalency of \n",
    "$$Y=1$$\n",
    "that of **always True**\n",
    "\\end{definition}\n"
   ]
  },
  {
   "cell_type": "code",
   "execution_count": 4,
   "metadata": {},
   "outputs": [
    {
     "data": {
      "image/png": "[encoded data removed]",
      "text/plain": [
       "<matplotlib.figure.Figure at 0x7f228efaf128>"
      ]
     },
     "metadata": {},
     "output_type": "display_data"
    }
   ],
   "source": [
    "d = schem.Drawing(unit=.5)\n",
    "d.add(e.VDD, label='High')\n",
    "d.add(e.LINE, l=d.unit*2, d='down')\n",
    "d.add(e.DOT_OPEN, botlabel='$1$')\n",
    "d.draw()"
   ]
  },
  {
   "cell_type": "markdown",
   "metadata": {},
   "source": [
    "## Sympy Exspresion"
   ]
  },
  {
   "cell_type": "code",
   "execution_count": 5,
   "metadata": {},
   "outputs": [
    {
     "data": {
      "image/png": "[encoded data removed]",
      "text/latex": [
       "$$Y = 1$$"
      ],
      "text/plain": [
       "Y = 1"
      ]
     },
     "execution_count": 5,
     "metadata": {},
     "output_type": "execute_result"
    }
   ],
   "source": [
    "Y=symbols('Y')\n",
    "YEq=Eq(Y, 1); YEq"
   ]
  },
  {
   "cell_type": "markdown",
   "metadata": {},
   "source": [
    "## myHDL Module"
   ]
  },
  {
   "cell_type": "code",
   "execution_count": 6,
   "metadata": {},
   "outputs": [],
   "source": [
    "#decorator to specify a myHDL module that can be converted\n",
    "#to myHDL\n",
    "@block\n",
    "def WireHigh(Y):\n",
    "    \"\"\"\n",
    "    Wire to Constatnt High\n",
    "    Input:\n",
    "        None\n",
    "    Output:\n",
    "        Y(bool): output\n",
    "    \"\"\"\n",
    "    #create signal to High Source\n",
    "    HSource=Signal(bool(1))\n",
    "    \n",
    "    #decorator for a compintorical senstvity\n",
    "    @always_comb\n",
    "    def logic():\n",
    "        #internal function to specfiy Out is set to High Source\n",
    "        Y.next=HSource\n",
    "    \n",
    "    #return all internal functions\n",
    "    return instances()"
   ]
  },
  {
   "cell_type": "markdown",
   "metadata": {},
   "source": [
    "## Verilog Conversion"
   ]
  },
  {
   "cell_type": "code",
   "execution_count": 7,
   "metadata": {},
   "outputs": [
    {
     "name": "stdout",
     "output_type": "stream",
     "text": [
      "***Verilog modual from WireHigh.v***\n",
      "\n",
      " // File: WireHigh.v\n",
      "// Generated by MyHDL 0.10\n",
      "// Date: Mon Sep  3 14:42:38 2018\n",
      "\n",
      "\n",
      "`timescale 1ns/10ps\n",
      "\n",
      "module WireHigh (\n",
      "    Y\n",
      ");\n",
      "// Wire to Constatnt High\n",
      "// Input:\n",
      "//     None\n",
      "// Output:\n",
      "//     Y(bool): output\n",
      "\n",
      "output Y;\n",
      "wire Y;\n",
      "\n",
      "wire HSource;\n",
      "\n",
      "assign HSource = 1'd1;\n",
      "\n",
      "\n",
      "\n",
      "assign Y = HSource;\n",
      "\n",
      "endmodule\n",
      "\n"
     ]
    },
    {
     "name": "stderr",
     "output_type": "stream",
     "text": [
      "/home/iridium/anaconda3/lib/python3.6/site-packages/myhdl/conversion/_toVerilog.py:349: ToVerilogWarning: Signal is not driven: HSource\n",
      "  category=ToVerilogWarning\n"
     ]
    }
   ],
   "source": [
    "#create output signal to bind to `WireHigh` Mod\n",
    "Y=Signal(bool(0))\n",
    "#Create instatnce of `WireHigh` and bind `Out` Signal to it\n",
    "DUT=WireHigh(Y)\n",
    "#Run convert on `DUT` instance of `WireHigh` to create Verilog/VHDL\n",
    "DUT.convert()\n",
    "#Read ouput `WireHigh.v` into notebook\n",
    "VerilogTextReader('WireHigh');"
   ]
  },
  {
   "cell_type": "markdown",
   "metadata": {},
   "source": [
    "\\begin{figure}\n",
    "\\centerline{\\includegraphics[width=10cm]{WireHigh_RTL.png}}\n",
    "\\caption{\\label{fig:WHRTL} WireHigh RTL schematic (Ignore the Buffer in the middle); Xilinx Vivado 2017.4}\n",
    "\\end{figure}"
   ]
  },
  {
   "cell_type": "markdown",
   "metadata": {},
   "source": [
    "\\begin{figure}\n",
    "\\centerline{\\includegraphics[width=10cm]{WireHigh_SYN.png}}\n",
    "\\caption{\\label{fig:WHSYN} WireHigh Synthesized Schematic (Ignore the Buffer in the middle); Xilinx Vivado 2017.4}\n",
    "\\end{figure}"
   ]
  },
  {
   "cell_type": "markdown",
   "metadata": {},
   "source": [
    "\\begin{figure}\n",
    "\\centerline{\\includegraphics[width=10cm]{WireHigh_IMP.png}}\n",
    "\\caption{\\label{fig:WHIMP} WireHigh Implementated Schematic (Ignore the Buffer in the middle); Xilinx Vivado 2017.4}\n",
    "\\end{figure}"
   ]
  },
  {
   "cell_type": "markdown",
   "metadata": {},
   "source": [
    "## PYNQ-Z1 Deployment"
   ]
  },
  {
   "cell_type": "markdown",
   "metadata": {},
   "source": [
    "### Board Circuit"
   ]
  },
  {
   "cell_type": "code",
   "execution_count": 8,
   "metadata": {},
   "outputs": [
    {
     "data": {
      "image/png": "[encoded data removed]",
      "text/plain": [
       "<matplotlib.figure.Figure at 0x7f228826bb70>"
      ]
     },
     "metadata": {},
     "output_type": "display_data"
    }
   ],
   "source": [
    "d = schem.Drawing(unit=.5)\n",
    "d.add(e.VDD, label='High')\n",
    "d.add(e.LINE, l=d.unit*2, d='down')\n",
    "d.add(e.DOT, rgtlabel='$1$')\n",
    "d.add(e.LINE, d='down', l=d.unit*2)\n",
    "d.add(e.LED, rgtlabel='LD0', d='down')\n",
    "\n",
    "#LED to ground\n",
    "d.add(e.LINE, d='down', l=d.unit*1.5)\n",
    "d.add(e.GND)\n",
    "d.draw()"
   ]
  },
  {
   "cell_type": "markdown",
   "metadata": {},
   "source": [
    "### Board Constraint"
   ]
  },
  {
   "cell_type": "code",
   "execution_count": 9,
   "metadata": {},
   "outputs": [
    {
     "name": "stdout",
     "output_type": "stream",
     "text": [
      "***Constraint file from PYNQ_Z1Constraints_WireHigh.xdc***\n",
      "\n",
      " ## PYNQ-Z1 Board Constraints for WireHigh.v\n",
      "## Based on https://github.com/Digilent/digilent-xdc/blob/master/Arty-Master.xdc\n",
      "\n",
      "##LED 0\n",
      "set_property -dict {PACKAGE_PIN R14 IOSTANDARD LVCMOS33} [get_ports {Y}]\n",
      "\n"
     ]
    }
   ],
   "source": [
    "ConstraintXDCTextReader('PYNQ_Z1Constraints_WireHigh');"
   ]
  },
  {
   "cell_type": "markdown",
   "metadata": {},
   "source": [
    "LED 0 (the furthest Right one above the buttons) will light up green"
   ]
  },
  {
   "cell_type": "markdown",
   "metadata": {},
   "source": [
    "# Wire Low"
   ]
  },
  {
   "cell_type": "markdown",
   "metadata": {},
   "source": [
    "\\begin{definition}\\label{def:WireLow}\n",
    "A Wire to Low is a Wire connected to the Lowest reference voltage in a Digital Circuit with the Boolean equivalency of \n",
    "$$Y=0$$\n",
    "that of **alway False**\n",
    "\\end{definition}\n",
    "\n",
    "In most modern digital circuits this Lowest reference voltage will be digital ground.\n"
   ]
  },
  {
   "cell_type": "code",
   "execution_count": 10,
   "metadata": {},
   "outputs": [
    {
     "data": {
      "image/png": "[encoded data removed]",
      "text/plain": [
       "<matplotlib.figure.Figure at 0x7f228efaf5c0>"
      ]
     },
     "metadata": {},
     "output_type": "display_data"
    }
   ],
   "source": [
    "d = schem.Drawing(unit=.5)\n",
    "d.add(e.DOT_OPEN, label='$0$')\n",
    "d.add(e.LINE, l=d.unit*2, d='down')\n",
    "d.add(e.GND)\n",
    "d.draw()"
   ]
  },
  {
   "cell_type": "markdown",
   "metadata": {},
   "source": [
    "## Sympy Expression"
   ]
  },
  {
   "cell_type": "code",
   "execution_count": 11,
   "metadata": {},
   "outputs": [
    {
     "data": {
      "image/png": "[encoded data removed]",
      "text/latex": [
       "$$Y = 0$$"
      ],
      "text/plain": [
       "Y = 0"
      ]
     },
     "execution_count": 11,
     "metadata": {},
     "output_type": "execute_result"
    }
   ],
   "source": [
    "Y=Symbol('Y')\n",
    "YEq=Eq(Y, 0); YEq"
   ]
  },
  {
   "cell_type": "markdown",
   "metadata": {},
   "source": [
    "## myHDL Module"
   ]
  },
  {
   "cell_type": "code",
   "execution_count": 12,
   "metadata": {},
   "outputs": [],
   "source": [
    "#decorator to specify a myHDL module that can be converted\n",
    "#to myHDL\n",
    "@block\n",
    "def WireLow(Y):\n",
    "    \"\"\"\n",
    "    Wire to Constatnt Low\n",
    "    Input:\n",
    "        None\n",
    "    Output:\n",
    "        Y(bool): output\n",
    "    \"\"\"\n",
    "    #create signal to Low Source\n",
    "    LSource=Signal(bool(0))\n",
    "    \n",
    "    #decorator for a compintorical senstvity\n",
    "    @always_comb\n",
    "    def logic():\n",
    "        #internal function to specfiy Out is set to Low Source\n",
    "        Y.next=LSource\n",
    "    \n",
    "    #return all internal functions\n",
    "    return instances()"
   ]
  },
  {
   "cell_type": "markdown",
   "metadata": {},
   "source": [
    "## Verilog Conversion"
   ]
  },
  {
   "cell_type": "code",
   "execution_count": 13,
   "metadata": {},
   "outputs": [
    {
     "name": "stdout",
     "output_type": "stream",
     "text": [
      "***Verilog modual from WireLow.v***\n",
      "\n",
      " // File: WireLow.v\n",
      "// Generated by MyHDL 0.10\n",
      "// Date: Mon Sep  3 14:43:08 2018\n",
      "\n",
      "\n",
      "`timescale 1ns/10ps\n",
      "\n",
      "module WireLow (\n",
      "    Y\n",
      ");\n",
      "// Wire to Constatnt Low\n",
      "// Input:\n",
      "//     None\n",
      "// Output:\n",
      "//     Y(bool): output\n",
      "\n",
      "output Y;\n",
      "wire Y;\n",
      "\n",
      "wire LSource;\n",
      "\n",
      "assign LSource = 1'd0;\n",
      "\n",
      "\n",
      "\n",
      "assign Y = LSource;\n",
      "\n",
      "endmodule\n",
      "\n"
     ]
    },
    {
     "name": "stderr",
     "output_type": "stream",
     "text": [
      "/home/iridium/anaconda3/lib/python3.6/site-packages/myhdl/conversion/_toVerilog.py:349: ToVerilogWarning: Signal is not driven: LSource\n",
      "  category=ToVerilogWarning\n"
     ]
    }
   ],
   "source": [
    "#create output signal to bind to `WireHigh` Mod\n",
    "Y=Signal(bool(0))\n",
    "#Create instatnce of `WireHigh` and bind `Out` Signal to it\n",
    "DUT=WireLow(Y)\n",
    "#Run convert on `DUT` instance of `WireHigh` to create Verilog/VHDL\n",
    "DUT.convert()\n",
    "#Read ouput `WireHigh.v` into notebook\n",
    "VerilogTextReader('WireLow');"
   ]
  },
  {
   "cell_type": "markdown",
   "metadata": {},
   "source": [
    "\\begin{figure}\n",
    "\\centerline{\\includegraphics[width=10cm]{WireLow_RTL.png}}\n",
    "\\caption{\\label{fig:WLRTL} WireLow RTL schematic (Ignore the Buffer in the middle); Xilinx Vivado 2017.4}\n",
    "\\end{figure}"
   ]
  },
  {
   "cell_type": "markdown",
   "metadata": {},
   "source": [
    "\\begin{figure}\n",
    "\\centerline{\\includegraphics[width=10cm]{WireLow_SYN.png}}\n",
    "\\caption{\\label{fig:WLSYN} WireLow Synthesized Schematic (Ignore the Buffer in the middle); Xilinx Vivado 2017.4}\n",
    "\\end{figure}\n"
   ]
  },
  {
   "cell_type": "markdown",
   "metadata": {},
   "source": [
    "\\begin{figure}\n",
    "\\centerline{\\includegraphics[width=10cm]{WireLow_IMP.png}}\n",
    "\\caption{\\label{fig:WLIMP} WireLow Implementated Schematic (Ignore the Buffer in the middle); Xilinx Vivado 2017.4}\n",
    "\\end{figure}"
   ]
  },
  {
   "cell_type": "markdown",
   "metadata": {},
   "source": [
    "## PYNQ-Z1 Deployment"
   ]
  },
  {
   "cell_type": "markdown",
   "metadata": {},
   "source": [
    "### Board Circuit"
   ]
  },
  {
   "cell_type": "code",
   "execution_count": 14,
   "metadata": {},
   "outputs": [
    {
     "data": {
      "image/png": "[encoded data removed]",
      "text/plain": [
       "<matplotlib.figure.Figure at 0x7f22880e88d0>"
      ]
     },
     "metadata": {},
     "output_type": "display_data"
    }
   ],
   "source": [
    "d = schem.Drawing(unit=.5)\n",
    "LD0=d.add(e.LED, d='right', label='LD0')\n",
    "d.add(e.LINE, l=d.unit*2, d='left', xy=LD0.start)\n",
    "d.add(e.LINE, l=d.unit*2, d='down')\n",
    "d.add(e.GND)\n",
    "\n",
    "d.add(e.LINE, l=d.unit*2, d='right', xy=LD0.end)\n",
    "d.add(e.LINE, l=d.unit*2, d='down')\n",
    "d.add(e.GND)\n",
    "d.draw()"
   ]
  },
  {
   "cell_type": "markdown",
   "metadata": {},
   "source": [
    "### Board Constraint"
   ]
  },
  {
   "cell_type": "code",
   "execution_count": 15,
   "metadata": {},
   "outputs": [
    {
     "name": "stdout",
     "output_type": "stream",
     "text": [
      "***Constraint file from PYNQ_Z1Constraints_WireLow.xdc***\n",
      "\n",
      " ## PYNQ-Z1 Board Constraints for WireHigh.v\n",
      "## Based on https://github.com/Digilent/digilent-xdc/blob/master/Arty-Master.xdc\n",
      "\n",
      "##LED 0\n",
      "set_property -dict {PACKAGE_PIN R14 IOSTANDARD LVCMOS33} [get_ports {Y}]\n",
      "\n"
     ]
    }
   ],
   "source": [
    "ConstraintXDCTextReader('PYNQ_Z1Constraints_WireLow');"
   ]
  },
  {
   "cell_type": "markdown",
   "metadata": {},
   "source": [
    "Nothing will happen since the Low Signal on the PYNQ-Z1 is ground so LED 0 will remain off"
   ]
  },
  {
   "cell_type": "markdown",
   "metadata": {},
   "source": [
    "# Buffer"
   ]
  },
  {
   "cell_type": "markdown",
   "metadata": {},
   "source": [
    "\\begin{definition}\\label{def:BufferGate}\n",
    "A Buffer Gate is a gate whose output is one to one with its input, in both behavior and ideally in time. The Buffer Gates boolean equivalence is\n",
    "$$Y=X$$\n",
    "\\end{definition}\n",
    "\n",
    "From a Boolean algebra/software perspective this may be a do-nothing gate but from a hardware perspective, it is incredibly valuable as it isolates the incoming signal circuit from any inline feedback on the outgoing signal's circuit. And is also typically used in circuit design as a way of ensuring the output of a system will be at the right voltage levels of the technology so that the next set of gates will register the input to them correctly"
   ]
  },
  {
   "cell_type": "code",
   "execution_count": 16,
   "metadata": {},
   "outputs": [
    {
     "data": {
      "image/png": "[encoded data removed]",
      "text/plain": [
       "<matplotlib.figure.Figure at 0x7f22880decc0>"
      ]
     },
     "metadata": {},
     "output_type": "display_data"
    }
   ],
   "source": [
    "d = schem.Drawing(unit=.5)\n",
    "d.add(e.DOT_OPEN, l=d.unit*3, lftlabel='$X$')\n",
    "d.add(l.BUF, label='$Buffer$')\n",
    "d.add(e.DOT_OPEN, l=d.unit*2, rgtlabel='$Y$')\n",
    "d.draw()"
   ]
  },
  {
   "cell_type": "markdown",
   "metadata": {},
   "source": [
    "## Sympy Expression"
   ]
  },
  {
   "cell_type": "code",
   "execution_count": 17,
   "metadata": {},
   "outputs": [
    {
     "data": {
      "image/png": "[encoded data removed]",
      "text/latex": [
       "$$Y = X$$"
      ],
      "text/plain": [
       "Y = X"
      ]
     },
     "execution_count": 17,
     "metadata": {},
     "output_type": "execute_result"
    }
   ],
   "source": [
    "X, Y=symbols('X, Y')\n",
    "YEq=Eq(Y, X); YEq"
   ]
  },
  {
   "cell_type": "code",
   "execution_count": 18,
   "metadata": {},
   "outputs": [
    {
     "data": {
      "text/html": [
       "<div>\n",
       "<style scoped>\n",
       "    .dataframe tbody tr th:only-of-type {\n",
       "        vertical-align: middle;\n",
       "    }\n",
       "\n",
       "    .dataframe tbody tr th {\n",
       "        vertical-align: top;\n",
       "    }\n",
       "\n",
       "    .dataframe thead th {\n",
       "        text-align: right;\n",
       "    }\n",
       "</style>\n",
       "<table border=\"1\" class=\"dataframe\">\n",
       "  <thead>\n",
       "    <tr style=\"text-align: right;\">\n",
       "      <th></th>\n",
       "      <th>X</th>\n",
       "      <th>Y</th>\n",
       "    </tr>\n",
       "  </thead>\n",
       "  <tbody>\n",
       "    <tr>\n",
       "      <th>0</th>\n",
       "      <td>0</td>\n",
       "      <td>0</td>\n",
       "    </tr>\n",
       "    <tr>\n",
       "      <th>1</th>\n",
       "      <td>1</td>\n",
       "      <td>1</td>\n",
       "    </tr>\n",
       "  </tbody>\n",
       "</table>\n",
       "</div>"
      ],
      "text/plain": [
       "   X  Y\n",
       "0  0  0\n",
       "1  1  1"
      ]
     },
     "execution_count": 18,
     "metadata": {},
     "output_type": "execute_result"
    }
   ],
   "source": [
    "TruthTabelGenrator(YEq)"
   ]
  },
  {
   "cell_type": "code",
   "execution_count": 19,
   "metadata": {},
   "outputs": [
    {
     "data": {
      "text/plain": [
       "array([0, 1])"
      ]
     },
     "execution_count": 19,
     "metadata": {},
     "output_type": "execute_result"
    }
   ],
   "source": [
    "#convert the Sympy exspresion to a \n",
    "#numpy exspresion via lambdify\n",
    "YEqN=lambdify(X, YEq.rhs, dummify=False)\n",
    "YEqN(np.array([0, 1]))"
   ]
  },
  {
   "cell_type": "markdown",
   "metadata": {},
   "source": [
    "## myHDL Module"
   ]
  },
  {
   "cell_type": "code",
   "execution_count": 20,
   "metadata": {},
   "outputs": [],
   "source": [
    "@block\n",
    "def BufferGate(X, Y):\n",
    "    \"\"\"\n",
    "    Buffer Gate demo module\n",
    "    Input:\n",
    "        X(bool): Input conection to wire between `X` and `Y`\n",
    "    Ouput:\n",
    "        Y(bool): Output connection to wire between 'X' and 'Y'\n",
    "    \"\"\"\n",
    "    @always_comb\n",
    "    def logic():\n",
    "        Y.next=X\n",
    "    return instances()"
   ]
  },
  {
   "cell_type": "markdown",
   "metadata": {},
   "source": [
    " ## myHDL Testing\n",
    " Every module (`WireHigh` and `WireLow` are just too primitive to test) should be tested with a Testbench in python. This test does not confirm that the module meets the requirements of synthesization in Verilog/VHDL but confirms that the behavior of the myHDL module under test (DUT) behavior wise conforms to the desired behavior. \n",
    "\n",
    "Because of the data analysis ability of python to full analysis the test output in the same framework that the test, let alone module, was written in development time is decreased. This is one of the defining abilities of myHDL over other HDLs such as Verilog/VHDL\n",
    "\n",
    "Synthesization in the world of HDL refers to the ability to turn HDL  code into Hardware via an FPGA or a dedicated circuit (typically called an ASIC). It is for that reason that HDL codeing is not pure software nor pure hardware but rather a hybrid of the two. And why HDL coding has high constraints then all other coding seeing as the HDL must meet Behavior and Timing of software but must also meet the hardware synthesis requirements of Power, Physical Size, Implantability, and more "
   ]
  },
  {
   "cell_type": "code",
   "execution_count": 21,
   "metadata": {},
   "outputs": [
    {
     "data": {
      "text/plain": [
       "array([1, 1, 0, 1, 1, 0, 1, 1, 0, 0])"
      ]
     },
     "execution_count": 21,
     "metadata": {},
     "output_type": "execute_result"
    }
   ],
   "source": [
    "#generate random test values for BufferGate_TB\n",
    "#stimules input In\n",
    "TestLen=10\n",
    "#for testing purpose the random genrator need to be seeded\n",
    "#to create reproducable values\n",
    "np.random.seed(12)\n",
    "XTVs=np.random.randint(0,2, TestLen).astype(int)\n",
    "XTVs"
   ]
  },
  {
   "cell_type": "code",
   "execution_count": 22,
   "metadata": {},
   "outputs": [],
   "source": [
    "#clear any previouse stored values in Peeker\n",
    "Peeker.clear()\n",
    "#Create the Signals to the BufferGate and \n",
    "#add them to Peeker for display and anylis\n",
    "X=Signal(bool(0)); Peeker(X, 'X')\n",
    "Y=Signal(bool(0)); Peeker(Y, 'Y')\n",
    "\n",
    "#create instance of `BufferGate` and bind signals\n",
    "#to it as the \"Device Under Testing\"\n",
    "DUT=BufferGate(X, Y)\n",
    "\n",
    "#Create a Testbench for `BufferGate`\n",
    "def BufferGate_TB():\n",
    "    \"\"\"\n",
    "    myHDL only testbench for module `BufferGate`\n",
    "    \"\"\"\n",
    "    #internal function that will apply\n",
    "    #stimules to DUT \n",
    "    @instance\n",
    "    def stimules():\n",
    "        for i in range(TestLen):\n",
    "            #asign next stimules value to X input of DUT\n",
    "            #for every 1 interval delay\n",
    "            X.next=int(XTVs[i])\n",
    "            yield delay(1)\n",
    "        \n",
    "        #flag to end the simulation of the DUT after all\n",
    "        #stimules have been run\n",
    "        raise StopSimulation()\n",
    "    \n",
    "    #return all internal stimules\n",
    "    return instances()\n",
    "\n",
    "#bind the DUT, Testbench and Peeker to simulator and run it\n",
    "sim=Simulation(DUT, BufferGate_TB(), *Peeker.instances()).run()            "
   ]
  },
  {
   "cell_type": "code",
   "execution_count": 23,
   "metadata": {},
   "outputs": [
    {
     "data": {
      "text/html": [
       "<div><script type=\"WaveDrom\">{\"signal\": [{\"name\": \"X\", \"wave\": \"1.01.01.0\"}, {\"name\": \"Y\", \"wave\": \"1.01.01.0\"}]}</script></div>"
      ]
     },
     "metadata": {},
     "output_type": "display_data"
    },
    {
     "data": {
      "application/javascript": [
       "$.getScript(\"http://wavedrom.com/wavedrom.min.js\", function () {\n",
       "$.getScript(\"http://wavedrom.com/skins/default.js\", function () {\n",
       "WaveDrom.ProcessAll();});\n",
       "});\n"
      ]
     },
     "metadata": {},
     "output_type": "display_data"
    }
   ],
   "source": [
    "#View Waveform diagram from Simulation with\n",
    "#wavefroms in the order of `X` then `Y`\n",
    "Peeker.to_wavedrom('X', 'Y')"
   ]
  },
  {
   "cell_type": "code",
   "execution_count": 24,
   "metadata": {},
   "outputs": [
    {
     "data": {
      "text/html": [
       "<div>\n",
       "<style scoped>\n",
       "    .dataframe tbody tr th:only-of-type {\n",
       "        vertical-align: middle;\n",
       "    }\n",
       "\n",
       "    .dataframe tbody tr th {\n",
       "        vertical-align: top;\n",
       "    }\n",
       "\n",
       "    .dataframe thead th {\n",
       "        text-align: right;\n",
       "    }\n",
       "</style>\n",
       "<table border=\"1\" class=\"dataframe\">\n",
       "  <thead>\n",
       "    <tr style=\"text-align: right;\">\n",
       "      <th></th>\n",
       "      <th>X</th>\n",
       "      <th>Y</th>\n",
       "    </tr>\n",
       "  </thead>\n",
       "  <tbody>\n",
       "    <tr>\n",
       "      <th>0</th>\n",
       "      <td>1</td>\n",
       "      <td>1</td>\n",
       "    </tr>\n",
       "    <tr>\n",
       "      <th>2</th>\n",
       "      <td>0</td>\n",
       "      <td>0</td>\n",
       "    </tr>\n",
       "    <tr>\n",
       "      <th>3</th>\n",
       "      <td>1</td>\n",
       "      <td>1</td>\n",
       "    </tr>\n",
       "    <tr>\n",
       "      <th>5</th>\n",
       "      <td>0</td>\n",
       "      <td>0</td>\n",
       "    </tr>\n",
       "    <tr>\n",
       "      <th>6</th>\n",
       "      <td>1</td>\n",
       "      <td>1</td>\n",
       "    </tr>\n",
       "    <tr>\n",
       "      <th>8</th>\n",
       "      <td>0</td>\n",
       "      <td>0</td>\n",
       "    </tr>\n",
       "  </tbody>\n",
       "</table>\n",
       "</div>"
      ],
      "text/plain": [
       "   X  Y\n",
       "0  1  1\n",
       "2  0  0\n",
       "3  1  1\n",
       "5  0  0\n",
       "6  1  1\n",
       "8  0  0"
      ]
     },
     "execution_count": 24,
     "metadata": {},
     "output_type": "execute_result"
    }
   ],
   "source": [
    "#Capture the Waveform as a Pandas Dataframe for\n",
    "#detiled anylsis\n",
    "WireData=Peeker.to_dataframe()\n",
    "#order the cols in the dataframe `X` then `Y`\n",
    "WireData=WireData[['X', 'Y']]\n",
    "WireData"
   ]
  },
  {
   "cell_type": "code",
   "execution_count": 25,
   "metadata": {},
   "outputs": [
    {
     "data": {
      "text/html": [
       "<div>\n",
       "<style scoped>\n",
       "    .dataframe tbody tr th:only-of-type {\n",
       "        vertical-align: middle;\n",
       "    }\n",
       "\n",
       "    .dataframe tbody tr th {\n",
       "        vertical-align: top;\n",
       "    }\n",
       "\n",
       "    .dataframe thead th {\n",
       "        text-align: right;\n",
       "    }\n",
       "</style>\n",
       "<table border=\"1\" class=\"dataframe\">\n",
       "  <thead>\n",
       "    <tr style=\"text-align: right;\">\n",
       "      <th></th>\n",
       "      <th>X</th>\n",
       "      <th>Y</th>\n",
       "      <th>YRef</th>\n",
       "    </tr>\n",
       "  </thead>\n",
       "  <tbody>\n",
       "    <tr>\n",
       "      <th>0</th>\n",
       "      <td>1</td>\n",
       "      <td>1</td>\n",
       "      <td>1</td>\n",
       "    </tr>\n",
       "    <tr>\n",
       "      <th>2</th>\n",
       "      <td>0</td>\n",
       "      <td>0</td>\n",
       "      <td>0</td>\n",
       "    </tr>\n",
       "    <tr>\n",
       "      <th>3</th>\n",
       "      <td>1</td>\n",
       "      <td>1</td>\n",
       "      <td>1</td>\n",
       "    </tr>\n",
       "    <tr>\n",
       "      <th>5</th>\n",
       "      <td>0</td>\n",
       "      <td>0</td>\n",
       "      <td>0</td>\n",
       "    </tr>\n",
       "    <tr>\n",
       "      <th>6</th>\n",
       "      <td>1</td>\n",
       "      <td>1</td>\n",
       "      <td>1</td>\n",
       "    </tr>\n",
       "    <tr>\n",
       "      <th>8</th>\n",
       "      <td>0</td>\n",
       "      <td>0</td>\n",
       "      <td>0</td>\n",
       "    </tr>\n",
       "  </tbody>\n",
       "</table>\n",
       "</div>"
      ],
      "text/plain": [
       "   X  Y  YRef\n",
       "0  1  1     1\n",
       "2  0  0     0\n",
       "3  1  1     1\n",
       "5  0  0     0\n",
       "6  1  1     1\n",
       "8  0  0     0"
      ]
     },
     "execution_count": 25,
     "metadata": {},
     "output_type": "execute_result"
    }
   ],
   "source": [
    "#apply the lampdfid sympy expspresion for a buffer to the X input to\n",
    "#get a refrance to compare the BufferGate modules \n",
    "WireData['YRef']=WireData['X'].apply(YEqN)\n",
    "WireData"
   ]
  },
  {
   "cell_type": "code",
   "execution_count": 26,
   "metadata": {},
   "outputs": [
    {
     "name": "stdout",
     "output_type": "stream",
     "text": [
      "Module `BufferGate` works as exspected: True\n"
     ]
    }
   ],
   "source": [
    "#Test wither the modules ouput matchs the sympy refrance\n",
    "Test=(WireData['Y']==WireData['YRef']).all()\n",
    "print(f'Module `BufferGate` works as exspected: {Test}')"
   ]
  },
  {
   "cell_type": "markdown",
   "metadata": {},
   "source": [
    "## Verilog Conversion"
   ]
  },
  {
   "cell_type": "code",
   "execution_count": 27,
   "metadata": {},
   "outputs": [
    {
     "name": "stdout",
     "output_type": "stream",
     "text": [
      "***Verilog modual from BufferGate.v***\n",
      "\n",
      " // File: BufferGate.v\n",
      "// Generated by MyHDL 0.10\n",
      "// Date: Mon Sep  3 14:43:49 2018\n",
      "\n",
      "\n",
      "`timescale 1ns/10ps\n",
      "\n",
      "module BufferGate (\n",
      "    X,\n",
      "    Y\n",
      ");\n",
      "// Buffer Gate demo module\n",
      "// Input:\n",
      "//     X(bool): Input conection to wire between `X` and `Y`\n",
      "// Ouput:\n",
      "//     Y(bool): Output connection to wire between 'X' and 'Y'\n",
      "\n",
      "input X;\n",
      "output Y;\n",
      "wire Y;\n",
      "\n",
      "\n",
      "\n",
      "\n",
      "\n",
      "assign Y = X;\n",
      "\n",
      "endmodule\n",
      "\n"
     ]
    }
   ],
   "source": [
    "DUT.convert()\n",
    "VerilogTextReader('BufferGate');"
   ]
  },
  {
   "cell_type": "markdown",
   "metadata": {},
   "source": [
    "\\begin{figure}\n",
    "\\centerline{\\includegraphics[width=10cm]{BufferGate_RTL.png}}\n",
    "\\caption{\\label{fig:BGRTL} BufferGate RTL schematic; Xilinx Vivado 2017.4}\n",
    "\\end{figure}"
   ]
  },
  {
   "cell_type": "markdown",
   "metadata": {},
   "source": [
    "\\begin{figure}\n",
    "\\centerline{\\includegraphics[width=10cm]{BufferGate_SYN.png}}\n",
    "\\caption{\\label{fig:BGSYN} BufferGate Synthesized Schematic; Xilinx Vivado 2017.4}\n",
    "\\end{figure}"
   ]
  },
  {
   "cell_type": "markdown",
   "metadata": {},
   "source": [
    "\\begin{figure}\n",
    "\\centerline{\\includegraphics[width=10cm]{BufferGate_IMP.png}}\n",
    "\\caption{\\label{fig:BGIMP} BufferGate Implementated Schematic; Xilinx Vivado 2017.4}\n",
    "\\end{figure}"
   ]
  },
  {
   "cell_type": "markdown",
   "metadata": {},
   "source": [
    "## myHDL to Verilog Testbench"
   ]
  },
  {
   "cell_type": "code",
   "execution_count": 28,
   "metadata": {},
   "outputs": [
    {
     "data": {
      "text/plain": [
       "(intbv(876), '1101101100')"
      ]
     },
     "execution_count": 28,
     "metadata": {},
     "output_type": "execute_result"
    }
   ],
   "source": [
    "#create BitVector for BufferGate_TBV\n",
    "XTVs=intbv(int(''.join(XTVs.astype(str)), 2))[TestLen:]\n",
    "XTVs, bin(XTVs)"
   ]
  },
  {
   "cell_type": "code",
   "execution_count": 29,
   "metadata": {},
   "outputs": [
    {
     "name": "stdout",
     "output_type": "stream",
     "text": [
      "<class 'myhdl._Signal._Signal'> <class '_ast.Name'>\n",
      "<class 'myhdl._Signal._Signal'> <class '_ast.Name'>\n",
      "***Verilog modual from BufferGate_TBV.v***\n",
      "\n",
      " // File: BufferGate_TBV.v\n",
      "// Generated by MyHDL 0.10\n",
      "// Date: Mon Sep  3 14:43:59 2018\n",
      "\n",
      "\n",
      "`timescale 1ns/10ps\n",
      "\n",
      "module BufferGate_TBV (\n",
      "\n",
      ");\n",
      "// myHDL -> Verilog testbench for module `BufferGate`\n",
      "\n",
      "\n",
      "wire Y;\n",
      "reg X = 0;\n",
      "wire [9:0] XTV;\n",
      "\n",
      "assign XTV = 10'd876;\n",
      "\n",
      "\n",
      "always @(X, Y) begin: BUFFERGATE_TBV_PRINT_DATA\n",
      "    $write(\"%h\", X);\n",
      "    $write(\" \");\n",
      "    $write(\"%h\", Y);\n",
      "    $write(\"\\n\");\n",
      "end\n",
      "\n",
      "\n",
      "\n",
      "assign Y = X;\n",
      "\n",
      "\n",
      "initial begin: BUFFERGATE_TBV_STIMULES\n",
      "    integer i;\n",
      "    for (i=0; i<10; i=i+1) begin\n",
      "        X <= XTV[i];\n",
      "        # 1;\n",
      "    end\n",
      "    $finish;\n",
      "end\n",
      "\n",
      "endmodule\n",
      "\n"
     ]
    },
    {
     "name": "stderr",
     "output_type": "stream",
     "text": [
      "/home/iridium/anaconda3/lib/python3.6/site-packages/myhdl/conversion/_toVerilog.py:349: ToVerilogWarning: Signal is not driven: XTV\n",
      "  category=ToVerilogWarning\n"
     ]
    }
   ],
   "source": [
    "#Convertable testbenchs must be treated as a module\n",
    "@block\n",
    "def BufferGate_TBV():\n",
    "    \"\"\"\n",
    "    myHDL -> Verilog testbench for module `BufferGate`\n",
    "    \"\"\"\n",
    "    #create the signals to bind to the DUT\n",
    "    X=Signal(bool(0))\n",
    "    Y=Signal(bool(0))\n",
    "    \n",
    "    #print out the waveform of `X` and `Y`\n",
    "    @always_comb\n",
    "    def print_data():\n",
    "        print(X, Y)\n",
    "    \n",
    "    #create a register to hold the testdata vector\n",
    "    #Test Signal Bit Vector\n",
    "    XTV=Signal(XTVs)\n",
    "    \n",
    "    #create an instance of the `BufferGate` and\n",
    "    #bind X and Y to it\n",
    "    DUT=BufferGate(X, Y)\n",
    "    \n",
    "    #create the stimules action\n",
    "    @instance\n",
    "    def stimules():\n",
    "        for i in range(TestLen):\n",
    "            #asign X the next bit from XTV testvector reg\n",
    "            X.next=XTV[i]\n",
    "            #delay one of the smallest time intervals\n",
    "            yield delay(1)\n",
    "        \n",
    "        #raise the stop simulation flag\n",
    "        raise StopSimulation()\n",
    "    \n",
    "    #return all internals of the Testbench\n",
    "    return instances()\n",
    "\n",
    "#create instance of the Testbench\n",
    "TB=BufferGate_TBV()\n",
    "#run the conversion to Verilog and insure that\n",
    "#all Signal values are at there default value\n",
    "TB.convert(hdl=\"Verilog\", initial_values=True)\n",
    "#read back the testbench into python\n",
    "VerilogTextReader('BufferGate_TBV');"
   ]
  },
  {
   "cell_type": "markdown",
   "metadata": {},
   "source": [
    "## PYNQ-Z1 Deployment"
   ]
  },
  {
   "cell_type": "markdown",
   "metadata": {},
   "source": [
    "### Board Circuit"
   ]
  },
  {
   "cell_type": "code",
   "execution_count": 30,
   "metadata": {},
   "outputs": [
    {
     "data": {
      "image/png": "[encoded data removed]",
      "text/plain": [
       "<matplotlib.figure.Figure at 0x7f2287dece48>"
      ]
     },
     "metadata": {},
     "output_type": "display_data"
    }
   ],
   "source": [
    "d=schem.Drawing(unit=.5)\n",
    "#add switch\n",
    "SW0=d.add(e.SWITCH_SPDT2, reverse=True, label='SW0')\n",
    "\n",
    "#connect to buffer\n",
    "d.add(e.LINE, d='right', xy=SW0.a, l=d.unit*2, label='X')\n",
    "d.add(e.DOT)\n",
    "B0=d.add(l.BUF, label='BUF')\n",
    "\n",
    "#buffer to LED\n",
    "d.add(e.DOT)\n",
    "d.add(e.LINE, d='right', l=d.unit*2, label='Y')\n",
    "d.add(e.LINE, d='down', l=d.unit*2)\n",
    "d.add(e.LED, rgtlabel='LD0', d='down')\n",
    "\n",
    "#LED to ground\n",
    "d.add(e.LINE, d='down', l=d.unit*1.5)\n",
    "d.add(e.GND)\n",
    "\n",
    "#swtich bottom to ground\n",
    "d.add(e.LINE, d='down', xy=SW0.c, l=d.unit*4)\n",
    "d.add(e.GND)\n",
    "\n",
    "\n",
    "#switch top to rail\n",
    "d.add(e.LINE, d='up', xy=SW0.b, l=d.unit*2.3)\n",
    "d.add(e.VDD)\n",
    "d.draw()"
   ]
  },
  {
   "cell_type": "markdown",
   "metadata": {},
   "source": [
    "### Board Constraint File"
   ]
  },
  {
   "cell_type": "code",
   "execution_count": 31,
   "metadata": {},
   "outputs": [
    {
     "name": "stdout",
     "output_type": "stream",
     "text": [
      "***Constraint file from PYNQ_Z1Constraints_BufferGate.xdc***\n",
      "\n",
      " ## PYNQ-Z1 Board Constraints for BufferGate.v\n",
      "## Based on https://github.com/Digilent/digilent-xdc/blob/master/Arty-Master.xdc\n",
      "\n",
      "\n",
      "## Switch 0\n",
      "set_property -dict {PACKAGE_PIN M20 IOSTANDARD LVCMOS33} [get_ports {X}]\n",
      "\n",
      "\n",
      "##LED 0\n",
      "set_property -dict {PACKAGE_PIN R14 IOSTANDARD LVCMOS33} [get_ports {Y}]\n",
      "\n"
     ]
    }
   ],
   "source": [
    "ConstraintXDCTextReader('PYNQ_Z1Constraints_BufferGate');"
   ]
  },
  {
   "cell_type": "markdown",
   "metadata": {},
   "source": [
    "### Video of Deployment\n",
    "BUFFER Gate myHDL PYNQ-Z1 ([YouTube](https://www.youtube.com/watch?v=v5q5OC0SwB4))"
   ]
  },
  {
   "cell_type": "markdown",
   "metadata": {},
   "source": [
    "# NOT"
   ]
  },
  {
   "cell_type": "markdown",
   "metadata": {},
   "source": [
    "\\begin{definition}\\label{def:NotGate}\n",
    "A NOT Gate, also called an Inverter, is a logic gate that produces the negated value of the input. Its boolean expression is typically\n",
    "$$Y=\\overline{X}$$ using the overhead bar negation notation.\n",
    "\\end{definition}"
   ]
  },
  {
   "cell_type": "code",
   "execution_count": 32,
   "metadata": {},
   "outputs": [
    {
     "data": {
      "image/png": "[encoded data removed]",
      "text/plain": [
       "<matplotlib.figure.Figure at 0x7f2287ddac18>"
      ]
     },
     "metadata": {},
     "output_type": "display_data"
    }
   ],
   "source": [
    "d = schem.Drawing(unit=.5)\n",
    "d.add(e.DOT_OPEN, l=d.unit*3, lftlabel='$X$')\n",
    "d.add(l.NOT, label='$NOT$')\n",
    "d.add(e.LINE)\n",
    "d.add(e.DOT_OPEN, rgtlabel='$Y$')\n",
    "d.draw()"
   ]
  },
  {
   "cell_type": "markdown",
   "metadata": {},
   "source": [
    "## Sympy Expression"
   ]
  },
  {
   "cell_type": "code",
   "execution_count": 33,
   "metadata": {},
   "outputs": [
    {
     "data": {
      "image/png": "[encoded data removed]",
      "text/latex": [
       "$$Y = \\neg X$$"
      ],
      "text/plain": [
       "Y = ¬X"
      ]
     },
     "execution_count": 33,
     "metadata": {},
     "output_type": "execute_result"
    }
   ],
   "source": [
    "X, Y=symbols('X, Y')\n",
    "YEq=Eq(Y, ~X); YEq"
   ]
  },
  {
   "cell_type": "code",
   "execution_count": 34,
   "metadata": {},
   "outputs": [
    {
     "data": {
      "text/html": [
       "<div>\n",
       "<style scoped>\n",
       "    .dataframe tbody tr th:only-of-type {\n",
       "        vertical-align: middle;\n",
       "    }\n",
       "\n",
       "    .dataframe tbody tr th {\n",
       "        vertical-align: top;\n",
       "    }\n",
       "\n",
       "    .dataframe thead th {\n",
       "        text-align: right;\n",
       "    }\n",
       "</style>\n",
       "<table border=\"1\" class=\"dataframe\">\n",
       "  <thead>\n",
       "    <tr style=\"text-align: right;\">\n",
       "      <th></th>\n",
       "      <th>X</th>\n",
       "      <th>Y</th>\n",
       "    </tr>\n",
       "  </thead>\n",
       "  <tbody>\n",
       "    <tr>\n",
       "      <th>0</th>\n",
       "      <td>0</td>\n",
       "      <td>1</td>\n",
       "    </tr>\n",
       "    <tr>\n",
       "      <th>1</th>\n",
       "      <td>1</td>\n",
       "      <td>0</td>\n",
       "    </tr>\n",
       "  </tbody>\n",
       "</table>\n",
       "</div>"
      ],
      "text/plain": [
       "   X  Y\n",
       "0  0  1\n",
       "1  1  0"
      ]
     },
     "execution_count": 34,
     "metadata": {},
     "output_type": "execute_result"
    }
   ],
   "source": [
    "TruthTabelGenrator(YEq)"
   ]
  },
  {
   "cell_type": "code",
   "execution_count": 35,
   "metadata": {},
   "outputs": [
    {
     "data": {
      "text/plain": [
       "(True, False)"
      ]
     },
     "execution_count": 35,
     "metadata": {},
     "output_type": "execute_result"
    }
   ],
   "source": [
    "YEqN=lambdify(X, YEq.rhs, dummify=False)\n",
    "YEqN(0), YEqN(1)"
   ]
  },
  {
   "cell_type": "markdown",
   "metadata": {},
   "source": [
    "## myHDL Module"
   ]
  },
  {
   "cell_type": "code",
   "execution_count": 36,
   "metadata": {},
   "outputs": [],
   "source": [
    "@block\n",
    "def NotGate(X, Y):\n",
    "    \"\"\"\n",
    "    NOT gate exsample module\n",
    "    \n",
    "    Input:\n",
    "        X(bool): input\n",
    "    \n",
    "    Output:\n",
    "        Y(bool): ouput\n",
    "    \n",
    "    \"\"\"\n",
    "    @always_comb\n",
    "    def logic():\n",
    "        Y.next=not X\n",
    "        \n",
    "    return instances()"
   ]
  },
  {
   "cell_type": "markdown",
   "metadata": {},
   "source": [
    "## myHDL Testing"
   ]
  },
  {
   "cell_type": "code",
   "execution_count": 37,
   "metadata": {},
   "outputs": [
    {
     "data": {
      "text/plain": [
       "array([1, 0, 0, 0, 1, 1, 0, 0, 0, 0])"
      ]
     },
     "execution_count": 37,
     "metadata": {},
     "output_type": "execute_result"
    }
   ],
   "source": [
    "#generate random test values for NotGate_TB\n",
    "#stimules input In\n",
    "TestLen=10\n",
    "np.random.seed(14)\n",
    "XTVs=np.random.randint(0,2, TestLen).astype(int)\n",
    "XTVs"
   ]
  },
  {
   "cell_type": "code",
   "execution_count": 38,
   "metadata": {},
   "outputs": [],
   "source": [
    "Peeker.clear()\n",
    "X=Signal(bool(0)); Peeker(X, 'X')\n",
    "Y=Signal(bool(0)); Peeker(Y, 'Y')\n",
    "\n",
    "DUT=NotGate(X, Y)\n",
    "\n",
    "def NotGate_TB():\n",
    "    \"\"\"\n",
    "    myHDL only testbench for module `NotGate`\n",
    "    \"\"\"\n",
    "    \n",
    "    @instance\n",
    "    def stimules():\n",
    "        for i in range(TestLen):\n",
    "            X.next=int(XTVs[i])\n",
    "            yield delay(1)\n",
    "        \n",
    "        raise StopSimulation()\n",
    "        \n",
    "    return instances()\n",
    "\n",
    "sim=Simulation(DUT, NotGate_TB(), *Peeker.instances()).run()            "
   ]
  },
  {
   "cell_type": "code",
   "execution_count": 39,
   "metadata": {},
   "outputs": [
    {
     "data": {
      "text/html": [
       "<div><script type=\"WaveDrom\">{\"signal\": [{\"name\": \"X\", \"wave\": \"10..1.0\"}, {\"name\": \"Y\", \"wave\": \"01..0.1\"}]}</script></div>"
      ]
     },
     "metadata": {},
     "output_type": "display_data"
    },
    {
     "data": {
      "application/javascript": [
       "$.getScript(\"http://wavedrom.com/wavedrom.min.js\", function () {\n",
       "$.getScript(\"http://wavedrom.com/skins/default.js\", function () {\n",
       "WaveDrom.ProcessAll();});\n",
       "});\n"
      ]
     },
     "metadata": {},
     "output_type": "display_data"
    }
   ],
   "source": [
    "Peeker.to_wavedrom()"
   ]
  },
  {
   "cell_type": "code",
   "execution_count": 40,
   "metadata": {},
   "outputs": [
    {
     "data": {
      "text/html": [
       "<div>\n",
       "<style scoped>\n",
       "    .dataframe tbody tr th:only-of-type {\n",
       "        vertical-align: middle;\n",
       "    }\n",
       "\n",
       "    .dataframe tbody tr th {\n",
       "        vertical-align: top;\n",
       "    }\n",
       "\n",
       "    .dataframe thead th {\n",
       "        text-align: right;\n",
       "    }\n",
       "</style>\n",
       "<table border=\"1\" class=\"dataframe\">\n",
       "  <thead>\n",
       "    <tr style=\"text-align: right;\">\n",
       "      <th></th>\n",
       "      <th>X</th>\n",
       "      <th>Y</th>\n",
       "    </tr>\n",
       "  </thead>\n",
       "  <tbody>\n",
       "    <tr>\n",
       "      <th>0</th>\n",
       "      <td>1</td>\n",
       "      <td>0</td>\n",
       "    </tr>\n",
       "    <tr>\n",
       "      <th>1</th>\n",
       "      <td>0</td>\n",
       "      <td>1</td>\n",
       "    </tr>\n",
       "    <tr>\n",
       "      <th>4</th>\n",
       "      <td>1</td>\n",
       "      <td>0</td>\n",
       "    </tr>\n",
       "    <tr>\n",
       "      <th>6</th>\n",
       "      <td>0</td>\n",
       "      <td>1</td>\n",
       "    </tr>\n",
       "  </tbody>\n",
       "</table>\n",
       "</div>"
      ],
      "text/plain": [
       "   X  Y\n",
       "0  1  0\n",
       "1  0  1\n",
       "4  1  0\n",
       "6  0  1"
      ]
     },
     "execution_count": 40,
     "metadata": {},
     "output_type": "execute_result"
    }
   ],
   "source": [
    "NotData=Peeker.to_dataframe()\n",
    "NotData"
   ]
  },
  {
   "cell_type": "code",
   "execution_count": 41,
   "metadata": {},
   "outputs": [
    {
     "data": {
      "text/html": [
       "<div>\n",
       "<style scoped>\n",
       "    .dataframe tbody tr th:only-of-type {\n",
       "        vertical-align: middle;\n",
       "    }\n",
       "\n",
       "    .dataframe tbody tr th {\n",
       "        vertical-align: top;\n",
       "    }\n",
       "\n",
       "    .dataframe thead th {\n",
       "        text-align: right;\n",
       "    }\n",
       "</style>\n",
       "<table border=\"1\" class=\"dataframe\">\n",
       "  <thead>\n",
       "    <tr style=\"text-align: right;\">\n",
       "      <th></th>\n",
       "      <th>X</th>\n",
       "      <th>Y</th>\n",
       "      <th>YRef</th>\n",
       "    </tr>\n",
       "  </thead>\n",
       "  <tbody>\n",
       "    <tr>\n",
       "      <th>0</th>\n",
       "      <td>1</td>\n",
       "      <td>0</td>\n",
       "      <td>0</td>\n",
       "    </tr>\n",
       "    <tr>\n",
       "      <th>1</th>\n",
       "      <td>0</td>\n",
       "      <td>1</td>\n",
       "      <td>1</td>\n",
       "    </tr>\n",
       "    <tr>\n",
       "      <th>4</th>\n",
       "      <td>1</td>\n",
       "      <td>0</td>\n",
       "      <td>0</td>\n",
       "    </tr>\n",
       "    <tr>\n",
       "      <th>6</th>\n",
       "      <td>0</td>\n",
       "      <td>1</td>\n",
       "      <td>1</td>\n",
       "    </tr>\n",
       "  </tbody>\n",
       "</table>\n",
       "</div>"
      ],
      "text/plain": [
       "   X  Y  YRef\n",
       "0  1  0     0\n",
       "1  0  1     1\n",
       "4  1  0     0\n",
       "6  0  1     1"
      ]
     },
     "execution_count": 41,
     "metadata": {},
     "output_type": "execute_result"
    }
   ],
   "source": [
    "NotData['YRef']=NotData['X'].apply(YEqN).astype(int)\n",
    "NotData"
   ]
  },
  {
   "cell_type": "code",
   "execution_count": 42,
   "metadata": {},
   "outputs": [
    {
     "name": "stdout",
     "output_type": "stream",
     "text": [
      "Module `NotGate` works as exspected: True\n"
     ]
    }
   ],
   "source": [
    "Test=(NotData['Y']==NotData['YRef']).all()\n",
    "print(f'Module `NotGate` works as exspected: {Test}')"
   ]
  },
  {
   "cell_type": "markdown",
   "metadata": {},
   "source": [
    "## Verilog Conversion"
   ]
  },
  {
   "cell_type": "code",
   "execution_count": 43,
   "metadata": {},
   "outputs": [
    {
     "name": "stdout",
     "output_type": "stream",
     "text": [
      "***Verilog modual from NotGate.v***\n",
      "\n",
      " // File: NotGate.v\n",
      "// Generated by MyHDL 0.10\n",
      "// Date: Mon Sep  3 14:44:38 2018\n",
      "\n",
      "\n",
      "`timescale 1ns/10ps\n",
      "\n",
      "module NotGate (\n",
      "    X,\n",
      "    Y\n",
      ");\n",
      "// NOT gate exsample module\n",
      "// \n",
      "// Input:\n",
      "//     X(bool): input\n",
      "// \n",
      "// Output:\n",
      "//     Y(bool): ouput\n",
      "\n",
      "input X;\n",
      "output Y;\n",
      "wire Y;\n",
      "\n",
      "\n",
      "\n",
      "\n",
      "\n",
      "assign Y = (!X);\n",
      "\n",
      "endmodule\n",
      "\n"
     ]
    }
   ],
   "source": [
    "DUT.convert()\n",
    "VerilogTextReader('NotGate');"
   ]
  },
  {
   "cell_type": "markdown",
   "metadata": {},
   "source": [
    "\\begin{figure}\n",
    "\\centerline{\\includegraphics[width=10cm]{NotGate_RTL.png}}\n",
    "\\caption{\\label{fig:NGRTL} NotGate RTL schematic; Xilinx Vivado 2017.4}\n",
    "\\end{figure}\n"
   ]
  },
  {
   "cell_type": "markdown",
   "metadata": {},
   "source": [
    "\\begin{figure}\n",
    "\\centerline{\\includegraphics[width=10cm]{NotGate_SYN.png}}\n",
    "\\caption{\\label{fig:NGSYN} NotGate Synthesized Schematic; Xilinx Vivado 2017.4}\n",
    "\\end{figure}\n"
   ]
  },
  {
   "cell_type": "markdown",
   "metadata": {},
   "source": [
    "\\begin{figure}\n",
    "\\centerline{\\includegraphics[width=10cm]{NotGate_IMP.png}}\n",
    "\\caption{\\label{fig:NGIMP} NotGate Implementated Schematic; Xilinx Vivado 2017.4}\n",
    "\\end{figure}"
   ]
  },
  {
   "cell_type": "markdown",
   "metadata": {},
   "source": [
    "## myHDL to Verilog Testbench"
   ]
  },
  {
   "cell_type": "code",
   "execution_count": 44,
   "metadata": {},
   "outputs": [
    {
     "data": {
      "text/plain": [
       "(intbv(560), '1000110000')"
      ]
     },
     "execution_count": 44,
     "metadata": {},
     "output_type": "execute_result"
    }
   ],
   "source": [
    "#create BitVector for NotGate_TBV\n",
    "XTVs=intbv(int(''.join(XTVs.astype(str)), 2))[TestLen:]\n",
    "XTVs, bin(XTVs)"
   ]
  },
  {
   "cell_type": "code",
   "execution_count": 45,
   "metadata": {},
   "outputs": [
    {
     "name": "stdout",
     "output_type": "stream",
     "text": [
      "<class 'myhdl._Signal._Signal'> <class '_ast.Name'>\n",
      "<class 'myhdl._Signal._Signal'> <class '_ast.Name'>\n",
      "***Verilog modual from NotGate_TBV.v***\n",
      "\n",
      " // File: NotGate_TBV.v\n",
      "// Generated by MyHDL 0.10\n",
      "// Date: Mon Sep  3 14:44:48 2018\n",
      "\n",
      "\n",
      "`timescale 1ns/10ps\n",
      "\n",
      "module NotGate_TBV (\n",
      "\n",
      ");\n",
      "// myHDL -> Verilog testbench for module `NotGate`\n",
      "\n",
      "\n",
      "wire Y;\n",
      "reg X = 0;\n",
      "wire [9:0] XTV;\n",
      "\n",
      "assign XTV = 10'd560;\n",
      "\n",
      "\n",
      "always @(X, Y) begin: NOTGATE_TBV_PRINT_DATA\n",
      "    $write(\"%h\", X);\n",
      "    $write(\" \");\n",
      "    $write(\"%h\", Y);\n",
      "    $write(\"\\n\");\n",
      "end\n",
      "\n",
      "\n",
      "\n",
      "assign Y = (!X);\n",
      "\n",
      "\n",
      "initial begin: NOTGATE_TBV_STIMULES\n",
      "    integer i;\n",
      "    for (i=0; i<10; i=i+1) begin\n",
      "        X <= XTV[i];\n",
      "        # 1;\n",
      "    end\n",
      "    $finish;\n",
      "end\n",
      "\n",
      "endmodule\n",
      "\n"
     ]
    },
    {
     "name": "stderr",
     "output_type": "stream",
     "text": [
      "/home/iridium/anaconda3/lib/python3.6/site-packages/myhdl/conversion/_toVerilog.py:349: ToVerilogWarning: Signal is not driven: XTV\n",
      "  category=ToVerilogWarning\n"
     ]
    }
   ],
   "source": [
    "@block\n",
    "def NotGate_TBV():\n",
    "    \"\"\"\n",
    "    myHDL -> Verilog testbench for module `NotGate`\n",
    "    \"\"\"\n",
    "    X=Signal(bool(0))\n",
    "    Y=Signal(bool(0))\n",
    "    \n",
    "    @always_comb\n",
    "    def print_data():\n",
    "        print(X, Y)\n",
    "    \n",
    "    #Test Signal Bit Vector\n",
    "    XTV=Signal(XTVs)\n",
    "\n",
    "    DUT=NotGate(X, Y)\n",
    "\n",
    "\n",
    "    @instance\n",
    "    def stimules():\n",
    "        for i in range(TestLen):\n",
    "            X.next=XTV[i]\n",
    "            yield delay(1)\n",
    "        \n",
    "        raise StopSimulation()\n",
    "    return instances()\n",
    "\n",
    "TB=NotGate_TBV()\n",
    "TB.convert(hdl=\"Verilog\", initial_values=True)\n",
    "VerilogTextReader('NotGate_TBV');         "
   ]
  },
  {
   "cell_type": "markdown",
   "metadata": {},
   "source": [
    "## PYNQ-Z1 Deployment"
   ]
  },
  {
   "cell_type": "markdown",
   "metadata": {},
   "source": [
    "### Board Circuit"
   ]
  },
  {
   "cell_type": "code",
   "execution_count": 46,
   "metadata": {},
   "outputs": [
    {
     "data": {
      "image/png": "[encoded data removed]",
      "text/plain": [
       "<matplotlib.figure.Figure at 0x7f2287dd1f28>"
      ]
     },
     "metadata": {},
     "output_type": "display_data"
    }
   ],
   "source": [
    "d=schem.Drawing(unit=.5)\n",
    "#add switch\n",
    "SW0=d.add(e.SWITCH_SPDT2, reverse=True, label='SW0')\n",
    "\n",
    "#connect to buffer\n",
    "d.add(e.LINE, d='right', xy=SW0.a, l=d.unit*2, label='X')\n",
    "d.add(e.DOT)\n",
    "N0=d.add(l.NOT, label='NOT')\n",
    "\n",
    "#buffer to LED\n",
    "d.add(e.DOT)\n",
    "d.add(e.LINE, d='right', l=d.unit*2, label='Y')\n",
    "d.add(e.LINE, d='down', l=d.unit*2)\n",
    "d.add(e.LED, rgtlabel='LD0', d='down')\n",
    "\n",
    "#LED to ground\n",
    "d.add(e.LINE, d='down', l=d.unit*1.5)\n",
    "d.add(e.GND)\n",
    "\n",
    "#swtich bottom to ground\n",
    "d.add(e.LINE, d='down', xy=SW0.c, l=d.unit*4)\n",
    "d.add(e.GND)\n",
    "\n",
    "\n",
    "#switch top to rail\n",
    "d.add(e.LINE, d='up', xy=SW0.b, l=d.unit*2.3)\n",
    "d.add(e.VDD)\n",
    "d.draw()"
   ]
  },
  {
   "cell_type": "markdown",
   "metadata": {},
   "source": [
    "### Board Constraint"
   ]
  },
  {
   "cell_type": "code",
   "execution_count": 47,
   "metadata": {},
   "outputs": [
    {
     "name": "stdout",
     "output_type": "stream",
     "text": [
      "***Constraint file from PYNQ_Z1Constraints_NotGate.xdc***\n",
      "\n",
      " ## PYNQ-Z1 Board Constraints for NotGate.v\n",
      "## Based on https://github.com/Digilent/digilent-xdc/blob/master/Arty-Master.xdc\n",
      "\n",
      "\n",
      "## Switch 0\n",
      "set_property -dict {PACKAGE_PIN M20 IOSTANDARD LVCMOS33} [get_ports {X}]\n",
      "\n",
      "\n",
      "##LED 0\n",
      "set_property -dict {PACKAGE_PIN R14 IOSTANDARD LVCMOS33} [get_ports {Y}]\n",
      "\n"
     ]
    }
   ],
   "source": [
    "ConstraintXDCTextReader('PYNQ_Z1Constraints_NotGate');"
   ]
  },
  {
   "cell_type": "markdown",
   "metadata": {},
   "source": [
    "### Video of Deployment\n",
    "NOT Gate myHDL PYNQ-Z1 ([YouTube](https://www.youtube.com/watch?v=5II5zOh6XAU))"
   ]
  },
  {
   "cell_type": "markdown",
   "metadata": {},
   "source": [
    "# AND"
   ]
  },
  {
   "cell_type": "markdown",
   "metadata": {},
   "source": [
    "\\begin{definition}\\label{def:AndGate}\n",
    "An AND Gate is a logic gate the will yield a True response if and only if all of its inputs are also True. Its boolean expression is typically\n",
    "$$Y=X_0 \\cdot X_1$$ using the multiplicative dot notation. Since if *True* is mapped to $1$ and *False*  is mapped $0$,  its output behavior is like that of multiplication of $1$ and $0$\n",
    "\\end{definition}\n"
   ]
  },
  {
   "cell_type": "code",
   "execution_count": 48,
   "metadata": {},
   "outputs": [
    {
     "data": {
      "image/png": "[encoded data removed]",
      "text/plain": [
       "<matplotlib.figure.Figure at 0x7f2287cc6588>"
      ]
     },
     "metadata": {},
     "output_type": "display_data"
    }
   ],
   "source": [
    "d = schem.Drawing(unit=.5)\n",
    "G = d.add(l.AND2, label='$AND_2$')\n",
    "d.add(e.DOT_OPEN, xy=G.out, rgtlabel='$Y$')\n",
    "d.add(e.DOT_OPEN, xy=G.in1, lftlabel='$X_1$')\n",
    "d.add(e.DOT_OPEN, xy=G.in2, lftlabel='$X_0$')\n",
    "d.draw()"
   ]
  },
  {
   "cell_type": "markdown",
   "metadata": {},
   "source": [
    "## Sympy Expression"
   ]
  },
  {
   "cell_type": "code",
   "execution_count": 49,
   "metadata": {},
   "outputs": [
    {
     "data": {
      "image/png": "[encoded data removed]",
      "text/latex": [
       "$$Y = X_{0} \\wedge X_{1}$$"
      ],
      "text/plain": [
       "Y = X₀ ∧ X₁"
      ]
     },
     "execution_count": 49,
     "metadata": {},
     "output_type": "execute_result"
    }
   ],
   "source": [
    "X0, X1, Y=symbols('X_0, X_1, Y')\n",
    "YEq=Eq(Y, X0&X1); YEq"
   ]
  },
  {
   "cell_type": "code",
   "execution_count": 50,
   "metadata": {},
   "outputs": [
    {
     "data": {
      "text/html": [
       "<div>\n",
       "<style scoped>\n",
       "    .dataframe tbody tr th:only-of-type {\n",
       "        vertical-align: middle;\n",
       "    }\n",
       "\n",
       "    .dataframe tbody tr th {\n",
       "        vertical-align: top;\n",
       "    }\n",
       "\n",
       "    .dataframe thead th {\n",
       "        text-align: right;\n",
       "    }\n",
       "</style>\n",
       "<table border=\"1\" class=\"dataframe\">\n",
       "  <thead>\n",
       "    <tr style=\"text-align: right;\">\n",
       "      <th></th>\n",
       "      <th>X_0</th>\n",
       "      <th>X_1</th>\n",
       "      <th>Y</th>\n",
       "    </tr>\n",
       "  </thead>\n",
       "  <tbody>\n",
       "    <tr>\n",
       "      <th>0</th>\n",
       "      <td>0</td>\n",
       "      <td>0</td>\n",
       "      <td>0</td>\n",
       "    </tr>\n",
       "    <tr>\n",
       "      <th>1</th>\n",
       "      <td>0</td>\n",
       "      <td>1</td>\n",
       "      <td>0</td>\n",
       "    </tr>\n",
       "    <tr>\n",
       "      <th>2</th>\n",
       "      <td>1</td>\n",
       "      <td>0</td>\n",
       "      <td>0</td>\n",
       "    </tr>\n",
       "    <tr>\n",
       "      <th>3</th>\n",
       "      <td>1</td>\n",
       "      <td>1</td>\n",
       "      <td>1</td>\n",
       "    </tr>\n",
       "  </tbody>\n",
       "</table>\n",
       "</div>"
      ],
      "text/plain": [
       "   X_0  X_1  Y\n",
       "0    0    0  0\n",
       "1    0    1  0\n",
       "2    1    0  0\n",
       "3    1    1  1"
      ]
     },
     "execution_count": 50,
     "metadata": {},
     "output_type": "execute_result"
    }
   ],
   "source": [
    "TruthTabelGenrator(YEq)"
   ]
  },
  {
   "cell_type": "code",
   "execution_count": 51,
   "metadata": {},
   "outputs": [
    {
     "data": {
      "text/plain": [
       "(array([[0, 0],\n",
       "        [0, 1],\n",
       "        [1, 0],\n",
       "        [1, 1]]), array([0, 0, 0, 1]))"
      ]
     },
     "execution_count": 51,
     "metadata": {},
     "output_type": "execute_result"
    }
   ],
   "source": [
    "YEqN=lambdify([X0, X1], YEq.rhs, dummify=False)\n",
    "SystmaticVals=np.array(list(itertools.product([0,1], repeat=2)))\n",
    "SystmaticVals, YEqN(SystmaticVals[:, 1], SystmaticVals[:, 0]).astype(int)"
   ]
  },
  {
   "cell_type": "markdown",
   "metadata": {},
   "source": [
    "## myHDL Module"
   ]
  },
  {
   "cell_type": "code",
   "execution_count": 52,
   "metadata": {},
   "outputs": [],
   "source": [
    "@block\n",
    "def AndGate(X0, X1, Y):\n",
    "    \"\"\"\n",
    "    And Gate demo module\n",
    "    \n",
    "    Input:\n",
    "        X0(bool): And gate input 0\n",
    "        X1(bool): And gate input 1\n",
    "    \n",
    "    Output:\n",
    "        Y(bool): And gate ouput \n",
    "    \n",
    "    \"\"\"\n",
    "    @always_comb\n",
    "    def logic():\n",
    "        #note here that `and` is used since this\n",
    "        #is a bit wise AND \n",
    "        Y.next=X0 and X1\n",
    "        \n",
    "        #if `&` had been used the conversion \n",
    "        #would yield `&` the .all() AND\n",
    "        # when dealing with bus's and  behavior mux's this\n",
    "        #distiction must be known\n",
    "        #see:\n",
    "        # https://stackoverflow.com/questions/17327680/what-is-the-difference-between-single-and-double-ampersand-binary-opera\n",
    "    \n",
    "    return instances()"
   ]
  },
  {
   "cell_type": "markdown",
   "metadata": {},
   "source": [
    "## myHDL Testing"
   ]
  },
  {
   "cell_type": "code",
   "execution_count": 53,
   "metadata": {},
   "outputs": [
    {
     "data": {
      "text/plain": [
       "([(0, 0), (0, 1), (1, 0), (1, 1)],\n",
       " array([0, 0, 1, 1, 1, 0, 1, 1, 1, 1, 0, 1, 1, 0]),\n",
       " array([0, 1, 0, 1, 0, 1, 0, 1, 1, 0, 0, 1, 1, 1]),\n",
       " 14)"
      ]
     },
     "execution_count": 53,
     "metadata": {},
     "output_type": "execute_result"
    }
   ],
   "source": [
    "#generate systmatic and random test values for AndGate_TB\n",
    "#stimules inputs X1 and X2\n",
    "TestLen=10\n",
    "SystmaticVals=list(itertools.product([0,1], repeat=2))\n",
    "X0TVs=np.array([i[1] for i in SystmaticVals]).astype(int)\n",
    "np.random.seed(15)\n",
    "X0TVs=np.append(X0TVs, np.random.randint(0,2, TestLen)).astype(int)\n",
    "\n",
    "X1TVs=np.array([i[0] for i in SystmaticVals]).astype(int)\n",
    "#the random genrator must have a differint seed beween each generation\n",
    "#call in order to produce differint values for each call\n",
    "np.random.seed(16)\n",
    "X1TVs=np.append(X1TVs, np.random.randint(0,2, TestLen)).astype(int)\n",
    "\n",
    "TestLen=len(X1TVs)\n",
    "SystmaticVals, X1TVs, X0TVs, TestLen"
   ]
  },
  {
   "cell_type": "code",
   "execution_count": 54,
   "metadata": {},
   "outputs": [],
   "source": [
    "Peeker.clear()\n",
    "X0=Signal(bool(0)); Peeker(X0, 'X0')\n",
    "X1=Signal(bool(0)); Peeker(X1, 'X1')\n",
    "Y=Signal(bool(0)); Peeker(Y, 'Y')\n",
    "\n",
    "DUT=AndGate(X0, X1, Y)\n",
    "\n",
    "def AndGate_TB():\n",
    "    \"\"\"\n",
    "    myHDL only testbench for module `AndGate`\n",
    "    \"\"\"\n",
    "    \n",
    "    @instance\n",
    "    def stimules():\n",
    "        for i in range(TestLen):\n",
    "            X0.next=int(X0TVs[i])\n",
    "            X1.next=int(X1TVs[i])\n",
    "            yield delay(1)\n",
    "        \n",
    "        raise StopSimulation()\n",
    "        \n",
    "    return instances()\n",
    "\n",
    "sim=Simulation(DUT, AndGate_TB(), *Peeker.instances()).run()            "
   ]
  },
  {
   "cell_type": "code",
   "execution_count": 55,
   "metadata": {},
   "outputs": [
    {
     "data": {
      "text/html": [
       "<div><script type=\"WaveDrom\">{\"signal\": [{\"name\": \"X1\", \"wave\": \"0.1..01...01.0\"}, {\"name\": \"X0\", \"wave\": \"01010101.0.1..\"}, {\"name\": \"Y\", \"wave\": \"0..10..1.0.1.0\"}]}</script></div>"
      ]
     },
     "metadata": {},
     "output_type": "display_data"
    },
    {
     "data": {
      "application/javascript": [
       "$.getScript(\"http://wavedrom.com/wavedrom.min.js\", function () {\n",
       "$.getScript(\"http://wavedrom.com/skins/default.js\", function () {\n",
       "WaveDrom.ProcessAll();});\n",
       "});\n"
      ]
     },
     "metadata": {},
     "output_type": "display_data"
    }
   ],
   "source": [
    "Peeker.to_wavedrom('X1', 'X0', 'Y')"
   ]
  },
  {
   "cell_type": "code",
   "execution_count": 56,
   "metadata": {},
   "outputs": [
    {
     "data": {
      "text/html": [
       "<div>\n",
       "<style scoped>\n",
       "    .dataframe tbody tr th:only-of-type {\n",
       "        vertical-align: middle;\n",
       "    }\n",
       "\n",
       "    .dataframe tbody tr th {\n",
       "        vertical-align: top;\n",
       "    }\n",
       "\n",
       "    .dataframe thead th {\n",
       "        text-align: right;\n",
       "    }\n",
       "</style>\n",
       "<table border=\"1\" class=\"dataframe\">\n",
       "  <thead>\n",
       "    <tr style=\"text-align: right;\">\n",
       "      <th></th>\n",
       "      <th>X1</th>\n",
       "      <th>X0</th>\n",
       "      <th>Y</th>\n",
       "    </tr>\n",
       "  </thead>\n",
       "  <tbody>\n",
       "    <tr>\n",
       "      <th>0</th>\n",
       "      <td>0</td>\n",
       "      <td>0</td>\n",
       "      <td>0</td>\n",
       "    </tr>\n",
       "    <tr>\n",
       "      <th>1</th>\n",
       "      <td>0</td>\n",
       "      <td>1</td>\n",
       "      <td>0</td>\n",
       "    </tr>\n",
       "    <tr>\n",
       "      <th>2</th>\n",
       "      <td>1</td>\n",
       "      <td>0</td>\n",
       "      <td>0</td>\n",
       "    </tr>\n",
       "    <tr>\n",
       "      <th>3</th>\n",
       "      <td>1</td>\n",
       "      <td>1</td>\n",
       "      <td>1</td>\n",
       "    </tr>\n",
       "    <tr>\n",
       "      <th>4</th>\n",
       "      <td>1</td>\n",
       "      <td>0</td>\n",
       "      <td>0</td>\n",
       "    </tr>\n",
       "    <tr>\n",
       "      <th>5</th>\n",
       "      <td>0</td>\n",
       "      <td>1</td>\n",
       "      <td>0</td>\n",
       "    </tr>\n",
       "    <tr>\n",
       "      <th>6</th>\n",
       "      <td>1</td>\n",
       "      <td>0</td>\n",
       "      <td>0</td>\n",
       "    </tr>\n",
       "    <tr>\n",
       "      <th>7</th>\n",
       "      <td>1</td>\n",
       "      <td>1</td>\n",
       "      <td>1</td>\n",
       "    </tr>\n",
       "    <tr>\n",
       "      <th>9</th>\n",
       "      <td>1</td>\n",
       "      <td>0</td>\n",
       "      <td>0</td>\n",
       "    </tr>\n",
       "    <tr>\n",
       "      <th>10</th>\n",
       "      <td>0</td>\n",
       "      <td>0</td>\n",
       "      <td>0</td>\n",
       "    </tr>\n",
       "    <tr>\n",
       "      <th>11</th>\n",
       "      <td>1</td>\n",
       "      <td>1</td>\n",
       "      <td>1</td>\n",
       "    </tr>\n",
       "    <tr>\n",
       "      <th>13</th>\n",
       "      <td>0</td>\n",
       "      <td>1</td>\n",
       "      <td>0</td>\n",
       "    </tr>\n",
       "  </tbody>\n",
       "</table>\n",
       "</div>"
      ],
      "text/plain": [
       "    X1  X0  Y\n",
       "0    0   0  0\n",
       "1    0   1  0\n",
       "2    1   0  0\n",
       "3    1   1  1\n",
       "4    1   0  0\n",
       "5    0   1  0\n",
       "6    1   0  0\n",
       "7    1   1  1\n",
       "9    1   0  0\n",
       "10   0   0  0\n",
       "11   1   1  1\n",
       "13   0   1  0"
      ]
     },
     "execution_count": 56,
     "metadata": {},
     "output_type": "execute_result"
    }
   ],
   "source": [
    "AndData=Peeker.to_dataframe()\n",
    "AndData=AndData[['X1', 'X0', 'Y']]\n",
    "AndData"
   ]
  },
  {
   "cell_type": "code",
   "execution_count": 57,
   "metadata": {},
   "outputs": [
    {
     "data": {
      "text/html": [
       "<div>\n",
       "<style scoped>\n",
       "    .dataframe tbody tr th:only-of-type {\n",
       "        vertical-align: middle;\n",
       "    }\n",
       "\n",
       "    .dataframe tbody tr th {\n",
       "        vertical-align: top;\n",
       "    }\n",
       "\n",
       "    .dataframe thead th {\n",
       "        text-align: right;\n",
       "    }\n",
       "</style>\n",
       "<table border=\"1\" class=\"dataframe\">\n",
       "  <thead>\n",
       "    <tr style=\"text-align: right;\">\n",
       "      <th></th>\n",
       "      <th>X1</th>\n",
       "      <th>X0</th>\n",
       "      <th>Y</th>\n",
       "      <th>YRef</th>\n",
       "    </tr>\n",
       "  </thead>\n",
       "  <tbody>\n",
       "    <tr>\n",
       "      <th>0</th>\n",
       "      <td>0</td>\n",
       "      <td>0</td>\n",
       "      <td>0</td>\n",
       "      <td>0</td>\n",
       "    </tr>\n",
       "    <tr>\n",
       "      <th>1</th>\n",
       "      <td>0</td>\n",
       "      <td>1</td>\n",
       "      <td>0</td>\n",
       "      <td>0</td>\n",
       "    </tr>\n",
       "    <tr>\n",
       "      <th>2</th>\n",
       "      <td>1</td>\n",
       "      <td>0</td>\n",
       "      <td>0</td>\n",
       "      <td>0</td>\n",
       "    </tr>\n",
       "    <tr>\n",
       "      <th>3</th>\n",
       "      <td>1</td>\n",
       "      <td>1</td>\n",
       "      <td>1</td>\n",
       "      <td>1</td>\n",
       "    </tr>\n",
       "    <tr>\n",
       "      <th>4</th>\n",
       "      <td>1</td>\n",
       "      <td>0</td>\n",
       "      <td>0</td>\n",
       "      <td>0</td>\n",
       "    </tr>\n",
       "    <tr>\n",
       "      <th>5</th>\n",
       "      <td>0</td>\n",
       "      <td>1</td>\n",
       "      <td>0</td>\n",
       "      <td>0</td>\n",
       "    </tr>\n",
       "    <tr>\n",
       "      <th>6</th>\n",
       "      <td>1</td>\n",
       "      <td>0</td>\n",
       "      <td>0</td>\n",
       "      <td>0</td>\n",
       "    </tr>\n",
       "    <tr>\n",
       "      <th>7</th>\n",
       "      <td>1</td>\n",
       "      <td>1</td>\n",
       "      <td>1</td>\n",
       "      <td>1</td>\n",
       "    </tr>\n",
       "    <tr>\n",
       "      <th>9</th>\n",
       "      <td>1</td>\n",
       "      <td>0</td>\n",
       "      <td>0</td>\n",
       "      <td>0</td>\n",
       "    </tr>\n",
       "    <tr>\n",
       "      <th>10</th>\n",
       "      <td>0</td>\n",
       "      <td>0</td>\n",
       "      <td>0</td>\n",
       "      <td>0</td>\n",
       "    </tr>\n",
       "    <tr>\n",
       "      <th>11</th>\n",
       "      <td>1</td>\n",
       "      <td>1</td>\n",
       "      <td>1</td>\n",
       "      <td>1</td>\n",
       "    </tr>\n",
       "    <tr>\n",
       "      <th>13</th>\n",
       "      <td>0</td>\n",
       "      <td>1</td>\n",
       "      <td>0</td>\n",
       "      <td>0</td>\n",
       "    </tr>\n",
       "  </tbody>\n",
       "</table>\n",
       "</div>"
      ],
      "text/plain": [
       "    X1  X0  Y  YRef\n",
       "0    0   0  0     0\n",
       "1    0   1  0     0\n",
       "2    1   0  0     0\n",
       "3    1   1  1     1\n",
       "4    1   0  0     0\n",
       "5    0   1  0     0\n",
       "6    1   0  0     0\n",
       "7    1   1  1     1\n",
       "9    1   0  0     0\n",
       "10   0   0  0     0\n",
       "11   1   1  1     1\n",
       "13   0   1  0     0"
      ]
     },
     "execution_count": 57,
     "metadata": {},
     "output_type": "execute_result"
    }
   ],
   "source": [
    "AndData['YRef']=AndData.apply(lambda row:YEqN(row['X0'], row['X1']), axis=1).astype(int)\n",
    "AndData"
   ]
  },
  {
   "cell_type": "code",
   "execution_count": 58,
   "metadata": {},
   "outputs": [
    {
     "name": "stdout",
     "output_type": "stream",
     "text": [
      "Module `AndGate` works as exspected: True\n"
     ]
    }
   ],
   "source": [
    "Test=(AndData['Y']==AndData['YRef']).all()\n",
    "print(f'Module `AndGate` works as exspected: {Test}')"
   ]
  },
  {
   "cell_type": "markdown",
   "metadata": {},
   "source": [
    "## Verilog Conversion"
   ]
  },
  {
   "cell_type": "code",
   "execution_count": 59,
   "metadata": {},
   "outputs": [
    {
     "name": "stdout",
     "output_type": "stream",
     "text": [
      "***Verilog modual from AndGate.v***\n",
      "\n",
      " // File: AndGate.v\n",
      "// Generated by MyHDL 0.10\n",
      "// Date: Mon Sep  3 14:45:30 2018\n",
      "\n",
      "\n",
      "`timescale 1ns/10ps\n",
      "\n",
      "module AndGate (\n",
      "    X0,\n",
      "    X1,\n",
      "    Y\n",
      ");\n",
      "// And Gate demo module\n",
      "// \n",
      "// Input:\n",
      "//     X0(bool): And gate input 0\n",
      "//     X1(bool): And gate input 1\n",
      "// \n",
      "// Output:\n",
      "//     Y(bool): And gate ouput \n",
      "\n",
      "input X0;\n",
      "input X1;\n",
      "output Y;\n",
      "wire Y;\n",
      "\n",
      "\n",
      "\n",
      "\n",
      "\n",
      "assign Y = (X0 && X1);\n",
      "\n",
      "endmodule\n",
      "\n"
     ]
    }
   ],
   "source": [
    "DUT.convert()\n",
    "VerilogTextReader('AndGate');"
   ]
  },
  {
   "cell_type": "markdown",
   "metadata": {},
   "source": [
    "\\begin{figure}\n",
    "\\centerline{\\includegraphics[width=10cm]{AndGate_RTL.png}}\n",
    "\\caption{\\label{fig:AGRTL} AndGate RTL schematic; Xilinx Vivado 2017.4}\n",
    "\\end{figure}"
   ]
  },
  {
   "cell_type": "markdown",
   "metadata": {},
   "source": [
    "\\begin{figure}\n",
    "\\centerline{\\includegraphics[width=10cm]{AndGate_SYN.png}}\n",
    "\\caption{\\label{fig:AGSYN} AndGate Synthesized Schematic; Xilinx Vivado 2017.4}\n",
    "\\end{figure}"
   ]
  },
  {
   "cell_type": "markdown",
   "metadata": {},
   "source": [
    "\\begin{figure}\n",
    "\\centerline{\\includegraphics[width=10cm]{AndGate_IMP.png}}\n",
    "\\caption{\\label{fig:AGIMP} AndGate Implementated Schematic; Xilinx Vivado 2017.4}\n",
    "\\end{figure}"
   ]
  },
  {
   "cell_type": "markdown",
   "metadata": {},
   "source": [
    "## myHDL to Verilog Testbench"
   ]
  },
  {
   "cell_type": "code",
   "execution_count": 60,
   "metadata": {},
   "outputs": [
    {
     "data": {
      "text/plain": [
       "(intbv(5479), '1010101100111', intbv(3830), '111011110110')"
      ]
     },
     "execution_count": 60,
     "metadata": {},
     "output_type": "execute_result"
    }
   ],
   "source": [
    "#create BitVectora for AndGate_TBV\n",
    "X0TVs=intbv(int(''.join(X0TVs.astype(str)), 2))[TestLen:]\n",
    "X1TVs=intbv(int(''.join(X1TVs.astype(str)), 2))[TestLen:]\n",
    "X0TVs, bin(X0TVs), X1TVs, bin(X1TVs)"
   ]
  },
  {
   "cell_type": "code",
   "execution_count": 61,
   "metadata": {},
   "outputs": [
    {
     "name": "stdout",
     "output_type": "stream",
     "text": [
      "<class 'myhdl._Signal._Signal'> <class '_ast.Name'>\n",
      "<class 'myhdl._Signal._Signal'> <class '_ast.Name'>\n",
      "<class 'myhdl._Signal._Signal'> <class '_ast.Name'>\n",
      "***Verilog modual from AndGate_TBV.v***\n",
      "\n",
      " // File: AndGate_TBV.v\n",
      "// Generated by MyHDL 0.10\n",
      "// Date: Mon Sep  3 14:45:40 2018\n",
      "\n",
      "\n",
      "`timescale 1ns/10ps\n",
      "\n",
      "module AndGate_TBV (\n",
      "\n",
      ");\n",
      "// myHDL -> Verilog testbench for module `AndGate`\n",
      "\n",
      "\n",
      "wire Y;\n",
      "reg X0 = 0;\n",
      "reg X1 = 0;\n",
      "wire [13:0] X0TV;\n",
      "wire [13:0] X1TV;\n",
      "\n",
      "assign X0TV = 14'd5479;\n",
      "assign X1TV = 14'd3830;\n",
      "\n",
      "\n",
      "always @(X1, Y, X0) begin: ANDGATE_TBV_PRINT_DATA\n",
      "    $write(\"%h\", X0);\n",
      "    $write(\" \");\n",
      "    $write(\"%h\", X1);\n",
      "    $write(\" \");\n",
      "    $write(\"%h\", Y);\n",
      "    $write(\"\\n\");\n",
      "end\n",
      "\n",
      "\n",
      "\n",
      "assign Y = (X0 && X1);\n",
      "\n",
      "\n",
      "initial begin: ANDGATE_TBV_STIMULES\n",
      "    integer i;\n",
      "    for (i=0; i<14; i=i+1) begin\n",
      "        X0 <= X0TV[i];\n",
      "        X1 <= X1TV[i];\n",
      "        # 1;\n",
      "    end\n",
      "    $finish;\n",
      "end\n",
      "\n",
      "endmodule\n",
      "\n"
     ]
    },
    {
     "name": "stderr",
     "output_type": "stream",
     "text": [
      "/home/iridium/anaconda3/lib/python3.6/site-packages/myhdl/conversion/_toVerilog.py:349: ToVerilogWarning: Signal is not driven: X0TV\n",
      "  category=ToVerilogWarning\n",
      "/home/iridium/anaconda3/lib/python3.6/site-packages/myhdl/conversion/_toVerilog.py:349: ToVerilogWarning: Signal is not driven: X1TV\n",
      "  category=ToVerilogWarning\n"
     ]
    }
   ],
   "source": [
    "@block\n",
    "def AndGate_TBV():\n",
    "    \"\"\"\n",
    "    myHDL -> Verilog testbench for module `AndGate`\n",
    "    \"\"\"\n",
    "    X0=Signal(bool(0))\n",
    "    X1=Signal(bool(0))\n",
    "    Y=Signal(bool(0))\n",
    "    \n",
    "    @always_comb\n",
    "    def print_data():\n",
    "        print(X0, X1, Y)\n",
    "    \n",
    "    #Test Signal Bit Vectors\n",
    "    X0TV=Signal(X0TVs)\n",
    "    X1TV=Signal(X1TVs)\n",
    "\n",
    "    DUT=AndGate(X0, X1, Y)\n",
    "\n",
    "    @instance\n",
    "    def stimules():\n",
    "        for i in range(TestLen):\n",
    "            X0.next=int(X0TV[i])\n",
    "            X1.next=int(X1TV[i])\n",
    "            yield delay(1)\n",
    "        \n",
    "        raise StopSimulation()\n",
    "    return instances()\n",
    "\n",
    "TB=AndGate_TBV()\n",
    "TB.convert(hdl=\"Verilog\", initial_values=True)\n",
    "VerilogTextReader('AndGate_TBV');         "
   ]
  },
  {
   "cell_type": "markdown",
   "metadata": {},
   "source": [
    "## PYNQ-Z1 Deployment"
   ]
  },
  {
   "cell_type": "markdown",
   "metadata": {},
   "source": [
    "### Board Circuit"
   ]
  },
  {
   "cell_type": "code",
   "execution_count": 62,
   "metadata": {},
   "outputs": [
    {
     "data": {
      "image/png": "[encoded data removed]",
      "text/plain": [
       "<matplotlib.figure.Figure at 0x7f2288140710>"
      ]
     },
     "metadata": {},
     "output_type": "display_data"
    }
   ],
   "source": [
    "d=schem.Drawing(unit=.5)\n",
    "#add elements\n",
    "G=d.add(l.AND2,d='right', label='$AND_2$')\n",
    "\n",
    "#Gate to led to gnd\n",
    "\n",
    "d.add(e.LINE, d='right', xy=G.out)\n",
    "d.add(e.DOT, label='$Y$')\n",
    "d.add(e.LINE, d='down', l=d.unit*2)\n",
    "LD0=d.add(e.LED, d='down', label='LD0')\n",
    "d.add(e.LINE, d='down', l=d.unit*2)\n",
    "d.add(e.GND)\n",
    "\n",
    "d.add(e.LINE, d='left', xy=G.in1, l=d.unit)\n",
    "d.add(e.DOT, label='$X_0$')\n",
    "d.add(e.LINE,d='left', l=d.unit)\n",
    "d.add(e.LINE,d='up', l=d.unit*2)\n",
    "d.add(e.LINE,d='left', l=d.unit*2)\n",
    "SW0=d.add(e.SWITCH_SPDT, lftlabel='SW0')\n",
    "d.add(e.GND, xy=SW0.c)\n",
    "d.add(e.VDD, xy=SW0.b)\n",
    "\n",
    "\n",
    "d.add(e.LINE, d='left', xy=G.in2, l=d.unit)\n",
    "d.add(e.DOT, botlabel='$X_1$')\n",
    "d.add(e.LINE,d='left', l=d.unit)\n",
    "d.add(e.LINE,d='down', l=d.unit*2)\n",
    "d.add(e.LINE,d='left', l=d.unit*4)\n",
    "SW1=d.add(e.SWITCH_SPDT, lftlabel='SW1')\n",
    "d.add(e.GND, xy=SW1.c)\n",
    "d.add(e.VDD, xy=SW1.b)\n",
    "d.draw()"
   ]
  },
  {
   "cell_type": "markdown",
   "metadata": {},
   "source": [
    "### Board Constraint"
   ]
  },
  {
   "cell_type": "code",
   "execution_count": 63,
   "metadata": {},
   "outputs": [
    {
     "name": "stdout",
     "output_type": "stream",
     "text": [
      "***Constraint file from PYNQ_Z1Constraints_AndGate.xdc***\n",
      "\n",
      " ## PYNQ-Z1 Board Constraints for AndGate.v\n",
      "## Based on https://github.com/Digilent/digilent-xdc/blob/master/Arty-Master.xdc\n",
      "\n",
      "\n",
      "## Switchs 0,1\n",
      "set_property -dict {PACKAGE_PIN M20 IOSTANDARD LVCMOS33} [get_ports {X0}]\n",
      "set_property -dict {PACKAGE_PIN M19 IOSTANDARD LVCMOS33} [get_ports {X1}]\n",
      "\n",
      "\n",
      "\n",
      "##LED 0\n",
      "set_property -dict {PACKAGE_PIN R14 IOSTANDARD LVCMOS33} [get_ports {Y}]\n",
      "\n"
     ]
    }
   ],
   "source": [
    "ConstraintXDCTextReader('PYNQ_Z1Constraints_AndGate');"
   ]
  },
  {
   "cell_type": "markdown",
   "metadata": {},
   "source": [
    "### Video of Deployment\n",
    "AND Gate myHDL PYNQ-Z1 ([YouTube](https://www.youtube.com/watch?v=PqLGQezfr4U))"
   ]
  },
  {
   "cell_type": "markdown",
   "metadata": {},
   "source": [
    "# OR\n",
    "\\begin{definition}\\label{def:OrGate}\n",
    "An OR Gate is a logic gate the will yield a True response if any of its inputs are True. Its boolean expression is typically\n",
    "$$Y=X_0 + X_1$$ using the addition notation. Since if *True* is mapped to $1$ and *False*  is mapped $0$,  its output behavior like that of the addition of $1$ and $0$ with the constraint of $1+1=1$ which is an axiom of Boolean Algebra.\n",
    "\\end{definition}"
   ]
  },
  {
   "cell_type": "code",
   "execution_count": 64,
   "metadata": {},
   "outputs": [
    {
     "data": {
      "image/png": "[encoded data removed]",
      "text/plain": [
       "<matplotlib.figure.Figure at 0x7f2288176128>"
      ]
     },
     "metadata": {},
     "output_type": "display_data"
    }
   ],
   "source": [
    "d = schem.Drawing(unit=.5)\n",
    "G = d.add(l.AND2, label='$OR_2$')\n",
    "d.add(e.DOT_OPEN, xy=G.out, rgtlabel='$Y$')\n",
    "d.add(e.DOT_OPEN, xy=G.in1, lftlabel='$X_1$')\n",
    "d.add(e.DOT_OPEN, xy=G.in2, lftlabel='$X_0$')\n",
    "d.draw()"
   ]
  },
  {
   "cell_type": "markdown",
   "metadata": {},
   "source": [
    "## Sympy Expression"
   ]
  },
  {
   "cell_type": "code",
   "execution_count": 65,
   "metadata": {},
   "outputs": [
    {
     "data": {
      "image/png": "[encoded data removed]",
      "text/latex": [
       "$$Y = X_{0} \\vee X_{1}$$"
      ],
      "text/plain": [
       "Y = X₀ ∨ X₁"
      ]
     },
     "execution_count": 65,
     "metadata": {},
     "output_type": "execute_result"
    }
   ],
   "source": [
    "X0, X1, Y=symbols('X_0, X_1, Y')\n",
    "YEq=Eq(Y, X0|X1); YEq"
   ]
  },
  {
   "cell_type": "code",
   "execution_count": 66,
   "metadata": {},
   "outputs": [
    {
     "data": {
      "text/html": [
       "<div>\n",
       "<style scoped>\n",
       "    .dataframe tbody tr th:only-of-type {\n",
       "        vertical-align: middle;\n",
       "    }\n",
       "\n",
       "    .dataframe tbody tr th {\n",
       "        vertical-align: top;\n",
       "    }\n",
       "\n",
       "    .dataframe thead th {\n",
       "        text-align: right;\n",
       "    }\n",
       "</style>\n",
       "<table border=\"1\" class=\"dataframe\">\n",
       "  <thead>\n",
       "    <tr style=\"text-align: right;\">\n",
       "      <th></th>\n",
       "      <th>X_0</th>\n",
       "      <th>X_1</th>\n",
       "      <th>Y</th>\n",
       "    </tr>\n",
       "  </thead>\n",
       "  <tbody>\n",
       "    <tr>\n",
       "      <th>0</th>\n",
       "      <td>0</td>\n",
       "      <td>0</td>\n",
       "      <td>0</td>\n",
       "    </tr>\n",
       "    <tr>\n",
       "      <th>1</th>\n",
       "      <td>0</td>\n",
       "      <td>1</td>\n",
       "      <td>1</td>\n",
       "    </tr>\n",
       "    <tr>\n",
       "      <th>2</th>\n",
       "      <td>1</td>\n",
       "      <td>0</td>\n",
       "      <td>1</td>\n",
       "    </tr>\n",
       "    <tr>\n",
       "      <th>3</th>\n",
       "      <td>1</td>\n",
       "      <td>1</td>\n",
       "      <td>1</td>\n",
       "    </tr>\n",
       "  </tbody>\n",
       "</table>\n",
       "</div>"
      ],
      "text/plain": [
       "   X_0  X_1  Y\n",
       "0    0    0  0\n",
       "1    0    1  1\n",
       "2    1    0  1\n",
       "3    1    1  1"
      ]
     },
     "execution_count": 66,
     "metadata": {},
     "output_type": "execute_result"
    }
   ],
   "source": [
    "TruthTabelGenrator(YEq)"
   ]
  },
  {
   "cell_type": "code",
   "execution_count": 67,
   "metadata": {},
   "outputs": [
    {
     "data": {
      "text/plain": [
       "(array([[0, 0],\n",
       "        [0, 1],\n",
       "        [1, 0],\n",
       "        [1, 1]]), array([0, 1, 1, 1]))"
      ]
     },
     "execution_count": 67,
     "metadata": {},
     "output_type": "execute_result"
    }
   ],
   "source": [
    "YEqN=lambdify([X0, X1], YEq.rhs, dummify=False)\n",
    "SystmaticVals=np.array(list(itertools.product([0,1], repeat=2)))\n",
    "SystmaticVals, YEqN(SystmaticVals[:, 1], SystmaticVals[:, 0]).astype(int)"
   ]
  },
  {
   "cell_type": "markdown",
   "metadata": {},
   "source": [
    "## myHDL Module"
   ]
  },
  {
   "cell_type": "code",
   "execution_count": 68,
   "metadata": {},
   "outputs": [],
   "source": [
    "@block\n",
    "def OrGate(X0, X1, Y):\n",
    "    \"\"\"\n",
    "    Or Gate demo module\n",
    "    \n",
    "    Input:\n",
    "        X0(bool): Or gate input 0\n",
    "        X1(bool): Or gate input 1\n",
    "    \n",
    "    Output:\n",
    "        Y(bool): Or gate ouput \n",
    "    \n",
    "    \"\"\"\n",
    "    @always_comb\n",
    "    def logic():\n",
    "        #note here that `or` is used since this\n",
    "        #is a bit wise OR \n",
    "        Y.next=X0 or X1\n",
    "        \n",
    "        #if `|` had been used the conversion \n",
    "        #would yield `||` the .all() OR\n",
    "        # when dealing with bus's and  behavior mux's this\n",
    "        #distiction must be known\n",
    "        #see:\n",
    "        # https://stackoverflow.com/questions/17327680/what-is-the-difference-between-single-and-double-ampersand-binary-opera\n",
    "    \n",
    "    return instances()"
   ]
  },
  {
   "cell_type": "markdown",
   "metadata": {},
   "source": [
    "## myHDL Testing"
   ]
  },
  {
   "cell_type": "code",
   "execution_count": 69,
   "metadata": {},
   "outputs": [
    {
     "data": {
      "text/plain": [
       "([(0, 0), (0, 1), (1, 0), (1, 1)],\n",
       " array([0, 0, 1, 1, 0, 1, 0, 1, 0, 1, 0, 0, 0, 0]),\n",
       " array([0, 1, 0, 1, 1, 1, 1, 0, 0, 1, 0, 1, 0, 1]),\n",
       " 14)"
      ]
     },
     "execution_count": 69,
     "metadata": {},
     "output_type": "execute_result"
    }
   ],
   "source": [
    "#generate systmatic and random test values for OrGate_TB\n",
    "#stimules inputs X1 and X2\n",
    "TestLen=10\n",
    "SystmaticVals=list(itertools.product([0,1], repeat=2))\n",
    "X0TVs=np.array([i[1] for i in SystmaticVals]).astype(int)\n",
    "np.random.seed(17)\n",
    "X0TVs=np.append(X0TVs, np.random.randint(0,2, TestLen)).astype(int)\n",
    "\n",
    "X1TVs=np.array([i[0] for i in SystmaticVals]).astype(int)\n",
    "np.random.seed(18)\n",
    "X1TVs=np.append(X1TVs, np.random.randint(0,2, TestLen)).astype(int)\n",
    "\n",
    "TestLen=len(X1TVs)\n",
    "SystmaticVals, X1TVs, X0TVs, TestLen"
   ]
  },
  {
   "cell_type": "code",
   "execution_count": 70,
   "metadata": {},
   "outputs": [],
   "source": [
    "Peeker.clear()\n",
    "X0=Signal(bool(0)); Peeker(X0, 'X0')\n",
    "X1=Signal(bool(0)); Peeker(X1, 'X1')\n",
    "Y=Signal(bool(0)); Peeker(Y, 'Y')\n",
    "\n",
    "DUT=OrGate(X0, X1, Y)\n",
    "\n",
    "def OrGate_TB():\n",
    "    \"\"\"\n",
    "    myHDL only testbench for module `OrGate`\n",
    "    \"\"\"\n",
    "    \n",
    "    @instance\n",
    "    def stimules():\n",
    "        for i in range(TestLen):\n",
    "            X0.next=int(X0TVs[i])\n",
    "            X1.next=int(X1TVs[i])\n",
    "            yield delay(1)\n",
    "        \n",
    "        raise StopSimulation()\n",
    "        \n",
    "    return instances()\n",
    "\n",
    "sim=Simulation(DUT, OrGate_TB(), *Peeker.instances()).run()            "
   ]
  },
  {
   "cell_type": "code",
   "execution_count": 71,
   "metadata": {},
   "outputs": [
    {
     "data": {
      "text/html": [
       "<div><script type=\"WaveDrom\">{\"signal\": [{\"name\": \"X1\", \"wave\": \"0.1.0101010...\"}, {\"name\": \"X0\", \"wave\": \"0101...0.10101\"}, {\"name\": \"Y\", \"wave\": \"01......010101\"}]}</script></div>"
      ]
     },
     "metadata": {},
     "output_type": "display_data"
    },
    {
     "data": {
      "application/javascript": [
       "$.getScript(\"http://wavedrom.com/wavedrom.min.js\", function () {\n",
       "$.getScript(\"http://wavedrom.com/skins/default.js\", function () {\n",
       "WaveDrom.ProcessAll();});\n",
       "});\n"
      ]
     },
     "metadata": {},
     "output_type": "display_data"
    }
   ],
   "source": [
    "Peeker.to_wavedrom('X1', 'X0', 'Y')"
   ]
  },
  {
   "cell_type": "code",
   "execution_count": 72,
   "metadata": {},
   "outputs": [
    {
     "data": {
      "text/html": [
       "<div>\n",
       "<style scoped>\n",
       "    .dataframe tbody tr th:only-of-type {\n",
       "        vertical-align: middle;\n",
       "    }\n",
       "\n",
       "    .dataframe tbody tr th {\n",
       "        vertical-align: top;\n",
       "    }\n",
       "\n",
       "    .dataframe thead th {\n",
       "        text-align: right;\n",
       "    }\n",
       "</style>\n",
       "<table border=\"1\" class=\"dataframe\">\n",
       "  <thead>\n",
       "    <tr style=\"text-align: right;\">\n",
       "      <th></th>\n",
       "      <th>X1</th>\n",
       "      <th>X0</th>\n",
       "      <th>Y</th>\n",
       "    </tr>\n",
       "  </thead>\n",
       "  <tbody>\n",
       "    <tr>\n",
       "      <th>0</th>\n",
       "      <td>0</td>\n",
       "      <td>0</td>\n",
       "      <td>0</td>\n",
       "    </tr>\n",
       "    <tr>\n",
       "      <th>1</th>\n",
       "      <td>0</td>\n",
       "      <td>1</td>\n",
       "      <td>1</td>\n",
       "    </tr>\n",
       "    <tr>\n",
       "      <th>2</th>\n",
       "      <td>1</td>\n",
       "      <td>0</td>\n",
       "      <td>1</td>\n",
       "    </tr>\n",
       "    <tr>\n",
       "      <th>3</th>\n",
       "      <td>1</td>\n",
       "      <td>1</td>\n",
       "      <td>1</td>\n",
       "    </tr>\n",
       "    <tr>\n",
       "      <th>4</th>\n",
       "      <td>0</td>\n",
       "      <td>1</td>\n",
       "      <td>1</td>\n",
       "    </tr>\n",
       "    <tr>\n",
       "      <th>5</th>\n",
       "      <td>1</td>\n",
       "      <td>1</td>\n",
       "      <td>1</td>\n",
       "    </tr>\n",
       "    <tr>\n",
       "      <th>6</th>\n",
       "      <td>0</td>\n",
       "      <td>1</td>\n",
       "      <td>1</td>\n",
       "    </tr>\n",
       "    <tr>\n",
       "      <th>7</th>\n",
       "      <td>1</td>\n",
       "      <td>0</td>\n",
       "      <td>1</td>\n",
       "    </tr>\n",
       "    <tr>\n",
       "      <th>8</th>\n",
       "      <td>0</td>\n",
       "      <td>0</td>\n",
       "      <td>0</td>\n",
       "    </tr>\n",
       "    <tr>\n",
       "      <th>9</th>\n",
       "      <td>1</td>\n",
       "      <td>1</td>\n",
       "      <td>1</td>\n",
       "    </tr>\n",
       "    <tr>\n",
       "      <th>10</th>\n",
       "      <td>0</td>\n",
       "      <td>0</td>\n",
       "      <td>0</td>\n",
       "    </tr>\n",
       "    <tr>\n",
       "      <th>11</th>\n",
       "      <td>0</td>\n",
       "      <td>1</td>\n",
       "      <td>1</td>\n",
       "    </tr>\n",
       "    <tr>\n",
       "      <th>12</th>\n",
       "      <td>0</td>\n",
       "      <td>0</td>\n",
       "      <td>0</td>\n",
       "    </tr>\n",
       "    <tr>\n",
       "      <th>13</th>\n",
       "      <td>0</td>\n",
       "      <td>1</td>\n",
       "      <td>1</td>\n",
       "    </tr>\n",
       "  </tbody>\n",
       "</table>\n",
       "</div>"
      ],
      "text/plain": [
       "    X1  X0  Y\n",
       "0    0   0  0\n",
       "1    0   1  1\n",
       "2    1   0  1\n",
       "3    1   1  1\n",
       "4    0   1  1\n",
       "5    1   1  1\n",
       "6    0   1  1\n",
       "7    1   0  1\n",
       "8    0   0  0\n",
       "9    1   1  1\n",
       "10   0   0  0\n",
       "11   0   1  1\n",
       "12   0   0  0\n",
       "13   0   1  1"
      ]
     },
     "execution_count": 72,
     "metadata": {},
     "output_type": "execute_result"
    }
   ],
   "source": [
    "OrData=Peeker.to_dataframe()\n",
    "OrData=OrData[['X1', 'X0', 'Y']]\n",
    "OrData"
   ]
  },
  {
   "cell_type": "code",
   "execution_count": 73,
   "metadata": {},
   "outputs": [
    {
     "data": {
      "text/html": [
       "<div>\n",
       "<style scoped>\n",
       "    .dataframe tbody tr th:only-of-type {\n",
       "        vertical-align: middle;\n",
       "    }\n",
       "\n",
       "    .dataframe tbody tr th {\n",
       "        vertical-align: top;\n",
       "    }\n",
       "\n",
       "    .dataframe thead th {\n",
       "        text-align: right;\n",
       "    }\n",
       "</style>\n",
       "<table border=\"1\" class=\"dataframe\">\n",
       "  <thead>\n",
       "    <tr style=\"text-align: right;\">\n",
       "      <th></th>\n",
       "      <th>X1</th>\n",
       "      <th>X0</th>\n",
       "      <th>Y</th>\n",
       "      <th>YRef</th>\n",
       "    </tr>\n",
       "  </thead>\n",
       "  <tbody>\n",
       "    <tr>\n",
       "      <th>0</th>\n",
       "      <td>0</td>\n",
       "      <td>0</td>\n",
       "      <td>0</td>\n",
       "      <td>0</td>\n",
       "    </tr>\n",
       "    <tr>\n",
       "      <th>1</th>\n",
       "      <td>0</td>\n",
       "      <td>1</td>\n",
       "      <td>1</td>\n",
       "      <td>1</td>\n",
       "    </tr>\n",
       "    <tr>\n",
       "      <th>2</th>\n",
       "      <td>1</td>\n",
       "      <td>0</td>\n",
       "      <td>1</td>\n",
       "      <td>1</td>\n",
       "    </tr>\n",
       "    <tr>\n",
       "      <th>3</th>\n",
       "      <td>1</td>\n",
       "      <td>1</td>\n",
       "      <td>1</td>\n",
       "      <td>1</td>\n",
       "    </tr>\n",
       "    <tr>\n",
       "      <th>4</th>\n",
       "      <td>0</td>\n",
       "      <td>1</td>\n",
       "      <td>1</td>\n",
       "      <td>1</td>\n",
       "    </tr>\n",
       "    <tr>\n",
       "      <th>5</th>\n",
       "      <td>1</td>\n",
       "      <td>1</td>\n",
       "      <td>1</td>\n",
       "      <td>1</td>\n",
       "    </tr>\n",
       "    <tr>\n",
       "      <th>6</th>\n",
       "      <td>0</td>\n",
       "      <td>1</td>\n",
       "      <td>1</td>\n",
       "      <td>1</td>\n",
       "    </tr>\n",
       "    <tr>\n",
       "      <th>7</th>\n",
       "      <td>1</td>\n",
       "      <td>0</td>\n",
       "      <td>1</td>\n",
       "      <td>1</td>\n",
       "    </tr>\n",
       "    <tr>\n",
       "      <th>8</th>\n",
       "      <td>0</td>\n",
       "      <td>0</td>\n",
       "      <td>0</td>\n",
       "      <td>0</td>\n",
       "    </tr>\n",
       "    <tr>\n",
       "      <th>9</th>\n",
       "      <td>1</td>\n",
       "      <td>1</td>\n",
       "      <td>1</td>\n",
       "      <td>1</td>\n",
       "    </tr>\n",
       "    <tr>\n",
       "      <th>10</th>\n",
       "      <td>0</td>\n",
       "      <td>0</td>\n",
       "      <td>0</td>\n",
       "      <td>0</td>\n",
       "    </tr>\n",
       "    <tr>\n",
       "      <th>11</th>\n",
       "      <td>0</td>\n",
       "      <td>1</td>\n",
       "      <td>1</td>\n",
       "      <td>1</td>\n",
       "    </tr>\n",
       "    <tr>\n",
       "      <th>12</th>\n",
       "      <td>0</td>\n",
       "      <td>0</td>\n",
       "      <td>0</td>\n",
       "      <td>0</td>\n",
       "    </tr>\n",
       "    <tr>\n",
       "      <th>13</th>\n",
       "      <td>0</td>\n",
       "      <td>1</td>\n",
       "      <td>1</td>\n",
       "      <td>1</td>\n",
       "    </tr>\n",
       "  </tbody>\n",
       "</table>\n",
       "</div>"
      ],
      "text/plain": [
       "    X1  X0  Y  YRef\n",
       "0    0   0  0     0\n",
       "1    0   1  1     1\n",
       "2    1   0  1     1\n",
       "3    1   1  1     1\n",
       "4    0   1  1     1\n",
       "5    1   1  1     1\n",
       "6    0   1  1     1\n",
       "7    1   0  1     1\n",
       "8    0   0  0     0\n",
       "9    1   1  1     1\n",
       "10   0   0  0     0\n",
       "11   0   1  1     1\n",
       "12   0   0  0     0\n",
       "13   0   1  1     1"
      ]
     },
     "execution_count": 73,
     "metadata": {},
     "output_type": "execute_result"
    }
   ],
   "source": [
    "OrData['YRef']=OrData.apply(lambda row:YEqN(row['X0'], row['X1']), axis=1).astype(int)\n",
    "OrData"
   ]
  },
  {
   "cell_type": "code",
   "execution_count": 74,
   "metadata": {},
   "outputs": [
    {
     "name": "stdout",
     "output_type": "stream",
     "text": [
      "Module `OrGate` works as exspected: True\n"
     ]
    }
   ],
   "source": [
    "Test=(OrData['Y']==OrData['YRef']).all()\n",
    "print(f'Module `OrGate` works as exspected: {Test}')"
   ]
  },
  {
   "cell_type": "markdown",
   "metadata": {},
   "source": [
    "## Verilog Conversion"
   ]
  },
  {
   "cell_type": "code",
   "execution_count": 75,
   "metadata": {},
   "outputs": [
    {
     "name": "stdout",
     "output_type": "stream",
     "text": [
      "***Verilog modual from OrGate.v***\n",
      "\n",
      " // File: OrGate.v\n",
      "// Generated by MyHDL 0.10\n",
      "// Date: Mon Sep  3 14:46:15 2018\n",
      "\n",
      "\n",
      "`timescale 1ns/10ps\n",
      "\n",
      "module OrGate (\n",
      "    X0,\n",
      "    X1,\n",
      "    Y\n",
      ");\n",
      "// Or Gate demo module\n",
      "// \n",
      "// Input:\n",
      "//     X0(bool): Or gate input 0\n",
      "//     X1(bool): Or gate input 1\n",
      "// \n",
      "// Output:\n",
      "//     Y(bool): Or gate ouput \n",
      "\n",
      "input X0;\n",
      "input X1;\n",
      "output Y;\n",
      "wire Y;\n",
      "\n",
      "\n",
      "\n",
      "\n",
      "\n",
      "assign Y = (X0 || X1);\n",
      "\n",
      "endmodule\n",
      "\n"
     ]
    }
   ],
   "source": [
    "DUT.convert()\n",
    "VerilogTextReader('OrGate');"
   ]
  },
  {
   "cell_type": "markdown",
   "metadata": {},
   "source": [
    "\\begin{figure}\n",
    "\\centerline{\\includegraphics[width=10cm]{OrGate_RTL.png}}\n",
    "\\caption{\\label{fig:OGRTL} OrGate RTL schematic; Xilinx Vivado 2017.4}\n",
    "\\end{figure}"
   ]
  },
  {
   "cell_type": "markdown",
   "metadata": {},
   "source": [
    "\\begin{figure}\n",
    "\\centerline{\\includegraphics[width=10cm]{OrGate_SYN.png}}\n",
    "\\caption{\\label{fig:OGSYN} OrGate Synthesized Schematic; Xilinx Vivado 2017.4}\n",
    "\\end{figure}"
   ]
  },
  {
   "cell_type": "markdown",
   "metadata": {},
   "source": [
    "\\begin{figure}\n",
    "\\centerline{\\includegraphics[width=10cm]{OrGate_IMP.png}}\n",
    "\\caption{\\label{fig:OGIMP} OrGate Implementated Schematic; Xilinx Vivado 2017.4}\n",
    "\\end{figure}"
   ]
  },
  {
   "cell_type": "markdown",
   "metadata": {},
   "source": [
    "## myHDL to Verilog Testbench"
   ]
  },
  {
   "cell_type": "code",
   "execution_count": 76,
   "metadata": {},
   "outputs": [
    {
     "data": {
      "text/plain": [
       "(intbv(6037), '1011110010101', intbv(3408), '110101010000')"
      ]
     },
     "execution_count": 76,
     "metadata": {},
     "output_type": "execute_result"
    }
   ],
   "source": [
    "#create BitVectora for OrGate_TBV\n",
    "X0TVs=intbv(int(''.join(X0TVs.astype(str)), 2))[TestLen:]\n",
    "X1TVs=intbv(int(''.join(X1TVs.astype(str)), 2))[TestLen:]\n",
    "X0TVs, bin(X0TVs), X1TVs, bin(X1TVs)"
   ]
  },
  {
   "cell_type": "code",
   "execution_count": 77,
   "metadata": {},
   "outputs": [
    {
     "name": "stdout",
     "output_type": "stream",
     "text": [
      "<class 'myhdl._Signal._Signal'> <class '_ast.Name'>\n",
      "<class 'myhdl._Signal._Signal'> <class '_ast.Name'>\n",
      "<class 'myhdl._Signal._Signal'> <class '_ast.Name'>\n",
      "***Verilog modual from OrGate_TBV.v***\n",
      "\n",
      " // File: OrGate_TBV.v\n",
      "// Generated by MyHDL 0.10\n",
      "// Date: Mon Sep  3 14:46:26 2018\n",
      "\n",
      "\n",
      "`timescale 1ns/10ps\n",
      "\n",
      "module OrGate_TBV (\n",
      "\n",
      ");\n",
      "// myHDL -> Verilog testbench for module `OrGate`\n",
      "\n",
      "\n",
      "wire Y;\n",
      "reg X0 = 0;\n",
      "reg X1 = 0;\n",
      "wire [13:0] X0TV;\n",
      "wire [13:0] X1TV;\n",
      "\n",
      "assign X0TV = 14'd6037;\n",
      "assign X1TV = 14'd3408;\n",
      "\n",
      "\n",
      "always @(X1, Y, X0) begin: ORGATE_TBV_PRINT_DATA\n",
      "    $write(\"%h\", X0);\n",
      "    $write(\" \");\n",
      "    $write(\"%h\", X1);\n",
      "    $write(\" \");\n",
      "    $write(\"%h\", Y);\n",
      "    $write(\"\\n\");\n",
      "end\n",
      "\n",
      "\n",
      "\n",
      "assign Y = (X0 || X1);\n",
      "\n",
      "\n",
      "initial begin: ORGATE_TBV_STIMULES\n",
      "    integer i;\n",
      "    for (i=0; i<14; i=i+1) begin\n",
      "        X0 <= X0TV[i];\n",
      "        X1 <= X1TV[i];\n",
      "        # 1;\n",
      "    end\n",
      "    $finish;\n",
      "end\n",
      "\n",
      "endmodule\n",
      "\n"
     ]
    },
    {
     "name": "stderr",
     "output_type": "stream",
     "text": [
      "/home/iridium/anaconda3/lib/python3.6/site-packages/myhdl/conversion/_toVerilog.py:349: ToVerilogWarning: Signal is not driven: X0TV\n",
      "  category=ToVerilogWarning\n",
      "/home/iridium/anaconda3/lib/python3.6/site-packages/myhdl/conversion/_toVerilog.py:349: ToVerilogWarning: Signal is not driven: X1TV\n",
      "  category=ToVerilogWarning\n"
     ]
    }
   ],
   "source": [
    "@block\n",
    "def OrGate_TBV():\n",
    "    \"\"\"\n",
    "    myHDL -> Verilog testbench for module `OrGate`\n",
    "    \"\"\"\n",
    "    X0=Signal(bool(0))\n",
    "    X1=Signal(bool(0))\n",
    "    Y=Signal(bool(0))\n",
    "    \n",
    "    @always_comb\n",
    "    def print_data():\n",
    "        print(X0, X1, Y)\n",
    "    \n",
    "    #Test Signal Bit Vectors\n",
    "    X0TV=Signal(X0TVs)\n",
    "    X1TV=Signal(X1TVs)\n",
    "\n",
    "    DUT=OrGate(X0, X1, Y)\n",
    "\n",
    "    @instance\n",
    "    def stimules():\n",
    "        for i in range(TestLen):\n",
    "            X0.next=int(X0TV[i])\n",
    "            X1.next=int(X1TV[i])\n",
    "            yield delay(1)\n",
    "        \n",
    "        raise StopSimulation()\n",
    "    return instances()\n",
    "\n",
    "TB=OrGate_TBV()\n",
    "TB.convert(hdl=\"Verilog\", initial_values=True)\n",
    "VerilogTextReader('OrGate_TBV');         "
   ]
  },
  {
   "cell_type": "markdown",
   "metadata": {},
   "source": [
    "## PYNQ-Z1 Deployment"
   ]
  },
  {
   "cell_type": "markdown",
   "metadata": {},
   "source": [
    "### Board Circuit"
   ]
  },
  {
   "cell_type": "code",
   "execution_count": 78,
   "metadata": {},
   "outputs": [
    {
     "data": {
      "image/png": "[encoded data removed]",
      "text/plain": [
       "<matplotlib.figure.Figure at 0x7f2287b75c50>"
      ]
     },
     "metadata": {},
     "output_type": "display_data"
    }
   ],
   "source": [
    "d=schem.Drawing(unit=.5)\n",
    "#add elements\n",
    "G=d.add(l.OR2,d='right', label='$OR_2$')\n",
    "\n",
    "#Gate to led to gnd\n",
    "\n",
    "d.add(e.LINE, d='right', xy=G.out)\n",
    "d.add(e.DOT, label='$Y$')\n",
    "d.add(e.LINE, d='down', l=d.unit*2)\n",
    "LD0=d.add(e.LED, d='down', label='LD0')\n",
    "d.add(e.LINE, d='down', l=d.unit*2)\n",
    "d.add(e.GND)\n",
    "\n",
    "d.add(e.LINE, d='left', xy=G.in1, l=d.unit)\n",
    "d.add(e.DOT, label='$X_0$')\n",
    "d.add(e.LINE,d='left', l=d.unit)\n",
    "d.add(e.LINE,d='up', l=d.unit*2)\n",
    "d.add(e.LINE,d='left', l=d.unit*2)\n",
    "SW0=d.add(e.SWITCH_SPDT, lftlabel='SW0')\n",
    "d.add(e.GND, xy=SW0.c)\n",
    "d.add(e.VDD, xy=SW0.b)\n",
    "\n",
    "\n",
    "d.add(e.LINE, d='left', xy=G.in2, l=d.unit)\n",
    "d.add(e.DOT, botlabel='$X_1$')\n",
    "d.add(e.LINE,d='left', l=d.unit)\n",
    "d.add(e.LINE,d='down', l=d.unit*2)\n",
    "d.add(e.LINE,d='left', l=d.unit*4)\n",
    "SW1=d.add(e.SWITCH_SPDT, lftlabel='SW1')\n",
    "d.add(e.GND, xy=SW1.c)\n",
    "d.add(e.VDD, xy=SW1.b)\n",
    "d.draw()"
   ]
  },
  {
   "cell_type": "markdown",
   "metadata": {},
   "source": [
    "### Board Constraint"
   ]
  },
  {
   "cell_type": "code",
   "execution_count": 79,
   "metadata": {},
   "outputs": [
    {
     "name": "stdout",
     "output_type": "stream",
     "text": [
      "***Constraint file from PYNQ_Z1Constraints_OrGate.xdc***\n",
      "\n",
      " ## PYNQ-Z1 Board Constraints for XorGate.v\n",
      "## Based on https://github.com/Digilent/digilent-xdc/blob/master/Arty-Master.xdc\n",
      "\n",
      "\n",
      "## Switchs 0,1\n",
      "set_property -dict {PACKAGE_PIN M20 IOSTANDARD LVCMOS33} [get_ports {X0}]\n",
      "set_property -dict {PACKAGE_PIN M19 IOSTANDARD LVCMOS33} [get_ports {X1}]\n",
      "\n",
      "\n",
      "##LED 0\n",
      "set_property -dict {PACKAGE_PIN R14 IOSTANDARD LVCMOS33} [get_ports {Y}]\n",
      "\n"
     ]
    }
   ],
   "source": [
    "ConstraintXDCTextReader('PYNQ_Z1Constraints_OrGate');"
   ]
  },
  {
   "cell_type": "markdown",
   "metadata": {},
   "source": [
    "### Video of Deployment\n",
    "OR Gate myHDL PYNQ-Z1 ([YouTube](https://www.youtube.com/watch?v=QKhMft17sac))"
   ]
  },
  {
   "cell_type": "markdown",
   "metadata": {},
   "source": [
    "# XOR\n",
    "\\begin{definition}\\label{def:XOrGate}\n",
    "An XOR Gate is a logic gate the will yield a True response if an only if only one of its inputs are True. Its boolean expression is typically\n",
    "$$Y=X_0 \\oplus X_1$$ using its typical notation, wich is a refinment of the $+$ notation used for an OR Gate. But can also be expressed as \n",
    "$$Y=X_0\\overline{X_1}+ \\overline{X_0}X_1= (X_0+X_1) \\cdot(\\overline{X_0}+\\overline{X_1})$$\n",
    "\\end{definition}"
   ]
  },
  {
   "cell_type": "code",
   "execution_count": 80,
   "metadata": {},
   "outputs": [
    {
     "data": {
      "image/png": "[encoded data removed]",
      "text/plain": [
       "<matplotlib.figure.Figure at 0x7f2287ad2080>"
      ]
     },
     "metadata": {},
     "output_type": "display_data"
    }
   ],
   "source": [
    "d = schem.Drawing(unit=.5)\n",
    "G = d.add(l.XOR2, label='$XOR_2$')\n",
    "d.add(e.DOT_OPEN, xy=G.out, rgtlabel='$Y$')\n",
    "d.add(e.DOT_OPEN, xy=G.in1, lftlabel='$X_1$')\n",
    "d.add(e.DOT_OPEN, xy=G.in2, lftlabel='$X_0$')\n",
    "d.draw()"
   ]
  },
  {
   "cell_type": "markdown",
   "metadata": {},
   "source": [
    "## Sympy Expression"
   ]
  },
  {
   "cell_type": "code",
   "execution_count": 81,
   "metadata": {},
   "outputs": [
    {
     "data": {
      "image/png": "[encoded data removed]",
      "text/latex": [
       "$$Y = X_{0} \\veebar X_{1}$$"
      ],
      "text/plain": [
       "Y = X₀ ⊻ X₁"
      ]
     },
     "execution_count": 81,
     "metadata": {},
     "output_type": "execute_result"
    }
   ],
   "source": [
    "X0, X1, Y=symbols('X_0, X_1, Y')\n",
    "YEq=Eq(Y, X0^X1); YEq"
   ]
  },
  {
   "cell_type": "code",
   "execution_count": 82,
   "metadata": {},
   "outputs": [
    {
     "data": {
      "text/html": [
       "<div>\n",
       "<style scoped>\n",
       "    .dataframe tbody tr th:only-of-type {\n",
       "        vertical-align: middle;\n",
       "    }\n",
       "\n",
       "    .dataframe tbody tr th {\n",
       "        vertical-align: top;\n",
       "    }\n",
       "\n",
       "    .dataframe thead th {\n",
       "        text-align: right;\n",
       "    }\n",
       "</style>\n",
       "<table border=\"1\" class=\"dataframe\">\n",
       "  <thead>\n",
       "    <tr style=\"text-align: right;\">\n",
       "      <th></th>\n",
       "      <th>X_0</th>\n",
       "      <th>X_1</th>\n",
       "      <th>Y</th>\n",
       "    </tr>\n",
       "  </thead>\n",
       "  <tbody>\n",
       "    <tr>\n",
       "      <th>0</th>\n",
       "      <td>0</td>\n",
       "      <td>0</td>\n",
       "      <td>0</td>\n",
       "    </tr>\n",
       "    <tr>\n",
       "      <th>1</th>\n",
       "      <td>0</td>\n",
       "      <td>1</td>\n",
       "      <td>1</td>\n",
       "    </tr>\n",
       "    <tr>\n",
       "      <th>2</th>\n",
       "      <td>1</td>\n",
       "      <td>0</td>\n",
       "      <td>1</td>\n",
       "    </tr>\n",
       "    <tr>\n",
       "      <th>3</th>\n",
       "      <td>1</td>\n",
       "      <td>1</td>\n",
       "      <td>0</td>\n",
       "    </tr>\n",
       "  </tbody>\n",
       "</table>\n",
       "</div>"
      ],
      "text/plain": [
       "   X_0  X_1  Y\n",
       "0    0    0  0\n",
       "1    0    1  1\n",
       "2    1    0  1\n",
       "3    1    1  0"
      ]
     },
     "execution_count": 82,
     "metadata": {},
     "output_type": "execute_result"
    }
   ],
   "source": [
    "TruthTabelGenrator(YEq)"
   ]
  },
  {
   "cell_type": "code",
   "execution_count": 83,
   "metadata": {},
   "outputs": [
    {
     "data": {
      "text/plain": [
       "(array([[0, 0],\n",
       "        [0, 1],\n",
       "        [1, 0],\n",
       "        [1, 1]]), array([0, 1, 1, 0]))"
      ]
     },
     "execution_count": 83,
     "metadata": {},
     "output_type": "execute_result"
    }
   ],
   "source": [
    "#lampdfy must have maping manuly set from `Xor` to `np.bitwise_xor`\n",
    "YEqN=lambdify([X0, X1], YEq.rhs, {'Xor':np.bitwise_xor}, dummify=False)\n",
    "SystmaticVals=np.array(list(itertools.product([0,1], repeat=2)))\n",
    "SystmaticVals, YEqN(SystmaticVals[:, 1], SystmaticVals[:, 0]).astype(int)"
   ]
  },
  {
   "cell_type": "markdown",
   "metadata": {},
   "source": [
    "## myHDL Module"
   ]
  },
  {
   "cell_type": "code",
   "execution_count": 84,
   "metadata": {},
   "outputs": [],
   "source": [
    "@block\n",
    "def XorGate(X0, X1, Y):\n",
    "    \"\"\"\n",
    "    XOR Gate demo module\n",
    "    \n",
    "    Input:\n",
    "        X0(bool): XOR gate input 0\n",
    "        X1(bool): XOR gate input 1\n",
    "    \n",
    "    Output:\n",
    "        Y(bool): XOR gate ouput \n",
    "    \n",
    "    \"\"\"\n",
    "    @always_comb\n",
    "    def logic():\n",
    "        Y.next=X0 ^ X1\n",
    "        \n",
    "    return instances()"
   ]
  },
  {
   "cell_type": "markdown",
   "metadata": {},
   "source": [
    "## myHDL Testing"
   ]
  },
  {
   "cell_type": "code",
   "execution_count": 85,
   "metadata": {},
   "outputs": [
    {
     "data": {
      "text/plain": [
       "([(0, 0), (0, 1), (1, 0), (1, 1)],\n",
       " array([0, 0, 1, 1, 1, 0, 1, 1, 0, 0, 1, 0, 1, 0]),\n",
       " array([0, 1, 0, 1, 1, 0, 1, 0, 0, 1, 0, 0, 1, 0]),\n",
       " 14)"
      ]
     },
     "execution_count": 85,
     "metadata": {},
     "output_type": "execute_result"
    }
   ],
   "source": [
    "#generate systmatic and random test values for XorGate_TB\n",
    "#stimules inputs X1 and X2\n",
    "TestLen=10\n",
    "SystmaticVals=list(itertools.product([0,1], repeat=2))\n",
    "X0TVs=np.array([i[1] for i in SystmaticVals]).astype(int)\n",
    "np.random.seed(19)\n",
    "X0TVs=np.append(X0TVs, np.random.randint(0,2, TestLen)).astype(int)\n",
    "\n",
    "X1TVs=np.array([i[0] for i in SystmaticVals]).astype(int)\n",
    "np.random.seed(20)\n",
    "X1TVs=np.append(X1TVs, np.random.randint(0,2, TestLen)).astype(int)\n",
    "\n",
    "TestLen=len(X1TVs)\n",
    "SystmaticVals, X1TVs, X0TVs, TestLen"
   ]
  },
  {
   "cell_type": "code",
   "execution_count": 86,
   "metadata": {},
   "outputs": [],
   "source": [
    "Peeker.clear()\n",
    "X0=Signal(bool(0)); Peeker(X0, 'X0')\n",
    "X1=Signal(bool(0)); Peeker(X1, 'X1')\n",
    "Y=Signal(bool(0)); Peeker(Y, 'Y')\n",
    "\n",
    "DUT=XorGate(X0, X1, Y)\n",
    "\n",
    "def XorGate_TB():\n",
    "    \"\"\"\n",
    "    myHDL only testbench for module `XorGate`\n",
    "    \"\"\"\n",
    "    \n",
    "    @instance\n",
    "    def stimules():\n",
    "        for i in range(TestLen):\n",
    "            X0.next=int(X0TVs[i])\n",
    "            X1.next=int(X1TVs[i])\n",
    "            yield delay(1)\n",
    "        \n",
    "        raise StopSimulation()\n",
    "        \n",
    "    return instances()\n",
    "\n",
    "sim=Simulation(DUT, XorGate_TB(), *Peeker.instances()).run()            "
   ]
  },
  {
   "cell_type": "code",
   "execution_count": 87,
   "metadata": {},
   "outputs": [
    {
     "data": {
      "text/html": [
       "<div><script type=\"WaveDrom\">{\"signal\": [{\"name\": \"X1\", \"wave\": \"0.1..01.0.1010\"}, {\"name\": \"X0\", \"wave\": \"0101.010.10.10\"}, {\"name\": \"Y\", \"wave\": \"01.0...101.0..\"}]}</script></div>"
      ]
     },
     "metadata": {},
     "output_type": "display_data"
    },
    {
     "data": {
      "application/javascript": [
       "$.getScript(\"http://wavedrom.com/wavedrom.min.js\", function () {\n",
       "$.getScript(\"http://wavedrom.com/skins/default.js\", function () {\n",
       "WaveDrom.ProcessAll();});\n",
       "});\n"
      ]
     },
     "metadata": {},
     "output_type": "display_data"
    }
   ],
   "source": [
    "Peeker.to_wavedrom('X1', 'X0', 'Y')"
   ]
  },
  {
   "cell_type": "code",
   "execution_count": 88,
   "metadata": {},
   "outputs": [
    {
     "data": {
      "text/html": [
       "<div>\n",
       "<style scoped>\n",
       "    .dataframe tbody tr th:only-of-type {\n",
       "        vertical-align: middle;\n",
       "    }\n",
       "\n",
       "    .dataframe tbody tr th {\n",
       "        vertical-align: top;\n",
       "    }\n",
       "\n",
       "    .dataframe thead th {\n",
       "        text-align: right;\n",
       "    }\n",
       "</style>\n",
       "<table border=\"1\" class=\"dataframe\">\n",
       "  <thead>\n",
       "    <tr style=\"text-align: right;\">\n",
       "      <th></th>\n",
       "      <th>X1</th>\n",
       "      <th>X0</th>\n",
       "      <th>Y</th>\n",
       "    </tr>\n",
       "  </thead>\n",
       "  <tbody>\n",
       "    <tr>\n",
       "      <th>0</th>\n",
       "      <td>0</td>\n",
       "      <td>0</td>\n",
       "      <td>0</td>\n",
       "    </tr>\n",
       "    <tr>\n",
       "      <th>1</th>\n",
       "      <td>0</td>\n",
       "      <td>1</td>\n",
       "      <td>1</td>\n",
       "    </tr>\n",
       "    <tr>\n",
       "      <th>2</th>\n",
       "      <td>1</td>\n",
       "      <td>0</td>\n",
       "      <td>1</td>\n",
       "    </tr>\n",
       "    <tr>\n",
       "      <th>3</th>\n",
       "      <td>1</td>\n",
       "      <td>1</td>\n",
       "      <td>0</td>\n",
       "    </tr>\n",
       "    <tr>\n",
       "      <th>5</th>\n",
       "      <td>0</td>\n",
       "      <td>0</td>\n",
       "      <td>0</td>\n",
       "    </tr>\n",
       "    <tr>\n",
       "      <th>6</th>\n",
       "      <td>1</td>\n",
       "      <td>1</td>\n",
       "      <td>0</td>\n",
       "    </tr>\n",
       "    <tr>\n",
       "      <th>7</th>\n",
       "      <td>1</td>\n",
       "      <td>0</td>\n",
       "      <td>1</td>\n",
       "    </tr>\n",
       "    <tr>\n",
       "      <th>8</th>\n",
       "      <td>0</td>\n",
       "      <td>0</td>\n",
       "      <td>0</td>\n",
       "    </tr>\n",
       "    <tr>\n",
       "      <th>9</th>\n",
       "      <td>0</td>\n",
       "      <td>1</td>\n",
       "      <td>1</td>\n",
       "    </tr>\n",
       "    <tr>\n",
       "      <th>10</th>\n",
       "      <td>1</td>\n",
       "      <td>0</td>\n",
       "      <td>1</td>\n",
       "    </tr>\n",
       "    <tr>\n",
       "      <th>11</th>\n",
       "      <td>0</td>\n",
       "      <td>0</td>\n",
       "      <td>0</td>\n",
       "    </tr>\n",
       "    <tr>\n",
       "      <th>12</th>\n",
       "      <td>1</td>\n",
       "      <td>1</td>\n",
       "      <td>0</td>\n",
       "    </tr>\n",
       "    <tr>\n",
       "      <th>13</th>\n",
       "      <td>0</td>\n",
       "      <td>0</td>\n",
       "      <td>0</td>\n",
       "    </tr>\n",
       "  </tbody>\n",
       "</table>\n",
       "</div>"
      ],
      "text/plain": [
       "    X1  X0  Y\n",
       "0    0   0  0\n",
       "1    0   1  1\n",
       "2    1   0  1\n",
       "3    1   1  0\n",
       "5    0   0  0\n",
       "6    1   1  0\n",
       "7    1   0  1\n",
       "8    0   0  0\n",
       "9    0   1  1\n",
       "10   1   0  1\n",
       "11   0   0  0\n",
       "12   1   1  0\n",
       "13   0   0  0"
      ]
     },
     "execution_count": 88,
     "metadata": {},
     "output_type": "execute_result"
    }
   ],
   "source": [
    "XorData=Peeker.to_dataframe()\n",
    "XorData=XorData[['X1', 'X0', 'Y']]\n",
    "XorData"
   ]
  },
  {
   "cell_type": "code",
   "execution_count": 89,
   "metadata": {},
   "outputs": [
    {
     "data": {
      "text/html": [
       "<div>\n",
       "<style scoped>\n",
       "    .dataframe tbody tr th:only-of-type {\n",
       "        vertical-align: middle;\n",
       "    }\n",
       "\n",
       "    .dataframe tbody tr th {\n",
       "        vertical-align: top;\n",
       "    }\n",
       "\n",
       "    .dataframe thead th {\n",
       "        text-align: right;\n",
       "    }\n",
       "</style>\n",
       "<table border=\"1\" class=\"dataframe\">\n",
       "  <thead>\n",
       "    <tr style=\"text-align: right;\">\n",
       "      <th></th>\n",
       "      <th>X1</th>\n",
       "      <th>X0</th>\n",
       "      <th>Y</th>\n",
       "      <th>YRef</th>\n",
       "    </tr>\n",
       "  </thead>\n",
       "  <tbody>\n",
       "    <tr>\n",
       "      <th>0</th>\n",
       "      <td>0</td>\n",
       "      <td>0</td>\n",
       "      <td>0</td>\n",
       "      <td>0</td>\n",
       "    </tr>\n",
       "    <tr>\n",
       "      <th>1</th>\n",
       "      <td>0</td>\n",
       "      <td>1</td>\n",
       "      <td>1</td>\n",
       "      <td>1</td>\n",
       "    </tr>\n",
       "    <tr>\n",
       "      <th>2</th>\n",
       "      <td>1</td>\n",
       "      <td>0</td>\n",
       "      <td>1</td>\n",
       "      <td>1</td>\n",
       "    </tr>\n",
       "    <tr>\n",
       "      <th>3</th>\n",
       "      <td>1</td>\n",
       "      <td>1</td>\n",
       "      <td>0</td>\n",
       "      <td>0</td>\n",
       "    </tr>\n",
       "    <tr>\n",
       "      <th>5</th>\n",
       "      <td>0</td>\n",
       "      <td>0</td>\n",
       "      <td>0</td>\n",
       "      <td>0</td>\n",
       "    </tr>\n",
       "    <tr>\n",
       "      <th>6</th>\n",
       "      <td>1</td>\n",
       "      <td>1</td>\n",
       "      <td>0</td>\n",
       "      <td>0</td>\n",
       "    </tr>\n",
       "    <tr>\n",
       "      <th>7</th>\n",
       "      <td>1</td>\n",
       "      <td>0</td>\n",
       "      <td>1</td>\n",
       "      <td>1</td>\n",
       "    </tr>\n",
       "    <tr>\n",
       "      <th>8</th>\n",
       "      <td>0</td>\n",
       "      <td>0</td>\n",
       "      <td>0</td>\n",
       "      <td>0</td>\n",
       "    </tr>\n",
       "    <tr>\n",
       "      <th>9</th>\n",
       "      <td>0</td>\n",
       "      <td>1</td>\n",
       "      <td>1</td>\n",
       "      <td>1</td>\n",
       "    </tr>\n",
       "    <tr>\n",
       "      <th>10</th>\n",
       "      <td>1</td>\n",
       "      <td>0</td>\n",
       "      <td>1</td>\n",
       "      <td>1</td>\n",
       "    </tr>\n",
       "    <tr>\n",
       "      <th>11</th>\n",
       "      <td>0</td>\n",
       "      <td>0</td>\n",
       "      <td>0</td>\n",
       "      <td>0</td>\n",
       "    </tr>\n",
       "    <tr>\n",
       "      <th>12</th>\n",
       "      <td>1</td>\n",
       "      <td>1</td>\n",
       "      <td>0</td>\n",
       "      <td>0</td>\n",
       "    </tr>\n",
       "    <tr>\n",
       "      <th>13</th>\n",
       "      <td>0</td>\n",
       "      <td>0</td>\n",
       "      <td>0</td>\n",
       "      <td>0</td>\n",
       "    </tr>\n",
       "  </tbody>\n",
       "</table>\n",
       "</div>"
      ],
      "text/plain": [
       "    X1  X0  Y  YRef\n",
       "0    0   0  0     0\n",
       "1    0   1  1     1\n",
       "2    1   0  1     1\n",
       "3    1   1  0     0\n",
       "5    0   0  0     0\n",
       "6    1   1  0     0\n",
       "7    1   0  1     1\n",
       "8    0   0  0     0\n",
       "9    0   1  1     1\n",
       "10   1   0  1     1\n",
       "11   0   0  0     0\n",
       "12   1   1  0     0\n",
       "13   0   0  0     0"
      ]
     },
     "execution_count": 89,
     "metadata": {},
     "output_type": "execute_result"
    }
   ],
   "source": [
    "XorData['YRef']=XorData.apply(lambda row:YEqN(row['X0'], row['X1']), axis=1).astype(int)\n",
    "XorData"
   ]
  },
  {
   "cell_type": "code",
   "execution_count": 90,
   "metadata": {},
   "outputs": [
    {
     "name": "stdout",
     "output_type": "stream",
     "text": [
      "Module `XorGate` works as exspected: True\n"
     ]
    }
   ],
   "source": [
    "Test=(XorData['Y']==XorData['YRef']).all()\n",
    "print(f'Module `XorGate` works as exspected: {Test}')"
   ]
  },
  {
   "cell_type": "markdown",
   "metadata": {},
   "source": [
    "## Verilog Conversion"
   ]
  },
  {
   "cell_type": "code",
   "execution_count": 91,
   "metadata": {},
   "outputs": [
    {
     "name": "stdout",
     "output_type": "stream",
     "text": [
      "***Verilog modual from XorGate.v***\n",
      "\n",
      " // File: XorGate.v\n",
      "// Generated by MyHDL 0.10\n",
      "// Date: Mon Sep  3 14:48:12 2018\n",
      "\n",
      "\n",
      "`timescale 1ns/10ps\n",
      "\n",
      "module XorGate (\n",
      "    X0,\n",
      "    X1,\n",
      "    Y\n",
      ");\n",
      "// XOR Gate demo module\n",
      "// \n",
      "// Input:\n",
      "//     X0(bool): XOR gate input 0\n",
      "//     X1(bool): XOR gate input 1\n",
      "// \n",
      "// Output:\n",
      "//     Y(bool): XOR gate ouput \n",
      "\n",
      "input X0;\n",
      "input X1;\n",
      "output Y;\n",
      "wire Y;\n",
      "\n",
      "\n",
      "\n",
      "\n",
      "\n",
      "assign Y = (X0 ^ X1);\n",
      "\n",
      "endmodule\n",
      "\n"
     ]
    }
   ],
   "source": [
    "DUT.convert()\n",
    "VerilogTextReader('XorGate');"
   ]
  },
  {
   "cell_type": "markdown",
   "metadata": {},
   "source": [
    "\\begin{figure}\n",
    "\\centerline{\\includegraphics[width=10cm]{XorGate_RTL.png}}\n",
    "\\caption{\\label{fig:XorGRTL} XorGate RTL schematic; Xilinx Vivado 2017.4}\n",
    "\\end{figure}"
   ]
  },
  {
   "cell_type": "markdown",
   "metadata": {},
   "source": [
    "\\begin{figure}\n",
    "\\centerline{\\includegraphics[width=10cm]{XorGate_SYN.png}}\n",
    "\\caption{\\label{fig:XorGSYN} XorGate Synthesized Schematic; Xilinx Vivado 2017.4}\n",
    "\\end{figure}"
   ]
  },
  {
   "cell_type": "markdown",
   "metadata": {},
   "source": [
    "\\begin{figure}\n",
    "\\centerline{\\includegraphics[width=10cm]{XorGate_IMP.png}}\n",
    "\\caption{\\label{fig:XorGIMP} XorGate Implementated Schematic; Xilinx Vivado 2017.4}\n",
    "\\end{figure}"
   ]
  },
  {
   "cell_type": "markdown",
   "metadata": {},
   "source": [
    "## myHDL to Verilog Testbench"
   ]
  },
  {
   "cell_type": "code",
   "execution_count": 92,
   "metadata": {},
   "outputs": [
    {
     "data": {
      "text/plain": [
       "(intbv(5778), '1011010010010', intbv(3786), '111011001010')"
      ]
     },
     "execution_count": 92,
     "metadata": {},
     "output_type": "execute_result"
    }
   ],
   "source": [
    "#create BitVectora for XorGate_TBV\n",
    "X0TVs=intbv(int(''.join(X0TVs.astype(str)), 2))[TestLen:]\n",
    "X1TVs=intbv(int(''.join(X1TVs.astype(str)), 2))[TestLen:]\n",
    "X0TVs, bin(X0TVs), X1TVs, bin(X1TVs)"
   ]
  },
  {
   "cell_type": "code",
   "execution_count": 93,
   "metadata": {},
   "outputs": [
    {
     "name": "stdout",
     "output_type": "stream",
     "text": [
      "<class 'myhdl._Signal._Signal'> <class '_ast.Name'>\n",
      "<class 'myhdl._Signal._Signal'> <class '_ast.Name'>\n",
      "<class 'myhdl._Signal._Signal'> <class '_ast.Name'>\n",
      "***Verilog modual from XorGate_TBV.v***\n",
      "\n",
      " // File: XorGate_TBV.v\n",
      "// Generated by MyHDL 0.10\n",
      "// Date: Mon Sep  3 14:48:26 2018\n",
      "\n",
      "\n",
      "`timescale 1ns/10ps\n",
      "\n",
      "module XorGate_TBV (\n",
      "\n",
      ");\n",
      "// myHDL -> Verilog testbench for module `XorGate`\n",
      "\n",
      "\n",
      "wire Y;\n",
      "reg X0 = 0;\n",
      "reg X1 = 0;\n",
      "wire [13:0] X0TV;\n",
      "wire [13:0] X1TV;\n",
      "\n",
      "assign X0TV = 14'd5778;\n",
      "assign X1TV = 14'd3786;\n",
      "\n",
      "\n",
      "always @(X1, Y, X0) begin: XORGATE_TBV_PRINT_DATA\n",
      "    $write(\"%h\", X0);\n",
      "    $write(\" \");\n",
      "    $write(\"%h\", X1);\n",
      "    $write(\" \");\n",
      "    $write(\"%h\", Y);\n",
      "    $write(\"\\n\");\n",
      "end\n",
      "\n",
      "\n",
      "\n",
      "assign Y = (X0 ^ X1);\n",
      "\n",
      "\n",
      "initial begin: XORGATE_TBV_STIMULES\n",
      "    integer i;\n",
      "    for (i=0; i<14; i=i+1) begin\n",
      "        X0 <= X0TV[i];\n",
      "        X1 <= X1TV[i];\n",
      "        # 1;\n",
      "    end\n",
      "    $finish;\n",
      "end\n",
      "\n",
      "endmodule\n",
      "\n"
     ]
    },
    {
     "name": "stderr",
     "output_type": "stream",
     "text": [
      "/home/iridium/anaconda3/lib/python3.6/site-packages/myhdl/conversion/_toVerilog.py:349: ToVerilogWarning: Signal is not driven: X0TV\n",
      "  category=ToVerilogWarning\n",
      "/home/iridium/anaconda3/lib/python3.6/site-packages/myhdl/conversion/_toVerilog.py:349: ToVerilogWarning: Signal is not driven: X1TV\n",
      "  category=ToVerilogWarning\n"
     ]
    }
   ],
   "source": [
    "@block\n",
    "def XorGate_TBV():\n",
    "    \"\"\"\n",
    "    myHDL -> Verilog testbench for module `XorGate`\n",
    "    \"\"\"\n",
    "    X0=Signal(bool(0))\n",
    "    X1=Signal(bool(0))\n",
    "    Y=Signal(bool(0))\n",
    "    \n",
    "    @always_comb\n",
    "    def print_data():\n",
    "        print(X0, X1, Y)\n",
    "    \n",
    "    #Test Signal Bit Vectors\n",
    "    X0TV=Signal(X0TVs)\n",
    "    X1TV=Signal(X1TVs)\n",
    "\n",
    "    DUT=XorGate(X0, X1, Y)\n",
    "\n",
    "    @instance\n",
    "    def stimules():\n",
    "        for i in range(TestLen):\n",
    "            X0.next=int(X0TV[i])\n",
    "            X1.next=int(X1TV[i])\n",
    "            yield delay(1)\n",
    "        \n",
    "        raise StopSimulation()\n",
    "    return instances()\n",
    "\n",
    "TB=XorGate_TBV()\n",
    "TB.convert(hdl=\"Verilog\", initial_values=True)\n",
    "VerilogTextReader('XorGate_TBV');         "
   ]
  },
  {
   "cell_type": "markdown",
   "metadata": {},
   "source": [
    "## PYNQ-Z1 Deployment"
   ]
  },
  {
   "cell_type": "markdown",
   "metadata": {},
   "source": [
    "### Board Circuit"
   ]
  },
  {
   "cell_type": "code",
   "execution_count": 94,
   "metadata": {},
   "outputs": [
    {
     "data": {
      "image/png": "[encoded data removed]",
      "text/plain": [
       "<matplotlib.figure.Figure at 0x7f228798cd30>"
      ]
     },
     "metadata": {},
     "output_type": "display_data"
    }
   ],
   "source": [
    "d=schem.Drawing(unit=.5)\n",
    "#add elements\n",
    "G=d.add(l.XOR2,d='right', label='$XOR_2$')\n",
    "\n",
    "#Gate to led to gnd\n",
    "\n",
    "d.add(e.LINE, d='right', xy=G.out)\n",
    "d.add(e.DOT, label='$Y$')\n",
    "d.add(e.LINE, d='down', l=d.unit*2)\n",
    "LD0=d.add(e.LED, d='down', label='LD0')\n",
    "d.add(e.LINE, d='down', l=d.unit*2)\n",
    "d.add(e.GND)\n",
    "\n",
    "d.add(e.LINE, d='left', xy=G.in1, l=d.unit)\n",
    "d.add(e.DOT, label='$X_0$')\n",
    "d.add(e.LINE,d='left', l=d.unit)\n",
    "d.add(e.LINE,d='up', l=d.unit*2)\n",
    "d.add(e.LINE,d='left', l=d.unit*2)\n",
    "SW0=d.add(e.SWITCH_SPDT, lftlabel='SW0')\n",
    "d.add(e.GND, xy=SW0.c)\n",
    "d.add(e.VDD, xy=SW0.b)\n",
    "\n",
    "\n",
    "d.add(e.LINE, d='left', xy=G.in2, l=d.unit)\n",
    "d.add(e.DOT, botlabel='$X_1$')\n",
    "d.add(e.LINE,d='left', l=d.unit)\n",
    "d.add(e.LINE,d='down', l=d.unit*2)\n",
    "d.add(e.LINE,d='left', l=d.unit*4)\n",
    "SW1=d.add(e.SWITCH_SPDT, lftlabel='SW1')\n",
    "d.add(e.GND, xy=SW1.c)\n",
    "d.add(e.VDD, xy=SW1.b)\n",
    "d.draw()"
   ]
  },
  {
   "cell_type": "markdown",
   "metadata": {},
   "source": [
    "### Board Constraint"
   ]
  },
  {
   "cell_type": "code",
   "execution_count": 95,
   "metadata": {},
   "outputs": [
    {
     "name": "stdout",
     "output_type": "stream",
     "text": [
      "***Constraint file from PYNQ_Z1Constraints_XorGate.xdc***\n",
      "\n",
      " ## PYNQ-Z1 Board Constraints for OrGate.v\n",
      "## Based on https://github.com/Digilent/digilent-xdc/blob/master/Arty-Master.xdc\n",
      "\n",
      "\n",
      "## Switchs 0,1\n",
      "set_property -dict {PACKAGE_PIN M20 IOSTANDARD LVCMOS33} [get_ports {X0}]\n",
      "set_property -dict {PACKAGE_PIN M19 IOSTANDARD LVCMOS33} [get_ports {X1}]\n",
      "\n",
      "\n",
      "##LED 0\n",
      "set_property -dict {PACKAGE_PIN R14 IOSTANDARD LVCMOS33} [get_ports {Y}]\n",
      "\n"
     ]
    }
   ],
   "source": [
    "ConstraintXDCTextReader('PYNQ_Z1Constraints_XorGate');"
   ]
  },
  {
   "cell_type": "markdown",
   "metadata": {},
   "source": [
    "### Video of Deployment\n",
    "XOR Gate myHDL PYNQ-Z1 ([YouTube](https://www.youtube.com/watch?v=Uys0Zhs7rlU))"
   ]
  },
  {
   "cell_type": "markdown",
   "metadata": {},
   "source": [
    "# NAND\n",
    "\\begin{definition}\\label{def:NAndGate}\n",
    "A NAND Gate is the negated, or the De Morgan equivalent, of an AND Gate. Such that is output will be True whenever there are False inputs to the gate. Its boolean expression is\n",
    "$$Y=\\overline{X_0\\cdot X_1}$$\n",
    "\\end{definition}\n",
    "\n",
    "One peculiar aspect of the NAND Gate is that from a pure Boolean algebra position it is one of the two \"Universal Gates\". Which means that any other gate can be constructed from no more than NAND Gates. See https://en.wikipedia.org/wiki/NAND_logic#Making_other_gates_by_using_NAND_gates for more info. And while this somewhat holds True for ASIC circuits, this not entirely true in terms of FPGAs \n",
    "\n"
   ]
  },
  {
   "cell_type": "code",
   "execution_count": 96,
   "metadata": {},
   "outputs": [
    {
     "data": {
      "image/png": "[encoded data removed]",
      "text/plain": [
       "<matplotlib.figure.Figure at 0x7f228799a940>"
      ]
     },
     "metadata": {},
     "output_type": "display_data"
    }
   ],
   "source": [
    "d = schem.Drawing(unit=.5)\n",
    "G = d.add(l.NAND2, label='$NAND_2$')\n",
    "d.add(e.DOT_OPEN, xy=G.out, rgtlabel='$Y$')\n",
    "d.add(e.DOT_OPEN, xy=G.in1, lftlabel='$X_1$')\n",
    "d.add(e.DOT_OPEN, xy=G.in2, lftlabel='$X_0$')\n",
    "d.draw()"
   ]
  },
  {
   "cell_type": "markdown",
   "metadata": {},
   "source": [
    "## Sympy Expression"
   ]
  },
  {
   "cell_type": "code",
   "execution_count": 97,
   "metadata": {},
   "outputs": [
    {
     "data": {
      "image/png": "[encoded data removed]",
      "text/latex": [
       "$$Y = \\neg (X_{0} \\wedge X_{1})$$"
      ],
      "text/plain": [
       "Y = ¬(X₀ ∧ X₁)"
      ]
     },
     "execution_count": 97,
     "metadata": {},
     "output_type": "execute_result"
    }
   ],
   "source": [
    "X0, X1, Y=symbols('X_0, X_1, Y')\n",
    "YEq=Eq(Y, Nand(X0,X1)); YEq"
   ]
  },
  {
   "cell_type": "code",
   "execution_count": 98,
   "metadata": {},
   "outputs": [
    {
     "data": {
      "text/html": [
       "<div>\n",
       "<style scoped>\n",
       "    .dataframe tbody tr th:only-of-type {\n",
       "        vertical-align: middle;\n",
       "    }\n",
       "\n",
       "    .dataframe tbody tr th {\n",
       "        vertical-align: top;\n",
       "    }\n",
       "\n",
       "    .dataframe thead th {\n",
       "        text-align: right;\n",
       "    }\n",
       "</style>\n",
       "<table border=\"1\" class=\"dataframe\">\n",
       "  <thead>\n",
       "    <tr style=\"text-align: right;\">\n",
       "      <th></th>\n",
       "      <th>X_0</th>\n",
       "      <th>X_1</th>\n",
       "      <th>Y</th>\n",
       "    </tr>\n",
       "  </thead>\n",
       "  <tbody>\n",
       "    <tr>\n",
       "      <th>0</th>\n",
       "      <td>0</td>\n",
       "      <td>0</td>\n",
       "      <td>1</td>\n",
       "    </tr>\n",
       "    <tr>\n",
       "      <th>1</th>\n",
       "      <td>0</td>\n",
       "      <td>1</td>\n",
       "      <td>1</td>\n",
       "    </tr>\n",
       "    <tr>\n",
       "      <th>2</th>\n",
       "      <td>1</td>\n",
       "      <td>0</td>\n",
       "      <td>1</td>\n",
       "    </tr>\n",
       "    <tr>\n",
       "      <th>3</th>\n",
       "      <td>1</td>\n",
       "      <td>1</td>\n",
       "      <td>0</td>\n",
       "    </tr>\n",
       "  </tbody>\n",
       "</table>\n",
       "</div>"
      ],
      "text/plain": [
       "   X_0  X_1  Y\n",
       "0    0    0  1\n",
       "1    0    1  1\n",
       "2    1    0  1\n",
       "3    1    1  0"
      ]
     },
     "execution_count": 98,
     "metadata": {},
     "output_type": "execute_result"
    }
   ],
   "source": [
    "TruthTabelGenrator(YEq)"
   ]
  },
  {
   "cell_type": "code",
   "execution_count": 99,
   "metadata": {},
   "outputs": [
    {
     "data": {
      "text/plain": [
       "(array([[0, 0],\n",
       "        [0, 1],\n",
       "        [1, 0],\n",
       "        [1, 1]]), array([1, 1, 1, 0]))"
      ]
     },
     "execution_count": 99,
     "metadata": {},
     "output_type": "execute_result"
    }
   ],
   "source": [
    "YEqN=lambdify([X0, X1], YEq.rhs, dummify=False)\n",
    "SystmaticVals=np.array(list(itertools.product([0,1], repeat=2)))\n",
    "SystmaticVals, YEqN(SystmaticVals[:, 1], SystmaticVals[:, 0]).astype(int)"
   ]
  },
  {
   "cell_type": "markdown",
   "metadata": {},
   "source": [
    "## myHDL Module"
   ]
  },
  {
   "cell_type": "code",
   "execution_count": 100,
   "metadata": {},
   "outputs": [],
   "source": [
    "@block\n",
    "def NAndGate(X0, X1, Y):\n",
    "    \"\"\"\n",
    "    NAND Gate demo module\n",
    "    \n",
    "    Input:\n",
    "        X0(bool): NAnd gate input 0\n",
    "        X1(bool): NAnd gate input 1\n",
    "    \n",
    "    Output:\n",
    "        Y(bool): NAnd gate ouput \n",
    "    \n",
    "    \"\"\"\n",
    "    @always_comb\n",
    "    def logic():\n",
    "        #note here that `and` is used since this\n",
    "        #is a bit wise AND \n",
    "        Y.next=not(X0 and X1)\n",
    "        \n",
    "        #if `&` had been used the conversion \n",
    "        #would yield `&` the .all() AND\n",
    "        # when dealing with bus's and  behavior mux's this\n",
    "        #distiction must be known\n",
    "        #see:\n",
    "        # https://stackoverflow.com/questions/17327680/what-is-the-difference-between-single-and-double-ampersand-binary-opera\n",
    "    \n",
    "    return instances()"
   ]
  },
  {
   "cell_type": "markdown",
   "metadata": {},
   "source": [
    "## myHDL Testing"
   ]
  },
  {
   "cell_type": "code",
   "execution_count": 101,
   "metadata": {},
   "outputs": [
    {
     "data": {
      "text/plain": [
       "([(0, 0), (0, 1), (1, 0), (1, 1)],\n",
       " array([0, 0, 1, 1, 1, 0, 0, 1, 0, 0, 1, 1, 0, 1]),\n",
       " array([0, 1, 0, 1, 1, 1, 0, 0, 0, 0, 0, 1, 0, 0]),\n",
       " 14)"
      ]
     },
     "execution_count": 101,
     "metadata": {},
     "output_type": "execute_result"
    }
   ],
   "source": [
    "#generate systmatic and random test values for AndGate_TB\n",
    "#stimules inputs X1 and X2\n",
    "TestLen=10\n",
    "SystmaticVals=list(itertools.product([0,1], repeat=2))\n",
    "X0TVs=np.array([i[1] for i in SystmaticVals]).astype(int)\n",
    "np.random.seed(21)\n",
    "X0TVs=np.append(X0TVs, np.random.randint(0,2, TestLen)).astype(int)\n",
    "\n",
    "X1TVs=np.array([i[0] for i in SystmaticVals]).astype(int)\n",
    "np.random.seed(23)\n",
    "X1TVs=np.append(X1TVs, np.random.randint(0,2, TestLen)).astype(int)\n",
    "\n",
    "TestLen=len(X1TVs)\n",
    "SystmaticVals, X1TVs, X0TVs, TestLen"
   ]
  },
  {
   "cell_type": "code",
   "execution_count": 102,
   "metadata": {},
   "outputs": [],
   "source": [
    "Peeker.clear()\n",
    "X0=Signal(bool(0)); Peeker(X0, 'X0')\n",
    "X1=Signal(bool(0)); Peeker(X1, 'X1')\n",
    "Y=Signal(bool(0)); Peeker(Y, 'Y')\n",
    "\n",
    "DUT=NAndGate(X0, X1, Y)\n",
    "\n",
    "def NAndGate_TB():\n",
    "    \"\"\"\n",
    "    myHDL only testbench for module `NAndGate`\n",
    "    \"\"\"\n",
    "    \n",
    "    @instance\n",
    "    def stimules():\n",
    "        for i in range(TestLen):\n",
    "            X0.next=int(X0TVs[i])\n",
    "            X1.next=int(X1TVs[i])\n",
    "            yield delay(1)\n",
    "        \n",
    "        raise StopSimulation()\n",
    "        \n",
    "    return instances()\n",
    "\n",
    "sim=Simulation(DUT, NAndGate_TB(), *Peeker.instances()).run()            "
   ]
  },
  {
   "cell_type": "code",
   "execution_count": 103,
   "metadata": {},
   "outputs": [
    {
     "data": {
      "text/html": [
       "<div><script type=\"WaveDrom\">{\"signal\": [{\"name\": \"X1\", \"wave\": \"0.1..0.10.1.01\"}, {\"name\": \"X0\", \"wave\": \"0101..0....10.\"}, {\"name\": \"Y\", \"wave\": \"1..0.1.....01.\"}]}</script></div>"
      ]
     },
     "metadata": {},
     "output_type": "display_data"
    },
    {
     "data": {
      "application/javascript": [
       "$.getScript(\"http://wavedrom.com/wavedrom.min.js\", function () {\n",
       "$.getScript(\"http://wavedrom.com/skins/default.js\", function () {\n",
       "WaveDrom.ProcessAll();});\n",
       "});\n"
      ]
     },
     "metadata": {},
     "output_type": "display_data"
    }
   ],
   "source": [
    "Peeker.to_wavedrom('X1', 'X0', 'Y')"
   ]
  },
  {
   "cell_type": "code",
   "execution_count": 104,
   "metadata": {},
   "outputs": [
    {
     "data": {
      "text/html": [
       "<div>\n",
       "<style scoped>\n",
       "    .dataframe tbody tr th:only-of-type {\n",
       "        vertical-align: middle;\n",
       "    }\n",
       "\n",
       "    .dataframe tbody tr th {\n",
       "        vertical-align: top;\n",
       "    }\n",
       "\n",
       "    .dataframe thead th {\n",
       "        text-align: right;\n",
       "    }\n",
       "</style>\n",
       "<table border=\"1\" class=\"dataframe\">\n",
       "  <thead>\n",
       "    <tr style=\"text-align: right;\">\n",
       "      <th></th>\n",
       "      <th>X1</th>\n",
       "      <th>X0</th>\n",
       "      <th>Y</th>\n",
       "    </tr>\n",
       "  </thead>\n",
       "  <tbody>\n",
       "    <tr>\n",
       "      <th>0</th>\n",
       "      <td>0</td>\n",
       "      <td>0</td>\n",
       "      <td>1</td>\n",
       "    </tr>\n",
       "    <tr>\n",
       "      <th>1</th>\n",
       "      <td>0</td>\n",
       "      <td>1</td>\n",
       "      <td>1</td>\n",
       "    </tr>\n",
       "    <tr>\n",
       "      <th>2</th>\n",
       "      <td>1</td>\n",
       "      <td>0</td>\n",
       "      <td>1</td>\n",
       "    </tr>\n",
       "    <tr>\n",
       "      <th>3</th>\n",
       "      <td>1</td>\n",
       "      <td>1</td>\n",
       "      <td>0</td>\n",
       "    </tr>\n",
       "    <tr>\n",
       "      <th>5</th>\n",
       "      <td>0</td>\n",
       "      <td>1</td>\n",
       "      <td>1</td>\n",
       "    </tr>\n",
       "    <tr>\n",
       "      <th>6</th>\n",
       "      <td>0</td>\n",
       "      <td>0</td>\n",
       "      <td>1</td>\n",
       "    </tr>\n",
       "    <tr>\n",
       "      <th>7</th>\n",
       "      <td>1</td>\n",
       "      <td>0</td>\n",
       "      <td>1</td>\n",
       "    </tr>\n",
       "    <tr>\n",
       "      <th>8</th>\n",
       "      <td>0</td>\n",
       "      <td>0</td>\n",
       "      <td>1</td>\n",
       "    </tr>\n",
       "    <tr>\n",
       "      <th>10</th>\n",
       "      <td>1</td>\n",
       "      <td>0</td>\n",
       "      <td>1</td>\n",
       "    </tr>\n",
       "    <tr>\n",
       "      <th>11</th>\n",
       "      <td>1</td>\n",
       "      <td>1</td>\n",
       "      <td>0</td>\n",
       "    </tr>\n",
       "    <tr>\n",
       "      <th>12</th>\n",
       "      <td>0</td>\n",
       "      <td>0</td>\n",
       "      <td>1</td>\n",
       "    </tr>\n",
       "    <tr>\n",
       "      <th>13</th>\n",
       "      <td>1</td>\n",
       "      <td>0</td>\n",
       "      <td>1</td>\n",
       "    </tr>\n",
       "  </tbody>\n",
       "</table>\n",
       "</div>"
      ],
      "text/plain": [
       "    X1  X0  Y\n",
       "0    0   0  1\n",
       "1    0   1  1\n",
       "2    1   0  1\n",
       "3    1   1  0\n",
       "5    0   1  1\n",
       "6    0   0  1\n",
       "7    1   0  1\n",
       "8    0   0  1\n",
       "10   1   0  1\n",
       "11   1   1  0\n",
       "12   0   0  1\n",
       "13   1   0  1"
      ]
     },
     "execution_count": 104,
     "metadata": {},
     "output_type": "execute_result"
    }
   ],
   "source": [
    "NAndData=Peeker.to_dataframe()\n",
    "NAndData=NAndData[['X1', 'X0', 'Y']]\n",
    "NAndData"
   ]
  },
  {
   "cell_type": "code",
   "execution_count": 105,
   "metadata": {},
   "outputs": [
    {
     "data": {
      "text/html": [
       "<div>\n",
       "<style scoped>\n",
       "    .dataframe tbody tr th:only-of-type {\n",
       "        vertical-align: middle;\n",
       "    }\n",
       "\n",
       "    .dataframe tbody tr th {\n",
       "        vertical-align: top;\n",
       "    }\n",
       "\n",
       "    .dataframe thead th {\n",
       "        text-align: right;\n",
       "    }\n",
       "</style>\n",
       "<table border=\"1\" class=\"dataframe\">\n",
       "  <thead>\n",
       "    <tr style=\"text-align: right;\">\n",
       "      <th></th>\n",
       "      <th>X1</th>\n",
       "      <th>X0</th>\n",
       "      <th>Y</th>\n",
       "      <th>YRef</th>\n",
       "    </tr>\n",
       "  </thead>\n",
       "  <tbody>\n",
       "    <tr>\n",
       "      <th>0</th>\n",
       "      <td>0</td>\n",
       "      <td>0</td>\n",
       "      <td>1</td>\n",
       "      <td>1</td>\n",
       "    </tr>\n",
       "    <tr>\n",
       "      <th>1</th>\n",
       "      <td>0</td>\n",
       "      <td>1</td>\n",
       "      <td>1</td>\n",
       "      <td>1</td>\n",
       "    </tr>\n",
       "    <tr>\n",
       "      <th>2</th>\n",
       "      <td>1</td>\n",
       "      <td>0</td>\n",
       "      <td>1</td>\n",
       "      <td>1</td>\n",
       "    </tr>\n",
       "    <tr>\n",
       "      <th>3</th>\n",
       "      <td>1</td>\n",
       "      <td>1</td>\n",
       "      <td>0</td>\n",
       "      <td>0</td>\n",
       "    </tr>\n",
       "    <tr>\n",
       "      <th>5</th>\n",
       "      <td>0</td>\n",
       "      <td>1</td>\n",
       "      <td>1</td>\n",
       "      <td>1</td>\n",
       "    </tr>\n",
       "    <tr>\n",
       "      <th>6</th>\n",
       "      <td>0</td>\n",
       "      <td>0</td>\n",
       "      <td>1</td>\n",
       "      <td>1</td>\n",
       "    </tr>\n",
       "    <tr>\n",
       "      <th>7</th>\n",
       "      <td>1</td>\n",
       "      <td>0</td>\n",
       "      <td>1</td>\n",
       "      <td>1</td>\n",
       "    </tr>\n",
       "    <tr>\n",
       "      <th>8</th>\n",
       "      <td>0</td>\n",
       "      <td>0</td>\n",
       "      <td>1</td>\n",
       "      <td>1</td>\n",
       "    </tr>\n",
       "    <tr>\n",
       "      <th>10</th>\n",
       "      <td>1</td>\n",
       "      <td>0</td>\n",
       "      <td>1</td>\n",
       "      <td>1</td>\n",
       "    </tr>\n",
       "    <tr>\n",
       "      <th>11</th>\n",
       "      <td>1</td>\n",
       "      <td>1</td>\n",
       "      <td>0</td>\n",
       "      <td>0</td>\n",
       "    </tr>\n",
       "    <tr>\n",
       "      <th>12</th>\n",
       "      <td>0</td>\n",
       "      <td>0</td>\n",
       "      <td>1</td>\n",
       "      <td>1</td>\n",
       "    </tr>\n",
       "    <tr>\n",
       "      <th>13</th>\n",
       "      <td>1</td>\n",
       "      <td>0</td>\n",
       "      <td>1</td>\n",
       "      <td>1</td>\n",
       "    </tr>\n",
       "  </tbody>\n",
       "</table>\n",
       "</div>"
      ],
      "text/plain": [
       "    X1  X0  Y  YRef\n",
       "0    0   0  1     1\n",
       "1    0   1  1     1\n",
       "2    1   0  1     1\n",
       "3    1   1  0     0\n",
       "5    0   1  1     1\n",
       "6    0   0  1     1\n",
       "7    1   0  1     1\n",
       "8    0   0  1     1\n",
       "10   1   0  1     1\n",
       "11   1   1  0     0\n",
       "12   0   0  1     1\n",
       "13   1   0  1     1"
      ]
     },
     "execution_count": 105,
     "metadata": {},
     "output_type": "execute_result"
    }
   ],
   "source": [
    "NAndData['YRef']=NAndData.apply(lambda row:YEqN(row['X0'], row['X1']), axis=1).astype(int)\n",
    "NAndData"
   ]
  },
  {
   "cell_type": "code",
   "execution_count": 106,
   "metadata": {},
   "outputs": [
    {
     "name": "stdout",
     "output_type": "stream",
     "text": [
      "Module `NAndGate` works as exspected: True\n"
     ]
    }
   ],
   "source": [
    "Test=(NAndData['Y']==NAndData['YRef']).all()\n",
    "print(f'Module `NAndGate` works as exspected: {Test}')"
   ]
  },
  {
   "cell_type": "markdown",
   "metadata": {},
   "source": [
    "## Verilog Conversion"
   ]
  },
  {
   "cell_type": "code",
   "execution_count": 107,
   "metadata": {},
   "outputs": [
    {
     "name": "stdout",
     "output_type": "stream",
     "text": [
      "***Verilog modual from NAndGate.v***\n",
      "\n",
      " // File: NAndGate.v\n",
      "// Generated by MyHDL 0.10\n",
      "// Date: Mon Sep  3 14:49:01 2018\n",
      "\n",
      "\n",
      "`timescale 1ns/10ps\n",
      "\n",
      "module NAndGate (\n",
      "    X0,\n",
      "    X1,\n",
      "    Y\n",
      ");\n",
      "// NAND Gate demo module\n",
      "// \n",
      "// Input:\n",
      "//     X0(bool): NAnd gate input 0\n",
      "//     X1(bool): NAnd gate input 1\n",
      "// \n",
      "// Output:\n",
      "//     Y(bool): NAnd gate ouput \n",
      "\n",
      "input X0;\n",
      "input X1;\n",
      "output Y;\n",
      "wire Y;\n",
      "\n",
      "\n",
      "\n",
      "\n",
      "\n",
      "assign Y = (!(X0 && X1));\n",
      "\n",
      "endmodule\n",
      "\n"
     ]
    }
   ],
   "source": [
    "DUT.convert()\n",
    "VerilogTextReader('NAndGate');"
   ]
  },
  {
   "cell_type": "markdown",
   "metadata": {},
   "source": [
    "## myHDL to Verilog Testbench"
   ]
  },
  {
   "cell_type": "code",
   "execution_count": 108,
   "metadata": {},
   "outputs": [
    {
     "data": {
      "text/plain": [
       "(intbv(5892), '1011100000100', intbv(3661), '111001001101')"
      ]
     },
     "execution_count": 108,
     "metadata": {},
     "output_type": "execute_result"
    }
   ],
   "source": [
    "#create BitVectora for NAndGate_TBV\n",
    "X0TVs=intbv(int(''.join(X0TVs.astype(str)), 2))[TestLen:]\n",
    "X1TVs=intbv(int(''.join(X1TVs.astype(str)), 2))[TestLen:]\n",
    "X0TVs, bin(X0TVs), X1TVs, bin(X1TVs)"
   ]
  },
  {
   "cell_type": "code",
   "execution_count": 109,
   "metadata": {},
   "outputs": [
    {
     "name": "stdout",
     "output_type": "stream",
     "text": [
      "<class 'myhdl._Signal._Signal'> <class '_ast.Name'>\n",
      "<class 'myhdl._Signal._Signal'> <class '_ast.Name'>\n",
      "<class 'myhdl._Signal._Signal'> <class '_ast.Name'>\n",
      "***Verilog modual from NAndGate_TBV.v***\n",
      "\n",
      " // File: NAndGate_TBV.v\n",
      "// Generated by MyHDL 0.10\n",
      "// Date: Mon Sep  3 14:49:07 2018\n",
      "\n",
      "\n",
      "`timescale 1ns/10ps\n",
      "\n",
      "module NAndGate_TBV (\n",
      "\n",
      ");\n",
      "// myHDL -> Verilog testbench for module `NAndGate`\n",
      "\n",
      "\n",
      "wire Y;\n",
      "reg X0 = 0;\n",
      "reg X1 = 0;\n",
      "wire [13:0] X0TV;\n",
      "wire [13:0] X1TV;\n",
      "\n",
      "assign X0TV = 14'd5892;\n",
      "assign X1TV = 14'd3661;\n",
      "\n",
      "\n",
      "always @(X1, Y, X0) begin: NANDGATE_TBV_PRINT_DATA\n",
      "    $write(\"%h\", X0);\n",
      "    $write(\" \");\n",
      "    $write(\"%h\", X1);\n",
      "    $write(\" \");\n",
      "    $write(\"%h\", Y);\n",
      "    $write(\"\\n\");\n",
      "end\n",
      "\n",
      "\n",
      "\n",
      "assign Y = (!(X0 && X1));\n",
      "\n",
      "\n",
      "initial begin: NANDGATE_TBV_STIMULES\n",
      "    integer i;\n",
      "    for (i=0; i<14; i=i+1) begin\n",
      "        X0 <= X0TV[i];\n",
      "        X1 <= X1TV[i];\n",
      "        # 1;\n",
      "    end\n",
      "    $finish;\n",
      "end\n",
      "\n",
      "endmodule\n",
      "\n"
     ]
    },
    {
     "name": "stderr",
     "output_type": "stream",
     "text": [
      "/home/iridium/anaconda3/lib/python3.6/site-packages/myhdl/conversion/_toVerilog.py:349: ToVerilogWarning: Signal is not driven: X0TV\n",
      "  category=ToVerilogWarning\n",
      "/home/iridium/anaconda3/lib/python3.6/site-packages/myhdl/conversion/_toVerilog.py:349: ToVerilogWarning: Signal is not driven: X1TV\n",
      "  category=ToVerilogWarning\n"
     ]
    }
   ],
   "source": [
    "@block\n",
    "def NAndGate_TBV():\n",
    "    \"\"\"\n",
    "    myHDL -> Verilog testbench for module `NAndGate`\n",
    "    \"\"\"\n",
    "    X0=Signal(bool(0))\n",
    "    X1=Signal(bool(0))\n",
    "    Y=Signal(bool(0))\n",
    "    \n",
    "    @always_comb\n",
    "    def print_data():\n",
    "        print(X0, X1, Y)\n",
    "    \n",
    "    #Test Signal Bit Vectors\n",
    "    X0TV=Signal(X0TVs)\n",
    "    X1TV=Signal(X1TVs)\n",
    "\n",
    "    DUT=NAndGate(X0, X1, Y)\n",
    "\n",
    "    @instance\n",
    "    def stimules():\n",
    "        for i in range(TestLen):\n",
    "            X0.next=int(X0TV[i])\n",
    "            X1.next=int(X1TV[i])\n",
    "            yield delay(1)\n",
    "        \n",
    "        raise StopSimulation()\n",
    "    return instances()\n",
    "\n",
    "TB=NAndGate_TBV()\n",
    "TB.convert(hdl=\"Verilog\", initial_values=True)\n",
    "VerilogTextReader('NAndGate_TBV');         "
   ]
  },
  {
   "cell_type": "markdown",
   "metadata": {},
   "source": [
    "\\begin{figure}\n",
    "\\centerline{\\includegraphics[width=10cm]{NAndGate_RTL.png}}\n",
    "\\caption{\\label{fig:NAGRTL} NAndGate RTL schematic; Xilinx Vivado 2017.4}\n",
    "\\end{figure}"
   ]
  },
  {
   "cell_type": "markdown",
   "metadata": {},
   "source": [
    "\\begin{figure}\n",
    "\\centerline{\\includegraphics[width=10cm]{NAndGate_SYN.png}}\n",
    "\\caption{\\label{fig:NAGSYN} NAndGate Synthesized Schematic; Xilinx Vivado 2017.4}\n",
    "\\end{figure}"
   ]
  },
  {
   "cell_type": "markdown",
   "metadata": {},
   "source": [
    "\\begin{figure}\n",
    "\\centerline{\\includegraphics[width=10cm]{NAndGate_IMP.png}}\n",
    "\\caption{\\label{fig:NAGIMP} NAndGate Implementated Schematic; Xilinx Vivado 2017.4}\n",
    "\\end{figure}"
   ]
  },
  {
   "cell_type": "markdown",
   "metadata": {},
   "source": [
    "## PYNQ-Z1 Deyployment"
   ]
  },
  {
   "cell_type": "markdown",
   "metadata": {},
   "source": [
    "### Board Circuit"
   ]
  },
  {
   "cell_type": "code",
   "execution_count": 110,
   "metadata": {},
   "outputs": [
    {
     "data": {
      "image/png": "[encoded data removed]",
      "text/plain": [
       "<matplotlib.figure.Figure at 0x7f22878acdd8>"
      ]
     },
     "metadata": {},
     "output_type": "display_data"
    }
   ],
   "source": [
    "d=schem.Drawing(unit=.5)\n",
    "#add elements\n",
    "G=d.add(l.NAND2,d='right', label='$NAND_2$')\n",
    "\n",
    "#Gate to led to gnd\n",
    "\n",
    "d.add(e.LINE, d='right', xy=G.out)\n",
    "d.add(e.DOT, label='$Y$')\n",
    "d.add(e.LINE, d='down', l=d.unit*2)\n",
    "LD0=d.add(e.LED, d='down', label='LD0')\n",
    "d.add(e.LINE, d='down', l=d.unit*2)\n",
    "d.add(e.GND)\n",
    "\n",
    "d.add(e.LINE, d='left', xy=G.in1, l=d.unit)\n",
    "d.add(e.DOT, label='$X_0$')\n",
    "d.add(e.LINE,d='left', l=d.unit)\n",
    "d.add(e.LINE,d='up', l=d.unit*2)\n",
    "d.add(e.LINE,d='left', l=d.unit*2)\n",
    "SW0=d.add(e.SWITCH_SPDT, lftlabel='SW0')\n",
    "d.add(e.GND, xy=SW0.c)\n",
    "d.add(e.VDD, xy=SW0.b)\n",
    "\n",
    "\n",
    "d.add(e.LINE, d='left', xy=G.in2, l=d.unit)\n",
    "d.add(e.DOT, botlabel='$X_1$')\n",
    "d.add(e.LINE,d='left', l=d.unit)\n",
    "d.add(e.LINE,d='down', l=d.unit*2)\n",
    "d.add(e.LINE,d='left', l=d.unit*4)\n",
    "SW1=d.add(e.SWITCH_SPDT, lftlabel='SW1')\n",
    "d.add(e.GND, xy=SW1.c)\n",
    "d.add(e.VDD, xy=SW1.b)\n",
    "d.draw()"
   ]
  },
  {
   "cell_type": "markdown",
   "metadata": {},
   "source": [
    "### Board Constraint"
   ]
  },
  {
   "cell_type": "code",
   "execution_count": 111,
   "metadata": {},
   "outputs": [
    {
     "name": "stdout",
     "output_type": "stream",
     "text": [
      "***Constraint file from PYNQ_Z1Constraints_NAndGate.xdc***\n",
      "\n",
      " ## PYNQ-Z1 Board Constraints for NAndGate.v\n",
      "## Based on https://github.com/Digilent/digilent-xdc/blob/master/Arty-Master.xdc\n",
      "\n",
      "\n",
      "## Switchs 0,1\n",
      "set_property -dict {PACKAGE_PIN M20 IOSTANDARD LVCMOS33} [get_ports {X0}]\n",
      "set_property -dict {PACKAGE_PIN M19 IOSTANDARD LVCMOS33} [get_ports {X1}]\n",
      "\n",
      "\n",
      "##LED 0\n",
      "set_property -dict {PACKAGE_PIN R14 IOSTANDARD LVCMOS33} [get_ports {Y}]\n",
      "\n"
     ]
    }
   ],
   "source": [
    "ConstraintXDCTextReader('PYNQ_Z1Constraints_NAndGate');"
   ]
  },
  {
   "cell_type": "markdown",
   "metadata": {},
   "source": [
    "### Video of Deployment\n",
    "NAND Gate myHDL PYNQ-Z1 ([YouTube](https://www.youtube.com/watch?v=Z1rnWfNapas))"
   ]
  },
  {
   "cell_type": "markdown",
   "metadata": {},
   "source": [
    "# NOR\n",
    "\\begin{definition}\\label{def:NorGate}\n",
    "A NOR Gate is the negated, or the De Morgan equivalent, of an OR Gate. Such that is output will be True if and only if all its inputs are False. Its boolean expression is\n",
    "$$Y=\\overline{X_0+ X_1}$$\n",
    "\\end{definition}\n",
    "\n",
    "One peculiar aspect of the NOR Gate is that from a pure Boolean algebra position it is one of the two \"Universal Gates\". Which means that any other gate can be constructed from no more than NOR Gates. See https://en.wikipedia.org/wiki/NOR_logic#Making_other_gates_by_using_NOR_gates  for more info. And while this somewhat holds True for ASIC circuits, this not entirely true in terms of FPGAs \n",
    "\n"
   ]
  },
  {
   "cell_type": "code",
   "execution_count": 112,
   "metadata": {},
   "outputs": [
    {
     "data": {
      "image/png": "[encoded data removed]",
      "text/plain": [
       "<matplotlib.figure.Figure at 0x7f22877a0b70>"
      ]
     },
     "metadata": {},
     "output_type": "display_data"
    }
   ],
   "source": [
    "d = schem.Drawing(unit=.5)\n",
    "G = d.add(l.NOR2, label='$NOR_2$')\n",
    "d.add(e.DOT_OPEN, xy=G.out, rgtlabel='$Y$')\n",
    "d.add(e.DOT_OPEN, xy=G.in1, lftlabel='$X_1$')\n",
    "d.add(e.DOT_OPEN, xy=G.in2, lftlabel='$X_0$')\n",
    "d.draw()"
   ]
  },
  {
   "cell_type": "markdown",
   "metadata": {},
   "source": [
    "## Sympy Expression"
   ]
  },
  {
   "cell_type": "code",
   "execution_count": 113,
   "metadata": {},
   "outputs": [
    {
     "data": {
      "image/png": "[encoded data removed]",
      "text/latex": [
       "$$Y = \\neg (X_{0} \\vee X_{1})$$"
      ],
      "text/plain": [
       "Y = ¬(X₀ ∨ X₁)"
      ]
     },
     "execution_count": 113,
     "metadata": {},
     "output_type": "execute_result"
    }
   ],
   "source": [
    "X0, X1, Y=symbols('X_0, X_1, Y')\n",
    "YEq=Eq(Y, Nor(X0,X1)); YEq"
   ]
  },
  {
   "cell_type": "code",
   "execution_count": 114,
   "metadata": {},
   "outputs": [
    {
     "data": {
      "text/html": [
       "<div>\n",
       "<style scoped>\n",
       "    .dataframe tbody tr th:only-of-type {\n",
       "        vertical-align: middle;\n",
       "    }\n",
       "\n",
       "    .dataframe tbody tr th {\n",
       "        vertical-align: top;\n",
       "    }\n",
       "\n",
       "    .dataframe thead th {\n",
       "        text-align: right;\n",
       "    }\n",
       "</style>\n",
       "<table border=\"1\" class=\"dataframe\">\n",
       "  <thead>\n",
       "    <tr style=\"text-align: right;\">\n",
       "      <th></th>\n",
       "      <th>X_0</th>\n",
       "      <th>X_1</th>\n",
       "      <th>Y</th>\n",
       "    </tr>\n",
       "  </thead>\n",
       "  <tbody>\n",
       "    <tr>\n",
       "      <th>0</th>\n",
       "      <td>0</td>\n",
       "      <td>0</td>\n",
       "      <td>1</td>\n",
       "    </tr>\n",
       "    <tr>\n",
       "      <th>1</th>\n",
       "      <td>0</td>\n",
       "      <td>1</td>\n",
       "      <td>0</td>\n",
       "    </tr>\n",
       "    <tr>\n",
       "      <th>2</th>\n",
       "      <td>1</td>\n",
       "      <td>0</td>\n",
       "      <td>0</td>\n",
       "    </tr>\n",
       "    <tr>\n",
       "      <th>3</th>\n",
       "      <td>1</td>\n",
       "      <td>1</td>\n",
       "      <td>0</td>\n",
       "    </tr>\n",
       "  </tbody>\n",
       "</table>\n",
       "</div>"
      ],
      "text/plain": [
       "   X_0  X_1  Y\n",
       "0    0    0  1\n",
       "1    0    1  0\n",
       "2    1    0  0\n",
       "3    1    1  0"
      ]
     },
     "execution_count": 114,
     "metadata": {},
     "output_type": "execute_result"
    }
   ],
   "source": [
    "TruthTabelGenrator(YEq)"
   ]
  },
  {
   "cell_type": "code",
   "execution_count": 115,
   "metadata": {},
   "outputs": [
    {
     "data": {
      "text/plain": [
       "(array([[0, 0],\n",
       "        [0, 1],\n",
       "        [1, 0],\n",
       "        [1, 1]]), array([1, 0, 0, 0]))"
      ]
     },
     "execution_count": 115,
     "metadata": {},
     "output_type": "execute_result"
    }
   ],
   "source": [
    "YEqN=lambdify([X0, X1], YEq.rhs, dummify=False)\n",
    "SystmaticVals=np.array(list(itertools.product([0,1], repeat=2)))\n",
    "SystmaticVals, YEqN(SystmaticVals[:, 1], SystmaticVals[:, 0]).astype(int)"
   ]
  },
  {
   "cell_type": "markdown",
   "metadata": {},
   "source": [
    "## myHDL Module"
   ]
  },
  {
   "cell_type": "code",
   "execution_count": 116,
   "metadata": {},
   "outputs": [],
   "source": [
    "@block\n",
    "def NOrGate(X0, X1, Y):\n",
    "    \"\"\"\n",
    "    NOr Gate demo module\n",
    "    \n",
    "    Input:\n",
    "        X0(bool): Or gate input 0\n",
    "        X1(bool): Or gate input 1\n",
    "    \n",
    "    Output:\n",
    "        Y(bool): Or gate ouput \n",
    "    \n",
    "    \"\"\"\n",
    "    @always_comb\n",
    "    def logic():\n",
    "        #note here that `or` is used since this\n",
    "        #is a bit wise OR \n",
    "        Y.next=not(X0 or X1)\n",
    "        \n",
    "        #if `|` had been used the conversion \n",
    "        #would yield `||` the .all() OR\n",
    "        # when dealing with bus's and  behavior mux's this\n",
    "        #distiction must be known\n",
    "        #see:\n",
    "        # https://stackoverflow.com/questions/17327680/what-is-the-difference-between-single-and-double-ampersand-binary-opera\n",
    "    \n",
    "    return instances()"
   ]
  },
  {
   "cell_type": "markdown",
   "metadata": {},
   "source": [
    "## myHDL Testing"
   ]
  },
  {
   "cell_type": "code",
   "execution_count": 117,
   "metadata": {},
   "outputs": [
    {
     "data": {
      "text/plain": [
       "([(0, 0), (0, 1), (1, 0), (1, 1)],\n",
       " array([0, 0, 1, 1, 0, 0, 0, 1, 1, 0, 1, 1, 0, 0]),\n",
       " array([0, 1, 0, 1, 0, 1, 0, 1, 1, 1, 1, 0, 1, 1]),\n",
       " 14)"
      ]
     },
     "execution_count": 117,
     "metadata": {},
     "output_type": "execute_result"
    }
   ],
   "source": [
    "#generate systmatic and random test values for NOrGate_TB\n",
    "#stimules inputs X1 and X2\n",
    "TestLen=10\n",
    "SystmaticVals=list(itertools.product([0,1], repeat=2))\n",
    "X0TVs=np.array([i[1] for i in SystmaticVals]).astype(int)\n",
    "np.random.seed(24)\n",
    "X0TVs=np.append(X0TVs, np.random.randint(0,2, TestLen)).astype(int)\n",
    "\n",
    "X1TVs=np.array([i[0] for i in SystmaticVals]).astype(int)\n",
    "np.random.seed(25)\n",
    "X1TVs=np.append(X1TVs, np.random.randint(0,2, TestLen)).astype(int)\n",
    "\n",
    "TestLen=len(X1TVs)\n",
    "SystmaticVals, X1TVs, X0TVs, TestLen"
   ]
  },
  {
   "cell_type": "code",
   "execution_count": 118,
   "metadata": {},
   "outputs": [],
   "source": [
    "Peeker.clear()\n",
    "X0=Signal(bool(0)); Peeker(X0, 'X0')\n",
    "X1=Signal(bool(0)); Peeker(X1, 'X1')\n",
    "Y=Signal(bool(0)); Peeker(Y, 'Y')\n",
    "\n",
    "DUT=NOrGate(X0, X1, Y)\n",
    "\n",
    "def NOrGate_TB():\n",
    "    \"\"\"\n",
    "    myHDL only testbench for module `NOrGate`\n",
    "    \"\"\"\n",
    "    \n",
    "    @instance\n",
    "    def stimules():\n",
    "        for i in range(TestLen):\n",
    "            X0.next=int(X0TVs[i])\n",
    "            X1.next=int(X1TVs[i])\n",
    "            yield delay(1)\n",
    "        \n",
    "        raise StopSimulation()\n",
    "        \n",
    "    return instances()\n",
    "\n",
    "sim=Simulation(DUT, NOrGate_TB(), *Peeker.instances()).run()            "
   ]
  },
  {
   "cell_type": "code",
   "execution_count": 119,
   "metadata": {},
   "outputs": [
    {
     "data": {
      "text/html": [
       "<div><script type=\"WaveDrom\">{\"signal\": [{\"name\": \"X1\", \"wave\": \"0.1.0..1.01.0\"}, {\"name\": \"X0\", \"wave\": \"01010101...01\"}, {\"name\": \"Y\", \"wave\": \"10..1010.....\"}]}</script></div>"
      ]
     },
     "metadata": {},
     "output_type": "display_data"
    },
    {
     "data": {
      "application/javascript": [
       "$.getScript(\"http://wavedrom.com/wavedrom.min.js\", function () {\n",
       "$.getScript(\"http://wavedrom.com/skins/default.js\", function () {\n",
       "WaveDrom.ProcessAll();});\n",
       "});\n"
      ]
     },
     "metadata": {},
     "output_type": "display_data"
    }
   ],
   "source": [
    "Peeker.to_wavedrom('X1', 'X0', 'Y')"
   ]
  },
  {
   "cell_type": "code",
   "execution_count": 120,
   "metadata": {},
   "outputs": [
    {
     "data": {
      "text/html": [
       "<div>\n",
       "<style scoped>\n",
       "    .dataframe tbody tr th:only-of-type {\n",
       "        vertical-align: middle;\n",
       "    }\n",
       "\n",
       "    .dataframe tbody tr th {\n",
       "        vertical-align: top;\n",
       "    }\n",
       "\n",
       "    .dataframe thead th {\n",
       "        text-align: right;\n",
       "    }\n",
       "</style>\n",
       "<table border=\"1\" class=\"dataframe\">\n",
       "  <thead>\n",
       "    <tr style=\"text-align: right;\">\n",
       "      <th></th>\n",
       "      <th>X1</th>\n",
       "      <th>X0</th>\n",
       "      <th>Y</th>\n",
       "    </tr>\n",
       "  </thead>\n",
       "  <tbody>\n",
       "    <tr>\n",
       "      <th>0</th>\n",
       "      <td>0</td>\n",
       "      <td>0</td>\n",
       "      <td>1</td>\n",
       "    </tr>\n",
       "    <tr>\n",
       "      <th>1</th>\n",
       "      <td>0</td>\n",
       "      <td>1</td>\n",
       "      <td>0</td>\n",
       "    </tr>\n",
       "    <tr>\n",
       "      <th>2</th>\n",
       "      <td>1</td>\n",
       "      <td>0</td>\n",
       "      <td>0</td>\n",
       "    </tr>\n",
       "    <tr>\n",
       "      <th>3</th>\n",
       "      <td>1</td>\n",
       "      <td>1</td>\n",
       "      <td>0</td>\n",
       "    </tr>\n",
       "    <tr>\n",
       "      <th>4</th>\n",
       "      <td>0</td>\n",
       "      <td>0</td>\n",
       "      <td>1</td>\n",
       "    </tr>\n",
       "    <tr>\n",
       "      <th>5</th>\n",
       "      <td>0</td>\n",
       "      <td>1</td>\n",
       "      <td>0</td>\n",
       "    </tr>\n",
       "    <tr>\n",
       "      <th>6</th>\n",
       "      <td>0</td>\n",
       "      <td>0</td>\n",
       "      <td>1</td>\n",
       "    </tr>\n",
       "    <tr>\n",
       "      <th>7</th>\n",
       "      <td>1</td>\n",
       "      <td>1</td>\n",
       "      <td>0</td>\n",
       "    </tr>\n",
       "    <tr>\n",
       "      <th>9</th>\n",
       "      <td>0</td>\n",
       "      <td>1</td>\n",
       "      <td>0</td>\n",
       "    </tr>\n",
       "    <tr>\n",
       "      <th>10</th>\n",
       "      <td>1</td>\n",
       "      <td>1</td>\n",
       "      <td>0</td>\n",
       "    </tr>\n",
       "    <tr>\n",
       "      <th>11</th>\n",
       "      <td>1</td>\n",
       "      <td>0</td>\n",
       "      <td>0</td>\n",
       "    </tr>\n",
       "    <tr>\n",
       "      <th>12</th>\n",
       "      <td>0</td>\n",
       "      <td>1</td>\n",
       "      <td>0</td>\n",
       "    </tr>\n",
       "  </tbody>\n",
       "</table>\n",
       "</div>"
      ],
      "text/plain": [
       "    X1  X0  Y\n",
       "0    0   0  1\n",
       "1    0   1  0\n",
       "2    1   0  0\n",
       "3    1   1  0\n",
       "4    0   0  1\n",
       "5    0   1  0\n",
       "6    0   0  1\n",
       "7    1   1  0\n",
       "9    0   1  0\n",
       "10   1   1  0\n",
       "11   1   0  0\n",
       "12   0   1  0"
      ]
     },
     "execution_count": 120,
     "metadata": {},
     "output_type": "execute_result"
    }
   ],
   "source": [
    "NOrData=Peeker.to_dataframe()\n",
    "NOrData=NOrData[['X1', 'X0', 'Y']]\n",
    "NOrData"
   ]
  },
  {
   "cell_type": "code",
   "execution_count": 121,
   "metadata": {},
   "outputs": [
    {
     "data": {
      "text/html": [
       "<div>\n",
       "<style scoped>\n",
       "    .dataframe tbody tr th:only-of-type {\n",
       "        vertical-align: middle;\n",
       "    }\n",
       "\n",
       "    .dataframe tbody tr th {\n",
       "        vertical-align: top;\n",
       "    }\n",
       "\n",
       "    .dataframe thead th {\n",
       "        text-align: right;\n",
       "    }\n",
       "</style>\n",
       "<table border=\"1\" class=\"dataframe\">\n",
       "  <thead>\n",
       "    <tr style=\"text-align: right;\">\n",
       "      <th></th>\n",
       "      <th>X1</th>\n",
       "      <th>X0</th>\n",
       "      <th>Y</th>\n",
       "      <th>YRef</th>\n",
       "    </tr>\n",
       "  </thead>\n",
       "  <tbody>\n",
       "    <tr>\n",
       "      <th>0</th>\n",
       "      <td>0</td>\n",
       "      <td>0</td>\n",
       "      <td>1</td>\n",
       "      <td>1</td>\n",
       "    </tr>\n",
       "    <tr>\n",
       "      <th>1</th>\n",
       "      <td>0</td>\n",
       "      <td>1</td>\n",
       "      <td>0</td>\n",
       "      <td>0</td>\n",
       "    </tr>\n",
       "    <tr>\n",
       "      <th>2</th>\n",
       "      <td>1</td>\n",
       "      <td>0</td>\n",
       "      <td>0</td>\n",
       "      <td>0</td>\n",
       "    </tr>\n",
       "    <tr>\n",
       "      <th>3</th>\n",
       "      <td>1</td>\n",
       "      <td>1</td>\n",
       "      <td>0</td>\n",
       "      <td>0</td>\n",
       "    </tr>\n",
       "    <tr>\n",
       "      <th>4</th>\n",
       "      <td>0</td>\n",
       "      <td>0</td>\n",
       "      <td>1</td>\n",
       "      <td>1</td>\n",
       "    </tr>\n",
       "    <tr>\n",
       "      <th>5</th>\n",
       "      <td>0</td>\n",
       "      <td>1</td>\n",
       "      <td>0</td>\n",
       "      <td>0</td>\n",
       "    </tr>\n",
       "    <tr>\n",
       "      <th>6</th>\n",
       "      <td>0</td>\n",
       "      <td>0</td>\n",
       "      <td>1</td>\n",
       "      <td>1</td>\n",
       "    </tr>\n",
       "    <tr>\n",
       "      <th>7</th>\n",
       "      <td>1</td>\n",
       "      <td>1</td>\n",
       "      <td>0</td>\n",
       "      <td>0</td>\n",
       "    </tr>\n",
       "    <tr>\n",
       "      <th>9</th>\n",
       "      <td>0</td>\n",
       "      <td>1</td>\n",
       "      <td>0</td>\n",
       "      <td>0</td>\n",
       "    </tr>\n",
       "    <tr>\n",
       "      <th>10</th>\n",
       "      <td>1</td>\n",
       "      <td>1</td>\n",
       "      <td>0</td>\n",
       "      <td>0</td>\n",
       "    </tr>\n",
       "    <tr>\n",
       "      <th>11</th>\n",
       "      <td>1</td>\n",
       "      <td>0</td>\n",
       "      <td>0</td>\n",
       "      <td>0</td>\n",
       "    </tr>\n",
       "    <tr>\n",
       "      <th>12</th>\n",
       "      <td>0</td>\n",
       "      <td>1</td>\n",
       "      <td>0</td>\n",
       "      <td>0</td>\n",
       "    </tr>\n",
       "  </tbody>\n",
       "</table>\n",
       "</div>"
      ],
      "text/plain": [
       "    X1  X0  Y  YRef\n",
       "0    0   0  1     1\n",
       "1    0   1  0     0\n",
       "2    1   0  0     0\n",
       "3    1   1  0     0\n",
       "4    0   0  1     1\n",
       "5    0   1  0     0\n",
       "6    0   0  1     1\n",
       "7    1   1  0     0\n",
       "9    0   1  0     0\n",
       "10   1   1  0     0\n",
       "11   1   0  0     0\n",
       "12   0   1  0     0"
      ]
     },
     "execution_count": 121,
     "metadata": {},
     "output_type": "execute_result"
    }
   ],
   "source": [
    "NOrData['YRef']=NOrData.apply(lambda row:YEqN(row['X0'], row['X1']), axis=1).astype(int)\n",
    "NOrData"
   ]
  },
  {
   "cell_type": "code",
   "execution_count": 122,
   "metadata": {},
   "outputs": [
    {
     "name": "stdout",
     "output_type": "stream",
     "text": [
      "Module `NOrGate` works as exspected: True\n"
     ]
    }
   ],
   "source": [
    "Test=(NOrData['Y']==NOrData['YRef']).all()\n",
    "print(f'Module `NOrGate` works as exspected: {Test}')"
   ]
  },
  {
   "cell_type": "markdown",
   "metadata": {},
   "source": [
    "## Verilog Conversion"
   ]
  },
  {
   "cell_type": "code",
   "execution_count": 123,
   "metadata": {},
   "outputs": [
    {
     "name": "stdout",
     "output_type": "stream",
     "text": [
      "***Verilog modual from NOrGate.v***\n",
      "\n",
      " // File: NOrGate.v\n",
      "// Generated by MyHDL 0.10\n",
      "// Date: Mon Sep  3 14:49:57 2018\n",
      "\n",
      "\n",
      "`timescale 1ns/10ps\n",
      "\n",
      "module NOrGate (\n",
      "    X0,\n",
      "    X1,\n",
      "    Y\n",
      ");\n",
      "// NOr Gate demo module\n",
      "// \n",
      "// Input:\n",
      "//     X0(bool): Or gate input 0\n",
      "//     X1(bool): Or gate input 1\n",
      "// \n",
      "// Output:\n",
      "//     Y(bool): Or gate ouput \n",
      "\n",
      "input X0;\n",
      "input X1;\n",
      "output Y;\n",
      "wire Y;\n",
      "\n",
      "\n",
      "\n",
      "\n",
      "\n",
      "assign Y = (!(X0 || X1));\n",
      "\n",
      "endmodule\n",
      "\n"
     ]
    }
   ],
   "source": [
    "DUT.convert()\n",
    "VerilogTextReader('NOrGate');"
   ]
  },
  {
   "cell_type": "markdown",
   "metadata": {},
   "source": [
    "\\begin{figure}\n",
    "\\centerline{\\includegraphics[width=10cm]{NOrGate_RTL.png}}\n",
    "\\caption{\\label{fig:NOGRTL} NOrGate RTL schematic; Xilinx Vivado 2017.4}\n",
    "\\end{figure}"
   ]
  },
  {
   "cell_type": "markdown",
   "metadata": {},
   "source": [
    "\\begin{figure}\n",
    "\\centerline{\\includegraphics[width=10cm]{NOrGate_SYN.png}}\n",
    "\\caption{\\label{fig:NOGSYN} NOrGate Synthesized Schematic; Xilinx Vivado 2017.4}\n",
    "\\end{figure}"
   ]
  },
  {
   "cell_type": "markdown",
   "metadata": {},
   "source": [
    "\\begin{figure}\n",
    "\\centerline{\\includegraphics[width=10cm]{NOrGate_IMP.png}}\n",
    "\\caption{\\label{fig:NOGIMP} NOrGate Implementated Schematic; Xilinx Vivado 2017.4}\n",
    "\\end{figure}"
   ]
  },
  {
   "cell_type": "markdown",
   "metadata": {},
   "source": [
    "## myHDL to Verilog Testbench"
   ]
  },
  {
   "cell_type": "code",
   "execution_count": 124,
   "metadata": {},
   "outputs": [
    {
     "data": {
      "text/plain": [
       "(intbv(5499), '1010101111011', intbv(3180), '110001101100')"
      ]
     },
     "execution_count": 124,
     "metadata": {},
     "output_type": "execute_result"
    }
   ],
   "source": [
    "#create BitVectora for NOrGate_TBV\n",
    "X0TVs=intbv(int(''.join(X0TVs.astype(str)), 2))[TestLen:]\n",
    "X1TVs=intbv(int(''.join(X1TVs.astype(str)), 2))[TestLen:]\n",
    "X0TVs, bin(X0TVs), X1TVs, bin(X1TVs)"
   ]
  },
  {
   "cell_type": "code",
   "execution_count": 125,
   "metadata": {},
   "outputs": [
    {
     "name": "stdout",
     "output_type": "stream",
     "text": [
      "<class 'myhdl._Signal._Signal'> <class '_ast.Name'>\n",
      "<class 'myhdl._Signal._Signal'> <class '_ast.Name'>\n",
      "<class 'myhdl._Signal._Signal'> <class '_ast.Name'>\n",
      "***Verilog modual from NOrGate_TBV.v***\n",
      "\n",
      " // File: NOrGate_TBV.v\n",
      "// Generated by MyHDL 0.10\n",
      "// Date: Mon Sep  3 14:50:11 2018\n",
      "\n",
      "\n",
      "`timescale 1ns/10ps\n",
      "\n",
      "module NOrGate_TBV (\n",
      "\n",
      ");\n",
      "// myHDL -> Verilog testbench for module `NOrGate`\n",
      "\n",
      "\n",
      "wire Y;\n",
      "reg X0 = 0;\n",
      "reg X1 = 0;\n",
      "wire [13:0] X0TV;\n",
      "wire [13:0] X1TV;\n",
      "\n",
      "assign X0TV = 14'd5499;\n",
      "assign X1TV = 14'd3180;\n",
      "\n",
      "\n",
      "always @(X1, Y, X0) begin: NORGATE_TBV_PRINT_DATA\n",
      "    $write(\"%h\", X0);\n",
      "    $write(\" \");\n",
      "    $write(\"%h\", X1);\n",
      "    $write(\" \");\n",
      "    $write(\"%h\", Y);\n",
      "    $write(\"\\n\");\n",
      "end\n",
      "\n",
      "\n",
      "\n",
      "assign Y = (!(X0 || X1));\n",
      "\n",
      "\n",
      "initial begin: NORGATE_TBV_STIMULES\n",
      "    integer i;\n",
      "    for (i=0; i<14; i=i+1) begin\n",
      "        X0 <= X0TV[i];\n",
      "        X1 <= X1TV[i];\n",
      "        # 1;\n",
      "    end\n",
      "    $finish;\n",
      "end\n",
      "\n",
      "endmodule\n",
      "\n"
     ]
    },
    {
     "name": "stderr",
     "output_type": "stream",
     "text": [
      "/home/iridium/anaconda3/lib/python3.6/site-packages/myhdl/conversion/_toVerilog.py:349: ToVerilogWarning: Signal is not driven: X0TV\n",
      "  category=ToVerilogWarning\n",
      "/home/iridium/anaconda3/lib/python3.6/site-packages/myhdl/conversion/_toVerilog.py:349: ToVerilogWarning: Signal is not driven: X1TV\n",
      "  category=ToVerilogWarning\n"
     ]
    }
   ],
   "source": [
    "@block\n",
    "def NOrGate_TBV():\n",
    "    \"\"\"\n",
    "    myHDL -> Verilog testbench for module `NOrGate`\n",
    "    \"\"\"\n",
    "    X0=Signal(bool(0))\n",
    "    X1=Signal(bool(0))\n",
    "    Y=Signal(bool(0))\n",
    "    \n",
    "    @always_comb\n",
    "    def print_data():\n",
    "        print(X0, X1, Y)\n",
    "    \n",
    "    #Test Signal Bit Vectors\n",
    "    X0TV=Signal(X0TVs)\n",
    "    X1TV=Signal(X1TVs)\n",
    "\n",
    "    DUT=NOrGate(X0, X1, Y)\n",
    "\n",
    "    @instance\n",
    "    def stimules():\n",
    "        for i in range(TestLen):\n",
    "            X0.next=int(X0TV[i])\n",
    "            X1.next=int(X1TV[i])\n",
    "            yield delay(1)\n",
    "        \n",
    "        raise StopSimulation()\n",
    "    return instances()\n",
    "\n",
    "TB=NOrGate_TBV()\n",
    "TB.convert(hdl=\"Verilog\", initial_values=True)\n",
    "VerilogTextReader('NOrGate_TBV');         "
   ]
  },
  {
   "cell_type": "markdown",
   "metadata": {},
   "source": [
    "## PYNQ-Z1 Deployment"
   ]
  },
  {
   "cell_type": "markdown",
   "metadata": {},
   "source": [
    "### Board Circuit"
   ]
  },
  {
   "cell_type": "code",
   "execution_count": 126,
   "metadata": {},
   "outputs": [
    {
     "data": {
      "image/png": "[encoded data removed]",
      "text/plain": [
       "<matplotlib.figure.Figure at 0x7f228785a7b8>"
      ]
     },
     "metadata": {},
     "output_type": "display_data"
    }
   ],
   "source": [
    "d=schem.Drawing(unit=.5)\n",
    "#add elements\n",
    "G=d.add(l.NOR2,d='right', label='$NOR_2$')\n",
    "\n",
    "#Gate to led to gnd\n",
    "\n",
    "d.add(e.LINE, d='right', xy=G.out)\n",
    "d.add(e.DOT, label='$Y$')\n",
    "d.add(e.LINE, d='down', l=d.unit*2)\n",
    "LD0=d.add(e.LED, d='down', label='LD0')\n",
    "d.add(e.LINE, d='down', l=d.unit*2)\n",
    "d.add(e.GND)\n",
    "\n",
    "d.add(e.LINE, d='left', xy=G.in1, l=d.unit)\n",
    "d.add(e.DOT, label='$X_0$')\n",
    "d.add(e.LINE,d='left', l=d.unit)\n",
    "d.add(e.LINE,d='up', l=d.unit*2)\n",
    "d.add(e.LINE,d='left', l=d.unit*2)\n",
    "SW0=d.add(e.SWITCH_SPDT, lftlabel='SW0')\n",
    "d.add(e.GND, xy=SW0.c)\n",
    "d.add(e.VDD, xy=SW0.b)\n",
    "\n",
    "\n",
    "d.add(e.LINE, d='left', xy=G.in2, l=d.unit)\n",
    "d.add(e.DOT, botlabel='$X_1$')\n",
    "d.add(e.LINE,d='left', l=d.unit)\n",
    "d.add(e.LINE,d='down', l=d.unit*2)\n",
    "d.add(e.LINE,d='left', l=d.unit*4)\n",
    "SW1=d.add(e.SWITCH_SPDT, lftlabel='SW1')\n",
    "d.add(e.GND, xy=SW1.c)\n",
    "d.add(e.VDD, xy=SW1.b)\n",
    "d.draw()"
   ]
  },
  {
   "cell_type": "markdown",
   "metadata": {},
   "source": [
    "### Board Constraint"
   ]
  },
  {
   "cell_type": "code",
   "execution_count": 127,
   "metadata": {},
   "outputs": [
    {
     "name": "stdout",
     "output_type": "stream",
     "text": [
      "***Constraint file from PYNQ_Z1Constraints_NOrGate.xdc***\n",
      "\n",
      " ## PYNQ-Z1 Board Constraints for NorGate.v\n",
      "## Based on https://github.com/Digilent/digilent-xdc/blob/master/Arty-Master.xdc\n",
      "\n",
      "\n",
      "## Switchs 0,1\n",
      "set_property -dict {PACKAGE_PIN M20 IOSTANDARD LVCMOS33} [get_ports {X0}]\n",
      "set_property -dict {PACKAGE_PIN M19 IOSTANDARD LVCMOS33} [get_ports {X1}]\n",
      "\n",
      "\n",
      "##LED 0\n",
      "set_property -dict {PACKAGE_PIN R14 IOSTANDARD LVCMOS33} [get_ports {Y}]\n",
      "\n"
     ]
    }
   ],
   "source": [
    "ConstraintXDCTextReader('PYNQ_Z1Constraints_NOrGate');"
   ]
  },
  {
   "cell_type": "markdown",
   "metadata": {},
   "source": [
    "### Video of Deployment\n",
    "AND Gate myHDL PYNQ-Z1 ([YouTube](https://www.youtube.com/watch?v=xtFvUx9fSAI))"
   ]
  },
  {
   "cell_type": "markdown",
   "metadata": {},
   "source": [
    "# XNOR\n",
    "\\begin{definition}\\label{def:XNorGate}\n",
    "An XNOR Gate is the negated, or the De Morgan equivalent, of an XOR Gate. Such that is output will be True if and only if all its inputs are the same. Its boolean expression is typically\n",
    "$$Y=X_0 \\odot X_1$$ using its typical notation, wich is a refinment of the $\\cdot$ notation used for an AND Gate. But can also be expressed as \n",
    "$$Y=X_0 X_1+ \\overline{X_0}\\overline{X_1}$$\n",
    "\\end{definition}"
   ]
  },
  {
   "cell_type": "code",
   "execution_count": 128,
   "metadata": {},
   "outputs": [
    {
     "data": {
      "image/png": "[encoded data removed]",
      "text/plain": [
       "<matplotlib.figure.Figure at 0x7f22877ab978>"
      ]
     },
     "metadata": {},
     "output_type": "display_data"
    }
   ],
   "source": [
    "d = schem.Drawing(unit=.5)\n",
    "G = d.add(l.XNOR2, label='$XNOR_2$')\n",
    "d.add(e.DOT_OPEN, xy=G.out, rgtlabel='$Y$')\n",
    "d.add(e.DOT_OPEN, xy=G.in1, lftlabel='$X_1$')\n",
    "d.add(e.DOT_OPEN, xy=G.in2, lftlabel='$X_0$')\n",
    "d.draw()"
   ]
  },
  {
   "cell_type": "markdown",
   "metadata": {},
   "source": [
    "## Sympy Expression"
   ]
  },
  {
   "cell_type": "code",
   "execution_count": 129,
   "metadata": {},
   "outputs": [
    {
     "data": {
      "image/png": "[encoded data removed]",
      "text/latex": [
       "$$Y = \\left(X_{0} \\wedge X_{1}\\right) \\vee \\left(\\neg X_{0} \\wedge \\neg X_{1}\\right)$$"
      ],
      "text/plain": [
       "Y = (X₀ ∧ X₁) ∨ (¬X₀ ∧ ¬X₁)"
      ]
     },
     "execution_count": 129,
     "metadata": {},
     "output_type": "execute_result"
    }
   ],
   "source": [
    "X0, X1, Y=symbols('X_0, X_1, Y')\n",
    "#expanded exspresion of XNOR\n",
    "YEq=Eq(Y, X0&X1|~X0&~X1); YEq"
   ]
  },
  {
   "cell_type": "code",
   "execution_count": 130,
   "metadata": {},
   "outputs": [
    {
     "data": {
      "text/html": [
       "<div>\n",
       "<style scoped>\n",
       "    .dataframe tbody tr th:only-of-type {\n",
       "        vertical-align: middle;\n",
       "    }\n",
       "\n",
       "    .dataframe tbody tr th {\n",
       "        vertical-align: top;\n",
       "    }\n",
       "\n",
       "    .dataframe thead th {\n",
       "        text-align: right;\n",
       "    }\n",
       "</style>\n",
       "<table border=\"1\" class=\"dataframe\">\n",
       "  <thead>\n",
       "    <tr style=\"text-align: right;\">\n",
       "      <th></th>\n",
       "      <th>X_0</th>\n",
       "      <th>X_1</th>\n",
       "      <th>Y</th>\n",
       "    </tr>\n",
       "  </thead>\n",
       "  <tbody>\n",
       "    <tr>\n",
       "      <th>0</th>\n",
       "      <td>0</td>\n",
       "      <td>0</td>\n",
       "      <td>1</td>\n",
       "    </tr>\n",
       "    <tr>\n",
       "      <th>1</th>\n",
       "      <td>0</td>\n",
       "      <td>1</td>\n",
       "      <td>0</td>\n",
       "    </tr>\n",
       "    <tr>\n",
       "      <th>2</th>\n",
       "      <td>1</td>\n",
       "      <td>0</td>\n",
       "      <td>0</td>\n",
       "    </tr>\n",
       "    <tr>\n",
       "      <th>3</th>\n",
       "      <td>1</td>\n",
       "      <td>1</td>\n",
       "      <td>1</td>\n",
       "    </tr>\n",
       "  </tbody>\n",
       "</table>\n",
       "</div>"
      ],
      "text/plain": [
       "   X_0  X_1  Y\n",
       "0    0    0  1\n",
       "1    0    1  0\n",
       "2    1    0  0\n",
       "3    1    1  1"
      ]
     },
     "execution_count": 130,
     "metadata": {},
     "output_type": "execute_result"
    }
   ],
   "source": [
    "TruthTabelGenrator(YEq)"
   ]
  },
  {
   "cell_type": "code",
   "execution_count": 131,
   "metadata": {},
   "outputs": [
    {
     "data": {
      "text/plain": [
       "(array([[0, 0],\n",
       "        [0, 1],\n",
       "        [1, 0],\n",
       "        [1, 1]]), array([1, 0, 0, 1]))"
      ]
     },
     "execution_count": 131,
     "metadata": {},
     "output_type": "execute_result"
    }
   ],
   "source": [
    "YEqN=lambdify([X0, X1], YEq.rhs, dummify=False)\n",
    "SystmaticVals=np.array(list(itertools.product([0,1], repeat=2)))\n",
    "SystmaticVals, YEqN(SystmaticVals[:, 1], SystmaticVals[:, 0]).astype(int)"
   ]
  },
  {
   "cell_type": "markdown",
   "metadata": {},
   "source": [
    "## myHDL Module"
   ]
  },
  {
   "cell_type": "code",
   "execution_count": 132,
   "metadata": {},
   "outputs": [],
   "source": [
    "@block\n",
    "def XNOrGate(X0, X1, Y):\n",
    "    \"\"\"\n",
    "    XNOR Gate demo module\n",
    "    \n",
    "    Input:\n",
    "        X0(bool): XOR gate input 0\n",
    "        X1(bool): XOR gate input 1\n",
    "    \n",
    "    Output:\n",
    "        Y(bool): XOR gate ouput \n",
    "    \n",
    "    \"\"\"\n",
    "    @always_comb\n",
    "    def logic():\n",
    "        Y.next=not(X0 ^ X1)\n",
    "        \n",
    "    return instances()"
   ]
  },
  {
   "cell_type": "markdown",
   "metadata": {},
   "source": [
    "## myHDL Testing"
   ]
  },
  {
   "cell_type": "code",
   "execution_count": 133,
   "metadata": {},
   "outputs": [
    {
     "data": {
      "text/plain": [
       "([(0, 0), (0, 1), (1, 0), (1, 1)],\n",
       " array([0, 0, 1, 1, 1, 0, 0, 1, 0, 0, 1, 0, 1, 1]),\n",
       " array([0, 1, 0, 1, 1, 0, 0, 0, 1, 0, 1, 1, 0, 0]),\n",
       " 14)"
      ]
     },
     "execution_count": 133,
     "metadata": {},
     "output_type": "execute_result"
    }
   ],
   "source": [
    "#generate systmatic and random test values for XNOrGate_TB\n",
    "#stimules inputs X1 and X2\n",
    "TestLen=10\n",
    "SystmaticVals=list(itertools.product([0,1], repeat=2))\n",
    "X0TVs=np.array([i[1] for i in SystmaticVals]).astype(int)\n",
    "np.random.seed(26)\n",
    "X0TVs=np.append(X0TVs, np.random.randint(0,2, TestLen)).astype(int)\n",
    "\n",
    "X1TVs=np.array([i[0] for i in SystmaticVals]).astype(int)\n",
    "np.random.seed(27)\n",
    "X1TVs=np.append(X1TVs, np.random.randint(0,2, TestLen)).astype(int)\n",
    "\n",
    "TestLen=len(X1TVs)\n",
    "SystmaticVals, X1TVs, X0TVs, TestLen"
   ]
  },
  {
   "cell_type": "code",
   "execution_count": 134,
   "metadata": {},
   "outputs": [],
   "source": [
    "Peeker.clear()\n",
    "X0=Signal(bool(0)); Peeker(X0, 'X0')\n",
    "X1=Signal(bool(0)); Peeker(X1, 'X1')\n",
    "Y=Signal(bool(0)); Peeker(Y, 'Y')\n",
    "\n",
    "DUT=XNOrGate(X0, X1, Y)\n",
    "\n",
    "def XNOrGate_TB():\n",
    "    \"\"\"\n",
    "    myHDL only testbench for module `NOrGate`\n",
    "    \"\"\"\n",
    "    \n",
    "    @instance\n",
    "    def stimules():\n",
    "        for i in range(TestLen):\n",
    "            X0.next=int(X0TVs[i])\n",
    "            X1.next=int(X1TVs[i])\n",
    "            yield delay(1)\n",
    "        \n",
    "        raise StopSimulation()\n",
    "        \n",
    "    return instances()\n",
    "\n",
    "sim=Simulation(DUT, XNOrGate_TB(), *Peeker.instances()).run()            "
   ]
  },
  {
   "cell_type": "code",
   "execution_count": 135,
   "metadata": {},
   "outputs": [
    {
     "data": {
      "text/html": [
       "<div><script type=\"WaveDrom\">{\"signal\": [{\"name\": \"X1\", \"wave\": \"0.1..0.10.101\"}, {\"name\": \"X0\", \"wave\": \"0101.0..101.0\"}, {\"name\": \"Y\", \"wave\": \"10.1...0.1.0.\"}]}</script></div>"
      ]
     },
     "metadata": {},
     "output_type": "display_data"
    },
    {
     "data": {
      "application/javascript": [
       "$.getScript(\"http://wavedrom.com/wavedrom.min.js\", function () {\n",
       "$.getScript(\"http://wavedrom.com/skins/default.js\", function () {\n",
       "WaveDrom.ProcessAll();});\n",
       "});\n"
      ]
     },
     "metadata": {},
     "output_type": "display_data"
    }
   ],
   "source": [
    "Peeker.to_wavedrom('X1', 'X0', 'Y')"
   ]
  },
  {
   "cell_type": "code",
   "execution_count": 136,
   "metadata": {},
   "outputs": [
    {
     "data": {
      "text/html": [
       "<div>\n",
       "<style scoped>\n",
       "    .dataframe tbody tr th:only-of-type {\n",
       "        vertical-align: middle;\n",
       "    }\n",
       "\n",
       "    .dataframe tbody tr th {\n",
       "        vertical-align: top;\n",
       "    }\n",
       "\n",
       "    .dataframe thead th {\n",
       "        text-align: right;\n",
       "    }\n",
       "</style>\n",
       "<table border=\"1\" class=\"dataframe\">\n",
       "  <thead>\n",
       "    <tr style=\"text-align: right;\">\n",
       "      <th></th>\n",
       "      <th>X1</th>\n",
       "      <th>X0</th>\n",
       "      <th>Y</th>\n",
       "    </tr>\n",
       "  </thead>\n",
       "  <tbody>\n",
       "    <tr>\n",
       "      <th>0</th>\n",
       "      <td>0</td>\n",
       "      <td>0</td>\n",
       "      <td>1</td>\n",
       "    </tr>\n",
       "    <tr>\n",
       "      <th>1</th>\n",
       "      <td>0</td>\n",
       "      <td>1</td>\n",
       "      <td>0</td>\n",
       "    </tr>\n",
       "    <tr>\n",
       "      <th>2</th>\n",
       "      <td>1</td>\n",
       "      <td>0</td>\n",
       "      <td>0</td>\n",
       "    </tr>\n",
       "    <tr>\n",
       "      <th>3</th>\n",
       "      <td>1</td>\n",
       "      <td>1</td>\n",
       "      <td>1</td>\n",
       "    </tr>\n",
       "    <tr>\n",
       "      <th>5</th>\n",
       "      <td>0</td>\n",
       "      <td>0</td>\n",
       "      <td>1</td>\n",
       "    </tr>\n",
       "    <tr>\n",
       "      <th>7</th>\n",
       "      <td>1</td>\n",
       "      <td>0</td>\n",
       "      <td>0</td>\n",
       "    </tr>\n",
       "    <tr>\n",
       "      <th>8</th>\n",
       "      <td>0</td>\n",
       "      <td>1</td>\n",
       "      <td>0</td>\n",
       "    </tr>\n",
       "    <tr>\n",
       "      <th>9</th>\n",
       "      <td>0</td>\n",
       "      <td>0</td>\n",
       "      <td>1</td>\n",
       "    </tr>\n",
       "    <tr>\n",
       "      <th>10</th>\n",
       "      <td>1</td>\n",
       "      <td>1</td>\n",
       "      <td>1</td>\n",
       "    </tr>\n",
       "    <tr>\n",
       "      <th>11</th>\n",
       "      <td>0</td>\n",
       "      <td>1</td>\n",
       "      <td>0</td>\n",
       "    </tr>\n",
       "    <tr>\n",
       "      <th>12</th>\n",
       "      <td>1</td>\n",
       "      <td>0</td>\n",
       "      <td>0</td>\n",
       "    </tr>\n",
       "  </tbody>\n",
       "</table>\n",
       "</div>"
      ],
      "text/plain": [
       "    X1  X0  Y\n",
       "0    0   0  1\n",
       "1    0   1  0\n",
       "2    1   0  0\n",
       "3    1   1  1\n",
       "5    0   0  1\n",
       "7    1   0  0\n",
       "8    0   1  0\n",
       "9    0   0  1\n",
       "10   1   1  1\n",
       "11   0   1  0\n",
       "12   1   0  0"
      ]
     },
     "execution_count": 136,
     "metadata": {},
     "output_type": "execute_result"
    }
   ],
   "source": [
    "XNOrData=Peeker.to_dataframe()\n",
    "XNOrData=XNOrData[['X1', 'X0', 'Y']]\n",
    "XNOrData"
   ]
  },
  {
   "cell_type": "code",
   "execution_count": 137,
   "metadata": {},
   "outputs": [
    {
     "data": {
      "text/html": [
       "<div>\n",
       "<style scoped>\n",
       "    .dataframe tbody tr th:only-of-type {\n",
       "        vertical-align: middle;\n",
       "    }\n",
       "\n",
       "    .dataframe tbody tr th {\n",
       "        vertical-align: top;\n",
       "    }\n",
       "\n",
       "    .dataframe thead th {\n",
       "        text-align: right;\n",
       "    }\n",
       "</style>\n",
       "<table border=\"1\" class=\"dataframe\">\n",
       "  <thead>\n",
       "    <tr style=\"text-align: right;\">\n",
       "      <th></th>\n",
       "      <th>X1</th>\n",
       "      <th>X0</th>\n",
       "      <th>Y</th>\n",
       "      <th>YRef</th>\n",
       "    </tr>\n",
       "  </thead>\n",
       "  <tbody>\n",
       "    <tr>\n",
       "      <th>0</th>\n",
       "      <td>0</td>\n",
       "      <td>0</td>\n",
       "      <td>1</td>\n",
       "      <td>1</td>\n",
       "    </tr>\n",
       "    <tr>\n",
       "      <th>1</th>\n",
       "      <td>0</td>\n",
       "      <td>1</td>\n",
       "      <td>0</td>\n",
       "      <td>0</td>\n",
       "    </tr>\n",
       "    <tr>\n",
       "      <th>2</th>\n",
       "      <td>1</td>\n",
       "      <td>0</td>\n",
       "      <td>0</td>\n",
       "      <td>0</td>\n",
       "    </tr>\n",
       "    <tr>\n",
       "      <th>3</th>\n",
       "      <td>1</td>\n",
       "      <td>1</td>\n",
       "      <td>1</td>\n",
       "      <td>1</td>\n",
       "    </tr>\n",
       "    <tr>\n",
       "      <th>5</th>\n",
       "      <td>0</td>\n",
       "      <td>0</td>\n",
       "      <td>1</td>\n",
       "      <td>1</td>\n",
       "    </tr>\n",
       "    <tr>\n",
       "      <th>7</th>\n",
       "      <td>1</td>\n",
       "      <td>0</td>\n",
       "      <td>0</td>\n",
       "      <td>0</td>\n",
       "    </tr>\n",
       "    <tr>\n",
       "      <th>8</th>\n",
       "      <td>0</td>\n",
       "      <td>1</td>\n",
       "      <td>0</td>\n",
       "      <td>0</td>\n",
       "    </tr>\n",
       "    <tr>\n",
       "      <th>9</th>\n",
       "      <td>0</td>\n",
       "      <td>0</td>\n",
       "      <td>1</td>\n",
       "      <td>1</td>\n",
       "    </tr>\n",
       "    <tr>\n",
       "      <th>10</th>\n",
       "      <td>1</td>\n",
       "      <td>1</td>\n",
       "      <td>1</td>\n",
       "      <td>1</td>\n",
       "    </tr>\n",
       "    <tr>\n",
       "      <th>11</th>\n",
       "      <td>0</td>\n",
       "      <td>1</td>\n",
       "      <td>0</td>\n",
       "      <td>0</td>\n",
       "    </tr>\n",
       "    <tr>\n",
       "      <th>12</th>\n",
       "      <td>1</td>\n",
       "      <td>0</td>\n",
       "      <td>0</td>\n",
       "      <td>0</td>\n",
       "    </tr>\n",
       "  </tbody>\n",
       "</table>\n",
       "</div>"
      ],
      "text/plain": [
       "    X1  X0  Y  YRef\n",
       "0    0   0  1     1\n",
       "1    0   1  0     0\n",
       "2    1   0  0     0\n",
       "3    1   1  1     1\n",
       "5    0   0  1     1\n",
       "7    1   0  0     0\n",
       "8    0   1  0     0\n",
       "9    0   0  1     1\n",
       "10   1   1  1     1\n",
       "11   0   1  0     0\n",
       "12   1   0  0     0"
      ]
     },
     "execution_count": 137,
     "metadata": {},
     "output_type": "execute_result"
    }
   ],
   "source": [
    "XNOrData['YRef']=XNOrData.apply(lambda row:YEqN(row['X0'], row['X1']), axis=1).astype(int)\n",
    "XNOrData"
   ]
  },
  {
   "cell_type": "code",
   "execution_count": 138,
   "metadata": {},
   "outputs": [
    {
     "name": "stdout",
     "output_type": "stream",
     "text": [
      "Module `XNOrGate` works as exspected: True\n"
     ]
    }
   ],
   "source": [
    "Test=(XNOrData['Y']==XNOrData['YRef']).all()\n",
    "print(f'Module `XNOrGate` works as exspected: {Test}')"
   ]
  },
  {
   "cell_type": "markdown",
   "metadata": {},
   "source": [
    "## Verilog Conversion"
   ]
  },
  {
   "cell_type": "code",
   "execution_count": 139,
   "metadata": {},
   "outputs": [
    {
     "name": "stdout",
     "output_type": "stream",
     "text": [
      "***Verilog modual from XNOrGate.v***\n",
      "\n",
      " // File: XNOrGate.v\n",
      "// Generated by MyHDL 0.10\n",
      "// Date: Mon Sep  3 14:50:48 2018\n",
      "\n",
      "\n",
      "`timescale 1ns/10ps\n",
      "\n",
      "module XNOrGate (\n",
      "    X0,\n",
      "    X1,\n",
      "    Y\n",
      ");\n",
      "// XNOR Gate demo module\n",
      "// \n",
      "// Input:\n",
      "//     X0(bool): XOR gate input 0\n",
      "//     X1(bool): XOR gate input 1\n",
      "// \n",
      "// Output:\n",
      "//     Y(bool): XOR gate ouput \n",
      "\n",
      "input X0;\n",
      "input X1;\n",
      "output Y;\n",
      "wire Y;\n",
      "\n",
      "\n",
      "\n",
      "\n",
      "\n",
      "assign Y = (!(X0 ^ X1));\n",
      "\n",
      "endmodule\n",
      "\n"
     ]
    }
   ],
   "source": [
    "DUT.convert()\n",
    "VerilogTextReader('XNOrGate');"
   ]
  },
  {
   "cell_type": "markdown",
   "metadata": {},
   "source": [
    "\\begin{figure}\n",
    "\\centerline{\\includegraphics[width=10cm]{XNOrGate_RTL.png}}\n",
    "\\caption{\\label{fig:XNOGRTL} XNOrGate RTL schematic; Xilinx Vivado 2017.4}\n",
    "\\end{figure}"
   ]
  },
  {
   "cell_type": "markdown",
   "metadata": {},
   "source": [
    "\\begin{figure}\n",
    "\\centerline{\\includegraphics[width=10cm]{XNOrGate_SYN.png}}\n",
    "\\caption{\\label{fig:XNOGSYN} XNOrGate Synthesized Schematic; Xilinx Vivado 2017.4}\n",
    "\\end{figure}"
   ]
  },
  {
   "cell_type": "markdown",
   "metadata": {},
   "source": [
    "\\begin{figure}\n",
    "\\centerline{\\includegraphics[width=10cm]{XNOrGate_IMP.png}}\n",
    "\\caption{\\label{fig:XNOGIMP} XNOrGate Implementated Schematic; Xilinx Vivado 2017.4}\n",
    "\\end{figure}"
   ]
  },
  {
   "cell_type": "markdown",
   "metadata": {},
   "source": [
    "## myHDL to Verilog Testbench"
   ]
  },
  {
   "cell_type": "code",
   "execution_count": 140,
   "metadata": {},
   "outputs": [
    {
     "data": {
      "text/plain": [
       "(intbv(5676), '1011000101100', intbv(3659), '111001001011')"
      ]
     },
     "execution_count": 140,
     "metadata": {},
     "output_type": "execute_result"
    }
   ],
   "source": [
    "#create BitVectora for XNOrGate_TBV\n",
    "X0TVs=intbv(int(''.join(X0TVs.astype(str)), 2))[TestLen:]\n",
    "X1TVs=intbv(int(''.join(X1TVs.astype(str)), 2))[TestLen:]\n",
    "X0TVs, bin(X0TVs), X1TVs, bin(X1TVs)"
   ]
  },
  {
   "cell_type": "code",
   "execution_count": 141,
   "metadata": {},
   "outputs": [
    {
     "name": "stdout",
     "output_type": "stream",
     "text": [
      "<class 'myhdl._Signal._Signal'> <class '_ast.Name'>\n",
      "<class 'myhdl._Signal._Signal'> <class '_ast.Name'>\n",
      "<class 'myhdl._Signal._Signal'> <class '_ast.Name'>\n",
      "***Verilog modual from XNOrGate_TBV.v***\n",
      "\n",
      " // File: XNOrGate_TBV.v\n",
      "// Generated by MyHDL 0.10\n",
      "// Date: Mon Sep  3 14:51:02 2018\n",
      "\n",
      "\n",
      "`timescale 1ns/10ps\n",
      "\n",
      "module XNOrGate_TBV (\n",
      "\n",
      ");\n",
      "// myHDL -> Verilog testbench for module `NOrGate`\n",
      "\n",
      "\n",
      "wire Y;\n",
      "reg X0 = 0;\n",
      "reg X1 = 0;\n",
      "wire [13:0] X0TV;\n",
      "wire [13:0] X1TV;\n",
      "\n",
      "assign X0TV = 14'd5676;\n",
      "assign X1TV = 14'd3659;\n",
      "\n",
      "\n",
      "always @(X1, Y, X0) begin: XNORGATE_TBV_PRINT_DATA\n",
      "    $write(\"%h\", X0);\n",
      "    $write(\" \");\n",
      "    $write(\"%h\", X1);\n",
      "    $write(\" \");\n",
      "    $write(\"%h\", Y);\n",
      "    $write(\"\\n\");\n",
      "end\n",
      "\n",
      "\n",
      "\n",
      "assign Y = (!(X0 ^ X1));\n",
      "\n",
      "\n",
      "initial begin: XNORGATE_TBV_STIMULES\n",
      "    integer i;\n",
      "    for (i=0; i<14; i=i+1) begin\n",
      "        X0 <= X0TV[i];\n",
      "        X1 <= X1TV[i];\n",
      "        # 1;\n",
      "    end\n",
      "    $finish;\n",
      "end\n",
      "\n",
      "endmodule\n",
      "\n"
     ]
    },
    {
     "name": "stderr",
     "output_type": "stream",
     "text": [
      "/home/iridium/anaconda3/lib/python3.6/site-packages/myhdl/conversion/_toVerilog.py:349: ToVerilogWarning: Signal is not driven: X0TV\n",
      "  category=ToVerilogWarning\n",
      "/home/iridium/anaconda3/lib/python3.6/site-packages/myhdl/conversion/_toVerilog.py:349: ToVerilogWarning: Signal is not driven: X1TV\n",
      "  category=ToVerilogWarning\n"
     ]
    }
   ],
   "source": [
    "@block\n",
    "def XNOrGate_TBV():\n",
    "    \"\"\"\n",
    "    myHDL -> Verilog testbench for module `NOrGate`\n",
    "    \"\"\"\n",
    "    X0=Signal(bool(0))\n",
    "    X1=Signal(bool(0))\n",
    "    Y=Signal(bool(0))\n",
    "    \n",
    "    @always_comb\n",
    "    def print_data():\n",
    "        print(X0, X1, Y)\n",
    "    \n",
    "    #Test Signal Bit Vectors\n",
    "    X0TV=Signal(X0TVs)\n",
    "    X1TV=Signal(X1TVs)\n",
    "\n",
    "    DUT=XNOrGate(X0, X1, Y)\n",
    "\n",
    "    @instance\n",
    "    def stimules():\n",
    "        for i in range(TestLen):\n",
    "            X0.next=int(X0TV[i])\n",
    "            X1.next=int(X1TV[i])\n",
    "            yield delay(1)\n",
    "        \n",
    "        raise StopSimulation()\n",
    "    return instances()\n",
    "\n",
    "TB=XNOrGate_TBV()\n",
    "TB.convert(hdl=\"Verilog\", initial_values=True)\n",
    "VerilogTextReader('XNOrGate_TBV');         "
   ]
  },
  {
   "cell_type": "markdown",
   "metadata": {},
   "source": [
    "## PYNQ-Z1 Deployment"
   ]
  },
  {
   "cell_type": "markdown",
   "metadata": {},
   "source": [
    "### Board Circuit"
   ]
  },
  {
   "cell_type": "code",
   "execution_count": 142,
   "metadata": {},
   "outputs": [
    {
     "data": {
      "image/png": "[encoded data removed]",
      "text/plain": [
       "<matplotlib.figure.Figure at 0x7f22875f9438>"
      ]
     },
     "metadata": {},
     "output_type": "display_data"
    }
   ],
   "source": [
    "d=schem.Drawing(unit=.5)\n",
    "#add elements\n",
    "G=d.add(l.XNOR2,d='right', label='$XNOR_2$')\n",
    "\n",
    "#Gate to led to gnd\n",
    "\n",
    "d.add(e.LINE, d='right', xy=G.out)\n",
    "d.add(e.DOT, label='$Y$')\n",
    "d.add(e.LINE, d='down', l=d.unit*2)\n",
    "LD0=d.add(e.LED, d='down', label='LD0')\n",
    "d.add(e.LINE, d='down', l=d.unit*2)\n",
    "d.add(e.GND)\n",
    "\n",
    "d.add(e.LINE, d='left', xy=G.in1, l=d.unit)\n",
    "d.add(e.DOT, label='$X_0$')\n",
    "d.add(e.LINE,d='left', l=d.unit)\n",
    "d.add(e.LINE,d='up', l=d.unit*2)\n",
    "d.add(e.LINE,d='left', l=d.unit*2)\n",
    "SW0=d.add(e.SWITCH_SPDT, lftlabel='SW0')\n",
    "d.add(e.GND, xy=SW0.c)\n",
    "d.add(e.VDD, xy=SW0.b)\n",
    "\n",
    "\n",
    "d.add(e.LINE, d='left', xy=G.in2, l=d.unit)\n",
    "d.add(e.DOT, botlabel='$X_1$')\n",
    "d.add(e.LINE,d='left', l=d.unit)\n",
    "d.add(e.LINE,d='down', l=d.unit*2)\n",
    "d.add(e.LINE,d='left', l=d.unit*4)\n",
    "SW1=d.add(e.SWITCH_SPDT, lftlabel='SW1')\n",
    "d.add(e.GND, xy=SW1.c)\n",
    "d.add(e.VDD, xy=SW1.b)\n",
    "d.draw()"
   ]
  },
  {
   "cell_type": "markdown",
   "metadata": {},
   "source": [
    "### Board Constraint"
   ]
  },
  {
   "cell_type": "code",
   "execution_count": 143,
   "metadata": {},
   "outputs": [
    {
     "name": "stdout",
     "output_type": "stream",
     "text": [
      "***Constraint file from PYNQ_Z1Constraints_XNOrGate.xdc***\n",
      "\n",
      " ## PYNQ-Z1 Board Constraints for XNOrGate.v\n",
      "## Based on https://github.com/Digilent/digilent-xdc/blob/master/Arty-Master.xdc\n",
      "\n",
      "\n",
      "## Switchs 0,1\n",
      "set_property -dict {PACKAGE_PIN M20 IOSTANDARD LVCMOS33} [get_ports {X0}]\n",
      "set_property -dict {PACKAGE_PIN M19 IOSTANDARD LVCMOS33} [get_ports {X1}]\n",
      "\n",
      "\n",
      "##LED 0\n",
      "set_property -dict {PACKAGE_PIN R14 IOSTANDARD LVCMOS33} [get_ports {Y}]\n",
      "\n"
     ]
    }
   ],
   "source": [
    "ConstraintXDCTextReader('PYNQ_Z1Constraints_XNOrGate');"
   ]
  },
  {
   "cell_type": "markdown",
   "metadata": {},
   "source": [
    "### Video of Deployment\n",
    "AND Gate myHDL PYNQ-Z1 ([YouTube](https://www.youtube.com/watch?v=Uys0Zhs7rlU))"
   ]
  },
  {
   "cell_type": "code",
   "execution_count": null,
   "metadata": {},
   "outputs": [],
   "source": []
  }
 ],
 "metadata": {
  "author": "Logic Gate Primitives in myHDL",
  "hide_input": false,
  "kernelspec": {
   "display_name": "Python 3",
   "language": "python",
   "name": "python3"
  },
  "language_info": {
   "codemirror_mode": {
    "name": "ipython",
    "version": 3
   },
   "file_extension": ".py",
   "mimetype": "text/x-python",
   "name": "python",
   "nbconvert_exporter": "python",
   "pygments_lexer": "ipython3",
   "version": "3.6.2"
  },
  "latex_envs": {
   "LaTeX_envs_menu_present": true,
   "autoclose": false,
   "autocomplete": true,
   "bibliofile": "biblio.bib",
   "cite_by": "apalike",
   "current_citInitial": 1,
   "eqLabelWithNumbers": true,
   "eqNumInitial": 1,
   "hotkeys": {
    "equation": "Ctrl-E",
    "itemize": "Ctrl-I"
   },
   "labels_anchors": false,
   "latex_user_defs": false,
   "report_style_numbering": false,
   "user_envs_cfg": false
  },
  "nbTranslate": {
   "displayLangs": [
    "*"
   ],
   "hotkey": "alt-t",
   "langInMainMenu": true,
   "sourceLang": "fr",
   "targetLang": "en",
   "useGoogleTranslate": true
  },
  "toc": {
   "nav_menu": {
    "height": "138px",
    "width": "252px"
   },
   "number_sections": true,
   "sideBar": true,
   "skip_h1_title": false,
   "toc_cell": true,
   "toc_position": {
    "height": "643px",
    "left": "0px",
    "right": "738px",
    "top": "236px",
    "width": "212px"
   },
   "toc_section_display": false,
   "toc_window_display": true
  }
 },
 "nbformat": 4,
 "nbformat_minor": 2
}
