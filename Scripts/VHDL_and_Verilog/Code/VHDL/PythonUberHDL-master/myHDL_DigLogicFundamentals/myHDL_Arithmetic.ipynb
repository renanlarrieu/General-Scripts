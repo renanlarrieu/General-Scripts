{
 "cells": [
  {
   "cell_type": "markdown",
   "metadata": {},
   "source": [
    "\\title{Digital Arithmetic Cells with myHDL}\n",
    "\\author{Steven K Armour}\n",
    "\\maketitle"
   ]
  },
  {
   "cell_type": "markdown",
   "metadata": {
    "toc": true
   },
   "source": [
    "<h1>Table of Contents<span class=\"tocSkip\"></span></h1>\n",
    "<div class=\"toc\"><ul class=\"toc-item\"><li><span><a href=\"#Compression-of-Number-System-Values\" data-toc-modified-id=\"Compression-of-Number-System-Values-1\"><span class=\"toc-item-num\">1&nbsp;&nbsp;</span>Compression of Number System Values</a></span></li><li><span><a href=\"#Half-Adder\" data-toc-modified-id=\"Half-Adder-2\"><span class=\"toc-item-num\">2&nbsp;&nbsp;</span>Half Adder</a></span></li><li><span><a href=\"#The-full-adder\" data-toc-modified-id=\"The-full-adder-3\"><span class=\"toc-item-num\">3&nbsp;&nbsp;</span>The full adder</a></span></li></ul></div>"
   ]
  },
  {
   "cell_type": "code",
   "execution_count": 29,
   "metadata": {},
   "outputs": [
    {
     "name": "stdout",
     "output_type": "stream",
     "text": [
      "The version_information extension is already loaded. To reload it, use:\n",
      "  %reload_ext version_information\n"
     ]
    },
    {
     "data": {
      "application/json": {
       "Software versions": [
        {
         "module": "Python",
         "version": "3.6.4 64bit [GCC 7.2.0]"
        },
        {
         "module": "IPython",
         "version": "6.2.1"
        },
        {
         "module": "OS",
         "version": "Linux 4.13.0 45 generic x86_64 with debian stretch sid"
        },
        {
         "module": "myhdl",
         "version": "0.10"
        },
        {
         "module": "myhdlpeek",
         "version": "0.0.6"
        },
        {
         "module": "numpy",
         "version": "1.13.3"
        },
        {
         "module": "pandas",
         "version": "0.21.1"
        },
        {
         "module": "matplotlib",
         "version": "2.1.1"
        },
        {
         "module": "sympy",
         "version": "1.1.1"
        },
        {
         "module": "random",
         "version": "The 'random' distribution was not found and is required by the application"
        }
       ]
      },
      "text/html": [
       "<table><tr><th>Software</th><th>Version</th></tr><tr><td>Python</td><td>3.6.4 64bit [GCC 7.2.0]</td></tr><tr><td>IPython</td><td>6.2.1</td></tr><tr><td>OS</td><td>Linux 4.13.0 45 generic x86_64 with debian stretch sid</td></tr><tr><td>myhdl</td><td>0.10</td></tr><tr><td>myhdlpeek</td><td>0.0.6</td></tr><tr><td>numpy</td><td>1.13.3</td></tr><tr><td>pandas</td><td>0.21.1</td></tr><tr><td>matplotlib</td><td>2.1.1</td></tr><tr><td>sympy</td><td>1.1.1</td></tr><tr><td>random</td><td>The 'random' distribution was not found and is required by the application</td></tr><tr><td colspan='2'>Fri Jun 29 23:35:01 2018 MDT</td></tr></table>"
      ],
      "text/latex": [
       "\\begin{tabular}{|l|l|}\\hline\n",
       "{\\bf Software} & {\\bf Version} \\\\ \\hline\\hline\n",
       "Python & 3.6.4 64bit [GCC 7.2.0] \\\\ \\hline\n",
       "IPython & 6.2.1 \\\\ \\hline\n",
       "OS & Linux 4.13.0 45 generic x86\\_64 with debian stretch sid \\\\ \\hline\n",
       "myhdl & 0.10 \\\\ \\hline\n",
       "myhdlpeek & 0.0.6 \\\\ \\hline\n",
       "numpy & 1.13.3 \\\\ \\hline\n",
       "pandas & 0.21.1 \\\\ \\hline\n",
       "matplotlib & 2.1.1 \\\\ \\hline\n",
       "sympy & 1.1.1 \\\\ \\hline\n",
       "random & The 'random' distribution was not found and is required by the application \\\\ \\hline\n",
       "\\hline \\multicolumn{2}{|l|}{Fri Jun 29 23:35:01 2018 MDT} \\\\ \\hline\n",
       "\\end{tabular}\n"
      ],
      "text/plain": [
       "Software versions\n",
       "Python 3.6.4 64bit [GCC 7.2.0]\n",
       "IPython 6.2.1\n",
       "OS Linux 4.13.0 45 generic x86_64 with debian stretch sid\n",
       "myhdl 0.10\n",
       "myhdlpeek 0.0.6\n",
       "numpy 1.13.3\n",
       "pandas 0.21.1\n",
       "matplotlib 2.1.1\n",
       "sympy 1.1.1\n",
       "random The 'random' distribution was not found and is required by the application\n",
       "Fri Jun 29 23:35:01 2018 MDT"
      ]
     },
     "execution_count": 29,
     "metadata": {},
     "output_type": "execute_result"
    }
   ],
   "source": [
    "from myhdl import *\n",
    "from myhdlpeek import Peeker\n",
    "import numpy as np\n",
    "import pandas as pd\n",
    "import matplotlib.pyplot as plt\n",
    "%matplotlib inline\n",
    "\n",
    "from sympy import *\n",
    "init_printing()\n",
    "\n",
    "import random\n",
    "\n",
    "#https://github.com/jrjohansson/version_information\n",
    "%load_ext version_information\n",
    "%version_information myhdl, myhdlpeek, numpy, pandas, matplotlib, sympy, random"
   ]
  },
  {
   "cell_type": "code",
   "execution_count": 2,
   "metadata": {},
   "outputs": [],
   "source": [
    "#helper  functions to read in the .v and .vhd generated files into python\n",
    "def VerilogTextReader(loc, printresult=True):\n",
    "    with open(f'{loc}.v', 'r') as vText:\n",
    "        VerilogText=vText.read()\n",
    "    if printresult:\n",
    "        print(f'***Verilog modual from {loc}.v***\\n\\n', VerilogText)\n",
    "    return VerilogText\n",
    "\n",
    "def VHDLTextReader(loc, printresult=True):\n",
    "    with open(f'{loc}.vhd', 'r') as vText:\n",
    "        VerilogText=vText.read()\n",
    "    if printresult:\n",
    "        print(f'***VHDL modual from {loc}.vhd***\\n\\n', VerilogText)\n",
    "    return VerilogText"
   ]
  },
  {
   "cell_type": "markdown",
   "metadata": {},
   "source": [
    "# Compression of Number System Values"
   ]
  },
  {
   "cell_type": "code",
   "execution_count": 3,
   "metadata": {},
   "outputs": [
    {
     "data": {
      "text/html": [
       "<div>\n",
       "<style scoped>\n",
       "    .dataframe tbody tr th:only-of-type {\n",
       "        vertical-align: middle;\n",
       "    }\n",
       "\n",
       "    .dataframe tbody tr th {\n",
       "        vertical-align: top;\n",
       "    }\n",
       "\n",
       "    .dataframe thead th {\n",
       "        text-align: right;\n",
       "    }\n",
       "</style>\n",
       "<table border=\"1\" class=\"dataframe\">\n",
       "  <thead>\n",
       "    <tr style=\"text-align: right;\">\n",
       "      <th></th>\n",
       "      <th>Decimal</th>\n",
       "      <th>Binary</th>\n",
       "      <th>hex</th>\n",
       "      <th>oct</th>\n",
       "    </tr>\n",
       "  </thead>\n",
       "  <tbody>\n",
       "    <tr>\n",
       "      <th>0</th>\n",
       "      <td>0</td>\n",
       "      <td>000</td>\n",
       "      <td>0x0</td>\n",
       "      <td>0o0</td>\n",
       "    </tr>\n",
       "    <tr>\n",
       "      <th>1</th>\n",
       "      <td>1</td>\n",
       "      <td>001</td>\n",
       "      <td>0x1</td>\n",
       "      <td>0o1</td>\n",
       "    </tr>\n",
       "    <tr>\n",
       "      <th>2</th>\n",
       "      <td>2</td>\n",
       "      <td>010</td>\n",
       "      <td>0x2</td>\n",
       "      <td>0o2</td>\n",
       "    </tr>\n",
       "    <tr>\n",
       "      <th>3</th>\n",
       "      <td>3</td>\n",
       "      <td>011</td>\n",
       "      <td>0x3</td>\n",
       "      <td>0o3</td>\n",
       "    </tr>\n",
       "    <tr>\n",
       "      <th>4</th>\n",
       "      <td>4</td>\n",
       "      <td>100</td>\n",
       "      <td>0x4</td>\n",
       "      <td>0o4</td>\n",
       "    </tr>\n",
       "    <tr>\n",
       "      <th>5</th>\n",
       "      <td>5</td>\n",
       "      <td>101</td>\n",
       "      <td>0x5</td>\n",
       "      <td>0o5</td>\n",
       "    </tr>\n",
       "    <tr>\n",
       "      <th>6</th>\n",
       "      <td>6</td>\n",
       "      <td>110</td>\n",
       "      <td>0x6</td>\n",
       "      <td>0o6</td>\n",
       "    </tr>\n",
       "    <tr>\n",
       "      <th>7</th>\n",
       "      <td>7</td>\n",
       "      <td>111</td>\n",
       "      <td>0x7</td>\n",
       "      <td>0o7</td>\n",
       "    </tr>\n",
       "    <tr>\n",
       "      <th>8</th>\n",
       "      <td>8</td>\n",
       "      <td>1000</td>\n",
       "      <td>0x8</td>\n",
       "      <td>0o10</td>\n",
       "    </tr>\n",
       "    <tr>\n",
       "      <th>9</th>\n",
       "      <td>9</td>\n",
       "      <td>1001</td>\n",
       "      <td>0x9</td>\n",
       "      <td>0o11</td>\n",
       "    </tr>\n",
       "    <tr>\n",
       "      <th>10</th>\n",
       "      <td>10</td>\n",
       "      <td>1010</td>\n",
       "      <td>0xa</td>\n",
       "      <td>0o12</td>\n",
       "    </tr>\n",
       "    <tr>\n",
       "      <th>11</th>\n",
       "      <td>11</td>\n",
       "      <td>1011</td>\n",
       "      <td>0xb</td>\n",
       "      <td>0o13</td>\n",
       "    </tr>\n",
       "    <tr>\n",
       "      <th>12</th>\n",
       "      <td>12</td>\n",
       "      <td>1100</td>\n",
       "      <td>0xc</td>\n",
       "      <td>0o14</td>\n",
       "    </tr>\n",
       "    <tr>\n",
       "      <th>13</th>\n",
       "      <td>13</td>\n",
       "      <td>1101</td>\n",
       "      <td>0xd</td>\n",
       "      <td>0o15</td>\n",
       "    </tr>\n",
       "    <tr>\n",
       "      <th>14</th>\n",
       "      <td>14</td>\n",
       "      <td>1110</td>\n",
       "      <td>0xe</td>\n",
       "      <td>0o16</td>\n",
       "    </tr>\n",
       "    <tr>\n",
       "      <th>15</th>\n",
       "      <td>15</td>\n",
       "      <td>1111</td>\n",
       "      <td>0xf</td>\n",
       "      <td>0o17</td>\n",
       "    </tr>\n",
       "    <tr>\n",
       "      <th>16</th>\n",
       "      <td>16</td>\n",
       "      <td>10000</td>\n",
       "      <td>0x10</td>\n",
       "      <td>0o20</td>\n",
       "    </tr>\n",
       "    <tr>\n",
       "      <th>17</th>\n",
       "      <td>17</td>\n",
       "      <td>10001</td>\n",
       "      <td>0x11</td>\n",
       "      <td>0o21</td>\n",
       "    </tr>\n",
       "    <tr>\n",
       "      <th>18</th>\n",
       "      <td>18</td>\n",
       "      <td>10010</td>\n",
       "      <td>0x12</td>\n",
       "      <td>0o22</td>\n",
       "    </tr>\n",
       "    <tr>\n",
       "      <th>19</th>\n",
       "      <td>19</td>\n",
       "      <td>10011</td>\n",
       "      <td>0x13</td>\n",
       "      <td>0o23</td>\n",
       "    </tr>\n",
       "    <tr>\n",
       "      <th>20</th>\n",
       "      <td>20</td>\n",
       "      <td>10100</td>\n",
       "      <td>0x14</td>\n",
       "      <td>0o24</td>\n",
       "    </tr>\n",
       "  </tbody>\n",
       "</table>\n",
       "</div>"
      ],
      "text/plain": [
       "    Decimal Binary   hex   oct\n",
       "0         0    000   0x0   0o0\n",
       "1         1    001   0x1   0o1\n",
       "2         2    010   0x2   0o2\n",
       "3         3    011   0x3   0o3\n",
       "4         4    100   0x4   0o4\n",
       "5         5    101   0x5   0o5\n",
       "6         6    110   0x6   0o6\n",
       "7         7    111   0x7   0o7\n",
       "8         8   1000   0x8  0o10\n",
       "9         9   1001   0x9  0o11\n",
       "10       10   1010   0xa  0o12\n",
       "11       11   1011   0xb  0o13\n",
       "12       12   1100   0xc  0o14\n",
       "13       13   1101   0xd  0o15\n",
       "14       14   1110   0xe  0o16\n",
       "15       15   1111   0xf  0o17\n",
       "16       16  10000  0x10  0o20\n",
       "17       17  10001  0x11  0o21\n",
       "18       18  10010  0x12  0o22\n",
       "19       19  10011  0x13  0o23\n",
       "20       20  10100  0x14  0o24"
      ]
     },
     "execution_count": 3,
     "metadata": {},
     "output_type": "execute_result"
    }
   ],
   "source": [
    "ConversionTable=pd.DataFrame()\n",
    "ConversionTable['Decimal']=np.arange(0, 21)\n",
    "ConversionTable['Binary']=[bin(i, 3) for i in np.arange(0, 21)]\n",
    "ConversionTable['hex']=[hex(i) for i in np.arange(0, 21)]\n",
    "ConversionTable['oct']=[oct(i) for i in np.arange(0, 21)]\n",
    "ConversionTable"
   ]
  },
  {
   "cell_type": "code",
   "execution_count": 4,
   "metadata": {},
   "outputs": [],
   "source": [
    "binarySum=lambda a, b, bits=2: np.binary_repr(a+b, bits)"
   ]
  },
  {
   "cell_type": "code",
   "execution_count": 5,
   "metadata": {},
   "outputs": [
    {
     "name": "stdout",
     "output_type": "stream",
     "text": [
      "0 + 0 yields  00_2, 0_10\n",
      "0 + 1 yields  01_2, 1_10\n",
      "1 + 0 yields  01_2, 1_10\n",
      "1 + 1 yields  10_2, 2_10\n"
     ]
    }
   ],
   "source": [
    "for i in [[0,0], [0,1], [1,0], [1,1]]:\n",
    "    print(f'{i[0]} + {i[1]} yields  {binarySum(*i)}_2, {int(binarySum(*i), 2)}_10')"
   ]
  },
  {
   "cell_type": "markdown",
   "metadata": {},
   "source": [
    "Notice that when we add $1_2+1_2$ we get instead of just a single bit we also get a new bit in the next binary column which we call the carry bit. This yields the following truth table for what is called the Two Bit or Half adder"
   ]
  },
  {
   "cell_type": "markdown",
   "metadata": {},
   "source": [
    "# Half Adder"
   ]
  },
  {
   "cell_type": "code",
   "execution_count": 6,
   "metadata": {},
   "outputs": [
    {
     "data": {
      "text/html": [
       "<div>\n",
       "<style scoped>\n",
       "    .dataframe tbody tr th:only-of-type {\n",
       "        vertical-align: middle;\n",
       "    }\n",
       "\n",
       "    .dataframe tbody tr th {\n",
       "        vertical-align: top;\n",
       "    }\n",
       "\n",
       "    .dataframe thead th {\n",
       "        text-align: right;\n",
       "    }\n",
       "</style>\n",
       "<table border=\"1\" class=\"dataframe\">\n",
       "  <thead>\n",
       "    <tr style=\"text-align: right;\">\n",
       "      <th></th>\n",
       "      <th>x2</th>\n",
       "      <th>x1</th>\n",
       "      <th>Sum</th>\n",
       "      <th>Carry</th>\n",
       "    </tr>\n",
       "  </thead>\n",
       "  <tbody>\n",
       "    <tr>\n",
       "      <th>0</th>\n",
       "      <td>0</td>\n",
       "      <td>0</td>\n",
       "      <td>0</td>\n",
       "      <td>0</td>\n",
       "    </tr>\n",
       "    <tr>\n",
       "      <th>1</th>\n",
       "      <td>0</td>\n",
       "      <td>1</td>\n",
       "      <td>1</td>\n",
       "      <td>0</td>\n",
       "    </tr>\n",
       "    <tr>\n",
       "      <th>2</th>\n",
       "      <td>1</td>\n",
       "      <td>0</td>\n",
       "      <td>1</td>\n",
       "      <td>0</td>\n",
       "    </tr>\n",
       "    <tr>\n",
       "      <th>3</th>\n",
       "      <td>1</td>\n",
       "      <td>1</td>\n",
       "      <td>0</td>\n",
       "      <td>1</td>\n",
       "    </tr>\n",
       "  </tbody>\n",
       "</table>\n",
       "</div>"
      ],
      "text/plain": [
       "   x2  x1  Sum  Carry\n",
       "0   0   0    0      0\n",
       "1   0   1    1      0\n",
       "2   1   0    1      0\n",
       "3   1   1    0      1"
      ]
     },
     "execution_count": 6,
     "metadata": {},
     "output_type": "execute_result"
    }
   ],
   "source": [
    "TwoBitAdderTT=pd.DataFrame()\n",
    "TwoBitAdderTT['x2']=[0,0,1,1]\n",
    "TwoBitAdderTT['x1']=[0,1,0,1]\n",
    "TwoBitAdderTT['Sum']=[0,1,1,0]\n",
    "TwoBitAdderTT['Carry']=[0,0,0,1]\n",
    "TwoBitAdderTT"
   ]
  },
  {
   "cell_type": "markdown",
   "metadata": {},
   "source": [
    "Looking at this truth table we can surmise the following "
   ]
  },
  {
   "cell_type": "code",
   "execution_count": 7,
   "metadata": {},
   "outputs": [
    {
     "data": {
      "text/latex": [
       "$$\\left ( \\text{Sum} = x_{1} \\veebar x_{2}, \\quad \\text{Carry} = x_{1} \\wedge x_{2}\\right )$$"
      ],
      "text/plain": [
       "(\\text{Sum} = x₁ ⊻ x₂, \\text{Carry} = x₁ ∧ x₂)"
      ]
     },
     "execution_count": 7,
     "metadata": {},
     "output_type": "execute_result"
    }
   ],
   "source": [
    "x1, x2=symbols('x_1, x_2')\n",
    "Sum, Carry=symbols(r'\\text{Sum}, \\text{Carry}')\n",
    "HASumDef=x1^x2; HACarryDef=x1 & x2\n",
    "HASumEq=Eq(Sum, HASumDef); HACarryDef=Eq(Carry, HACarryDef)\n",
    "HASumEq, HACarryDef"
   ]
  },
  {
   "cell_type": "markdown",
   "metadata": {},
   "source": [
    "We can thus generate the following myHDL"
   ]
  },
  {
   "cell_type": "code",
   "execution_count": 8,
   "metadata": {},
   "outputs": [],
   "source": [
    "@block\n",
    "def HalfAdder(x1, x2, Sum, Carry):\n",
    "    \"\"\"\n",
    "    Half adder in myHDL\n",
    "    I/O:\n",
    "        x1 (bool): x1 input\n",
    "        x2 (bool): x2 input\n",
    "        Sum (bool): the sum Half Adder ouput\n",
    "        Carry (bool): the carry Half Adder ouput\n",
    "    \"\"\"\n",
    "    @always_comb\n",
    "    def logic():\n",
    "        Sum.next=x1^x2\n",
    "        Carry.next=x1 & x2\n",
    "    return logic"
   ]
  },
  {
   "cell_type": "code",
   "execution_count": 9,
   "metadata": {},
   "outputs": [],
   "source": [
    "Peeker.clear()\n",
    "x1=Signal(bool(0)); Peeker(x1, 'x1')\n",
    "x2=Signal(bool(0)); Peeker(x2, 'x2')\n",
    "Sum=Signal(bool(0)); Peeker(Sum, 'Sum')\n",
    "Carry=Signal(bool(0)); Peeker(Carry, 'Carry')\n",
    "\n",
    "DUT=HalfAdder(x1, x2, Sum, Carry)\n",
    "\n",
    "def HalfAdder_TB():\n",
    "    \"\"\"\n",
    "    Half Adder Testbench for use in python only\n",
    "    \"\"\"\n",
    "    @instance\n",
    "    def Stimules():\n",
    "        for _, row in TwoBitAdderTT.iterrows():\n",
    "            x1.next=row['x1']\n",
    "            x2.next=row['x2']\n",
    "            yield delay(1)\n",
    "        raise StopSimulation()\n",
    "    \n",
    "    return instances()\n",
    "\n",
    "sim = Simulation(DUT, HalfAdder_TB(), *Peeker.instances()).run()"
   ]
  },
  {
   "cell_type": "code",
   "execution_count": 10,
   "metadata": {},
   "outputs": [
    {
     "data": {
      "text/html": [
       "<div><script type=\"WaveDrom\">{\"signal\": [{\"name\": \"x2\", \"wave\": \"0.1.\"}, {\"name\": \"x1\", \"wave\": \"0101\"}, {}, {}, {}], \"head\": {\"text\": [\"tspan\", [\"tspan\", {\"fill\": \"blue\", \"font-size\": \"16\", \"font-weight\": \"bold\"}, \"Half Adder Wave Form\"]], \"tock\": 0}, \"foot\": {\"tock\": 0}}</script></div>"
      ]
     },
     "metadata": {},
     "output_type": "display_data"
    },
    {
     "data": {
      "application/javascript": [
       "$.getScript(\"http://wavedrom.com/wavedrom.min.js\", function () {\n",
       "$.getScript(\"http://wavedrom.com/skins/default.js\", function () {\n",
       "WaveDrom.ProcessAll();});\n",
       "});\n"
      ]
     },
     "metadata": {},
     "output_type": "display_data"
    }
   ],
   "source": [
    "Peeker.to_wavedrom('x2 x1 | Sum Carry', title='Half Adder Wave Form', tock=True)"
   ]
  },
  {
   "cell_type": "code",
   "execution_count": 11,
   "metadata": {},
   "outputs": [
    {
     "data": {
      "text/html": [
       "<div>\n",
       "<style scoped>\n",
       "    .dataframe tbody tr th:only-of-type {\n",
       "        vertical-align: middle;\n",
       "    }\n",
       "\n",
       "    .dataframe tbody tr th {\n",
       "        vertical-align: top;\n",
       "    }\n",
       "\n",
       "    .dataframe thead th {\n",
       "        text-align: right;\n",
       "    }\n",
       "</style>\n",
       "<table border=\"1\" class=\"dataframe\">\n",
       "  <thead>\n",
       "    <tr style=\"text-align: right;\">\n",
       "      <th></th>\n",
       "      <th>x2</th>\n",
       "      <th>x1</th>\n",
       "      <th>Sum</th>\n",
       "      <th>Carry</th>\n",
       "    </tr>\n",
       "  </thead>\n",
       "  <tbody>\n",
       "    <tr>\n",
       "      <th>0</th>\n",
       "      <td>0</td>\n",
       "      <td>0</td>\n",
       "      <td>0</td>\n",
       "      <td>0</td>\n",
       "    </tr>\n",
       "    <tr>\n",
       "      <th>1</th>\n",
       "      <td>0</td>\n",
       "      <td>1</td>\n",
       "      <td>1</td>\n",
       "      <td>0</td>\n",
       "    </tr>\n",
       "    <tr>\n",
       "      <th>2</th>\n",
       "      <td>1</td>\n",
       "      <td>0</td>\n",
       "      <td>1</td>\n",
       "      <td>0</td>\n",
       "    </tr>\n",
       "    <tr>\n",
       "      <th>3</th>\n",
       "      <td>1</td>\n",
       "      <td>1</td>\n",
       "      <td>0</td>\n",
       "      <td>1</td>\n",
       "    </tr>\n",
       "  </tbody>\n",
       "</table>\n",
       "</div>"
      ],
      "text/plain": [
       "   x2  x1  Sum  Carry\n",
       "0   0   0    0      0\n",
       "1   0   1    1      0\n",
       "2   1   0    1      0\n",
       "3   1   1    0      1"
      ]
     },
     "execution_count": 11,
     "metadata": {},
     "output_type": "execute_result"
    }
   ],
   "source": [
    "HARes=Peeker.to_dataframe()\n",
    "HARes=HARes[['x2', 'x1','Sum', 'Carry']]\n",
    "HARes"
   ]
  },
  {
   "cell_type": "markdown",
   "metadata": {},
   "source": [
    "Wich, we can then confirm via these results to the expected results via"
   ]
  },
  {
   "cell_type": "code",
   "execution_count": 12,
   "metadata": {},
   "outputs": [
    {
     "data": {
      "text/html": [
       "<div>\n",
       "<style scoped>\n",
       "    .dataframe tbody tr th:only-of-type {\n",
       "        vertical-align: middle;\n",
       "    }\n",
       "\n",
       "    .dataframe tbody tr th {\n",
       "        vertical-align: top;\n",
       "    }\n",
       "\n",
       "    .dataframe thead th {\n",
       "        text-align: right;\n",
       "    }\n",
       "</style>\n",
       "<table border=\"1\" class=\"dataframe\">\n",
       "  <thead>\n",
       "    <tr style=\"text-align: right;\">\n",
       "      <th></th>\n",
       "      <th>x2</th>\n",
       "      <th>x1</th>\n",
       "      <th>Sum</th>\n",
       "      <th>Carry</th>\n",
       "    </tr>\n",
       "  </thead>\n",
       "  <tbody>\n",
       "    <tr>\n",
       "      <th>0</th>\n",
       "      <td>True</td>\n",
       "      <td>True</td>\n",
       "      <td>True</td>\n",
       "      <td>True</td>\n",
       "    </tr>\n",
       "    <tr>\n",
       "      <th>1</th>\n",
       "      <td>True</td>\n",
       "      <td>True</td>\n",
       "      <td>True</td>\n",
       "      <td>True</td>\n",
       "    </tr>\n",
       "    <tr>\n",
       "      <th>2</th>\n",
       "      <td>True</td>\n",
       "      <td>True</td>\n",
       "      <td>True</td>\n",
       "      <td>True</td>\n",
       "    </tr>\n",
       "    <tr>\n",
       "      <th>3</th>\n",
       "      <td>True</td>\n",
       "      <td>True</td>\n",
       "      <td>True</td>\n",
       "      <td>True</td>\n",
       "    </tr>\n",
       "  </tbody>\n",
       "</table>\n",
       "</div>"
      ],
      "text/plain": [
       "     x2    x1   Sum  Carry\n",
       "0  True  True  True   True\n",
       "1  True  True  True   True\n",
       "2  True  True  True   True\n",
       "3  True  True  True   True"
      ]
     },
     "execution_count": 12,
     "metadata": {},
     "output_type": "execute_result"
    }
   ],
   "source": [
    "TwoBitAdderTT==HARes"
   ]
  },
  {
   "cell_type": "code",
   "execution_count": 13,
   "metadata": {},
   "outputs": [
    {
     "name": "stdout",
     "output_type": "stream",
     "text": [
      "***Verilog modual from HalfAdder.v***\n",
      "\n",
      " // File: HalfAdder.v\n",
      "// Generated by MyHDL 0.10\n",
      "// Date: Fri Jun 29 23:13:48 2018\n",
      "\n",
      "\n",
      "`timescale 1ns/10ps\n",
      "\n",
      "module HalfAdder (\n",
      "    x1,\n",
      "    x2,\n",
      "    Sum,\n",
      "    Carry\n",
      ");\n",
      "// Half adder in myHDL\n",
      "// I/O:\n",
      "//     x1 (bool): x1 input\n",
      "//     x2 (bool): x2 input\n",
      "//     Sum (bool): the sum Half Adder ouput\n",
      "//     Carry (bool): the carry Half Adder ouput\n",
      "\n",
      "input x1;\n",
      "input x2;\n",
      "output Sum;\n",
      "wire Sum;\n",
      "output Carry;\n",
      "wire Carry;\n",
      "\n",
      "\n",
      "\n",
      "\n",
      "\n",
      "assign Sum = (x1 ^ x2);\n",
      "assign Carry = (x1 & x2);\n",
      "\n",
      "endmodule\n",
      "\n"
     ]
    }
   ],
   "source": [
    "DUT.convert()\n",
    "VerilogTextReader('HalfAdder');"
   ]
  },
  {
   "cell_type": "markdown",
   "metadata": {},
   "source": [
    "**HalfAdder RTL**\n",
    "<img src='HalfAdderRTL.png'>\n",
    "**HalfAdder Synthesis**\n",
    "<img src='HalfAdderSynth.png'>"
   ]
  },
  {
   "cell_type": "code",
   "execution_count": 26,
   "metadata": {},
   "outputs": [
    {
     "name": "stdout",
     "output_type": "stream",
     "text": [
      "<class 'myhdl._Signal._Signal'> <class '_ast.Name'>\n",
      "<class 'myhdl._Signal._Signal'> <class '_ast.Name'>\n",
      "<class 'myhdl._Signal._Signal'> <class '_ast.Name'>\n",
      "<class 'myhdl._Signal._Signal'> <class '_ast.Name'>\n",
      "***Verilog modual from HalfAdder_TBV.v***\n",
      "\n",
      " // File: HalfAdder_TBV.v\n",
      "// Generated by MyHDL 0.10\n",
      "// Date: Fri Jun 29 23:16:26 2018\n",
      "\n",
      "\n",
      "`timescale 1ns/10ps\n",
      "\n",
      "module HalfAdder_TBV (\n",
      "\n",
      ");\n",
      "// Half Adder Testbench for use in Verilog\n",
      "\n",
      "\n",
      "wire Sum;\n",
      "reg x1 = 0;\n",
      "reg x2 = 0;\n",
      "wire Carry;\n",
      "wire [3:0] testx1;\n",
      "wire [3:0] testx2;\n",
      "\n",
      "assign testx1 = 4'd5;\n",
      "assign testx2 = 4'd3;\n",
      "\n",
      "\n",
      "\n",
      "assign Sum = (x1 ^ x2);\n",
      "assign Carry = (x1 & x2);\n",
      "\n",
      "\n",
      "initial begin: HALFADDER_TBV_STIMULUS\n",
      "    integer i;\n",
      "    for (i=0; i<4; i=i+1) begin\n",
      "        x1 <= testx1[i];\n",
      "        x2 <= testx2[i];\n",
      "        # 1;\n",
      "    end\n",
      "    $finish;\n",
      "end\n",
      "\n",
      "\n",
      "always @(Carry, x2, Sum, x1) begin: HALFADDER_TBV_PRINT_DATA\n",
      "    $write(\"%h\", x1);\n",
      "    $write(\" \");\n",
      "    $write(\"%h\", x2);\n",
      "    $write(\" \");\n",
      "    $write(\"%h\", Sum);\n",
      "    $write(\" \");\n",
      "    $write(\"%h\", Carry);\n",
      "    $write(\"\\n\");\n",
      "end\n",
      "\n",
      "endmodule\n",
      "\n"
     ]
    },
    {
     "name": "stderr",
     "output_type": "stream",
     "text": [
      "/home/iridium/anaconda3/lib/python3.6/site-packages/myhdl/conversion/_toVerilog.py:349: ToVerilogWarning: Signal is not driven: testx1\n",
      "  category=ToVerilogWarning\n",
      "/home/iridium/anaconda3/lib/python3.6/site-packages/myhdl/conversion/_toVerilog.py:349: ToVerilogWarning: Signal is not driven: testx2\n",
      "  category=ToVerilogWarning\n"
     ]
    }
   ],
   "source": [
    "@block\n",
    "def HalfAdder_TBV():\n",
    "    \"\"\"\n",
    "    Half Adder Testbench for use in Verilog\n",
    "    \"\"\"\n",
    "    x1 = Signal(bool(0))\n",
    "    x2 = Signal(bool(0))\n",
    "    Sum = Signal(bool(0))\n",
    "    Carry = Signal(bool(0))\n",
    "\n",
    "    DUT = HalfAdder(x1, x2, Sum, Carry)\n",
    "\n",
    "    testx1=Signal(intbv(int(\"\".join([str(i) for i in TwoBitAdderTT['x1'].tolist()]), 2))[4:])\n",
    "    testx2=Signal(intbv(int(\"\".join([str(i) for i in TwoBitAdderTT['x2'].tolist()]), 2))[4:])\n",
    "\n",
    "    \n",
    "    @instance\n",
    "    def Stimulus():\n",
    "        for i in range(len(testx1)):\n",
    "            x1.next = testx1[i]\n",
    "            x2.next = testx2[i]\n",
    "            yield delay(1)\n",
    "            \n",
    "        raise StopSimulation()\n",
    "    \n",
    "    @always_comb\n",
    "    def print_data():\n",
    "        print(x1, x2, Sum, Carry)\n",
    "    \n",
    "    return instances()\n",
    "\n",
    "\n",
    "# create instaince of TB\n",
    "TB = HalfAdder_TBV()\n",
    "# convert to verilog with reintilzed values\n",
    "TB.convert(hdl=\"verilog\", initial_values=True)\n",
    "VerilogTextReader('HalfAdder_TBV');"
   ]
  },
  {
   "cell_type": "markdown",
   "metadata": {},
   "source": [
    "Where the above warning can be ignored since we are using `testx1` and `testx2` as stores for the binay set of inputs to apply to `x1` and `x2`"
   ]
  },
  {
   "cell_type": "markdown",
   "metadata": {},
   "source": [
    "# The full adder\n",
    "If we assume that a carry is an input we can then extend the truth table for the two-bit adder to a three-bit adder yielding"
   ]
  },
  {
   "cell_type": "code",
   "execution_count": 17,
   "metadata": {},
   "outputs": [
    {
     "data": {
      "text/html": [
       "<div>\n",
       "<style scoped>\n",
       "    .dataframe tbody tr th:only-of-type {\n",
       "        vertical-align: middle;\n",
       "    }\n",
       "\n",
       "    .dataframe tbody tr th {\n",
       "        vertical-align: top;\n",
       "    }\n",
       "\n",
       "    .dataframe thead th {\n",
       "        text-align: right;\n",
       "    }\n",
       "</style>\n",
       "<table border=\"1\" class=\"dataframe\">\n",
       "  <thead>\n",
       "    <tr style=\"text-align: right;\">\n",
       "      <th></th>\n",
       "      <th>c1</th>\n",
       "      <th>x2</th>\n",
       "      <th>x1</th>\n",
       "      <th>Sum</th>\n",
       "      <th>Carry</th>\n",
       "    </tr>\n",
       "  </thead>\n",
       "  <tbody>\n",
       "    <tr>\n",
       "      <th>0</th>\n",
       "      <td>0</td>\n",
       "      <td>0</td>\n",
       "      <td>0</td>\n",
       "      <td>0</td>\n",
       "      <td>0</td>\n",
       "    </tr>\n",
       "    <tr>\n",
       "      <th>1</th>\n",
       "      <td>0</td>\n",
       "      <td>0</td>\n",
       "      <td>1</td>\n",
       "      <td>1</td>\n",
       "      <td>0</td>\n",
       "    </tr>\n",
       "    <tr>\n",
       "      <th>2</th>\n",
       "      <td>0</td>\n",
       "      <td>1</td>\n",
       "      <td>0</td>\n",
       "      <td>1</td>\n",
       "      <td>0</td>\n",
       "    </tr>\n",
       "    <tr>\n",
       "      <th>3</th>\n",
       "      <td>0</td>\n",
       "      <td>1</td>\n",
       "      <td>1</td>\n",
       "      <td>0</td>\n",
       "      <td>1</td>\n",
       "    </tr>\n",
       "    <tr>\n",
       "      <th>4</th>\n",
       "      <td>1</td>\n",
       "      <td>0</td>\n",
       "      <td>0</td>\n",
       "      <td>1</td>\n",
       "      <td>0</td>\n",
       "    </tr>\n",
       "    <tr>\n",
       "      <th>5</th>\n",
       "      <td>1</td>\n",
       "      <td>0</td>\n",
       "      <td>1</td>\n",
       "      <td>0</td>\n",
       "      <td>1</td>\n",
       "    </tr>\n",
       "    <tr>\n",
       "      <th>6</th>\n",
       "      <td>1</td>\n",
       "      <td>1</td>\n",
       "      <td>0</td>\n",
       "      <td>0</td>\n",
       "      <td>1</td>\n",
       "    </tr>\n",
       "    <tr>\n",
       "      <th>7</th>\n",
       "      <td>1</td>\n",
       "      <td>1</td>\n",
       "      <td>1</td>\n",
       "      <td>1</td>\n",
       "      <td>1</td>\n",
       "    </tr>\n",
       "  </tbody>\n",
       "</table>\n",
       "</div>"
      ],
      "text/plain": [
       "   c1  x2  x1  Sum  Carry\n",
       "0   0   0   0    0      0\n",
       "1   0   0   1    1      0\n",
       "2   0   1   0    1      0\n",
       "3   0   1   1    0      1\n",
       "4   1   0   0    1      0\n",
       "5   1   0   1    0      1\n",
       "6   1   1   0    0      1\n",
       "7   1   1   1    1      1"
      ]
     },
     "execution_count": 17,
     "metadata": {},
     "output_type": "execute_result"
    }
   ],
   "source": [
    "ThreeBitAdderTT=pd.DataFrame()\n",
    "ThreeBitAdderTT['c1']=[0,0,0,0,1,1,1,1]\n",
    "ThreeBitAdderTT['x2']=[0,0,1,1,0,0,1,1]\n",
    "ThreeBitAdderTT['x1']=[0,1,0,1,0,1,0,1]\n",
    "ThreeBitAdderTT['Sum']=[0,1,1,0,1,0,0,1]\n",
    "ThreeBitAdderTT['Carry']=[0,0,0,1,0,1,1,1]\n",
    "ThreeBitAdderTT"
   ]
  },
  {
   "cell_type": "markdown",
   "metadata": {},
   "source": [
    "! need a way to make K-Maps in python\n",
    "\n",
    "whereupon making and reducing the maps from the three-bit adder truth table we get the following equations"
   ]
  },
  {
   "cell_type": "code",
   "execution_count": 18,
   "metadata": {},
   "outputs": [
    {
     "data": {
      "text/latex": [
       "$$\\left ( \\text{Sum} = c_{1} \\veebar x_{1} \\veebar x_{2}, \\quad \\text{Carry} = \\left(c_{1} \\wedge x_{1}\\right) \\vee \\left(c_{1} \\wedge x_{2}\\right) \\vee \\left(x_{1} \\wedge x_{2}\\right)\\right )$$"
      ],
      "text/plain": [
       "(\\text{Sum} = c₁ ⊻ x₁ ⊻ x₂, \\text{Carry} = (c₁ ∧ x₁) ∨ (c₁ ∧ x₂) ∨ (x₁ ∧ x₂))"
      ]
     },
     "execution_count": 18,
     "metadata": {},
     "output_type": "execute_result"
    }
   ],
   "source": [
    "c1, x1, x2=symbols('c_1,x_1, x_2')\n",
    "Sum, Carry=symbols(r'\\text{Sum}, \\text{Carry}')\n",
    "FASumDef=x1^x2^c1; FACarryDef=x1&x2 | x1&c1 | x2&c1\n",
    "FASumEq=Eq(Sum, FASumDef); FACarryDef=Eq(Carry, FACarryDef)\n",
    "FASumEq, FACarryDef"
   ]
  },
  {
   "cell_type": "markdown",
   "metadata": {},
   "source": [
    "yielding the following next myHDL module"
   ]
  },
  {
   "cell_type": "code",
   "execution_count": 19,
   "metadata": {},
   "outputs": [],
   "source": [
    "@block\n",
    "def FullAdder(x1, x2, c1, Sum, Carry):\n",
    "    \"\"\"\n",
    "    Full adder in myHDL\n",
    "    I/O:\n",
    "        x1 (bool): x1 input\n",
    "        x2 (bool): x2 input\n",
    "        c1 (bool): carry input\n",
    "        Sum (bool): the sum Full Adder ouput\n",
    "        Carry (bool): the carry Full Adder ouput\n",
    "    \n",
    "    Note!:\n",
    "        There something wrong on the HDL side at the moment\n",
    "    \"\"\"\n",
    "    \n",
    "    @always_comb\n",
    "    def logic():\n",
    "        Sum.next=x1 ^ x2 ^c1\n",
    "        Carry.next=(x1 & x2) | (x1 & c1) | (x2 & c1)\n",
    "    return logic"
   ]
  },
  {
   "cell_type": "code",
   "execution_count": 21,
   "metadata": {},
   "outputs": [
    {
     "ename": "TypeError",
     "evalue": "'bool' object is not subscriptable",
     "output_type": "error",
     "traceback": [
      "\u001b[0;31m---------------------------------------------------------------------------\u001b[0m",
      "\u001b[0;31mTypeError\u001b[0m                                 Traceback (most recent call last)",
      "\u001b[0;32m<ipython-input-21-b7b06c5590b9>\u001b[0m in \u001b[0;36m<module>\u001b[0;34m()\u001b[0m\n\u001b[1;32m     21\u001b[0m     \u001b[0;32mreturn\u001b[0m \u001b[0minstances\u001b[0m\u001b[0;34m(\u001b[0m\u001b[0;34m)\u001b[0m\u001b[0;34m\u001b[0m\u001b[0m\n\u001b[1;32m     22\u001b[0m \u001b[0;34m\u001b[0m\u001b[0m\n\u001b[0;32m---> 23\u001b[0;31m \u001b[0msim\u001b[0m \u001b[0;34m=\u001b[0m \u001b[0mSimulation\u001b[0m\u001b[0;34m(\u001b[0m\u001b[0mDUT\u001b[0m\u001b[0;34m,\u001b[0m \u001b[0mHalfAdder_TB\u001b[0m\u001b[0;34m(\u001b[0m\u001b[0;34m)\u001b[0m\u001b[0;34m,\u001b[0m \u001b[0;34m*\u001b[0m\u001b[0mPeeker\u001b[0m\u001b[0;34m.\u001b[0m\u001b[0minstances\u001b[0m\u001b[0;34m(\u001b[0m\u001b[0;34m)\u001b[0m\u001b[0;34m)\u001b[0m\u001b[0;34m.\u001b[0m\u001b[0mrun\u001b[0m\u001b[0;34m(\u001b[0m\u001b[0;34m)\u001b[0m\u001b[0;34m\u001b[0m\u001b[0m\n\u001b[0m",
      "\u001b[0;32m~/anaconda3/lib/python3.6/site-packages/myhdl/_Simulation.py\u001b[0m in \u001b[0;36mrun\u001b[0;34m(self, duration, quiet)\u001b[0m\n\u001b[1;32m    150\u001b[0m                     \u001b[0mwaiter\u001b[0m \u001b[0;34m=\u001b[0m \u001b[0m_pop\u001b[0m\u001b[0;34m(\u001b[0m\u001b[0;34m)\u001b[0m\u001b[0;34m\u001b[0m\u001b[0m\n\u001b[1;32m    151\u001b[0m                     \u001b[0;32mtry\u001b[0m\u001b[0;34m:\u001b[0m\u001b[0;34m\u001b[0m\u001b[0m\n\u001b[0;32m--> 152\u001b[0;31m                         \u001b[0mwaiter\u001b[0m\u001b[0;34m.\u001b[0m\u001b[0mnext\u001b[0m\u001b[0;34m(\u001b[0m\u001b[0mwaiters\u001b[0m\u001b[0;34m,\u001b[0m \u001b[0mactives\u001b[0m\u001b[0;34m,\u001b[0m \u001b[0mexc\u001b[0m\u001b[0;34m)\u001b[0m\u001b[0;34m\u001b[0m\u001b[0m\n\u001b[0m\u001b[1;32m    153\u001b[0m                     \u001b[0;32mexcept\u001b[0m \u001b[0mStopIteration\u001b[0m\u001b[0;34m:\u001b[0m\u001b[0;34m\u001b[0m\u001b[0m\n\u001b[1;32m    154\u001b[0m                         \u001b[0;32mcontinue\u001b[0m\u001b[0;34m\u001b[0m\u001b[0m\n",
      "\u001b[0;32m~/anaconda3/lib/python3.6/site-packages/myhdl/_Waiter.py\u001b[0m in \u001b[0;36mnext\u001b[0;34m(self, waiters, actives, exc)\u001b[0m\n\u001b[1;32m    185\u001b[0m         \u001b[0;32mif\u001b[0m \u001b[0mself\u001b[0m\u001b[0;34m.\u001b[0m\u001b[0mhasRun\u001b[0m\u001b[0;34m:\u001b[0m\u001b[0;34m\u001b[0m\u001b[0m\n\u001b[1;32m    186\u001b[0m             \u001b[0;32mraise\u001b[0m \u001b[0mStopIteration\u001b[0m\u001b[0;34m\u001b[0m\u001b[0m\n\u001b[0;32m--> 187\u001b[0;31m         \u001b[0mclauses\u001b[0m \u001b[0;34m=\u001b[0m \u001b[0mnext\u001b[0m\u001b[0;34m(\u001b[0m\u001b[0mself\u001b[0m\u001b[0;34m.\u001b[0m\u001b[0mgenerator\u001b[0m\u001b[0;34m)\u001b[0m\u001b[0;34m\u001b[0m\u001b[0m\n\u001b[0m\u001b[1;32m    188\u001b[0m         \u001b[0mself\u001b[0m\u001b[0;34m.\u001b[0m\u001b[0mhasRun\u001b[0m \u001b[0;34m=\u001b[0m \u001b[0;36m1\u001b[0m\u001b[0;34m\u001b[0m\u001b[0m\n\u001b[1;32m    189\u001b[0m         \u001b[0mclone\u001b[0m \u001b[0;34m=\u001b[0m \u001b[0m_SignalTupleWaiter\u001b[0m\u001b[0;34m(\u001b[0m\u001b[0mself\u001b[0m\u001b[0;34m.\u001b[0m\u001b[0mgenerator\u001b[0m\u001b[0;34m)\u001b[0m\u001b[0;34m\u001b[0m\u001b[0m\n",
      "\u001b[0;32m~/anaconda3/lib/python3.6/site-packages/myhdl/_always_comb.py\u001b[0m in \u001b[0;36mgenfunc\u001b[0;34m(self)\u001b[0m\n\u001b[1;32m     81\u001b[0m         \u001b[0mfunc\u001b[0m \u001b[0;34m=\u001b[0m \u001b[0mself\u001b[0m\u001b[0;34m.\u001b[0m\u001b[0mfunc\u001b[0m\u001b[0;34m\u001b[0m\u001b[0m\n\u001b[1;32m     82\u001b[0m         \u001b[0;32mwhile\u001b[0m \u001b[0;36m1\u001b[0m\u001b[0;34m:\u001b[0m\u001b[0;34m\u001b[0m\u001b[0m\n\u001b[0;32m---> 83\u001b[0;31m             \u001b[0mfunc\u001b[0m\u001b[0;34m(\u001b[0m\u001b[0;34m)\u001b[0m\u001b[0;34m\u001b[0m\u001b[0m\n\u001b[0m\u001b[1;32m     84\u001b[0m             \u001b[0;32myield\u001b[0m \u001b[0msenslist\u001b[0m\u001b[0;34m\u001b[0m\u001b[0m\n",
      "\u001b[0;32m<ipython-input-19-9d778a4a99bd>\u001b[0m in \u001b[0;36mlogic\u001b[0;34m()\u001b[0m\n\u001b[1;32m     13\u001b[0m     \u001b[0;34m@\u001b[0m\u001b[0malways_comb\u001b[0m\u001b[0;34m\u001b[0m\u001b[0m\n\u001b[1;32m     14\u001b[0m     \u001b[0;32mdef\u001b[0m \u001b[0mlogic\u001b[0m\u001b[0;34m(\u001b[0m\u001b[0;34m)\u001b[0m\u001b[0;34m:\u001b[0m\u001b[0;34m\u001b[0m\u001b[0m\n\u001b[0;32m---> 15\u001b[0;31m         \u001b[0mSum\u001b[0m\u001b[0;34m.\u001b[0m\u001b[0mnext\u001b[0m\u001b[0;34m=\u001b[0m\u001b[0mx1\u001b[0m \u001b[0;34m^\u001b[0m \u001b[0mx2\u001b[0m \u001b[0;34m^\u001b[0m\u001b[0mc1\u001b[0m\u001b[0;34m\u001b[0m\u001b[0m\n\u001b[0m\u001b[1;32m     16\u001b[0m         \u001b[0mCarry\u001b[0m\u001b[0;34m.\u001b[0m\u001b[0mnext\u001b[0m\u001b[0;34m=\u001b[0m\u001b[0;34m(\u001b[0m\u001b[0mx1\u001b[0m \u001b[0;34m&\u001b[0m \u001b[0mx2\u001b[0m\u001b[0;34m)\u001b[0m \u001b[0;34m|\u001b[0m \u001b[0;34m(\u001b[0m\u001b[0mx1\u001b[0m \u001b[0;34m&\u001b[0m \u001b[0mc1\u001b[0m\u001b[0;34m)\u001b[0m \u001b[0;34m|\u001b[0m \u001b[0;34m(\u001b[0m\u001b[0mx2\u001b[0m \u001b[0;34m&\u001b[0m \u001b[0mc1\u001b[0m\u001b[0;34m)\u001b[0m\u001b[0;34m\u001b[0m\u001b[0m\n\u001b[1;32m     17\u001b[0m     \u001b[0;32mreturn\u001b[0m \u001b[0mlogic\u001b[0m\u001b[0;34m\u001b[0m\u001b[0m\n",
      "\u001b[0;32m~/anaconda3/lib/python3.6/site-packages/myhdl/_Signal.py\u001b[0m in \u001b[0;36m__getitem__\u001b[0;34m(self, key)\u001b[0m\n\u001b[1;32m    363\u001b[0m \u001b[0;34m\u001b[0m\u001b[0m\n\u001b[1;32m    364\u001b[0m     \u001b[0;32mdef\u001b[0m \u001b[0m__getitem__\u001b[0m\u001b[0;34m(\u001b[0m\u001b[0mself\u001b[0m\u001b[0;34m,\u001b[0m \u001b[0mkey\u001b[0m\u001b[0;34m)\u001b[0m\u001b[0;34m:\u001b[0m\u001b[0;34m\u001b[0m\u001b[0m\n\u001b[0;32m--> 365\u001b[0;31m         \u001b[0;32mreturn\u001b[0m \u001b[0mself\u001b[0m\u001b[0;34m.\u001b[0m\u001b[0m_val\u001b[0m\u001b[0;34m[\u001b[0m\u001b[0mkey\u001b[0m\u001b[0;34m]\u001b[0m\u001b[0;34m\u001b[0m\u001b[0m\n\u001b[0m\u001b[1;32m    366\u001b[0m \u001b[0;34m\u001b[0m\u001b[0m\n\u001b[1;32m    367\u001b[0m     \u001b[0;31m# integer-like methods\u001b[0m\u001b[0;34m\u001b[0m\u001b[0;34m\u001b[0m\u001b[0m\n",
      "\u001b[0;31mTypeError\u001b[0m: 'bool' object is not subscriptable"
     ]
    }
   ],
   "source": [
    "Peeker.clear()\n",
    "x1=Signal(bool(0)); Peeker(x1, 'x1')\n",
    "x2=Signal(bool(0)); Peeker(x2, 'x2')\n",
    "c1=Signal(bool(0)); Peeker(c1, 'c1')\n",
    "Sum=Signal(bool(0)); Peeker(Sum, 'Sum')\n",
    "Carry=Signal(bool(0)); Peeker(Carry, 'Carry')\n",
    "\n",
    "DUT=FullAdder(x1, x2, c1, Sum, Carry)\n",
    "\n",
    "def FullAdder_TB():\n",
    "    \n",
    "    @instance\n",
    "    def Stimules():\n",
    "        for _, row in ThreeBitAdderTT.iterrows():\n",
    "            x1.next=row['x1']\n",
    "            x2.next=row['x2']\n",
    "            c1.next=row['c1']\n",
    "            yield delay(1)\n",
    "        raise StopSimulation()\n",
    "    \n",
    "    return instances()\n",
    "\n",
    "sim = Simulation(DUT, HalfAdder_TB(), *Peeker.instances()).run()"
   ]
  },
  {
   "cell_type": "code",
   "execution_count": 22,
   "metadata": {},
   "outputs": [
    {
     "data": {
      "text/html": [
       "<div><script type=\"WaveDrom\">{\"signal\": [{\"name\": \"c1\", \"wave\": \"0\"}, {}, {\"name\": \"x1\", \"wave\": \"0\"}, {}, {\"name\": \"Sum\", \"wave\": \"0\"}, {\"name\": \"Carry\", \"wave\": \"0\"}], \"head\": {\"text\": [\"tspan\", [\"tspan\", {\"fill\": \"blue\", \"font-size\": \"16\", \"font-weight\": \"bold\"}, \"Full Adder Wave Form\"]], \"tock\": 0}, \"foot\": {\"tock\": 0}}</script></div>"
      ]
     },
     "metadata": {},
     "output_type": "display_data"
    },
    {
     "data": {
      "application/javascript": [
       "$.getScript(\"http://wavedrom.com/wavedrom.min.js\", function () {\n",
       "$.getScript(\"http://wavedrom.com/skins/default.js\", function () {\n",
       "WaveDrom.ProcessAll();});\n",
       "});\n"
      ]
     },
     "metadata": {},
     "output_type": "display_data"
    }
   ],
   "source": [
    "Peeker.to_wavedrom('c1 x2 x1 | Sum Carry', title='Full Adder Wave Form', tock=True)"
   ]
  },
  {
   "cell_type": "code",
   "execution_count": 23,
   "metadata": {},
   "outputs": [
    {
     "ename": "KeyError",
     "evalue": "\"['c1, x2'] not in index\"",
     "output_type": "error",
     "traceback": [
      "\u001b[0;31m---------------------------------------------------------------------------\u001b[0m",
      "\u001b[0;31mKeyError\u001b[0m                                  Traceback (most recent call last)",
      "\u001b[0;32m<ipython-input-23-4de6aa39bde7>\u001b[0m in \u001b[0;36m<module>\u001b[0;34m()\u001b[0m\n\u001b[1;32m      1\u001b[0m \u001b[0mFARes\u001b[0m\u001b[0;34m=\u001b[0m\u001b[0mPeeker\u001b[0m\u001b[0;34m.\u001b[0m\u001b[0mto_dataframe\u001b[0m\u001b[0;34m(\u001b[0m\u001b[0;34m)\u001b[0m\u001b[0;34m\u001b[0m\u001b[0m\n\u001b[0;32m----> 2\u001b[0;31m \u001b[0mFARes\u001b[0m\u001b[0;34m=\u001b[0m\u001b[0mFARes\u001b[0m\u001b[0;34m[\u001b[0m\u001b[0;34m[\u001b[0m\u001b[0;34m'c1, x2'\u001b[0m\u001b[0;34m,\u001b[0m\u001b[0;34m'x1'\u001b[0m\u001b[0;34m,\u001b[0m\u001b[0;34m'Sum'\u001b[0m\u001b[0;34m,\u001b[0m \u001b[0;34m'Carry'\u001b[0m\u001b[0;34m]\u001b[0m\u001b[0;34m]\u001b[0m\u001b[0;34m\u001b[0m\u001b[0m\n\u001b[0m\u001b[1;32m      3\u001b[0m \u001b[0mFARes\u001b[0m\u001b[0;34m\u001b[0m\u001b[0m\n",
      "\u001b[0;32m~/anaconda3/lib/python3.6/site-packages/pandas/core/frame.py\u001b[0m in \u001b[0;36m__getitem__\u001b[0;34m(self, key)\u001b[0m\n\u001b[1;32m   2131\u001b[0m         \u001b[0;32mif\u001b[0m \u001b[0misinstance\u001b[0m\u001b[0;34m(\u001b[0m\u001b[0mkey\u001b[0m\u001b[0;34m,\u001b[0m \u001b[0;34m(\u001b[0m\u001b[0mSeries\u001b[0m\u001b[0;34m,\u001b[0m \u001b[0mnp\u001b[0m\u001b[0;34m.\u001b[0m\u001b[0mndarray\u001b[0m\u001b[0;34m,\u001b[0m \u001b[0mIndex\u001b[0m\u001b[0;34m,\u001b[0m \u001b[0mlist\u001b[0m\u001b[0;34m)\u001b[0m\u001b[0;34m)\u001b[0m\u001b[0;34m:\u001b[0m\u001b[0;34m\u001b[0m\u001b[0m\n\u001b[1;32m   2132\u001b[0m             \u001b[0;31m# either boolean or fancy integer index\u001b[0m\u001b[0;34m\u001b[0m\u001b[0;34m\u001b[0m\u001b[0m\n\u001b[0;32m-> 2133\u001b[0;31m             \u001b[0;32mreturn\u001b[0m \u001b[0mself\u001b[0m\u001b[0;34m.\u001b[0m\u001b[0m_getitem_array\u001b[0m\u001b[0;34m(\u001b[0m\u001b[0mkey\u001b[0m\u001b[0;34m)\u001b[0m\u001b[0;34m\u001b[0m\u001b[0m\n\u001b[0m\u001b[1;32m   2134\u001b[0m         \u001b[0;32melif\u001b[0m \u001b[0misinstance\u001b[0m\u001b[0;34m(\u001b[0m\u001b[0mkey\u001b[0m\u001b[0;34m,\u001b[0m \u001b[0mDataFrame\u001b[0m\u001b[0;34m)\u001b[0m\u001b[0;34m:\u001b[0m\u001b[0;34m\u001b[0m\u001b[0m\n\u001b[1;32m   2135\u001b[0m             \u001b[0;32mreturn\u001b[0m \u001b[0mself\u001b[0m\u001b[0;34m.\u001b[0m\u001b[0m_getitem_frame\u001b[0m\u001b[0;34m(\u001b[0m\u001b[0mkey\u001b[0m\u001b[0;34m)\u001b[0m\u001b[0;34m\u001b[0m\u001b[0m\n",
      "\u001b[0;32m~/anaconda3/lib/python3.6/site-packages/pandas/core/frame.py\u001b[0m in \u001b[0;36m_getitem_array\u001b[0;34m(self, key)\u001b[0m\n\u001b[1;32m   2175\u001b[0m             \u001b[0;32mreturn\u001b[0m \u001b[0mself\u001b[0m\u001b[0;34m.\u001b[0m\u001b[0m_take\u001b[0m\u001b[0;34m(\u001b[0m\u001b[0mindexer\u001b[0m\u001b[0;34m,\u001b[0m \u001b[0maxis\u001b[0m\u001b[0;34m=\u001b[0m\u001b[0;36m0\u001b[0m\u001b[0;34m,\u001b[0m \u001b[0mconvert\u001b[0m\u001b[0;34m=\u001b[0m\u001b[0;32mFalse\u001b[0m\u001b[0;34m)\u001b[0m\u001b[0;34m\u001b[0m\u001b[0m\n\u001b[1;32m   2176\u001b[0m         \u001b[0;32melse\u001b[0m\u001b[0;34m:\u001b[0m\u001b[0;34m\u001b[0m\u001b[0m\n\u001b[0;32m-> 2177\u001b[0;31m             \u001b[0mindexer\u001b[0m \u001b[0;34m=\u001b[0m \u001b[0mself\u001b[0m\u001b[0;34m.\u001b[0m\u001b[0mloc\u001b[0m\u001b[0;34m.\u001b[0m\u001b[0m_convert_to_indexer\u001b[0m\u001b[0;34m(\u001b[0m\u001b[0mkey\u001b[0m\u001b[0;34m,\u001b[0m \u001b[0maxis\u001b[0m\u001b[0;34m=\u001b[0m\u001b[0;36m1\u001b[0m\u001b[0;34m)\u001b[0m\u001b[0;34m\u001b[0m\u001b[0m\n\u001b[0m\u001b[1;32m   2178\u001b[0m             \u001b[0;32mreturn\u001b[0m \u001b[0mself\u001b[0m\u001b[0;34m.\u001b[0m\u001b[0m_take\u001b[0m\u001b[0;34m(\u001b[0m\u001b[0mindexer\u001b[0m\u001b[0;34m,\u001b[0m \u001b[0maxis\u001b[0m\u001b[0;34m=\u001b[0m\u001b[0;36m1\u001b[0m\u001b[0;34m,\u001b[0m \u001b[0mconvert\u001b[0m\u001b[0;34m=\u001b[0m\u001b[0;32mTrue\u001b[0m\u001b[0;34m)\u001b[0m\u001b[0;34m\u001b[0m\u001b[0m\n\u001b[1;32m   2179\u001b[0m \u001b[0;34m\u001b[0m\u001b[0m\n",
      "\u001b[0;32m~/anaconda3/lib/python3.6/site-packages/pandas/core/indexing.py\u001b[0m in \u001b[0;36m_convert_to_indexer\u001b[0;34m(self, obj, axis, is_setter)\u001b[0m\n\u001b[1;32m   1267\u001b[0m                 \u001b[0;32mif\u001b[0m \u001b[0mmask\u001b[0m\u001b[0;34m.\u001b[0m\u001b[0many\u001b[0m\u001b[0;34m(\u001b[0m\u001b[0;34m)\u001b[0m\u001b[0;34m:\u001b[0m\u001b[0;34m\u001b[0m\u001b[0m\n\u001b[1;32m   1268\u001b[0m                     raise KeyError('{mask} not in index'\n\u001b[0;32m-> 1269\u001b[0;31m                                    .format(mask=objarr[mask]))\n\u001b[0m\u001b[1;32m   1270\u001b[0m \u001b[0;34m\u001b[0m\u001b[0m\n\u001b[1;32m   1271\u001b[0m                 \u001b[0;32mreturn\u001b[0m \u001b[0m_values_from_object\u001b[0m\u001b[0;34m(\u001b[0m\u001b[0mindexer\u001b[0m\u001b[0;34m)\u001b[0m\u001b[0;34m\u001b[0m\u001b[0m\n",
      "\u001b[0;31mKeyError\u001b[0m: \"['c1, x2'] not in index\""
     ]
    }
   ],
   "source": [
    "FARes=Peeker.to_dataframe()\n",
    "FARes=FARes[['c1, x2','x1','Sum', 'Carry']]\n",
    "FARes"
   ]
  },
  {
   "cell_type": "code",
   "execution_count": 24,
   "metadata": {},
   "outputs": [
    {
     "ename": "ValueError",
     "evalue": "Can only compare identically-labeled DataFrame objects",
     "output_type": "error",
     "traceback": [
      "\u001b[0;31m---------------------------------------------------------------------------\u001b[0m",
      "\u001b[0;31mValueError\u001b[0m                                Traceback (most recent call last)",
      "\u001b[0;32m<ipython-input-24-4311f575f82d>\u001b[0m in \u001b[0;36m<module>\u001b[0;34m()\u001b[0m\n\u001b[0;32m----> 1\u001b[0;31m \u001b[0mThreeBitAdderTT\u001b[0m\u001b[0;34m==\u001b[0m\u001b[0mFARes\u001b[0m\u001b[0;34m\u001b[0m\u001b[0m\n\u001b[0m",
      "\u001b[0;32m~/anaconda3/lib/python3.6/site-packages/pandas/core/ops.py\u001b[0m in \u001b[0;36mf\u001b[0;34m(self, other)\u001b[0m\n\u001b[1;32m   1324\u001b[0m     \u001b[0;32mdef\u001b[0m \u001b[0mf\u001b[0m\u001b[0;34m(\u001b[0m\u001b[0mself\u001b[0m\u001b[0;34m,\u001b[0m \u001b[0mother\u001b[0m\u001b[0;34m)\u001b[0m\u001b[0;34m:\u001b[0m\u001b[0;34m\u001b[0m\u001b[0m\n\u001b[1;32m   1325\u001b[0m         \u001b[0;32mif\u001b[0m \u001b[0misinstance\u001b[0m\u001b[0;34m(\u001b[0m\u001b[0mother\u001b[0m\u001b[0;34m,\u001b[0m \u001b[0mABCDataFrame\u001b[0m\u001b[0;34m)\u001b[0m\u001b[0;34m:\u001b[0m  \u001b[0;31m# Another DataFrame\u001b[0m\u001b[0;34m\u001b[0m\u001b[0m\n\u001b[0;32m-> 1326\u001b[0;31m             \u001b[0;32mreturn\u001b[0m \u001b[0mself\u001b[0m\u001b[0;34m.\u001b[0m\u001b[0m_compare_frame\u001b[0m\u001b[0;34m(\u001b[0m\u001b[0mother\u001b[0m\u001b[0;34m,\u001b[0m \u001b[0mfunc\u001b[0m\u001b[0;34m,\u001b[0m \u001b[0mstr_rep\u001b[0m\u001b[0;34m)\u001b[0m\u001b[0;34m\u001b[0m\u001b[0m\n\u001b[0m\u001b[1;32m   1327\u001b[0m         \u001b[0;32melif\u001b[0m \u001b[0misinstance\u001b[0m\u001b[0;34m(\u001b[0m\u001b[0mother\u001b[0m\u001b[0;34m,\u001b[0m \u001b[0mABCSeries\u001b[0m\u001b[0;34m)\u001b[0m\u001b[0;34m:\u001b[0m\u001b[0;34m\u001b[0m\u001b[0m\n\u001b[1;32m   1328\u001b[0m             \u001b[0;32mreturn\u001b[0m \u001b[0mself\u001b[0m\u001b[0;34m.\u001b[0m\u001b[0m_combine_series_infer\u001b[0m\u001b[0;34m(\u001b[0m\u001b[0mother\u001b[0m\u001b[0;34m,\u001b[0m \u001b[0mfunc\u001b[0m\u001b[0;34m,\u001b[0m \u001b[0mtry_cast\u001b[0m\u001b[0;34m=\u001b[0m\u001b[0;32mFalse\u001b[0m\u001b[0;34m)\u001b[0m\u001b[0;34m\u001b[0m\u001b[0m\n",
      "\u001b[0;32m~/anaconda3/lib/python3.6/site-packages/pandas/core/frame.py\u001b[0m in \u001b[0;36m_compare_frame\u001b[0;34m(self, other, func, str_rep, try_cast)\u001b[0m\n\u001b[1;32m   4015\u001b[0m     \u001b[0;32mdef\u001b[0m \u001b[0m_compare_frame\u001b[0m\u001b[0;34m(\u001b[0m\u001b[0mself\u001b[0m\u001b[0;34m,\u001b[0m \u001b[0mother\u001b[0m\u001b[0;34m,\u001b[0m \u001b[0mfunc\u001b[0m\u001b[0;34m,\u001b[0m \u001b[0mstr_rep\u001b[0m\u001b[0;34m,\u001b[0m \u001b[0mtry_cast\u001b[0m\u001b[0;34m=\u001b[0m\u001b[0;32mTrue\u001b[0m\u001b[0;34m)\u001b[0m\u001b[0;34m:\u001b[0m\u001b[0;34m\u001b[0m\u001b[0m\n\u001b[1;32m   4016\u001b[0m         \u001b[0;32mif\u001b[0m \u001b[0;32mnot\u001b[0m \u001b[0mself\u001b[0m\u001b[0;34m.\u001b[0m\u001b[0m_indexed_same\u001b[0m\u001b[0;34m(\u001b[0m\u001b[0mother\u001b[0m\u001b[0;34m)\u001b[0m\u001b[0;34m:\u001b[0m\u001b[0;34m\u001b[0m\u001b[0m\n\u001b[0;32m-> 4017\u001b[0;31m             raise ValueError('Can only compare identically-labeled '\n\u001b[0m\u001b[1;32m   4018\u001b[0m                              'DataFrame objects')\n\u001b[1;32m   4019\u001b[0m         return self._compare_frame_evaluate(other, func, str_rep,\n",
      "\u001b[0;31mValueError\u001b[0m: Can only compare identically-labeled DataFrame objects"
     ]
    }
   ],
   "source": [
    "ThreeBitAdderTT==FARes"
   ]
  },
  {
   "cell_type": "code",
   "execution_count": 25,
   "metadata": {},
   "outputs": [
    {
     "name": "stdout",
     "output_type": "stream",
     "text": [
      "***Verilog modual from FullAdder.v***\n",
      "\n",
      " // File: FullAdder.v\n",
      "// Generated by MyHDL 0.10\n",
      "// Date: Fri Jun 29 23:15:35 2018\n",
      "\n",
      "\n",
      "`timescale 1ns/10ps\n",
      "\n",
      "module FullAdder (\n",
      "    x1,\n",
      "    x2,\n",
      "    c1,\n",
      "    Sum,\n",
      "    Carry\n",
      ");\n",
      "// Full adder in myHDL\n",
      "// I/O:\n",
      "//     x1 (bool): x1 input\n",
      "//     x2 (bool): x2 input\n",
      "//     c1 (bool): carry input\n",
      "//     Sum (bool): the sum Full Adder ouput\n",
      "//     Carry (bool): the carry Full Adder ouput\n",
      "\n",
      "input x1;\n",
      "input x2;\n",
      "input c1;\n",
      "output Sum;\n",
      "wire Sum;\n",
      "output Carry;\n",
      "wire Carry;\n",
      "\n",
      "\n",
      "\n",
      "\n",
      "\n",
      "assign Sum = ((x1 ^ x2) ^ c1);\n",
      "assign Carry = (((x1 & x2) | (x1 & c1)) | (x2 & c1));\n",
      "\n",
      "endmodule\n",
      "\n"
     ]
    }
   ],
   "source": [
    "DUT.convert()\n",
    "VerilogTextReader('FullAdder');"
   ]
  },
  {
   "cell_type": "markdown",
   "metadata": {},
   "source": [
    "**FullAdder RTL**\n",
    "<img src='FullAdderRTL.png'>\n",
    "**FullAdder Synthesis**\n",
    "<img src='FullAdderSynth.png'>"
   ]
  },
  {
   "cell_type": "code",
   "execution_count": 27,
   "metadata": {},
   "outputs": [
    {
     "name": "stdout",
     "output_type": "stream",
     "text": [
      "<class 'myhdl._Signal._Signal'> <class '_ast.Name'>\n",
      "<class 'myhdl._Signal._Signal'> <class '_ast.Name'>\n",
      "<class 'myhdl._Signal._Signal'> <class '_ast.Name'>\n",
      "<class 'myhdl._Signal._Signal'> <class '_ast.Name'>\n",
      "<class 'myhdl._Signal._Signal'> <class '_ast.Name'>\n",
      "***Verilog modual from FullAdder_TBV.v***\n",
      "\n",
      " // File: FullAdder_TBV.v\n",
      "// Generated by MyHDL 0.10\n",
      "// Date: Fri Jun 29 23:24:09 2018\n",
      "\n",
      "\n",
      "`timescale 1ns/10ps\n",
      "\n",
      "module FullAdder_TBV (\n",
      "\n",
      ");\n",
      "// Full Adder Testbench for use in Verilog\n",
      "\n",
      "\n",
      "wire Sum;\n",
      "reg x1 = 0;\n",
      "reg x2 = 0;\n",
      "wire Carry;\n",
      "reg c1 = 0;\n",
      "wire [3:0] testx1;\n",
      "wire [3:0] testx2;\n",
      "wire [3:0] testc1;\n",
      "\n",
      "assign testx1 = 4'd5;\n",
      "assign testx2 = 4'd3;\n",
      "assign testc1 = 4'd15;\n",
      "\n",
      "\n",
      "\n",
      "assign Sum = ((x1 ^ x2) ^ c1);\n",
      "assign Carry = (((x1 & x2) | (x1 & c1)) | (x2 & c1));\n",
      "\n",
      "\n",
      "initial begin: FULLADDER_TBV_STIMULUS\n",
      "    integer i;\n",
      "    for (i=0; i<4; i=i+1) begin\n",
      "        x1 <= testx1[i];\n",
      "        x2 <= testx2[i];\n",
      "        c1 <= testc1[i];\n",
      "        # 1;\n",
      "    end\n",
      "    $finish;\n",
      "end\n",
      "\n",
      "\n",
      "always @(Carry, x1, c1, x2, Sum) begin: FULLADDER_TBV_PRINT_DATA\n",
      "    $write(\"%h\", x1);\n",
      "    $write(\" \");\n",
      "    $write(\"%h\", x2);\n",
      "    $write(\" \");\n",
      "    $write(\"%h\", c1);\n",
      "    $write(\" \");\n",
      "    $write(\"%h\", Sum);\n",
      "    $write(\" \");\n",
      "    $write(\"%h\", Carry);\n",
      "    $write(\"\\n\");\n",
      "end\n",
      "\n",
      "endmodule\n",
      "\n"
     ]
    },
    {
     "name": "stderr",
     "output_type": "stream",
     "text": [
      "/home/iridium/anaconda3/lib/python3.6/site-packages/myhdl/conversion/_toVerilog.py:349: ToVerilogWarning: Signal is not driven: testx1\n",
      "  category=ToVerilogWarning\n",
      "/home/iridium/anaconda3/lib/python3.6/site-packages/myhdl/conversion/_toVerilog.py:349: ToVerilogWarning: Signal is not driven: testx2\n",
      "  category=ToVerilogWarning\n",
      "/home/iridium/anaconda3/lib/python3.6/site-packages/myhdl/conversion/_toVerilog.py:349: ToVerilogWarning: Signal is not driven: testc1\n",
      "  category=ToVerilogWarning\n"
     ]
    }
   ],
   "source": [
    "@block\n",
    "def FullAdder_TBV():\n",
    "    \"\"\"\n",
    "    Full Adder Testbench for use in Verilog\n",
    "    \"\"\"\n",
    "    x1=Signal(bool(0))\n",
    "    x2=Signal(bool(0))\n",
    "    c1=Signal(bool(0))\n",
    "    Sum=Signal(bool(0))\n",
    "    Carry=Signal(bool(0))\n",
    "    \n",
    "    DUT = FullAdder(x1, x2, c1, Sum, Carry)\n",
    "\n",
    "    testx1=Signal(intbv(int(\"\".join([str(i) for i in ThreeBitAdderTT['x1'].tolist()]), 2))[4:])\n",
    "    testx2=Signal(intbv(int(\"\".join([str(i) for i in ThreeBitAdderTT['x2'].tolist()]), 2))[4:])\n",
    "    testc1=Signal(intbv(int(\"\".join([str(i) for i in ThreeBitAdderTT['c1'].tolist()]), 2))[4:])\n",
    "\n",
    "    \n",
    "    \n",
    "    @instance\n",
    "    def Stimulus():\n",
    "        for i in range(len(testx1)):\n",
    "            x1.next=testx1[i]\n",
    "            x2.next=testx2[i]\n",
    "            c1.next=testc1[i]\n",
    "            yield delay(1)\n",
    "            \n",
    "        raise StopSimulation()\n",
    "    \n",
    "    @always_comb\n",
    "    def print_data():\n",
    "        print(x1, x2, c1, Sum, Carry)\n",
    "    \n",
    "    return instances()\n",
    "\n",
    "\n",
    "# create instaince of TB\n",
    "TB = FullAdder_TBV()\n",
    "# convert to verilog with reintilzed values\n",
    "TB.convert(hdl=\"verilog\", initial_values=True)\n",
    "VerilogTextReader('FullAdder_TBV');"
   ]
  },
  {
   "cell_type": "markdown",
   "metadata": {},
   "source": [
    "Where the above warning can be ignored since we are using `testx1`, `testx2`, and `testc1` as stores for the binay set of inputs to apply to `x1`, `x2`, and `c1`"
   ]
  },
  {
   "cell_type": "code",
   "execution_count": null,
   "metadata": {},
   "outputs": [],
   "source": []
  }
 ],
 "metadata": {
  "author": "Digital Arithmetic Cells with myHDL",
  "hide_input": false,
  "kernelspec": {
   "display_name": "Python 3",
   "language": "python",
   "name": "python3"
  },
  "language_info": {
   "codemirror_mode": {
    "name": "ipython",
    "version": 3
   },
   "file_extension": ".py",
   "mimetype": "text/x-python",
   "name": "python",
   "nbconvert_exporter": "python",
   "pygments_lexer": "ipython3",
   "version": "3.6.5"
  },
  "latex_envs": {
   "LaTeX_envs_menu_present": true,
   "autoclose": false,
   "autocomplete": true,
   "bibliofile": "biblio.bib",
   "cite_by": "apalike",
   "current_citInitial": 1,
   "eqLabelWithNumbers": true,
   "eqNumInitial": 1,
   "hotkeys": {
    "equation": "Ctrl-E",
    "itemize": "Ctrl-I"
   },
   "labels_anchors": false,
   "latex_user_defs": false,
   "report_style_numbering": false,
   "user_envs_cfg": false
  },
  "nbTranslate": {
   "displayLangs": [
    "*"
   ],
   "hotkey": "alt-t",
   "langInMainMenu": true,
   "sourceLang": "fr",
   "targetLang": "en",
   "useGoogleTranslate": true
  },
  "toc": {
   "base_numbering": 1,
   "nav_menu": {
    "height": "30px",
    "width": "252px"
   },
   "number_sections": true,
   "sideBar": true,
   "skip_h1_title": false,
   "title_cell": "Table of Contents",
   "title_sidebar": "Contents",
   "toc_cell": true,
   "toc_position": {},
   "toc_section_display": "block",
   "toc_window_display": false
  }
 },
 "nbformat": 4,
 "nbformat_minor": 2
}
