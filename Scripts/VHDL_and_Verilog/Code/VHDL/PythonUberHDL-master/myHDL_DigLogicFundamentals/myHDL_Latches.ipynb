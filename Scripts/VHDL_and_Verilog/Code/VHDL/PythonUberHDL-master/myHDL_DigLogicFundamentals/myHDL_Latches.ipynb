{
 "cells": [
  {
   "cell_type": "markdown",
   "metadata": {},
   "source": [
    "\\title{Digital Latches with myHDL}\n",
    "\\author{Steven K Armour}\n",
    "\\maketitle"
   ]
  },
  {
   "cell_type": "markdown",
   "metadata": {},
   "source": [
    "# Refs\n",
    "@book{brown_vranesic_2014, place={New York, NY}, edition={3}, title={Fundamentals of digital logic with Verilog design}, publisher={McGraw-Hill}, author={Brown, Stephen and Vranesic, Zvonko G}, year={2014} },\n",
    "@book{lameres_2017, title={Introduction to logic circuits & logic design with Verilog}, publisher={springer}, author={LaMeres, Brock J}, year={2017} }"
   ]
  },
  {
   "cell_type": "markdown",
   "metadata": {},
   "source": [
    "# Acknowledgments\n",
    "\n",
    "Author of **myHDL** [Jan Decaluwe](http://www.myhdl.org/users/jandecaluwe.html) and the author of the **myHDL Peeker** [XESS Corp.](https://github.com/xesscorp/myhdlpeek)\n",
    "\n",
    "[**Draw.io**](https://www.draw.io/)\n",
    "\n",
    "**Xilinx**"
   ]
  },
  {
   "cell_type": "markdown",
   "metadata": {},
   "source": [
    "# Python Libraries Utilized"
   ]
  },
  {
   "cell_type": "code",
   "execution_count": 1,
   "metadata": {
    "collapsed": true
   },
   "outputs": [],
   "source": [
    "import numpy as np\n",
    "import pandas as pd\n",
    "from sympy import *\n",
    "init_printing()\n",
    "\n",
    "from myhdl import *\n",
    "from myhdlpeek import *\n",
    "import random\n",
    "\n",
    "#python file of convince tools. Should be located with this notebook\n",
    "from sympy_myhdl_tools import *"
   ]
  },
  {
   "cell_type": "markdown",
   "metadata": {},
   "source": [
    "# Latches vs Flip-Flops\n",
    "\n",
    "Latches and Flip-Flops are both metastaple logic circuit tobologies in that once loaded with a state they hold that state information till that state is upset by a new state or a reset command. But the diffrance between the two is that Flip-Flops are clock controlled devices built upon Latches where as Latches are not clock dependent"
   ]
  },
  {
   "cell_type": "markdown",
   "metadata": {},
   "source": [
    "# SR-Latch"
   ]
  },
  {
   "cell_type": "markdown",
   "metadata": {},
   "source": [
    "## Symbol and Internals\n",
    "The Symbol for a SR-Latch and one representation of it's internals is shown below\n",
    "<img style=\"float: center;\" src=\"SRLatchSymbolInternal.jpg\">"
   ]
  },
  {
   "cell_type": "markdown",
   "metadata": {},
   "source": [
    "## Definition"
   ]
  },
  {
   "cell_type": "markdown",
   "metadata": {},
   "source": [
    "## State Diagram"
   ]
  },
  {
   "cell_type": "markdown",
   "metadata": {},
   "source": [
    "## myHDL SR-Latch Gate and Testing\n"
   ]
  },
  {
   "cell_type": "markdown",
   "metadata": {},
   "source": [
    "Need Help Getting this Latch via Combo Cirucits working geting  AlwayCombError in using out signal as argument in out signals next state out"
   ]
  },
  {
   "cell_type": "raw",
   "metadata": {},
   "source": [
    "def LatchCombo(S_in, rst, Q_out):\n",
    "    \n",
    "\n",
    "    @always_comb\n",
    "    def logic():\n",
    "        Q_out.next=(not rst) and (S_in or Q_out)\n",
    "    return logic"
   ]
  },
  {
   "cell_type": "raw",
   "metadata": {},
   "source": [
    "Peeker.clear()\n",
    "S_in, rst, Q_out=[Signal(bool(0)) for _ in range(3)]\n",
    "Peeker(S_in, 'S_in'); Peeker(rst, 'rst')\n",
    "Peeker(Q_out, 'Q_out')\n",
    "\n",
    "DUT=LatchCombo(S_in=S_in, rst=rst, Q_out=Q_out)\n",
    "\n",
    "inputs=[S_in, rst]\n",
    "sim=Simulation(DUT, Combo_TB(inputs), *Peeker.instances()).run()        \n",
    "Peeker.to_wavedrom(start_time=0, stop_time=2*2**len(inputs), tock=True,\n",
    "                  title='AND 2 gate simulation',\n",
    "                  caption=f'after clock cycle {2**len(inputs)-1} ->random input')"
   ]
  },
  {
   "cell_type": "code",
   "execution_count": null,
   "metadata": {
    "collapsed": true
   },
   "outputs": [],
   "source": []
  },
  {
   "cell_type": "markdown",
   "metadata": {},
   "source": [
    "## myHDL SR-Latch Behavioral and Testing"
   ]
  },
  {
   "cell_type": "code",
   "execution_count": 2,
   "metadata": {
    "collapsed": true
   },
   "outputs": [],
   "source": [
    "def SRLatch(S_in, rst, Q_out, Qn_out):\n",
    "    @always_comb\n",
    "    def logic():\n",
    "        if S_in and rst==0:\n",
    "            Q_out.next=1\n",
    "            Qn_out.next=0\n",
    "        \n",
    "        elif S_in==0 and rst:\n",
    "            Q_out.next=0\n",
    "            Qn_out.next=1\n",
    "\n",
    "        elif S_in and rst:\n",
    "            Q_out.next=0\n",
    "            Qn_out.next=0\n",
    "\n",
    "    return logic"
   ]
  },
  {
   "cell_type": "code",
   "execution_count": 3,
   "metadata": {},
   "outputs": [
    {
     "name": "stderr",
     "output_type": "stream",
     "text": [
      "<class 'myhdl.StopSimulation'>: No more events\n"
     ]
    },
    {
     "data": {
      "text/html": [
       "<div><script type=\"WaveDrom\">{\"signal\": [{\"name\": \"S_in\", \"wave\": \"0.1.01...\"}, {\"name\": \"rst\", \"wave\": \"01010.1..\"}, {\"name\": \"Q_out[0]\", \"wave\": \"0.10.10..\"}, {\"name\": \"Qn_out[0]\", \"wave\": \"010......\"}], \"head\": {\"text\": [\"tspan\", [\"tspan\", {\"fill\": \"blue\", \"font-size\": \"16\", \"font-weight\": \"bold\"}, \"SRLatch Behavioral simulation\"]], \"tock\": 0}, \"foot\": {\"text\": [\"tspan\", [\"tspan\", {\"font-style\": \"italic\"}, \"after clock cycle 3 ->random input\"]], \"tock\": 0}}</script></div>"
      ]
     },
     "metadata": {},
     "output_type": "display_data"
    },
    {
     "data": {
      "application/javascript": [
       "$.getScript(\"http://wavedrom.com/wavedrom.min.js\", function () {\n",
       "$.getScript(\"http://wavedrom.com/skins/default.js\", function () {\n",
       "WaveDrom.ProcessAll();});\n",
       "});\n"
      ]
     },
     "metadata": {},
     "output_type": "display_data"
    }
   ],
   "source": [
    "S_in, rst, Q_out, Qn_out=[Signal(bool(0)) for _ in range(4)]\n",
    "Peeker.clear()\n",
    "\n",
    "Peeker(S_in, 'S_in'); Peeker(rst, 'rst')\n",
    "Peeker(Q_out, 'Q_out'); Peeker(Qn_out, 'Qn_out')\n",
    "\n",
    "DUT=SRLatch(S_in=S_in, rst=rst, Q_out=Q_out, Qn_out=Qn_out)\n",
    "inputs=[S_in, rst]\n",
    "sim=Simulation(DUT, Combo_TB(inputs), *Peeker.instances()).run()        \n",
    "Peeker.to_wavedrom(start_time=0, stop_time=2*2**len(inputs), tock=True,\n",
    "                  title='SRLatch Behavioral simulation',\n",
    "                  caption=f'after clock cycle {2**len(inputs)-1} ->random input')\n"
   ]
  },
  {
   "cell_type": "code",
   "execution_count": 4,
   "metadata": {},
   "outputs": [
    {
     "data": {
      "text/html": [
       "<div>\n",
       "<style>\n",
       "    .dataframe thead tr:only-child th {\n",
       "        text-align: right;\n",
       "    }\n",
       "\n",
       "    .dataframe thead th {\n",
       "        text-align: left;\n",
       "    }\n",
       "\n",
       "    .dataframe tbody tr th {\n",
       "        vertical-align: top;\n",
       "    }\n",
       "</style>\n",
       "<table border=\"1\" class=\"dataframe\">\n",
       "  <thead>\n",
       "    <tr style=\"text-align: right;\">\n",
       "      <th></th>\n",
       "      <th>Q_out</th>\n",
       "      <th>Qn_out</th>\n",
       "      <th>S_in</th>\n",
       "      <th>rst</th>\n",
       "    </tr>\n",
       "  </thead>\n",
       "  <tbody>\n",
       "    <tr>\n",
       "      <th>0</th>\n",
       "      <td>0</td>\n",
       "      <td>0</td>\n",
       "      <td>0</td>\n",
       "      <td>0</td>\n",
       "    </tr>\n",
       "    <tr>\n",
       "      <th>1</th>\n",
       "      <td>0</td>\n",
       "      <td>1</td>\n",
       "      <td>0</td>\n",
       "      <td>1</td>\n",
       "    </tr>\n",
       "    <tr>\n",
       "      <th>2</th>\n",
       "      <td>1</td>\n",
       "      <td>0</td>\n",
       "      <td>1</td>\n",
       "      <td>0</td>\n",
       "    </tr>\n",
       "    <tr>\n",
       "      <th>3</th>\n",
       "      <td>0</td>\n",
       "      <td>0</td>\n",
       "      <td>1</td>\n",
       "      <td>1</td>\n",
       "    </tr>\n",
       "  </tbody>\n",
       "</table>\n",
       "</div>"
      ],
      "text/plain": [
       "  Q_out Qn_out S_in rst\n",
       "0     0      0    0   0\n",
       "1     0      1    0   1\n",
       "2     1      0    1   0\n",
       "3     0      0    1   1"
      ]
     },
     "execution_count": 4,
     "metadata": {},
     "output_type": "execute_result"
    }
   ],
   "source": [
    "MakeDFfromPeeker(Peeker.to_wavejson(start_time=0, stop_time=2**len(inputs) -1))"
   ]
  },
  {
   "cell_type": "markdown",
   "metadata": {},
   "source": [
    "## myHDL SR-Latch Behavioral HDL Synthesis"
   ]
  },
  {
   "cell_type": "code",
   "execution_count": 5,
   "metadata": {},
   "outputs": [
    {
     "name": "stdout",
     "output_type": "stream",
     "text": [
      "***Verilog modual from SRLatch.v***\n",
      "\n",
      " // File: SRLatch.v\n",
      "// Generated by MyHDL 0.9.0\n",
      "// Date: Thu Oct 26 00:40:43 2017\n",
      "\n",
      "\n",
      "`timescale 1ns/10ps\n",
      "\n",
      "module SRLatch (\n",
      "    S_in,\n",
      "    rst,\n",
      "    Q_out,\n",
      "    Qn_out\n",
      ");\n",
      "\n",
      "\n",
      "input S_in;\n",
      "input rst;\n",
      "output Q_out;\n",
      "reg Q_out;\n",
      "output Qn_out;\n",
      "reg Qn_out;\n",
      "\n",
      "\n",
      "\n",
      "\n",
      "\n",
      "\n",
      "always @(rst, S_in) begin: SRLATCH_LOGIC\n",
      "    if ((S_in && (rst == 0))) begin\n",
      "        Q_out = 1;\n",
      "        Qn_out = 0;\n",
      "    end\n",
      "    else if (((S_in == 0) && rst)) begin\n",
      "        Q_out = 0;\n",
      "        Qn_out = 1;\n",
      "    end\n",
      "    else if ((S_in && rst)) begin\n",
      "        Q_out = 0;\n",
      "        Qn_out = 0;\n",
      "    end\n",
      "end\n",
      "\n",
      "endmodule\n",
      "\n"
     ]
    }
   ],
   "source": [
    "toVerilog(SRLatch, S_in, rst, Q_out, Qn_out)\n",
    "#toVHDL(SRLatch, S_in, rst, Q_out, Qn_out)\n",
    "_=VerilogTextReader('SRLatch')"
   ]
  },
  {
   "cell_type": "markdown",
   "metadata": {
    "collapsed": true
   },
   "source": [
    "The following shows the **Xilinx**'s _Vivado 2016.1_ RTL generated schematic of our Behaviorla SRLatch from the synthesised verilog code. We can see that the systhizied version is quite apstract from fig lakdfjkaj. \n",
    "<img style=\"float: center;\" src=\"SRLatchBehaviroalRTLSch.PNG\">"
   ]
  },
  {
   "cell_type": "markdown",
   "metadata": {},
   "source": [
    "# Gated SR-Latch"
   ]
  },
  {
   "cell_type": "markdown",
   "metadata": {},
   "source": [
    "## myHDL SR-Latch Behavioral and Testing"
   ]
  },
  {
   "cell_type": "code",
   "execution_count": 6,
   "metadata": {
    "collapsed": true
   },
   "outputs": [],
   "source": [
    "def GSRLatch(S_in, rst, ena, Q_out, Qn_out):\n",
    "    @always_comb\n",
    "    def logic():\n",
    "        if ena:\n",
    "            if S_in and rst==0:\n",
    "                Q_out.next=1\n",
    "                Qn_out.next=0\n",
    "\n",
    "            elif S_in==0 and rst:\n",
    "                Q_out.next=0\n",
    "                Qn_out.next=1\n",
    "\n",
    "            elif S_in and rst:\n",
    "                Q_out.next=0\n",
    "                Qn_out.next=0\n",
    "        else:\n",
    "            pass\n",
    "\n",
    "    return logic"
   ]
  },
  {
   "cell_type": "code",
   "execution_count": 7,
   "metadata": {},
   "outputs": [
    {
     "name": "stderr",
     "output_type": "stream",
     "text": [
      "<class 'myhdl.StopSimulation'>: No more events\n"
     ]
    },
    {
     "data": {
      "text/html": [
       "<div><script type=\"WaveDrom\">{\"signal\": [{\"name\": \"Q_out\", \"wave\": \"0....1.0.........\"}, {\"name\": \"Qn_out\", \"wave\": \"0..1.0...........\"}, {\"name\": \"S_in\", \"wave\": \"0...1...01..0....\"}, {\"name\": \"ena\", \"wave\": \"01010101.010.10..\"}, {\"name\": \"rst[0]\", \"wave\": \"0.1.0.1.01.0101..\"}], \"head\": {\"text\": [\"tspan\", [\"tspan\", {\"fill\": \"blue\", \"font-size\": \"16\", \"font-weight\": \"bold\"}, \"GSRLatch Behavioral simulation\"]], \"tock\": 0}, \"foot\": {\"text\": [\"tspan\", [\"tspan\", {\"font-style\": \"italic\"}, \"after clock cycle 7 ->random input\"]], \"tock\": 0}}</script></div>"
      ]
     },
     "metadata": {},
     "output_type": "display_data"
    },
    {
     "data": {
      "application/javascript": [
       "$.getScript(\"http://wavedrom.com/wavedrom.min.js\", function () {\n",
       "$.getScript(\"http://wavedrom.com/skins/default.js\", function () {\n",
       "WaveDrom.ProcessAll();});\n",
       "});\n"
      ]
     },
     "metadata": {},
     "output_type": "display_data"
    }
   ],
   "source": [
    "S_in, rst, ena, Q_out, Qn_out=[Signal(bool(0)) for _ in range(5)]\n",
    "Peeker.clear()\n",
    "\n",
    "Peeker(S_in, 'S_in'); Peeker(rst, 'rst'); Peeker(ena, 'ena')\n",
    "Peeker(Q_out, 'Q_out'); Peeker(Qn_out, 'Qn_out')\n",
    "\n",
    "DUT=GSRLatch(S_in=S_in, rst=rst, ena=ena, Q_out=Q_out, Qn_out=Qn_out)\n",
    "inputs=[S_in, rst, ena]\n",
    "sim=Simulation(DUT, Combo_TB(inputs), *Peeker.instances()).run()        \n",
    "Peeker.to_wavedrom(start_time=0, stop_time=2*2**len(inputs), tock=True,\n",
    "                  title='GSRLatch Behavioral simulation',\n",
    "                  caption=f'after clock cycle {2**len(inputs)-1} ->random input')\n"
   ]
  },
  {
   "cell_type": "code",
   "execution_count": 8,
   "metadata": {},
   "outputs": [
    {
     "data": {
      "text/html": [
       "<div>\n",
       "<style>\n",
       "    .dataframe thead tr:only-child th {\n",
       "        text-align: right;\n",
       "    }\n",
       "\n",
       "    .dataframe thead th {\n",
       "        text-align: left;\n",
       "    }\n",
       "\n",
       "    .dataframe tbody tr th {\n",
       "        vertical-align: top;\n",
       "    }\n",
       "</style>\n",
       "<table border=\"1\" class=\"dataframe\">\n",
       "  <thead>\n",
       "    <tr style=\"text-align: right;\">\n",
       "      <th></th>\n",
       "      <th>Q_out</th>\n",
       "      <th>Qn_out</th>\n",
       "      <th>S_in</th>\n",
       "      <th>ena</th>\n",
       "      <th>rst</th>\n",
       "    </tr>\n",
       "  </thead>\n",
       "  <tbody>\n",
       "    <tr>\n",
       "      <th>0</th>\n",
       "      <td>0</td>\n",
       "      <td>0</td>\n",
       "      <td>0</td>\n",
       "      <td>0</td>\n",
       "      <td>0</td>\n",
       "    </tr>\n",
       "    <tr>\n",
       "      <th>1</th>\n",
       "      <td>0</td>\n",
       "      <td>0</td>\n",
       "      <td>0</td>\n",
       "      <td>1</td>\n",
       "      <td>0</td>\n",
       "    </tr>\n",
       "    <tr>\n",
       "      <th>2</th>\n",
       "      <td>0</td>\n",
       "      <td>0</td>\n",
       "      <td>0</td>\n",
       "      <td>0</td>\n",
       "      <td>1</td>\n",
       "    </tr>\n",
       "    <tr>\n",
       "      <th>3</th>\n",
       "      <td>0</td>\n",
       "      <td>1</td>\n",
       "      <td>0</td>\n",
       "      <td>1</td>\n",
       "      <td>1</td>\n",
       "    </tr>\n",
       "    <tr>\n",
       "      <th>4</th>\n",
       "      <td>0</td>\n",
       "      <td>1</td>\n",
       "      <td>1</td>\n",
       "      <td>0</td>\n",
       "      <td>0</td>\n",
       "    </tr>\n",
       "    <tr>\n",
       "      <th>5</th>\n",
       "      <td>1</td>\n",
       "      <td>0</td>\n",
       "      <td>1</td>\n",
       "      <td>1</td>\n",
       "      <td>0</td>\n",
       "    </tr>\n",
       "    <tr>\n",
       "      <th>6</th>\n",
       "      <td>1</td>\n",
       "      <td>0</td>\n",
       "      <td>1</td>\n",
       "      <td>0</td>\n",
       "      <td>1</td>\n",
       "    </tr>\n",
       "    <tr>\n",
       "      <th>7</th>\n",
       "      <td>0</td>\n",
       "      <td>0</td>\n",
       "      <td>1</td>\n",
       "      <td>1</td>\n",
       "      <td>1</td>\n",
       "    </tr>\n",
       "  </tbody>\n",
       "</table>\n",
       "</div>"
      ],
      "text/plain": [
       "  Q_out Qn_out S_in ena rst\n",
       "0     0      0    0   0   0\n",
       "1     0      0    0   1   0\n",
       "2     0      0    0   0   1\n",
       "3     0      1    0   1   1\n",
       "4     0      1    1   0   0\n",
       "5     1      0    1   1   0\n",
       "6     1      0    1   0   1\n",
       "7     0      0    1   1   1"
      ]
     },
     "execution_count": 8,
     "metadata": {},
     "output_type": "execute_result"
    }
   ],
   "source": [
    "MakeDFfromPeeker(Peeker.to_wavejson(start_time=0, stop_time=2**len(inputs) -1))"
   ]
  },
  {
   "cell_type": "markdown",
   "metadata": {},
   "source": [
    "## myHDL SR-Latch Behavioral HDL Synthesis"
   ]
  },
  {
   "cell_type": "code",
   "execution_count": 9,
   "metadata": {},
   "outputs": [
    {
     "name": "stdout",
     "output_type": "stream",
     "text": [
      "***Verilog modual from GSRLatch.v***\n",
      "\n",
      " // File: GSRLatch.v\n",
      "// Generated by MyHDL 0.9.0\n",
      "// Date: Thu Oct 26 00:40:44 2017\n",
      "\n",
      "\n",
      "`timescale 1ns/10ps\n",
      "\n",
      "module GSRLatch (\n",
      "    S_in,\n",
      "    rst,\n",
      "    ena,\n",
      "    Q_out,\n",
      "    Qn_out\n",
      ");\n",
      "\n",
      "\n",
      "input S_in;\n",
      "input rst;\n",
      "input ena;\n",
      "output Q_out;\n",
      "reg Q_out;\n",
      "output Qn_out;\n",
      "reg Qn_out;\n",
      "\n",
      "\n",
      "\n",
      "\n",
      "\n",
      "\n",
      "always @(ena, S_in, rst) begin: GSRLATCH_LOGIC\n",
      "    if (ena) begin\n",
      "        if ((S_in && (rst == 0))) begin\n",
      "            Q_out = 1;\n",
      "            Qn_out = 0;\n",
      "        end\n",
      "        else if (((S_in == 0) && rst)) begin\n",
      "            Q_out = 0;\n",
      "            Qn_out = 1;\n",
      "        end\n",
      "        else if ((S_in && rst)) begin\n",
      "            Q_out = 0;\n",
      "            Qn_out = 0;\n",
      "        end\n",
      "    end\n",
      "    else begin\n",
      "        // pass\n",
      "    end\n",
      "end\n",
      "\n",
      "endmodule\n",
      "\n"
     ]
    }
   ],
   "source": [
    "toVerilog(GSRLatch, S_in, rst, ena, Q_out, Qn_out)\n",
    "#toVHDL(GSRLatch, S_in, rst,ena, Q_out, Qn_out)\n",
    "_=VerilogTextReader('GSRLatch')"
   ]
  },
  {
   "cell_type": "markdown",
   "metadata": {},
   "source": [
    "The following shows the **Xilinx**'s _Vivado 2016.1_ RTL generated schematic of our Behaviorla Gated SRLatch from the synthesised verilog code. We can see that the systhizied version is quite apstract from fig lakdfjkaj. \n",
    "<img style=\"float: center;\" src=\"GSRLatchBehaviroalRTLSch.PNG\">"
   ]
  },
  {
   "cell_type": "markdown",
   "metadata": {},
   "source": [
    "# D-Latch"
   ]
  },
  {
   "cell_type": "markdown",
   "metadata": {},
   "source": [
    "## myHDL Behavioral D-Latch and Testing"
   ]
  },
  {
   "cell_type": "code",
   "execution_count": 10,
   "metadata": {
    "collapsed": true
   },
   "outputs": [],
   "source": [
    "def DLatch(D_in, ena, Q_out, Qn_out):\n",
    "    #Normal Qn_out is not specifed since a not gate is so easily implimented\n",
    "    @always_comb\n",
    "    def logic():\n",
    "        if ena:\n",
    "            Q_out.next=D_in\n",
    "            Qn_out.next=not D_in\n",
    "    return logic"
   ]
  },
  {
   "cell_type": "code",
   "execution_count": 11,
   "metadata": {},
   "outputs": [
    {
     "name": "stderr",
     "output_type": "stream",
     "text": [
      "<class 'myhdl.StopSimulation'>: No more events\n"
     ]
    },
    {
     "data": {
      "text/html": [
       "<div><script type=\"WaveDrom\">{\"signal\": [{\"name\": \"D_in\", \"wave\": \"0.1...01.\"}, {\"name\": \"ena\", \"wave\": \"0101..0..\"}, {\"name\": \"Q_out[0]\", \"wave\": \"0..1.....\"}, {\"name\": \"Qn_out[0]\", \"wave\": \"01.0.....\"}], \"head\": {\"text\": [\"tspan\", [\"tspan\", {\"fill\": \"blue\", \"font-size\": \"16\", \"font-weight\": \"bold\"}, \"DLatch Behavioral simulation\"]], \"tock\": 0}, \"foot\": {\"text\": [\"tspan\", [\"tspan\", {\"font-style\": \"italic\"}, \"after clock cycle 3 ->random input\"]], \"tock\": 0}}</script></div>"
      ]
     },
     "metadata": {},
     "output_type": "display_data"
    },
    {
     "data": {
      "application/javascript": [
       "$.getScript(\"http://wavedrom.com/wavedrom.min.js\", function () {\n",
       "$.getScript(\"http://wavedrom.com/skins/default.js\", function () {\n",
       "WaveDrom.ProcessAll();});\n",
       "});\n"
      ]
     },
     "metadata": {},
     "output_type": "display_data"
    }
   ],
   "source": [
    "D_in, ena, Q_out, Qn_out=[Signal(bool(0)) for _ in range(4)]\n",
    "\n",
    "Peeker.clear()\n",
    "\n",
    "Peeker(D_in, 'D_in'); Peeker(ena, 'ena')\n",
    "Peeker(Q_out, 'Q_out'); Peeker(Qn_out, 'Qn_out')\n",
    "\n",
    "DUT=DLatch(D_in=D_in, ena=ena, Q_out=Q_out, Qn_out=Qn_out)\n",
    "inputs=[D_in, ena]\n",
    "sim=Simulation(DUT, Combo_TB(inputs), *Peeker.instances()).run()        \n",
    "Peeker.to_wavedrom(start_time=0, stop_time=2*2**len(inputs), tock=True,\n",
    "                  title='DLatch Behavioral simulation',\n",
    "                  caption=f'after clock cycle {2**len(inputs)-1} ->random input')\n"
   ]
  },
  {
   "cell_type": "code",
   "execution_count": 12,
   "metadata": {},
   "outputs": [
    {
     "data": {
      "text/html": [
       "<div>\n",
       "<style>\n",
       "    .dataframe thead tr:only-child th {\n",
       "        text-align: right;\n",
       "    }\n",
       "\n",
       "    .dataframe thead th {\n",
       "        text-align: left;\n",
       "    }\n",
       "\n",
       "    .dataframe tbody tr th {\n",
       "        vertical-align: top;\n",
       "    }\n",
       "</style>\n",
       "<table border=\"1\" class=\"dataframe\">\n",
       "  <thead>\n",
       "    <tr style=\"text-align: right;\">\n",
       "      <th></th>\n",
       "      <th>D_in</th>\n",
       "      <th>Q_out</th>\n",
       "      <th>Qn_out</th>\n",
       "      <th>ena</th>\n",
       "    </tr>\n",
       "  </thead>\n",
       "  <tbody>\n",
       "    <tr>\n",
       "      <th>0</th>\n",
       "      <td>0</td>\n",
       "      <td>0</td>\n",
       "      <td>0</td>\n",
       "      <td>0</td>\n",
       "    </tr>\n",
       "    <tr>\n",
       "      <th>1</th>\n",
       "      <td>0</td>\n",
       "      <td>0</td>\n",
       "      <td>1</td>\n",
       "      <td>1</td>\n",
       "    </tr>\n",
       "    <tr>\n",
       "      <th>2</th>\n",
       "      <td>1</td>\n",
       "      <td>0</td>\n",
       "      <td>1</td>\n",
       "      <td>0</td>\n",
       "    </tr>\n",
       "    <tr>\n",
       "      <th>3</th>\n",
       "      <td>1</td>\n",
       "      <td>1</td>\n",
       "      <td>0</td>\n",
       "      <td>1</td>\n",
       "    </tr>\n",
       "  </tbody>\n",
       "</table>\n",
       "</div>"
      ],
      "text/plain": [
       "  D_in Q_out Qn_out ena\n",
       "0    0     0      0   0\n",
       "1    0     0      1   1\n",
       "2    1     0      1   0\n",
       "3    1     1      0   1"
      ]
     },
     "execution_count": 12,
     "metadata": {},
     "output_type": "execute_result"
    }
   ],
   "source": [
    "MakeDFfromPeeker(Peeker.to_wavejson(start_time=0, stop_time=2**len(inputs) -1))"
   ]
  },
  {
   "cell_type": "markdown",
   "metadata": {},
   "source": [
    "## myHDL DLatch Behavioral HDL Synthesis"
   ]
  },
  {
   "cell_type": "code",
   "execution_count": 13,
   "metadata": {},
   "outputs": [
    {
     "name": "stdout",
     "output_type": "stream",
     "text": [
      "***Verilog modual from DLatch.v***\n",
      "\n",
      " // File: DLatch.v\n",
      "// Generated by MyHDL 0.9.0\n",
      "// Date: Thu Oct 26 00:40:46 2017\n",
      "\n",
      "\n",
      "`timescale 1ns/10ps\n",
      "\n",
      "module DLatch (\n",
      "    D_in,\n",
      "    ena,\n",
      "    Q_out,\n",
      "    Qn_out\n",
      ");\n",
      "\n",
      "\n",
      "input D_in;\n",
      "input ena;\n",
      "output Q_out;\n",
      "reg Q_out;\n",
      "output Qn_out;\n",
      "reg Qn_out;\n",
      "\n",
      "\n",
      "\n",
      "\n",
      "\n",
      "\n",
      "always @(ena, D_in) begin: DLATCH_LOGIC\n",
      "    if (ena) begin\n",
      "        Q_out = D_in;\n",
      "        Qn_out = (!D_in);\n",
      "    end\n",
      "end\n",
      "\n",
      "endmodule\n",
      "\n"
     ]
    }
   ],
   "source": [
    "toVerilog(DLatch, D_in, ena, Q_out, Qn_out)\n",
    "#toVHDL(DLatch,D_in, ena, Q_out, Qn_out)\n",
    "_=VerilogTextReader('DLatch')"
   ]
  },
  {
   "cell_type": "markdown",
   "metadata": {},
   "source": [
    "The following shows the **Xilinx**'s _Vivado 2016.1_ RTL generated schematic of our myHDL Dlatch with a exsplisit $\\bar{Q}$ verilog code. Note that becouse  $\\bar{Q}$ is not normal declared in HDL code Vivado produced two RTL DLatchs and used a NOT Gate to acount for the negated output\n",
    "<img style=\"float: center;\" src=\"DLatchBehavioralRTLSch.PNG\">"
   ]
  },
  {
   "cell_type": "markdown",
   "metadata": {},
   "source": [
    "# Examples"
   ]
  }
 ],
 "metadata": {
  "author": "Digital Latches with myHDL",
  "hide_input": false,
  "kernelspec": {
   "display_name": "Python 3",
   "language": "python",
   "name": "python3"
  },
  "language_info": {
   "codemirror_mode": {
    "name": "ipython",
    "version": 3
   },
   "file_extension": ".py",
   "mimetype": "text/x-python",
   "name": "python",
   "nbconvert_exporter": "python",
   "pygments_lexer": "ipython3",
   "version": "3.6.1"
  },
  "latex_envs": {
   "LaTeX_envs_menu_present": true,
   "autocomplete": true,
   "bibliofile": "biblio.bib",
   "cite_by": "apalike",
   "current_citInitial": 1,
   "eqLabelWithNumbers": true,
   "eqNumInitial": 1,
   "hotkeys": {
    "equation": "Ctrl-E",
    "itemize": "Ctrl-I"
   },
   "labels_anchors": false,
   "latex_user_defs": false,
   "report_style_numbering": false,
   "user_envs_cfg": false
  },
  "toc": {
   "colors": {
    "hover_highlight": "#DAA520",
    "navigate_num": "#000000",
    "navigate_text": "#333333",
    "running_highlight": "#FF0000",
    "selected_highlight": "#FFD700",
    "sidebar_border": "#EEEEEE",
    "wrapper_background": "#FFFFFF"
   },
   "moveMenuLeft": true,
   "nav_menu": {
    "height": "281px",
    "width": "252px"
   },
   "navigate_menu": true,
   "number_sections": true,
   "sideBar": true,
   "skip_h1_title": false,
   "threshold": 4,
   "toc_cell": false,
   "toc_position": {},
   "toc_section_display": "block",
   "toc_window_display": false,
   "widenNotebook": false
  }
 },
 "nbformat": 4,
 "nbformat_minor": 2
}
