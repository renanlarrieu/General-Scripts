{
 "cells": [
  {
   "cell_type": "code",
   "execution_count": 10,
   "metadata": {},
   "outputs": [],
   "source": [
    "import numpy as np\n",
    "from myhdl import *"
   ]
  },
  {
   "cell_type": "code",
   "execution_count": 2,
   "metadata": {},
   "outputs": [],
   "source": [
    "Q=(4,4)"
   ]
  },
  {
   "cell_type": "code",
   "execution_count": 162,
   "metadata": {
    "code_folding": []
   },
   "outputs": [],
   "source": [
    "class Gen():\n",
    "    def __init__(self, Q, N):\n",
    "        self.Q=Q; self.N=N\n",
    "        self.Qlen=self.Q[0]+self.Q[1]\n",
    "        self.Qmin=0; self.Qmax=2**self.Qlen\n",
    "        self.Qscale=2**self.Q[1]\n",
    "        \n",
    "        #storage\n",
    "        self.aTV=np.zeros(0); self.aTVQ=np.zeros(0)\n",
    "        self.bTV=np.zeros(0); self.bTVQ=np.zeros(0)\n",
    "        self.cK=np.zeros(0); self.cKQ=np.zeros(0)\n",
    "    \n",
    "    def Genrator(self):\n",
    "        np.random.seed(np.random.randint(self.Qlen))\n",
    "        self.V1=np.array((1/np.random.ranf())).round(decimals=self.Q[1])\n",
    "        self.V1Q=(self.V1*self.Qscale).astype(int)\n",
    "        \n",
    "        np.random.seed(np.random.randint(self.Qlen))\n",
    "        self.V2=np.array((1/np.random.ranf())).round(decimals=self.Q[1])\n",
    "        self.V2Q=(self.V2*self.Qscale).astype(int)\n",
    "    \n",
    "    def GenratorCheckAndAdd(self):\n",
    "        if self.V1Q<self.Qmax and self.V2Q<self.Qmax:\n",
    "            self.check=self.V1Q+self.V2Q-1\n",
    "            self.V1pV2=(self.V1+self.V2).round(decimals=self.Q[1])\n",
    "            self.V1pV2Q=(self.V1pV2*self.Qscale).astype(int)\n",
    "            if self.check<self.Qmax:\n",
    "                self.aTV=np.append(self.aTV, self.V1); self.aTVQ=np.append(self.aTVQ, self.V1Q).astype(int)\n",
    "                self.bTV=np.append(self.bTV, self.V2); self.bTVQ=np.append(self.bTVQ, self.V1Q).astype(int)\n",
    "                self.cK=np.append(self.cK, self.V1pV2); self.cKQ=np.append(self.cKQ, self.V1pV2Q).astype(int)\n",
    "    \n",
    "    def MakeTVs(self):\n",
    "         while len(self.aTV)<=self.N:\n",
    "            self.Genrator()\n",
    "            self.GenratorCheckAndAdd()\n",
    "        \n",
    "                \n",
    "        \n",
    "        \n",
    "            \n"
   ]
  },
  {
   "cell_type": "code",
   "execution_count": 163,
   "metadata": {},
   "outputs": [
    {
     "data": {
      "text/plain": [
       "(256, None)"
      ]
     },
     "execution_count": 163,
     "metadata": {},
     "output_type": "execute_result"
    }
   ],
   "source": [
    "T=Gen(Q, 10)\n",
    "T.Q, T.N\n",
    "T.Qlen\n",
    "T.Qmin, T.Qmax\n",
    "T.Qscale\n",
    "T.Genrator()\n",
    "T.V1, T.V1Q\n",
    "T.V2, T.V2Q\n",
    "T.Qmax, T.GenratorCheckAndAdd()"
   ]
  },
  {
   "cell_type": "code",
   "execution_count": 164,
   "metadata": {},
   "outputs": [
    {
     "data": {
      "text/plain": [
       "(array([ 38, 209,  16,  38, 209,  16,  38, 209,  16,  38, 209]),\n",
       " array([ 38, 209,  16,  38, 209,  16,  38, 209,  16,  38, 209]),\n",
       " array([ 54, 248, 226,  54, 248, 226,  54, 248, 226,  54, 248]))"
      ]
     },
     "execution_count": 164,
     "metadata": {},
     "output_type": "execute_result"
    }
   ],
   "source": [
    "T.MakeTVs()\n",
    "T.aTVQ, T.bTVQ, T.cKQ"
   ]
  },
  {
   "cell_type": "code",
   "execution_count": null,
   "metadata": {},
   "outputs": [],
   "source": []
  },
  {
   "cell_type": "code",
   "execution_count": null,
   "metadata": {
    "code_folding": [
     4,
     20
    ]
   },
   "outputs": [],
   "source": [
    "class AddPosTVGen():\n",
    "    \"\"\"\n",
    "    Class to generate postive random numbers to be Qed for testing \n",
    "    \"\"\"\n",
    "    def __init__(self, Q, N):\n",
    "        \"\"\"\n",
    "        Take in arguments and create output holds\n",
    "        Args:\n",
    "            Q(tuple): Q notation tuple where Q[0] is int bit len and Q[1] is\n",
    "            dec bit len\n",
    "            N(int): number of values to generate\n",
    "        \"\"\"\n",
    "        self.Q=Q; self.N=N\n",
    "        self.Qlen=self.Q[0]+self.Q[1]; self.Qmax=2**self.Qlen\n",
    "        self.Qscale=2**self.Q[1]\n",
    "        \n",
    "        self.aTV=np.zeros(0); self.aTVQ=np.zeros(0)\n",
    "        self.bTV=np.zeros(0); self.bTVQ=np.zeros(0)\n",
    "        self.cK=np.zeros(0); self.cKQ=np.zeros(0)\n",
    "\n",
    "    def Genrator(self):\n",
    "        \"\"\"\n",
    "        Random Number genrator in floating point and supsequent Qed version\n",
    "        \"\"\"\n",
    "        self.V1=np.array((1/np.random.ranf())).round(decimals=self.Q[1])\n",
    "        \n",
    "        #needed to force np.random to generate a differint random num\n",
    "        np.random.seed(np.random.randint(self.Qmax))\n",
    "        \n",
    "        self.V2=np.array((1/np.random.ranf())).round(decimals=self.Q[1])\n",
    "        \n",
    "        self.V1Q=(self.V1*self.Qscale).astype(int)\n",
    "        self.V2Q=(self.V2*self.Qscale).astype(int)\n",
    "        \n",
    "    def GenratorCheckAndAdd(self):\n",
    "        \"\"\"\n",
    "        Cheacks if the sum of the two randome numbers generated are going to break the Qmax\n",
    "        if they do dont append to retrun holds\n",
    "        \"\"\"\n",
    "        self.V1pV2=(self.V1+self.V2).round(decimals=self.Q[1])\n",
    "        self.V1pV2Q=(self.V1pV2*self.Qscale).astype(int)\n",
    "        if (self.V1Q+self.V2Q)<self.Qmax:\n",
    "            self.aTV=np.append(self.aTV, self.V1); self.aTVQ=np.append(self.aTVQ, self.V1Q).astype(int)\n",
    "            self.bTV=np.append(self.bTV, self.V1); self.bTVQ=np.append(self.bTVQ, self.V1Q).astype(int)\n",
    "            self.cK=np.append(self.cK, self.V1pV2); self.cKQ=np.append(self.cKQ, self.V1pV2Q).astype(int)\n",
    "    \n",
    "    def MakeTVs(self):\n",
    "        \"\"\"\n",
    "        Automates the generating, testing and appending to make the TVs\n",
    "        \n",
    "        Returns:\n",
    "            self.aTV(np.array): floating point numbers for a\n",
    "            self.aTVQ(np.array): fixed point Qed from self.aTV\n",
    "            self.bTV(np.array): floating point numbers for b\n",
    "            self.bTVQ(np.array): fixed point Qed from self.bTV\n",
    "            self.cK(np.array): known floating point rounded sum of self.aTV, self.bTV\n",
    "            self.cKQ(np.array): known fixed point Qed from self.cK\n",
    "\n",
    "        \"\"\"\n",
    "        while len(self.aTV)<=self.N:\n",
    "            self.Genrator()\n",
    "            self.GenratorCheckAndAdd()\n",
    "        #print('Done')"
   ]
  }
 ],
 "metadata": {
  "kernelspec": {
   "display_name": "Python 3",
   "language": "python",
   "name": "python3"
  },
  "language_info": {
   "codemirror_mode": {
    "name": "ipython",
    "version": 3
   },
   "file_extension": ".py",
   "mimetype": "text/x-python",
   "name": "python",
   "nbconvert_exporter": "python",
   "pygments_lexer": "ipython3",
   "version": "3.6.5"
  },
  "latex_envs": {
   "LaTeX_envs_menu_present": true,
   "autoclose": false,
   "autocomplete": true,
   "bibliofile": "biblio.bib",
   "cite_by": "apalike",
   "current_citInitial": 1,
   "eqLabelWithNumbers": true,
   "eqNumInitial": 1,
   "hotkeys": {
    "equation": "Ctrl-E",
    "itemize": "Ctrl-I"
   },
   "labels_anchors": false,
   "latex_user_defs": false,
   "report_style_numbering": false,
   "user_envs_cfg": false
  },
  "toc": {
   "base_numbering": 1,
   "nav_menu": {},
   "number_sections": true,
   "sideBar": true,
   "skip_h1_title": false,
   "title_cell": "Table of Contents",
   "title_sidebar": "Contents",
   "toc_cell": false,
   "toc_position": {},
   "toc_section_display": true,
   "toc_window_display": false
  }
 },
 "nbformat": 4,
 "nbformat_minor": 2
}
