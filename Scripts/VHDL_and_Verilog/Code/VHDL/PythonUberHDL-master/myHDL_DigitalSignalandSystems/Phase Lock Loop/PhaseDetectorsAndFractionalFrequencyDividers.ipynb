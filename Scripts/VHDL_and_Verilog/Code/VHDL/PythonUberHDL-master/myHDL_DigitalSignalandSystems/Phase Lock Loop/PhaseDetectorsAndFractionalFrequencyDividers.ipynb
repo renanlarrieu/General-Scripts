{
 "cells": [
  {
   "cell_type": "markdown",
   "metadata": {},
   "source": [
    "\\title{Phase Lock Loop Components in myHDL}\n",
    "\\author{Steven K Armour}\n",
    "\\maketitle"
   ]
  },
  {
   "cell_type": "markdown",
   "metadata": {},
   "source": [
    "This notebook is an exploration into the building and testing the Phase Lock Detector and the frequency divider components of an all Digital Phase Lock Loop. Here the Digitial Oscillator and the low pass filter are left for there own exploratory analysis to then allow the reader to design and implement there own PLL."
   ]
  },
  {
   "cell_type": "markdown",
   "metadata": {
    "toc": true
   },
   "source": [
    "<h1>Table of Contents<span class=\"tocSkip\"></span></h1>\n",
    "<div class=\"toc\" style=\"margin-top: 1em;\"><ul class=\"toc-item\"><li><span><a href=\"#References\" data-toc-modified-id=\"References-1\"><span class=\"toc-item-num\">1&nbsp;&nbsp;</span>References</a></span></li><li><span><a href=\"#Libraries-used-and-aux-functions\" data-toc-modified-id=\"Libraries-used-and-aux-functions-2\"><span class=\"toc-item-num\">2&nbsp;&nbsp;</span>Libraries used and aux functions</a></span></li><li><span><a href=\"#The-Phase-Lock-Loop\" data-toc-modified-id=\"The-Phase-Lock-Loop-3\"><span class=\"toc-item-num\">3&nbsp;&nbsp;</span>The Phase Lock Loop</a></span></li><li><span><a href=\"#Phase-Detectors\" data-toc-modified-id=\"Phase-Detectors-4\"><span class=\"toc-item-num\">4&nbsp;&nbsp;</span>Phase Detectors</a></span><ul class=\"toc-item\"><li><span><a href=\"#Negated-XOR\" data-toc-modified-id=\"Negated-XOR-4.1\"><span class=\"toc-item-num\">4.1&nbsp;&nbsp;</span>Negated XOR</a></span><ul class=\"toc-item\"><li><span><a href=\"#NXOR_PD-myHDL-implementation\" data-toc-modified-id=\"NXOR_PD-myHDL-implementation-4.1.1\"><span class=\"toc-item-num\">4.1.1&nbsp;&nbsp;</span>NXOR_PD myHDL implementation</a></span></li><li><span><a href=\"#NXOR_PD-myHDL-Testing\" data-toc-modified-id=\"NXOR_PD-myHDL-Testing-4.1.2\"><span class=\"toc-item-num\">4.1.2&nbsp;&nbsp;</span>NXOR_PD myHDL Testing</a></span></li><li><span><a href=\"#Verilog-implementation\" data-toc-modified-id=\"Verilog-implementation-4.1.3\"><span class=\"toc-item-num\">4.1.3&nbsp;&nbsp;</span>Verilog implementation</a></span></li></ul></li><li><span><a href=\"#Sequntial--Phase-Detector\" data-toc-modified-id=\"Sequntial--Phase-Detector-4.2\"><span class=\"toc-item-num\">4.2&nbsp;&nbsp;</span>Sequntial  Phase Detector</a></span><ul class=\"toc-item\"><li><span><a href=\"#Seq_PD-myHDL-implementation\" data-toc-modified-id=\"Seq_PD-myHDL-implementation-4.2.1\"><span class=\"toc-item-num\">4.2.1&nbsp;&nbsp;</span>Seq_PD myHDL implementation</a></span></li><li><span><a href=\"#Seq_PD-myHDL-testing\" data-toc-modified-id=\"Seq_PD-myHDL-testing-4.2.2\"><span class=\"toc-item-num\">4.2.2&nbsp;&nbsp;</span>Seq_PD myHDL testing</a></span><ul class=\"toc-item\"><li><span><a href=\"#Test-when-$\\omega_{\\text{REF}}&gt;\\omega_{\\text{FB}}$\" data-toc-modified-id=\"Test-when-$\\omega_{\\text{REF}}>\\omega_{\\text{FB}}$-4.2.2.1\"><span class=\"toc-item-num\">4.2.2.1&nbsp;&nbsp;</span>Test when $\\omega_{\\text{REF}}&gt;\\omega_{\\text{FB}}$</a></span></li><li><span><a href=\"#Test-when-$\\omega_{\\text{REF}}=\\omega_{\\text{FB}}$\" data-toc-modified-id=\"Test-when-$\\omega_{\\text{REF}}=\\omega_{\\text{FB}}$-4.2.2.2\"><span class=\"toc-item-num\">4.2.2.2&nbsp;&nbsp;</span>Test when $\\omega_{\\text{REF}}=\\omega_{\\text{FB}}$</a></span></li><li><span><a href=\"#Test-when-$\\omega_{\\text{REF}}&lt;\\omega_{\\text{FB}}$\" data-toc-modified-id=\"Test-when-$\\omega_{\\text{REF}}<\\omega_{\\text{FB}}$-4.2.2.3\"><span class=\"toc-item-num\">4.2.2.3&nbsp;&nbsp;</span>Test when $\\omega_{\\text{REF}}&lt;\\omega_{\\text{FB}}$</a></span></li></ul></li><li><span><a href=\"#Verilog-implementation¶\" data-toc-modified-id=\"Verilog-implementation¶-4.2.3\"><span class=\"toc-item-num\">4.2.3&nbsp;&nbsp;</span>Verilog implementation¶</a></span></li></ul></li></ul></li><li><span><a href=\"#Fractional-Frequency-Dividers\" data-toc-modified-id=\"Fractional-Frequency-Dividers-5\"><span class=\"toc-item-num\">5&nbsp;&nbsp;</span>Fractional Frequency Dividers</a></span><ul class=\"toc-item\"><li><span><a href=\"#Divide-by-2\" data-toc-modified-id=\"Divide-by-2-5.1\"><span class=\"toc-item-num\">5.1&nbsp;&nbsp;</span>Divide by 2</a></span><ul class=\"toc-item\"><li><span><a href=\"#Divide-by-2-myHDL-implementation\" data-toc-modified-id=\"Divide-by-2-myHDL-implementation-5.1.1\"><span class=\"toc-item-num\">5.1.1&nbsp;&nbsp;</span>Divide by 2 myHDL implementation</a></span></li><li><span><a href=\"#Divide-by-2-myHDL-testing\" data-toc-modified-id=\"Divide-by-2-myHDL-testing-5.1.2\"><span class=\"toc-item-num\">5.1.2&nbsp;&nbsp;</span>Divide by 2 myHDL testing</a></span></li><li><span><a href=\"#Verilog-implementation\" data-toc-modified-id=\"Verilog-implementation-5.1.3\"><span class=\"toc-item-num\">5.1.3&nbsp;&nbsp;</span>Verilog implementation</a></span></li></ul></li><li><span><a href=\"#Divide-by-3\" data-toc-modified-id=\"Divide-by-3-5.2\"><span class=\"toc-item-num\">5.2&nbsp;&nbsp;</span>Divide by 3</a></span><ul class=\"toc-item\"><li><span><a href=\"#Divide-by-3-myHDL-implementation\" data-toc-modified-id=\"Divide-by-3-myHDL-implementation-5.2.1\"><span class=\"toc-item-num\">5.2.1&nbsp;&nbsp;</span>Divide by 3 myHDL implementation</a></span></li><li><span><a href=\"#Divide-by-3-myHDL-testing\" data-toc-modified-id=\"Divide-by-3-myHDL-testing-5.2.2\"><span class=\"toc-item-num\">5.2.2&nbsp;&nbsp;</span>Divide by 3 myHDL testing</a></span></li><li><span><a href=\"#Verilog-implementation\" data-toc-modified-id=\"Verilog-implementation-5.2.3\"><span class=\"toc-item-num\">5.2.3&nbsp;&nbsp;</span>Verilog implementation</a></span></li></ul></li><li><span><a href=\"#Divide-by-2/3\" data-toc-modified-id=\"Divide-by-2/3-5.3\"><span class=\"toc-item-num\">5.3&nbsp;&nbsp;</span>Divide by 2/3</a></span><ul class=\"toc-item\"><li><span><a href=\"#Divide-by-2/3-myHDL-implementation\" data-toc-modified-id=\"Divide-by-2/3-myHDL-implementation-5.3.1\"><span class=\"toc-item-num\">5.3.1&nbsp;&nbsp;</span>Divide by 2/3 myHDL implementation</a></span></li><li><span><a href=\"#Divide-by-2/3-myHDL-testing\" data-toc-modified-id=\"Divide-by-2/3-myHDL-testing-5.3.2\"><span class=\"toc-item-num\">5.3.2&nbsp;&nbsp;</span>Divide by 2/3 myHDL testing</a></span></li><li><span><a href=\"#Verilog-implementation\" data-toc-modified-id=\"Verilog-implementation-5.3.3\"><span class=\"toc-item-num\">5.3.3&nbsp;&nbsp;</span>Verilog implementation</a></span></li></ul></li><li><span><a href=\"#Divide-by-4/5\" data-toc-modified-id=\"Divide-by-4/5-5.4\"><span class=\"toc-item-num\">5.4&nbsp;&nbsp;</span>Divide by 4/5</a></span><ul class=\"toc-item\"><li><span><a href=\"#Divide-by-4/5-myHDL-implementation\" data-toc-modified-id=\"Divide-by-4/5-myHDL-implementation-5.4.1\"><span class=\"toc-item-num\">5.4.1&nbsp;&nbsp;</span>Divide by 4/5 myHDL implementation</a></span></li><li><span><a href=\"#Divide-by-4/5-myHDL-testing\" data-toc-modified-id=\"Divide-by-4/5-myHDL-testing-5.4.2\"><span class=\"toc-item-num\">5.4.2&nbsp;&nbsp;</span>Divide by 4/5 myHDL testing</a></span></li><li><span><a href=\"#Verilog-implementation\" data-toc-modified-id=\"Verilog-implementation-5.4.3\"><span class=\"toc-item-num\">5.4.3&nbsp;&nbsp;</span>Verilog implementation</a></span></li></ul></li><li><span><a href=\"#Divide-by-6-via-cascaded-2-and-3\" data-toc-modified-id=\"Divide-by-6-via-cascaded-2-and-3-5.5\"><span class=\"toc-item-num\">5.5&nbsp;&nbsp;</span>Divide by 6 via cascaded 2 and 3</a></span><ul class=\"toc-item\"><li><span><a href=\"#Divide-by-6-myHDL-implementation\" data-toc-modified-id=\"Divide-by-6-myHDL-implementation-5.5.1\"><span class=\"toc-item-num\">5.5.1&nbsp;&nbsp;</span>Divide by 6 myHDL implementation</a></span></li><li><span><a href=\"#Divide-by-6-myHDL-testing\" data-toc-modified-id=\"Divide-by-6-myHDL-testing-5.5.2\"><span class=\"toc-item-num\">5.5.2&nbsp;&nbsp;</span>Divide by 6 myHDL testing</a></span></li><li><span><a href=\"#Verilog-implementation\" data-toc-modified-id=\"Verilog-implementation-5.5.3\"><span class=\"toc-item-num\">5.5.3&nbsp;&nbsp;</span>Verilog implementation</a></span></li></ul></li></ul></li><li><span><a href=\"#ToDo\" data-toc-modified-id=\"ToDo-6\"><span class=\"toc-item-num\">6&nbsp;&nbsp;</span>ToDo</a></span></li></ul></div>"
   ]
  },
  {
   "cell_type": "markdown",
   "metadata": {},
   "source": [
    "# References\n",
    "@misc{allen_2003,\n",
    "title={LECTURE 170  APPLICATIONS OF PLLS AND FREQUENCY DIVIDERS (PRESCALERS)},\n",
    "author={Allen, Phillip E.},\n",
    "year={2003}\n",
    "},\n",
    "\n",
    "@phdthesis{gal_2012,\n",
    "title={Design of Fractional-N Phase Locked Loops For Frequency Synthesis From 30 To 40 GHz},\n",
    "school={McGill University},\n",
    "author={Gal, George},\n",
    "year={2012}\n",
    "},\n",
    "\n",
    "@misc{niknejad_2014,\n",
    "title={Phase Locked Loops (PLL) and Frequency Synthesis},\n",
    "author={Niknejad, Ali M.},\n",
    "year={2014}\n",
    "},\n",
    "\n",
    "@book{razavi_2009,\n",
    "place={Upper Saddle River, NJ},\n",
    "edition={1},\n",
    "title={RF microelectronics},\n",
    "publisher={Prentice Hall},\n",
    "author={Razavi, Behzad},\n",
    "year={2009},\n",
    "pages={Chapter 8}\n",
    "}\n",
    "\n",
    "@book{craninckx_steyaert_1998,\n",
    "place={New York},\n",
    "title={Wireless CMOS frequency synthesizer design},\n",
    "publisher={Springer},\n",
    "author={Craninckx, J and Steyaert, M},\n",
    "year={1998}\n",
    "pages={42-46}\n",
    "}"
   ]
  },
  {
   "cell_type": "markdown",
   "metadata": {},
   "source": [
    "# Libraries used and aux functions"
   ]
  },
  {
   "cell_type": "code",
   "execution_count": 1,
   "metadata": {},
   "outputs": [],
   "source": [
    "from myhdl import *\n",
    "from myhdlpeek import Peeker"
   ]
  },
  {
   "cell_type": "code",
   "execution_count": 2,
   "metadata": {},
   "outputs": [],
   "source": [
    "#helper  functions to read in the .v and .vhd generated files into python\n",
    "def VerilogTextReader(loc, printresult=True):\n",
    "    with open(f'{loc}.v', 'r') as vText:\n",
    "        VerilogText=vText.read()\n",
    "    if printresult:\n",
    "        print(f'***Verilog modual from {loc}.v***\\n\\n', VerilogText)\n",
    "    return VerilogText\n",
    "\n",
    "def VHDLTextReader(loc, printresult=True):\n",
    "    with open(f'{loc}.vhd', 'r') as vText:\n",
    "        VerilogText=vText.read()\n",
    "    if printresult:\n",
    "        print(f'***VHDL modual from {loc}.vhd***\\n\\n', VerilogText)\n",
    "    return VerilogText"
   ]
  },
  {
   "cell_type": "markdown",
   "metadata": {},
   "source": [
    "# The Phase Lock Loop\n",
    "The phase lock loop (PLL) is one of the Six classical feedback topologies in electrical engineering. The others being the Voltage-Voltage (Series-Shunt), Voltage-Current(Shunt-Shunt), Current-Current (Shunt-Shunt), Current-Voltage (Series-Series), and the Autoregressive Moving Average (ARMA, aka IIR Filter). The PLL differs from the rest in that it is temporal compersion feedback system that only works for oscillatory information. Looking at the diagram below for the generic classical PLL we see that it is made of Five (six if a frequency divider is added to the reference clock) components. Two of which the Phase Detector and the output frequency divider that make up the feedback loop are somewhat unique to the PLL and are the primary concern of this notebook."
   ]
  },
  {
   "cell_type": "markdown",
   "metadata": {},
   "source": [
    "<img src='PLL.png'>"
   ]
  },
  {
   "cell_type": "markdown",
   "metadata": {},
   "source": [
    "The other components that are part of the forward path are the filter that helps take out some of the \"phase noise\" error that creeps into the PLL and is typical of the Low Pass variety. The reference oscillator that since the PLL controls phase and phase is a measure of temporal displacement against a reference and the Controlled Oscillator. In brief, the controlled oscillator is made to accelerate its temporal progression (how fast it oscillates) relative to the reference oscillator the error provided by the feedback loop. Where the error is then given as \n",
    "\n",
    "$$e(t)=K_{PD}(\\Phi_{\\text{ref}}(t)-\\Phi_{\\text{ocl}}(t)/N)$$ Where \n",
    "\n",
    "$K_{PD}$ is the transfer function of the Phase Detector that will be expanded upon shortly. the noting that the Transfer Function for the Voltage control oscillator is $K_{CO}$ and that of the filter is $H(s)$ the resulting open loop and closed loop gain can be found to be\n",
    "\n",
    "$$A(s)=\\dfrac{K_{PD} H(s) K_{CO}}{Ns}$$\n",
    "\n",
    "$$G(s)=\\dfrac{K_{PD} H(s) K_{CO}}{s+K_{PD} H(s) \\dfrac{K_{CO}}{N}}$$"
   ]
  },
  {
   "cell_type": "markdown",
   "metadata": {},
   "source": [
    "# Phase Detectors\n",
    "The phase detector (PD) is the only must-have component to a PLL that makes a PLL a PLL via calculating the phase offset error from a reference frequency source and the controlled frequency source via the negative feedback loop. It is the job of the PD to ensure that the waveform of the output is within some portion is in sync with the reference waveform thereby creating a phase lock. Where if the reface waveform and the controlled waveform are out of sync then the loop is said to be unlocked. While for analog PLL there are a variety of PDs which are mostly based on mixers (see [Wiki Phase detector](https://en.wikipedia.org/wiki/Phase_detector)) for digital Phase Detectors there are basically only two kinds. The very primitive Negated XOR and the DFlipFlop Stat machine variety"
   ]
  },
  {
   "cell_type": "markdown",
   "metadata": {},
   "source": [
    "## Negated XOR\n",
    "<img src='NXOR_PD.png'>"
   ]
  },
  {
   "cell_type": "markdown",
   "metadata": {},
   "source": [
    "### NXOR_PD myHDL implementation"
   ]
  },
  {
   "cell_type": "code",
   "execution_count": 3,
   "metadata": {},
   "outputs": [],
   "source": [
    "@block\n",
    "def NXORPD(clkREF, clkFB, LOCK):\n",
    "    \"\"\"\n",
    "    Negated XOR Phase Detector\n",
    "    I/O:\n",
    "        clkREF (bool; in): Ref clock\n",
    "        clkFB (bool; in): Compere clock\n",
    "        LOCK (bool; out): Negated XOR (LOCK) result\n",
    "    \n",
    "    \"\"\"\n",
    "    @always_comb\n",
    "    def logic():\n",
    "        LOCK.next= not (clkREF^clkFB)\n",
    "    \n",
    "    return instances()"
   ]
  },
  {
   "cell_type": "markdown",
   "metadata": {},
   "source": [
    "### NXOR_PD myHDL Testing"
   ]
  },
  {
   "cell_type": "code",
   "execution_count": 4,
   "metadata": {},
   "outputs": [],
   "source": [
    "#clear peeker and create test signals\n",
    "Peeker.clear()\n",
    "clkREF=Signal(bool(0)); Peeker(clkREF, 'clkREF')\n",
    "clkFB=Signal(bool(0)); Peeker(clkFB, 'clkFB')\n",
    "LOCK=Signal(bool(0)); Peeker(LOCK, 'LOCK')\n",
    "#this clk is a Witness clock refrance\n",
    "clk=Signal(bool(0)); Peeker(clk, 'clk')\n",
    "\n",
    "#bind the signals to the DUT\n",
    "DUT=NXORPD(clkREF, clkFB, LOCK)\n",
    "\n",
    "def NXORPD_TB(RefDelay=2, FBDelay=4):\n",
    "    \"\"\"\n",
    "    Negated XOR Phase Detector Testbench\n",
    "    Args:\n",
    "        RefDelay (int; 2): refrance clock delay cyles compared to refrance\n",
    "        FBDelay (int; 4): feedback clock delay cyles compared to refrance\n",
    "        \n",
    "    \"\"\"\n",
    "    #witness clock \n",
    "    @always(delay(1))\n",
    "    def clkGen():\n",
    "        clk.next=not clk\n",
    "    \n",
    "    #refrance clock\n",
    "    @always(delay(RefDelay))\n",
    "    def RefClkGen():\n",
    "        clkREF.next=not clkREF\n",
    "    #feedback clock\n",
    "    @always(delay(FBDelay))\n",
    "    def FBClkGen():\n",
    "        clkFB.next=not clkFB\n",
    "    \n",
    "    #run the simulation\n",
    "    @instance\n",
    "    def stimulus():\n",
    "        for i in range(100):\n",
    "            yield clk.posedge\n",
    "        \n",
    "        raise StopSimulation()\n",
    "    \n",
    "    return instances()\n",
    "\n",
    "sim=Simulation(DUT, NXORPD_TB(), *Peeker.instances()).run()"
   ]
  },
  {
   "cell_type": "code",
   "execution_count": 5,
   "metadata": {},
   "outputs": [
    {
     "data": {
      "text/html": [
       "<div><script type=\"WaveDrom\">{\"signal\": [{\"name\": \"clkFB\", \"wave\": \"0...1...0...1...0...1\"}, {\"name\": \"clkREF\", \"wave\": \"0.1.0.1.0.1.0.1.0.1.0\"}, {\"name\": \"LOCK[0]\", \"wave\": \"1.0...1...0...1...0..\"}, {\"name\": \"clk[0]\", \"wave\": \"010101010101010101010\"}]}</script></div>"
      ]
     },
     "metadata": {},
     "output_type": "display_data"
    },
    {
     "data": {
      "application/javascript": [
       "$.getScript(\"http://wavedrom.com/wavedrom.min.js\", function () {\n",
       "$.getScript(\"http://wavedrom.com/skins/default.js\", function () {\n",
       "WaveDrom.ProcessAll();});\n",
       "});\n"
      ]
     },
     "metadata": {},
     "output_type": "display_data"
    }
   ],
   "source": [
    "Peeker.to_wavedrom(start_time=0, stop_time=20)"
   ]
  },
  {
   "cell_type": "code",
   "execution_count": 6,
   "metadata": {},
   "outputs": [
    {
     "data": {
      "text/html": [
       "<div>\n",
       "<style scoped>\n",
       "    .dataframe tbody tr th:only-of-type {\n",
       "        vertical-align: middle;\n",
       "    }\n",
       "\n",
       "    .dataframe tbody tr th {\n",
       "        vertical-align: top;\n",
       "    }\n",
       "\n",
       "    .dataframe thead th {\n",
       "        text-align: right;\n",
       "    }\n",
       "</style>\n",
       "<table border=\"1\" class=\"dataframe\">\n",
       "  <thead>\n",
       "    <tr style=\"text-align: right;\">\n",
       "      <th></th>\n",
       "      <th>clk</th>\n",
       "      <th>clkREF</th>\n",
       "      <th>clkFB</th>\n",
       "      <th>LOCK</th>\n",
       "    </tr>\n",
       "  </thead>\n",
       "  <tbody>\n",
       "    <tr>\n",
       "      <th>0</th>\n",
       "      <td>0</td>\n",
       "      <td>0</td>\n",
       "      <td>0</td>\n",
       "      <td>1</td>\n",
       "    </tr>\n",
       "    <tr>\n",
       "      <th>1</th>\n",
       "      <td>1</td>\n",
       "      <td>0</td>\n",
       "      <td>0</td>\n",
       "      <td>1</td>\n",
       "    </tr>\n",
       "    <tr>\n",
       "      <th>2</th>\n",
       "      <td>0</td>\n",
       "      <td>1</td>\n",
       "      <td>0</td>\n",
       "      <td>0</td>\n",
       "    </tr>\n",
       "    <tr>\n",
       "      <th>3</th>\n",
       "      <td>1</td>\n",
       "      <td>1</td>\n",
       "      <td>0</td>\n",
       "      <td>0</td>\n",
       "    </tr>\n",
       "    <tr>\n",
       "      <th>4</th>\n",
       "      <td>0</td>\n",
       "      <td>0</td>\n",
       "      <td>1</td>\n",
       "      <td>0</td>\n",
       "    </tr>\n",
       "    <tr>\n",
       "      <th>5</th>\n",
       "      <td>1</td>\n",
       "      <td>0</td>\n",
       "      <td>1</td>\n",
       "      <td>0</td>\n",
       "    </tr>\n",
       "    <tr>\n",
       "      <th>6</th>\n",
       "      <td>0</td>\n",
       "      <td>1</td>\n",
       "      <td>1</td>\n",
       "      <td>1</td>\n",
       "    </tr>\n",
       "    <tr>\n",
       "      <th>7</th>\n",
       "      <td>1</td>\n",
       "      <td>1</td>\n",
       "      <td>1</td>\n",
       "      <td>1</td>\n",
       "    </tr>\n",
       "    <tr>\n",
       "      <th>8</th>\n",
       "      <td>0</td>\n",
       "      <td>0</td>\n",
       "      <td>0</td>\n",
       "      <td>1</td>\n",
       "    </tr>\n",
       "    <tr>\n",
       "      <th>9</th>\n",
       "      <td>1</td>\n",
       "      <td>0</td>\n",
       "      <td>0</td>\n",
       "      <td>1</td>\n",
       "    </tr>\n",
       "  </tbody>\n",
       "</table>\n",
       "</div>"
      ],
      "text/plain": [
       "   clk  clkREF  clkFB  LOCK\n",
       "0    0       0      0     1\n",
       "1    1       0      0     1\n",
       "2    0       1      0     0\n",
       "3    1       1      0     0\n",
       "4    0       0      1     0\n",
       "5    1       0      1     0\n",
       "6    0       1      1     1\n",
       "7    1       1      1     1\n",
       "8    0       0      0     1\n",
       "9    1       0      0     1"
      ]
     },
     "execution_count": 6,
     "metadata": {},
     "output_type": "execute_result"
    }
   ],
   "source": [
    "#pull the sim data into a PD dataframe\n",
    "NXORPDRes=Peeker.to_dataframe()\n",
    "#reorder the collums\n",
    "NXORPDRes=NXORPDRes.reindex(columns=['clk', 'clkREF', 'clkFB', 'LOCK']);NXORPDRes\n",
    "#show the top ten\n",
    "NXORPDRes.head(10)"
   ]
  },
  {
   "cell_type": "code",
   "execution_count": 7,
   "metadata": {},
   "outputs": [
    {
     "name": "stderr",
     "output_type": "stream",
     "text": [
      "/home/iridium/anaconda3/lib/python3.6/site-packages/ipykernel_launcher.py:2: UserWarning: Boolean Series key will be reindexed to match DataFrame index.\n",
      "  \n"
     ]
    },
    {
     "data": {
      "text/html": [
       "<div>\n",
       "<style scoped>\n",
       "    .dataframe tbody tr th:only-of-type {\n",
       "        vertical-align: middle;\n",
       "    }\n",
       "\n",
       "    .dataframe tbody tr th {\n",
       "        vertical-align: top;\n",
       "    }\n",
       "\n",
       "    .dataframe thead th {\n",
       "        text-align: right;\n",
       "    }\n",
       "</style>\n",
       "<table border=\"1\" class=\"dataframe\">\n",
       "  <thead>\n",
       "    <tr style=\"text-align: right;\">\n",
       "      <th></th>\n",
       "      <th>clk</th>\n",
       "      <th>clkREF</th>\n",
       "      <th>clkFB</th>\n",
       "      <th>LOCK</th>\n",
       "    </tr>\n",
       "  </thead>\n",
       "  <tbody>\n",
       "    <tr>\n",
       "      <th>1</th>\n",
       "      <td>1</td>\n",
       "      <td>0</td>\n",
       "      <td>0</td>\n",
       "      <td>1</td>\n",
       "    </tr>\n",
       "    <tr>\n",
       "      <th>7</th>\n",
       "      <td>1</td>\n",
       "      <td>1</td>\n",
       "      <td>1</td>\n",
       "      <td>1</td>\n",
       "    </tr>\n",
       "    <tr>\n",
       "      <th>9</th>\n",
       "      <td>1</td>\n",
       "      <td>0</td>\n",
       "      <td>0</td>\n",
       "      <td>1</td>\n",
       "    </tr>\n",
       "    <tr>\n",
       "      <th>15</th>\n",
       "      <td>1</td>\n",
       "      <td>1</td>\n",
       "      <td>1</td>\n",
       "      <td>1</td>\n",
       "    </tr>\n",
       "    <tr>\n",
       "      <th>17</th>\n",
       "      <td>1</td>\n",
       "      <td>0</td>\n",
       "      <td>0</td>\n",
       "      <td>1</td>\n",
       "    </tr>\n",
       "    <tr>\n",
       "      <th>23</th>\n",
       "      <td>1</td>\n",
       "      <td>1</td>\n",
       "      <td>1</td>\n",
       "      <td>1</td>\n",
       "    </tr>\n",
       "    <tr>\n",
       "      <th>25</th>\n",
       "      <td>1</td>\n",
       "      <td>0</td>\n",
       "      <td>0</td>\n",
       "      <td>1</td>\n",
       "    </tr>\n",
       "    <tr>\n",
       "      <th>31</th>\n",
       "      <td>1</td>\n",
       "      <td>1</td>\n",
       "      <td>1</td>\n",
       "      <td>1</td>\n",
       "    </tr>\n",
       "    <tr>\n",
       "      <th>33</th>\n",
       "      <td>1</td>\n",
       "      <td>0</td>\n",
       "      <td>0</td>\n",
       "      <td>1</td>\n",
       "    </tr>\n",
       "    <tr>\n",
       "      <th>39</th>\n",
       "      <td>1</td>\n",
       "      <td>1</td>\n",
       "      <td>1</td>\n",
       "      <td>1</td>\n",
       "    </tr>\n",
       "  </tbody>\n",
       "</table>\n",
       "</div>"
      ],
      "text/plain": [
       "    clk  clkREF  clkFB  LOCK\n",
       "1     1       0      0     1\n",
       "7     1       1      1     1\n",
       "9     1       0      0     1\n",
       "15    1       1      1     1\n",
       "17    1       0      0     1\n",
       "23    1       1      1     1\n",
       "25    1       0      0     1\n",
       "31    1       1      1     1\n",
       "33    1       0      0     1\n",
       "39    1       1      1     1"
      ]
     },
     "execution_count": 7,
     "metadata": {},
     "output_type": "execute_result"
    }
   ],
   "source": [
    "#review what the Ref and FB clock values where when the PD was locked\n",
    "NXORPDRes[NXORPDRes['clk']==1][NXORPDRes['LOCK']==1].head(10)"
   ]
  },
  {
   "cell_type": "code",
   "execution_count": 8,
   "metadata": {},
   "outputs": [
    {
     "name": "stderr",
     "output_type": "stream",
     "text": [
      "/home/iridium/anaconda3/lib/python3.6/site-packages/ipykernel_launcher.py:2: UserWarning: Boolean Series key will be reindexed to match DataFrame index.\n",
      "  \n"
     ]
    },
    {
     "data": {
      "text/html": [
       "<div>\n",
       "<style scoped>\n",
       "    .dataframe tbody tr th:only-of-type {\n",
       "        vertical-align: middle;\n",
       "    }\n",
       "\n",
       "    .dataframe tbody tr th {\n",
       "        vertical-align: top;\n",
       "    }\n",
       "\n",
       "    .dataframe thead th {\n",
       "        text-align: right;\n",
       "    }\n",
       "</style>\n",
       "<table border=\"1\" class=\"dataframe\">\n",
       "  <thead>\n",
       "    <tr style=\"text-align: right;\">\n",
       "      <th></th>\n",
       "      <th>clk</th>\n",
       "      <th>clkREF</th>\n",
       "      <th>clkFB</th>\n",
       "      <th>LOCK</th>\n",
       "    </tr>\n",
       "  </thead>\n",
       "  <tbody>\n",
       "    <tr>\n",
       "      <th>3</th>\n",
       "      <td>1</td>\n",
       "      <td>1</td>\n",
       "      <td>0</td>\n",
       "      <td>0</td>\n",
       "    </tr>\n",
       "    <tr>\n",
       "      <th>5</th>\n",
       "      <td>1</td>\n",
       "      <td>0</td>\n",
       "      <td>1</td>\n",
       "      <td>0</td>\n",
       "    </tr>\n",
       "    <tr>\n",
       "      <th>11</th>\n",
       "      <td>1</td>\n",
       "      <td>1</td>\n",
       "      <td>0</td>\n",
       "      <td>0</td>\n",
       "    </tr>\n",
       "    <tr>\n",
       "      <th>13</th>\n",
       "      <td>1</td>\n",
       "      <td>0</td>\n",
       "      <td>1</td>\n",
       "      <td>0</td>\n",
       "    </tr>\n",
       "    <tr>\n",
       "      <th>19</th>\n",
       "      <td>1</td>\n",
       "      <td>1</td>\n",
       "      <td>0</td>\n",
       "      <td>0</td>\n",
       "    </tr>\n",
       "    <tr>\n",
       "      <th>21</th>\n",
       "      <td>1</td>\n",
       "      <td>0</td>\n",
       "      <td>1</td>\n",
       "      <td>0</td>\n",
       "    </tr>\n",
       "    <tr>\n",
       "      <th>27</th>\n",
       "      <td>1</td>\n",
       "      <td>1</td>\n",
       "      <td>0</td>\n",
       "      <td>0</td>\n",
       "    </tr>\n",
       "    <tr>\n",
       "      <th>29</th>\n",
       "      <td>1</td>\n",
       "      <td>0</td>\n",
       "      <td>1</td>\n",
       "      <td>0</td>\n",
       "    </tr>\n",
       "    <tr>\n",
       "      <th>35</th>\n",
       "      <td>1</td>\n",
       "      <td>1</td>\n",
       "      <td>0</td>\n",
       "      <td>0</td>\n",
       "    </tr>\n",
       "    <tr>\n",
       "      <th>37</th>\n",
       "      <td>1</td>\n",
       "      <td>0</td>\n",
       "      <td>1</td>\n",
       "      <td>0</td>\n",
       "    </tr>\n",
       "  </tbody>\n",
       "</table>\n",
       "</div>"
      ],
      "text/plain": [
       "    clk  clkREF  clkFB  LOCK\n",
       "3     1       1      0     0\n",
       "5     1       0      1     0\n",
       "11    1       1      0     0\n",
       "13    1       0      1     0\n",
       "19    1       1      0     0\n",
       "21    1       0      1     0\n",
       "27    1       1      0     0\n",
       "29    1       0      1     0\n",
       "35    1       1      0     0\n",
       "37    1       0      1     0"
      ]
     },
     "execution_count": 8,
     "metadata": {},
     "output_type": "execute_result"
    }
   ],
   "source": [
    "#review what the Ref and FB clock values where when the PD was unlocked\n",
    "NXORPDRes[NXORPDRes['clk']==1][NXORPDRes['LOCK']==0].head(10)"
   ]
  },
  {
   "cell_type": "markdown",
   "metadata": {},
   "source": [
    "### Verilog implementation"
   ]
  },
  {
   "cell_type": "code",
   "execution_count": 9,
   "metadata": {},
   "outputs": [
    {
     "name": "stdout",
     "output_type": "stream",
     "text": [
      "***Verilog modual from NXORPD.v***\n",
      "\n",
      " // File: NXORPD.v\n",
      "// Generated by MyHDL 0.10\n",
      "// Date: Mon May 21 21:38:22 2018\n",
      "\n",
      "\n",
      "`timescale 1ns/10ps\n",
      "\n",
      "module NXORPD (\n",
      "    clkREF,\n",
      "    clkFB,\n",
      "    LOCK\n",
      ");\n",
      "// Negated XOR Phase Detector\n",
      "// I/O:\n",
      "//     clkREF (bool; in): Ref clock\n",
      "//     clkFB (bool; in): Compere clock\n",
      "//     LOCK (bool; out): Negated XOR (LOCK) result\n",
      "\n",
      "input clkREF;\n",
      "input clkFB;\n",
      "output LOCK;\n",
      "wire LOCK;\n",
      "\n",
      "\n",
      "\n",
      "\n",
      "\n",
      "assign LOCK = (!(clkREF ^ clkFB));\n",
      "\n",
      "endmodule\n",
      "\n"
     ]
    }
   ],
   "source": [
    "DUT.convert()\n",
    "VerilogTextReader('NXORPD');"
   ]
  },
  {
   "cell_type": "markdown",
   "metadata": {},
   "source": [
    "## Sequntial  Phase Detector\n",
    "<img src=\"SeqPD.png\">"
   ]
  },
  {
   "cell_type": "markdown",
   "metadata": {},
   "source": [
    "The Sequential PD is the most common digital phase detector around and while there are variations of this architecture that can be found they all based on this simple but ingenious architecture. The architecture consists of two DFF where unlike in a typical state machine where a master clock control the flipping of the DFFs and the Data line into the DFFs is part of the State machine feedback loop. Here the DFFs are each on an independent clock where here the upper DFF is tied to the Reference Clock and the lower one is tied to the Feedback Clock. Therefore each one will output a high signal at a rate determined by the frequency of there respective clocks. \n",
    "\n",
    "But that is not the end to the cleverness of this topology. The outputs of the DFFs are continuously compared by an AND gate such that only when the DFFs are in sync ($\\omega_{\\text{REF}}=\\omega_{\\text{FB}}$) will a very brief high spike will show up on both Next state lines of the DFF before the two DFFs are reset. For the other two conditions possible, only one of the two lines will have a high-value present. If $\\omega_{\\text{REF}}>\\omega_{\\text{FB}}$ then the lower output will be zero. And conversely if $\\omega_{\\text{REF}}<\\omega_{\\text{FB}}$ the upper output will be zero. \n",
    "\n",
    "The above conditions as described by Razavi yield the following state machine for the Sequential Phase Detector\n",
    "\n",
    "<img src='SeqPDSM.png'>"
   ]
  },
  {
   "cell_type": "markdown",
   "metadata": {},
   "source": [
    "Note that the actual phase detection is the average of the two output lines. Wich not shown here, where one method to find the average is by scaling the boolean outputs to digital words and then pass the resultant words to an average and then to a low pass filter in order to implement the PLL."
   ]
  },
  {
   "cell_type": "markdown",
   "metadata": {},
   "source": [
    "### Seq_PD myHDL implementation"
   ]
  },
  {
   "cell_type": "code",
   "execution_count": 10,
   "metadata": {},
   "outputs": [],
   "source": [
    "@block\n",
    "def SeqPD(clkREF, clkFB, UpOut, DownOut):\n",
    "    \"\"\"\n",
    "    Sequential DFF Phase Detector\n",
    "    I/O:\n",
    "        clkREF (bool; in): Ref clock to Upper DFF\n",
    "        clkFB (bool; in): Compare clock to Lower DFF\n",
    "        UpOut (bool; ouput): Upper DFF ouput\n",
    "        DownOut (bool; output): Lower DFF ouput\n",
    "        \n",
    "    \"\"\"\n",
    "    \n",
    "    #and clear internal feedback sig\n",
    "    clr = ResetSignal(0, active=0, async=True)\n",
    "\n",
    "    \n",
    "    #upper DFF\n",
    "    @always(clkREF.posedge, clr.posedge)\n",
    "    def UpD():\n",
    "        if clr:\n",
    "            UpOut.next=0\n",
    "        else:\n",
    "            UpOut.next=1\n",
    "    \n",
    "    #lower DFF\n",
    "    @always(clkFB.posedge, clr.posedge)\n",
    "    def DownD():\n",
    "        if clr:\n",
    "            DownOut.next=0\n",
    "        else:\n",
    "            DownOut.next=1\n",
    "    \n",
    "    #and clear\n",
    "    @always_comb\n",
    "    def clrLogic():\n",
    "        clr.next= UpOut and DownOut\n",
    "    \n",
    "    return instances()"
   ]
  },
  {
   "cell_type": "markdown",
   "metadata": {},
   "source": [
    "### Seq_PD myHDL testing"
   ]
  },
  {
   "cell_type": "code",
   "execution_count": 11,
   "metadata": {},
   "outputs": [],
   "source": [
    "#create the test signals\n",
    "Peeker.clear()\n",
    "clkREF=Signal(bool(0)); Peeker(clkREF, 'clkREF')\n",
    "clkFB=Signal(bool(0)); Peeker(clkFB, 'clkFB')\n",
    "UpOut=Signal(bool(0)); Peeker(UpOut, 'UpOut')\n",
    "DownOut=Signal(bool(0)); Peeker(DownOut, 'DownOut')\n",
    "\n",
    "#bind the test signals to the DUT\n",
    "DUT=SeqPD(clkREF, clkFB, UpOut, DownOut)\n",
    "\n",
    "def SeqPD_TB(RefDelay, FBDelay):\n",
    "    \"\"\"\n",
    "    Test bench for Sequantial Testbench\n",
    "    Args:\n",
    "        RefDelay (int; 2): refrance clock delay cyles \n",
    "        FBDelay (int; 4): feedback clock delay cyles\n",
    "    \"\"\"\n",
    "   \n",
    "    #refrance clock\n",
    "    @always(delay(RefDelay))\n",
    "    def RefClkGen():\n",
    "        clkREF.next=not clkREF\n",
    "    \n",
    "    #feedback clock\n",
    "    @always(delay(FBDelay))\n",
    "    def FBClkGen():\n",
    "        clkFB.next=not clkFB\n",
    "    \n",
    "    #run the simulation\n",
    "    @instance\n",
    "    def stimulus():\n",
    "        for i in range(50):\n",
    "            yield clkREF.posedge\n",
    "        \n",
    "        raise StopSimulation()\n",
    "    \n",
    "    return instances()\n",
    "\n"
   ]
  },
  {
   "cell_type": "markdown",
   "metadata": {},
   "source": [
    "#### Test when $\\omega_{\\text{REF}}>\\omega_{\\text{FB}}$ "
   ]
  },
  {
   "cell_type": "code",
   "execution_count": 12,
   "metadata": {},
   "outputs": [
    {
     "data": {
      "text/html": [
       "<div><script type=\"WaveDrom\">{\"signal\": [{\"name\": \"clkFB\", \"wave\": \"0.1.0.1.0.1.0.1.0.1.0\"}, {\"name\": \"clkREF\", \"wave\": \"0..1..0..1..0..1..0..\"}, {\"name\": \"DownOut[0]\", \"wave\": \"0.10..1..01....0..1..\"}, {\"name\": \"UpOut[0]\", \"wave\": \"0....................\"}]}</script></div>"
      ]
     },
     "metadata": {},
     "output_type": "display_data"
    },
    {
     "data": {
      "application/javascript": [
       "$.getScript(\"http://wavedrom.com/wavedrom.min.js\", function () {\n",
       "$.getScript(\"http://wavedrom.com/skins/default.js\", function () {\n",
       "WaveDrom.ProcessAll();});\n",
       "});\n"
      ]
     },
     "metadata": {},
     "output_type": "display_data"
    }
   ],
   "source": [
    "#create the test signals\n",
    "Peeker.clear()\n",
    "clkREF=Signal(bool(0)); Peeker(clkREF, 'clkREF')\n",
    "clkFB=Signal(bool(0)); Peeker(clkFB, 'clkFB')\n",
    "UpOut=Signal(bool(0)); Peeker(UpOut, 'UpOut')\n",
    "DownOut=Signal(bool(0)); Peeker(DownOut, 'DownOut')\n",
    "\n",
    "#bind the test signals to the DUT\n",
    "DUT=SeqPD(clkREF, clkFB, UpOut, DownOut)\n",
    "\n",
    "sim=Simulation(DUT, SeqPD_TB(3, 2), *Peeker.instances()).run()\n",
    "Peeker.to_wavedrom(start_time=0, stop_time=20)"
   ]
  },
  {
   "cell_type": "markdown",
   "metadata": {},
   "source": [
    "#### Test when $\\omega_{\\text{REF}}=\\omega_{\\text{FB}}$ "
   ]
  },
  {
   "cell_type": "code",
   "execution_count": 13,
   "metadata": {},
   "outputs": [
    {
     "data": {
      "text/html": [
       "<div><script type=\"WaveDrom\">{\"signal\": [{\"name\": \"clkFB\", \"wave\": \"010101010101010101010\"}, {\"name\": \"clkREF\", \"wave\": \"010101010101010101010\"}, {\"name\": \"DownOut[0]\", \"wave\": \"0....................\"}, {\"name\": \"UpOut[0]\", \"wave\": \"0....................\"}]}</script></div>"
      ]
     },
     "metadata": {},
     "output_type": "display_data"
    },
    {
     "data": {
      "application/javascript": [
       "$.getScript(\"http://wavedrom.com/wavedrom.min.js\", function () {\n",
       "$.getScript(\"http://wavedrom.com/skins/default.js\", function () {\n",
       "WaveDrom.ProcessAll();});\n",
       "});\n"
      ]
     },
     "metadata": {},
     "output_type": "display_data"
    }
   ],
   "source": [
    "#create the test signals\n",
    "Peeker.clear()\n",
    "clkREF=Signal(bool(0)); Peeker(clkREF, 'clkREF')\n",
    "clkFB=Signal(bool(0)); Peeker(clkFB, 'clkFB')\n",
    "UpOut=Signal(bool(0)); Peeker(UpOut, 'UpOut')\n",
    "DownOut=Signal(bool(0)); Peeker(DownOut, 'DownOut')\n",
    "\n",
    "#bind the test signals to the DUT\n",
    "DUT=SeqPD(clkREF, clkFB, UpOut, DownOut)\n",
    "\n",
    "sim=Simulation(DUT, SeqPD_TB(1, 1), *Peeker.instances()).run()\n",
    "Peeker.to_wavedrom(start_time=0, stop_time=20)"
   ]
  },
  {
   "cell_type": "markdown",
   "metadata": {},
   "source": [
    "#### Test when $\\omega_{\\text{REF}}<\\omega_{\\text{FB}}$ "
   ]
  },
  {
   "cell_type": "code",
   "execution_count": 14,
   "metadata": {},
   "outputs": [
    {
     "data": {
      "text/html": [
       "<div><script type=\"WaveDrom\">{\"signal\": [{\"name\": \"clkFB\", \"wave\": \"0..1..0..1..0..1..0..\"}, {\"name\": \"clkREF\", \"wave\": \"0.1.0.1.0.1.0.1.0.1.0\"}, {\"name\": \"DownOut[0]\", \"wave\": \"0....................\"}, {\"name\": \"UpOut[0]\", \"wave\": \"0.10..1..01....0..1..\"}]}</script></div>"
      ]
     },
     "metadata": {},
     "output_type": "display_data"
    },
    {
     "data": {
      "application/javascript": [
       "$.getScript(\"http://wavedrom.com/wavedrom.min.js\", function () {\n",
       "$.getScript(\"http://wavedrom.com/skins/default.js\", function () {\n",
       "WaveDrom.ProcessAll();});\n",
       "});\n"
      ]
     },
     "metadata": {},
     "output_type": "display_data"
    }
   ],
   "source": [
    "#create the test signals\n",
    "Peeker.clear()\n",
    "clkREF=Signal(bool(0)); Peeker(clkREF, 'clkREF')\n",
    "clkFB=Signal(bool(0)); Peeker(clkFB, 'clkFB')\n",
    "UpOut=Signal(bool(0)); Peeker(UpOut, 'UpOut')\n",
    "DownOut=Signal(bool(0)); Peeker(DownOut, 'DownOut')\n",
    "\n",
    "#bind the test signals to the DUT\n",
    "DUT=SeqPD(clkREF, clkFB, UpOut, DownOut)\n",
    "\n",
    "sim=Simulation(DUT, SeqPD_TB(2, 3), *Peeker.instances()).run()\n",
    "Peeker.to_wavedrom(start_time=0, stop_time=20)"
   ]
  },
  {
   "cell_type": "markdown",
   "metadata": {},
   "source": [
    "### Verilog implementation¶"
   ]
  },
  {
   "cell_type": "code",
   "execution_count": 15,
   "metadata": {},
   "outputs": [
    {
     "name": "stdout",
     "output_type": "stream",
     "text": [
      "***Verilog modual from SeqPD.v***\n",
      "\n",
      " // File: SeqPD.v\n",
      "// Generated by MyHDL 0.10\n",
      "// Date: Mon May 21 21:38:27 2018\n",
      "\n",
      "\n",
      "`timescale 1ns/10ps\n",
      "\n",
      "module SeqPD (\n",
      "    clkREF,\n",
      "    clkFB,\n",
      "    UpOut,\n",
      "    DownOut\n",
      ");\n",
      "// Sequential DFF Phase Detector\n",
      "// I/O:\n",
      "//     clkREF (bool; in): Ref clock to Upper DFF\n",
      "//     clkFB (bool; in): Compare clock to Lower DFF\n",
      "//     UpOut (bool; ouput): Upper DFF ouput\n",
      "//     DownOut (bool; output): Lower DFF ouput\n",
      "//     \n",
      "\n",
      "input clkREF;\n",
      "input clkFB;\n",
      "output UpOut;\n",
      "reg UpOut;\n",
      "output DownOut;\n",
      "reg DownOut;\n",
      "\n",
      "wire clr;\n",
      "\n",
      "\n",
      "\n",
      "always @(posedge clkREF, posedge clr) begin: SEQPD_UPD\n",
      "    if (clr) begin\n",
      "        UpOut <= 0;\n",
      "    end\n",
      "    else begin\n",
      "        UpOut <= 1;\n",
      "    end\n",
      "end\n",
      "\n",
      "\n",
      "always @(posedge clkFB, posedge clr) begin: SEQPD_DOWND\n",
      "    if (clr) begin\n",
      "        DownOut <= 0;\n",
      "    end\n",
      "    else begin\n",
      "        DownOut <= 1;\n",
      "    end\n",
      "end\n",
      "\n",
      "\n",
      "\n",
      "assign clr = (UpOut && DownOut);\n",
      "\n",
      "endmodule\n",
      "\n"
     ]
    },
    {
     "name": "stderr",
     "output_type": "stream",
     "text": [
      "/home/iridium/anaconda3/lib/python3.6/site-packages/myhdl/conversion/_toVerilog.py:296: ToVerilogWarning: Output port is read internally: UpOut\n",
      "  category=ToVerilogWarning\n",
      "/home/iridium/anaconda3/lib/python3.6/site-packages/myhdl/conversion/_toVerilog.py:296: ToVerilogWarning: Output port is read internally: DownOut\n",
      "  category=ToVerilogWarning\n"
     ]
    }
   ],
   "source": [
    "DUT.convert()\n",
    "VerilogTextReader('SeqPD');"
   ]
  },
  {
   "cell_type": "markdown",
   "metadata": {},
   "source": [
    "# Fractional Frequency Dividers"
   ]
  },
  {
   "cell_type": "markdown",
   "metadata": {},
   "source": [
    "Frequency Dividers (more properly called fractional frequency dividers) are and are not a  type of counter. In a traditional counter the counter would be run off a master clock to increment the counter and when the specified count is reached an indication signal would be given while also resetting the counter. In a fractional frequency divider, we can increment a counter but the incrimination is run off the input clock which may or may not be the master clock and the output of the counter reaching its count would be a then the new divided output clock. In addition, we can create \"fractional\" dividers such as $2/3$ via cascading a $1/2$ and a $1/3$ and modulating between them from another clock source to control the modulation. \n",
    "\n",
    "The reason that \"fractional\" is in quotes in regards to $2/3$ is that the frequency divider is not actually dividing by $2/3$ but is instead switching between a $1/2$ and a $1/3$ divider. Thus $2/3$ divider is a notational misnomer. But by cascading fixed and variable dividers with counters to control the modulation based on the clock being cascaded from large fractional division can be optioned\n",
    "\n",
    "So as stated frequency dividers are and are not a counter through  some of the more advanced programmable frequency dividers such as http://tremaineconsultinggroup.com/fractional-divider-in-verilog/ (source code: https://bitbucket.org/BrianTremaine/fractional_divide/src/a68c67979c80a453d4f7dfd82f5bf90d604393f1/hardware/frac_divider.v?at=master&fileviewer=file-view-default) ) are much more like counters then the primitive ones that will be discussed here"
   ]
  },
  {
   "cell_type": "markdown",
   "metadata": {},
   "source": [
    "## Divide by 2\n",
    "<img src=\"FD2.png\">"
   ]
  },
  {
   "cell_type": "markdown",
   "metadata": {},
   "source": [
    "### Divide by 2 myHDL implementation"
   ]
  },
  {
   "cell_type": "code",
   "execution_count": 16,
   "metadata": {},
   "outputs": [],
   "source": [
    "@block\n",
    "def Div2FD(clkIN, clkOUT, rst):\n",
    "    \"\"\"\n",
    "    1/2 fractial freancy divider\n",
    "    I/O:\n",
    "        clkIN (input bool): input clock signal\n",
    "        clkOUT (ouput bool): 1/2 ouput clock signal\n",
    "        rst (input bool): reset signal\n",
    "    \"\"\"\n",
    "    W12=Signal(bool(0))\n",
    "    \n",
    "    @always(clkIN.posedge)\n",
    "    def D1():\n",
    "        if rst:\n",
    "            W12.next=0\n",
    "        else:\n",
    "            W12.next=clkOUT\n",
    "    \n",
    "    @always(clkIN.posedge)\n",
    "    def D2():\n",
    "        if rst:\n",
    "            clkOUT.next=0\n",
    "        else:\n",
    "            clkOUT.next= not W12\n",
    "    \n",
    "    return instances()"
   ]
  },
  {
   "cell_type": "markdown",
   "metadata": {},
   "source": [
    "### Divide by 2 myHDL testing"
   ]
  },
  {
   "cell_type": "code",
   "execution_count": 17,
   "metadata": {},
   "outputs": [],
   "source": [
    "Peeker.clear()\n",
    "clkIN=Signal(bool(0)); Peeker(clkIN, 'clkIN')\n",
    "clkOUT=Signal(bool(0)); Peeker(clkOUT, 'clkOUT')\n",
    "rst=Signal(bool(0)); Peeker(rst, 'rst')\n",
    "\n",
    "DUT=Div2FD(clkIN, clkOUT, rst)\n",
    "\n",
    "def Div2FD_TB():\n",
    "    \n",
    "    #input clock source\n",
    "    @always(delay(1))\n",
    "    def ClkGen():\n",
    "        clkIN.next=not clkIN\n",
    "        \n",
    "    #run the simulation\n",
    "    @instance\n",
    "    def stimulus():\n",
    "        for i in range(21):\n",
    "            yield clkIN.posedge\n",
    "        \n",
    "        raise StopSimulation()\n",
    "        \n",
    "    return instances()\n",
    "\n",
    "sim=Simulation(DUT, Div2FD_TB(), *Peeker.instances()).run()"
   ]
  },
  {
   "cell_type": "code",
   "execution_count": 18,
   "metadata": {},
   "outputs": [
    {
     "data": {
      "text/html": [
       "<div><script type=\"WaveDrom\">{\"signal\": [{\"name\": \"clkIN\", \"wave\": \"0101010101010101010101\"}, {\"name\": \"clkOUT\", \"wave\": \"01...0...1...0...1...0\"}, {\"name\": \"rst\", \"wave\": \"0.....................\"}]}</script></div>"
      ]
     },
     "metadata": {},
     "output_type": "display_data"
    },
    {
     "data": {
      "application/javascript": [
       "$.getScript(\"http://wavedrom.com/wavedrom.min.js\", function () {\n",
       "$.getScript(\"http://wavedrom.com/skins/default.js\", function () {\n",
       "WaveDrom.ProcessAll();});\n",
       "});\n"
      ]
     },
     "metadata": {},
     "output_type": "display_data"
    }
   ],
   "source": [
    "Peeker.to_wavedrom(start_time=0, stop_time=21)"
   ]
  },
  {
   "cell_type": "markdown",
   "metadata": {},
   "source": [
    "### Verilog implementation"
   ]
  },
  {
   "cell_type": "code",
   "execution_count": 19,
   "metadata": {},
   "outputs": [
    {
     "name": "stdout",
     "output_type": "stream",
     "text": [
      "***Verilog modual from Div2FD.v***\n",
      "\n",
      " // File: Div2FD.v\n",
      "// Generated by MyHDL 0.10\n",
      "// Date: Mon May 21 21:38:29 2018\n",
      "\n",
      "\n",
      "`timescale 1ns/10ps\n",
      "\n",
      "module Div2FD (\n",
      "    clkIN,\n",
      "    clkOUT,\n",
      "    rst\n",
      ");\n",
      "// 1/2 fractial freancy divider\n",
      "// I/O:\n",
      "//     clkIN (input bool): input clock signal\n",
      "//     clkOUT (ouput bool): 1/2 ouput clock signal\n",
      "//     rst (input bool): reset signal\n",
      "\n",
      "input clkIN;\n",
      "output clkOUT;\n",
      "reg clkOUT;\n",
      "input rst;\n",
      "\n",
      "reg W12;\n",
      "\n",
      "\n",
      "\n",
      "always @(posedge clkIN) begin: DIV2FD_D1\n",
      "    if (rst) begin\n",
      "        W12 <= 0;\n",
      "    end\n",
      "    else begin\n",
      "        W12 <= clkOUT;\n",
      "    end\n",
      "end\n",
      "\n",
      "\n",
      "always @(posedge clkIN) begin: DIV2FD_D2\n",
      "    if (rst) begin\n",
      "        clkOUT <= 0;\n",
      "    end\n",
      "    else begin\n",
      "        clkOUT <= (!W12);\n",
      "    end\n",
      "end\n",
      "\n",
      "endmodule\n",
      "\n"
     ]
    },
    {
     "name": "stderr",
     "output_type": "stream",
     "text": [
      "/home/iridium/anaconda3/lib/python3.6/site-packages/myhdl/conversion/_toVerilog.py:296: ToVerilogWarning: Output port is read internally: clkOUT\n",
      "  category=ToVerilogWarning\n"
     ]
    }
   ],
   "source": [
    "DUT.convert()\n",
    "VerilogTextReader('Div2FD');"
   ]
  },
  {
   "cell_type": "markdown",
   "metadata": {},
   "source": [
    "## Divide by 3\n",
    "<img src=\"FD3.png\">"
   ]
  },
  {
   "cell_type": "markdown",
   "metadata": {},
   "source": [
    "### Divide by 3 myHDL implementation"
   ]
  },
  {
   "cell_type": "code",
   "execution_count": 20,
   "metadata": {
    "code_folding": []
   },
   "outputs": [],
   "source": [
    "@block\n",
    "def Div3FD(clkIN, clkOUT, rst):\n",
    "    \"\"\"\n",
    "    1/3 fractial freancy divider\n",
    "    I/O:\n",
    "        clkIN (input bool): input clock signal\n",
    "        clkOUT (ouput bool): 1/2 ouput clock signal\n",
    "        rst (input bool): reset signal\n",
    "    \"\"\"\n",
    "    W1A, WA2=[Signal(bool(0)) for _ in range(2)]\n",
    "    \n",
    "    @always(clkIN.posedge)\n",
    "    def D1():\n",
    "        if rst:\n",
    "            W1A.next=0\n",
    "        else:\n",
    "            W1A.next=clkOUT\n",
    "    \n",
    "    @always(clkIN.posedge)\n",
    "    def D2():\n",
    "        if rst:\n",
    "            clkOUT.next=0\n",
    "        else:\n",
    "            clkOUT.next= not WA2\n",
    "    \n",
    "    @always_comb\n",
    "    def And():\n",
    "        WA2.next=W1A and clkOUT\n",
    "    \n",
    "    return instances()"
   ]
  },
  {
   "cell_type": "markdown",
   "metadata": {},
   "source": [
    "### Divide by 3 myHDL testing"
   ]
  },
  {
   "cell_type": "code",
   "execution_count": 21,
   "metadata": {},
   "outputs": [],
   "source": [
    "Peeker.clear()\n",
    "clkIN=Signal(bool(0)); Peeker(clkIN, 'clkIN')\n",
    "clkOUT=Signal(bool(0)); Peeker(clkOUT, 'clkOUT')\n",
    "rst=Signal(bool(0)); Peeker(rst, 'rst')\n",
    "\n",
    "DUT=Div3FD(clkIN, clkOUT, rst)\n",
    "\n",
    "def Div3FD_TB():\n",
    "    \n",
    "    #input clock source\n",
    "    @always(delay(1))\n",
    "    def ClkGen():\n",
    "        clkIN.next=not clkIN\n",
    "        \n",
    "    #run the simulation\n",
    "    @instance\n",
    "    def stimulus():\n",
    "        for i in range(31):\n",
    "            yield clkIN.posedge\n",
    "        \n",
    "        raise StopSimulation()\n",
    "        \n",
    "    return instances()\n",
    "\n",
    "sim=Simulation(DUT, Div3FD_TB(), *Peeker.instances()).run()"
   ]
  },
  {
   "cell_type": "code",
   "execution_count": 22,
   "metadata": {},
   "outputs": [
    {
     "data": {
      "text/html": [
       "<div><script type=\"WaveDrom\">{\"signal\": [{\"name\": \"clkIN\", \"wave\": \"01010101010101010101\"}, {\"name\": \"clkOUT\", \"wave\": \"01...0.1...0.1...0.1\"}, {\"name\": \"rst\", \"wave\": \"0...................\"}]}</script></div>"
      ]
     },
     "metadata": {},
     "output_type": "display_data"
    },
    {
     "data": {
      "application/javascript": [
       "$.getScript(\"http://wavedrom.com/wavedrom.min.js\", function () {\n",
       "$.getScript(\"http://wavedrom.com/skins/default.js\", function () {\n",
       "WaveDrom.ProcessAll();});\n",
       "});\n"
      ]
     },
     "metadata": {},
     "output_type": "display_data"
    }
   ],
   "source": [
    "Peeker.to_wavedrom(start_time=0, stop_time=19)"
   ]
  },
  {
   "cell_type": "markdown",
   "metadata": {},
   "source": [
    "### Verilog implementation"
   ]
  },
  {
   "cell_type": "code",
   "execution_count": 23,
   "metadata": {},
   "outputs": [
    {
     "name": "stdout",
     "output_type": "stream",
     "text": [
      "***Verilog modual from Div3FD.v***\n",
      "\n",
      " // File: Div3FD.v\n",
      "// Generated by MyHDL 0.10\n",
      "// Date: Mon May 21 21:38:31 2018\n",
      "\n",
      "\n",
      "`timescale 1ns/10ps\n",
      "\n",
      "module Div3FD (\n",
      "    clkIN,\n",
      "    clkOUT,\n",
      "    rst\n",
      ");\n",
      "// 1/3 fractial freancy divider\n",
      "// I/O:\n",
      "//     clkIN (input bool): input clock signal\n",
      "//     clkOUT (ouput bool): 1/2 ouput clock signal\n",
      "//     rst (input bool): reset signal\n",
      "\n",
      "input clkIN;\n",
      "output clkOUT;\n",
      "reg clkOUT;\n",
      "input rst;\n",
      "\n",
      "wire WA2;\n",
      "reg W1A;\n",
      "\n",
      "\n",
      "\n",
      "always @(posedge clkIN) begin: DIV3FD_D1\n",
      "    if (rst) begin\n",
      "        W1A <= 0;\n",
      "    end\n",
      "    else begin\n",
      "        W1A <= clkOUT;\n",
      "    end\n",
      "end\n",
      "\n",
      "\n",
      "always @(posedge clkIN) begin: DIV3FD_D2\n",
      "    if (rst) begin\n",
      "        clkOUT <= 0;\n",
      "    end\n",
      "    else begin\n",
      "        clkOUT <= (!WA2);\n",
      "    end\n",
      "end\n",
      "\n",
      "\n",
      "\n",
      "assign WA2 = (W1A && clkOUT);\n",
      "\n",
      "endmodule\n",
      "\n"
     ]
    },
    {
     "name": "stderr",
     "output_type": "stream",
     "text": [
      "/home/iridium/anaconda3/lib/python3.6/site-packages/myhdl/conversion/_toVerilog.py:296: ToVerilogWarning: Output port is read internally: clkOUT\n",
      "  category=ToVerilogWarning\n"
     ]
    }
   ],
   "source": [
    "DUT.convert()\n",
    "VerilogTextReader('Div3FD');"
   ]
  },
  {
   "cell_type": "markdown",
   "metadata": {},
   "source": [
    "## Divide by 2/3 \n",
    "<img src=\"FD23.png\">\n",
    "\n",
    "This is a simple hybridization of the $1/2$ and the $1/3$ frequency divider that is modulated between the two by a `ModControl` Signal at the *or* gate to create a $2/3$ frequency divider"
   ]
  },
  {
   "cell_type": "markdown",
   "metadata": {},
   "source": [
    "### Divide by 2/3 myHDL implementation"
   ]
  },
  {
   "cell_type": "code",
   "execution_count": 24,
   "metadata": {},
   "outputs": [],
   "source": [
    "@block\n",
    "def Div23FD(clkIN, ModControl, clkOUT, rst):\n",
    "    \"\"\"\n",
    "    2/3 fractial freancy divider\n",
    "    I/O:\n",
    "        clkIN (input bool): input clock signal\n",
    "        ModControl (input bool): modulation switching signal\n",
    "        low is 1/3 high is 1/2\n",
    "        clkOUT (ouput bool): 1/2 ouput clock signal\n",
    "        rst (input bool): reset signal\n",
    "    \"\"\"\n",
    "    W1O, WOA, WA2=[Signal(bool(0)) for _ in range(3)]\n",
    "    \n",
    "    @always(clkIN.posedge)\n",
    "    def D1():\n",
    "        if rst:\n",
    "            W1O.next=0\n",
    "        else:\n",
    "            W1O.next=clkOUT\n",
    "    \n",
    "    @always(clkIN.posedge)\n",
    "    def D2():\n",
    "        if rst:\n",
    "            clkOUT.next=0\n",
    "        else:\n",
    "            clkOUT.next=not WA2\n",
    "    \n",
    "    @always_comb\n",
    "    def OR():\n",
    "        WOA.next=W1O or ModControl\n",
    "    \n",
    "    @always_comb\n",
    "    def AND():\n",
    "        WA2.next=clkOUT and WOA\n",
    "    \n",
    "    \n",
    "    return instances()"
   ]
  },
  {
   "cell_type": "markdown",
   "metadata": {},
   "source": [
    "### Divide by 2/3 myHDL testing"
   ]
  },
  {
   "cell_type": "code",
   "execution_count": 25,
   "metadata": {},
   "outputs": [],
   "source": [
    "Peeker.clear()\n",
    "clkIN=Signal(bool(0)); Peeker(clkIN, 'clkIN')\n",
    "ModControl=Signal(bool(1)); Peeker(ModControl, 'ModControl')\n",
    "clkOUT=Signal(bool(0)); Peeker(clkOUT, 'clkOUT')\n",
    "rst=Signal(bool(0)); Peeker(rst, 'rst')\n",
    "\n",
    "DUT=Div23FD(clkIN, ModControl, clkOUT, rst)\n",
    "\n",
    "def Div23FD_TB():\n",
    "    \n",
    "    #input clock source\n",
    "    @always(delay(1))\n",
    "    def ClkGen():\n",
    "        clkIN.next=not clkIN\n",
    "        \n",
    "    #run the simulation\n",
    "    @instance\n",
    "    def stimulus():\n",
    "        for i in range(31):\n",
    "            yield clkIN.posedge\n",
    "            if i>4:\n",
    "                ModControl.next=0\n",
    "        \n",
    "        raise StopSimulation()\n",
    "        \n",
    "    return instances()\n",
    "\n",
    "sim=Simulation(DUT, Div23FD_TB(), *Peeker.instances()).run()"
   ]
  },
  {
   "cell_type": "code",
   "execution_count": 26,
   "metadata": {},
   "outputs": [
    {
     "data": {
      "text/html": [
       "<div><script type=\"WaveDrom\">{\"signal\": [{\"name\": \"ModControl\", \"wave\": \"1........\"}, {\"name\": \"clkIN\", \"wave\": \"010101010\"}, {\"name\": \"clkOUT[0]\", \"wave\": \"01.0.1.0.\"}, {\"name\": \"rst[0]\", \"wave\": \"0........\"}]}</script></div>"
      ]
     },
     "metadata": {},
     "output_type": "display_data"
    },
    {
     "data": {
      "application/javascript": [
       "$.getScript(\"http://wavedrom.com/wavedrom.min.js\", function () {\n",
       "$.getScript(\"http://wavedrom.com/skins/default.js\", function () {\n",
       "WaveDrom.ProcessAll();});\n",
       "});\n"
      ]
     },
     "metadata": {},
     "output_type": "display_data"
    }
   ],
   "source": [
    "Peeker.to_wavedrom(start_time=0, stop_time=8)"
   ]
  },
  {
   "cell_type": "code",
   "execution_count": 27,
   "metadata": {},
   "outputs": [
    {
     "data": {
      "text/html": [
       "<div><script type=\"WaveDrom\">{\"signal\": [{\"name\": \"ModControl\", \"wave\": \"10............\"}, {\"name\": \"clkIN\", \"wave\": \"01010101010101\"}, {\"name\": \"clkOUT\", \"wave\": \"10.1...0.1...0\"}, {\"name\": \"rst\", \"wave\": \"0.............\"}]}</script></div>"
      ]
     },
     "metadata": {},
     "output_type": "display_data"
    },
    {
     "data": {
      "application/javascript": [
       "$.getScript(\"http://wavedrom.com/wavedrom.min.js\", function () {\n",
       "$.getScript(\"http://wavedrom.com/skins/default.js\", function () {\n",
       "WaveDrom.ProcessAll();});\n",
       "});\n"
      ]
     },
     "metadata": {},
     "output_type": "display_data"
    }
   ],
   "source": [
    "Peeker.to_wavedrom(start_time=10, stop_time=23)"
   ]
  },
  {
   "cell_type": "code",
   "execution_count": 28,
   "metadata": {},
   "outputs": [
    {
     "data": {
      "text/html": [
       "<div><script type=\"WaveDrom\">{\"signal\": [{\"name\": \"ModControl\", \"wave\": \"1..........0............\"}, {\"name\": \"clkIN\", \"wave\": \"010101010101010101010101\"}, {\"name\": \"clkOUT\", \"wave\": \"01.0.1.0.1.0.1...0.1...0\"}, {\"name\": \"rst\", \"wave\": \"0.......................\"}]}</script></div>"
      ]
     },
     "metadata": {},
     "output_type": "display_data"
    },
    {
     "data": {
      "application/javascript": [
       "$.getScript(\"http://wavedrom.com/wavedrom.min.js\", function () {\n",
       "$.getScript(\"http://wavedrom.com/skins/default.js\", function () {\n",
       "WaveDrom.ProcessAll();});\n",
       "});\n"
      ]
     },
     "metadata": {},
     "output_type": "display_data"
    }
   ],
   "source": [
    "Peeker.to_wavedrom(start_time=0, stop_time=23)"
   ]
  },
  {
   "cell_type": "markdown",
   "metadata": {},
   "source": [
    "### Verilog implementation\n"
   ]
  },
  {
   "cell_type": "code",
   "execution_count": 29,
   "metadata": {},
   "outputs": [
    {
     "name": "stdout",
     "output_type": "stream",
     "text": [
      "***Verilog modual from Div23SFD.v***\n",
      "\n",
      " // File: Div23SFD.v\n",
      "// Generated by MyHDL 0.10\n",
      "// Date: Mon May 21 21:02:56 2018\n",
      "\n",
      "\n",
      "`timescale 1ns/10ps\n",
      "\n",
      "module Div23SFD (\n",
      "    clkIN,\n",
      "    ModControl,\n",
      "    clkOUT,\n",
      "    rst\n",
      ");\n",
      "// 2/3 fractial freancy divider\n",
      "// I/O:\n",
      "//     clkIN (input bool): input clock signal\n",
      "//     ModControl (input bool): modulation switching signal\n",
      "//     low is 1/3 high is 1/2\n",
      "//     clkOUT (ouput bool): 1/2 ouput clock signal\n",
      "//     rst (input bool): reset signal\n",
      "\n",
      "input clkIN;\n",
      "input ModControl;\n",
      "output clkOUT;\n",
      "reg clkOUT;\n",
      "input rst;\n",
      "\n",
      "wire WOA;\n",
      "wire WA2;\n",
      "reg W1O;\n",
      "\n",
      "\n",
      "\n",
      "always @(posedge clkIN) begin: DIV23SFD_D1\n",
      "    if (rst) begin\n",
      "        W1O <= 0;\n",
      "    end\n",
      "    else begin\n",
      "        W1O <= clkOUT;\n",
      "    end\n",
      "end\n",
      "\n",
      "\n",
      "always @(posedge clkIN) begin: DIV23SFD_D2\n",
      "    if (rst) begin\n",
      "        clkOUT <= 0;\n",
      "    end\n",
      "    else begin\n",
      "        clkOUT <= (!WA2);\n",
      "    end\n",
      "end\n",
      "\n",
      "\n",
      "\n",
      "assign WOA = (W1O || ModControl);\n",
      "\n",
      "\n",
      "\n",
      "assign WA2 = (clkOUT && WOA);\n",
      "\n",
      "endmodule\n",
      "\n"
     ]
    },
    {
     "name": "stderr",
     "output_type": "stream",
     "text": [
      "/home/iridium/anaconda3/lib/python3.6/site-packages/myhdl/conversion/_toVerilog.py:296: ToVerilogWarning: Output port is read internally: clkOUT\n",
      "  category=ToVerilogWarning\n"
     ]
    }
   ],
   "source": [
    "DUT.convert()\n",
    "VerilogTextReader('Div23SFD');"
   ]
  },
  {
   "cell_type": "markdown",
   "metadata": {},
   "source": [
    "## Divide by 4/5\n",
    "<img src='FD45.png'>"
   ]
  },
  {
   "cell_type": "markdown",
   "metadata": {},
   "source": [
    "### Divide by 4/5 myHDL implementation"
   ]
  },
  {
   "cell_type": "code",
   "execution_count": 30,
   "metadata": {},
   "outputs": [],
   "source": [
    "@block\n",
    "def Div45FD(clkIN, ModControl, clkOUT, rst):\n",
    "    \"\"\"\n",
    "    4/5 fractial freancy divider\n",
    "    I/O:\n",
    "        clkIN (input bool): input clock signal\n",
    "        ModControl (input bool): modulation switching signal\n",
    "        low is 1/4 high is 1/5\n",
    "        clkOUT (ouput bool): 1/2 ouput clock signal\n",
    "        rst (input bool): reset signal\n",
    "    \"\"\"\n",
    "    WNA11, W12, W2NA1, W2NA2, WNA23, W3NA1=[Signal(bool(0)) for _ in range(6)]\n",
    "    \n",
    "    \n",
    "    @always_comb\n",
    "    def NAND1():\n",
    "        WNA11.next=not(W2NA1 and W3NA1 )\n",
    "        \n",
    "\n",
    "    @always(clkIN.posedge)\n",
    "    def D1():\n",
    "        if rst:\n",
    "            W12.next=0\n",
    "            clkOUT.next=0\n",
    "        else:\n",
    "            W12.next=WNA11\n",
    "            clkOUT.next= WNA11\n",
    "            \n",
    "    @always(clkIN.posedge)\n",
    "    def D2():\n",
    "        if rst:\n",
    "            W2NA1.next=0\n",
    "            W2NA2.next=0\n",
    "        else:\n",
    "            W2NA1.next=W12\n",
    "            W2NA2.next=not W12\n",
    "    \n",
    "    @always_comb\n",
    "    def NAND2():\n",
    "        WNA23.next=not(W2NA2 and ModControl)\n",
    "    \n",
    "    \n",
    "    \n",
    "    @always(clkIN.posedge)\n",
    "    def D3():\n",
    "        if rst:\n",
    "            W3NA1.next=0\n",
    "        else:\n",
    "            W3NA1.next=WNA23\n",
    "    \n",
    "    \n",
    "    \n",
    "    \n",
    "    return instances()"
   ]
  },
  {
   "cell_type": "markdown",
   "metadata": {},
   "source": [
    "### Divide by 4/5 myHDL testing"
   ]
  },
  {
   "cell_type": "code",
   "execution_count": 31,
   "metadata": {},
   "outputs": [],
   "source": [
    "Peeker.clear()\n",
    "clkIN=Signal(bool(0)); Peeker(clkIN, 'clkIN')\n",
    "ModControl=Signal(bool(0)); Peeker(ModControl, 'ModControl')\n",
    "clkOUT=Signal(bool(0)); Peeker(clkOUT, 'clkOUT')\n",
    "rst=Signal(bool(0)); Peeker(rst, 'rst')\n",
    "\n",
    "DUT=Div45FD(clkIN, ModControl, clkOUT, rst)\n",
    "\n",
    "def Div45FD_TB():\n",
    "    \n",
    "    #input clock source\n",
    "    @always(delay(1))\n",
    "    def ClkGen():\n",
    "        clkIN.next=not clkIN\n",
    "        \n",
    "    #run the simulation\n",
    "    @instance\n",
    "    def stimulus():\n",
    "        for i in range(40):\n",
    "            yield clkIN.posedge\n",
    "            if i>12:\n",
    "                ModControl.next=1\n",
    "        \n",
    "        raise StopSimulation()\n",
    "        \n",
    "    return instances()\n",
    "\n",
    "sim=Simulation(DUT, Div45FD_TB(), *Peeker.instances()).run()"
   ]
  },
  {
   "cell_type": "code",
   "execution_count": 32,
   "metadata": {},
   "outputs": [
    {
     "data": {
      "text/html": [
       "<div><script type=\"WaveDrom\">{\"signal\": [{\"name\": \"ModControl\", \"wave\": \"0....................\"}, {\"name\": \"clkIN\", \"wave\": \"010101010101010101010\"}, {\"name\": \"clkOUT[0]\", \"wave\": \"01...0...1...0...1...\"}, {\"name\": \"rst[0]\", \"wave\": \"0....................\"}]}</script></div>"
      ]
     },
     "metadata": {},
     "output_type": "display_data"
    },
    {
     "data": {
      "application/javascript": [
       "$.getScript(\"http://wavedrom.com/wavedrom.min.js\", function () {\n",
       "$.getScript(\"http://wavedrom.com/skins/default.js\", function () {\n",
       "WaveDrom.ProcessAll();});\n",
       "});\n"
      ]
     },
     "metadata": {},
     "output_type": "display_data"
    }
   ],
   "source": [
    "Peeker.to_wavedrom(start_time=0, stop_time=20)"
   ]
  },
  {
   "cell_type": "code",
   "execution_count": 33,
   "metadata": {},
   "outputs": [
    {
     "data": {
      "text/html": [
       "<div><script type=\"WaveDrom\">{\"signal\": [{\"name\": \"ModControl\", \"wave\": \"0......1.............\"}, {\"name\": \"clkIN\", \"wave\": \"010101010101010101010\"}, {\"name\": \"clkOUT\", \"wave\": \"10...1...0...1.....0.\"}, {\"name\": \"rst\", \"wave\": \"0....................\"}]}</script></div>"
      ]
     },
     "metadata": {},
     "output_type": "display_data"
    },
    {
     "data": {
      "application/javascript": [
       "$.getScript(\"http://wavedrom.com/wavedrom.min.js\", function () {\n",
       "$.getScript(\"http://wavedrom.com/skins/default.js\", function () {\n",
       "WaveDrom.ProcessAll();});\n",
       "});\n"
      ]
     },
     "metadata": {},
     "output_type": "display_data"
    }
   ],
   "source": [
    "Peeker.to_wavedrom(start_time=20, stop_time=40)"
   ]
  },
  {
   "cell_type": "code",
   "execution_count": 34,
   "metadata": {},
   "outputs": [
    {
     "data": {
      "text/html": [
       "<div><script type=\"WaveDrom\">{\"signal\": [{\"name\": \"ModControl\", \"wave\": \"0..........................1.............\"}, {\"name\": \"clkIN\", \"wave\": \"01010101010101010101010101010101010101010\"}, {\"name\": \"clkOUT\", \"wave\": \"01...0...1...0...1...0...1...0...1.....0.\"}, {\"name\": \"rst\", \"wave\": \"0........................................\"}]}</script></div>"
      ]
     },
     "metadata": {},
     "output_type": "display_data"
    },
    {
     "data": {
      "application/javascript": [
       "$.getScript(\"http://wavedrom.com/wavedrom.min.js\", function () {\n",
       "$.getScript(\"http://wavedrom.com/skins/default.js\", function () {\n",
       "WaveDrom.ProcessAll();});\n",
       "});\n"
      ]
     },
     "metadata": {},
     "output_type": "display_data"
    }
   ],
   "source": [
    "Peeker.to_wavedrom(start_time=0, stop_time=40)"
   ]
  },
  {
   "cell_type": "markdown",
   "metadata": {},
   "source": [
    "### Verilog implementation"
   ]
  },
  {
   "cell_type": "code",
   "execution_count": 35,
   "metadata": {},
   "outputs": [
    {
     "name": "stdout",
     "output_type": "stream",
     "text": [
      "***Verilog modual from Div45FD.v***\n",
      "\n",
      " // File: Div45FD.v\n",
      "// Generated by MyHDL 0.10\n",
      "// Date: Mon May 21 21:38:35 2018\n",
      "\n",
      "\n",
      "`timescale 1ns/10ps\n",
      "\n",
      "module Div45FD (\n",
      "    clkIN,\n",
      "    ModControl,\n",
      "    clkOUT,\n",
      "    rst\n",
      ");\n",
      "// 4/5 fractial freancy divider\n",
      "// I/O:\n",
      "//     clkIN (input bool): input clock signal\n",
      "//     ModControl (input bool): modulation switching signal\n",
      "//     low is 1/4 high is 1/5\n",
      "//     clkOUT (ouput bool): 1/2 ouput clock signal\n",
      "//     rst (input bool): reset signal\n",
      "\n",
      "input clkIN;\n",
      "input ModControl;\n",
      "output clkOUT;\n",
      "reg clkOUT;\n",
      "input rst;\n",
      "\n",
      "wire WNA23;\n",
      "wire WNA11;\n",
      "reg W3NA1;\n",
      "reg W2NA2;\n",
      "reg W2NA1;\n",
      "reg W12;\n",
      "\n",
      "\n",
      "\n",
      "\n",
      "assign WNA11 = (!(W2NA1 && W3NA1));\n",
      "\n",
      "\n",
      "always @(posedge clkIN) begin: DIV45FD_D1\n",
      "    if (rst) begin\n",
      "        W12 <= 0;\n",
      "        clkOUT <= 0;\n",
      "    end\n",
      "    else begin\n",
      "        W12 <= WNA11;\n",
      "        clkOUT <= WNA11;\n",
      "    end\n",
      "end\n",
      "\n",
      "\n",
      "always @(posedge clkIN) begin: DIV45FD_D2\n",
      "    if (rst) begin\n",
      "        W2NA1 <= 0;\n",
      "        W2NA2 <= 0;\n",
      "    end\n",
      "    else begin\n",
      "        W2NA1 <= W12;\n",
      "        W2NA2 <= (!W12);\n",
      "    end\n",
      "end\n",
      "\n",
      "\n",
      "\n",
      "assign WNA23 = (!(W2NA2 && ModControl));\n",
      "\n",
      "\n",
      "always @(posedge clkIN) begin: DIV45FD_D3\n",
      "    if (rst) begin\n",
      "        W3NA1 <= 0;\n",
      "    end\n",
      "    else begin\n",
      "        W3NA1 <= WNA23;\n",
      "    end\n",
      "end\n",
      "\n",
      "endmodule\n",
      "\n"
     ]
    }
   ],
   "source": [
    "DUT.convert()\n",
    "VerilogTextReader('Div45FD');"
   ]
  },
  {
   "cell_type": "markdown",
   "metadata": {},
   "source": [
    "## Divide by 6 via cascaded 2 and 3"
   ]
  },
  {
   "cell_type": "markdown",
   "metadata": {},
   "source": [
    "### Divide by 6 myHDL implementation"
   ]
  },
  {
   "cell_type": "code",
   "execution_count": 36,
   "metadata": {},
   "outputs": [],
   "source": [
    "@block\n",
    "def Div6FD(clkIN, clkOUT, rst):\n",
    "    \"\"\"\n",
    "    1/6 fractial freancy divider via cascaded 2 and 3 dividers\n",
    "    using two `Div23SFD`\n",
    "    I/O:\n",
    "        clkIN (input bool): input clock signal\n",
    "        clkOUT (ouput bool): 1/6 ouput clock signal\n",
    "        rst (input bool): reset signal\n",
    "    \"\"\"\n",
    "    clkMid=Signal(bool(0))\n",
    "    MC2=Signal(bool(1));  MC3=Signal(bool(0))\n",
    "    \n",
    "    D2=Div23FD(clkIN, MC2, clkMid, rst)\n",
    "    D3=Div23FD(clkMid, MC3, clkOUT, rst)\n",
    "    \n",
    "    return instances()"
   ]
  },
  {
   "cell_type": "markdown",
   "metadata": {},
   "source": [
    "### Divide by 6 myHDL testing"
   ]
  },
  {
   "cell_type": "code",
   "execution_count": 37,
   "metadata": {},
   "outputs": [],
   "source": [
    "Peeker.clear()\n",
    "clkIN=Signal(bool(0)); Peeker(clkIN, 'clkIN')\n",
    "clkOUT=Signal(bool(0)); Peeker(clkOUT, 'clkOUT')\n",
    "rst=Signal(bool(0)); Peeker(rst, 'rst')\n",
    "\n",
    "DUT=Div6FD(clkIN, clkOUT, rst)\n",
    "\n",
    "def Div6FD_TB():\n",
    "    \n",
    "    #input clock source\n",
    "    @always(delay(1))\n",
    "    def ClkGen():\n",
    "        clkIN.next=not clkIN\n",
    "        \n",
    "    #run the simulation\n",
    "    @instance\n",
    "    def stimulus():\n",
    "        for i in range(31):\n",
    "            yield clkIN.posedge\n",
    "        \n",
    "        raise StopSimulation()\n",
    "        \n",
    "    return instances()\n",
    "\n",
    "sim=Simulation(DUT, Div6FD_TB(), *Peeker.instances()).run()"
   ]
  },
  {
   "cell_type": "code",
   "execution_count": 38,
   "metadata": {},
   "outputs": [
    {
     "data": {
      "text/html": [
       "<div><script type=\"WaveDrom\">{\"signal\": [{\"name\": \"clkIN\", \"wave\": \"0101010101010101010101\"}, {\"name\": \"clkOUT\", \"wave\": \"01.......0...1.......0\"}, {\"name\": \"rst\", \"wave\": \"0.....................\"}]}</script></div>"
      ]
     },
     "metadata": {},
     "output_type": "display_data"
    },
    {
     "data": {
      "application/javascript": [
       "$.getScript(\"http://wavedrom.com/wavedrom.min.js\", function () {\n",
       "$.getScript(\"http://wavedrom.com/skins/default.js\", function () {\n",
       "WaveDrom.ProcessAll();});\n",
       "});\n"
      ]
     },
     "metadata": {},
     "output_type": "display_data"
    }
   ],
   "source": [
    "Peeker.to_wavedrom(start_time=0, stop_time=21)"
   ]
  },
  {
   "cell_type": "markdown",
   "metadata": {},
   "source": [
    "### Verilog implementation"
   ]
  },
  {
   "cell_type": "code",
   "execution_count": 39,
   "metadata": {},
   "outputs": [
    {
     "name": "stdout",
     "output_type": "stream",
     "text": [
      "***Verilog modual from Div6FD.v***\n",
      "\n",
      " // File: Div6FD.v\n",
      "// Generated by MyHDL 0.10\n",
      "// Date: Mon May 21 21:38:37 2018\n",
      "\n",
      "\n",
      "`timescale 1ns/10ps\n",
      "\n",
      "module Div6FD (\n",
      "    clkIN,\n",
      "    clkOUT,\n",
      "    rst\n",
      ");\n",
      "// 1/6 fractial freancy divider via cascaded 2 and 3 dividers\n",
      "// using two `Div23SFD`\n",
      "// I/O:\n",
      "//     clkIN (input bool): input clock signal\n",
      "//     clkOUT (ouput bool): 1/6 ouput clock signal\n",
      "//     rst (input bool): reset signal\n",
      "\n",
      "input clkIN;\n",
      "output clkOUT;\n",
      "reg clkOUT;\n",
      "input rst;\n",
      "\n",
      "wire MC3;\n",
      "wire MC2;\n",
      "reg clkMid;\n",
      "wire Div23FD0_0_WOA;\n",
      "wire Div23FD0_0_WA2;\n",
      "reg Div23FD0_0_W1O;\n",
      "wire Div23FD1_WOA;\n",
      "wire Div23FD1_WA2;\n",
      "reg Div23FD1_W1O;\n",
      "\n",
      "assign MC3 = 1'd0;\n",
      "assign MC2 = 1'd1;\n",
      "\n",
      "\n",
      "always @(posedge clkIN) begin: DIV6FD_DIV23FD0_0_D1\n",
      "    if (rst) begin\n",
      "        Div23FD0_0_W1O <= 0;\n",
      "    end\n",
      "    else begin\n",
      "        Div23FD0_0_W1O <= clkMid;\n",
      "    end\n",
      "end\n",
      "\n",
      "\n",
      "always @(posedge clkIN) begin: DIV6FD_DIV23FD0_0_D2\n",
      "    if (rst) begin\n",
      "        clkMid <= 0;\n",
      "    end\n",
      "    else begin\n",
      "        clkMid <= (!Div23FD0_0_WA2);\n",
      "    end\n",
      "end\n",
      "\n",
      "\n",
      "\n",
      "assign Div23FD0_0_WOA = (Div23FD0_0_W1O || MC2);\n",
      "\n",
      "\n",
      "\n",
      "assign Div23FD0_0_WA2 = (clkMid && Div23FD0_0_WOA);\n",
      "\n",
      "\n",
      "always @(posedge clkMid) begin: DIV6FD_DIV23FD1_D1\n",
      "    if (rst) begin\n",
      "        Div23FD1_W1O <= 0;\n",
      "    end\n",
      "    else begin\n",
      "        Div23FD1_W1O <= clkOUT;\n",
      "    end\n",
      "end\n",
      "\n",
      "\n",
      "always @(posedge clkMid) begin: DIV6FD_DIV23FD1_D2\n",
      "    if (rst) begin\n",
      "        clkOUT <= 0;\n",
      "    end\n",
      "    else begin\n",
      "        clkOUT <= (!Div23FD1_WA2);\n",
      "    end\n",
      "end\n",
      "\n",
      "\n",
      "\n",
      "assign Div23FD1_WOA = (Div23FD1_W1O || MC3);\n",
      "\n",
      "\n",
      "\n",
      "assign Div23FD1_WA2 = (clkOUT && Div23FD1_WOA);\n",
      "\n",
      "endmodule\n",
      "\n"
     ]
    },
    {
     "name": "stderr",
     "output_type": "stream",
     "text": [
      "/home/iridium/anaconda3/lib/python3.6/site-packages/myhdl/conversion/_toVerilog.py:296: ToVerilogWarning: Output port is read internally: clkOUT\n",
      "  category=ToVerilogWarning\n",
      "/home/iridium/anaconda3/lib/python3.6/site-packages/myhdl/conversion/_toVerilog.py:349: ToVerilogWarning: Signal is not driven: MC3\n",
      "  category=ToVerilogWarning\n",
      "/home/iridium/anaconda3/lib/python3.6/site-packages/myhdl/conversion/_toVerilog.py:349: ToVerilogWarning: Signal is not driven: MC2\n",
      "  category=ToVerilogWarning\n"
     ]
    }
   ],
   "source": [
    "DUT.convert()\n",
    "VerilogTextReader('Div6FD');"
   ]
  },
  {
   "cell_type": "markdown",
   "metadata": {},
   "source": [
    "# ToDo\n",
    "2. Need to show more complicated cascades to get higher order dividers"
   ]
  }
 ],
 "metadata": {
  "author": "Phase Lock Loop Components in myHDL",
  "hide_input": false,
  "kernelspec": {
   "display_name": "Python 3",
   "language": "python",
   "name": "python3"
  },
  "language_info": {
   "codemirror_mode": {
    "name": "ipython",
    "version": 3
   },
   "file_extension": ".py",
   "mimetype": "text/x-python",
   "name": "python",
   "nbconvert_exporter": "python",
   "pygments_lexer": "ipython3",
   "version": "3.6.3"
  },
  "latex_envs": {
   "LaTeX_envs_menu_present": true,
   "autocomplete": true,
   "bibliofile": "biblio.bib",
   "cite_by": "apalike",
   "current_citInitial": 1,
   "eqLabelWithNumbers": true,
   "eqNumInitial": 1,
   "hotkeys": {
    "equation": "Ctrl-E",
    "itemize": "Ctrl-I"
   },
   "labels_anchors": false,
   "latex_user_defs": false,
   "report_style_numbering": false,
   "user_envs_cfg": false
  },
  "toc": {
   "nav_menu": {},
   "number_sections": true,
   "sideBar": true,
   "skip_h1_title": false,
   "toc_cell": true,
   "toc_position": {
    "height": "686px",
    "left": "0px",
    "right": "738px",
    "top": "207px",
    "width": "212px"
   },
   "toc_section_display": "block",
   "toc_window_display": true
  }
 },
 "nbformat": 4,
 "nbformat_minor": 2
}
