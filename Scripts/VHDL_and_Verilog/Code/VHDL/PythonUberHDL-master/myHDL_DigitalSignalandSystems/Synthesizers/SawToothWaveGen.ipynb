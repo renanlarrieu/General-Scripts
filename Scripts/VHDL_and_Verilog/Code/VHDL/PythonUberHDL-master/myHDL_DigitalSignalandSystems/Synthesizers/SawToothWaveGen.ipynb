{
 "cells": [
  {
   "cell_type": "markdown",
   "metadata": {},
   "source": [
    "\\title{myHDL Sawtooth Wave Generator based on the Phase Accumulation method}\n",
    "\\author{Steven K Armour}\n",
    "\\maketitle"
   ]
  },
  {
   "cell_type": "markdown",
   "metadata": {},
   "source": [
    "This is a simple SawTooth wave generator based on the phase accumulation method inspired by George Pantazopoulos implementation `SawWaveGen` in http://old.myhdl.org/doku.php/projects:dsx1000"
   ]
  },
  {
   "cell_type": "markdown",
   "metadata": {
    "toc": true
   },
   "source": [
    "<h1>Table of Contents<span class=\"tocSkip\"></span></h1>\n",
    "<div class=\"toc\" style=\"margin-top: 1em;\"><ul class=\"toc-item\"><li><span><a href=\"#Libraries-used\" data-toc-modified-id=\"Libraries-used-1\"><span class=\"toc-item-num\">1&nbsp;&nbsp;</span>Libraries used</a></span></li><li><span><a href=\"#Helper-functions\" data-toc-modified-id=\"Helper-functions-2\"><span class=\"toc-item-num\">2&nbsp;&nbsp;</span>Helper functions</a></span></li><li><span><a href=\"#Architecture-Setup\" data-toc-modified-id=\"Architecture-Setup-3\"><span class=\"toc-item-num\">3&nbsp;&nbsp;</span>Architecture Setup</a></span></li><li><span><a href=\"#Symbolic--Derivation\" data-toc-modified-id=\"Symbolic--Derivation-4\"><span class=\"toc-item-num\">4&nbsp;&nbsp;</span>Symbolic  Derivation</a></span></li><li><span><a href=\"#myHDL-Implementation\" data-toc-modified-id=\"myHDL-Implementation-5\"><span class=\"toc-item-num\">5&nbsp;&nbsp;</span>myHDL Implementation</a></span></li><li><span><a href=\"#myHDL-Testing\" data-toc-modified-id=\"myHDL-Testing-6\"><span class=\"toc-item-num\">6&nbsp;&nbsp;</span>myHDL Testing</a></span></li><li><span><a href=\"#myHDL-to-Verilog\" data-toc-modified-id=\"myHDL-to-Verilog-7\"><span class=\"toc-item-num\">7&nbsp;&nbsp;</span>myHDL to Verilog</a></span></li></ul></div>"
   ]
  },
  {
   "cell_type": "markdown",
   "metadata": {},
   "source": [
    "# Libraries used"
   ]
  },
  {
   "cell_type": "code",
   "execution_count": 1,
   "metadata": {},
   "outputs": [],
   "source": [
    "from myhdl import *\n",
    "import pandas as pd\n",
    "from myhdlpeek import Peeker\n",
    "import  numpy as np\n",
    "import matplotlib.pyplot as plt\n",
    "%matplotlib inline\n",
    "from sympy import *\n",
    "init_printing()"
   ]
  },
  {
   "cell_type": "markdown",
   "metadata": {},
   "source": [
    "# Helper functions"
   ]
  },
  {
   "cell_type": "code",
   "execution_count": 2,
   "metadata": {},
   "outputs": [],
   "source": [
    "#helper  functions to read in the .v and .vhd generated files into python\n",
    "def VerilogTextReader(loc, printresult=True):\n",
    "    with open(f'{loc}.v', 'r') as vText:\n",
    "        VerilogText=vText.read()\n",
    "    if printresult:\n",
    "        print(f'***Verilog modual from {loc}.v***\\n\\n', VerilogText)\n",
    "    return VerilogText\n",
    "\n",
    "def VHDLTextReader(loc, printresult=True):\n",
    "    with open(f'{loc}.vhd', 'r') as vText:\n",
    "        VerilogText=vText.read()\n",
    "    if printresult:\n",
    "        print(f'***VHDL modual from {loc}.vhd***\\n\\n', VerilogText)\n",
    "    return VerilogText"
   ]
  },
  {
   "cell_type": "markdown",
   "metadata": {},
   "source": [
    "# Architecture Setup"
   ]
  },
  {
   "cell_type": "code",
   "execution_count": null,
   "metadata": {},
   "outputs": [],
   "source": [
    "BitWidth=16\n",
    "#the max in excluded in intbv \n",
    "MaxV=int(2**(BitWidth-1)); MinV=-int(2**(BitWidth-1))\n",
    "a=intbv(0)[BitWidth:]; a=a.signed()\n",
    "len(a), a.min, MinV, a.max, MaxV"
   ]
  },
  {
   "cell_type": "markdown",
   "metadata": {},
   "source": [
    "# Symbolic  Derivation"
   ]
  },
  {
   "cell_type": "code",
   "execution_count": 5,
   "metadata": {},
   "outputs": [],
   "source": [
    "t, T=symbols('t, T', real=True)\n",
    "y=Function('y')(t)"
   ]
  },
  {
   "cell_type": "code",
   "execution_count": 6,
   "metadata": {},
   "outputs": [
    {
     "data": {
      "image/png": "[encoded data removed]",
      "text/latex": [
       "$$y{\\left (t \\right )} = - \\lfloor{\\frac{t}{T}}\\rfloor + \\frac{t}{T}$$"
      ],
      "text/plain": [
       "         ⎢t⎥   t\n",
       "y(t) = - ⎢─⎥ + ─\n",
       "         ⎣T⎦   T"
      ]
     },
     "execution_count": 6,
     "metadata": {},
     "output_type": "execute_result"
    }
   ],
   "source": [
    "yEq=Eq(y, (t/T)-floor(t/T)); yEq"
   ]
  },
  {
   "cell_type": "code",
   "execution_count": 7,
   "metadata": {},
   "outputs": [
    {
     "data": {
      "image/png": "[encoded data removed]",
      "text/latex": [
       "$$\\lfloor{\\frac{2^{W} f_{t}}{f_{c}}}\\rfloor$$"
      ],
      "text/plain": [
       "⎢ W   ⎥\n",
       "⎢2 ⋅fₜ⎥\n",
       "⎢─────⎥\n",
       "⎣ f_c ⎦"
      ]
     },
     "execution_count": 7,
     "metadata": {},
     "output_type": "execute_result"
    }
   ],
   "source": [
    "ft, fc, W=symbols('f_t, f_c, W')\n",
    "PhaseMax=(ft*2**W)//fc; PhaseMax"
   ]
  },
  {
   "cell_type": "code",
   "execution_count": 8,
   "metadata": {},
   "outputs": [
    {
     "data": {
      "image/png": "[encoded data removed]",
      "text/latex": [
       "$$\\left \\{ W : 16, \\quad f_{c} : 100000.0, \\quad f_{t} : 440\\right \\}$$"
      ],
      "text/plain": [
       "{W: 16, f_c: 100000.0, fₜ: 440}"
      ]
     },
     "execution_count": 8,
     "metadata": {},
     "output_type": "execute_result"
    }
   ],
   "source": [
    "Targets={ft:440, W:BitWidth}; Targets[fc]=100e3\n",
    "Targets"
   ]
  },
  {
   "cell_type": "code",
   "execution_count": 9,
   "metadata": {},
   "outputs": [
    {
     "data": {
      "text/plain": [
       "'PhaseMax=288'"
      ]
     },
     "execution_count": 9,
     "metadata": {},
     "output_type": "execute_result"
    }
   ],
   "source": [
    "PM=PhaseMax.subs(Targets)\n",
    "f'PhaseMax={PM}'"
   ]
  },
  {
   "cell_type": "code",
   "execution_count": 10,
   "metadata": {},
   "outputs": [],
   "source": [
    "yN=lambdify((t, T), yEq.rhs, dummify=False)\n",
    "TN=1/100e3; TN\n",
    "tN=np.linspace(0, .1, PM//4)"
   ]
  },
  {
   "cell_type": "code",
   "execution_count": 11,
   "metadata": {},
   "outputs": [
    {
     "data": {
      "image/png": "[encoded data removed]",
      "text/plain": [
       "<matplotlib.figure.Figure at 0x7f14d67b9fd0>"
      ]
     },
     "metadata": {},
     "output_type": "display_data"
    }
   ],
   "source": [
    "fig, axBot=plt.subplots(ncols=1, nrows=1)\n",
    "axTop=axBot.twiny()\n",
    "axBot.plot(tN, yN(tN, TN))\n",
    "axBot.set_xlabel('Time [s]')\n",
    "axTop.plot(yN(tN, TN))\n",
    "axTop.set_xlabel('n');"
   ]
  },
  {
   "cell_type": "markdown",
   "metadata": {},
   "source": [
    "# myHDL Implementation"
   ]
  },
  {
   "cell_type": "code",
   "execution_count": 12,
   "metadata": {},
   "outputs": [],
   "source": [
    "@block\n",
    "def SawToothGen(y, clk, rst, Freq, ClkFreq):\n",
    "    \"\"\"\n",
    "    Inputs:\n",
    "        clk (bool): system clock \n",
    "        rst (bool): reset signal\n",
    "    \n",
    "    Ouputs:\n",
    "        y(2's): SawWave Ouput\n",
    "    \n",
    "    Parmeters:\n",
    "        Freq(float): Target Freq\n",
    "        ClkFreq(float): System Clock Freq\n",
    "    \"\"\"\n",
    "    \n",
    "    #Registor to store the phase; aka a counter\n",
    "    Phase=Signal(intbv(0)[BitWidth:])\n",
    "    \n",
    "    # Make phase (Counter) limit\n",
    "    PhaseCeil=int((Freq*2**BitWidth)//ClkFreq)\n",
    "    \n",
    "    @always(clk.posedge)\n",
    "    def logic():\n",
    "        if rst:\n",
    "            Phase.next=0\n",
    "            y.next=0\n",
    "        else:\n",
    "            if Phase==PhaseCeil-1:\n",
    "                y.next=0\n",
    "                Phase.next=0\n",
    "            else:\n",
    "                y.next=y+1\n",
    "                Phase.next=Phase+1\n",
    "        \n",
    "    return instances()"
   ]
  },
  {
   "cell_type": "markdown",
   "metadata": {},
   "source": [
    "# myHDL Testing"
   ]
  },
  {
   "cell_type": "code",
   "execution_count": 13,
   "metadata": {},
   "outputs": [],
   "source": [
    "Peeker.clear()\n",
    "y=Signal(intbv(0)[BitWidth:]); Peeker(y, 'y')\n",
    "#Phase=Signal(modbv(0, max=5)); Peeker(Phase, 'P')\n",
    "clk, rst=[Signal(bool(0)) for _ in range(2)]\n",
    "Peeker(clk, 'clk'); Peeker(rst, 'rst')\n",
    "\n",
    "DUT=SawToothGen(y, clk, rst, 440, 100e3)\n",
    "\n",
    "def SawToothGen_TB():\n",
    "    \n",
    "    @always(delay(1))  ## delay in nano seconds\n",
    "    def clkGen():\n",
    "        clk.next = not clk\n",
    "    \n",
    "    @instance\n",
    "    def Stimules():\n",
    "        for i in range(8*PM):\n",
    "            yield clk.posedge\n",
    "\n",
    "        for i in range(4):\n",
    "            if i <2:\n",
    "                rst.next=True\n",
    "            else:\n",
    "                rst.next=False\n",
    "            yield clk.posedge\n",
    "\n",
    "\n",
    "        raise StopSimulation\n",
    "    return instances()\n",
    "\n",
    "sim=Simulation(DUT, SawToothGen_TB(), *Peeker.instances()).run()\n",
    "#Peeker.to_wavedrom()        "
   ]
  },
  {
   "cell_type": "code",
   "execution_count": 14,
   "metadata": {
    "scrolled": true
   },
   "outputs": [
    {
     "data": {
      "text/html": [
       "<div>\n",
       "<style scoped>\n",
       "    .dataframe tbody tr th:only-of-type {\n",
       "        vertical-align: middle;\n",
       "    }\n",
       "\n",
       "    .dataframe tbody tr th {\n",
       "        vertical-align: top;\n",
       "    }\n",
       "\n",
       "    .dataframe thead th {\n",
       "        text-align: right;\n",
       "    }\n",
       "</style>\n",
       "<table border=\"1\" class=\"dataframe\">\n",
       "  <thead>\n",
       "    <tr style=\"text-align: right;\">\n",
       "      <th></th>\n",
       "      <th>clk</th>\n",
       "      <th>rst</th>\n",
       "      <th>y</th>\n",
       "    </tr>\n",
       "  </thead>\n",
       "  <tbody>\n",
       "    <tr>\n",
       "      <th>0</th>\n",
       "      <td>1</td>\n",
       "      <td>0</td>\n",
       "      <td>1</td>\n",
       "    </tr>\n",
       "    <tr>\n",
       "      <th>1</th>\n",
       "      <td>1</td>\n",
       "      <td>0</td>\n",
       "      <td>2</td>\n",
       "    </tr>\n",
       "    <tr>\n",
       "      <th>2</th>\n",
       "      <td>1</td>\n",
       "      <td>0</td>\n",
       "      <td>3</td>\n",
       "    </tr>\n",
       "    <tr>\n",
       "      <th>3</th>\n",
       "      <td>1</td>\n",
       "      <td>0</td>\n",
       "      <td>4</td>\n",
       "    </tr>\n",
       "    <tr>\n",
       "      <th>4</th>\n",
       "      <td>1</td>\n",
       "      <td>0</td>\n",
       "      <td>5</td>\n",
       "    </tr>\n",
       "    <tr>\n",
       "      <th>5</th>\n",
       "      <td>1</td>\n",
       "      <td>0</td>\n",
       "      <td>6</td>\n",
       "    </tr>\n",
       "    <tr>\n",
       "      <th>6</th>\n",
       "      <td>1</td>\n",
       "      <td>0</td>\n",
       "      <td>7</td>\n",
       "    </tr>\n",
       "    <tr>\n",
       "      <th>7</th>\n",
       "      <td>1</td>\n",
       "      <td>0</td>\n",
       "      <td>8</td>\n",
       "    </tr>\n",
       "    <tr>\n",
       "      <th>8</th>\n",
       "      <td>1</td>\n",
       "      <td>0</td>\n",
       "      <td>9</td>\n",
       "    </tr>\n",
       "    <tr>\n",
       "      <th>9</th>\n",
       "      <td>1</td>\n",
       "      <td>0</td>\n",
       "      <td>10</td>\n",
       "    </tr>\n",
       "    <tr>\n",
       "      <th>10</th>\n",
       "      <td>1</td>\n",
       "      <td>0</td>\n",
       "      <td>11</td>\n",
       "    </tr>\n",
       "    <tr>\n",
       "      <th>11</th>\n",
       "      <td>1</td>\n",
       "      <td>0</td>\n",
       "      <td>12</td>\n",
       "    </tr>\n",
       "    <tr>\n",
       "      <th>12</th>\n",
       "      <td>1</td>\n",
       "      <td>0</td>\n",
       "      <td>13</td>\n",
       "    </tr>\n",
       "    <tr>\n",
       "      <th>13</th>\n",
       "      <td>1</td>\n",
       "      <td>0</td>\n",
       "      <td>14</td>\n",
       "    </tr>\n",
       "    <tr>\n",
       "      <th>14</th>\n",
       "      <td>1</td>\n",
       "      <td>0</td>\n",
       "      <td>15</td>\n",
       "    </tr>\n",
       "    <tr>\n",
       "      <th>15</th>\n",
       "      <td>1</td>\n",
       "      <td>0</td>\n",
       "      <td>16</td>\n",
       "    </tr>\n",
       "    <tr>\n",
       "      <th>16</th>\n",
       "      <td>1</td>\n",
       "      <td>0</td>\n",
       "      <td>17</td>\n",
       "    </tr>\n",
       "    <tr>\n",
       "      <th>17</th>\n",
       "      <td>1</td>\n",
       "      <td>0</td>\n",
       "      <td>18</td>\n",
       "    </tr>\n",
       "    <tr>\n",
       "      <th>18</th>\n",
       "      <td>1</td>\n",
       "      <td>0</td>\n",
       "      <td>19</td>\n",
       "    </tr>\n",
       "    <tr>\n",
       "      <th>19</th>\n",
       "      <td>1</td>\n",
       "      <td>0</td>\n",
       "      <td>20</td>\n",
       "    </tr>\n",
       "    <tr>\n",
       "      <th>20</th>\n",
       "      <td>1</td>\n",
       "      <td>0</td>\n",
       "      <td>21</td>\n",
       "    </tr>\n",
       "    <tr>\n",
       "      <th>21</th>\n",
       "      <td>1</td>\n",
       "      <td>0</td>\n",
       "      <td>22</td>\n",
       "    </tr>\n",
       "    <tr>\n",
       "      <th>22</th>\n",
       "      <td>1</td>\n",
       "      <td>0</td>\n",
       "      <td>23</td>\n",
       "    </tr>\n",
       "    <tr>\n",
       "      <th>23</th>\n",
       "      <td>1</td>\n",
       "      <td>0</td>\n",
       "      <td>24</td>\n",
       "    </tr>\n",
       "    <tr>\n",
       "      <th>24</th>\n",
       "      <td>1</td>\n",
       "      <td>0</td>\n",
       "      <td>25</td>\n",
       "    </tr>\n",
       "    <tr>\n",
       "      <th>25</th>\n",
       "      <td>1</td>\n",
       "      <td>0</td>\n",
       "      <td>26</td>\n",
       "    </tr>\n",
       "    <tr>\n",
       "      <th>26</th>\n",
       "      <td>1</td>\n",
       "      <td>0</td>\n",
       "      <td>27</td>\n",
       "    </tr>\n",
       "    <tr>\n",
       "      <th>27</th>\n",
       "      <td>1</td>\n",
       "      <td>0</td>\n",
       "      <td>28</td>\n",
       "    </tr>\n",
       "    <tr>\n",
       "      <th>28</th>\n",
       "      <td>1</td>\n",
       "      <td>0</td>\n",
       "      <td>29</td>\n",
       "    </tr>\n",
       "    <tr>\n",
       "      <th>29</th>\n",
       "      <td>1</td>\n",
       "      <td>0</td>\n",
       "      <td>30</td>\n",
       "    </tr>\n",
       "    <tr>\n",
       "      <th>...</th>\n",
       "      <td>...</td>\n",
       "      <td>...</td>\n",
       "      <td>...</td>\n",
       "    </tr>\n",
       "    <tr>\n",
       "      <th>2277</th>\n",
       "      <td>1</td>\n",
       "      <td>0</td>\n",
       "      <td>262</td>\n",
       "    </tr>\n",
       "    <tr>\n",
       "      <th>2278</th>\n",
       "      <td>1</td>\n",
       "      <td>0</td>\n",
       "      <td>263</td>\n",
       "    </tr>\n",
       "    <tr>\n",
       "      <th>2279</th>\n",
       "      <td>1</td>\n",
       "      <td>0</td>\n",
       "      <td>264</td>\n",
       "    </tr>\n",
       "    <tr>\n",
       "      <th>2280</th>\n",
       "      <td>1</td>\n",
       "      <td>0</td>\n",
       "      <td>265</td>\n",
       "    </tr>\n",
       "    <tr>\n",
       "      <th>2281</th>\n",
       "      <td>1</td>\n",
       "      <td>0</td>\n",
       "      <td>266</td>\n",
       "    </tr>\n",
       "    <tr>\n",
       "      <th>2282</th>\n",
       "      <td>1</td>\n",
       "      <td>0</td>\n",
       "      <td>267</td>\n",
       "    </tr>\n",
       "    <tr>\n",
       "      <th>2283</th>\n",
       "      <td>1</td>\n",
       "      <td>0</td>\n",
       "      <td>268</td>\n",
       "    </tr>\n",
       "    <tr>\n",
       "      <th>2284</th>\n",
       "      <td>1</td>\n",
       "      <td>0</td>\n",
       "      <td>269</td>\n",
       "    </tr>\n",
       "    <tr>\n",
       "      <th>2285</th>\n",
       "      <td>1</td>\n",
       "      <td>0</td>\n",
       "      <td>270</td>\n",
       "    </tr>\n",
       "    <tr>\n",
       "      <th>2286</th>\n",
       "      <td>1</td>\n",
       "      <td>0</td>\n",
       "      <td>271</td>\n",
       "    </tr>\n",
       "    <tr>\n",
       "      <th>2287</th>\n",
       "      <td>1</td>\n",
       "      <td>0</td>\n",
       "      <td>272</td>\n",
       "    </tr>\n",
       "    <tr>\n",
       "      <th>2288</th>\n",
       "      <td>1</td>\n",
       "      <td>0</td>\n",
       "      <td>273</td>\n",
       "    </tr>\n",
       "    <tr>\n",
       "      <th>2289</th>\n",
       "      <td>1</td>\n",
       "      <td>0</td>\n",
       "      <td>274</td>\n",
       "    </tr>\n",
       "    <tr>\n",
       "      <th>2290</th>\n",
       "      <td>1</td>\n",
       "      <td>0</td>\n",
       "      <td>275</td>\n",
       "    </tr>\n",
       "    <tr>\n",
       "      <th>2291</th>\n",
       "      <td>1</td>\n",
       "      <td>0</td>\n",
       "      <td>276</td>\n",
       "    </tr>\n",
       "    <tr>\n",
       "      <th>2292</th>\n",
       "      <td>1</td>\n",
       "      <td>0</td>\n",
       "      <td>277</td>\n",
       "    </tr>\n",
       "    <tr>\n",
       "      <th>2293</th>\n",
       "      <td>1</td>\n",
       "      <td>0</td>\n",
       "      <td>278</td>\n",
       "    </tr>\n",
       "    <tr>\n",
       "      <th>2294</th>\n",
       "      <td>1</td>\n",
       "      <td>0</td>\n",
       "      <td>279</td>\n",
       "    </tr>\n",
       "    <tr>\n",
       "      <th>2295</th>\n",
       "      <td>1</td>\n",
       "      <td>0</td>\n",
       "      <td>280</td>\n",
       "    </tr>\n",
       "    <tr>\n",
       "      <th>2296</th>\n",
       "      <td>1</td>\n",
       "      <td>0</td>\n",
       "      <td>281</td>\n",
       "    </tr>\n",
       "    <tr>\n",
       "      <th>2297</th>\n",
       "      <td>1</td>\n",
       "      <td>0</td>\n",
       "      <td>282</td>\n",
       "    </tr>\n",
       "    <tr>\n",
       "      <th>2298</th>\n",
       "      <td>1</td>\n",
       "      <td>0</td>\n",
       "      <td>283</td>\n",
       "    </tr>\n",
       "    <tr>\n",
       "      <th>2299</th>\n",
       "      <td>1</td>\n",
       "      <td>0</td>\n",
       "      <td>284</td>\n",
       "    </tr>\n",
       "    <tr>\n",
       "      <th>2300</th>\n",
       "      <td>1</td>\n",
       "      <td>0</td>\n",
       "      <td>285</td>\n",
       "    </tr>\n",
       "    <tr>\n",
       "      <th>2301</th>\n",
       "      <td>1</td>\n",
       "      <td>0</td>\n",
       "      <td>286</td>\n",
       "    </tr>\n",
       "    <tr>\n",
       "      <th>2302</th>\n",
       "      <td>1</td>\n",
       "      <td>0</td>\n",
       "      <td>287</td>\n",
       "    </tr>\n",
       "    <tr>\n",
       "      <th>2303</th>\n",
       "      <td>1</td>\n",
       "      <td>1</td>\n",
       "      <td>0</td>\n",
       "    </tr>\n",
       "    <tr>\n",
       "      <th>2304</th>\n",
       "      <td>1</td>\n",
       "      <td>1</td>\n",
       "      <td>0</td>\n",
       "    </tr>\n",
       "    <tr>\n",
       "      <th>2305</th>\n",
       "      <td>1</td>\n",
       "      <td>0</td>\n",
       "      <td>0</td>\n",
       "    </tr>\n",
       "    <tr>\n",
       "      <th>2306</th>\n",
       "      <td>1</td>\n",
       "      <td>0</td>\n",
       "      <td>1</td>\n",
       "    </tr>\n",
       "  </tbody>\n",
       "</table>\n",
       "<p>2307 rows × 3 columns</p>\n",
       "</div>"
      ],
      "text/plain": [
       "      clk  rst    y\n",
       "0       1    0    1\n",
       "1       1    0    2\n",
       "2       1    0    3\n",
       "3       1    0    4\n",
       "4       1    0    5\n",
       "5       1    0    6\n",
       "6       1    0    7\n",
       "7       1    0    8\n",
       "8       1    0    9\n",
       "9       1    0   10\n",
       "10      1    0   11\n",
       "11      1    0   12\n",
       "12      1    0   13\n",
       "13      1    0   14\n",
       "14      1    0   15\n",
       "15      1    0   16\n",
       "16      1    0   17\n",
       "17      1    0   18\n",
       "18      1    0   19\n",
       "19      1    0   20\n",
       "20      1    0   21\n",
       "21      1    0   22\n",
       "22      1    0   23\n",
       "23      1    0   24\n",
       "24      1    0   25\n",
       "25      1    0   26\n",
       "26      1    0   27\n",
       "27      1    0   28\n",
       "28      1    0   29\n",
       "29      1    0   30\n",
       "...   ...  ...  ...\n",
       "2277    1    0  262\n",
       "2278    1    0  263\n",
       "2279    1    0  264\n",
       "2280    1    0  265\n",
       "2281    1    0  266\n",
       "2282    1    0  267\n",
       "2283    1    0  268\n",
       "2284    1    0  269\n",
       "2285    1    0  270\n",
       "2286    1    0  271\n",
       "2287    1    0  272\n",
       "2288    1    0  273\n",
       "2289    1    0  274\n",
       "2290    1    0  275\n",
       "2291    1    0  276\n",
       "2292    1    0  277\n",
       "2293    1    0  278\n",
       "2294    1    0  279\n",
       "2295    1    0  280\n",
       "2296    1    0  281\n",
       "2297    1    0  282\n",
       "2298    1    0  283\n",
       "2299    1    0  284\n",
       "2300    1    0  285\n",
       "2301    1    0  286\n",
       "2302    1    0  287\n",
       "2303    1    1    0\n",
       "2304    1    1    0\n",
       "2305    1    0    0\n",
       "2306    1    0    1\n",
       "\n",
       "[2307 rows x 3 columns]"
      ]
     },
     "execution_count": 14,
     "metadata": {},
     "output_type": "execute_result"
    }
   ],
   "source": [
    "Simdata=Peeker.to_dataframe()\n",
    "Simdata=Simdata[Simdata.clk!=0]\n",
    "Simdata.reset_index(drop=True, inplace=True)\n",
    "Simdata"
   ]
  },
  {
   "cell_type": "code",
   "execution_count": 15,
   "metadata": {},
   "outputs": [
    {
     "data": {
      "text/plain": [
       "<matplotlib.axes._subplots.AxesSubplot at 0x7f14cfa6f9b0>"
      ]
     },
     "execution_count": 15,
     "metadata": {},
     "output_type": "execute_result"
    },
    {
     "data": {
      "image/png": "[encoded data removed]",
      "text/plain": [
       "<matplotlib.figure.Figure at 0x7f14cfa5d6a0>"
      ]
     },
     "metadata": {},
     "output_type": "display_data"
    }
   ],
   "source": [
    "Simdata.plot(y='y')"
   ]
  },
  {
   "cell_type": "code",
   "execution_count": 16,
   "metadata": {},
   "outputs": [
    {
     "data": {
      "text/plain": [
       "[<matplotlib.lines.Line2D at 0x7f14cf9f54e0>]"
      ]
     },
     "execution_count": 16,
     "metadata": {},
     "output_type": "execute_result"
    },
    {
     "data": {
      "image/png": "[encoded data removed]",
      "text/plain": [
       "<matplotlib.figure.Figure at 0x7f14cf9a06a0>"
      ]
     },
     "metadata": {},
     "output_type": "display_data"
    }
   ],
   "source": [
    "y=Simdata[Simdata.rst!=1]['y']\n",
    "fy=np.fft.fftshift(np.fft.fft(y, len(y)))\n",
    "fs=np.fft.fftfreq(len(y))\n",
    "n=np.where(fs>=0)\n",
    "\n",
    "plt.plot(fs[n], np.abs(fy[n]))\n",
    "plt.twinx()\n",
    "plt.plot(fs[n], np.angle(fy[n], deg=True), color='g', alpha=.3)"
   ]
  },
  {
   "cell_type": "code",
   "execution_count": 17,
   "metadata": {},
   "outputs": [
    {
     "data": {
      "image/png": "[encoded data removed]",
      "text/latex": [
       "$$49978.308026$$"
      ],
      "text/plain": [
       "49978.308026"
      ]
     },
     "execution_count": 17,
     "metadata": {},
     "output_type": "execute_result"
    }
   ],
   "source": [
    "f=fs.max()*100e3; f"
   ]
  },
  {
   "cell_type": "markdown",
   "metadata": {},
   "source": [
    "# myHDL to Verilog"
   ]
  },
  {
   "cell_type": "code",
   "execution_count": 18,
   "metadata": {},
   "outputs": [
    {
     "name": "stdout",
     "output_type": "stream",
     "text": [
      "***Verilog modual from SawTooth.v***\n",
      "\n",
      " // File: SawTooth.v\n",
      "// Generated by MyHDL 0.10\n",
      "// Date: Wed Apr 11 20:11:25 2018\n",
      "\n",
      "\n",
      "`timescale 1ns/10ps\n",
      "\n",
      "module SawTooth (\n",
      "    y,\n",
      "    clk,\n",
      "    rst\n",
      ");\n",
      "\n",
      "\n",
      "output [15:0] y;\n",
      "reg [15:0] y;\n",
      "input clk;\n",
      "input rst;\n",
      "\n",
      "reg [15:0] Phase;\n",
      "\n",
      "\n",
      "\n",
      "always @(posedge clk) begin: SAWTOOTH_LOGIC\n",
      "    if (rst) begin\n",
      "        Phase <= 0;\n",
      "        y <= 0;\n",
      "    end\n",
      "    else begin\n",
      "        if (($signed({1'b0, Phase}) == (288 - 1))) begin\n",
      "            y <= 0;\n",
      "            Phase <= 0;\n",
      "        end\n",
      "        else begin\n",
      "            y <= (y + 1);\n",
      "            Phase <= (Phase + 1);\n",
      "        end\n",
      "    end\n",
      "end\n",
      "\n",
      "endmodule\n",
      "\n"
     ]
    },
    {
     "name": "stderr",
     "output_type": "stream",
     "text": [
      "/home/iridium/anaconda3/lib/python3.6/site-packages/myhdl/conversion/_toVerilog.py:296: ToVerilogWarning: Output port is read internally: y\n",
      "  category=ToVerilogWarning\n"
     ]
    }
   ],
   "source": [
    "DUT.convert()\n",
    "VerilogTextReader('SawTooth');"
   ]
  },
  {
   "cell_type": "code",
   "execution_count": null,
   "metadata": {},
   "outputs": [],
   "source": []
  }
 ],
 "metadata": {
  "author": "myHDL Sawtooth Wave Generator based on the Phase Accumulation method",
  "hide_input": false,
  "kernelspec": {
   "display_name": "Python 3",
   "language": "python",
   "name": "python3"
  },
  "language_info": {
   "codemirror_mode": {
    "name": "ipython",
    "version": 3
   },
   "file_extension": ".py",
   "mimetype": "text/x-python",
   "name": "python",
   "nbconvert_exporter": "python",
   "pygments_lexer": "ipython3",
   "version": "3.6.3"
  },
  "latex_envs": {
   "LaTeX_envs_menu_present": true,
   "autoclose": false,
   "autocomplete": true,
   "bibliofile": "biblio.bib",
   "cite_by": "apalike",
   "current_citInitial": 1,
   "eqLabelWithNumbers": true,
   "eqNumInitial": 1,
   "hotkeys": {
    "equation": "Ctrl-E",
    "itemize": "Ctrl-I"
   },
   "labels_anchors": false,
   "latex_user_defs": false,
   "report_style_numbering": false,
   "user_envs_cfg": false
  },
  "toc": {
   "nav_menu": {},
   "number_sections": true,
   "sideBar": true,
   "skip_h1_title": false,
   "toc_cell": true,
   "toc_position": {
    "height": "711px",
    "left": "0px",
    "right": "738px",
    "top": "231px",
    "width": "212px"
   },
   "toc_section_display": "block",
   "toc_window_display": false
  }
 },
 "nbformat": 4,
 "nbformat_minor": 2
}
