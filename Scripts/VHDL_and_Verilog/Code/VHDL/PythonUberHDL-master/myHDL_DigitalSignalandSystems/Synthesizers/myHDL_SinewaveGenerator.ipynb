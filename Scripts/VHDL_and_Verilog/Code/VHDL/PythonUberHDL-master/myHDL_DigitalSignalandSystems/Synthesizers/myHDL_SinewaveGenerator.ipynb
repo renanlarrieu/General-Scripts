{
 "cells": [
  {
   "cell_type": "markdown",
   "metadata": {},
   "source": [
    "\\title{Continues HDL Sinewave Generator via Chebyshev Polynomial Approximation in Python's myHDL}\n",
    "\\author{Steven K Armour}\n",
    "\\maketitle"
   ]
  },
  {
   "cell_type": "markdown",
   "metadata": {
    "toc": "true"
   },
   "source": [
    "# Table of Contents\n",
    " <p><div class=\"lev1 toc-item\"><a href=\"#Python-Libraries-Utilized\" data-toc-modified-id=\"Python-Libraries-Utilized-1\"><span class=\"toc-item-num\">1&nbsp;&nbsp;</span>Python Libraries Utilized</a></div><div class=\"lev1 toc-item\"><a href=\"#Acknowledgments\" data-toc-modified-id=\"Acknowledgments-2\"><span class=\"toc-item-num\">2&nbsp;&nbsp;</span>Acknowledgments</a></div><div class=\"lev1 toc-item\"><a href=\"#Derivation-of-the-Chebyshev-Polynomial-Approximation-for-Cos\" data-toc-modified-id=\"Derivation-of-the-Chebyshev-Polynomial-Approximation-for-Cos-3\"><span class=\"toc-item-num\">3&nbsp;&nbsp;</span>Derivation of the Chebyshev Polynomial Approximation for Cos</a></div><div class=\"lev2 toc-item\"><a href=\"#Chebyshev-Polynomials\" data-toc-modified-id=\"Chebyshev-Polynomials-31\"><span class=\"toc-item-num\">3.1&nbsp;&nbsp;</span>Chebyshev Polynomials</a></div><div class=\"lev3 toc-item\"><a href=\"#Plot-of-Chebyshev-Polynomials\" data-toc-modified-id=\"Plot-of-Chebyshev-Polynomials-311\"><span class=\"toc-item-num\">3.1.1&nbsp;&nbsp;</span>Plot of Chebyshev Polynomials</a></div><div class=\"lev2 toc-item\"><a href=\"#Chebyshev-Polynomial-cos-Relationship\" data-toc-modified-id=\"Chebyshev-Polynomial-cos-Relationship-32\"><span class=\"toc-item-num\">3.2&nbsp;&nbsp;</span>Chebyshev Polynomial $\\cos$ Relationship</a></div><div class=\"lev2 toc-item\"><a href=\"#Sinusoid-Generator-Algorithm-Development\" data-toc-modified-id=\"Sinusoid-Generator-Algorithm-Development-33\"><span class=\"toc-item-num\">3.3&nbsp;&nbsp;</span>Sinusoid Generator Algorithm Development</a></div><div class=\"lev3 toc-item\"><a href=\"#Future-additions\" data-toc-modified-id=\"Future-additions-331\"><span class=\"toc-item-num\">3.3.1&nbsp;&nbsp;</span>Future additions</a></div><div class=\"lev1 toc-item\"><a href=\"#Test-Bench-for-Sinusoid-Generator\" data-toc-modified-id=\"Test-Bench-for-Sinusoid-Generator-4\"><span class=\"toc-item-num\">4&nbsp;&nbsp;</span>Test Bench for Sinusoid Generator</a></div><div class=\"lev1 toc-item\"><a href=\"#Post-Processing-of-Test-Bench\" data-toc-modified-id=\"Post-Processing-of-Test-Bench-5\"><span class=\"toc-item-num\">5&nbsp;&nbsp;</span>Post Processing of Test Bench</a></div><div class=\"lev1 toc-item\"><a href=\"#RTL-Synthisis\" data-toc-modified-id=\"RTL-Synthisis-6\"><span class=\"toc-item-num\">6&nbsp;&nbsp;</span>RTL Synthisis</a></div><div class=\"lev1 toc-item\"><a href=\"#Conclusion\" data-toc-modified-id=\"Conclusion-7\"><span class=\"toc-item-num\">7&nbsp;&nbsp;</span>Conclusion</a></div><div class=\"lev1 toc-item\"><a href=\"#Refrances\" data-toc-modified-id=\"Refrances-8\"><span class=\"toc-item-num\">8&nbsp;&nbsp;</span>Refrances</a></div>"
   ]
  },
  {
   "cell_type": "markdown",
   "metadata": {},
   "source": [
    "# Python Libraries Utilized"
   ]
  },
  {
   "cell_type": "code",
   "execution_count": 4,
   "metadata": {},
   "outputs": [
    {
     "ename": "ModuleNotFoundError",
     "evalue": "No module named 'myhdl'",
     "output_type": "error",
     "traceback": [
      "\u001b[1;31m---------------------------------------------------------------------------\u001b[0m",
      "\u001b[1;31mModuleNotFoundError\u001b[0m                       Traceback (most recent call last)",
      "\u001b[1;32m<ipython-input-4-e9716540fe77>\u001b[0m in \u001b[0;36m<module>\u001b[1;34m\u001b[0m\n\u001b[0;32m      5\u001b[0m \u001b[1;32mfrom\u001b[0m \u001b[0mIPython\u001b[0m\u001b[1;33m.\u001b[0m\u001b[0mdisplay\u001b[0m \u001b[1;32mimport\u001b[0m \u001b[0mdisplay\u001b[0m\u001b[1;33m,\u001b[0m \u001b[0mMath\u001b[0m\u001b[1;33m,\u001b[0m \u001b[0mLatex\u001b[0m\u001b[1;33m\u001b[0m\u001b[1;33m\u001b[0m\u001b[0m\n\u001b[0;32m      6\u001b[0m \u001b[1;33m\u001b[0m\u001b[0m\n\u001b[1;32m----> 7\u001b[1;33m \u001b[1;32mfrom\u001b[0m \u001b[0mmyhdl\u001b[0m \u001b[1;32mimport\u001b[0m \u001b[1;33m*\u001b[0m\u001b[1;33m\u001b[0m\u001b[1;33m\u001b[0m\u001b[0m\n\u001b[0m\u001b[0;32m      8\u001b[0m \u001b[1;32mfrom\u001b[0m \u001b[0mmyhdlpeek\u001b[0m \u001b[1;32mimport\u001b[0m \u001b[0mPeeker\u001b[0m\u001b[1;33m\u001b[0m\u001b[1;33m\u001b[0m\u001b[0m\n\u001b[0;32m      9\u001b[0m \u001b[1;33m\u001b[0m\u001b[0m\n",
      "\u001b[1;31mModuleNotFoundError\u001b[0m: No module named 'myhdl'"
     ]
    }
   ],
   "source": [
    "import numpy as np\n",
    "import pandas as pd\n",
    "from sympy import *\n",
    "init_printing()\n",
    "from IPython.display import display, Math, Latex\n",
    " \n",
    "from myhdl import *\n",
    "from myhdlpeek import Peeker\n",
    "\n",
    "import matplotlib.pyplot as plt\n",
    "%matplotlib inline"
   ]
  },
  {
   "cell_type": "markdown",
   "metadata": {},
   "source": [
    "# Acknowledgments\n",
    "The orgianl Chebyshev Sinwave Genrator written in myHDL was done by [\"HARDSOFTLUCID\"](https://hardsoftlucid.wordpress.com/various-stuff/myhdl/)\n",
    "(myHDL.old version [here](https://github.com/jandecaluwe/site-myhdl-retired/blob/master/_ori/pages/projects/continuous_wave_sinusgenerator.txt))\n",
    "\n",
    "Author of myHDL [Jan Decaluwe](http://www.myhdl.org/users/jandecaluwe.html) and the author of the myHDL Peeker [XESS Corp.](https://github.com/xesscorp/myhdlpeek)\n",
    "\n"
   ]
  },
  {
   "cell_type": "markdown",
   "metadata": {},
   "source": [
    "# Derivation of the Chebyshev Polynomial Approximation for Cos"
   ]
  },
  {
   "cell_type": "markdown",
   "metadata": {},
   "source": [
    "## Chebyshev Polynomials"
   ]
  },
  {
   "cell_type": "markdown",
   "metadata": {},
   "source": [
    "We Start with recalling that the double(n) angle trig identity of $\\cos$ for $n=2$ is\n",
    "$$\\cos(2\\theta)= \\cos(\\theta)^2 -\\sin(\\theta)^2 = 2\\cos(\\theta)^2 -1$$\n",
    "and for $n=3$ is \n",
    "$$\\cos(3\\theta)= cos(\\theta)^3 -3\\sin(\\theta)^2 \\cos(\\theta)=4\\cos(\\theta)^3 -3\\cos(\\theta)$$"
   ]
  },
  {
   "cell_type": "markdown",
   "metadata": {},
   "source": [
    "Now exploiting Chebyshev polynomials that come from the power series solution($y(x)=\\sum_{n=0}^{\\infty} a_n x^n$) of  Chebyshev differential equation:\n",
    "$$(1-x^2)y\" -xy'+p^2y=0$$\n",
    "\n",
    "The Power series solution takes on the form of a Recurrence relation for the $a_n$ term in the Power series as\n",
    "$$a_{n+2}=\\dfrac{(n-p)(n+p)}{(n+1)(n+2)}a_n$$\n",
    "for $x\\in [-1, 1]$\n",
    "that leads to the Chebyshev polynomial defined as\n",
    "$$T_0(x)=1$$\n",
    "$$T_1(x)=x$$\n",
    "$$T_{n+1}(x)=2xT_n(x)-T_{n-1}(x)$$\n",
    "\n",
    "\n",
    "\n"
   ]
  },
  {
   "cell_type": "markdown",
   "metadata": {},
   "source": [
    "### Plot of Chebyshev Polynomials"
   ]
  },
  {
   "cell_type": "code",
   "execution_count": 5,
   "metadata": {},
   "outputs": [
    {
     "ename": "NameError",
     "evalue": "name 'plt' is not defined",
     "output_type": "error",
     "traceback": [
      "\u001b[1;31m---------------------------------------------------------------------------\u001b[0m",
      "\u001b[1;31mNameError\u001b[0m                                 Traceback (most recent call last)",
      "\u001b[1;32m<ipython-input-5-5ddf02379233>\u001b[0m in \u001b[0;36m<module>\u001b[1;34m\u001b[0m\n\u001b[0;32m      1\u001b[0m \u001b[0mx\u001b[0m\u001b[1;33m=\u001b[0m\u001b[0mnp\u001b[0m\u001b[1;33m.\u001b[0m\u001b[0mlinspace\u001b[0m\u001b[1;33m(\u001b[0m\u001b[1;33m-\u001b[0m\u001b[1;36m1.0\u001b[0m\u001b[1;33m,\u001b[0m \u001b[1;36m1.0\u001b[0m\u001b[1;33m)\u001b[0m\u001b[1;33m\u001b[0m\u001b[1;33m\u001b[0m\u001b[0m\n\u001b[1;32m----> 2\u001b[1;33m \u001b[0mfig\u001b[0m\u001b[1;33m=\u001b[0m\u001b[0mplt\u001b[0m\u001b[1;33m.\u001b[0m\u001b[0mfigure\u001b[0m\u001b[1;33m(\u001b[0m\u001b[1;33m)\u001b[0m\u001b[1;33m\u001b[0m\u001b[1;33m\u001b[0m\u001b[0m\n\u001b[0m\u001b[0;32m      3\u001b[0m \u001b[0max\u001b[0m\u001b[1;33m=\u001b[0m\u001b[0mplt\u001b[0m\u001b[1;33m.\u001b[0m\u001b[0msubplot\u001b[0m\u001b[1;33m(\u001b[0m\u001b[1;36m111\u001b[0m\u001b[1;33m)\u001b[0m\u001b[1;33m\u001b[0m\u001b[1;33m\u001b[0m\u001b[0m\n\u001b[0;32m      4\u001b[0m \u001b[1;32mfor\u001b[0m \u001b[0mi\u001b[0m \u001b[1;32min\u001b[0m \u001b[0mrange\u001b[0m\u001b[1;33m(\u001b[0m\u001b[1;36m1\u001b[0m\u001b[1;33m,\u001b[0m\u001b[1;36m8\u001b[0m\u001b[1;33m+\u001b[0m\u001b[1;36m1\u001b[0m\u001b[1;33m)\u001b[0m\u001b[1;33m:\u001b[0m\u001b[1;33m\u001b[0m\u001b[1;33m\u001b[0m\u001b[0m\n\u001b[0;32m      5\u001b[0m     \u001b[0mcoeff\u001b[0m\u001b[1;33m=\u001b[0m\u001b[1;33m[\u001b[0m\u001b[1;36m0\u001b[0m\u001b[1;33m]\u001b[0m\u001b[1;33m*\u001b[0m\u001b[0mi\u001b[0m\u001b[1;33m\u001b[0m\u001b[1;33m\u001b[0m\u001b[0m\n",
      "\u001b[1;31mNameError\u001b[0m: name 'plt' is not defined"
     ]
    }
   ],
   "source": [
    "x=np.linspace(-1.0, 1.0)\n",
    "fig=plt.figure()\n",
    "ax=plt.subplot(111)\n",
    "for i in range(1,8+1):\n",
    "    coeff=[0]*i\n",
    "    coeff[-1]=i\n",
    "    y=np.polynomial.Chebyshev(coeff)(x)\n",
    "    ax.plot(x, y, label=f'$T_{i-1}(x)$')\n",
    "bbox_to_anchor=ax.get_position()\n",
    "ax.legend(loc='center left', bbox_to_anchor=(1, 0.5))\n",
    "ax.grid()\n",
    "plt.title(r\"Chebyshev Polynomials $T_0(x)-T_1(x), x\\in[-1, 1]$\" )\n",
    "None"
   ]
  },
  {
   "cell_type": "markdown",
   "metadata": {},
   "source": [
    "## Chebyshev Polynomial $\\cos$ Relationship\n"
   ]
  },
  {
   "cell_type": "markdown",
   "metadata": {},
   "source": [
    "If now $T_n(x)=T_n(cos(\\theta))=cos(n\\theta)$ we have\n",
    "\n",
    "$$T_0(\\cos(0\\cdot\\theta))=1$$\n",
    "$$T_1(\\cos(1\\cdot\\theta))=\\cos(\\theta)$$\n",
    "$$T_{n+1}(\\cos(\\theta))=2 \\cos(\\theta)T_n(\\cos(\\theta))-T_{n-1}(\\cos(\\theta))$$\n",
    "$$\\cos((n+1)\\theta)=2\\cos(\\theta)\\cos(n\\theta)-\\cos((n-1)\\theta)$$"
   ]
  },
  {
   "cell_type": "markdown",
   "metadata": {},
   "source": [
    "solving for $\\cos(\\theta)$ we get"
   ]
  },
  {
   "cell_type": "code",
   "execution_count": 6,
   "metadata": {},
   "outputs": [
    {
     "data": {
      "image/png": "[encoded data removed]",
      "text/latex": [
       "$\\displaystyle \\cos{\\left(\\theta \\right)} = \\frac{\\cos{\\left(\\theta \\left(n - 1\\right) \\right)} + \\cos{\\left(\\theta \\left(n + 1\\right) \\right)}}{2 \\cos{\\left(n \\theta \\right)}}$"
      ],
      "text/plain": [
       "         cos(θ⋅(n - 1)) + cos(θ⋅(n + 1))\n",
       "cos(θ) = ───────────────────────────────\n",
       "                    2⋅cos(n⋅θ)          "
      ]
     },
     "execution_count": 6,
     "metadata": {},
     "output_type": "execute_result"
    }
   ],
   "source": [
    "n, theta=symbols('n, theta')\n",
    "LHS=cos(theta)\n",
    "RHS=(cos((n+1)*theta)+cos((n-1)*theta))/(2*cos(n*theta))\n",
    "Eq(LHS, RHS)"
   ]
  },
  {
   "cell_type": "markdown",
   "metadata": {},
   "source": [
    "notice that the RHS can be simplified to"
   ]
  },
  {
   "cell_type": "code",
   "execution_count": 7,
   "metadata": {},
   "outputs": [
    {
     "data": {
      "image/png": "[encoded data removed]",
      "text/latex": [
       "$\\displaystyle \\cos{\\left(\\theta \\right)}$"
      ],
      "text/plain": [
       "cos(θ)"
      ]
     },
     "execution_count": 7,
     "metadata": {},
     "output_type": "execute_result"
    }
   ],
   "source": [
    "simplify(RHS)"
   ]
  },
  {
   "cell_type": "code",
   "execution_count": 8,
   "metadata": {},
   "outputs": [
    {
     "ename": "NameError",
     "evalue": "name 'plt' is not defined",
     "output_type": "error",
     "traceback": [
      "\u001b[1;31m---------------------------------------------------------------------------\u001b[0m",
      "\u001b[1;31mNameError\u001b[0m                                 Traceback (most recent call last)",
      "\u001b[1;32m<ipython-input-8-30d8012af5b3>\u001b[0m in \u001b[0;36m<module>\u001b[1;34m\u001b[0m\n\u001b[0;32m      2\u001b[0m \u001b[0mRHSN\u001b[0m\u001b[1;33m=\u001b[0m\u001b[0mlambdify\u001b[0m\u001b[1;33m(\u001b[0m\u001b[1;33m(\u001b[0m\u001b[0mn\u001b[0m\u001b[1;33m,\u001b[0m \u001b[0mtheta\u001b[0m\u001b[1;33m)\u001b[0m\u001b[1;33m,\u001b[0m \u001b[0mRHS\u001b[0m\u001b[1;33m,\u001b[0m \u001b[0mdummify\u001b[0m\u001b[1;33m=\u001b[0m\u001b[1;32mFalse\u001b[0m\u001b[1;33m)\u001b[0m\u001b[1;33m\u001b[0m\u001b[1;33m\u001b[0m\u001b[0m\n\u001b[0;32m      3\u001b[0m \u001b[1;33m\u001b[0m\u001b[0m\n\u001b[1;32m----> 4\u001b[1;33m \u001b[0mfig\u001b[0m\u001b[1;33m=\u001b[0m\u001b[0mplt\u001b[0m\u001b[1;33m.\u001b[0m\u001b[0mfigure\u001b[0m\u001b[1;33m(\u001b[0m\u001b[1;33m)\u001b[0m\u001b[1;33m\u001b[0m\u001b[1;33m\u001b[0m\u001b[0m\n\u001b[0m\u001b[0;32m      5\u001b[0m \u001b[0max\u001b[0m\u001b[1;33m=\u001b[0m\u001b[0mplt\u001b[0m\u001b[1;33m.\u001b[0m\u001b[0msubplot\u001b[0m\u001b[1;33m(\u001b[0m\u001b[1;36m111\u001b[0m\u001b[1;33m)\u001b[0m\u001b[1;33m\u001b[0m\u001b[1;33m\u001b[0m\u001b[0m\n\u001b[0;32m      6\u001b[0m \u001b[1;33m\u001b[0m\u001b[0m\n",
      "\u001b[1;31mNameError\u001b[0m: name 'plt' is not defined"
     ]
    }
   ],
   "source": [
    "#numericalize symbolic\n",
    "RHSN=lambdify((n, theta), RHS, dummify=False)\n",
    "\n",
    "fig=plt.figure()\n",
    "ax=plt.subplot(111)\n",
    "\n",
    "thetaN=np.linspace(0, 2*np.pi)\n",
    "for N in range(1, 8+1):\n",
    "    y=RHSN(N, thetaN)\n",
    "    ax.plot(thetaN, y, label=f'$C_{N-1} aprox$')\n",
    "ax.plot(thetaN, np.cos(thetaN), label=r'$cos(\\theta)$')\n",
    "ax.grid()\n",
    "\n",
    "ax.legend(loc='center left', bbox_to_anchor=(1, 0.5))\n",
    "plt.title(r\"Plot of $\\cos(\\theta), \\theta \\in[0, 2\\pi]$ & $N\\in[0, 7]$ CP Approx.\")\n",
    "None"
   ]
  },
  {
   "cell_type": "code",
   "execution_count": null,
   "metadata": {},
   "outputs": [],
   "source": [
    "thetaN=np.linspace(0, 2*np.pi)\n",
    "for N in range(1, 8+1):\n",
    "    y=np.cos(thetaN)-RHSN(N, thetaN)\n",
    "    plt.plot(thetaN, y, label=f'$C_{N-1} error$')\n",
    "plt.grid()\n",
    "plt.ticklabel_format(style='sci', axis='y', scilimits=(0,0))\n",
    "\n",
    "plt.legend(loc='center left', bbox_to_anchor=(1, 0.5))\n",
    "plt.title(r\"Plot of error of $\\cos(\\theta), \\theta \\in[0, 2\\pi]$ & $N\\in[0, 7]$ CP Aprox\")\n",
    "\n",
    "None"
   ]
  },
  {
   "cell_type": "markdown",
   "metadata": {},
   "source": [
    "##  Sinusoid Generator Algorithm Development"
   ]
  },
  {
   "cell_type": "markdown",
   "metadata": {},
   "source": [
    "now letting $\\cos(\\theta)=\\cos(2*\\pi f_{\\cos}/f_{clk})=T_1(x)$ we can translate the recursion relationship for the Chebyshev polynomials into relationships between regestes calls as follows. Let $$T_{n+1}(x)=2xT_n(x)-T_{n-1}(x)$$ become\n",
    "$$R_2=K \\cdot R_1 -R_0$$\n",
    "that is we we replace the $2x$ by a constant factor $K$ and utilize the subscripts as designations of our registers. Furthermore we know that after one call of our recursion relationship $R_2$ ($T_{n+1}(x))$) will now become our old value $R_0$ ($T_{n-1}(x)$) thus we have\n",
    "$$R_0=R_2$$\n",
    "$$R_2=K \\cdot R_1 -R_0$$\n",
    "\n",
    "further it can be shown that $R_2$ is just the next state value of the $R_1$ so that the above becomes \n",
    "\n",
    "$$R_0=R_1$$\n",
    "$$R_1'=K \\cdot R_1 -R_0$$\n",
    "\n",
    "where $'$ is used to indicate next state\n",
    "\n",
    "And because the multiplication of two 30 bit numbers will generate a 60 bit number the result needs to be down shifted since the full 30 bits of the register are not being utilized to prevent overflow.\n",
    "\n",
    "$$R_0=R_1$$\n",
    "$$R_1'=((K \\cdot R_1)>>(\\text{size of}R_1 -1 )) -R_0$$\n",
    "\n",
    "\n"
   ]
  },
  {
   "cell_type": "code",
   "execution_count": null,
   "metadata": {},
   "outputs": [],
   "source": [
    "def SinGenerator(SinFreq_parm, ClkFreq_parm, SinValue_out, \n",
    "                clk, rst, ena):\n",
    "    #contorl byte size and works with -1 to translate cos to sin\n",
    "    INTERNALWIDTH=len(SinValue_out)-2 \n",
    "    \n",
    "    #qunitited version of the 2x for cos(\\theta)\n",
    "    KONSTANT_FACTOR=int(np.cos(2*np.pi * SinFreq_parm /ClkFreq_parm)* 2**(INTERNALWIDTH))\n",
    "    \n",
    "    #prep the Needed regesters at sysnthis \n",
    "    Reg_T0=Signal(intbv((2**(INTERNALWIDTH))-1, \n",
    "                        min=SinValue_out.min, max=SinValue_out.max))\n",
    "    Reg_T1=Signal(intbv(KONSTANT_FACTOR, \n",
    "                        min=SinValue_out.min, max=SinValue_out.max))\n",
    "    \n",
    "    #define the polynomal logic\n",
    "    @always(clk.posedge,rst.negedge)\n",
    "    def logicCP():\n",
    "        #clear and prep the regesters\n",
    "        if rst== 0 :\n",
    "            Reg_T0.next=(2**(INTERNALWIDTH))-1\n",
    "            Reg_T1.next=KONSTANT_FACTOR\n",
    "        \n",
    "        #run a single recursion iterration of the polynomal\n",
    "        else:\n",
    "            if ena==1:\n",
    "                # recursive Chebyshev  formulation for sinus waveform calculation\n",
    "                Reg_T0.next=Reg_T1\n",
    "                #>> shift is a overflow wrapper\n",
    "                Reg_T1.next=((KONSTANT_FACTOR * Reg_T1)>>(INTERNALWIDTH-1)) - Reg_T0\n",
    "    \n",
    "    #pole the R1 for the value of the sin function\n",
    "    @always_comb\n",
    "    def comb_logic():\n",
    "        SinValue_out.next=Reg_T1\n",
    "  \n",
    "    return instances()"
   ]
  },
  {
   "cell_type": "markdown",
   "metadata": {},
   "source": [
    "### Future additions \n",
    "need to add a Amp, Freq, phase modulation to this so as to convert the cos output to any sinusoidal output"
   ]
  },
  {
   "cell_type": "markdown",
   "metadata": {},
   "source": [
    "# Test Bench for Sinusoid Generator"
   ]
  },
  {
   "cell_type": "code",
   "execution_count": 9,
   "metadata": {},
   "outputs": [
    {
     "ename": "NameError",
     "evalue": "name 'Peeker' is not defined",
     "output_type": "error",
     "traceback": [
      "\u001b[1;31m---------------------------------------------------------------------------\u001b[0m",
      "\u001b[1;31mNameError\u001b[0m                                 Traceback (most recent call last)",
      "\u001b[1;32m<ipython-input-9-3a97d0fb714b>\u001b[0m in \u001b[0;36m<module>\u001b[1;34m\u001b[0m\n\u001b[0;32m      5\u001b[0m \u001b[0mOUTPUT_BITWIDTH\u001b[0m\u001b[1;33m=\u001b[0m\u001b[1;36m30\u001b[0m\u001b[1;33m\u001b[0m\u001b[1;33m\u001b[0m\u001b[0m\n\u001b[0;32m      6\u001b[0m \u001b[1;33m\u001b[0m\u001b[0m\n\u001b[1;32m----> 7\u001b[1;33m \u001b[0mPeeker\u001b[0m\u001b[1;33m.\u001b[0m\u001b[0mclear\u001b[0m\u001b[1;33m(\u001b[0m\u001b[1;33m)\u001b[0m\u001b[1;33m\u001b[0m\u001b[1;33m\u001b[0m\u001b[0m\n\u001b[0m\u001b[0;32m      8\u001b[0m \u001b[1;33m\u001b[0m\u001b[0m\n\u001b[0;32m      9\u001b[0m \u001b[0mSinValue_out\u001b[0m\u001b[1;33m=\u001b[0m\u001b[0mSignal\u001b[0m\u001b[1;33m(\u001b[0m\u001b[0mintbv\u001b[0m\u001b[1;33m(\u001b[0m\u001b[1;36m0\u001b[0m\u001b[1;33m,\u001b[0m \u001b[0mmin\u001b[0m\u001b[1;33m=\u001b[0m\u001b[1;33m-\u001b[0m\u001b[1;36m2\u001b[0m\u001b[1;33m**\u001b[0m\u001b[0mOUTPUT_BITWIDTH\u001b[0m\u001b[1;33m,\u001b[0m \u001b[0mmax\u001b[0m\u001b[1;33m=\u001b[0m\u001b[1;36m2\u001b[0m\u001b[1;33m**\u001b[0m\u001b[0mOUTPUT_BITWIDTH\u001b[0m\u001b[1;33m)\u001b[0m\u001b[1;33m)\u001b[0m\u001b[1;33m\u001b[0m\u001b[1;33m\u001b[0m\u001b[0m\n",
      "\u001b[1;31mNameError\u001b[0m: name 'Peeker' is not defined"
     ]
    }
   ],
   "source": [
    "SinFreq=0.75e6   # make a 1.45 mhz Sinus\n",
    "clkFreq=10e6   # 10 mhz\n",
    "clkPeriod=1.0/clkFreq\n",
    "\n",
    "OUTPUT_BITWIDTH=30\n",
    "\n",
    "Peeker.clear()\n",
    "\n",
    "SinValue_out=Signal(intbv(0, min=-2**OUTPUT_BITWIDTH, max=2**OUTPUT_BITWIDTH))\n",
    "Peeker(SinValue_out, 'SinVal')\n",
    "SinValueTracker=[]\n",
    "\n",
    "clk=Signal(bool(0)); Peeker(clk, 'clk')\n",
    "ena=Signal(bool(0)); Peeker(ena, 'ena')\n",
    "rst=Signal(bool(0)); Peeker(rst, 'rst')\n",
    "\n",
    "DUT=SinGenerator(SinFreq_parm=SinFreq, ClkFreq_parm=clkFreq, SinValue_out=SinValue_out, \n",
    "                clk=clk, rst=rst, ena=ena)\n",
    "\n",
    "\n",
    "def SinGenerator_TB(TestClkCyc=200):\n",
    "  \n",
    "    \n",
    "    \n",
    "    #clock genrator\n",
    "    @always(delay(int(clkPeriod*0.5*1e9)))  ## delay in nano seconds\n",
    "    def clkGen():\n",
    "        clk.next = not clk\n",
    "    \n",
    "    # accterla test procdure\n",
    "    @instance\n",
    "    def stimulus(): \n",
    "        while 1:\n",
    "            rst.next=0\n",
    "            ena.next=0\n",
    "            #wait one clock cycle\n",
    "            yield clk.posedge\n",
    "            \n",
    "            #test reset\n",
    "            rst.next=1\n",
    "            \n",
    "            #wait one clock cycle\n",
    "            yield clk.posedge\n",
    "            \n",
    "            #run the sin wave genrator\n",
    "            ena.next=1\n",
    "            #run the test for 200 clock cycles\n",
    "            for i in range(TestClkCyc):\n",
    "                #wait for next clock cycle\n",
    "                yield clk.posedge\n",
    "                SinValueTracker.append(int(SinValue_out))\n",
    "            raise StopSimulation\n",
    "\n",
    "\n",
    "    return instances()"
   ]
  },
  {
   "cell_type": "markdown",
   "metadata": {},
   "source": [
    "!? Peeker is failing for some reason to capture all these values so having to improvice "
   ]
  },
  {
   "cell_type": "code",
   "execution_count": 10,
   "metadata": {
    "scrolled": true
   },
   "outputs": [
    {
     "ename": "NameError",
     "evalue": "name 'Simulation' is not defined",
     "output_type": "error",
     "traceback": [
      "\u001b[1;31m---------------------------------------------------------------------------\u001b[0m",
      "\u001b[1;31mNameError\u001b[0m                                 Traceback (most recent call last)",
      "\u001b[1;32m<ipython-input-10-37fbe40a2347>\u001b[0m in \u001b[0;36m<module>\u001b[1;34m\u001b[0m\n\u001b[0;32m      1\u001b[0m \u001b[0mN\u001b[0m\u001b[1;33m=\u001b[0m\u001b[1;36m200\u001b[0m\u001b[1;33m\u001b[0m\u001b[1;33m\u001b[0m\u001b[0m\n\u001b[1;32m----> 2\u001b[1;33m \u001b[0msim\u001b[0m \u001b[1;33m=\u001b[0m \u001b[0mSimulation\u001b[0m\u001b[1;33m(\u001b[0m\u001b[0mDUT\u001b[0m\u001b[1;33m,\u001b[0m \u001b[0mSinGenerator_TB\u001b[0m\u001b[1;33m(\u001b[0m\u001b[0mTestClkCyc\u001b[0m\u001b[1;33m=\u001b[0m\u001b[0mN\u001b[0m\u001b[1;33m)\u001b[0m\u001b[1;33m,\u001b[0m \u001b[1;33m*\u001b[0m\u001b[0mPeeker\u001b[0m\u001b[1;33m.\u001b[0m\u001b[0minstances\u001b[0m\u001b[1;33m(\u001b[0m\u001b[1;33m)\u001b[0m\u001b[1;33m)\u001b[0m\u001b[1;33m.\u001b[0m\u001b[0mrun\u001b[0m\u001b[1;33m(\u001b[0m\u001b[1;33m)\u001b[0m\u001b[1;33m\u001b[0m\u001b[1;33m\u001b[0m\u001b[0m\n\u001b[0m\u001b[0;32m      3\u001b[0m \u001b[1;31m#Peeker.to_wavedrom(start_time=0, stop_time=20, tock=True)\u001b[0m\u001b[1;33m\u001b[0m\u001b[1;33m\u001b[0m\u001b[1;33m\u001b[0m\u001b[0m\n",
      "\u001b[1;31mNameError\u001b[0m: name 'Simulation' is not defined"
     ]
    }
   ],
   "source": [
    "N=200\n",
    "sim = Simulation(DUT, SinGenerator_TB(TestClkCyc=N), *Peeker.instances()).run()\n",
    "#Peeker.to_wavedrom(start_time=0, stop_time=20, tock=True)"
   ]
  },
  {
   "cell_type": "markdown",
   "metadata": {},
   "source": [
    "# Post Processing of Test Bench"
   ]
  },
  {
   "cell_type": "code",
   "execution_count": 11,
   "metadata": {},
   "outputs": [
    {
     "ename": "NameError",
     "evalue": "name 'SinValueTracker' is not defined",
     "output_type": "error",
     "traceback": [
      "\u001b[1;31m---------------------------------------------------------------------------\u001b[0m",
      "\u001b[1;31mNameError\u001b[0m                                 Traceback (most recent call last)",
      "\u001b[1;32m<ipython-input-11-2a22edd7ec5d>\u001b[0m in \u001b[0;36m<module>\u001b[1;34m\u001b[0m\n\u001b[1;32m----> 1\u001b[1;33m \u001b[0mSinGenOutDF\u001b[0m\u001b[1;33m=\u001b[0m\u001b[0mpd\u001b[0m\u001b[1;33m.\u001b[0m\u001b[0mDataFrame\u001b[0m\u001b[1;33m(\u001b[0m\u001b[0mcolumns\u001b[0m\u001b[1;33m=\u001b[0m\u001b[1;33m[\u001b[0m\u001b[1;34m'GenValue'\u001b[0m\u001b[1;33m]\u001b[0m\u001b[1;33m,\u001b[0m \u001b[0mdata\u001b[0m\u001b[1;33m=\u001b[0m\u001b[0mSinValueTracker\u001b[0m\u001b[1;33m)\u001b[0m\u001b[1;33m\u001b[0m\u001b[1;33m\u001b[0m\u001b[0m\n\u001b[0m\u001b[0;32m      2\u001b[0m \u001b[0mSinGenOutDF\u001b[0m\u001b[1;33m[\u001b[0m\u001b[1;34m'Time[s]'\u001b[0m\u001b[1;33m]\u001b[0m\u001b[1;33m=\u001b[0m\u001b[0mnp\u001b[0m\u001b[1;33m.\u001b[0m\u001b[0marange\u001b[0m\u001b[1;33m(\u001b[0m\u001b[1;36m0.0\u001b[0m\u001b[1;33m,\u001b[0m\u001b[0mclkPeriod\u001b[0m\u001b[1;33m*\u001b[0m\u001b[1;33m(\u001b[0m\u001b[0mlen\u001b[0m\u001b[1;33m(\u001b[0m\u001b[0mSinGenOutDF\u001b[0m\u001b[1;33m)\u001b[0m\u001b[1;33m-\u001b[0m\u001b[1;36m0.5\u001b[0m\u001b[1;33m)\u001b[0m\u001b[1;33m,\u001b[0m\u001b[0mclkPeriod\u001b[0m\u001b[1;33m)\u001b[0m\u001b[1;33m\u001b[0m\u001b[1;33m\u001b[0m\u001b[0m\n\u001b[0;32m      3\u001b[0m \u001b[0mSinGenOutDF\u001b[0m\u001b[1;33m[\u001b[0m\u001b[1;34m'GenValueNorm'\u001b[0m\u001b[1;33m]\u001b[0m\u001b[1;33m=\u001b[0m\u001b[0mSinGenOutDF\u001b[0m\u001b[1;33m[\u001b[0m\u001b[1;34m'GenValue'\u001b[0m\u001b[1;33m]\u001b[0m\u001b[1;33m/\u001b[0m\u001b[0mSinGenOutDF\u001b[0m\u001b[1;33m[\u001b[0m\u001b[1;34m'GenValue'\u001b[0m\u001b[1;33m]\u001b[0m\u001b[1;33m.\u001b[0m\u001b[0mmax\u001b[0m\u001b[1;33m(\u001b[0m\u001b[1;33m)\u001b[0m\u001b[1;33m\u001b[0m\u001b[1;33m\u001b[0m\u001b[0m\n\u001b[0;32m      4\u001b[0m \u001b[0mSinGenOutDF\u001b[0m\u001b[1;33m[\u001b[0m\u001b[1;34m'f[Hz]'\u001b[0m\u001b[1;33m]\u001b[0m\u001b[1;33m=\u001b[0m\u001b[0mnp\u001b[0m\u001b[1;33m.\u001b[0m\u001b[0marange\u001b[0m\u001b[1;33m(\u001b[0m\u001b[1;33m-\u001b[0m\u001b[0mclkFreq\u001b[0m\u001b[1;33m/\u001b[0m\u001b[1;36m2.0\u001b[0m\u001b[1;33m,\u001b[0m\u001b[0mclkFreq\u001b[0m\u001b[1;33m/\u001b[0m\u001b[1;36m2.0\u001b[0m\u001b[1;33m,\u001b[0m\u001b[0mclkFreq\u001b[0m\u001b[1;33m/\u001b[0m\u001b[1;33m(\u001b[0m\u001b[0mlen\u001b[0m\u001b[1;33m(\u001b[0m\u001b[0mSinValueTracker\u001b[0m\u001b[1;33m)\u001b[0m\u001b[1;33m)\u001b[0m\u001b[1;33m)\u001b[0m\u001b[1;33m\u001b[0m\u001b[1;33m\u001b[0m\u001b[0m\n\u001b[0;32m      5\u001b[0m \u001b[1;33m\u001b[0m\u001b[0m\n",
      "\u001b[1;31mNameError\u001b[0m: name 'SinValueTracker' is not defined"
     ]
    }
   ],
   "source": [
    "SinGenOutDF=pd.DataFrame(columns=['GenValue'], data=SinValueTracker)\n",
    "SinGenOutDF['Time[s]']=np.arange(0.0,clkPeriod*(len(SinGenOutDF)-0.5),clkPeriod)\n",
    "SinGenOutDF['GenValueNorm']=SinGenOutDF['GenValue']/SinGenOutDF['GenValue'].max()\n",
    "SinGenOutDF['f[Hz]']=np.arange(-clkFreq/2.0,clkFreq/2.0,clkFreq/(len(SinValueTracker)))\n",
    "\n",
    "FFT=np.fft.fftshift(np.fft.fft(SinGenOutDF['GenValueNorm']))\n",
    "SinGenOutDF['FFTMag']=np.abs(FFT)\n",
    "SinGenOutDF['FFTPhase']=np.angle(FFT)\n",
    "SinGenOutDF.head(5)"
   ]
  },
  {
   "cell_type": "code",
   "execution_count": 12,
   "metadata": {},
   "outputs": [
    {
     "ename": "NameError",
     "evalue": "name 'SinGenOutDF' is not defined",
     "output_type": "error",
     "traceback": [
      "\u001b[1;31m---------------------------------------------------------------------------\u001b[0m",
      "\u001b[1;31mNameError\u001b[0m                                 Traceback (most recent call last)",
      "\u001b[1;32m<ipython-input-12-44604b3b2afc>\u001b[0m in \u001b[0;36m<module>\u001b[1;34m\u001b[0m\n\u001b[1;32m----> 1\u001b[1;33m \u001b[0mCosDF\u001b[0m\u001b[1;33m=\u001b[0m\u001b[0mpd\u001b[0m\u001b[1;33m.\u001b[0m\u001b[0mDataFrame\u001b[0m\u001b[1;33m(\u001b[0m\u001b[0mcolumns\u001b[0m\u001b[1;33m=\u001b[0m\u001b[1;33m[\u001b[0m\u001b[1;34m'Time[s]'\u001b[0m\u001b[1;33m]\u001b[0m\u001b[1;33m,\u001b[0m \u001b[0mdata\u001b[0m\u001b[1;33m=\u001b[0m\u001b[0mnp\u001b[0m\u001b[1;33m.\u001b[0m\u001b[0marange\u001b[0m\u001b[1;33m(\u001b[0m\u001b[1;36m0.0\u001b[0m\u001b[1;33m,\u001b[0m\u001b[0mclkPeriod\u001b[0m\u001b[1;33m*\u001b[0m\u001b[1;33m(\u001b[0m\u001b[0mlen\u001b[0m\u001b[1;33m(\u001b[0m\u001b[0mSinGenOutDF\u001b[0m\u001b[1;33m)\u001b[0m\u001b[1;33m-\u001b[0m\u001b[1;36m0.5\u001b[0m\u001b[1;33m)\u001b[0m\u001b[1;33m,\u001b[0m\u001b[0mclkPeriod\u001b[0m\u001b[1;33m)\u001b[0m\u001b[1;33m)\u001b[0m\u001b[1;33m\u001b[0m\u001b[1;33m\u001b[0m\u001b[0m\n\u001b[0m\u001b[0;32m      2\u001b[0m \u001b[0mCosDF\u001b[0m\u001b[1;33m[\u001b[0m\u001b[1;34m'Cos'\u001b[0m\u001b[1;33m]\u001b[0m\u001b[1;33m=\u001b[0m\u001b[0mnp\u001b[0m\u001b[1;33m.\u001b[0m\u001b[0mcos\u001b[0m\u001b[1;33m(\u001b[0m\u001b[1;36m2\u001b[0m\u001b[1;33m*\u001b[0m\u001b[0mnp\u001b[0m\u001b[1;33m.\u001b[0m\u001b[0mpi\u001b[0m\u001b[1;33m*\u001b[0m\u001b[0mSinFreq\u001b[0m\u001b[1;33m*\u001b[0m\u001b[0mCosDF\u001b[0m\u001b[1;33m[\u001b[0m\u001b[1;34m'Time[s]'\u001b[0m\u001b[1;33m]\u001b[0m\u001b[1;33m)\u001b[0m\u001b[1;33m\u001b[0m\u001b[1;33m\u001b[0m\u001b[0m\n\u001b[0;32m      3\u001b[0m \u001b[0mCosDF\u001b[0m\u001b[1;33m[\u001b[0m\u001b[1;34m'CosS'\u001b[0m\u001b[1;33m]\u001b[0m\u001b[1;33m=\u001b[0m\u001b[0mCosDF\u001b[0m\u001b[1;33m[\u001b[0m\u001b[1;34m'Cos'\u001b[0m\u001b[1;33m]\u001b[0m\u001b[1;33m*\u001b[0m\u001b[0mSinGenOutDF\u001b[0m\u001b[1;33m[\u001b[0m\u001b[1;34m'GenValue'\u001b[0m\u001b[1;33m]\u001b[0m\u001b[1;33m.\u001b[0m\u001b[0mmax\u001b[0m\u001b[1;33m(\u001b[0m\u001b[1;33m)\u001b[0m\u001b[1;33m\u001b[0m\u001b[1;33m\u001b[0m\u001b[0m\n\u001b[0;32m      4\u001b[0m \u001b[0mCosDF\u001b[0m\u001b[1;33m[\u001b[0m\u001b[1;34m'f[Hz]'\u001b[0m\u001b[1;33m]\u001b[0m\u001b[1;33m=\u001b[0m\u001b[0mnp\u001b[0m\u001b[1;33m.\u001b[0m\u001b[0marange\u001b[0m\u001b[1;33m(\u001b[0m\u001b[1;33m-\u001b[0m\u001b[0mclkFreq\u001b[0m\u001b[1;33m/\u001b[0m\u001b[1;36m2.0\u001b[0m\u001b[1;33m,\u001b[0m\u001b[0mclkFreq\u001b[0m\u001b[1;33m/\u001b[0m\u001b[1;36m2.0\u001b[0m\u001b[1;33m,\u001b[0m\u001b[0mclkFreq\u001b[0m\u001b[1;33m/\u001b[0m\u001b[1;33m(\u001b[0m\u001b[0mlen\u001b[0m\u001b[1;33m(\u001b[0m\u001b[0mSinValueTracker\u001b[0m\u001b[1;33m)\u001b[0m\u001b[1;33m)\u001b[0m\u001b[1;33m)\u001b[0m\u001b[1;33m\u001b[0m\u001b[1;33m\u001b[0m\u001b[0m\n\u001b[0;32m      5\u001b[0m \u001b[0mFFT\u001b[0m\u001b[1;33m=\u001b[0m\u001b[0mnp\u001b[0m\u001b[1;33m.\u001b[0m\u001b[0mfft\u001b[0m\u001b[1;33m.\u001b[0m\u001b[0mfftshift\u001b[0m\u001b[1;33m(\u001b[0m\u001b[0mnp\u001b[0m\u001b[1;33m.\u001b[0m\u001b[0mfft\u001b[0m\u001b[1;33m.\u001b[0m\u001b[0mfft\u001b[0m\u001b[1;33m(\u001b[0m\u001b[0mCosDF\u001b[0m\u001b[1;33m[\u001b[0m\u001b[1;34m'Cos'\u001b[0m\u001b[1;33m]\u001b[0m\u001b[1;33m)\u001b[0m\u001b[1;33m)\u001b[0m\u001b[1;33m\u001b[0m\u001b[1;33m\u001b[0m\u001b[0m\n",
      "\u001b[1;31mNameError\u001b[0m: name 'SinGenOutDF' is not defined"
     ]
    }
   ],
   "source": [
    "CosDF=pd.DataFrame(columns=['Time[s]'], data=np.arange(0.0,clkPeriod*(len(SinGenOutDF)-0.5),clkPeriod))\n",
    "CosDF['Cos']=np.cos(2*np.pi*SinFreq*CosDF['Time[s]'])\n",
    "CosDF['CosS']=CosDF['Cos']*SinGenOutDF['GenValue'].max()\n",
    "CosDF['f[Hz]']=np.arange(-clkFreq/2.0,clkFreq/2.0,clkFreq/(len(SinValueTracker)))\n",
    "FFT=np.fft.fftshift(np.fft.fft(CosDF['Cos']))\n",
    "CosDF['FFTMag']=np.abs(FFT)\n",
    "CosDF['FFTPhase']=np.angle(FFT)\n",
    "CosDF.head(5)"
   ]
  },
  {
   "cell_type": "code",
   "execution_count": 13,
   "metadata": {},
   "outputs": [
    {
     "ename": "NameError",
     "evalue": "name 'plt' is not defined",
     "output_type": "error",
     "traceback": [
      "\u001b[1;31m---------------------------------------------------------------------------\u001b[0m",
      "\u001b[1;31mNameError\u001b[0m                                 Traceback (most recent call last)",
      "\u001b[1;32m<ipython-input-13-b2a79d3d3a2b>\u001b[0m in \u001b[0;36m<module>\u001b[1;34m\u001b[0m\n\u001b[1;32m----> 1\u001b[1;33m \u001b[0mfig\u001b[0m\u001b[1;33m,\u001b[0m \u001b[1;33m[\u001b[0m\u001b[0max0\u001b[0m\u001b[1;33m,\u001b[0m \u001b[0max1\u001b[0m\u001b[1;33m]\u001b[0m\u001b[1;33m=\u001b[0m\u001b[0mplt\u001b[0m\u001b[1;33m.\u001b[0m\u001b[0msubplots\u001b[0m\u001b[1;33m(\u001b[0m\u001b[0mnrows\u001b[0m\u001b[1;33m=\u001b[0m\u001b[1;36m2\u001b[0m\u001b[1;33m,\u001b[0m \u001b[0mncols\u001b[0m\u001b[1;33m=\u001b[0m\u001b[1;36m1\u001b[0m\u001b[1;33m,\u001b[0m \u001b[0msharex\u001b[0m\u001b[1;33m=\u001b[0m\u001b[1;32mFalse\u001b[0m\u001b[1;33m)\u001b[0m\u001b[1;33m\u001b[0m\u001b[1;33m\u001b[0m\u001b[0m\n\u001b[0m\u001b[0;32m      2\u001b[0m \u001b[0mplt\u001b[0m\u001b[1;33m.\u001b[0m\u001b[0msuptitle\u001b[0m\u001b[1;33m(\u001b[0m\u001b[1;34mf'Plots of Sin Generator output in time for {N} Cycles'\u001b[0m\u001b[1;33m)\u001b[0m\u001b[1;33m\u001b[0m\u001b[1;33m\u001b[0m\u001b[0m\n\u001b[0;32m      3\u001b[0m \u001b[1;33m\u001b[0m\u001b[0m\n\u001b[0;32m      4\u001b[0m \u001b[0mSinGenOutDF\u001b[0m\u001b[1;33m.\u001b[0m\u001b[0mplot\u001b[0m\u001b[1;33m(\u001b[0m\u001b[0muse_index\u001b[0m\u001b[1;33m=\u001b[0m\u001b[1;32mTrue\u001b[0m \u001b[1;33m,\u001b[0m\u001b[0my\u001b[0m\u001b[1;33m=\u001b[0m\u001b[1;34m'GenValue'\u001b[0m\u001b[1;33m,\u001b[0m \u001b[0max\u001b[0m\u001b[1;33m=\u001b[0m\u001b[0max0\u001b[0m\u001b[1;33m)\u001b[0m\u001b[1;33m\u001b[0m\u001b[1;33m\u001b[0m\u001b[0m\n\u001b[0;32m      5\u001b[0m \u001b[0mCosDF\u001b[0m\u001b[1;33m.\u001b[0m\u001b[0mplot\u001b[0m\u001b[1;33m(\u001b[0m\u001b[0muse_index\u001b[0m\u001b[1;33m=\u001b[0m\u001b[1;32mTrue\u001b[0m\u001b[1;33m,\u001b[0m \u001b[0my\u001b[0m\u001b[1;33m=\u001b[0m\u001b[1;34m'CosS'\u001b[0m\u001b[1;33m,\u001b[0m \u001b[0max\u001b[0m\u001b[1;33m=\u001b[0m\u001b[0max0\u001b[0m\u001b[1;33m)\u001b[0m\u001b[1;33m\u001b[0m\u001b[1;33m\u001b[0m\u001b[0m\n",
      "\u001b[1;31mNameError\u001b[0m: name 'plt' is not defined"
     ]
    }
   ],
   "source": [
    "fig, [ax0, ax1]=plt.subplots(nrows=2, ncols=1, sharex=False)\n",
    "plt.suptitle(f'Plots of Sin Generator output in time for {N} Cycles')\n",
    "\n",
    "SinGenOutDF.plot(use_index=True ,y='GenValue', ax=ax0)\n",
    "CosDF.plot(use_index=True, y='CosS', ax=ax0)\n",
    "ax0.ticklabel_format(style='sci', axis='x', scilimits=(0,0))\n",
    "ax0.legend(loc='best')\n",
    "\n",
    "SinGenOutDF.plot(x='Time[s]', y='GenValueNorm', ax=ax1)\n",
    "CosDF.plot(x='Time[s]', y='CosS', ax=ax1)\n",
    "ax1.ticklabel_format(style='sci', axis='x', scilimits=(0,0))\n",
    "ax1.legend(loc='best')\n",
    "\n",
    "None"
   ]
  },
  {
   "cell_type": "code",
   "execution_count": 14,
   "metadata": {},
   "outputs": [
    {
     "ename": "NameError",
     "evalue": "name 'plt' is not defined",
     "output_type": "error",
     "traceback": [
      "\u001b[1;31m---------------------------------------------------------------------------\u001b[0m",
      "\u001b[1;31mNameError\u001b[0m                                 Traceback (most recent call last)",
      "\u001b[1;32m<ipython-input-14-8e8453f399c4>\u001b[0m in \u001b[0;36m<module>\u001b[1;34m\u001b[0m\n\u001b[1;32m----> 1\u001b[1;33m \u001b[0mfig\u001b[0m\u001b[1;33m,\u001b[0m \u001b[1;33m[\u001b[0m\u001b[0max0\u001b[0m\u001b[1;33m,\u001b[0m \u001b[0max1\u001b[0m\u001b[1;33m]\u001b[0m\u001b[1;33m=\u001b[0m\u001b[0mplt\u001b[0m\u001b[1;33m.\u001b[0m\u001b[0msubplots\u001b[0m\u001b[1;33m(\u001b[0m\u001b[0mnrows\u001b[0m\u001b[1;33m=\u001b[0m\u001b[1;36m2\u001b[0m\u001b[1;33m,\u001b[0m \u001b[0mncols\u001b[0m\u001b[1;33m=\u001b[0m\u001b[1;36m1\u001b[0m\u001b[1;33m,\u001b[0m \u001b[0msharex\u001b[0m\u001b[1;33m=\u001b[0m\u001b[1;32mTrue\u001b[0m\u001b[1;33m)\u001b[0m\u001b[1;33m\u001b[0m\u001b[1;33m\u001b[0m\u001b[0m\n\u001b[0m\u001b[0;32m      2\u001b[0m \u001b[0mplt\u001b[0m\u001b[1;33m.\u001b[0m\u001b[0msuptitle\u001b[0m\u001b[1;33m(\u001b[0m\u001b[1;34mf'Plots of Sin Generator output in freq for {N} Cycles'\u001b[0m\u001b[1;33m)\u001b[0m\u001b[1;33m\u001b[0m\u001b[1;33m\u001b[0m\u001b[0m\n\u001b[0;32m      3\u001b[0m \u001b[1;33m\u001b[0m\u001b[0m\n\u001b[0;32m      4\u001b[0m \u001b[0mSinGenOutDF\u001b[0m\u001b[1;33m.\u001b[0m\u001b[0mplot\u001b[0m\u001b[1;33m(\u001b[0m\u001b[0mx\u001b[0m\u001b[1;33m=\u001b[0m\u001b[1;34m'f[Hz]'\u001b[0m \u001b[1;33m,\u001b[0m\u001b[0my\u001b[0m\u001b[1;33m=\u001b[0m\u001b[1;34m'FFTMag'\u001b[0m\u001b[1;33m,\u001b[0m \u001b[0mlogy\u001b[0m\u001b[1;33m=\u001b[0m\u001b[1;32mTrue\u001b[0m\u001b[1;33m,\u001b[0m \u001b[0max\u001b[0m\u001b[1;33m=\u001b[0m\u001b[0max0\u001b[0m\u001b[1;33m,\u001b[0m \u001b[0mlabel\u001b[0m\u001b[1;33m=\u001b[0m\u001b[1;34m'GenFFTMag'\u001b[0m\u001b[1;33m)\u001b[0m\u001b[1;33m\u001b[0m\u001b[1;33m\u001b[0m\u001b[0m\n\u001b[0;32m      5\u001b[0m \u001b[0mCosDF\u001b[0m\u001b[1;33m.\u001b[0m\u001b[0mplot\u001b[0m\u001b[1;33m(\u001b[0m\u001b[0mx\u001b[0m\u001b[1;33m=\u001b[0m\u001b[1;34m'f[Hz]'\u001b[0m \u001b[1;33m,\u001b[0m\u001b[0my\u001b[0m\u001b[1;33m=\u001b[0m\u001b[1;34m'FFTMag'\u001b[0m\u001b[1;33m,\u001b[0m \u001b[0mlogy\u001b[0m\u001b[1;33m=\u001b[0m\u001b[1;32mTrue\u001b[0m\u001b[1;33m,\u001b[0m \u001b[0max\u001b[0m\u001b[1;33m=\u001b[0m\u001b[0max0\u001b[0m\u001b[1;33m,\u001b[0m \u001b[0mlabel\u001b[0m\u001b[1;33m=\u001b[0m\u001b[1;34m'SinFFTMag'\u001b[0m\u001b[1;33m)\u001b[0m\u001b[1;33m\u001b[0m\u001b[1;33m\u001b[0m\u001b[0m\n",
      "\u001b[1;31mNameError\u001b[0m: name 'plt' is not defined"
     ]
    }
   ],
   "source": [
    "fig, [ax0, ax1]=plt.subplots(nrows=2, ncols=1, sharex=True)\n",
    "plt.suptitle(f'Plots of Sin Generator output in freq for {N} Cycles')\n",
    "\n",
    "SinGenOutDF.plot(x='f[Hz]' ,y='FFTMag', logy=True, ax=ax0, label='GenFFTMag')\n",
    "CosDF.plot(x='f[Hz]' ,y='FFTMag', logy=True, ax=ax0, label='SinFFTMag')\n",
    "\n",
    "ax0.ticklabel_format(style='sci', axis='x', scilimits=(0,0))\n",
    "ax0.set_ylabel('Amp [dB]')\n",
    "ax0.legend(loc='best')\n",
    "\n",
    "SinGenOutDF.plot(x='f[Hz]', y='FFTPhase', ax=ax1, label='GenFFTPhase')\n",
    "CosDF.plot(x='f[Hz]', y='FFTPhase', ax=ax1, label='CosFFTPhase')\n",
    "ax1.ticklabel_format(style='sci', axis='x', scilimits=(0,0))\n",
    "ax1.set_xlabel('f[Hz]'); ax1.set_ylabel('Phase [rad]')\n",
    "\n",
    "ax1.legend(loc='best')\n",
    "\n",
    "None"
   ]
  },
  {
   "cell_type": "markdown",
   "metadata": {},
   "source": [
    "# RTL Synthisis"
   ]
  },
  {
   "cell_type": "code",
   "execution_count": 15,
   "metadata": {},
   "outputs": [
    {
     "ename": "NameError",
     "evalue": "name 'Peeker' is not defined",
     "output_type": "error",
     "traceback": [
      "\u001b[1;31m---------------------------------------------------------------------------\u001b[0m",
      "\u001b[1;31mNameError\u001b[0m                                 Traceback (most recent call last)",
      "\u001b[1;32m<ipython-input-15-e634207ccf49>\u001b[0m in \u001b[0;36m<module>\u001b[1;34m\u001b[0m\n\u001b[0;32m      5\u001b[0m \u001b[0mOUTPUT_BITWIDTH\u001b[0m\u001b[1;33m=\u001b[0m\u001b[1;36m30\u001b[0m\u001b[1;33m\u001b[0m\u001b[1;33m\u001b[0m\u001b[0m\n\u001b[0;32m      6\u001b[0m \u001b[1;33m\u001b[0m\u001b[0m\n\u001b[1;32m----> 7\u001b[1;33m \u001b[0mPeeker\u001b[0m\u001b[1;33m.\u001b[0m\u001b[0mclear\u001b[0m\u001b[1;33m(\u001b[0m\u001b[1;33m)\u001b[0m\u001b[1;33m\u001b[0m\u001b[1;33m\u001b[0m\u001b[0m\n\u001b[0m\u001b[0;32m      8\u001b[0m \u001b[1;33m\u001b[0m\u001b[0m\n\u001b[0;32m      9\u001b[0m \u001b[0mSinValue_out\u001b[0m\u001b[1;33m=\u001b[0m\u001b[0mSignal\u001b[0m\u001b[1;33m(\u001b[0m\u001b[0mintbv\u001b[0m\u001b[1;33m(\u001b[0m\u001b[1;36m0\u001b[0m\u001b[1;33m,\u001b[0m \u001b[0mmin\u001b[0m\u001b[1;33m=\u001b[0m\u001b[1;33m-\u001b[0m\u001b[1;36m2\u001b[0m\u001b[1;33m**\u001b[0m\u001b[0mOUTPUT_BITWIDTH\u001b[0m\u001b[1;33m,\u001b[0m \u001b[0mmax\u001b[0m\u001b[1;33m=\u001b[0m\u001b[1;36m2\u001b[0m\u001b[1;33m**\u001b[0m\u001b[0mOUTPUT_BITWIDTH\u001b[0m\u001b[1;33m)\u001b[0m\u001b[1;33m)\u001b[0m\u001b[1;33m\u001b[0m\u001b[1;33m\u001b[0m\u001b[0m\n",
      "\u001b[1;31mNameError\u001b[0m: name 'Peeker' is not defined"
     ]
    }
   ],
   "source": [
    "SinFreq=0.75e6   # make a 1.45 mhz Sinus\n",
    "clkFreq=10e6   # 10 mhz\n",
    "clkPeriod=1.0/clkFreq\n",
    "\n",
    "OUTPUT_BITWIDTH=30\n",
    "\n",
    "Peeker.clear()\n",
    "\n",
    "SinValue_out=Signal(intbv(0, min=-2**OUTPUT_BITWIDTH, max=2**OUTPUT_BITWIDTH))\n",
    "Peeker(SinValue_out, 'SinVal')\n",
    "SinValueTracker=[]\n",
    "\n",
    "clk=Signal(bool(0))\n",
    "ena=Signal(bool(0))\n",
    "rst=Signal(bool(0))\n",
    "\n",
    "toVerilog(SinGenerator, SinFreq, clkFreq, SinValue_out, clk, rst, ena)\n",
    "toVHDL(SinGenerator, SinFreq, clkFreq, SinValue_out, clk, rst, ena)\n",
    "None"
   ]
  },
  {
   "cell_type": "markdown",
   "metadata": {},
   "source": [
    "Running the lines \n",
    "```\n",
    "toVerilog(SinGenerator, SinFreq, clkFreq, SinValue_out, clk, rst, ena)\n",
    "toVHDL(SinGenerator, SinFreq, clkFreq, SinValue_out, clk, rst, ena)\n",
    "```\n",
    "called  **myHDL**'s conversion process that converted the function **SinGenerator(SinFreq_parm, ClkFreq_parm, SinValue_out, clk, rst, ena)** and the signals _SinValue_out, clk, rst, ena_ to be converted and written to _SinGenerator.v_ and _SinGenerator.vhd_ respectively in the folder where this _Jupyter Notebook_ is located. "
   ]
  },
  {
   "cell_type": "code",
   "execution_count": 16,
   "metadata": {},
   "outputs": [],
   "source": [
    "#helper  functions to read in the .v and .vhd generated files into python\n",
    "def VerilogTextReader(loc, printresult=True):\n",
    "    with open(f'{loc}.v', 'r') as vText:\n",
    "        VerilogText=vText.read()\n",
    "    if printresult:\n",
    "        print(f'***Verilog modual from {loc}.v***\\n\\n', VerilogText)\n",
    "    return VerilogText\n",
    "\n",
    "def VHDLTextReader(loc, printresult=True):\n",
    "    with open(f'{loc}.vhd', 'r') as vText:\n",
    "        VerilogText=vText.read()\n",
    "    if printresult:\n",
    "        print(f'***VHDL modual from {loc}.vhd***\\n\\n', VerilogText)\n",
    "    return VerilogText"
   ]
  },
  {
   "cell_type": "code",
   "execution_count": 17,
   "metadata": {},
   "outputs": [
    {
     "ename": "FileNotFoundError",
     "evalue": "[Errno 2] No such file or directory: 'SinGenerator.v'",
     "output_type": "error",
     "traceback": [
      "\u001b[1;31m---------------------------------------------------------------------------\u001b[0m",
      "\u001b[1;31mFileNotFoundError\u001b[0m                         Traceback (most recent call last)",
      "\u001b[1;32m<ipython-input-17-d6d0a75402cb>\u001b[0m in \u001b[0;36m<module>\u001b[1;34m\u001b[0m\n\u001b[1;32m----> 1\u001b[1;33m \u001b[0m_\u001b[0m\u001b[1;33m=\u001b[0m\u001b[0mVerilogTextReader\u001b[0m\u001b[1;33m(\u001b[0m\u001b[1;34m'SinGenerator'\u001b[0m\u001b[1;33m,\u001b[0m \u001b[1;32mTrue\u001b[0m\u001b[1;33m)\u001b[0m\u001b[1;33m\u001b[0m\u001b[1;33m\u001b[0m\u001b[0m\n\u001b[0m",
      "\u001b[1;32m<ipython-input-16-92fd7ef04e12>\u001b[0m in \u001b[0;36mVerilogTextReader\u001b[1;34m(loc, printresult)\u001b[0m\n\u001b[0;32m      1\u001b[0m \u001b[1;31m#helper  functions to read in the .v and .vhd generated files into python\u001b[0m\u001b[1;33m\u001b[0m\u001b[1;33m\u001b[0m\u001b[1;33m\u001b[0m\u001b[0m\n\u001b[0;32m      2\u001b[0m \u001b[1;32mdef\u001b[0m \u001b[0mVerilogTextReader\u001b[0m\u001b[1;33m(\u001b[0m\u001b[0mloc\u001b[0m\u001b[1;33m,\u001b[0m \u001b[0mprintresult\u001b[0m\u001b[1;33m=\u001b[0m\u001b[1;32mTrue\u001b[0m\u001b[1;33m)\u001b[0m\u001b[1;33m:\u001b[0m\u001b[1;33m\u001b[0m\u001b[1;33m\u001b[0m\u001b[0m\n\u001b[1;32m----> 3\u001b[1;33m     \u001b[1;32mwith\u001b[0m \u001b[0mopen\u001b[0m\u001b[1;33m(\u001b[0m\u001b[1;34mf'{loc}.v'\u001b[0m\u001b[1;33m,\u001b[0m \u001b[1;34m'r'\u001b[0m\u001b[1;33m)\u001b[0m \u001b[1;32mas\u001b[0m \u001b[0mvText\u001b[0m\u001b[1;33m:\u001b[0m\u001b[1;33m\u001b[0m\u001b[1;33m\u001b[0m\u001b[0m\n\u001b[0m\u001b[0;32m      4\u001b[0m         \u001b[0mVerilogText\u001b[0m\u001b[1;33m=\u001b[0m\u001b[0mvText\u001b[0m\u001b[1;33m.\u001b[0m\u001b[0mread\u001b[0m\u001b[1;33m(\u001b[0m\u001b[1;33m)\u001b[0m\u001b[1;33m\u001b[0m\u001b[1;33m\u001b[0m\u001b[0m\n\u001b[0;32m      5\u001b[0m     \u001b[1;32mif\u001b[0m \u001b[0mprintresult\u001b[0m\u001b[1;33m:\u001b[0m\u001b[1;33m\u001b[0m\u001b[1;33m\u001b[0m\u001b[0m\n",
      "\u001b[1;31mFileNotFoundError\u001b[0m: [Errno 2] No such file or directory: 'SinGenerator.v'"
     ]
    }
   ],
   "source": [
    "_=VerilogTextReader('SinGenerator', True)"
   ]
  },
  {
   "cell_type": "code",
   "execution_count": 18,
   "metadata": {},
   "outputs": [
    {
     "name": "stdout",
     "output_type": "stream",
     "text": [
      "***VHDL modual from SinGenerator.vhd***\n",
      "\n",
      " //a\n",
      "`timescale 1ns/10ps\n",
      "\n",
      "module SinGenerator (\n",
      "    SinValue_out,\n",
      "    clk,\n",
      "    rst,\n",
      "    ena\n",
      ");\n",
      "\n",
      "\n",
      "output signed [30:0] SinValue_out;\n",
      "wire signed [30:0] SinValue_out;\n",
      "input clk;\n",
      "input rst;\n",
      "input ena;\n",
      "\n",
      "reg signed [30:0] Reg_T1;\n",
      "reg signed [30:0] Reg_T0;\n",
      "\n",
      "\n",
      "\n",
      "\n",
      "\n",
      "\n",
      "assign SinValue_out = Reg_T1;\n",
      "\n",
      "\n",
      "always @(posedge clk, negedge rst) begin: SINGENERATOR_LOGICCP\n",
      "    if ((rst == 0)) begin\n",
      "        Reg_T0 <= ((2 ** 29) - 1);\n",
      "        Reg_T1 <= 478355485;\n",
      "    end\n",
      "    else begin\n",
      "        if ((ena == 1)) begin\n",
      "            Reg_T0 <= Reg_T1;\n",
      "            Reg_T1 <= ($signed((478355485 * Reg_T1) >>> (29 - 1)) - Reg_T0);\n",
      "        end\n",
      "    end\n",
      "end\n",
      "\n",
      "endmodule\n"
     ]
    }
   ],
   "source": [
    "_=VHDLTextReader('SinGenerator', True)"
   ]
  },
  {
   "cell_type": "markdown",
   "metadata": {},
   "source": [
    "The RTL Schematic from the verilog myHDL synthesis via vavado 2016.1 of the Sine Generator is shown below\n",
    "<img style=\"float: center;\" src=\"SinGenRTL.PNG\">"
   ]
  },
  {
   "cell_type": "markdown",
   "metadata": {},
   "source": [
    "The RTL Synthesis in **Xilinx**'s _Vivado 2016.1_ shows 65 cells, 34 I/O ports 161 Nets, 2 Register Sets, and 3 RTL Operations (multiply, right shift, subtraction). Where the last two statistics are exactly as predicted from the myHDL (Python) function **SinGenerator** "
   ]
  },
  {
   "cell_type": "markdown",
   "metadata": {},
   "source": [
    "# Conclusion"
   ]
  },
  {
   "cell_type": "markdown",
   "metadata": {},
   "source": [
    "We can see that by using Python’s myHDL library one can synthesize a working sin generator that can be converted to both Verilog and VHDL making myHDL HDL language agnostic. Furthermore, by conducting the test in python we plot the data and perform the subsequent analysis in the same environment as our HDL function thus allowing for rapid prototyping. And further, with the utilization of the Peeker extension library for myHDL, we can generate a timing diagram to compare from the FPGA synthesis tools to confirm our results. And finally, by utilizing the Jupyter notebook and git,  documentation from theoretical development through algorithm design and HDL synthesis can be kept in one easy to read the living digital document that can be shared with ease. Thus banishing obscene separation on code, documentation, and testing that has plagued HDL DSP developers in the past\n",
    "\n"
   ]
  },
  {
   "cell_type": "markdown",
   "metadata": {},
   "source": [
    "# Refrances"
   ]
  },
  {
   "cell_type": "markdown",
   "metadata": {},
   "source": [
    "https://en.wikibooks.org/wiki/Trigonometry/For_Enthusiasts/Chebyshev_Polynomials"
   ]
  },
  {
   "cell_type": "markdown",
   "metadata": {},
   "source": [
    "https://www.geophysik.uni-muenchen.de/~igel/Lectures/NMG/05_orthogonalfunctions.pdf"
   ]
  },
  {
   "cell_type": "code",
   "execution_count": null,
   "metadata": {},
   "outputs": [],
   "source": []
  },
  {
   "cell_type": "code",
   "execution_count": null,
   "metadata": {},
   "outputs": [],
   "source": []
  }
 ],
 "metadata": {
  "author": "Continues HDL Sinewave Generator via Chebyshev Polynomial Approximation in Python&#39;s myHDL",
  "hide_input": false,
  "kernelspec": {
   "display_name": "Python 3",
   "language": "python",
   "name": "python3"
  },
  "language_info": {
   "codemirror_mode": {
    "name": "ipython",
    "version": 3
   },
   "file_extension": ".py",
   "mimetype": "text/x-python",
   "name": "python",
   "nbconvert_exporter": "python",
   "pygments_lexer": "ipython3",
   "version": "3.7.6"
  },
  "latex_envs": {
   "LaTeX_envs_menu_present": true,
   "autocomplete": true,
   "bibliofile": "biblio.bib",
   "cite_by": "apalike",
   "current_citInitial": 1,
   "eqLabelWithNumbers": true,
   "eqNumInitial": 1,
   "hotkeys": {
    "equation": "Ctrl-E",
    "itemize": "Ctrl-I"
   },
   "labels_anchors": false,
   "latex_user_defs": false,
   "report_style_numbering": false,
   "user_envs_cfg": false
  },
  "nbTranslate": {
   "displayLangs": [
    "*"
   ],
   "hotkey": "alt-t",
   "langInMainMenu": true,
   "sourceLang": "fr",
   "targetLang": "en",
   "useGoogleTranslate": true
  },
  "toc": {
   "colors": {
    "hover_highlight": "#DAA520",
    "navigate_num": "#000000",
    "navigate_text": "#333333",
    "running_highlight": "#FF0000",
    "selected_highlight": "#FFD700",
    "sidebar_border": "#EEEEEE",
    "wrapper_background": "#FFFFFF"
   },
   "moveMenuLeft": true,
   "nav_menu": {
    "height": "12px",
    "width": "252px"
   },
   "navigate_menu": true,
   "number_sections": false,
   "sideBar": true,
   "skip_h1_title": false,
   "threshold": 4,
   "toc_cell": true,
   "toc_position": {
    "height": "799px",
    "left": "0px",
    "right": "734px",
    "top": "130px",
    "width": "212px"
   },
   "toc_section_display": "block",
   "toc_window_display": false,
   "widenNotebook": false
  }
 },
 "nbformat": 4,
 "nbformat_minor": 2
}
