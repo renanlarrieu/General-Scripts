{
 "cells": [
  {
   "cell_type": "code",
   "execution_count": 2,
   "metadata": {},
   "outputs": [],
   "source": [
    "#dicionario tutorial"
   ]
  },
  {
   "cell_type": "code",
   "execution_count": 73,
   "metadata": {},
   "outputs": [],
   "source": [
    "import random\n",
    "a=random.randint(12,25)\n",
    "\n",
    "\n",
    "mostrador = [tamanho[0],tamanho[1]]\n",
    "dicionario = {'Nome':'Renan Larrieu',\n",
    "             'Idade':'20',\n",
    "              'Naturalidade':'Brasileiro',\n",
    "             'Descendência':'Portuguesa''+''Francesa',\n",
    "             'Tamanho do pau':21}\n",
    "\n"
   ]
  },
  {
   "cell_type": "code",
   "execution_count": 21,
   "metadata": {},
   "outputs": [
    {
     "name": "stdout",
     "output_type": "stream",
     "text": [
      "{'Nome': 'Renan Larrieu', 'Idade': '20', 'Naturalidade': 'Brasileiro', 'Descendência': 'Portuguesa+Francesa', 'Tamanho do pau': 17}\n"
     ]
    }
   ],
   "source": [
    "print(dicionario)"
   ]
  },
  {
   "cell_type": "code",
   "execution_count": 28,
   "metadata": {},
   "outputs": [
    {
     "name": "stdout",
     "output_type": "stream",
     "text": [
      "{'Nome': 'Renan Larrieu', 'Idade': '20', 'Naturalidade': 'Brasileiro', 'Descendência': 'Portuguesa+Francesa', 'Tamanho do pau': 17}\n"
     ]
    }
   ],
   "source": [
    "def atualizar_dicionario():\n",
    "    a=random.randint(12,25)\n",
    "    return print(dicionario)\n",
    "\n",
    "atualizar_dicionario()\n",
    "\n",
    "    \n",
    "    "
   ]
  },
  {
   "cell_type": "code",
   "execution_count": 37,
   "metadata": {},
   "outputs": [
    {
     "name": "stdout",
     "output_type": "stream",
     "text": [
      "{'Nome': 'Renan Larrieu', 'Idade': '20', 'Naturalidade': 'Brasileiro', 'Descendência': 'Portuguesa+Francesa', 'Tamanho do pau': [20, 'cm']}\n"
     ]
    }
   ],
   "source": [
    "print(dicionario)"
   ]
  },
  {
   "cell_type": "code",
   "execution_count": 70,
   "metadata": {},
   "outputs": [
    {
     "name": "stdout",
     "output_type": "stream",
     "text": [
      "abc\n",
      "None\n"
     ]
    }
   ],
   "source": [
    "c=print('abc')\n",
    "lista1 = [c,2,3,4,5]\n",
    "lista2= ['teste1',lista1]\n",
    "print(lista2[1][0])"
   ]
  },
  {
   "cell_type": "code",
   "execution_count": 77,
   "metadata": {},
   "outputs": [],
   "source": [
    "#implementando valores no dicionario\n",
    "dicionario['tamanho do pescoço'] = 5\n"
   ]
  },
  {
   "cell_type": "code",
   "execution_count": 78,
   "metadata": {},
   "outputs": [
    {
     "data": {
      "text/plain": [
       "5"
      ]
     },
     "execution_count": 78,
     "metadata": {},
     "output_type": "execute_result"
    }
   ],
   "source": [
    "dicionario['tamanho do pescoço']"
   ]
  },
  {
   "cell_type": "code",
   "execution_count": 79,
   "metadata": {},
   "outputs": [
    {
     "data": {
      "text/plain": [
       "{'Nome': 'Renan Larrieu',\n",
       " 'Idade': '20',\n",
       " 'Naturalidade': 'Brasileiro',\n",
       " 'Descendência': 'Portuguesa+Francesa',\n",
       " 'Tamanho do pau': 21,\n",
       " 'tamanho do pescoço': 5}"
      ]
     },
     "execution_count": 79,
     "metadata": {},
     "output_type": "execute_result"
    }
   ],
   "source": [
    "dicionario"
   ]
  },
  {
   "cell_type": "code",
   "execution_count": null,
   "metadata": {},
   "outputs": [],
   "source": []
  }
 ],
 "metadata": {
  "kernelspec": {
   "display_name": "Python 3",
   "language": "python",
   "name": "python3"
  },
  "language_info": {
   "codemirror_mode": {
    "name": "ipython",
    "version": 3
   },
   "file_extension": ".py",
   "mimetype": "text/x-python",
   "name": "python",
   "nbconvert_exporter": "python",
   "pygments_lexer": "ipython3",
   "version": "3.7.4"
  }
 },
 "nbformat": 4,
 "nbformat_minor": 2
}
