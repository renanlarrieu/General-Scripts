{
 "cells": [
  {
   "cell_type": "markdown",
   "metadata": {},
   "source": [
    "\\title{Bitwise Behavior in myHDL: Selecting, Shifting, Concatenation, Slicing}\n",
    "\\author{Steven K Armour}\n",
    "\\maketitle"
   ]
  },
  {
   "cell_type": "markdown",
   "metadata": {
    "toc": true
   },
   "source": [
    "<h1>Table of Contents<span class=\"tocSkip\"></span></h1>\n",
    "<div class=\"toc\" style=\"margin-top: 1em;\"><ul class=\"toc-item\"><li><span><a href=\"#References\" data-toc-modified-id=\"References-1\"><span class=\"toc-item-num\">1&nbsp;&nbsp;</span>References</a></span></li><li><span><a href=\"#Libraries-and-Helper-functions\" data-toc-modified-id=\"Libraries-and-Helper-functions-2\"><span class=\"toc-item-num\">2&nbsp;&nbsp;</span>Libraries and Helper functions</a></span></li><li><span><a href=\"#myHDL-Bit-Indexing\" data-toc-modified-id=\"myHDL-Bit-Indexing-3\"><span class=\"toc-item-num\">3&nbsp;&nbsp;</span>myHDL Bit Indexing</a></span><ul class=\"toc-item\"><li><span><a href=\"#Expected-Indexing-Selection-Behavior\" data-toc-modified-id=\"Expected-Indexing-Selection-Behavior-3.1\"><span class=\"toc-item-num\">3.1&nbsp;&nbsp;</span>Expected Indexing Selection Behavior</a></span></li><li><span><a href=\"#Attempted-Selection-with-Python-Negative-Warping\" data-toc-modified-id=\"Attempted-Selection-with-Python-Negative-Warping-3.2\"><span class=\"toc-item-num\">3.2&nbsp;&nbsp;</span>Attempted Selection with Python Negative Warping</a></span></li><li><span><a href=\"#Selecting-above-the-MSB\" data-toc-modified-id=\"Selecting-above-the-MSB-3.3\"><span class=\"toc-item-num\">3.3&nbsp;&nbsp;</span>Selecting above the MSB</a></span></li><li><span><a href=\"#Bit-Selection-of-Signal\" data-toc-modified-id=\"Bit-Selection-of-Signal-3.4\"><span class=\"toc-item-num\">3.4&nbsp;&nbsp;</span>Bit Selection of <code>Signal</code></a></span></li><li><span><a href=\"#myHDL-Bit-Selection-Demo\" data-toc-modified-id=\"myHDL-Bit-Selection-Demo-3.5\"><span class=\"toc-item-num\">3.5&nbsp;&nbsp;</span>myHDL Bit Selection Demo</a></span><ul class=\"toc-item\"><li><span><a href=\"#Bit-Assignment\" data-toc-modified-id=\"Bit-Assignment-3.5.1\"><span class=\"toc-item-num\">3.5.1&nbsp;&nbsp;</span>Bit Assignment</a></span></li></ul></li><li><span><a href=\"#myHDL-Testing\" data-toc-modified-id=\"myHDL-Testing-3.6\"><span class=\"toc-item-num\">3.6&nbsp;&nbsp;</span>myHDL Testing</a></span></li><li><span><a href=\"#Verilog-Conversion\" data-toc-modified-id=\"Verilog-Conversion-3.7\"><span class=\"toc-item-num\">3.7&nbsp;&nbsp;</span>Verilog Conversion</a></span><ul class=\"toc-item\"><li><span><a href=\"#Verilog-Conversion-Error\" data-toc-modified-id=\"Verilog-Conversion-Error-3.7.1\"><span class=\"toc-item-num\">3.7.1&nbsp;&nbsp;</span>Verilog Conversion Error</a></span></li></ul></li><li><span><a href=\"#VHDL-Conversion\" data-toc-modified-id=\"VHDL-Conversion-3.8\"><span class=\"toc-item-num\">3.8&nbsp;&nbsp;</span>VHDL Conversion</a></span><ul class=\"toc-item\"><li><span><a href=\"#VHDL-Conversion-Issue\" data-toc-modified-id=\"VHDL-Conversion-Issue-3.8.1\"><span class=\"toc-item-num\">3.8.1&nbsp;&nbsp;</span>VHDL Conversion Issue</a></span></li></ul></li><li><span><a href=\"#myHDL-to-Verilog/VHDL-Testbench\" data-toc-modified-id=\"myHDL-to-Verilog/VHDL-Testbench-3.9\"><span class=\"toc-item-num\">3.9&nbsp;&nbsp;</span>myHDL to Verilog/VHDL Testbench</a></span><ul class=\"toc-item\"><li><span><a href=\"#Verilog-Testbench\" data-toc-modified-id=\"Verilog-Testbench-3.9.1\"><span class=\"toc-item-num\">3.9.1&nbsp;&nbsp;</span>Verilog Testbench</a></span><ul class=\"toc-item\"><li><span><a href=\"#Verilog-Testbench-Conversion-Issue\" data-toc-modified-id=\"Verilog-Testbench-Conversion-Issue-3.9.1.1\"><span class=\"toc-item-num\">3.9.1.1&nbsp;&nbsp;</span>Verilog Testbench Conversion Issue</a></span></li></ul></li><li><span><a href=\"#VHDL-Testbench\" data-toc-modified-id=\"VHDL-Testbench-3.9.2\"><span class=\"toc-item-num\">3.9.2&nbsp;&nbsp;</span>VHDL Testbench</a></span><ul class=\"toc-item\"><li><span><a href=\"#VHDL-Testbench-Conversion-Issue\" data-toc-modified-id=\"VHDL-Testbench-Conversion-Issue-3.9.2.1\"><span class=\"toc-item-num\">3.9.2.1&nbsp;&nbsp;</span>VHDL Testbench Conversion Issue</a></span></li></ul></li></ul></li></ul></li><li><span><a href=\"#myHDL-shift-(&lt;&lt;/&gt;&gt;)-behavior\" data-toc-modified-id=\"myHDL-shift-(<</>>)-behavior-4\"><span class=\"toc-item-num\">4&nbsp;&nbsp;</span>myHDL shift (<code>&lt;&lt;</code>/<code>&gt;&gt;</code>) behavior</a></span><ul class=\"toc-item\"><li><span><a href=\"#Left-Shift-(&lt;&lt;)\" data-toc-modified-id=\"Left-Shift-(<<)-4.1\"><span class=\"toc-item-num\">4.1&nbsp;&nbsp;</span>Left Shift (&lt;&lt;)</a></span><ul class=\"toc-item\"><li><span><a href=\"#Left-Shifting-with-intbv\" data-toc-modified-id=\"Left-Shifting-with-intbv-4.1.1\"><span class=\"toc-item-num\">4.1.1&nbsp;&nbsp;</span>Left Shifting with <code>intbv</code></a></span></li><li><span><a href=\"#Left-Shifting-with-signed-intbv\" data-toc-modified-id=\"Left-Shifting-with-signed-intbv-4.1.2\"><span class=\"toc-item-num\">4.1.2&nbsp;&nbsp;</span>Left Shifting with signed <code>intbv</code></a></span></li><li><span><a href=\"#Left-Shifting-with-modbv\" data-toc-modified-id=\"Left-Shifting-with-modbv-4.1.3\"><span class=\"toc-item-num\">4.1.3&nbsp;&nbsp;</span>Left Shifting with <code>modbv</code></a></span></li></ul></li><li><span><a href=\"#Right-Shift-(&gt;&gt;)\" data-toc-modified-id=\"Right-Shift-(>>)-4.2\"><span class=\"toc-item-num\">4.2&nbsp;&nbsp;</span>Right Shift (<code>&gt;&gt;</code>)</a></span><ul class=\"toc-item\"><li><span><a href=\"#Right-Shifting-with-intbv\" data-toc-modified-id=\"Right-Shifting-with-intbv-4.2.1\"><span class=\"toc-item-num\">4.2.1&nbsp;&nbsp;</span>Right Shifting with <code>intbv</code></a></span></li><li><span><a href=\"#Right-Shifting-with-signed-intbv\" data-toc-modified-id=\"Right-Shifting-with-signed-intbv-4.2.2\"><span class=\"toc-item-num\">4.2.2&nbsp;&nbsp;</span>Right Shifting with signed <code>intbv</code></a></span></li><li><span><a href=\"#Right-Shifting-with-modbv\" data-toc-modified-id=\"Right-Shifting-with-modbv-4.2.3\"><span class=\"toc-item-num\">4.2.3&nbsp;&nbsp;</span>Right Shifting with <code>modbv</code></a></span></li></ul></li><li><span><a href=\"#myHDL-Shifting-Demo-Module\" data-toc-modified-id=\"myHDL-Shifting-Demo-Module-4.3\"><span class=\"toc-item-num\">4.3&nbsp;&nbsp;</span>myHDL Shifting Demo Module</a></span></li><li><span><a href=\"#myHDL-Testing\" data-toc-modified-id=\"myHDL-Testing-4.4\"><span class=\"toc-item-num\">4.4&nbsp;&nbsp;</span>myHDL Testing</a></span></li><li><span><a href=\"#Verilog-Conversion\" data-toc-modified-id=\"Verilog-Conversion-4.5\"><span class=\"toc-item-num\">4.5&nbsp;&nbsp;</span>Verilog Conversion</a></span></li><li><span><a href=\"#VHDL-Conversion\" data-toc-modified-id=\"VHDL-Conversion-4.6\"><span class=\"toc-item-num\">4.6&nbsp;&nbsp;</span>VHDL Conversion</a></span></li><li><span><a href=\"#myHDL-to-Verilog/VHDL-Testbench\" data-toc-modified-id=\"myHDL-to-Verilog/VHDL-Testbench-4.7\"><span class=\"toc-item-num\">4.7&nbsp;&nbsp;</span>myHDL to Verilog/VHDL Testbench</a></span><ul class=\"toc-item\"><li><span><a href=\"#Verilog-Testbench\" data-toc-modified-id=\"Verilog-Testbench-4.7.1\"><span class=\"toc-item-num\">4.7.1&nbsp;&nbsp;</span>Verilog Testbench</a></span><ul class=\"toc-item\"><li><span><a href=\"#Verilog-Testbench-Conversion-Issue\" data-toc-modified-id=\"Verilog-Testbench-Conversion-Issue-4.7.1.1\"><span class=\"toc-item-num\">4.7.1.1&nbsp;&nbsp;</span>Verilog Testbench Conversion Issue</a></span></li></ul></li><li><span><a href=\"#VHDL-Testbench\" data-toc-modified-id=\"VHDL-Testbench-4.7.2\"><span class=\"toc-item-num\">4.7.2&nbsp;&nbsp;</span>VHDL Testbench</a></span><ul class=\"toc-item\"><li><span><a href=\"#VHDL-Testbench-Conversion-Issue\" data-toc-modified-id=\"VHDL-Testbench-Conversion-Issue-4.7.2.1\"><span class=\"toc-item-num\">4.7.2.1&nbsp;&nbsp;</span>VHDL Testbench Conversion Issue</a></span></li></ul></li></ul></li></ul></li><li><span><a href=\"#myHDL-concat--behavior\" data-toc-modified-id=\"myHDL-concat--behavior-5\"><span class=\"toc-item-num\">5&nbsp;&nbsp;</span>myHDL <code>concat</code>  behavior</a></span><ul class=\"toc-item\"><li><span><a href=\"#myHDL-concat-Demo\" data-toc-modified-id=\"myHDL-concat-Demo-5.1\"><span class=\"toc-item-num\">5.1&nbsp;&nbsp;</span>myHDL <code>concat</code> Demo</a></span></li><li><span><a href=\"#myHDL-Testing\" data-toc-modified-id=\"myHDL-Testing-5.2\"><span class=\"toc-item-num\">5.2&nbsp;&nbsp;</span>myHDL Testing</a></span></li><li><span><a href=\"#Verilog-Conversion\" data-toc-modified-id=\"Verilog-Conversion-5.3\"><span class=\"toc-item-num\">5.3&nbsp;&nbsp;</span>Verilog Conversion</a></span></li><li><span><a href=\"#VHDL-Conversion\" data-toc-modified-id=\"VHDL-Conversion-5.4\"><span class=\"toc-item-num\">5.4&nbsp;&nbsp;</span>VHDL Conversion</a></span></li><li><span><a href=\"#myHDL-to-Verilog/VHDL-Testbench\" data-toc-modified-id=\"myHDL-to-Verilog/VHDL-Testbench-5.5\"><span class=\"toc-item-num\">5.5&nbsp;&nbsp;</span>myHDL to Verilog/VHDL Testbench</a></span><ul class=\"toc-item\"><li><span><a href=\"#Verilog-Testbench\" data-toc-modified-id=\"Verilog-Testbench-5.5.1\"><span class=\"toc-item-num\">5.5.1&nbsp;&nbsp;</span>Verilog Testbench</a></span></li><li><span><a href=\"#VHDL-Testbench\" data-toc-modified-id=\"VHDL-Testbench-5.5.2\"><span class=\"toc-item-num\">5.5.2&nbsp;&nbsp;</span>VHDL Testbench</a></span><ul class=\"toc-item\"><li><span><a href=\"#VHDL-Testbench-Conversion-Issue\" data-toc-modified-id=\"VHDL-Testbench-Conversion-Issue-5.5.2.1\"><span class=\"toc-item-num\">5.5.2.1&nbsp;&nbsp;</span>VHDL Testbench Conversion Issue</a></span></li></ul></li></ul></li></ul></li><li><span><a href=\"#myHDL-Bitslicing-Behavior\" data-toc-modified-id=\"myHDL-Bitslicing-Behavior-6\"><span class=\"toc-item-num\">6&nbsp;&nbsp;</span>myHDL Bitslicing Behavior</a></span><ul class=\"toc-item\"><li><span><a href=\"#Slicing-intbv\" data-toc-modified-id=\"Slicing-intbv-6.1\"><span class=\"toc-item-num\">6.1&nbsp;&nbsp;</span>Slicing <code>intbv</code></a></span></li><li><span><a href=\"#Slicing-Signed-intbv\" data-toc-modified-id=\"Slicing-Signed-intbv-6.2\"><span class=\"toc-item-num\">6.2&nbsp;&nbsp;</span>Slicing Signed <code>intbv</code></a></span></li><li><span><a href=\"#Slicing-modbv\" data-toc-modified-id=\"Slicing-modbv-6.3\"><span class=\"toc-item-num\">6.3&nbsp;&nbsp;</span>Slicing <code>modbv</code></a></span></li><li><span><a href=\"#myHDL-BitSlicing-Demo-Module\" data-toc-modified-id=\"myHDL-BitSlicing-Demo-Module-6.4\"><span class=\"toc-item-num\">6.4&nbsp;&nbsp;</span>myHDL BitSlicing Demo Module</a></span></li><li><span><a href=\"#myHDL-Testing\" data-toc-modified-id=\"myHDL-Testing-6.5\"><span class=\"toc-item-num\">6.5&nbsp;&nbsp;</span>myHDL Testing</a></span></li><li><span><a href=\"#Verilog-Conversion\" data-toc-modified-id=\"Verilog-Conversion-6.6\"><span class=\"toc-item-num\">6.6&nbsp;&nbsp;</span>Verilog Conversion</a></span><ul class=\"toc-item\"><li><span><a href=\"#Verilog-Conversion-Issue\" data-toc-modified-id=\"Verilog-Conversion-Issue-6.6.1\"><span class=\"toc-item-num\">6.6.1&nbsp;&nbsp;</span>Verilog Conversion Issue</a></span></li></ul></li><li><span><a href=\"#VHDL-Conversion\" data-toc-modified-id=\"VHDL-Conversion-6.7\"><span class=\"toc-item-num\">6.7&nbsp;&nbsp;</span>VHDL Conversion</a></span><ul class=\"toc-item\"><li><span><a href=\"#VHDL-Conversion-Issue\" data-toc-modified-id=\"VHDL-Conversion-Issue-6.7.1\"><span class=\"toc-item-num\">6.7.1&nbsp;&nbsp;</span>VHDL Conversion Issue</a></span></li></ul></li><li><span><a href=\"#myHDL-to-Verilog/VHDL-Testbench\" data-toc-modified-id=\"myHDL-to-Verilog/VHDL-Testbench-6.8\"><span class=\"toc-item-num\">6.8&nbsp;&nbsp;</span>myHDL to Verilog/VHDL Testbench</a></span><ul class=\"toc-item\"><li><span><a href=\"#Verilog-Testbench\" data-toc-modified-id=\"Verilog-Testbench-6.8.1\"><span class=\"toc-item-num\">6.8.1&nbsp;&nbsp;</span>Verilog Testbench</a></span></li><li><span><a href=\"#VHDL-Testbench\" data-toc-modified-id=\"VHDL-Testbench-6.8.2\"><span class=\"toc-item-num\">6.8.2&nbsp;&nbsp;</span>VHDL Testbench</a></span></li></ul></li></ul></li></ul></div>"
   ]
  },
  {
   "cell_type": "markdown",
   "metadata": {},
   "source": [
    "# References\n",
    "\n",
    "@misc{myhdl_2018,\n",
    "title={Hardware-oriented types  MyHDL 0.10 documentation},\n",
    "url={http://docs.myhdl.org/en/stable/manual/hwtypes.html},\n",
    "journal={Docs.myhdl.org},\n",
    "author={myHDL},\n",
    "year={2018}\n",
    "},\n",
    "\n",
    "@misc{vandenbout_2018,\n",
    "title={pygmyhdl 0.0.3 documentation},\n",
    "url={https://xesscorp.github.io/pygmyhdl/docs/_build/singlehtml/index.html},\n",
    "journal={Xesscorp.github.io},\n",
    "author={Vandenbout, Dave},\n",
    "year={2018}\n",
    "}"
   ]
  },
  {
   "cell_type": "markdown",
   "metadata": {},
   "source": [
    "# Libraries and Helper functions"
   ]
  },
  {
   "cell_type": "code",
   "execution_count": 1,
   "metadata": {},
   "outputs": [
    {
     "data": {
      "application/json": {
       "Software versions": [
        {
         "module": "Python",
         "version": "3.6.2 64bit [GCC 4.4.7 20120313 (Red Hat 4.4.7-1)]"
        },
        {
         "module": "IPython",
         "version": "6.2.1"
        },
        {
         "module": "OS",
         "version": "Linux 4.15.0 30 generic x86_64 with debian stretch sid"
        },
        {
         "module": "myhdl",
         "version": "0.10"
        },
        {
         "module": "myhdlpeek",
         "version": "0.0.6"
        },
        {
         "module": "numpy",
         "version": "1.13.3"
        },
        {
         "module": "pandas",
         "version": "0.23.3"
        },
        {
         "module": "matplotlib",
         "version": "2.1.0"
        },
        {
         "module": "sympy",
         "version": "1.1.2.dev"
        },
        {
         "module": "random",
         "version": "The 'random' distribution was not found and is required by the application"
        }
       ]
      },
      "text/html": [
       "<table><tr><th>Software</th><th>Version</th></tr><tr><td>Python</td><td>3.6.2 64bit [GCC 4.4.7 20120313 (Red Hat 4.4.7-1)]</td></tr><tr><td>IPython</td><td>6.2.1</td></tr><tr><td>OS</td><td>Linux 4.15.0 30 generic x86_64 with debian stretch sid</td></tr><tr><td>myhdl</td><td>0.10</td></tr><tr><td>myhdlpeek</td><td>0.0.6</td></tr><tr><td>numpy</td><td>1.13.3</td></tr><tr><td>pandas</td><td>0.23.3</td></tr><tr><td>matplotlib</td><td>2.1.0</td></tr><tr><td>sympy</td><td>1.1.2.dev</td></tr><tr><td>random</td><td>The 'random' distribution was not found and is required by the application</td></tr><tr><td colspan='2'>Wed Aug 29 16:10:23 2018 MDT</td></tr></table>"
      ],
      "text/latex": [
       "\\begin{tabular}{|l|l|}\\hline\n",
       "{\\bf Software} & {\\bf Version} \\\\ \\hline\\hline\n",
       "Python & 3.6.2 64bit [GCC 4.4.7 20120313 (Red Hat 4.4.7-1)] \\\\ \\hline\n",
       "IPython & 6.2.1 \\\\ \\hline\n",
       "OS & Linux 4.15.0 30 generic x86\\_64 with debian stretch sid \\\\ \\hline\n",
       "myhdl & 0.10 \\\\ \\hline\n",
       "myhdlpeek & 0.0.6 \\\\ \\hline\n",
       "numpy & 1.13.3 \\\\ \\hline\n",
       "pandas & 0.23.3 \\\\ \\hline\n",
       "matplotlib & 2.1.0 \\\\ \\hline\n",
       "sympy & 1.1.2.dev \\\\ \\hline\n",
       "random & The 'random' distribution was not found and is required by the application \\\\ \\hline\n",
       "\\hline \\multicolumn{2}{|l|}{Wed Aug 29 16:10:23 2018 MDT} \\\\ \\hline\n",
       "\\end{tabular}\n"
      ],
      "text/plain": [
       "Software versions\n",
       "Python 3.6.2 64bit [GCC 4.4.7 20120313 (Red Hat 4.4.7-1)]\n",
       "IPython 6.2.1\n",
       "OS Linux 4.15.0 30 generic x86_64 with debian stretch sid\n",
       "myhdl 0.10\n",
       "myhdlpeek 0.0.6\n",
       "numpy 1.13.3\n",
       "pandas 0.23.3\n",
       "matplotlib 2.1.0\n",
       "sympy 1.1.2.dev\n",
       "random The 'random' distribution was not found and is required by the application\n",
       "Wed Aug 29 16:10:23 2018 MDT"
      ]
     },
     "execution_count": 1,
     "metadata": {},
     "output_type": "execute_result"
    }
   ],
   "source": [
    "#This notebook also uses the `(some) LaTeX environments for Jupyter`\n",
    "#https://github.com/ProfFan/latex_envs wich is part of the\n",
    "#jupyter_contrib_nbextensions package\n",
    "\n",
    "from myhdl import *\n",
    "from myhdlpeek import Peeker\n",
    "import numpy as np\n",
    "import pandas as pd\n",
    "import matplotlib.pyplot as plt\n",
    "%matplotlib inline\n",
    "\n",
    "from sympy import *\n",
    "init_printing()\n",
    "\n",
    "import random\n",
    "\n",
    "#https://github.com/jrjohansson/version_information\n",
    "%load_ext version_information\n",
    "%version_information myhdl, myhdlpeek, numpy, pandas, matplotlib, sympy, random"
   ]
  },
  {
   "cell_type": "code",
   "execution_count": 2,
   "metadata": {},
   "outputs": [],
   "source": [
    "#helper  functions to read in the .v and .vhd generated files into python\n",
    "def VerilogTextReader(loc, printresult=True):\n",
    "    with open(f'{loc}.v', 'r') as vText:\n",
    "        VerilogText=vText.read()\n",
    "    if printresult:\n",
    "        print(f'***Verilog modual from {loc}.v***\\n\\n', VerilogText)\n",
    "    return VerilogText\n",
    "\n",
    "def VHDLTextReader(loc, printresult=True):\n",
    "    with open(f'{loc}.vhd', 'r') as vText:\n",
    "        VerilogText=vText.read()\n",
    "    if printresult:\n",
    "        print(f'***VHDL modual from {loc}.vhd***\\n\\n', VerilogText)\n",
    "    return VerilogText"
   ]
  },
  {
   "cell_type": "code",
   "execution_count": 3,
   "metadata": {},
   "outputs": [
    {
     "data": {
      "image/png": "[encoded data removed]",
      "text/latex": [
       "$$5$$"
      ],
      "text/plain": [
       "5"
      ]
     },
     "execution_count": 3,
     "metadata": {},
     "output_type": "execute_result"
    }
   ],
   "source": [
    "CountVal=17\n",
    "BitSize=int(np.log2(CountVal))+1; BitSize"
   ]
  },
  {
   "cell_type": "markdown",
   "metadata": {},
   "source": [
    "# myHDL Bit Indexing\n",
    "Bit Indexing is the act of selecting or assigning one of the bits in a Bit Vector"
   ]
  },
  {
   "cell_type": "markdown",
   "metadata": {},
   "source": [
    "## Expected Indexing Selection Behavior"
   ]
  },
  {
   "cell_type": "code",
   "execution_count": 4,
   "metadata": {},
   "outputs": [
    {
     "name": "stdout",
     "output_type": "stream",
     "text": [
      "Value:-93, Binary 10100011\n"
     ]
    }
   ],
   "source": [
    "TV=intbv(-93)[8:].signed()\n",
    "print(f'Value:{int(TV)}, Binary {bin(TV)}')"
   ]
  },
  {
   "cell_type": "code",
   "execution_count": 5,
   "metadata": {},
   "outputs": [
    {
     "name": "stdout",
     "output_type": "stream",
     "text": [
      "Bit from LSB: 0, Selected Bit: 1\n",
      "Bit from LSB: 1, Selected Bit: 1\n",
      "Bit from LSB: 2, Selected Bit: 0\n",
      "Bit from LSB: 3, Selected Bit: 0\n",
      "Bit from LSB: 4, Selected Bit: 0\n",
      "Bit from LSB: 5, Selected Bit: 1\n",
      "Bit from LSB: 6, Selected Bit: 0\n",
      "Bit from LSB: 7, Selected Bit: 1\n"
     ]
    }
   ],
   "source": [
    "for i in range(len(TV)):\n",
    "    print(f'Bit from LSB: {i}, Selected Bit: {int(TV[i])}')"
   ]
  },
  {
   "cell_type": "markdown",
   "metadata": {},
   "source": [
    "which shows that when selecting a single bit from a BitVector that selection [0] is the Least Significant Bit (LSB) (inclusive behavior) while for the Most Significant Bit (MSB) will be the index of the BitVector length -1 (noninclusive behavior)"
   ]
  },
  {
   "cell_type": "markdown",
   "metadata": {},
   "source": [
    "## Attempted Selection with Python Negative Warping"
   ]
  },
  {
   "cell_type": "code",
   "execution_count": 6,
   "metadata": {},
   "outputs": [
    {
     "name": "stdout",
     "output_type": "stream",
     "text": [
      "ValueError: negative shift count\n"
     ]
    }
   ],
   "source": [
    "try:\n",
    "    TV[-1]\n",
    "except ValueError:\n",
    "    print(\"ValueError: negative shift count\")"
   ]
  },
  {
   "cell_type": "markdown",
   "metadata": {},
   "source": [
    "This means that negative indexing using python's list selection wrap around is NOT implemented in a myHDL `intbv`"
   ]
  },
  {
   "cell_type": "code",
   "execution_count": 7,
   "metadata": {},
   "outputs": [
    {
     "name": "stdout",
     "output_type": "stream",
     "text": [
      "Value:-93, Binary 10100011\n",
      "ValueError: negative shift count\n"
     ]
    }
   ],
   "source": [
    "TV=modbv(-93)[8:].signed()\n",
    "print(f'Value:{int(TV)}, Binary {bin(TV)}')\n",
    "try:\n",
    "    TV[-1]\n",
    "except ValueError:\n",
    "    print(\"ValueError: negative shift count\")"
   ]
  },
  {
   "cell_type": "markdown",
   "metadata": {},
   "source": [
    "nor is the negative wrapping supported by the use of the `modbv`"
   ]
  },
  {
   "cell_type": "markdown",
   "metadata": {},
   "source": [
    "## Selecting above the MSB"
   ]
  },
  {
   "cell_type": "code",
   "execution_count": 8,
   "metadata": {},
   "outputs": [
    {
     "name": "stdout",
     "output_type": "stream",
     "text": [
      "`intbv`:Value:93, Binary 1011101, [8]:0, [9]:0\n",
      "`intbv signed`:Value:-93, Binary 10100011, [8]:1, [9]:1\n",
      "`modbv`:Value:-93, Binary 10100011, [8]:1, [9]:1\n"
     ]
    }
   ],
   "source": [
    "TV=intbv(93)[8:]\n",
    "TV_S=intbv(-93)[8:].signed()\n",
    "TV_M=modbv(-93)[8:].signed()\n",
    "print(f'`intbv`:Value:{int(TV)}, Binary {bin(TV)}, [8]:{int(TV[8])}, [9]:{int(TV[9])}')\n",
    "print(f'`intbv signed`:Value:{int(TV_S)}, Binary {bin(TV_S)}, [8]:{int(TV_S[8])}, [9]:{int(TV_S[9])}')\n",
    "print(f'`modbv`:Value:{int(TV_M)}, Binary {bin(TV_M)}, [8]:{int(TV_M[8])}, [9]:{int(TV_M[9])}')"
   ]
  },
  {
   "cell_type": "markdown",
   "metadata": {},
   "source": [
    "Thus selecting above the MSB will generate a `0` if the Bit Vector is not signed where as selecting above the MSB for a signed bit will produce a `1`."
   ]
  },
  {
   "cell_type": "markdown",
   "metadata": {},
   "source": [
    "## Bit Selection of `Signal`"
   ]
  },
  {
   "cell_type": "code",
   "execution_count": 9,
   "metadata": {},
   "outputs": [],
   "source": [
    "TV=Signal(intbv(93)[8:])"
   ]
  },
  {
   "cell_type": "code",
   "execution_count": 10,
   "metadata": {},
   "outputs": [
    {
     "data": {
      "text/plain": [
       "(True, Signal(True), False, Signal(False))"
      ]
     },
     "execution_count": 10,
     "metadata": {},
     "output_type": "execute_result"
    }
   ],
   "source": [
    "TV[0], TV(0), TV[9], TV(9)"
   ]
  },
  {
   "cell_type": "markdown",
   "metadata": {},
   "source": [
    "The difference is that outside of a generator, bit selection of a `signal` using `[]` only returns a value and not a signal that is only returned using `()`. This is important to know since only a `Signal` can be converted to registers/wires in the conversion from myHDL to Verilog/VHDL "
   ]
  },
  {
   "cell_type": "markdown",
   "metadata": {},
   "source": [
    "## myHDL Bit Selection Demo"
   ]
  },
  {
   "cell_type": "code",
   "execution_count": 11,
   "metadata": {},
   "outputs": [],
   "source": [
    "@block\n",
    "def BitSelectDemo(Index, Res, SignRes):\n",
    "    \"\"\"\n",
    "    Bit Selection Demo\n",
    "    \n",
    "    Input:\n",
    "        Index(4BitVec): value for selection from internal refrances \n",
    "    Output:\n",
    "        Res(8BitVec): BitVector with Bit Location set from `Index` from \n",
    "            refrance internal 8Bit `intbv` with value 93\n",
    "        SignRes(8BitVec Signed): signed BitVector with Bit Location set from `Index` from \n",
    "            refrance internal signed 8Bit `intbv` with value -93\n",
    "    \"\"\"\n",
    "    Ref=Signal(intbv(93)[8:])\n",
    "    RefS=Signal(intbv(-93)[8:].signed())\n",
    "    @always_comb\n",
    "    def logic():\n",
    "        Res.next[Index]=Ref[Index]\n",
    "        SignRes.next[Index]=RefS[Index]\n",
    "\n",
    "    return instances()"
   ]
  },
  {
   "cell_type": "markdown",
   "metadata": {},
   "source": [
    "### Bit Assignment\n",
    "Note: that in the above the module also shows how to perform bit selection assignment. The output signal `Res` or `SignRes`  is assigned a value from the References at position `Index` but then the bit from the references is set to position `Index` in the outputs. Notice that the syntax is\n",
    "```\n",
    "Variable.next[index]=\n",
    "```\n",
    "The same structure is also used in setting bit slices so that for a big slice assignment is\n",
    "```\n",
    "Variable.next[MSB:LSB]=\n",
    "```"
   ]
  },
  {
   "cell_type": "markdown",
   "metadata": {},
   "source": [
    "## myHDL Testing"
   ]
  },
  {
   "cell_type": "code",
   "execution_count": 12,
   "metadata": {},
   "outputs": [],
   "source": [
    "Peeker.clear()\n",
    "Index=Signal(intbv(0)[4:]); Peeker(Index, 'Index')\n",
    "Res=Signal(intbv(0)[8:]); Peeker(Res, 'Res')\n",
    "SignRes=Signal(intbv(0)[8:].signed()); Peeker(SignRes, 'SignRes')\n",
    "\n",
    "DUT=BitSelectDemo(Index, Res, SignRes)\n",
    "\n",
    "def BitSelectDemo_TB():\n",
    "    \"\"\"\n",
    "    myHDL only Testbench\n",
    "    \"\"\"\n",
    "    @instance\n",
    "    def stimules():\n",
    "        for i in range(7):\n",
    "            Index.next=i\n",
    "            yield delay(1)\n",
    "        \n",
    "        raise StopSimulation()\n",
    "    \n",
    "    return instances()\n",
    "sim=Simulation(DUT, BitSelectDemo_TB(), *Peeker.instances()).run()            "
   ]
  },
  {
   "cell_type": "markdown",
   "metadata": {},
   "source": [
    "Note that if the `for` loop range was increased beyond 7 an error would be triggered."
   ]
  },
  {
   "cell_type": "code",
   "execution_count": 13,
   "metadata": {},
   "outputs": [
    {
     "data": {
      "text/html": [
       "<div><script type=\"WaveDrom\">{\"signal\": [{\"name\": \"Index\", \"wave\": \"=======\", \"data\": [\"0\", \"1\", \"2\", \"3\", \"4\", \"5\", \"6\"]}, {\"name\": \"Res\", \"wave\": \"=.===.=\", \"data\": [\"1\", \"05\", \"0d\", \"1d\", \"93\"]}, {\"name\": \"SignRes\", \"wave\": \"==...=.\", \"data\": [\"1\", \"03\", \"23\"]}]}</script></div>"
      ]
     },
     "metadata": {},
     "output_type": "display_data"
    },
    {
     "data": {
      "application/javascript": [
       "$.getScript(\"http://wavedrom.com/wavedrom.min.js\", function () {\n",
       "$.getScript(\"http://wavedrom.com/skins/default.js\", function () {\n",
       "WaveDrom.ProcessAll();});\n",
       "});\n"
      ]
     },
     "metadata": {},
     "output_type": "display_data"
    }
   ],
   "source": [
    "Peeker.to_wavedrom('Index', 'Res', 'SignRes')"
   ]
  },
  {
   "cell_type": "code",
   "execution_count": 14,
   "metadata": {},
   "outputs": [
    {
     "data": {
      "text/html": [
       "<div>\n",
       "<style scoped>\n",
       "    .dataframe tbody tr th:only-of-type {\n",
       "        vertical-align: middle;\n",
       "    }\n",
       "\n",
       "    .dataframe tbody tr th {\n",
       "        vertical-align: top;\n",
       "    }\n",
       "\n",
       "    .dataframe thead th {\n",
       "        text-align: right;\n",
       "    }\n",
       "</style>\n",
       "<table border=\"1\" class=\"dataframe\">\n",
       "  <thead>\n",
       "    <tr style=\"text-align: right;\">\n",
       "      <th></th>\n",
       "      <th>Index</th>\n",
       "      <th>Res</th>\n",
       "      <th>Res Bin</th>\n",
       "      <th>SignRes</th>\n",
       "      <th>SignRes Bin</th>\n",
       "    </tr>\n",
       "  </thead>\n",
       "  <tbody>\n",
       "    <tr>\n",
       "      <th>0</th>\n",
       "      <td>0</td>\n",
       "      <td>1</td>\n",
       "      <td>00000001</td>\n",
       "      <td>1</td>\n",
       "      <td>00000001</td>\n",
       "    </tr>\n",
       "    <tr>\n",
       "      <th>1</th>\n",
       "      <td>1</td>\n",
       "      <td>1</td>\n",
       "      <td>00000001</td>\n",
       "      <td>3</td>\n",
       "      <td>00000011</td>\n",
       "    </tr>\n",
       "    <tr>\n",
       "      <th>2</th>\n",
       "      <td>2</td>\n",
       "      <td>5</td>\n",
       "      <td>00000101</td>\n",
       "      <td>3</td>\n",
       "      <td>00000011</td>\n",
       "    </tr>\n",
       "    <tr>\n",
       "      <th>3</th>\n",
       "      <td>3</td>\n",
       "      <td>13</td>\n",
       "      <td>00001101</td>\n",
       "      <td>3</td>\n",
       "      <td>00000011</td>\n",
       "    </tr>\n",
       "    <tr>\n",
       "      <th>4</th>\n",
       "      <td>4</td>\n",
       "      <td>29</td>\n",
       "      <td>00011101</td>\n",
       "      <td>3</td>\n",
       "      <td>00000011</td>\n",
       "    </tr>\n",
       "    <tr>\n",
       "      <th>5</th>\n",
       "      <td>5</td>\n",
       "      <td>29</td>\n",
       "      <td>00011101</td>\n",
       "      <td>35</td>\n",
       "      <td>00100011</td>\n",
       "    </tr>\n",
       "    <tr>\n",
       "      <th>6</th>\n",
       "      <td>6</td>\n",
       "      <td>93</td>\n",
       "      <td>01011101</td>\n",
       "      <td>35</td>\n",
       "      <td>00100011</td>\n",
       "    </tr>\n",
       "  </tbody>\n",
       "</table>\n",
       "</div>"
      ],
      "text/plain": [
       "   Index  Res   Res Bin  SignRes SignRes Bin\n",
       "0      0    1  00000001        1    00000001\n",
       "1      1    1  00000001        3    00000011\n",
       "2      2    5  00000101        3    00000011\n",
       "3      3   13  00001101        3    00000011\n",
       "4      4   29  00011101        3    00000011\n",
       "5      5   29  00011101       35    00100011\n",
       "6      6   93  01011101       35    00100011"
      ]
     },
     "execution_count": 14,
     "metadata": {},
     "output_type": "execute_result"
    }
   ],
   "source": [
    "BitSelectDemoData=Peeker.to_dataframe() \n",
    "BitSelectDemoData['Res Bin']=BitSelectDemoData['Res'].apply(lambda Row: bin(Row, 8), 1)\n",
    "BitSelectDemoData['SignRes Bin']=BitSelectDemoData['SignRes'].apply(lambda Row: bin(Row, 8), 1)\n",
    "BitSelectDemoData=BitSelectDemoData[['Index', 'Res', 'Res Bin', 'SignRes', 'SignRes Bin']]\n",
    "BitSelectDemoData"
   ]
  },
  {
   "cell_type": "markdown",
   "metadata": {},
   "source": [
    "## Verilog Conversion"
   ]
  },
  {
   "cell_type": "markdown",
   "metadata": {},
   "source": [
    "### Verilog Conversion Error\n",
    "Line 24 in the conversion of `BitSelectDemo` to `BitSelectDemo.v` is incorrect. The myHDL source line is\n",
    "```\n",
    "RefS=Signal(intbv(-93)[8:].signed())\n",
    "```\n",
    "but the converted line becomes \n",
    "```\n",
    "assign RefS = 8'd-93;\n",
    "```\n",
    "but this needs to instead become \n",
    "```\n",
    "assign RefS = -8'd93;\n",
    "\n",
    "```\n",
    "in `BitSelectDemo.v`\n"
   ]
  },
  {
   "cell_type": "code",
   "execution_count": 15,
   "metadata": {},
   "outputs": [
    {
     "name": "stdout",
     "output_type": "stream",
     "text": [
      "***Verilog modual from BitSelectDemo.v***\n",
      "\n",
      " // File: BitSelectDemo.v\n",
      "// Generated by MyHDL 0.10\n",
      "// Date: Wed Aug 29 14:27:57 2018\n",
      "\n",
      "\n",
      "`timescale 1ns/10ps\n",
      "\n",
      "module BitSelectDemo (\n",
      "    Index,\n",
      "    Res,\n",
      "    SignRes\n",
      ");\n",
      "// Bit Selection Demo\n",
      "// \n",
      "// Input:\n",
      "//     Index(4BitVec): value for selection from internal refrances \n",
      "// Output:\n",
      "//     Res(8BitVec): BitVector with Bit Location set from `Index` from \n",
      "//         refrance internal 8Bit `intbv` with value 93\n",
      "//     SignRes(8BitVec Signed): signed BitVector with Bit Location set from `Index` from \n",
      "//         refrance internal signed 8Bit `intbv` with value -93\n",
      "\n",
      "input [3:0] Index;\n",
      "output [7:0] Res;\n",
      "reg [7:0] Res;\n",
      "output signed [7:0] SignRes;\n",
      "reg signed [7:0] SignRes;\n",
      "\n",
      "wire [7:0] RefS;\n",
      "wire [7:0] Ref;\n",
      "\n",
      "assign RefS = 8'd-93;\n",
      "assign Ref = 8'd93;\n",
      "\n",
      "\n",
      "always @(Index, RefS, Ref) begin: BITSELECTDEMO_LOGIC\n",
      "    Res[Index] = Ref[Index];\n",
      "    SignRes[Index] = RefS[Index];\n",
      "end\n",
      "\n",
      "endmodule\n",
      "\n"
     ]
    },
    {
     "name": "stderr",
     "output_type": "stream",
     "text": [
      "/home/iridium/anaconda3/lib/python3.6/site-packages/myhdl/conversion/_toVerilog.py:349: ToVerilogWarning: Signal is not driven: RefS\n",
      "  category=ToVerilogWarning\n",
      "/home/iridium/anaconda3/lib/python3.6/site-packages/myhdl/conversion/_toVerilog.py:349: ToVerilogWarning: Signal is not driven: Ref\n",
      "  category=ToVerilogWarning\n"
     ]
    }
   ],
   "source": [
    "DUT.convert()\n",
    "VerilogTextReader('BitSelectDemo');"
   ]
  },
  {
   "cell_type": "markdown",
   "metadata": {},
   "source": [
    "\\begin{figure}\n",
    "\\centerline{\\includegraphics[width=10cm]{BitSelectDemo_v_RTL.png}}\n",
    "\\caption{\\label{fig:BSDVRTL} BitSelectDemo Verilog RTL schematic with corrected errors; Xilinx Vivado 2017.4}\n",
    "\\end{figure}"
   ]
  },
  {
   "cell_type": "markdown",
   "metadata": {},
   "source": [
    "\\begin{figure}\n",
    "\\centerline{\\includegraphics[width=10cm]{BitSelectDemo_v_SYN.png}}\n",
    "\\caption{\\label{fig:BSDVHDSYN} BitSelectDemo Verilog Synthesized Schematic with corrected errors; Xilinx Vivado 2017.4}\n",
    "\\end{figure}"
   ]
  },
  {
   "cell_type": "markdown",
   "metadata": {},
   "source": [
    "## VHDL Conversion"
   ]
  },
  {
   "cell_type": "markdown",
   "metadata": {},
   "source": [
    "### VHDL Conversion Issue\n",
    "The resulting `BitSelectDemo.vhd` from `BitSelectDemo` contains a line that calls from a libary `work.pck_myhdl_010.all` that is created when this file is ran. Make sure to import this file along with `BitSelectDemo.vhd`."
   ]
  },
  {
   "cell_type": "code",
   "execution_count": 16,
   "metadata": {},
   "outputs": [
    {
     "name": "stdout",
     "output_type": "stream",
     "text": [
      "***VHDL modual from BitSelectDemo.vhd***\n",
      "\n",
      " -- File: BitSelectDemo.vhd\n",
      "-- Generated by MyHDL 0.10\n",
      "-- Date: Wed Aug 29 14:27:57 2018\n",
      "\n",
      "\n",
      "library IEEE;\n",
      "use IEEE.std_logic_1164.all;\n",
      "use IEEE.numeric_std.all;\n",
      "use std.textio.all;\n",
      "\n",
      "use work.pck_myhdl_010.all;\n",
      "\n",
      "entity BitSelectDemo is\n",
      "    port (\n",
      "        Index: in unsigned(3 downto 0);\n",
      "        Res: out unsigned(7 downto 0);\n",
      "        SignRes: out signed (7 downto 0)\n",
      "    );\n",
      "end entity BitSelectDemo;\n",
      "-- Bit Selection Demo\n",
      "-- \n",
      "-- Input:\n",
      "--     Index(4BitVec): value for selection from internal refrances \n",
      "-- Output:\n",
      "--     Res(8BitVec): BitVector with Bit Location set from `Index` from \n",
      "--         refrance internal 8Bit `intbv` with value 93\n",
      "--     SignRes(8BitVec Signed): signed BitVector with Bit Location set from `Index` from \n",
      "--         refrance internal signed 8Bit `intbv` with value -93\n",
      "\n",
      "architecture MyHDL of BitSelectDemo is\n",
      "\n",
      "\n",
      "signal RefS: signed (7 downto 0);\n",
      "signal Ref: unsigned(7 downto 0);\n",
      "\n",
      "begin\n",
      "\n",
      "\n",
      "RefS <= to_signed(-93, 8);\n",
      "Ref <= to_unsigned(93, 8);\n",
      "\n",
      "\n",
      "BITSELECTDEMO_LOGIC: process (Index, RefS, Ref) is\n",
      "begin\n",
      "    Res(to_integer(Index)) <= Ref(to_integer(Index));\n",
      "    SignRes(to_integer(Index)) <= RefS(to_integer(Index));\n",
      "end process BITSELECTDEMO_LOGIC;\n",
      "\n",
      "end architecture MyHDL;\n",
      "\n"
     ]
    },
    {
     "name": "stderr",
     "output_type": "stream",
     "text": [
      "/home/iridium/anaconda3/lib/python3.6/site-packages/myhdl/conversion/_toVHDL.py:453: ToVHDLWarning: Signal is not driven: RefS\n",
      "  category=ToVHDLWarning\n",
      "/home/iridium/anaconda3/lib/python3.6/site-packages/myhdl/conversion/_toVHDL.py:453: ToVHDLWarning: Signal is not driven: Ref\n",
      "  category=ToVHDLWarning\n"
     ]
    }
   ],
   "source": [
    "DUT.convert('VHDL')\n",
    "VHDLTextReader('BitSelectDemo');"
   ]
  },
  {
   "cell_type": "markdown",
   "metadata": {},
   "source": [
    "\\begin{figure}\n",
    "\\centerline{\\includegraphics[width=10cm]{BitSelectDemo_vhd_RTL.png}}\n",
    "\\caption{\\label{fig:BSDVHDRTL} BitSelectDemo VHDL RTL schematic with corrected errors; Xilinx Vivado 2017.4}\n",
    "\\end{figure}"
   ]
  },
  {
   "cell_type": "markdown",
   "metadata": {},
   "source": [
    "\\begin{figure}\n",
    "\\centerline{\\includegraphics[width=10cm]{BitSelectDemo_vhd_SYN.png}}\n",
    "\\caption{\\label{fig:BSDVHDSYN} BitSelectDemo VHDL Synthesized Schematic with corrected errrors; Xilinx Vivado 2017.4}\n",
    "\\end{figure}"
   ]
  },
  {
   "cell_type": "markdown",
   "metadata": {},
   "source": [
    "## myHDL to Verilog/VHDL Testbench"
   ]
  },
  {
   "cell_type": "code",
   "execution_count": 17,
   "metadata": {},
   "outputs": [],
   "source": [
    "@block\n",
    "def BitSelectDemo_TB_V_VHDL():\n",
    "    \"\"\"\n",
    "    myHDL -> Verilog/VHDL Testbench for `BitSelectDemo`\n",
    "    \"\"\"\n",
    "\n",
    "    Index=Signal(intbv(0)[4:])\n",
    "    Res=Signal(intbv(0)[8:])\n",
    "    SignRes=Signal(intbv(0)[8:].signed())\n",
    "\n",
    "    @always_comb\n",
    "    def print_data():\n",
    "        print(Index, Res, SignRes)\n",
    "\n",
    "    DUT=BitSelectDemo(Index, Res, SignRes)\n",
    "\n",
    "    @instance\n",
    "    def stimules():\n",
    "        for i in range(7):\n",
    "            Index.next=i\n",
    "            yield delay(1)\n",
    "        \n",
    "        raise StopSimulation()\n",
    "    \n",
    "    return instances()\n",
    "TB=BitSelectDemo_TB_V_VHDL()"
   ]
  },
  {
   "cell_type": "markdown",
   "metadata": {},
   "source": [
    "### Verilog Testbench\n",
    "#### Verilog Testbench Conversion Issue\n",
    "This testbench will work after\n",
    "```\n",
    "assign RefS = 8'd-93;\n",
    "```\n",
    "is changed to\n",
    "```\n",
    "assign RefS = -8'd93;\n",
    "```"
   ]
  },
  {
   "cell_type": "code",
   "execution_count": 18,
   "metadata": {},
   "outputs": [
    {
     "name": "stdout",
     "output_type": "stream",
     "text": [
      "<class 'myhdl._Signal._Signal'> <class '_ast.Name'>\n",
      "<class 'myhdl._Signal._Signal'> <class '_ast.Name'>\n",
      "<class 'myhdl._Signal._Signal'> <class '_ast.Name'>\n",
      "***Verilog modual from BitSelectDemo_TB_V_VHDL.v***\n",
      "\n",
      " // File: BitSelectDemo_TB_V_VHDL.v\n",
      "// Generated by MyHDL 0.10\n",
      "// Date: Wed Aug 29 14:27:58 2018\n",
      "\n",
      "\n",
      "`timescale 1ns/10ps\n",
      "\n",
      "module BitSelectDemo_TB_V_VHDL (\n",
      "\n",
      ");\n",
      "// myHDL -> Verilog/VHDL Testbench\n",
      "\n",
      "\n",
      "reg [3:0] Index = 0;\n",
      "reg [7:0] Res = 0;\n",
      "reg signed [7:0] SignRes = 0;\n",
      "wire [7:0] BitSelectDemo0_0_RefS;\n",
      "wire [7:0] BitSelectDemo0_0_Ref;\n",
      "\n",
      "assign BitSelectDemo0_0_RefS = 8'd-93;\n",
      "assign BitSelectDemo0_0_Ref = 8'd93;\n",
      "\n",
      "\n",
      "always @(SignRes, Index, Res) begin: BITSELECTDEMO_TB_V_VHDL_PRINT_DATA\n",
      "    $write(\"%h\", Index);\n",
      "    $write(\" \");\n",
      "    $write(\"%h\", Res);\n",
      "    $write(\" \");\n",
      "    $write(\"%h\", SignRes);\n",
      "    $write(\"\\n\");\n",
      "end\n",
      "\n",
      "\n",
      "always @(Index, BitSelectDemo0_0_RefS, BitSelectDemo0_0_Ref) begin: BITSELECTDEMO_TB_V_VHDL_BITSELECTDEMO0_0_LOGIC\n",
      "    Res[Index] = BitSelectDemo0_0_Ref[Index];\n",
      "    SignRes[Index] = BitSelectDemo0_0_RefS[Index];\n",
      "end\n",
      "\n",
      "\n",
      "initial begin: BITSELECTDEMO_TB_V_VHDL_STIMULES\n",
      "    integer i;\n",
      "    for (i=0; i<7; i=i+1) begin\n",
      "        Index <= i;\n",
      "        # 1;\n",
      "    end\n",
      "    $finish;\n",
      "end\n",
      "\n",
      "endmodule\n",
      "\n"
     ]
    },
    {
     "name": "stderr",
     "output_type": "stream",
     "text": [
      "/home/iridium/anaconda3/lib/python3.6/site-packages/myhdl/conversion/_toVerilog.py:349: ToVerilogWarning: Signal is not driven: BitSelectDemo0_0_RefS\n",
      "  category=ToVerilogWarning\n",
      "/home/iridium/anaconda3/lib/python3.6/site-packages/myhdl/conversion/_toVerilog.py:349: ToVerilogWarning: Signal is not driven: BitSelectDemo0_0_Ref\n",
      "  category=ToVerilogWarning\n"
     ]
    }
   ],
   "source": [
    "TB.convert(hdl=\"Verilog\", initial_values=True)\n",
    "VerilogTextReader('BitSelectDemo_TB_V_VHDL');"
   ]
  },
  {
   "cell_type": "markdown",
   "metadata": {},
   "source": [
    "### VHDL Testbench\n",
    "#### VHDL Testbench Conversion Issue\n",
    "This Testbench is not working in Vivado"
   ]
  },
  {
   "cell_type": "code",
   "execution_count": 19,
   "metadata": {},
   "outputs": [
    {
     "name": "stdout",
     "output_type": "stream",
     "text": [
      "***VHDL modual from BitSelectDemo_TB_V_VHDL.vhd***\n",
      "\n",
      " -- File: BitSelectDemo_TB_V_VHDL.vhd\n",
      "-- Generated by MyHDL 0.10\n",
      "-- Date: Wed Aug 29 14:27:58 2018\n",
      "\n",
      "\n",
      "library IEEE;\n",
      "use IEEE.std_logic_1164.all;\n",
      "use IEEE.numeric_std.all;\n",
      "use std.textio.all;\n",
      "\n",
      "use work.pck_myhdl_010.all;\n",
      "\n",
      "entity BitSelectDemo_TB_V_VHDL is\n",
      "end entity BitSelectDemo_TB_V_VHDL;\n",
      "-- myHDL -> Verilog/VHDL Testbench\n",
      "\n",
      "architecture MyHDL of BitSelectDemo_TB_V_VHDL is\n",
      "\n",
      "\n",
      "signal Index: unsigned(3 downto 0) := 4X\"0\";\n",
      "signal Res: unsigned(7 downto 0) := 8X\"00\";\n",
      "signal SignRes: signed (7 downto 0) := 8X\"00\";\n",
      "signal BitSelectDemo0_0_RefS: signed (7 downto 0);\n",
      "signal BitSelectDemo0_0_Ref: unsigned(7 downto 0);\n",
      "\n",
      "begin\n",
      "\n",
      "\n",
      "BitSelectDemo0_0_RefS <= to_signed(-93, 8);\n",
      "BitSelectDemo0_0_Ref <= to_unsigned(93, 8);\n",
      "\n",
      "\n",
      "BITSELECTDEMO_TB_V_VHDL_PRINT_DATA: process (SignRes, Index, Res) is\n",
      "    variable L: line;\n",
      "begin\n",
      "    write(L, to_hstring(Index));\n",
      "    write(L, string'(\" \"));\n",
      "    write(L, to_hstring(Res));\n",
      "    write(L, string'(\" \"));\n",
      "    write(L, to_hstring(unsigned(SignRes)));\n",
      "    writeline(output, L);\n",
      "end process BITSELECTDEMO_TB_V_VHDL_PRINT_DATA;\n",
      "\n",
      "BITSELECTDEMO_TB_V_VHDL_BITSELECTDEMO0_0_LOGIC: process (Index, BitSelectDemo0_0_RefS, BitSelectDemo0_0_Ref) is\n",
      "begin\n",
      "    Res(to_integer(Index)) <= BitSelectDemo0_0_Ref(to_integer(Index));\n",
      "    SignRes(to_integer(Index)) <= BitSelectDemo0_0_RefS(to_integer(Index));\n",
      "end process BITSELECTDEMO_TB_V_VHDL_BITSELECTDEMO0_0_LOGIC;\n",
      "\n",
      "BITSELECTDEMO_TB_V_VHDL_STIMULES: process is\n",
      "begin\n",
      "    for i in 0 to 7-1 loop\n",
      "        Index <= to_unsigned(i, 4);\n",
      "        wait for 1 * 1 ns;\n",
      "    end loop;\n",
      "    assert False report \"End of Simulation\" severity Failure;\n",
      "    wait;\n",
      "end process BITSELECTDEMO_TB_V_VHDL_STIMULES;\n",
      "\n",
      "end architecture MyHDL;\n",
      "\n"
     ]
    },
    {
     "name": "stderr",
     "output_type": "stream",
     "text": [
      "/home/iridium/anaconda3/lib/python3.6/site-packages/myhdl/conversion/_toVHDL.py:453: ToVHDLWarning: Signal is not driven: BitSelectDemo0_0_RefS\n",
      "  category=ToVHDLWarning\n",
      "/home/iridium/anaconda3/lib/python3.6/site-packages/myhdl/conversion/_toVHDL.py:453: ToVHDLWarning: Signal is not driven: BitSelectDemo0_0_Ref\n",
      "  category=ToVHDLWarning\n"
     ]
    }
   ],
   "source": [
    "TB.convert(hdl=\"VHDL\", initial_values=True)\n",
    "VHDLTextReader('BitSelectDemo_TB_V_VHDL');"
   ]
  },
  {
   "cell_type": "markdown",
   "metadata": {},
   "source": [
    "# myHDL shift (`<<`/`>>`) behavior"
   ]
  },
  {
   "cell_type": "markdown",
   "metadata": {},
   "source": [
    "## Left Shift (<<)"
   ]
  },
  {
   "cell_type": "markdown",
   "metadata": {},
   "source": [
    "### Left Shifting with `intbv`"
   ]
  },
  {
   "cell_type": "code",
   "execution_count": 20,
   "metadata": {},
   "outputs": [
    {
     "name": "stdout",
     "output_type": "stream",
     "text": [
      "34 00110100\n",
      "Left Shift<<0; Binary: 110100, BitLen: 6, Value:34\n",
      "Left Shift<<1; Binary: 1101000, BitLen: 7, Value:68\n",
      "Left Shift<<2; Binary: 11010000, BitLen: 8, Value:d0\n",
      "Left Shift<<3; Binary: 110100000, BitLen: 9, Value:1a0\n",
      "Left Shift<<4; Binary: 1101000000, BitLen: 10, Value:340\n",
      "Left Shift<<5; Binary: 11010000000, BitLen: 11, Value:680\n",
      "Left Shift<<6; Binary: 110100000000, BitLen: 12, Value:d00\n",
      "Left Shift<<7; Binary: 1101000000000, BitLen: 13, Value:1a00\n"
     ]
    }
   ],
   "source": [
    "#Left Shift test with intbv\n",
    "#intialize \n",
    "TV=intbv(52)[8:]\n",
    "print(TV, bin(TV, 8))\n",
    "#demenstrate left shifting with intbv\n",
    "for i in range(8):\n",
    "    LSRes=TV<<i\n",
    "    print(f'Left Shift<<{i}; Binary: {bin(LSRes)}, BitLen: {len(bin(LSRes))}, Value:{LSRes}')"
   ]
  },
  {
   "cell_type": "markdown",
   "metadata": {},
   "source": [
    "### Left Shifting with signed `intbv`"
   ]
  },
  {
   "cell_type": "code",
   "execution_count": 21,
   "metadata": {},
   "outputs": [
    {
     "name": "stdout",
     "output_type": "stream",
     "text": [
      "cc 11001100\n",
      "Left Shift<<0; Binary: 1001100, BitLen: 7, Value:-34\n",
      "Left Shift<<1; Binary: 10011000, BitLen: 8, Value:-68\n",
      "Left Shift<<2; Binary: 100110000, BitLen: 9, Value:-d0\n",
      "Left Shift<<3; Binary: 1001100000, BitLen: 10, Value:-1a0\n",
      "Left Shift<<4; Binary: 10011000000, BitLen: 11, Value:-340\n",
      "Left Shift<<5; Binary: 100110000000, BitLen: 12, Value:-680\n",
      "Left Shift<<6; Binary: 1001100000000, BitLen: 13, Value:-d00\n",
      "Left Shift<<7; Binary: 10011000000000, BitLen: 14, Value:-1a00\n"
     ]
    }
   ],
   "source": [
    "#Left Shift test with intbv signed\n",
    "#intialize \n",
    "TV=intbv(-52)[8:].signed()\n",
    "print(TV, bin(TV, 8))\n",
    "#demenstrate left shifting with intbv signed\n",
    "for i in range(8):\n",
    "    LSRes=(TV<<i).signed()\n",
    "    print(f'Left Shift<<{i}; Binary: {bin(LSRes)}, BitLen: {len(bin(LSRes))}, Value:{LSRes}')"
   ]
  },
  {
   "cell_type": "markdown",
   "metadata": {},
   "source": [
    "### Left Shifting with `modbv`"
   ]
  },
  {
   "cell_type": "code",
   "execution_count": 22,
   "metadata": {},
   "outputs": [
    {
     "name": "stdout",
     "output_type": "stream",
     "text": [
      "34 00110100\n",
      "Left Shift<<0; Binary: 110100, BitLen: 6, Value:34\n",
      "Left Shift<<1; Binary: 1101000, BitLen: 7, Value:68\n",
      "Left Shift<<2; Binary: 11010000, BitLen: 8, Value:d0\n",
      "Left Shift<<3; Binary: 110100000, BitLen: 9, Value:1a0\n",
      "Left Shift<<4; Binary: 1101000000, BitLen: 10, Value:340\n",
      "Left Shift<<5; Binary: 11010000000, BitLen: 11, Value:680\n",
      "Left Shift<<6; Binary: 110100000000, BitLen: 12, Value:d00\n",
      "Left Shift<<7; Binary: 1101000000000, BitLen: 13, Value:1a00\n"
     ]
    }
   ],
   "source": [
    "#Left Shift test with modbv\n",
    "#intialize \n",
    "TV=modbv(52)[8:]\n",
    "print(TV, bin(TV, 8))\n",
    "#demenstrate left shifting with modbv\n",
    "for i in range(8):\n",
    "    LSRes=(TV<<i).signed()\n",
    "    print(f'Left Shift<<{i}; Binary: {bin(LSRes)}, BitLen: {len(bin(LSRes))}, Value:{LSRes}')"
   ]
  },
  {
   "cell_type": "markdown",
   "metadata": {},
   "source": [
    "As can be seen, Left shifting tacks on a number of zeros equivalent to the shift increment to the end of the binary expression for the value. This then increases the size of the needed register that the resulting value needs to set into for each left shift that does not undergo right bit cutoff"
   ]
  },
  {
   "cell_type": "markdown",
   "metadata": {},
   "source": [
    "## Right Shift (`>>`)"
   ]
  },
  {
   "cell_type": "markdown",
   "metadata": {},
   "source": [
    "### Right Shifting with `intbv`"
   ]
  },
  {
   "cell_type": "code",
   "execution_count": 23,
   "metadata": {},
   "outputs": [
    {
     "name": "stdout",
     "output_type": "stream",
     "text": [
      "34 00110100\n",
      "Right Shift>>0; Binary: 110100, BitLen: 6, Value:34\n",
      "Right Shift>>1; Binary: 11010, BitLen: 5, Value:1a\n",
      "Right Shift>>2; Binary: 1101, BitLen: 4, Value:d\n",
      "Right Shift>>3; Binary: 110, BitLen: 3, Value:6\n",
      "Right Shift>>4; Binary: 11, BitLen: 2, Value:3\n",
      "Right Shift>>5; Binary: 1, BitLen: 1, Value:1\n",
      "Right Shift>>6; Binary: 0, BitLen: 1, Value:0\n",
      "Right Shift>>7; Binary: 0, BitLen: 1, Value:0\n"
     ]
    }
   ],
   "source": [
    "#Right Shift test with intbv\n",
    "#intialize \n",
    "TV=intbv(52)[8:]\n",
    "print(TV, bin(TV, 8))\n",
    "#demenstrate left shifting with intbv\n",
    "for i in range(8):\n",
    "    LSRes=TV>>i\n",
    "    print(f'Right Shift>>{i}; Binary: {bin(LSRes)}, BitLen: {len(bin(LSRes))}, Value:{LSRes}')"
   ]
  },
  {
   "cell_type": "markdown",
   "metadata": {},
   "source": [
    "### Right Shifting with signed `intbv`"
   ]
  },
  {
   "cell_type": "code",
   "execution_count": 24,
   "metadata": {},
   "outputs": [
    {
     "name": "stdout",
     "output_type": "stream",
     "text": [
      "cc 11001100\n",
      "Right Shift>>0; Binary: 1001100, BitLen: 7, Value:-34\n",
      "Right Shift>>1; Binary: 100110, BitLen: 6, Value:-1a\n",
      "Right Shift>>2; Binary: 10011, BitLen: 5, Value:-d\n",
      "Right Shift>>3; Binary: 1001, BitLen: 4, Value:-7\n",
      "Right Shift>>4; Binary: 100, BitLen: 3, Value:-4\n",
      "Right Shift>>5; Binary: 10, BitLen: 2, Value:-2\n",
      "Right Shift>>6; Binary: 1, BitLen: 1, Value:-1\n",
      "Right Shift>>7; Binary: 1, BitLen: 1, Value:-1\n"
     ]
    }
   ],
   "source": [
    "#Right Shift test with intbv signed\n",
    "#intialize \n",
    "TV=intbv(-52)[8:].signed()\n",
    "print(TV, bin(TV, 8))\n",
    "#demenstrate left shifting with intbv signed\n",
    "for i in range(8):\n",
    "    LSRes=(TV>>i)\n",
    "    print(f'Right Shift>>{i}; Binary: {bin(LSRes)}, BitLen: {len(bin(LSRes))}, Value:{LSRes}')"
   ]
  },
  {
   "cell_type": "markdown",
   "metadata": {},
   "source": [
    "### Right Shifting with `modbv`"
   ]
  },
  {
   "cell_type": "code",
   "execution_count": 25,
   "metadata": {},
   "outputs": [
    {
     "name": "stdout",
     "output_type": "stream",
     "text": [
      "34 00110100\n",
      "Right Shift>>0; Binary: 110100, BitLen: 6, Value:34\n",
      "Right Shift>>1; Binary: 11010, BitLen: 5, Value:1a\n",
      "Right Shift>>2; Binary: 1101, BitLen: 4, Value:d\n",
      "Right Shift>>3; Binary: 110, BitLen: 3, Value:6\n",
      "Right Shift>>4; Binary: 11, BitLen: 2, Value:3\n",
      "Right Shift>>5; Binary: 1, BitLen: 1, Value:1\n",
      "Right Shift>>6; Binary: 0, BitLen: 1, Value:0\n",
      "Right Shift>>7; Binary: 0, BitLen: 1, Value:0\n"
     ]
    }
   ],
   "source": [
    "#Right Shift test with modbv\n",
    "#intialize \n",
    "TV=modbv(52)[8:]\n",
    "print(TV, bin(TV, 8))\n",
    "#demenstrate left shifting with modbv\n",
    "for i in range(8):\n",
    "    LSRes=(TV>>i)\n",
    "    print(f'Right Shift>>{i}; Binary: {bin(LSRes)}, BitLen: {len(bin(LSRes))}, Value:{LSRes}')"
   ]
  },
  {
   "cell_type": "markdown",
   "metadata": {},
   "source": [
    "As can be seen, the right shift moves values (shifts) to the right by the shift increment while preserving the length of the register that is being shifted. While this means that overflow is not going to be in encountered. Right shifting trades that vulnerability for information loss as any information carried in the leftmost bits gets lost as it is shifted right beyond of the length of the register"
   ]
  },
  {
   "cell_type": "markdown",
   "metadata": {},
   "source": [
    "## myHDL Shifting Demo Module"
   ]
  },
  {
   "cell_type": "code",
   "execution_count": 26,
   "metadata": {},
   "outputs": [],
   "source": [
    "@block\n",
    "def ShiftingDemo(ShiftVal, RSRes, LSRes):\n",
    "    \"\"\"\n",
    "    Module to Demo Shifting Behavior in myHDL refrance value\n",
    "    -55 8Bit\n",
    "    \n",
    "    Input:\n",
    "        ShiftVal(4BitVec): shift amount, for this demo to not\n",
    "            use values greater then 7\n",
    "    Output:\n",
    "        RSRes(8BitVec Signed): output of Right Shifting \n",
    "        LSRes (15BitVec Signed): output of Left Shifting\n",
    "    \"\"\"\n",
    "    RefVal=Signal(intbv(-55)[8:].signed())\n",
    "    @always_comb\n",
    "    def logic():\n",
    "        RSRes.next=RefVal>>ShiftVal\n",
    "        LSRes.next=RefVal<<ShiftVal\n",
    "    return instances()"
   ]
  },
  {
   "cell_type": "markdown",
   "metadata": {},
   "source": [
    "## myHDL Testing"
   ]
  },
  {
   "cell_type": "code",
   "execution_count": 27,
   "metadata": {},
   "outputs": [],
   "source": [
    "Peeker.clear()\n",
    "ShiftVal=Signal(intbv()[4:]); Peeker(ShiftVal, 'ShiftVal')\n",
    "RSRes=Signal(intbv()[8:].signed()); Peeker(RSRes, 'RSRes')\n",
    "LSRes=Signal(intbv()[15:].signed()); Peeker(LSRes, 'LSRes')\n",
    "\n",
    "DUT=ShiftingDemo(ShiftVal, RSRes, LSRes)\n",
    "\n",
    "def ShiftingDemo_TB():\n",
    "    \"\"\"\n",
    "    myHDL only Testbench for `ShiftingDemo`\n",
    "    \"\"\"\n",
    "    \n",
    "    @instance\n",
    "    def stimules():\n",
    "        for i in range(8):\n",
    "            ShiftVal.next=i\n",
    "            yield delay(1)\n",
    "        \n",
    "        raise StopSimulation()\n",
    "    \n",
    "    return instances()\n",
    "\n",
    "sim=Simulation(DUT, ShiftingDemo_TB(), *Peeker.instances()).run()            "
   ]
  },
  {
   "cell_type": "code",
   "execution_count": 28,
   "metadata": {},
   "outputs": [
    {
     "data": {
      "text/html": [
       "<div><script type=\"WaveDrom\">{\"signal\": [{\"name\": \"ShiftVal\", \"wave\": \"========\", \"data\": [\"0\", \"1\", \"2\", \"3\", \"4\", \"5\", \"6\", \"7\"]}, {\"name\": \"LSRes\", \"wave\": \"========\", \"data\": [\"-55\", \"7f92\", \"7f24\", \"7e48\", \"7c90\", \"7920\", \"7240\", \"-7040\"]}, {\"name\": \"RSRes\", \"wave\": \"=======.\", \"data\": [\"-55\", \"e4\", \"f2\", \"f9\", \"fc\", \"fe\", \"ff\"]}]}</script></div>"
      ]
     },
     "metadata": {},
     "output_type": "display_data"
    },
    {
     "data": {
      "application/javascript": [
       "$.getScript(\"http://wavedrom.com/wavedrom.min.js\", function () {\n",
       "$.getScript(\"http://wavedrom.com/skins/default.js\", function () {\n",
       "WaveDrom.ProcessAll();});\n",
       "});\n"
      ]
     },
     "metadata": {},
     "output_type": "display_data"
    }
   ],
   "source": [
    "Peeker.to_wavedrom('ShiftVal', 'LSRes', 'RSRes');"
   ]
  },
  {
   "cell_type": "code",
   "execution_count": 29,
   "metadata": {},
   "outputs": [
    {
     "data": {
      "text/html": [
       "<div>\n",
       "<style scoped>\n",
       "    .dataframe tbody tr th:only-of-type {\n",
       "        vertical-align: middle;\n",
       "    }\n",
       "\n",
       "    .dataframe tbody tr th {\n",
       "        vertical-align: top;\n",
       "    }\n",
       "\n",
       "    .dataframe thead th {\n",
       "        text-align: right;\n",
       "    }\n",
       "</style>\n",
       "<table border=\"1\" class=\"dataframe\">\n",
       "  <thead>\n",
       "    <tr style=\"text-align: right;\">\n",
       "      <th></th>\n",
       "      <th>ShiftVal</th>\n",
       "      <th>LSRes</th>\n",
       "      <th>RSRes</th>\n",
       "    </tr>\n",
       "  </thead>\n",
       "  <tbody>\n",
       "    <tr>\n",
       "      <th>0</th>\n",
       "      <td>0</td>\n",
       "      <td>-55</td>\n",
       "      <td>-55</td>\n",
       "    </tr>\n",
       "    <tr>\n",
       "      <th>1</th>\n",
       "      <td>1</td>\n",
       "      <td>-110</td>\n",
       "      <td>-28</td>\n",
       "    </tr>\n",
       "    <tr>\n",
       "      <th>2</th>\n",
       "      <td>2</td>\n",
       "      <td>-220</td>\n",
       "      <td>-14</td>\n",
       "    </tr>\n",
       "    <tr>\n",
       "      <th>3</th>\n",
       "      <td>3</td>\n",
       "      <td>-440</td>\n",
       "      <td>-7</td>\n",
       "    </tr>\n",
       "    <tr>\n",
       "      <th>4</th>\n",
       "      <td>4</td>\n",
       "      <td>-880</td>\n",
       "      <td>-4</td>\n",
       "    </tr>\n",
       "    <tr>\n",
       "      <th>5</th>\n",
       "      <td>5</td>\n",
       "      <td>-1760</td>\n",
       "      <td>-2</td>\n",
       "    </tr>\n",
       "    <tr>\n",
       "      <th>6</th>\n",
       "      <td>6</td>\n",
       "      <td>-3520</td>\n",
       "      <td>-1</td>\n",
       "    </tr>\n",
       "    <tr>\n",
       "      <th>7</th>\n",
       "      <td>7</td>\n",
       "      <td>-7040</td>\n",
       "      <td>-1</td>\n",
       "    </tr>\n",
       "  </tbody>\n",
       "</table>\n",
       "</div>"
      ],
      "text/plain": [
       "   ShiftVal  LSRes  RSRes\n",
       "0         0    -55    -55\n",
       "1         1   -110    -28\n",
       "2         2   -220    -14\n",
       "3         3   -440     -7\n",
       "4         4   -880     -4\n",
       "5         5  -1760     -2\n",
       "6         6  -3520     -1\n",
       "7         7  -7040     -1"
      ]
     },
     "execution_count": 29,
     "metadata": {},
     "output_type": "execute_result"
    }
   ],
   "source": [
    "Peeker.to_dataframe()[['ShiftVal', 'LSRes', 'RSRes']]"
   ]
  },
  {
   "cell_type": "markdown",
   "metadata": {},
   "source": [
    "## Verilog Conversion"
   ]
  },
  {
   "cell_type": "markdown",
   "metadata": {},
   "source": [
    "Unfortunately this is an unsynthesizable module as is due \n",
    "```\n",
    "assign RefVal = 8'd-55;\n",
    "``` \n",
    "needing to be changed to \n",
    "```\n",
    "assign RefVal = -8'd55;\n",
    "``` \n",
    "after wich the module is synthesizable\n"
   ]
  },
  {
   "cell_type": "code",
   "execution_count": 30,
   "metadata": {},
   "outputs": [
    {
     "name": "stdout",
     "output_type": "stream",
     "text": [
      "***Verilog modual from ShiftingDemo.v***\n",
      "\n",
      " // File: ShiftingDemo.v\n",
      "// Generated by MyHDL 0.10\n",
      "// Date: Wed Aug 29 14:28:01 2018\n",
      "\n",
      "\n",
      "`timescale 1ns/10ps\n",
      "\n",
      "module ShiftingDemo (\n",
      "    ShiftVal,\n",
      "    RSRes,\n",
      "    LSRes\n",
      ");\n",
      "// Module to Demo Shifting Behavior in myHDL refrance value\n",
      "// -55 8Bit\n",
      "// \n",
      "// Input:\n",
      "//     ShiftVal(4BitVec): shift amount, for this demo to not\n",
      "//         use values greater then 7\n",
      "// Output:\n",
      "//     RSRes(8BitVec Signed): output of Right Shifting \n",
      "//     LSRes (15BitVec Signed): output of Left Shifting\n",
      "\n",
      "input [3:0] ShiftVal;\n",
      "output signed [7:0] RSRes;\n",
      "wire signed [7:0] RSRes;\n",
      "output signed [14:0] LSRes;\n",
      "wire signed [14:0] LSRes;\n",
      "\n",
      "wire [7:0] RefVal;\n",
      "\n",
      "assign RefVal = 8'd-55;\n",
      "\n",
      "\n",
      "\n",
      "assign RSRes = $signed(RefVal >>> $signed({1'b0, ShiftVal}));\n",
      "assign LSRes = (RefVal << $signed({1'b0, ShiftVal}));\n",
      "\n",
      "endmodule\n",
      "\n"
     ]
    },
    {
     "name": "stderr",
     "output_type": "stream",
     "text": [
      "/home/iridium/anaconda3/lib/python3.6/site-packages/myhdl/conversion/_toVerilog.py:349: ToVerilogWarning: Signal is not driven: RefVal\n",
      "  category=ToVerilogWarning\n"
     ]
    }
   ],
   "source": [
    "DUT.convert()\n",
    "VerilogTextReader('ShiftingDemo');"
   ]
  },
  {
   "cell_type": "markdown",
   "metadata": {},
   "source": [
    "\\begin{figure}\n",
    "\\centerline{\\includegraphics[width=10cm]{ShiftingDemo_v_RTL.png}}\n",
    "\\caption{\\label{fig:SDVRTL} ShiftingDemo Verilog RTL schematic with corrected errors; Xilinx Vivado 2017.4}\n",
    "\\end{figure}"
   ]
  },
  {
   "cell_type": "markdown",
   "metadata": {},
   "source": [
    "\\begin{figure}\n",
    "\\centerline{\\includegraphics[width=10cm]{ShiftingDemo_v_SYN.png}}\n",
    "\\caption{\\label{fig:SDVSYN} ShiftingDemo Verilog Synthesized Schematic with corrected errors; Xilinx Vivado 2017.4}\n",
    "\\end{figure}"
   ]
  },
  {
   "cell_type": "markdown",
   "metadata": {},
   "source": [
    "## VHDL Conversion"
   ]
  },
  {
   "cell_type": "code",
   "execution_count": 31,
   "metadata": {},
   "outputs": [
    {
     "name": "stdout",
     "output_type": "stream",
     "text": [
      "***VHDL modual from ShiftingDemo.vhd***\n",
      "\n",
      " -- File: ShiftingDemo.vhd\n",
      "-- Generated by MyHDL 0.10\n",
      "-- Date: Wed Aug 29 14:28:01 2018\n",
      "\n",
      "\n",
      "library IEEE;\n",
      "use IEEE.std_logic_1164.all;\n",
      "use IEEE.numeric_std.all;\n",
      "use std.textio.all;\n",
      "\n",
      "use work.pck_myhdl_010.all;\n",
      "\n",
      "entity ShiftingDemo is\n",
      "    port (\n",
      "        ShiftVal: in unsigned(3 downto 0);\n",
      "        RSRes: out signed (7 downto 0);\n",
      "        LSRes: out signed (14 downto 0)\n",
      "    );\n",
      "end entity ShiftingDemo;\n",
      "-- Module to Demo Shifting Behavior in myHDL refrance value\n",
      "-- -55 8Bit\n",
      "-- \n",
      "-- Input:\n",
      "--     ShiftVal(4BitVec): shift amount, for this demo to not\n",
      "--         use values greater then 7\n",
      "-- Output:\n",
      "--     RSRes(8BitVec Signed): output of Right Shifting \n",
      "--     LSRes (15BitVec Signed): output of Left Shifting\n",
      "\n",
      "architecture MyHDL of ShiftingDemo is\n",
      "\n",
      "\n",
      "signal RefVal: signed (7 downto 0);\n",
      "\n",
      "begin\n",
      "\n",
      "\n",
      "RefVal <= to_signed(-55, 8);\n",
      "\n",
      "\n",
      "\n",
      "RSRes <= shift_right(RefVal, to_integer(ShiftVal));\n",
      "LSRes <= shift_left(resize(RefVal, 15), to_integer(ShiftVal));\n",
      "\n",
      "end architecture MyHDL;\n",
      "\n"
     ]
    },
    {
     "name": "stderr",
     "output_type": "stream",
     "text": [
      "/home/iridium/anaconda3/lib/python3.6/site-packages/myhdl/conversion/_toVHDL.py:453: ToVHDLWarning: Signal is not driven: RefVal\n",
      "  category=ToVHDLWarning\n"
     ]
    }
   ],
   "source": [
    "DUT.convert(hdl='VHDL')\n",
    "VHDLTextReader('ShiftingDemo');"
   ]
  },
  {
   "cell_type": "markdown",
   "metadata": {},
   "source": [
    "\\begin{figure}\n",
    "\\centerline{\\includegraphics[width=10cm]{ShiftingDemo_vhd_RTL.png}}\n",
    "\\caption{\\label{fig:SDVHDRTL} ShiftingDemo VHDL RTL schematic with corrected errors; Xilinx Vivado 2017.4}\n",
    "\\end{figure}"
   ]
  },
  {
   "cell_type": "markdown",
   "metadata": {},
   "source": [
    "\\begin{figure}\n",
    "\\centerline{\\includegraphics[width=10cm]{ShiftingDemo_vhd_SYN.png}}\n",
    "\\caption{\\label{fig:SDVHDSYN} ShiftingDemo VHDL Synthesized Schematic with corrected errors; Xilinx Vivado 2017.4}\n",
    "\\end{figure}"
   ]
  },
  {
   "cell_type": "markdown",
   "metadata": {},
   "source": [
    "## myHDL to Verilog/VHDL Testbench"
   ]
  },
  {
   "cell_type": "code",
   "execution_count": 61,
   "metadata": {},
   "outputs": [],
   "source": [
    "@block\n",
    "def ShiftingDemo_TB_V_VHDL():\n",
    "    \"\"\"\n",
    "    myHDL -> verilog/VHDL testbench for `ShiftingDemo`\n",
    "    \"\"\"\n",
    "    \n",
    "    ShiftVal=Signal(intbv()[4:])\n",
    "    RSRes=Signal(intbv()[8:].signed())\n",
    "    LSRes=Signal(intbv()[15:].signed())\n",
    "    \n",
    "    @always_comb\n",
    "    def print_data():\n",
    "        print(ShiftVal, RSRes, LSRes)\n",
    "\n",
    "    DUT=ShiftingDemo(ShiftVal, RSRes, LSRes)\n",
    "\n",
    "    \n",
    "    @instance\n",
    "    def stimules():\n",
    "        for i in range(8):\n",
    "            ShiftVal.next=i\n",
    "            yield delay(1)\n",
    "        \n",
    "        raise StopSimulation()\n",
    "    \n",
    "    return instances()\n",
    "\n",
    "TB=ShiftingDemo_TB_V_VHDL()"
   ]
  },
  {
   "cell_type": "markdown",
   "metadata": {},
   "source": [
    "### Verilog Testbench\n",
    "#### Verilog Testbench Conversion Issue\n",
    "This Testbench will work after \n",
    "```\n",
    "assign RefVal = 8'd-55;\n",
    "``` \n",
    "is changed to \n",
    "```\n",
    "assign RefVal = -8'd55;\n",
    "``` \n"
   ]
  },
  {
   "cell_type": "code",
   "execution_count": 33,
   "metadata": {},
   "outputs": [
    {
     "name": "stdout",
     "output_type": "stream",
     "text": [
      "<class 'myhdl._Signal._Signal'> <class '_ast.Name'>\n",
      "<class 'myhdl._Signal._Signal'> <class '_ast.Name'>\n",
      "<class 'myhdl._Signal._Signal'> <class '_ast.Name'>\n",
      "***Verilog modual from ShiftingDemo_TB_V_VHDL.v***\n",
      "\n",
      " // File: ShiftingDemo_TB_V_VHDL.v\n",
      "// Generated by MyHDL 0.10\n",
      "// Date: Wed Aug 29 14:28:02 2018\n",
      "\n",
      "\n",
      "`timescale 1ns/10ps\n",
      "\n",
      "module ShiftingDemo_TB_V_VHDL (\n",
      "\n",
      ");\n",
      "// myHDL -> verilog/VHDL testbench for `ShiftingDemo`\n",
      "\n",
      "\n",
      "wire signed [14:0] LSRes;\n",
      "reg [3:0] ShiftVal = 0;\n",
      "wire signed [7:0] RSRes;\n",
      "wire [7:0] ShiftingDemo0_0_RefVal;\n",
      "\n",
      "assign ShiftingDemo0_0_RefVal = 8'd-55;\n",
      "\n",
      "\n",
      "always @(ShiftVal, RSRes, LSRes) begin: SHIFTINGDEMO_TB_V_VHDL_PRINT_DATA\n",
      "    $write(\"%h\", ShiftVal);\n",
      "    $write(\" \");\n",
      "    $write(\"%h\", RSRes);\n",
      "    $write(\" \");\n",
      "    $write(\"%h\", LSRes);\n",
      "    $write(\"\\n\");\n",
      "end\n",
      "\n",
      "\n",
      "\n",
      "assign RSRes = $signed(ShiftingDemo0_0_RefVal >>> $signed({1'b0, ShiftVal}));\n",
      "assign LSRes = (ShiftingDemo0_0_RefVal << $signed({1'b0, ShiftVal}));\n",
      "\n",
      "\n",
      "initial begin: SHIFTINGDEMO_TB_V_VHDL_STIMULES\n",
      "    integer i;\n",
      "    for (i=0; i<8; i=i+1) begin\n",
      "        ShiftVal <= i;\n",
      "        # 1;\n",
      "    end\n",
      "    $finish;\n",
      "end\n",
      "\n",
      "endmodule\n",
      "\n"
     ]
    },
    {
     "name": "stderr",
     "output_type": "stream",
     "text": [
      "/home/iridium/anaconda3/lib/python3.6/site-packages/myhdl/conversion/_toVerilog.py:349: ToVerilogWarning: Signal is not driven: ShiftingDemo0_0_RefVal\n",
      "  category=ToVerilogWarning\n"
     ]
    }
   ],
   "source": [
    "TB.convert(hdl=\"Verilog\", initial_values=True)\n",
    "VerilogTextReader('ShiftingDemo_TB_V_VHDL');"
   ]
  },
  {
   "cell_type": "markdown",
   "metadata": {},
   "source": [
    "### VHDL Testbench\n",
    "#### VHDL Testbench Conversion Issue\n",
    "This Testbench is not working in Vivado"
   ]
  },
  {
   "cell_type": "code",
   "execution_count": 34,
   "metadata": {},
   "outputs": [
    {
     "name": "stdout",
     "output_type": "stream",
     "text": [
      "***VHDL modual from ShiftingDemo_TB_V_VHDL.vhd***\n",
      "\n",
      " -- File: ShiftingDemo_TB_V_VHDL.vhd\n",
      "-- Generated by MyHDL 0.10\n",
      "-- Date: Wed Aug 29 14:28:02 2018\n",
      "\n",
      "\n",
      "library IEEE;\n",
      "use IEEE.std_logic_1164.all;\n",
      "use IEEE.numeric_std.all;\n",
      "use std.textio.all;\n",
      "\n",
      "use work.pck_myhdl_010.all;\n",
      "\n",
      "entity ShiftingDemo_TB_V_VHDL is\n",
      "end entity ShiftingDemo_TB_V_VHDL;\n",
      "-- myHDL -> verilog/VHDL testbench for `ShiftingDemo`\n",
      "\n",
      "architecture MyHDL of ShiftingDemo_TB_V_VHDL is\n",
      "\n",
      "\n",
      "signal LSRes: signed (14 downto 0) := 15X\"0000\";\n",
      "signal ShiftVal: unsigned(3 downto 0) := 4X\"0\";\n",
      "signal RSRes: signed (7 downto 0) := 8X\"00\";\n",
      "signal ShiftingDemo0_0_RefVal: signed (7 downto 0);\n",
      "\n",
      "begin\n",
      "\n",
      "\n",
      "ShiftingDemo0_0_RefVal <= to_signed(-55, 8);\n",
      "\n",
      "\n",
      "SHIFTINGDEMO_TB_V_VHDL_PRINT_DATA: process (ShiftVal, RSRes, LSRes) is\n",
      "    variable L: line;\n",
      "begin\n",
      "    write(L, to_hstring(ShiftVal));\n",
      "    write(L, string'(\" \"));\n",
      "    write(L, to_hstring(unsigned(RSRes)));\n",
      "    write(L, string'(\" \"));\n",
      "    write(L, to_hstring(unsigned(LSRes)));\n",
      "    writeline(output, L);\n",
      "end process SHIFTINGDEMO_TB_V_VHDL_PRINT_DATA;\n",
      "\n",
      "\n",
      "RSRes <= shift_right(ShiftingDemo0_0_RefVal, to_integer(ShiftVal));\n",
      "LSRes <= shift_left(resize(ShiftingDemo0_0_RefVal, 15), to_integer(ShiftVal));\n",
      "\n",
      "SHIFTINGDEMO_TB_V_VHDL_STIMULES: process is\n",
      "begin\n",
      "    for i in 0 to 8-1 loop\n",
      "        ShiftVal <= to_unsigned(i, 4);\n",
      "        wait for 1 * 1 ns;\n",
      "    end loop;\n",
      "    assert False report \"End of Simulation\" severity Failure;\n",
      "    wait;\n",
      "end process SHIFTINGDEMO_TB_V_VHDL_STIMULES;\n",
      "\n",
      "end architecture MyHDL;\n",
      "\n"
     ]
    },
    {
     "name": "stderr",
     "output_type": "stream",
     "text": [
      "/home/iridium/anaconda3/lib/python3.6/site-packages/myhdl/conversion/_toVHDL.py:453: ToVHDLWarning: Signal is not driven: ShiftingDemo0_0_RefVal\n",
      "  category=ToVHDLWarning\n"
     ]
    }
   ],
   "source": [
    "TB.convert(hdl=\"VHDL\", initial_values=True)\n",
    "VHDLTextReader('ShiftingDemo_TB_V_VHDL');"
   ]
  },
  {
   "cell_type": "markdown",
   "metadata": {},
   "source": [
    "# myHDL `concat`  behavior \n",
    "The `concat` function is an abbreviated name for the full name of concatenation which is that action that this operator performs by joining the bits of all the signals that are arguments to it into a new concatenated single binary"
   ]
  },
  {
   "cell_type": "code",
   "execution_count": 35,
   "metadata": {},
   "outputs": [
    {
     "data": {
      "text/plain": [
       "(intbv(25), '011001')"
      ]
     },
     "execution_count": 35,
     "metadata": {},
     "output_type": "execute_result"
    }
   ],
   "source": [
    "RefVal=intbv(25)[6:]; RefVal, bin(RefVal, 6)"
   ]
  },
  {
   "cell_type": "code",
   "execution_count": 36,
   "metadata": {},
   "outputs": [
    {
     "data": {
      "text/plain": [
       "(intbv(89), '1011001')"
      ]
     },
     "execution_count": 36,
     "metadata": {},
     "output_type": "execute_result"
    }
   ],
   "source": [
    "Result=concat(True, RefVal); Result, bin(Result)"
   ]
  },
  {
   "cell_type": "code",
   "execution_count": 37,
   "metadata": {},
   "outputs": [
    {
     "data": {
      "text/plain": [
       "(intbv(-39), '1011001')"
      ]
     },
     "execution_count": 37,
     "metadata": {},
     "output_type": "execute_result"
    }
   ],
   "source": [
    "ResultSigned=concat(True, RefVal).signed(); ResultSigned, bin(ResultSigned)"
   ]
  },
  {
   "cell_type": "markdown",
   "metadata": {},
   "source": [
    "## myHDL `concat` Demo"
   ]
  },
  {
   "cell_type": "code",
   "execution_count": 38,
   "metadata": {},
   "outputs": [],
   "source": [
    "@block\n",
    "def ConcatDemo(Res, ResS):\n",
    "    \"\"\"\n",
    "    `concat` demo \n",
    "    Input:\n",
    "        None\n",
    "    Ouput:\n",
    "        Res(7BitVec): concat result\n",
    "        Res(7BitVec Signed): concat result that is signed\n",
    "    \"\"\"\n",
    "    RefVal=Signal(intbv(25)[6:])\n",
    "    @always_comb\n",
    "    def logic():\n",
    "        Res.next=concat(True, RefVal)\n",
    "        ResS.next=concat(True, RefVal).signed()\n",
    "    return instances()"
   ]
  },
  {
   "cell_type": "markdown",
   "metadata": {},
   "source": [
    "## myHDL Testing"
   ]
  },
  {
   "cell_type": "code",
   "execution_count": 39,
   "metadata": {},
   "outputs": [],
   "source": [
    "Peeker.clear()\n",
    "Res=Signal(intbv(0)[7:]); Peeker(Res, 'Res')\n",
    "ResS=Signal(intbv(0)[7:].signed()); Peeker(ResS, ResS)\n",
    "\n",
    "DUT=ConcatDemo(Res, ResS)\n",
    "\n",
    "def ConcatDemo_TB():\n",
    "    \"\"\"\n",
    "    myHDL only Testbench for `ConcatDemo`\n",
    "    \"\"\"\n",
    "    @instance\n",
    "    def stimules():\n",
    "        for i in range(2):\n",
    "            yield delay(1)\n",
    "        \n",
    "        raise StopSimulation()\n",
    "    \n",
    "    return instances()\n",
    "sim=Simulation(DUT, ConcatDemo_TB(), *Peeker.instances()).run()            "
   ]
  },
  {
   "cell_type": "code",
   "execution_count": 40,
   "metadata": {},
   "outputs": [
    {
     "data": {
      "text/html": [
       "<div><script type=\"WaveDrom\">{\"signal\": [{\"name\": \"00\", \"wave\": \"=\", \"data\": [\"-39\"]}, {\"name\": \"Res\", \"wave\": \"=\", \"data\": [\"89\"]}]}</script></div>"
      ]
     },
     "metadata": {},
     "output_type": "display_data"
    },
    {
     "data": {
      "application/javascript": [
       "$.getScript(\"http://wavedrom.com/wavedrom.min.js\", function () {\n",
       "$.getScript(\"http://wavedrom.com/skins/default.js\", function () {\n",
       "WaveDrom.ProcessAll();});\n",
       "});\n"
      ]
     },
     "metadata": {},
     "output_type": "display_data"
    }
   ],
   "source": [
    "Peeker.to_wavedrom()"
   ]
  },
  {
   "cell_type": "markdown",
   "metadata": {},
   "source": [
    "## Verilog Conversion "
   ]
  },
  {
   "cell_type": "code",
   "execution_count": 41,
   "metadata": {},
   "outputs": [
    {
     "name": "stdout",
     "output_type": "stream",
     "text": [
      "***Verilog modual from ConcatDemo.v***\n",
      "\n",
      " // File: ConcatDemo.v\n",
      "// Generated by MyHDL 0.10\n",
      "// Date: Wed Aug 29 14:28:03 2018\n",
      "\n",
      "\n",
      "`timescale 1ns/10ps\n",
      "\n",
      "module ConcatDemo (\n",
      "    Res,\n",
      "    ResS\n",
      ");\n",
      "// `concat` demo \n",
      "// Input:\n",
      "//     None\n",
      "// Ouput:\n",
      "//     Res(7BitVec): concat result\n",
      "//     Res(7BitVec Signed): concat result that is signed\n",
      "\n",
      "output [6:0] Res;\n",
      "wire [6:0] Res;\n",
      "output signed [6:0] ResS;\n",
      "wire signed [6:0] ResS;\n",
      "\n",
      "wire [5:0] RefVal;\n",
      "\n",
      "assign RefVal = 6'd25;\n",
      "\n",
      "\n",
      "\n",
      "assign Res = {1'b1, RefVal};\n",
      "assign ResS = $signed({1'b1, RefVal});\n",
      "\n",
      "endmodule\n",
      "\n"
     ]
    },
    {
     "name": "stderr",
     "output_type": "stream",
     "text": [
      "/home/iridium/anaconda3/lib/python3.6/site-packages/myhdl/conversion/_toVerilog.py:349: ToVerilogWarning: Signal is not driven: RefVal\n",
      "  category=ToVerilogWarning\n"
     ]
    }
   ],
   "source": [
    "DUT.convert()\n",
    "VerilogTextReader('ConcatDemo');"
   ]
  },
  {
   "cell_type": "markdown",
   "metadata": {},
   "source": [
    "\\begin{figure}\n",
    "\\centerline{\\includegraphics[width=10cm]{ConcatDemo_v_RTL.png}}\n",
    "\\caption{\\label{fig:CDVRTL} ConcatDemo Verilog RTL schematic; Xilinx Vivado 2017.4}\n",
    "\\end{figure}"
   ]
  },
  {
   "cell_type": "markdown",
   "metadata": {},
   "source": [
    "\\begin{figure}\n",
    "\\centerline{\\includegraphics[width=10cm]{ConcatDemo_v_SYN.png}}\n",
    "\\caption{\\label{fig:CDVSYN} ConcatDemo Verilog Synthesized Schematic; Xilinx Vivado 2017.4}\n",
    "\\end{figure}"
   ]
  },
  {
   "cell_type": "markdown",
   "metadata": {},
   "source": [
    "## VHDL Conversion"
   ]
  },
  {
   "cell_type": "code",
   "execution_count": 42,
   "metadata": {},
   "outputs": [
    {
     "name": "stdout",
     "output_type": "stream",
     "text": [
      "***VHDL modual from ConcatDemo.vhd***\n",
      "\n",
      " -- File: ConcatDemo.vhd\n",
      "-- Generated by MyHDL 0.10\n",
      "-- Date: Wed Aug 29 14:28:03 2018\n",
      "\n",
      "\n",
      "library IEEE;\n",
      "use IEEE.std_logic_1164.all;\n",
      "use IEEE.numeric_std.all;\n",
      "use std.textio.all;\n",
      "\n",
      "use work.pck_myhdl_010.all;\n",
      "\n",
      "entity ConcatDemo is\n",
      "    port (\n",
      "        Res: out unsigned(6 downto 0);\n",
      "        ResS: out signed (6 downto 0)\n",
      "    );\n",
      "end entity ConcatDemo;\n",
      "-- `concat` demo \n",
      "-- Input:\n",
      "--     None\n",
      "-- Ouput:\n",
      "--     Res(7BitVec): concat result\n",
      "--     Res(7BitVec Signed): concat result that is signed\n",
      "\n",
      "architecture MyHDL of ConcatDemo is\n",
      "\n",
      "\n",
      "signal RefVal: unsigned(5 downto 0);\n",
      "\n",
      "begin\n",
      "\n",
      "\n",
      "RefVal <= to_unsigned(25, 6);\n",
      "\n",
      "\n",
      "\n",
      "Res <= unsigned'('1' & RefVal);\n",
      "ResS <= signed(unsigned'('1' & RefVal));\n",
      "\n",
      "end architecture MyHDL;\n",
      "\n"
     ]
    },
    {
     "name": "stderr",
     "output_type": "stream",
     "text": [
      "/home/iridium/anaconda3/lib/python3.6/site-packages/myhdl/conversion/_VHDLNameValidation.py:39: ToVHDLWarning: Previously used name being reused: Res\n",
      "  warnings.warn(\"Previously used name being reused: %s\" % (name), category=ToVHDLWarning)\n",
      "/home/iridium/anaconda3/lib/python3.6/site-packages/myhdl/conversion/_VHDLNameValidation.py:39: ToVHDLWarning: Previously used name being reused: RefVal\n",
      "  warnings.warn(\"Previously used name being reused: %s\" % (name), category=ToVHDLWarning)\n",
      "/home/iridium/anaconda3/lib/python3.6/site-packages/myhdl/conversion/_toVHDL.py:453: ToVHDLWarning: Signal is not driven: RefVal\n",
      "  category=ToVHDLWarning\n"
     ]
    }
   ],
   "source": [
    "DUT.convert('VHDL')\n",
    "VHDLTextReader('ConcatDemo');"
   ]
  },
  {
   "cell_type": "markdown",
   "metadata": {},
   "source": [
    "\\begin{figure}\n",
    "\\centerline{\\includegraphics[width=10cm]{ConcatDemo_vhd_RTL.png}}\n",
    "\\caption{\\label{fig:CDVHDRTL} {ConcatDemo VHDL RTL schematic; Xilinx Vivado 2017.4}\n",
    "\\end{figure}"
   ]
  },
  {
   "cell_type": "markdown",
   "metadata": {},
   "source": [
    "\\begin{figure}\n",
    "\\centerline{\\includegraphics[width=10cm]{ConcatDemo_vhd_SYN.png}}\n",
    "\\caption{\\label{fig:CDVHDSYN} ConcatDemo VHDL Synthesized Schematic; Xilinx Vivado 2017.4}\n",
    "\\end{figure}"
   ]
  },
  {
   "cell_type": "markdown",
   "metadata": {},
   "source": [
    "## myHDL to Verilog/VHDL Testbench"
   ]
  },
  {
   "cell_type": "code",
   "execution_count": 63,
   "metadata": {},
   "outputs": [],
   "source": [
    "@block\n",
    "def ConcatDemo_TB_V_VHDL():\n",
    "    \"\"\"\n",
    "    myHDL-> Verilog/VHDL Testbench\n",
    "    \"\"\"\n",
    "\n",
    "    Res=Signal(intbv(0)[7:])\n",
    "    ResS=Signal(intbv(0)[7:].signed())\n",
    "\n",
    "    @always_comb\n",
    "    def print_data():\n",
    "        print(Res, ResS)\n",
    "\n",
    "\n",
    "    DUT=ConcatDemo(Res, ResS)\n",
    "\n",
    "    @instance\n",
    "    def stimules():\n",
    "        for i in range(2):\n",
    "            yield delay(1)\n",
    "        \n",
    "        raise StopSimulation()\n",
    "    \n",
    "    return instances()\n",
    "\n",
    "\n",
    "TB=ConcatDemo_TB_V_VHDL()"
   ]
  },
  {
   "cell_type": "markdown",
   "metadata": {},
   "source": [
    "### Verilog Testbench"
   ]
  },
  {
   "cell_type": "code",
   "execution_count": 44,
   "metadata": {},
   "outputs": [
    {
     "name": "stdout",
     "output_type": "stream",
     "text": [
      "<class 'myhdl._Signal._Signal'> <class '_ast.Name'>\n",
      "<class 'myhdl._Signal._Signal'> <class '_ast.Name'>\n",
      "***Verilog modual from ConcatDemo_TB_V_VHDL.v***\n",
      "\n",
      " // File: ConcatDemo_TB_V_VHDL.v\n",
      "// Generated by MyHDL 0.10\n",
      "// Date: Wed Aug 29 14:28:04 2018\n",
      "\n",
      "\n",
      "`timescale 1ns/10ps\n",
      "\n",
      "module ConcatDemo_TB_V_VHDL (\n",
      "\n",
      ");\n",
      "\n",
      "\n",
      "\n",
      "wire [6:0] Res;\n",
      "wire signed [6:0] ResS;\n",
      "wire [5:0] ConcatDemo0_0_RefVal;\n",
      "\n",
      "assign ConcatDemo0_0_RefVal = 6'd25;\n",
      "\n",
      "\n",
      "always @(ResS, Res) begin: CONCATDEMO_TB_V_VHDL_PRINT_DATA\n",
      "    $write(\"%h\", Res);\n",
      "    $write(\" \");\n",
      "    $write(\"%h\", ResS);\n",
      "    $write(\"\\n\");\n",
      "end\n",
      "\n",
      "\n",
      "\n",
      "assign Res = {1'b1, ConcatDemo0_0_RefVal};\n",
      "assign ResS = $signed({1'b1, ConcatDemo0_0_RefVal});\n",
      "\n",
      "\n",
      "initial begin: CONCATDEMO_TB_V_VHDL_STIMULES\n",
      "    integer i;\n",
      "    for (i=0; i<2; i=i+1) begin\n",
      "        # 1;\n",
      "    end\n",
      "    $finish;\n",
      "end\n",
      "\n",
      "endmodule\n",
      "\n"
     ]
    },
    {
     "name": "stderr",
     "output_type": "stream",
     "text": [
      "/home/iridium/anaconda3/lib/python3.6/site-packages/myhdl/conversion/_toVerilog.py:349: ToVerilogWarning: Signal is not driven: ConcatDemo0_0_RefVal\n",
      "  category=ToVerilogWarning\n"
     ]
    }
   ],
   "source": [
    "TB.convert(hdl=\"Verilog\", initial_values=True)\n",
    "VerilogTextReader('ConcatDemo_TB_V_VHDL');"
   ]
  },
  {
   "cell_type": "markdown",
   "metadata": {},
   "source": [
    "### VHDL Testbench\n",
    "#### VHDL Testbench Conversion Issue\n",
    "This Testbench is not working in Vivado"
   ]
  },
  {
   "cell_type": "code",
   "execution_count": 45,
   "metadata": {},
   "outputs": [
    {
     "name": "stdout",
     "output_type": "stream",
     "text": [
      "***VHDL modual from ConcatDemo_TB_V_VHDL.vhd***\n",
      "\n",
      " -- File: ConcatDemo_TB_V_VHDL.vhd\n",
      "-- Generated by MyHDL 0.10\n",
      "-- Date: Wed Aug 29 14:28:04 2018\n",
      "\n",
      "\n",
      "library IEEE;\n",
      "use IEEE.std_logic_1164.all;\n",
      "use IEEE.numeric_std.all;\n",
      "use std.textio.all;\n",
      "\n",
      "use work.pck_myhdl_010.all;\n",
      "\n",
      "entity ConcatDemo_TB_V_VHDL is\n",
      "end entity ConcatDemo_TB_V_VHDL;\n",
      "\n",
      "\n",
      "architecture MyHDL of ConcatDemo_TB_V_VHDL is\n",
      "\n",
      "\n",
      "signal Res: unsigned(6 downto 0) := 7X\"00\";\n",
      "signal ResS: signed (6 downto 0) := 7X\"00\";\n",
      "signal ConcatDemo0_0_RefVal: unsigned(5 downto 0);\n",
      "\n",
      "begin\n",
      "\n",
      "\n",
      "ConcatDemo0_0_RefVal <= to_unsigned(25, 6);\n",
      "\n",
      "\n",
      "CONCATDEMO_TB_V_VHDL_PRINT_DATA: process (ResS, Res) is\n",
      "    variable L: line;\n",
      "begin\n",
      "    write(L, to_hstring(Res));\n",
      "    write(L, string'(\" \"));\n",
      "    write(L, to_hstring(unsigned(ResS)));\n",
      "    writeline(output, L);\n",
      "end process CONCATDEMO_TB_V_VHDL_PRINT_DATA;\n",
      "\n",
      "\n",
      "Res <= unsigned'('1' & ConcatDemo0_0_RefVal);\n",
      "ResS <= signed(unsigned'('1' & ConcatDemo0_0_RefVal));\n",
      "\n",
      "CONCATDEMO_TB_V_VHDL_STIMULES: process is\n",
      "begin\n",
      "    for i in 0 to 2-1 loop\n",
      "        wait for 1 * 1 ns;\n",
      "    end loop;\n",
      "    assert False report \"End of Simulation\" severity Failure;\n",
      "    wait;\n",
      "end process CONCATDEMO_TB_V_VHDL_STIMULES;\n",
      "\n",
      "end architecture MyHDL;\n",
      "\n"
     ]
    },
    {
     "name": "stderr",
     "output_type": "stream",
     "text": [
      "/home/iridium/anaconda3/lib/python3.6/site-packages/myhdl/conversion/_toVHDL.py:453: ToVHDLWarning: Signal is not driven: ConcatDemo0_0_RefVal\n",
      "  category=ToVHDLWarning\n"
     ]
    }
   ],
   "source": [
    "TB.convert(hdl=\"VHDL\", initial_values=True)\n",
    "VHDLTextReader('ConcatDemo_TB_V_VHDL');"
   ]
  },
  {
   "cell_type": "markdown",
   "metadata": {},
   "source": [
    "# myHDL Bitslicing Behavior"
   ]
  },
  {
   "cell_type": "markdown",
   "metadata": {},
   "source": [
    "These example values come from the future work with floating point implemented in fixed point architecture which is incredibly important for Digital Signal Processing as will be shown. For now, just understand that the example are based on multiplying two Q4.4 (8bit fixed point) number resulting in Q8.8 (16bit fixed point) product"
   ]
  },
  {
   "cell_type": "markdown",
   "metadata": {},
   "source": [
    "## Slicing `intbv`"
   ]
  },
  {
   "cell_type": "markdown",
   "metadata": {},
   "source": [
    "the following is an example of truncation from 16bit to 8bit rounding that shows how bit slicing works in myHDL. The truncation bit slicing keeps values from the far left (Most Significant Bit (MSB) ) to the rightmost specified bit (Least Significant Bit (LSB))"
   ]
  },
  {
   "cell_type": "code",
   "execution_count": 46,
   "metadata": {},
   "outputs": [
    {
     "name": "stdout",
     "output_type": "stream",
     "text": [
      "int 1749 in bit is 0000011011010101\n",
      "Binary: 0000011011010101, Bits: 16, rep: 1749, MSB:15, LSB: 0\n",
      "Binary: 000001101101010, Bits: 15, rep: 874, MSB:15, LSB: 1\n",
      "Binary: 00000110110101, Bits: 14, rep: 437, MSB:15, LSB: 2\n",
      "Binary: 0000011011010, Bits: 13, rep: 218, MSB:15, LSB: 3\n",
      "Binary: 000001101101, Bits: 12, rep: 109, MSB:15, LSB: 4\n",
      "Binary: 00000110110, Bits: 11, rep: 54, MSB:15, LSB: 5\n",
      "Binary: 0000011011, Bits: 10, rep: 27, MSB:15, LSB: 6\n",
      "Binary: 000001101, Bits: 9, rep: 13, MSB:15, LSB: 7\n",
      "Binary: 00000110, Bits: 8, rep: 6, MSB:15, LSB: 8\n",
      "Binary: 0000011, Bits: 7, rep: 3, MSB:15, LSB: 9\n",
      "Binary: 000001, Bits: 6, rep: 1, MSB:15, LSB: 10\n",
      "Binary: 00000, Bits: 5, rep: 0, MSB:15, LSB: 11\n",
      "Binary: 0000, Bits: 4, rep: 0, MSB:15, LSB: 12\n",
      "Binary: 000, Bits: 3, rep: 0, MSB:15, LSB: 13\n",
      "Binary: 00, Bits: 2, rep: 0, MSB:15, LSB: 14\n",
      "Binary: 0, Bits: 1, rep: 0, MSB:15, LSB: 15\n"
     ]
    }
   ],
   "source": [
    "TV=intbv(1749)[16:]\n",
    "print(f'int 1749 in bit is {bin(TV, len(TV))}')\n",
    "for j in range(16):\n",
    "    try:\n",
    "        Trunc=TV[16:j]\n",
    "        print(f'Binary: {bin(Trunc, len(Trunc))}, Bits: {len(Trunc)}, rep: {int(Trunc)}, MSB:15, LSB: {j}')\n",
    "    except ValueError:\n",
    "        print ('MSB {15} is <= LSB {j}')"
   ]
  },
  {
   "cell_type": "code",
   "execution_count": 47,
   "metadata": {},
   "outputs": [
    {
     "name": "stdout",
     "output_type": "stream",
     "text": [
      "int 1749 in bit is 0000011011010101\n",
      "Binary: 0000011011010101, Bits: 16, rep: 1749, MSB:16, LSB: 0\n",
      "Binary: 000011011010101, Bits: 15, rep: 1749, MSB:15, LSB: 0\n",
      "Binary: 00011011010101, Bits: 14, rep: 1749, MSB:14, LSB: 0\n",
      "Binary: 0011011010101, Bits: 13, rep: 1749, MSB:13, LSB: 0\n",
      "Binary: 011011010101, Bits: 12, rep: 1749, MSB:12, LSB: 0\n",
      "Binary: 11011010101, Bits: 11, rep: 1749, MSB:11, LSB: 0\n",
      "Binary: 1011010101, Bits: 10, rep: 725, MSB:10, LSB: 0\n",
      "Binary: 011010101, Bits: 9, rep: 213, MSB:9, LSB: 0\n",
      "Binary: 11010101, Bits: 8, rep: 213, MSB:8, LSB: 0\n",
      "Binary: 1010101, Bits: 7, rep: 85, MSB:7, LSB: 0\n",
      "Binary: 010101, Bits: 6, rep: 21, MSB:6, LSB: 0\n",
      "Binary: 10101, Bits: 5, rep: 21, MSB:5, LSB: 0\n",
      "Binary: 0101, Bits: 4, rep: 5, MSB:4, LSB: 0\n",
      "Binary: 101, Bits: 3, rep: 5, MSB:3, LSB: 0\n",
      "Binary: 01, Bits: 2, rep: 1, MSB:2, LSB: 0\n",
      "Binary: 1, Bits: 1, rep: 1, MSB:1, LSB: 0\n",
      "MSB is <= LSB index\n"
     ]
    }
   ],
   "source": [
    "TV=intbv(1749)[16:]\n",
    "print(f'int 1749 in bit is {bin(TV, len(TV))}')\n",
    "for i in reversed(range(16+1)):\n",
    "    try:\n",
    "        Trunc=TV[i:0]\n",
    "        print(f'Binary: {bin(Trunc, len(Trunc))}, Bits: {len(Trunc)}, rep: {int(Trunc)}, MSB:{i}, LSB: {0}')\n",
    "    except ValueError:\n",
    "        print ('MSB is <= LSB index')"
   ]
  },
  {
   "cell_type": "markdown",
   "metadata": {},
   "source": [
    "## Slicing Signed `intbv`"
   ]
  },
  {
   "cell_type": "code",
   "execution_count": 48,
   "metadata": {},
   "outputs": [
    {
     "name": "stdout",
     "output_type": "stream",
     "text": [
      "int -1749 in bit is 1111100100101011\n",
      "Binary: 1111100100101011, Bits: 16, rep: -1749, MSB:15, LSB: 0\n",
      "Binary: 111110010010101, Bits: 15, rep: -875, MSB:15, LSB: 1\n",
      "Binary: 11111001001010, Bits: 14, rep: -438, MSB:15, LSB: 2\n",
      "Binary: 1111100100101, Bits: 13, rep: -219, MSB:15, LSB: 3\n",
      "Binary: 111110010010, Bits: 12, rep: -110, MSB:15, LSB: 4\n",
      "Binary: 11111001001, Bits: 11, rep: -55, MSB:15, LSB: 5\n",
      "Binary: 1111100100, Bits: 10, rep: -28, MSB:15, LSB: 6\n",
      "Binary: 111110010, Bits: 9, rep: -14, MSB:15, LSB: 7\n",
      "Binary: 11111001, Bits: 8, rep: -7, MSB:15, LSB: 8\n",
      "Binary: 1111100, Bits: 7, rep: -4, MSB:15, LSB: 9\n",
      "Binary: 111110, Bits: 6, rep: -2, MSB:15, LSB: 10\n",
      "Binary: 11111, Bits: 5, rep: -1, MSB:15, LSB: 11\n",
      "Binary: 1111, Bits: 4, rep: -1, MSB:15, LSB: 12\n",
      "Binary: 111, Bits: 3, rep: -1, MSB:15, LSB: 13\n",
      "Binary: 11, Bits: 2, rep: -1, MSB:15, LSB: 14\n",
      "Binary: 1, Bits: 1, rep: -1, MSB:15, LSB: 15\n"
     ]
    }
   ],
   "source": [
    "TV=intbv(-1749)[16:].signed()\n",
    "print(f'int -1749 in bit is {bin(TV, len(TV))}')\n",
    "for j in range(16):\n",
    "    try:\n",
    "        Trunc=TV[16:j].signed()\n",
    "        print(f'Binary: {bin(Trunc, len(Trunc))}, Bits: {len(Trunc)}, rep: {int(Trunc)}, MSB:15, LSB: {j}')\n",
    "    except ValueError:\n",
    "        print ('MSB {15} is <= LSB {j}')"
   ]
  },
  {
   "cell_type": "code",
   "execution_count": 49,
   "metadata": {},
   "outputs": [
    {
     "name": "stdout",
     "output_type": "stream",
     "text": [
      "int -1749 in bit is 1111100100101011\n",
      "Binary: 1111100100101011, Bits: 16, rep: -1749, MSB:16, LSB: 0\n",
      "Binary: 111100100101011, Bits: 15, rep: -1749, MSB:15, LSB: 0\n",
      "Binary: 11100100101011, Bits: 14, rep: -1749, MSB:14, LSB: 0\n",
      "Binary: 1100100101011, Bits: 13, rep: -1749, MSB:13, LSB: 0\n",
      "Binary: 100100101011, Bits: 12, rep: -1749, MSB:12, LSB: 0\n",
      "Binary: 00100101011, Bits: 11, rep: 299, MSB:11, LSB: 0\n",
      "Binary: 0100101011, Bits: 10, rep: 299, MSB:10, LSB: 0\n",
      "Binary: 100101011, Bits: 9, rep: -213, MSB:9, LSB: 0\n",
      "Binary: 00101011, Bits: 8, rep: 43, MSB:8, LSB: 0\n",
      "Binary: 0101011, Bits: 7, rep: 43, MSB:7, LSB: 0\n",
      "Binary: 101011, Bits: 6, rep: -21, MSB:6, LSB: 0\n",
      "Binary: 01011, Bits: 5, rep: 11, MSB:5, LSB: 0\n",
      "Binary: 1011, Bits: 4, rep: -5, MSB:4, LSB: 0\n",
      "Binary: 011, Bits: 3, rep: 3, MSB:3, LSB: 0\n",
      "Binary: 11, Bits: 2, rep: -1, MSB:2, LSB: 0\n",
      "Binary: 1, Bits: 1, rep: -1, MSB:1, LSB: 0\n",
      "MSB is <= LSB index\n"
     ]
    }
   ],
   "source": [
    "TV=intbv(-1749)[16:].signed()\n",
    "print(f'int -1749 in bit is {bin(TV, len(TV))}')\n",
    "for i in reversed(range(16+1)):\n",
    "    try:\n",
    "        Trunc=TV[i:0].signed()\n",
    "        print(f'Binary: {bin(Trunc, len(Trunc))}, Bits: {len(Trunc)}, rep: {int(Trunc)}, MSB:{i}, LSB: {0}')\n",
    "    except ValueError:\n",
    "        print ('MSB is <= LSB index')"
   ]
  },
  {
   "cell_type": "markdown",
   "metadata": {},
   "source": [
    "## Slicing `modbv`"
   ]
  },
  {
   "cell_type": "code",
   "execution_count": 50,
   "metadata": {},
   "outputs": [
    {
     "name": "stdout",
     "output_type": "stream",
     "text": [
      "int 1749 in bit is 0000011011010101\n",
      "Binary: 0000011011010101, Bits: 16, rep: 1749, MSB:15, LSB: 0\n",
      "Binary: 000001101101010, Bits: 15, rep: 874, MSB:15, LSB: 1\n",
      "Binary: 00000110110101, Bits: 14, rep: 437, MSB:15, LSB: 2\n",
      "Binary: 0000011011010, Bits: 13, rep: 218, MSB:15, LSB: 3\n",
      "Binary: 000001101101, Bits: 12, rep: 109, MSB:15, LSB: 4\n",
      "Binary: 00000110110, Bits: 11, rep: 54, MSB:15, LSB: 5\n",
      "Binary: 0000011011, Bits: 10, rep: 27, MSB:15, LSB: 6\n",
      "Binary: 000001101, Bits: 9, rep: 13, MSB:15, LSB: 7\n",
      "Binary: 00000110, Bits: 8, rep: 6, MSB:15, LSB: 8\n",
      "Binary: 0000011, Bits: 7, rep: 3, MSB:15, LSB: 9\n",
      "Binary: 000001, Bits: 6, rep: 1, MSB:15, LSB: 10\n",
      "Binary: 00000, Bits: 5, rep: 0, MSB:15, LSB: 11\n",
      "Binary: 0000, Bits: 4, rep: 0, MSB:15, LSB: 12\n",
      "Binary: 000, Bits: 3, rep: 0, MSB:15, LSB: 13\n",
      "Binary: 00, Bits: 2, rep: 0, MSB:15, LSB: 14\n",
      "Binary: 0, Bits: 1, rep: 0, MSB:15, LSB: 15\n"
     ]
    }
   ],
   "source": [
    "TV=modbv(1749)[16:]\n",
    "print(f'int 1749 in bit is {bin(TV, len(TV))}')\n",
    "for j in range(16):\n",
    "    try:\n",
    "        Trunc=TV[16:j]\n",
    "        print(f'Binary: {bin(Trunc, len(Trunc))}, Bits: {len(Trunc)}, rep: {int(Trunc)}, MSB:15, LSB: {j}')\n",
    "    except ValueError:\n",
    "        print ('MSB {15} is <= LSB {j}')"
   ]
  },
  {
   "cell_type": "code",
   "execution_count": 51,
   "metadata": {},
   "outputs": [
    {
     "name": "stdout",
     "output_type": "stream",
     "text": [
      "int 1749 in bit is 0000011011010101\n",
      "Binary: 0000011011010101, Bits: 16, rep: 1749, MSB:16, LSB: 0\n",
      "Binary: 000011011010101, Bits: 15, rep: 1749, MSB:15, LSB: 0\n",
      "Binary: 00011011010101, Bits: 14, rep: 1749, MSB:14, LSB: 0\n",
      "Binary: 0011011010101, Bits: 13, rep: 1749, MSB:13, LSB: 0\n",
      "Binary: 011011010101, Bits: 12, rep: 1749, MSB:12, LSB: 0\n",
      "Binary: 11011010101, Bits: 11, rep: 1749, MSB:11, LSB: 0\n",
      "Binary: 1011010101, Bits: 10, rep: 725, MSB:10, LSB: 0\n",
      "Binary: 011010101, Bits: 9, rep: 213, MSB:9, LSB: 0\n",
      "Binary: 11010101, Bits: 8, rep: 213, MSB:8, LSB: 0\n",
      "Binary: 1010101, Bits: 7, rep: 85, MSB:7, LSB: 0\n",
      "Binary: 010101, Bits: 6, rep: 21, MSB:6, LSB: 0\n",
      "Binary: 10101, Bits: 5, rep: 21, MSB:5, LSB: 0\n",
      "Binary: 0101, Bits: 4, rep: 5, MSB:4, LSB: 0\n",
      "Binary: 101, Bits: 3, rep: 5, MSB:3, LSB: 0\n",
      "Binary: 01, Bits: 2, rep: 1, MSB:2, LSB: 0\n",
      "Binary: 1, Bits: 1, rep: 1, MSB:1, LSB: 0\n",
      "MSB is <= LSB index\n"
     ]
    }
   ],
   "source": [
    "TV=modbv(1749)[16:]\n",
    "print(f'int 1749 in bit is {bin(TV, len(TV))}')\n",
    "\n",
    "for i in reversed(range(16+1)):\n",
    "    try:\n",
    "        Trunc=TV[i:0]\n",
    "        print(f'Binary: {bin(Trunc, len(Trunc))}, Bits: {len(Trunc)}, rep: {int(Trunc)}, MSB:{i}, LSB: {0}')\n",
    "    except ValueError:\n",
    "        print ('MSB is <= LSB index')"
   ]
  },
  {
   "cell_type": "markdown",
   "metadata": {},
   "source": [
    "## myHDL BitSlicing Demo Module"
   ]
  },
  {
   "cell_type": "code",
   "execution_count": 52,
   "metadata": {},
   "outputs": [],
   "source": [
    "@block\n",
    "def BitSlicingDemo(MSB, LSB, Res):\n",
    "    \"\"\"\n",
    "    Demenstration Module for Bit Slicing in myHDL\n",
    "    \n",
    "    Inputs:\n",
    "        MSB (5BitVec): Most Signficant Bit Index Must be > LSB, \n",
    "            ex: if LSB==0 MSB must range between 1 and 15\n",
    "        LSB (5BitVec): Lest Signficant Bit Index Must be < MSB\n",
    "            ex: if MSB==15 LSB must range beteen 0 and 15\n",
    "    \n",
    "    Outputs:\n",
    "        Res(16BitVec Signed): Result of the slicing operation from\n",
    "        Refrance Vales (hard coded in module) -1749 (16BitVec Signed)\n",
    "        \n",
    "    \n",
    "    \"\"\"\n",
    "    RefVal=Signal(intbv(-1749)[16:].signed())\n",
    "    @always_comb\n",
    "    def logic():\n",
    "        Res.next=RefVal[MSB:LSB].signed()\n",
    "    return instances()\n",
    "        "
   ]
  },
  {
   "cell_type": "markdown",
   "metadata": {},
   "source": [
    "## myHDL Testing"
   ]
  },
  {
   "cell_type": "code",
   "execution_count": 53,
   "metadata": {},
   "outputs": [],
   "source": [
    "Peeker.clear()\n",
    "MSB=Signal(intbv(16)[5:]); Peeker(MSB, 'MSB')\n",
    "LSB=Signal(intbv(0)[5:]); Peeker(LSB, 'LSB')\n",
    "Res=Signal(intbv(0)[16:].signed()); Peeker(Res, 'Res')\n",
    "\n",
    "DUT=BitSlicingDemo(MSB, LSB, Res)\n",
    "\n",
    "def BitslicingDemo_TB():\n",
    "    \"\"\"\n",
    "    myHDL only Testbench for `BitSlicingDemo`\n",
    "    \"\"\"\n",
    "    @instance\n",
    "    def stimules():\n",
    "        \n",
    "        for j in range(15):\n",
    "            MSB.next=16\n",
    "            LSB.next=j\n",
    "            yield delay(1)\n",
    "        \n",
    "        for i in reversed(range(1, 16)):\n",
    "            MSB.next=i\n",
    "            LSB.next=0\n",
    "            yield delay(1)\n",
    "        \n",
    "        raise StopSimulation()\n",
    "    return instances()\n",
    "            \n",
    "        \n",
    "sim=Simulation(DUT, BitslicingDemo_TB(), *Peeker.instances()).run()"
   ]
  },
  {
   "cell_type": "code",
   "execution_count": 54,
   "metadata": {},
   "outputs": [
    {
     "data": {
      "text/html": [
       "<div><script type=\"WaveDrom\">{\"signal\": [{\"name\": \"MSB\", \"wave\": \"=..............===============\", \"data\": [\"16\", \"0f\", \"0e\", \"0d\", \"0c\", \"0b\", \"0a\", \"09\", \"08\", \"07\", \"06\", \"05\", \"04\", \"03\", \"02\", \"1\"]}, {\"name\": \"LSB\", \"wave\": \"================..............\", \"data\": [\"0\", \"01\", \"02\", \"03\", \"04\", \"05\", \"06\", \"07\", \"08\", \"09\", \"0a\", \"0b\", \"0c\", \"0d\", \"0e\", \"00\"]}, {\"name\": \"Res\", \"wave\": \"============...=...=.==.=====.\", \"data\": [\"-1749\", \"fc95\", \"fe4a\", \"ff25\", \"ff92\", \"ffc9\", \"ffe4\", \"fff2\", \"fff9\", \"fffc\", \"fffe\", \"ffff\", \"f92b\", \"012b\", \"ff2b\", \"002b\", \"ffeb\", \"000b\", \"fffb\", \"0003\", \"ffff\"]}]}</script></div>"
      ]
     },
     "metadata": {},
     "output_type": "display_data"
    },
    {
     "data": {
      "application/javascript": [
       "$.getScript(\"http://wavedrom.com/wavedrom.min.js\", function () {\n",
       "$.getScript(\"http://wavedrom.com/skins/default.js\", function () {\n",
       "WaveDrom.ProcessAll();});\n",
       "});\n"
      ]
     },
     "metadata": {},
     "output_type": "display_data"
    }
   ],
   "source": [
    "Peeker.to_wavedrom('MSB', 'LSB', 'Res')"
   ]
  },
  {
   "cell_type": "code",
   "execution_count": 55,
   "metadata": {},
   "outputs": [
    {
     "data": {
      "text/html": [
       "<div>\n",
       "<style scoped>\n",
       "    .dataframe tbody tr th:only-of-type {\n",
       "        vertical-align: middle;\n",
       "    }\n",
       "\n",
       "    .dataframe tbody tr th {\n",
       "        vertical-align: top;\n",
       "    }\n",
       "\n",
       "    .dataframe thead th {\n",
       "        text-align: right;\n",
       "    }\n",
       "</style>\n",
       "<table border=\"1\" class=\"dataframe\">\n",
       "  <thead>\n",
       "    <tr style=\"text-align: right;\">\n",
       "      <th></th>\n",
       "      <th>MSB</th>\n",
       "      <th>LSB</th>\n",
       "      <th>Res</th>\n",
       "    </tr>\n",
       "  </thead>\n",
       "  <tbody>\n",
       "    <tr>\n",
       "      <th>0</th>\n",
       "      <td>16</td>\n",
       "      <td>0</td>\n",
       "      <td>-1749</td>\n",
       "    </tr>\n",
       "    <tr>\n",
       "      <th>1</th>\n",
       "      <td>16</td>\n",
       "      <td>1</td>\n",
       "      <td>-875</td>\n",
       "    </tr>\n",
       "    <tr>\n",
       "      <th>2</th>\n",
       "      <td>16</td>\n",
       "      <td>2</td>\n",
       "      <td>-438</td>\n",
       "    </tr>\n",
       "    <tr>\n",
       "      <th>3</th>\n",
       "      <td>16</td>\n",
       "      <td>3</td>\n",
       "      <td>-219</td>\n",
       "    </tr>\n",
       "    <tr>\n",
       "      <th>4</th>\n",
       "      <td>16</td>\n",
       "      <td>4</td>\n",
       "      <td>-110</td>\n",
       "    </tr>\n",
       "    <tr>\n",
       "      <th>5</th>\n",
       "      <td>16</td>\n",
       "      <td>5</td>\n",
       "      <td>-55</td>\n",
       "    </tr>\n",
       "    <tr>\n",
       "      <th>6</th>\n",
       "      <td>16</td>\n",
       "      <td>6</td>\n",
       "      <td>-28</td>\n",
       "    </tr>\n",
       "    <tr>\n",
       "      <th>7</th>\n",
       "      <td>16</td>\n",
       "      <td>7</td>\n",
       "      <td>-14</td>\n",
       "    </tr>\n",
       "    <tr>\n",
       "      <th>8</th>\n",
       "      <td>16</td>\n",
       "      <td>8</td>\n",
       "      <td>-7</td>\n",
       "    </tr>\n",
       "    <tr>\n",
       "      <th>9</th>\n",
       "      <td>16</td>\n",
       "      <td>9</td>\n",
       "      <td>-4</td>\n",
       "    </tr>\n",
       "    <tr>\n",
       "      <th>10</th>\n",
       "      <td>16</td>\n",
       "      <td>10</td>\n",
       "      <td>-2</td>\n",
       "    </tr>\n",
       "    <tr>\n",
       "      <th>11</th>\n",
       "      <td>16</td>\n",
       "      <td>11</td>\n",
       "      <td>-1</td>\n",
       "    </tr>\n",
       "    <tr>\n",
       "      <th>12</th>\n",
       "      <td>16</td>\n",
       "      <td>12</td>\n",
       "      <td>-1</td>\n",
       "    </tr>\n",
       "    <tr>\n",
       "      <th>13</th>\n",
       "      <td>16</td>\n",
       "      <td>13</td>\n",
       "      <td>-1</td>\n",
       "    </tr>\n",
       "    <tr>\n",
       "      <th>14</th>\n",
       "      <td>16</td>\n",
       "      <td>14</td>\n",
       "      <td>-1</td>\n",
       "    </tr>\n",
       "    <tr>\n",
       "      <th>15</th>\n",
       "      <td>15</td>\n",
       "      <td>0</td>\n",
       "      <td>-1749</td>\n",
       "    </tr>\n",
       "    <tr>\n",
       "      <th>16</th>\n",
       "      <td>14</td>\n",
       "      <td>0</td>\n",
       "      <td>-1749</td>\n",
       "    </tr>\n",
       "    <tr>\n",
       "      <th>17</th>\n",
       "      <td>13</td>\n",
       "      <td>0</td>\n",
       "      <td>-1749</td>\n",
       "    </tr>\n",
       "    <tr>\n",
       "      <th>18</th>\n",
       "      <td>12</td>\n",
       "      <td>0</td>\n",
       "      <td>-1749</td>\n",
       "    </tr>\n",
       "    <tr>\n",
       "      <th>19</th>\n",
       "      <td>11</td>\n",
       "      <td>0</td>\n",
       "      <td>299</td>\n",
       "    </tr>\n",
       "    <tr>\n",
       "      <th>20</th>\n",
       "      <td>10</td>\n",
       "      <td>0</td>\n",
       "      <td>299</td>\n",
       "    </tr>\n",
       "    <tr>\n",
       "      <th>21</th>\n",
       "      <td>9</td>\n",
       "      <td>0</td>\n",
       "      <td>-213</td>\n",
       "    </tr>\n",
       "    <tr>\n",
       "      <th>22</th>\n",
       "      <td>8</td>\n",
       "      <td>0</td>\n",
       "      <td>43</td>\n",
       "    </tr>\n",
       "    <tr>\n",
       "      <th>23</th>\n",
       "      <td>7</td>\n",
       "      <td>0</td>\n",
       "      <td>43</td>\n",
       "    </tr>\n",
       "    <tr>\n",
       "      <th>24</th>\n",
       "      <td>6</td>\n",
       "      <td>0</td>\n",
       "      <td>-21</td>\n",
       "    </tr>\n",
       "    <tr>\n",
       "      <th>25</th>\n",
       "      <td>5</td>\n",
       "      <td>0</td>\n",
       "      <td>11</td>\n",
       "    </tr>\n",
       "    <tr>\n",
       "      <th>26</th>\n",
       "      <td>4</td>\n",
       "      <td>0</td>\n",
       "      <td>-5</td>\n",
       "    </tr>\n",
       "    <tr>\n",
       "      <th>27</th>\n",
       "      <td>3</td>\n",
       "      <td>0</td>\n",
       "      <td>3</td>\n",
       "    </tr>\n",
       "    <tr>\n",
       "      <th>28</th>\n",
       "      <td>2</td>\n",
       "      <td>0</td>\n",
       "      <td>-1</td>\n",
       "    </tr>\n",
       "    <tr>\n",
       "      <th>29</th>\n",
       "      <td>1</td>\n",
       "      <td>0</td>\n",
       "      <td>-1</td>\n",
       "    </tr>\n",
       "  </tbody>\n",
       "</table>\n",
       "</div>"
      ],
      "text/plain": [
       "    MSB  LSB   Res\n",
       "0    16    0 -1749\n",
       "1    16    1  -875\n",
       "2    16    2  -438\n",
       "3    16    3  -219\n",
       "4    16    4  -110\n",
       "5    16    5   -55\n",
       "6    16    6   -28\n",
       "7    16    7   -14\n",
       "8    16    8    -7\n",
       "9    16    9    -4\n",
       "10   16   10    -2\n",
       "11   16   11    -1\n",
       "12   16   12    -1\n",
       "13   16   13    -1\n",
       "14   16   14    -1\n",
       "15   15    0 -1749\n",
       "16   14    0 -1749\n",
       "17   13    0 -1749\n",
       "18   12    0 -1749\n",
       "19   11    0   299\n",
       "20   10    0   299\n",
       "21    9    0  -213\n",
       "22    8    0    43\n",
       "23    7    0    43\n",
       "24    6    0   -21\n",
       "25    5    0    11\n",
       "26    4    0    -5\n",
       "27    3    0     3\n",
       "28    2    0    -1\n",
       "29    1    0    -1"
      ]
     },
     "execution_count": 55,
     "metadata": {},
     "output_type": "execute_result"
    }
   ],
   "source": [
    "Peeker.to_dataframe()[['MSB', 'LSB', 'Res']]"
   ]
  },
  {
   "cell_type": "markdown",
   "metadata": {},
   "source": [
    "## Verilog Conversion\n",
    "### Verilog Conversion Issue\n",
    "The following is unsynthesizable since Verilog requires that the indexes in bit slicing (aka Part-selects) be constant values. Along with the error in `assign RefVal = 16'd-1749;`\n",
    "\n",
    "However, the generated Verilog code from `BitSlicingDemo` does hold merit in showing how the index values are mapped from myHDL to Verilog "
   ]
  },
  {
   "cell_type": "code",
   "execution_count": 56,
   "metadata": {},
   "outputs": [
    {
     "name": "stdout",
     "output_type": "stream",
     "text": [
      "***Verilog modual from BitSlicingDemo.v***\n",
      "\n",
      " // File: BitSlicingDemo.v\n",
      "// Generated by MyHDL 0.10\n",
      "// Date: Wed Aug 29 14:28:06 2018\n",
      "\n",
      "\n",
      "`timescale 1ns/10ps\n",
      "\n",
      "module BitSlicingDemo (\n",
      "    MSB,\n",
      "    LSB,\n",
      "    Res\n",
      ");\n",
      "// Demenstration Module for Bit Slicing in myHDL\n",
      "// \n",
      "// Inputs:\n",
      "//     MSB (5BitVec): Most Signficant Bit Index Must be > LSB, \n",
      "//         ex: if LSB==0 MSB must range between 1 and 15\n",
      "//     LSB (5BitVec): Lest Signficant Bit Index Must be < MSB\n",
      "//         ex: if MSB==15 LSB must range beteen 0 and 15\n",
      "// \n",
      "// Outputs:\n",
      "//     Res(16BitVec Signed): Result of the slicing operation from\n",
      "//     Refrance Vales (hard coded in module) -1749 (16BitVec Signed)\n",
      "//     \n",
      "\n",
      "input [4:0] MSB;\n",
      "input [4:0] LSB;\n",
      "output signed [15:0] Res;\n",
      "wire signed [15:0] Res;\n",
      "\n",
      "wire [15:0] RefVal;\n",
      "\n",
      "assign RefVal = 16'd-1749;\n",
      "\n",
      "\n",
      "\n",
      "assign Res = $signed(RefVal[MSB-1:LSB]);\n",
      "\n",
      "endmodule\n",
      "\n"
     ]
    },
    {
     "name": "stderr",
     "output_type": "stream",
     "text": [
      "/home/iridium/anaconda3/lib/python3.6/site-packages/myhdl/conversion/_toVerilog.py:349: ToVerilogWarning: Signal is not driven: RefVal\n",
      "  category=ToVerilogWarning\n"
     ]
    }
   ],
   "source": [
    "DUT.convert()\n",
    "VerilogTextReader('BitSlicingDemo');"
   ]
  },
  {
   "cell_type": "markdown",
   "metadata": {},
   "source": [
    "## VHDL Conversion\n",
    "### VHDL Conversion Issue\n",
    "The following is unsynthesizable since VHDL requires that the indexes in bit slicing (aka Part-selects) be constant values. \n",
    "\n",
    "However, the generated VHDL code from `BitSlicingDemo` does hold merit in showing how the index values are mapped from myHDL to VHDL "
   ]
  },
  {
   "cell_type": "code",
   "execution_count": 57,
   "metadata": {},
   "outputs": [
    {
     "name": "stdout",
     "output_type": "stream",
     "text": [
      "***VHDL modual from BitSlicingDemo.vhd***\n",
      "\n",
      " -- File: BitSlicingDemo.vhd\n",
      "-- Generated by MyHDL 0.10\n",
      "-- Date: Wed Aug 29 14:28:06 2018\n",
      "\n",
      "\n",
      "library IEEE;\n",
      "use IEEE.std_logic_1164.all;\n",
      "use IEEE.numeric_std.all;\n",
      "use std.textio.all;\n",
      "\n",
      "use work.pck_myhdl_010.all;\n",
      "\n",
      "entity BitSlicingDemo is\n",
      "    port (\n",
      "        MSB: in unsigned(4 downto 0);\n",
      "        LSB: in unsigned(4 downto 0);\n",
      "        Res: out signed (15 downto 0)\n",
      "    );\n",
      "end entity BitSlicingDemo;\n",
      "-- Demenstration Module for Bit Slicing in myHDL\n",
      "-- \n",
      "-- Inputs:\n",
      "--     MSB (5BitVec): Most Signficant Bit Index Must be > LSB, \n",
      "--         ex: if LSB==0 MSB must range between 1 and 15\n",
      "--     LSB (5BitVec): Lest Signficant Bit Index Must be < MSB\n",
      "--         ex: if MSB==15 LSB must range beteen 0 and 15\n",
      "-- \n",
      "-- Outputs:\n",
      "--     Res(16BitVec Signed): Result of the slicing operation from\n",
      "--     Refrance Vales (hard coded in module) -1749 (16BitVec Signed)\n",
      "--     \n",
      "\n",
      "architecture MyHDL of BitSlicingDemo is\n",
      "\n",
      "\n",
      "signal RefVal: signed (15 downto 0);\n",
      "\n",
      "begin\n",
      "\n",
      "\n",
      "RefVal <= to_signed(-1749, 16);\n",
      "\n",
      "\n",
      "\n",
      "Res <= signed(unsigned(RefVal(to_integer(MSB)-1 downto to_integer(LSB))));\n",
      "\n",
      "end architecture MyHDL;\n",
      "\n"
     ]
    },
    {
     "name": "stderr",
     "output_type": "stream",
     "text": [
      "/home/iridium/anaconda3/lib/python3.6/site-packages/myhdl/conversion/_VHDLNameValidation.py:39: ToVHDLWarning: Previously used name being reused: Res\n",
      "  warnings.warn(\"Previously used name being reused: %s\" % (name), category=ToVHDLWarning)\n",
      "/home/iridium/anaconda3/lib/python3.6/site-packages/myhdl/conversion/_VHDLNameValidation.py:39: ToVHDLWarning: Previously used name being reused: RefVal\n",
      "  warnings.warn(\"Previously used name being reused: %s\" % (name), category=ToVHDLWarning)\n",
      "/home/iridium/anaconda3/lib/python3.6/site-packages/myhdl/conversion/_toVHDL.py:453: ToVHDLWarning: Signal is not driven: RefVal\n",
      "  category=ToVHDLWarning\n"
     ]
    }
   ],
   "source": [
    "DUT.convert(hdl='VHDL')\n",
    "VHDLTextReader('BitSlicingDemo');"
   ]
  },
  {
   "cell_type": "markdown",
   "metadata": {},
   "source": [
    "## myHDL to Verilog/VHDL Testbench"
   ]
  },
  {
   "cell_type": "code",
   "execution_count": 58,
   "metadata": {},
   "outputs": [],
   "source": [
    "@block\n",
    "def BitslicingDemo_TB_V_VHDL():\n",
    "    \"\"\"\n",
    "    myHDL -> Verilog/VHDL Testbench for `BitSlicingDemo`\n",
    "    \"\"\"\n",
    "\n",
    "    MSB=Signal(intbv(16)[5:])\n",
    "    LSB=Signal(intbv(0)[5:])\n",
    "    Res=Signal(intbv(0)[16:].signed())\n",
    "    \n",
    "    @always_comb\n",
    "    def print_data():\n",
    "        print(MSB, LSB, Res)\n",
    "\n",
    "    DUT=BitSlicingDemo(MSB, LSB, Res)\n",
    "\n",
    "    @instance\n",
    "    def stimules():\n",
    "        \n",
    "        for j in range(15):\n",
    "            MSB.next=16\n",
    "            LSB.next=j\n",
    "            yield delay(1)\n",
    "        \n",
    "        #!!! reversed is not being converted\n",
    "        #for i in reversed(range(1, 16)):\n",
    "        #    MSB.next=i\n",
    "        #    LSB.next=0\n",
    "        #    yield delay(1)\n",
    "        \n",
    "        raise StopSimulation()\n",
    "    return instances()\n",
    "            \n",
    "        \n",
    "TB=BitslicingDemo_TB_V_VHDL()"
   ]
  },
  {
   "cell_type": "markdown",
   "metadata": {},
   "source": [
    "### Verilog Testbench"
   ]
  },
  {
   "cell_type": "code",
   "execution_count": 59,
   "metadata": {},
   "outputs": [
    {
     "name": "stdout",
     "output_type": "stream",
     "text": [
      "<class 'myhdl._Signal._Signal'> <class '_ast.Name'>\n",
      "<class 'myhdl._Signal._Signal'> <class '_ast.Name'>\n",
      "<class 'myhdl._Signal._Signal'> <class '_ast.Name'>\n",
      "***Verilog modual from BitslicingDemo_TB_V_VHDL.v***\n",
      "\n",
      " // File: BitslicingDemo_TB_V_VHDL.v\n",
      "// Generated by MyHDL 0.10\n",
      "// Date: Wed Aug 29 14:28:07 2018\n",
      "\n",
      "\n",
      "`timescale 1ns/10ps\n",
      "\n",
      "module BitslicingDemo_TB_V_VHDL (\n",
      "\n",
      ");\n",
      "// myHDL -> Verilog/VHDL Testbench for `BitSlicingDemo`\n",
      "\n",
      "\n",
      "wire signed [15:0] Res;\n",
      "reg [4:0] MSB = 16;\n",
      "reg [4:0] LSB = 0;\n",
      "wire [15:0] BitSlicingDemo0_0_RefVal;\n",
      "\n",
      "assign BitSlicingDemo0_0_RefVal = 16'd-1749;\n",
      "\n",
      "\n",
      "always @(LSB, MSB, Res) begin: BITSLICINGDEMO_TB_V_VHDL_PRINT_DATA\n",
      "    $write(\"%h\", MSB);\n",
      "    $write(\" \");\n",
      "    $write(\"%h\", LSB);\n",
      "    $write(\" \");\n",
      "    $write(\"%h\", Res);\n",
      "    $write(\"\\n\");\n",
      "end\n",
      "\n",
      "\n",
      "\n",
      "assign Res = $signed(BitSlicingDemo0_0_RefVal[MSB-1:LSB]);\n",
      "\n",
      "\n",
      "initial begin: BITSLICINGDEMO_TB_V_VHDL_STIMULES\n",
      "    integer j;\n",
      "    for (j=0; j<15; j=j+1) begin\n",
      "        MSB <= 16;\n",
      "        LSB <= j;\n",
      "        # 1;\n",
      "    end\n",
      "    $finish;\n",
      "end\n",
      "\n",
      "endmodule\n",
      "\n"
     ]
    },
    {
     "name": "stderr",
     "output_type": "stream",
     "text": [
      "/home/iridium/anaconda3/lib/python3.6/site-packages/myhdl/conversion/_toVerilog.py:349: ToVerilogWarning: Signal is not driven: BitSlicingDemo0_0_RefVal\n",
      "  category=ToVerilogWarning\n"
     ]
    }
   ],
   "source": [
    "TB.convert(hdl=\"Verilog\", initial_values=True)\n",
    "VerilogTextReader('BitslicingDemo_TB_V_VHDL');"
   ]
  },
  {
   "cell_type": "markdown",
   "metadata": {},
   "source": [
    "### VHDL Testbench"
   ]
  },
  {
   "cell_type": "code",
   "execution_count": 60,
   "metadata": {},
   "outputs": [
    {
     "name": "stdout",
     "output_type": "stream",
     "text": [
      "***VHDL modual from BitslicingDemo_TB_V_VHDL.vhd***\n",
      "\n",
      " -- File: BitslicingDemo_TB_V_VHDL.vhd\n",
      "-- Generated by MyHDL 0.10\n",
      "-- Date: Wed Aug 29 14:28:07 2018\n",
      "\n",
      "\n",
      "library IEEE;\n",
      "use IEEE.std_logic_1164.all;\n",
      "use IEEE.numeric_std.all;\n",
      "use std.textio.all;\n",
      "\n",
      "use work.pck_myhdl_010.all;\n",
      "\n",
      "entity BitslicingDemo_TB_V_VHDL is\n",
      "end entity BitslicingDemo_TB_V_VHDL;\n",
      "-- myHDL -> Verilog/VHDL Testbench for `BitSlicingDemo`\n",
      "\n",
      "architecture MyHDL of BitslicingDemo_TB_V_VHDL is\n",
      "\n",
      "\n",
      "signal Res: signed (15 downto 0) := 16X\"0000\";\n",
      "signal MSB: unsigned(4 downto 0) := 5X\"10\";\n",
      "signal LSB: unsigned(4 downto 0) := 5X\"00\";\n",
      "signal BitSlicingDemo0_0_RefVal: signed (15 downto 0);\n",
      "\n",
      "begin\n",
      "\n",
      "\n",
      "BitSlicingDemo0_0_RefVal <= to_signed(-1749, 16);\n",
      "\n",
      "\n",
      "BITSLICINGDEMO_TB_V_VHDL_PRINT_DATA: process (LSB, MSB, Res) is\n",
      "    variable L: line;\n",
      "begin\n",
      "    write(L, to_hstring(MSB));\n",
      "    write(L, string'(\" \"));\n",
      "    write(L, to_hstring(LSB));\n",
      "    write(L, string'(\" \"));\n",
      "    write(L, to_hstring(unsigned(Res)));\n",
      "    writeline(output, L);\n",
      "end process BITSLICINGDEMO_TB_V_VHDL_PRINT_DATA;\n",
      "\n",
      "\n",
      "Res <= signed(unsigned(BitSlicingDemo0_0_RefVal(to_integer(MSB)-1 downto to_integer(LSB))));\n",
      "\n",
      "BITSLICINGDEMO_TB_V_VHDL_STIMULES: process is\n",
      "begin\n",
      "    for j in 0 to 15-1 loop\n",
      "        MSB <= to_unsigned(16, 5);\n",
      "        LSB <= to_unsigned(j, 5);\n",
      "        wait for 1 * 1 ns;\n",
      "    end loop;\n",
      "    assert False report \"End of Simulation\" severity Failure;\n",
      "    wait;\n",
      "end process BITSLICINGDEMO_TB_V_VHDL_STIMULES;\n",
      "\n",
      "end architecture MyHDL;\n",
      "\n"
     ]
    },
    {
     "name": "stderr",
     "output_type": "stream",
     "text": [
      "/home/iridium/anaconda3/lib/python3.6/site-packages/myhdl/conversion/_toVHDL.py:453: ToVHDLWarning: Signal is not driven: BitSlicingDemo0_0_RefVal\n",
      "  category=ToVHDLWarning\n"
     ]
    }
   ],
   "source": [
    "TB.convert(hdl=\"VHDL\", initial_values=True)\n",
    "VHDLTextReader('BitslicingDemo_TB_V_VHDL');"
   ]
  },
  {
   "cell_type": "code",
   "execution_count": null,
   "metadata": {},
   "outputs": [],
   "source": []
  }
 ],
 "metadata": {
  "author": "Bitwise Behavior in myHDL: Selecting, Shifting, Concatenation, Slicing",
  "hide_input": false,
  "kernelspec": {
   "display_name": "Python 3",
   "language": "python",
   "name": "python3"
  },
  "language_info": {
   "codemirror_mode": {
    "name": "ipython",
    "version": 3
   },
   "file_extension": ".py",
   "mimetype": "text/x-python",
   "name": "python",
   "nbconvert_exporter": "python",
   "pygments_lexer": "ipython3",
   "version": "3.6.2"
  },
  "latex_envs": {
   "LaTeX_envs_menu_present": true,
   "autoclose": false,
   "autocomplete": true,
   "bibliofile": "biblio.bib",
   "cite_by": "apalike",
   "current_citInitial": 1,
   "eqLabelWithNumbers": true,
   "eqNumInitial": 1,
   "hotkeys": {
    "equation": "Ctrl-E",
    "itemize": "Ctrl-I"
   },
   "labels_anchors": false,
   "latex_user_defs": false,
   "report_style_numbering": false,
   "user_envs_cfg": false
  },
  "toc": {
   "nav_menu": {},
   "number_sections": true,
   "sideBar": true,
   "skip_h1_title": false,
   "toc_cell": true,
   "toc_position": {
    "height": "597px",
    "left": "0px",
    "right": "639.006px",
    "top": "236px",
    "width": "211px"
   },
   "toc_section_display": true,
   "toc_window_display": true
  }
 },
 "nbformat": 4,
 "nbformat_minor": 2
}
