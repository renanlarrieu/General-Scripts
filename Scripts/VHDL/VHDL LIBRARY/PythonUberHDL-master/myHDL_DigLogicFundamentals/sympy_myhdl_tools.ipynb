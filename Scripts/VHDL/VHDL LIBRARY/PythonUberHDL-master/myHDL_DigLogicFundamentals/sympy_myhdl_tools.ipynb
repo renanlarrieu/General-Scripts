{
 "cells": [
  {
   "cell_type": "code",
   "execution_count": 1,
   "metadata": {},
   "outputs": [],
   "source": [
    "from sympy import *\n",
    "init_printing()\n",
    "import pandas as pd\n",
    "import numpy as np\n",
    "from myhdl import *\n",
    "from myhdlpeek import *\n",
    "import random"
   ]
  },
  {
   "cell_type": "code",
   "execution_count": 2,
   "metadata": {},
   "outputs": [],
   "source": [
    "def TruthTabelGenrator(BoolSymFunc):\n",
    "    \"\"\"\n",
    "    Function to generate a truth table from a sympy boolian expression\n",
    "    BoolSymFunc: sympy boolian expression\n",
    "    return TT: a Truth table stored in a pandas dataframe\n",
    "    \"\"\"\n",
    "    colsL=sorted([i for i in list(BoolSymFunc.rhs.atoms())], key=lambda x:x.sort_key())\n",
    "    colsR=sorted([i for i in list(BoolSymFunc.lhs.atoms())], key=lambda x:x.sort_key())\n",
    "    bitwidth=len(colsL)\n",
    "    cols=colsL+colsR; cols\n",
    "    \n",
    "    TT=pd.DataFrame(columns=cols, index=range(2**bitwidth))\n",
    "    \n",
    "    for i in range(2**bitwidth):\n",
    "        inputs=[int(j) for j in list(np.binary_repr(i, bitwidth))]\n",
    "        outputs=BoolSymFunc.rhs.subs({j:v for j, v in zip(colsL, inputs)})\n",
    "        inputs.append(int(bool(outputs)))\n",
    "        TT.iloc[i]=inputs\n",
    "    \n",
    "    return TT\n",
    "    \n",
    "    \n",
    "    "
   ]
  },
  {
   "cell_type": "code",
   "execution_count": 3,
   "metadata": {},
   "outputs": [],
   "source": [
    "def TTMinMaxAppender(TruthTable):\n",
    "    \"\"\"\n",
    "    Function that takes a Truth Table from \"TruthTabelGenrator\" function\n",
    "    and appends a columns for the Minterm and Maxterm  exspersions for each\n",
    "    \n",
    "    TruthTable: Truth table from \"TruthTabelGenrator\"\n",
    "    return TruthTable: truth table with appened min max term exspersions\n",
    "    return SOPTerms: list of Sum of Poroduct terms\n",
    "    return POSTerms: list of Product of Sum Terms\n",
    "    \"\"\"\n",
    "    \n",
    "    Mmaster=[]; mmaster=[]; SOPTerms=[]; POSTerms=[]\n",
    "    for index, row in TruthTable.iterrows():\n",
    "        \n",
    "        if 'm' not in list(row.index):\n",
    "            \n",
    "            rowliterals=list(row[:-1].index)\n",
    "            Mm=list(row[:-1])\n",
    "\n",
    "            Mi=[]; mi=[]\n",
    "\n",
    "            for i in range(len(rowliterals)):\n",
    "                if Mm[i]==0:\n",
    "                    Mi.append(rowliterals[i])\n",
    "                    mi.append(~rowliterals[i])\n",
    "\n",
    "                elif Mm[i]==0:\n",
    "                    M.append(rowliterals[i])\n",
    "                    m.append(~rowliterals[i])\n",
    "\n",
    "            Mi=Or(*Mi, simplify=False); mi=And(*mi)\n",
    "            Mmaster.append(Mi); mmaster.append(mi)\n",
    "        \n",
    "        \n",
    "            if row[-1]==0:\n",
    "                POSTerms.append(index)\n",
    "            elif row[-1]==1:\n",
    "                SOPTerms.append(index)\n",
    "        else:\n",
    "            \n",
    "            if row[-3]==0:\n",
    "                POSTerms.append(index)\n",
    "            elif row[-3]==1:\n",
    "                SOPTerms.append(index)\n",
    "    \n",
    "    if 'm' not in list(TruthTable.columns):\n",
    "        TruthTable['m']=mmaster; TruthTable['M']=Mmaster\n",
    "    return TruthTable, SOPTerms, POSTerms\n",
    "            "
   ]
  },
  {
   "cell_type": "code",
   "execution_count": 4,
   "metadata": {},
   "outputs": [],
   "source": [
    "termsetBuilder=lambda literalsList: set(list(range(2**len(literalsList))))"
   ]
  },
  {
   "cell_type": "code",
   "execution_count": 5,
   "metadata": {},
   "outputs": [],
   "source": [
    "def POS_SOPformCalcater(literls, SOPlist, POSlist, DC=None):\n",
    "    \"\"\"\n",
    "    Wraper function around sympy's SOPform and POSfrom boolian function\n",
    "    genrator from the SOP, POS, DontCar (DC) list \n",
    "    \n",
    "    \"\"\"\n",
    "    minterms=[]; maxterms=[]\n",
    "    for i in SOPlist:\n",
    "        minterms.append([int(j) for j in list(np.binary_repr(i, len(literls)))])\n",
    "    for i in POSlist:\n",
    "        maxterms.append([int(j) for j in list(np.binary_repr(i, len(literls)))])\n",
    "    \n",
    "    if DC!=None:\n",
    "        dontcares=[]\n",
    "        for i in DC:\n",
    "            dontcares.append([int(j) for j in list(np.binary_repr(i, len(literls)))])\n",
    "        DC=dontcares\n",
    "    \n",
    "    return simplify(SOPform(literls, minterms, DC)), simplify(POSform(literls, maxterms, DC))\n"
   ]
  },
  {
   "cell_type": "code",
   "execution_count": 6,
   "metadata": {},
   "outputs": [],
   "source": [
    "def Combo_TB(inputs=[]):\n",
    "    \"\"\"\n",
    "    Basic myHDL test bench for simple compintorial logic testing\n",
    "    \"\"\"\n",
    "    \n",
    "    #the # of inputs contorls everything\n",
    "    Ninputs=len(inputs)\n",
    "    #genrate sequantil number of inputs for comparsion to known\n",
    "    SequntialInputs=np.arange(2**Ninputs)\n",
    "    \n",
    "    #run the test for 2^Ninputs Seq and 2^Ninputs randomly =2*2^Ninputs cycles\n",
    "    for t in range(2*2**Ninputs):\n",
    "        #run sequantial\n",
    "        try:\n",
    "            #genrate binary bit repsersintion of current sequantl input\n",
    "            NextSeqInput=np.binary_repr(SequntialInputs[t], width=Ninputs)\n",
    "            \n",
    "            #pass each bit into the inputs\n",
    "            for i in range(Ninputs):\n",
    "                inputs[i].next=bool(int(NextSeqInput[i]))\n",
    "        \n",
    "        #run the random to cheack for unexsected behavior\n",
    "        except IndexError:\n",
    "            NextRanInput=[random.randint(0,1) for i in range(Ninputs)]\n",
    "\n",
    "            for i in range(Ninputs):\n",
    "                inputs[i].next=NextRanInput[i]\n",
    "\n",
    "        #virtural clock for combo only\n",
    "        yield delay(1)\n",
    "        now()\n",
    "        \n",
    "    "
   ]
  },
  {
   "cell_type": "code",
   "execution_count": 7,
   "metadata": {},
   "outputs": [
    {
     "data": {
      "text/plain": [
       "False"
      ]
     },
     "execution_count": 7,
     "metadata": {},
     "output_type": "execute_result"
    }
   ],
   "source": [
    "bool(int('0'))"
   ]
  },
  {
   "cell_type": "code",
   "execution_count": 8,
   "metadata": {
    "code_folding": [
     7
    ]
   },
   "outputs": [],
   "source": [
    "def VerilogTextReader(loc, printresult=True):\n",
    "    \"\"\"\n",
    "    Function that reads in a Verilog file and can print to screen the file\n",
    "    contant\n",
    "    \"\"\"\n",
    "    with open(f'{loc}.v', 'r') as vText:\n",
    "        VerilogText=vText.read()\n",
    "    if printresult:\n",
    "        print(f'***Verilog modual from {loc}.v***\\n\\n', VerilogText)\n",
    "    return VerilogText"
   ]
  },
  {
   "cell_type": "code",
   "execution_count": 1,
   "metadata": {},
   "outputs": [],
   "source": [
    "def VHDLTextReader(loc, printresult=True):\n",
    "    \"\"\"\n",
    "    Function that reads in a vhdl file and can print to screen the file\n",
    "    contant\n",
    "    \"\"\"\n",
    "    with open(f'{loc}.vhd', 'r') as vhdText:\n",
    "        VHDLText=vhdText.read()\n",
    "    if printresult:\n",
    "        print(f'***VHDL modual from {loc}.vhd***\\n\\n', VHDLText)\n",
    "    return VHDLText"
   ]
  },
  {
   "cell_type": "code",
   "execution_count": 9,
   "metadata": {},
   "outputs": [],
   "source": [
    "def MakeDFfromPeeker(data):\n",
    "    \"\"\"\n",
    "    Helper function to read the Peeker JSON information from a myHDL test bench\n",
    "    simulationn and move the data into a pands dataframe for easer futer parsing\n",
    "    and snyslsisis\n",
    "    \n",
    "    (note need to update functionality to read in numericl )\n",
    "    \"\"\"\n",
    "    \n",
    "    for i in range(len(data['signal'])):\n",
    "        datainstance=data['signal'][i]['wave']\n",
    "        while True:\n",
    "            ith=datainstance.find('.')\n",
    "            if ith==-1:\n",
    "                break\n",
    "            else: \n",
    "                datainstance=datainstance.replace('.', datainstance[ith-1], 1)\n",
    "\n",
    "\n",
    "        data['signal'][i]['wave']=datainstance\n",
    "        \n",
    "    DataDF=pd.DataFrame(columns=[i['name'] for i in data['signal']])\n",
    "    for i in data['signal']:\n",
    "        DataDF[i['name']]=list(i['wave'])\n",
    "    \n",
    "    return DataDF"
   ]
  },
  {
   "cell_type": "code",
   "execution_count": null,
   "metadata": {},
   "outputs": [],
   "source": []
  },
  {
   "cell_type": "code",
   "execution_count": 10,
   "metadata": {},
   "outputs": [],
   "source": [
    "def shannon_exspanson(f, term):\n",
    "    \"\"\"\n",
    "    function to perform shannon's expansion theorm\n",
    "    f is not a full equation\n",
    "    \"\"\"\n",
    "    cof0=simplify(f.subs(term, 0)); cof1=simplify(f.subs(term, 1))\n",
    "    return ((~term & cof0 | (term & cof1))), cof0, cof1"
   ]
  },
  {
   "cell_type": "markdown",
   "metadata": {},
   "source": [
    "## Testing cell have been converted to Markdown so as to not clutter .py file"
   ]
  },
  {
   "cell_type": "markdown",
   "metadata": {},
   "source": [
    "x_1in, x_2in, x_3in, y_out=symbols('x_1in, x_2in, x_3in, y_out')\n",
    "AND3Def1=Eq(y_out, x_1in & x_2in & x_3in)\n",
    "AND3Def2=Eq(y_out, And(x_1in , x_2in, x_3in))\n",
    "AND3Def1, AND3Def2"
   ]
  },
  {
   "cell_type": "markdown",
   "metadata": {},
   "source": [
    "F=AND3Def1; F"
   ]
  },
  {
   "cell_type": "markdown",
   "metadata": {},
   "source": [
    "list(F.rhs.atoms())"
   ]
  },
  {
   "cell_type": "markdown",
   "metadata": {},
   "source": [
    "colsL=sorted([i for i in list(F.rhs.atoms())], key=lambda x:x.sort_key())\n",
    "colsR=sorted([i for i in list(F.lhs.atoms())], key=lambda x:x.sort_key())\n",
    "bitwidth=len(colsL)\n",
    "cols=colsL+colsR; cols"
   ]
  },
  {
   "cell_type": "markdown",
   "metadata": {},
   "source": [
    "TT=pd.DataFrame(columns=cols, index=range(2**bitwidth)); TT"
   ]
  },
  {
   "cell_type": "markdown",
   "metadata": {},
   "source": [
    "for i in range(2**bitwidth):\n",
    "    print([int(i) for i in list(np.binary_repr(i, bitwidth))])"
   ]
  },
  {
   "cell_type": "markdown",
   "metadata": {},
   "source": [
    "for i in range(2**bitwidth):\n",
    "    inputs=[int(j) for j in list(np.binary_repr(i, bitwidth))]\n",
    "    outputs=F.rhs.subs({j:v for j, v in zip(colsL, inputs)})\n",
    "    inputs.append(int(bool(outputs)))\n",
    "    TT.iloc[i]=inputs\n",
    "TT"
   ]
  },
  {
   "cell_type": "markdown",
   "metadata": {},
   "source": [
    "inputs=[0,0,0]\n",
    "outputs=F.rhs.subs({j:v for j, v in zip(colsL, inputs)})\n",
    "outputs"
   ]
  },
  {
   "cell_type": "markdown",
   "metadata": {},
   "source": [
    "TT=TruthTabelGenrator(AND3Def1)\n",
    "TT"
   ]
  },
  {
   "cell_type": "markdown",
   "metadata": {},
   "source": [
    "T0=TT.iloc[0]; T0"
   ]
  },
  {
   "cell_type": "markdown",
   "metadata": {},
   "source": [
    "POS=[]\n",
    "T0[-1]\n",
    "if T0[-1]==0:\n",
    "    POS.append(0)\n",
    "POS"
   ]
  },
  {
   "cell_type": "markdown",
   "metadata": {},
   "source": [
    "T0literal=list(T0[:-1].index); T0literal"
   ]
  },
  {
   "cell_type": "markdown",
   "metadata": {},
   "source": [
    "Mm0=list(T0[:-1]); Mm0"
   ]
  },
  {
   "cell_type": "markdown",
   "metadata": {
    "collapsed": true
   },
   "source": [
    "M=[]; m=[]\n",
    "for i in range(len(T0literal)):\n",
    "    if Mm0[i]==0:\n",
    "        M.append(T0literal[i])\n",
    "        m.append(~T0literal[i])\n",
    "    elif Mm0[i]==0:\n",
    "        M.append(T0literal[i])\n",
    "        m.append(~T0literal[i])\n",
    "M=Or(*M); m=And(*m)"
   ]
  },
  {
   "cell_type": "markdown",
   "metadata": {},
   "source": [
    "TT=TruthTabelGenrator(AND3Def1)\n",
    "TT\n",
    "Taple, SOP, POS=TTMinMaxAppender(TT)\n",
    "SOP, POS\n"
   ]
  },
  {
   "cell_type": "markdown",
   "metadata": {},
   "source": [
    "TT"
   ]
  },
  {
   "cell_type": "markdown",
   "metadata": {},
   "source": [
    "F, w, x, y, z=symbols('F, w, x, y, z')\n",
    "Feq=Eq(F,(y&z)|(z&~w)); Feq"
   ]
  },
  {
   "cell_type": "markdown",
   "metadata": {},
   "source": [
    "FTT=TruthTabelGenrator(Feq)\n",
    "FTT"
   ]
  },
  {
   "cell_type": "markdown",
   "metadata": {},
   "source": [
    "_, SOP, POS=TTMinMaxAppender(FTT)\n",
    "SOP, POS"
   ]
  },
  {
   "cell_type": "markdown",
   "metadata": {},
   "source": [
    "FTT"
   ]
  },
  {
   "cell_type": "markdown",
   "metadata": {},
   "source": [
    "for i in SOP:\n",
    "    print([int(j) for j in list(np.binary_repr(i, 4))])"
   ]
  },
  {
   "cell_type": "markdown",
   "metadata": {},
   "source": [
    "POS_SOPformCalcater([w, y, z], SOP, POS)"
   ]
  },
  {
   "cell_type": "markdown",
   "metadata": {},
   "source": [
    "SOP"
   ]
  },
  {
   "cell_type": "markdown",
   "metadata": {
    "collapsed": true
   },
   "source": []
  }
 ],
 "metadata": {
  "hide_input": false,
  "kernelspec": {
   "display_name": "Python 3",
   "language": "python",
   "name": "python3"
  },
  "language_info": {
   "codemirror_mode": {
    "name": "ipython",
    "version": 3
   },
   "file_extension": ".py",
   "mimetype": "text/x-python",
   "name": "python",
   "nbconvert_exporter": "python",
   "pygments_lexer": "ipython3",
   "version": "3.6.2"
  },
  "latex_envs": {
   "LaTeX_envs_menu_present": true,
   "autocomplete": true,
   "bibliofile": "biblio.bib",
   "cite_by": "apalike",
   "current_citInitial": 1,
   "eqLabelWithNumbers": true,
   "eqNumInitial": 1,
   "hotkeys": {
    "equation": "Ctrl-E",
    "itemize": "Ctrl-I"
   },
   "labels_anchors": false,
   "latex_user_defs": false,
   "report_style_numbering": false,
   "user_envs_cfg": false
  },
  "nbTranslate": {
   "displayLangs": [
    "*"
   ],
   "hotkey": "alt-t",
   "langInMainMenu": true,
   "sourceLang": "fr",
   "targetLang": "en",
   "useGoogleTranslate": true
  },
  "toc": {
   "nav_menu": {
    "height": "12px",
    "width": "252px"
   },
   "number_sections": false,
   "sideBar": true,
   "skip_h1_title": false,
   "toc_cell": false,
   "toc_position": {},
   "toc_section_display": "block",
   "toc_window_display": false
  }
 },
 "nbformat": 4,
 "nbformat_minor": 2
}
