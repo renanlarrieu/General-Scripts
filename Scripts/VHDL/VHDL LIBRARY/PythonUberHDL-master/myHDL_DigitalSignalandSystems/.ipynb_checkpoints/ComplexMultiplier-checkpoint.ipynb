{
 "cells": [
  {
   "cell_type": "markdown",
   "metadata": {},
   "source": [
    "\\title{myHDL Two Word Complex Multiplier}\n",
    "\\author{Steven K Armour}\n",
    "\\maketitle"
   ]
  },
  {
   "cell_type": "markdown",
   "metadata": {},
   "source": [
    "This notebook/Program is a walkthrough on how to design and construct a two number complex Multiplier unit in myHDL based on the example of _Guenter Dannoritzer_"
   ]
  },
  {
   "cell_type": "markdown",
   "metadata": {
    "toc": true
   },
   "source": [
    "<h1>Table of Contents<span class=\"tocSkip\"></span></h1>\n",
    "<div class=\"toc\" style=\"margin-top: 1em;\"><ul class=\"toc-item\"><li><span><a href=\"#Refrances\" data-toc-modified-id=\"Refrances-1\"><span class=\"toc-item-num\">1&nbsp;&nbsp;</span>Refrances</a></span></li><li><span><a href=\"#Nonstandard-Libraries-and-tools-utilized\" data-toc-modified-id=\"Nonstandard-Libraries-and-tools-utilized-2\"><span class=\"toc-item-num\">2&nbsp;&nbsp;</span>Nonstandard Libraries and tools utilized</a></span></li><li><span><a href=\"#Complex-Multiplication-Review\" data-toc-modified-id=\"Complex-Multiplication-Review-3\"><span class=\"toc-item-num\">3&nbsp;&nbsp;</span>Complex Multiplication Review</a></span></li><li><span><a href=\"#Encoding-Real-and-Complex-in-a-Single-Input\" data-toc-modified-id=\"Encoding-Real-and-Complex-in-a-Single-Input-4\"><span class=\"toc-item-num\">4&nbsp;&nbsp;</span>Encoding Real and Complex in a Single Input</a></span><ul class=\"toc-item\"><li><span><a href=\"#Issue:\" data-toc-modified-id=\"Issue:-4.1\"><span class=\"toc-item-num\">4.1&nbsp;&nbsp;</span>Issue:</a></span></li><li><span><a href=\"#!-Negative-number-Issue-in-MyHDL-with-concat\" data-toc-modified-id=\"!-Negative-number-Issue-in-MyHDL-with-concat-4.2\"><span class=\"toc-item-num\">4.2&nbsp;&nbsp;</span>! Negative number Issue in MyHDL with <code>concat</code></a></span></li></ul></li><li><span><a href=\"#Algorithm-test\" data-toc-modified-id=\"Algorithm-test-5\"><span class=\"toc-item-num\">5&nbsp;&nbsp;</span>Algorithm test</a></span><ul class=\"toc-item\"><li><span><a href=\"#-\" data-toc-modified-id=\"--5.1\"><span class=\"toc-item-num\">5.1&nbsp;&nbsp;</span> </a></span></li><li><span><a href=\"#-\" data-toc-modified-id=\"--5.2\"><span class=\"toc-item-num\">5.2&nbsp;&nbsp;</span> </a></span></li><li><span><a href=\"#-\" data-toc-modified-id=\"--5.3\"><span class=\"toc-item-num\">5.3&nbsp;&nbsp;</span> </a></span></li><li><span><a href=\"#-\" data-toc-modified-id=\"--5.4\"><span class=\"toc-item-num\">5.4&nbsp;&nbsp;</span> </a></span></li><li><span><a href=\"#-\" data-toc-modified-id=\"--5.5\"><span class=\"toc-item-num\">5.5&nbsp;&nbsp;</span> </a></span></li></ul></li><li><span><a href=\"#myHDL-Implementation\" data-toc-modified-id=\"myHDL-Implementation-6\"><span class=\"toc-item-num\">6&nbsp;&nbsp;</span>myHDL Implementation</a></span><ul class=\"toc-item\"><li><span><a href=\"#Concat-issue\" data-toc-modified-id=\"Concat-issue-6.1\"><span class=\"toc-item-num\">6.1&nbsp;&nbsp;</span>Concat issue</a></span></li></ul></li><li><span><a href=\"#Testing\" data-toc-modified-id=\"Testing-7\"><span class=\"toc-item-num\">7&nbsp;&nbsp;</span>Testing</a></span></li><li><span><a href=\"#Conversion-from-myHDL-to-verilog/vhdl\" data-toc-modified-id=\"Conversion-from-myHDL-to-verilog/vhdl-8\"><span class=\"toc-item-num\">8&nbsp;&nbsp;</span>Conversion from myHDL to verilog/vhdl</a></span><ul class=\"toc-item\"><li><span><a href=\"#!!-Concat-issue-in-synthesis\" data-toc-modified-id=\"!!-Concat-issue-in-synthesis-8.1\"><span class=\"toc-item-num\">8.1&nbsp;&nbsp;</span>!! Concat issue in synthesis</a></span></li></ul></li></ul></div>"
   ]
  },
  {
   "cell_type": "markdown",
   "metadata": {},
   "source": [
    "# Refrances\n",
    "Guenter Dannoritzer, Complex Math, http://old.myhdl.org/doku.php/projects:cplx_math [3-29-18]"
   ]
  },
  {
   "cell_type": "markdown",
   "metadata": {},
   "source": [
    "# Nonstandard Libraries and tools utilized \n",
    "[myHDL](http://www.myhdl.org/), [myhdlpeek by xesscorp] (using the experimental pandas branch)(https://github.com/xesscorp/myhdlpeek), [draw.io](https://www.draw.io/) "
   ]
  },
  {
   "cell_type": "code",
   "execution_count": 1,
   "metadata": {},
   "outputs": [],
   "source": [
    "from myhdl import *\n",
    "from myhdlpeek import Peeker\n",
    "import numpy as np\n",
    "import pandas as pd\n",
    "import matplotlib.pyplot as plt\n",
    "%matplotlib inline\n",
    "\n",
    "from sympy import *\n",
    "init_printing()\n",
    "\n",
    "import random"
   ]
  },
  {
   "cell_type": "markdown",
   "metadata": {},
   "source": [
    "# Complex Multiplication Review"
   ]
  },
  {
   "cell_type": "code",
   "execution_count": 2,
   "metadata": {},
   "outputs": [],
   "source": [
    "A, B=symbols('A, B')\n",
    "a, b, c, d=symbols('a, b, c, d', real=True)"
   ]
  },
  {
   "cell_type": "code",
   "execution_count": 3,
   "metadata": {},
   "outputs": [
    {
     "data": {
      "image/png": "[encoded data removed]",
      "text/latex": [
       "$$A B$$"
      ],
      "text/plain": [
       "A⋅B"
      ]
     },
     "execution_count": 3,
     "metadata": {},
     "output_type": "execute_result"
    }
   ],
   "source": [
    "Multi=A*B; Multi"
   ]
  },
  {
   "cell_type": "code",
   "execution_count": 4,
   "metadata": {},
   "outputs": [
    {
     "data": {
      "image/png": "[encoded data removed]",
      "text/latex": [
       "$$2.0 i$$"
      ],
      "text/plain": [
       "2.0⋅ⅈ"
      ]
     },
     "execution_count": 4,
     "metadata": {},
     "output_type": "execute_result"
    }
   ],
   "source": [
    "simplify(Multi.subs({A:1+1j, B:1+1j}))"
   ]
  },
  {
   "cell_type": "code",
   "execution_count": 5,
   "metadata": {},
   "outputs": [
    {
     "data": {
      "image/png": "[encoded data removed]",
      "text/latex": [
       "$$\\left(a + 1.0 i b\\right) \\left(c + 1.0 i d\\right)$$"
      ],
      "text/plain": [
       "(a + 1.0⋅ⅈ⋅b)⋅(c + 1.0⋅ⅈ⋅d)"
      ]
     },
     "execution_count": 5,
     "metadata": {},
     "output_type": "execute_result"
    }
   ],
   "source": [
    "Multi=Multi.subs({A:(a+1j*b), B:(c+1j*d)})\n",
    "Multi"
   ]
  },
  {
   "cell_type": "code",
   "execution_count": 6,
   "metadata": {},
   "outputs": [
    {
     "data": {
      "image/png": "[encoded data removed]",
      "text/latex": [
       "$$a c + 1.0 i a d + 1.0 i b c - 1.0 b d$$"
      ],
      "text/plain": [
       "a⋅c + 1.0⋅ⅈ⋅a⋅d + 1.0⋅ⅈ⋅b⋅c - 1.0⋅b⋅d"
      ]
     },
     "execution_count": 6,
     "metadata": {},
     "output_type": "execute_result"
    }
   ],
   "source": [
    "Multi=expand(Multi); Multi"
   ]
  },
  {
   "cell_type": "code",
   "execution_count": 7,
   "metadata": {},
   "outputs": [
    {
     "data": {
      "image/png": "[encoded data removed]",
      "text/latex": [
       "$$\\left ( a c - 1.0 b d, \\quad 1.0 a d + 1.0 b c\\right )$$"
      ],
      "text/plain": [
       "(a⋅c - 1.0⋅b⋅d, 1.0⋅a⋅d + 1.0⋅b⋅c)"
      ]
     },
     "execution_count": 7,
     "metadata": {},
     "output_type": "execute_result"
    }
   ],
   "source": [
    "re(Multi), im(Multi)"
   ]
  },
  {
   "cell_type": "markdown",
   "metadata": {},
   "source": [
    "# Encoding Real and Complex in a Single Input"
   ]
  },
  {
   "cell_type": "markdown",
   "metadata": {},
   "source": [
    "To encode the real number word and imaginary word into a single word we need to not treat the signal as a number but as a word and then contract the word into a signal word based on a well-posed contraction rule. \n",
    "\n",
    "The contraction rule for creating a multiplication is that both the real and imaginary part of the whole number is a 2's complement number(word) that we then contract via the first word as $Re$ part and the second word is the $Im$ part such that we then have\n",
    "\n",
    "$$Re(\\text{word})+Im(\\text{word})j\\Rightarrow Re(\\text{word})Im(\\text{word})=\\mathbb{Z}(\\text{word} ) $$"
   ]
  },
  {
   "cell_type": "markdown",
   "metadata": {},
   "source": [
    "## Issue:\n",
    "There is an ongoing issue with the `concat` function in `myHDL` that is ongoing [Issue Reopened 3-29-18] https://github.com/myhdl/myhdl/issues/128#issuecomment-377370353\n",
    "When that issue is resolved this notebook will be updated accordingly. But for the moment, an attempt to develop this algorithm is shown and the problem with `concat` is highlighted so this notebook/program can be used as a benchmark for getting `concat` working properly. "
   ]
  },
  {
   "cell_type": "code",
   "execution_count": 8,
   "metadata": {},
   "outputs": [],
   "source": [
    "BitWidth=32\n",
    "WordSize=BitWidth"
   ]
  },
  {
   "cell_type": "code",
   "execution_count": 9,
   "metadata": {},
   "outputs": [
    {
     "name": "stdout",
     "output_type": "stream",
     "text": [
      "The Re WordLen is 16 bits and the Im WordLen is 16 bits\n"
     ]
    }
   ],
   "source": [
    "ReWordLen=WordSize//2; ImWordLen=WordSize//2\n",
    "print(f'The Re WordLen is {ReWordLen} bits and the Im WordLen is {ImWordLen} bits')"
   ]
  },
  {
   "cell_type": "code",
   "execution_count": 10,
   "metadata": {},
   "outputs": [
    {
     "data": {
      "image/png": "[encoded data removed]",
      "text/latex": [
       "$$\\left ( 32767, \\quad -32768, \\quad 32767, \\quad -32768\\right )$$"
      ],
      "text/plain": [
       "(32767, -32768, 32767, -32768)"
      ]
     },
     "execution_count": 10,
     "metadata": {},
     "output_type": "execute_result"
    }
   ],
   "source": [
    "ReMax=(2**(ReWordLen-1)-1); ReMin=-2**(ReWordLen-1)\n",
    "ImMax=(2**(ImWordLen-1)-1); ImMin=-2**(ImWordLen-1)\n",
    "ReMax, ReMin, ImMax, ImMin"
   ]
  },
  {
   "cell_type": "markdown",
   "metadata": {},
   "source": [
    "Test Tragets"
   ]
  },
  {
   "cell_type": "code",
   "execution_count": 11,
   "metadata": {},
   "outputs": [
    {
     "name": "stdout",
     "output_type": "stream",
     "text": [
      "Re: 16384, Im: 8192\n"
     ]
    }
   ],
   "source": [
    "R=(2**ReWordLen)//4; I=(2**ImWordLen)//8\n",
    "print(f'Re: {R}, Im: {I}')"
   ]
  },
  {
   "cell_type": "code",
   "execution_count": 12,
   "metadata": {},
   "outputs": [
    {
     "data": {
      "text/plain": [
       "('0100000000000000', '0100000000000000', True)"
      ]
     },
     "execution_count": 12,
     "metadata": {},
     "output_type": "execute_result"
    }
   ],
   "source": [
    "RN=intbv(R, min=ReMin, max=ReMax); RN\n",
    "RNBin=''.join([str(int(i)) for i in RN])\n",
    "bin(R, ReWordLen), RNBin, bin(R, ReWordLen)==RNBin"
   ]
  },
  {
   "cell_type": "code",
   "execution_count": 13,
   "metadata": {},
   "outputs": [
    {
     "data": {
      "text/plain": [
       "('0010000000000000', '0010000000000000', True)"
      ]
     },
     "execution_count": 13,
     "metadata": {},
     "output_type": "execute_result"
    }
   ],
   "source": [
    "IN=intbv(I, min=ImMin, max=ImMax); IN\n",
    "INBin=''.join([str(int(i)) for i in IN])\n",
    "bin(I, ImWordLen), INBin, bin(I, ImWordLen)==INBin"
   ]
  },
  {
   "cell_type": "code",
   "execution_count": 14,
   "metadata": {},
   "outputs": [
    {
     "data": {
      "text/plain": [
       "('01000000000000000010000000000000', '01000000000000000010000000000000', True)"
      ]
     },
     "execution_count": 14,
     "metadata": {},
     "output_type": "execute_result"
    }
   ],
   "source": [
    "AN=concat(RN, IN)\n",
    "ANBin=''.join([str(int(i)) for i in AN])\n",
    "bin(AN, WordSize), ANBin, bin(AN, WordSize)==ANBin "
   ]
  },
  {
   "cell_type": "markdown",
   "metadata": {},
   "source": [
    "So now we can then Split `AN` to get  back `RN` and `IN`"
   ]
  },
  {
   "cell_type": "code",
   "execution_count": 15,
   "metadata": {},
   "outputs": [
    {
     "data": {
      "text/plain": [
       "(intbv(16384), intbv(16384), True, intbv(8192), intbv(8192), True)"
      ]
     },
     "execution_count": 15,
     "metadata": {},
     "output_type": "execute_result"
    }
   ],
   "source": [
    "RNBack=AN[:ReWordLen]; INBack=AN[ImWordLen:]\n",
    "RNBack, RN, RNBack==RN,INBack, IN, INBack==IN"
   ]
  },
  {
   "cell_type": "markdown",
   "metadata": {},
   "source": [
    "But since myHDL implements 2's complement, we need to test for negative numbers where the leading bit is the signed signal"
   ]
  },
  {
   "cell_type": "code",
   "execution_count": 16,
   "metadata": {},
   "outputs": [
    {
     "name": "stdout",
     "output_type": "stream",
     "text": [
      "Target: -26\n",
      "Absolote Bin: 00011010, \n",
      "Signed Bin: 11100110\n"
     ]
    }
   ],
   "source": [
    "TestNegNum=-26\n",
    "print(f\"\"\"Target: {TestNegNum}\n",
    "Absolote Bin: {bin(abs(TestNegNum), 8)}, \n",
    "Signed Bin: {bin(TestNegNum, 8)}\"\"\")"
   ]
  },
  {
   "cell_type": "code",
   "execution_count": 17,
   "metadata": {},
   "outputs": [
    {
     "data": {
      "text/plain": [
       "(intbv(230), intbv(-26))"
      ]
     },
     "execution_count": 17,
     "metadata": {},
     "output_type": "execute_result"
    }
   ],
   "source": [
    "TestNegNumBV=intbv(TestNegNum)[8:]\n",
    "TestNegNumBV, TestNegNumBV.signed()"
   ]
  },
  {
   "cell_type": "code",
   "execution_count": 18,
   "metadata": {},
   "outputs": [
    {
     "name": "stdout",
     "output_type": "stream",
     "text": [
      "Re: -16384, Im: -8192\n"
     ]
    }
   ],
   "source": [
    "R=-R; I=-I\n",
    "print(f'Re: {R}, Im: {I}')"
   ]
  },
  {
   "cell_type": "code",
   "execution_count": 19,
   "metadata": {},
   "outputs": [
    {
     "data": {
      "text/plain": [
       "(intbv(-16384), '1100000000000000', '1100000000000000', True)"
      ]
     },
     "execution_count": 19,
     "metadata": {},
     "output_type": "execute_result"
    }
   ],
   "source": [
    "RN=intbv(R, min=ReMin, max=ReMax); RN\n",
    "RNBin=''.join([str(int(i)) for i in RN])\n",
    "RN.signed(), bin(R, ReWordLen), RNBin, bin(R, ReWordLen)==RNBin"
   ]
  },
  {
   "cell_type": "code",
   "execution_count": 20,
   "metadata": {},
   "outputs": [
    {
     "data": {
      "text/plain": [
       "(intbv(-8192), '1110000000000000', '1110000000000000', True)"
      ]
     },
     "execution_count": 20,
     "metadata": {},
     "output_type": "execute_result"
    }
   ],
   "source": [
    "IN=intbv(I, min=ImMin, max=ImMax); IN\n",
    "INBin=''.join([str(int(i)) for i in IN])\n",
    "IN.signed(), bin(I, ImWordLen), INBin, bin(I, ImWordLen)==INBin"
   ]
  },
  {
   "cell_type": "markdown",
   "metadata": {},
   "source": [
    "## ! Negative number Issue in MyHDL with `concat`\n",
    "At the moment `concat` does not handle a negative number as its leading term. Due to it setting the returned `intbv` min to 0"
   ]
  },
  {
   "cell_type": "code",
   "execution_count": 21,
   "metadata": {},
   "outputs": [
    {
     "ename": "ValueError",
     "evalue": "intbv value -1073684480 < minimum 0",
     "output_type": "error",
     "traceback": [
      "\u001b[0;31m---------------------------------------------------------------------------\u001b[0m",
      "\u001b[0;31mValueError\u001b[0m                                Traceback (most recent call last)",
      "\u001b[0;32m<ipython-input-21-597516b84e6e>\u001b[0m in \u001b[0;36m<module>\u001b[0;34m()\u001b[0m\n\u001b[0;32m----> 1\u001b[0;31m \u001b[0mAN\u001b[0m\u001b[0;34m=\u001b[0m\u001b[0mconcat\u001b[0m\u001b[0;34m(\u001b[0m\u001b[0mRN\u001b[0m\u001b[0;34m,\u001b[0m \u001b[0mIN\u001b[0m\u001b[0;34m)\u001b[0m\u001b[0;34m.\u001b[0m\u001b[0msigned\u001b[0m\u001b[0;34m(\u001b[0m\u001b[0;34m)\u001b[0m\u001b[0;34m\u001b[0m\u001b[0m\n\u001b[0m\u001b[1;32m      2\u001b[0m \u001b[0mANBin\u001b[0m\u001b[0;34m=\u001b[0m\u001b[0;34m''\u001b[0m\u001b[0;34m.\u001b[0m\u001b[0mjoin\u001b[0m\u001b[0;34m(\u001b[0m\u001b[0;34m[\u001b[0m\u001b[0mstr\u001b[0m\u001b[0;34m(\u001b[0m\u001b[0mint\u001b[0m\u001b[0;34m(\u001b[0m\u001b[0mi\u001b[0m\u001b[0;34m)\u001b[0m\u001b[0;34m)\u001b[0m \u001b[0;32mfor\u001b[0m \u001b[0mi\u001b[0m \u001b[0;32min\u001b[0m \u001b[0mAN\u001b[0m\u001b[0;34m]\u001b[0m\u001b[0;34m)\u001b[0m\u001b[0;34m\u001b[0m\u001b[0m\n\u001b[1;32m      3\u001b[0m \u001b[0mbin\u001b[0m\u001b[0;34m(\u001b[0m\u001b[0mAN\u001b[0m\u001b[0;34m,\u001b[0m \u001b[0mWordSize\u001b[0m\u001b[0;34m)\u001b[0m\u001b[0;34m,\u001b[0m \u001b[0mANBin\u001b[0m\u001b[0;34m,\u001b[0m \u001b[0mbin\u001b[0m\u001b[0;34m(\u001b[0m\u001b[0mAN\u001b[0m\u001b[0;34m,\u001b[0m \u001b[0mWordSize\u001b[0m\u001b[0;34m)\u001b[0m\u001b[0;34m==\u001b[0m\u001b[0mANBin\u001b[0m\u001b[0;34m\u001b[0m\u001b[0m\n\u001b[1;32m      4\u001b[0m \u001b[0;34m\u001b[0m\u001b[0m\n\u001b[1;32m      5\u001b[0m \u001b[0mAN\u001b[0m\u001b[0;34m\u001b[0m\u001b[0m\n",
      "\u001b[0;32m~/anaconda3/lib/python3.6/site-packages/myhdl/_concat.py\u001b[0m in \u001b[0;36mconcat\u001b[0;34m(base, *args)\u001b[0m\n\u001b[1;32m     81\u001b[0m \u001b[0;34m\u001b[0m\u001b[0m\n\u001b[1;32m     82\u001b[0m     \u001b[0;32mif\u001b[0m \u001b[0mbasewidth\u001b[0m\u001b[0;34m:\u001b[0m\u001b[0;34m\u001b[0m\u001b[0m\n\u001b[0;32m---> 83\u001b[0;31m         \u001b[0;32mreturn\u001b[0m \u001b[0mintbv\u001b[0m\u001b[0;34m(\u001b[0m\u001b[0mval\u001b[0m\u001b[0;34m,\u001b[0m \u001b[0m_nrbits\u001b[0m\u001b[0;34m=\u001b[0m\u001b[0mbasewidth\u001b[0m \u001b[0;34m+\u001b[0m \u001b[0mwidth\u001b[0m\u001b[0;34m)\u001b[0m\u001b[0;34m\u001b[0m\u001b[0m\n\u001b[0m\u001b[1;32m     84\u001b[0m     \u001b[0;32melse\u001b[0m\u001b[0;34m:\u001b[0m\u001b[0;34m\u001b[0m\u001b[0m\n\u001b[1;32m     85\u001b[0m         \u001b[0;32mreturn\u001b[0m \u001b[0mintbv\u001b[0m\u001b[0;34m(\u001b[0m\u001b[0mval\u001b[0m\u001b[0;34m)\u001b[0m\u001b[0;34m\u001b[0m\u001b[0m\n",
      "\u001b[0;32m~/anaconda3/lib/python3.6/site-packages/myhdl/_intbv.py\u001b[0m in \u001b[0;36m__init__\u001b[0;34m(self, val, min, max, _nrbits)\u001b[0m\n\u001b[1;32m     58\u001b[0m             \u001b[0;32mraise\u001b[0m \u001b[0mTypeError\u001b[0m\u001b[0;34m(\u001b[0m\u001b[0;34m\"intbv constructor arg should be int or string\"\u001b[0m\u001b[0;34m)\u001b[0m\u001b[0;34m\u001b[0m\u001b[0m\n\u001b[1;32m     59\u001b[0m         \u001b[0mself\u001b[0m\u001b[0;34m.\u001b[0m\u001b[0m_nrbits\u001b[0m \u001b[0;34m=\u001b[0m \u001b[0m_nrbits\u001b[0m\u001b[0;34m\u001b[0m\u001b[0m\n\u001b[0;32m---> 60\u001b[0;31m         \u001b[0mself\u001b[0m\u001b[0;34m.\u001b[0m\u001b[0m_handleBounds\u001b[0m\u001b[0;34m(\u001b[0m\u001b[0;34m)\u001b[0m\u001b[0;34m\u001b[0m\u001b[0m\n\u001b[0m\u001b[1;32m     61\u001b[0m \u001b[0;34m\u001b[0m\u001b[0m\n\u001b[1;32m     62\u001b[0m     \u001b[0;31m# support for the 'min' and 'max' attribute\u001b[0m\u001b[0;34m\u001b[0m\u001b[0;34m\u001b[0m\u001b[0m\n",
      "\u001b[0;32m~/anaconda3/lib/python3.6/site-packages/myhdl/_intbv.py\u001b[0m in \u001b[0;36m_handleBounds\u001b[0;34m(self)\u001b[0m\n\u001b[1;32m     77\u001b[0m             \u001b[0;32mif\u001b[0m \u001b[0mself\u001b[0m\u001b[0;34m.\u001b[0m\u001b[0m_val\u001b[0m \u001b[0;34m<\u001b[0m \u001b[0mself\u001b[0m\u001b[0;34m.\u001b[0m\u001b[0m_min\u001b[0m\u001b[0;34m:\u001b[0m\u001b[0;34m\u001b[0m\u001b[0m\n\u001b[1;32m     78\u001b[0m                 raise ValueError(\"intbv value %s < minimum %s\" %\n\u001b[0;32m---> 79\u001b[0;31m                                  (self._val, self._min))\n\u001b[0m\u001b[1;32m     80\u001b[0m \u001b[0;34m\u001b[0m\u001b[0m\n\u001b[1;32m     81\u001b[0m     \u001b[0;32mdef\u001b[0m \u001b[0m_hasFullRange\u001b[0m\u001b[0;34m(\u001b[0m\u001b[0mself\u001b[0m\u001b[0;34m)\u001b[0m\u001b[0;34m:\u001b[0m\u001b[0;34m\u001b[0m\u001b[0m\n",
      "\u001b[0;31mValueError\u001b[0m: intbv value -1073684480 < minimum 0"
     ]
    }
   ],
   "source": [
    "AN=concat(RN, IN).signed()\n",
    "ANBin=''.join([str(int(i)) for i in AN])\n",
    "bin(AN, WordSize), ANBin, bin(AN, WordSize)==ANBin \n",
    "\n",
    "AN"
   ]
  },
  {
   "cell_type": "code",
   "execution_count": 22,
   "metadata": {},
   "outputs": [
    {
     "data": {
      "text/plain": [
       "(intbv(16384), intbv(-16384), False, intbv(8192), intbv(-8192), False)"
      ]
     },
     "execution_count": 22,
     "metadata": {},
     "output_type": "execute_result"
    }
   ],
   "source": [
    "RNBack=AN[:ReWordLen]; INBack=AN[ImWordLen:]\n",
    "RNBack.signed(), RN.signed(), RNBack.signed()==RN.signed(), INBack.signed(), IN.signed(), INBack.signed()==IN.signed()"
   ]
  },
  {
   "cell_type": "markdown",
   "metadata": {},
   "source": [
    "# Algorithm test"
   ]
  },
  {
   "cell_type": "markdown",
   "metadata": {},
   "source": [
    "Here we prototype the algorithm using myHDL types without explicit HDL type code that will be developed in the final algorithm."
   ]
  },
  {
   "cell_type": "markdown",
   "metadata": {},
   "source": [
    "##  \n",
    "Calc the min/max for the real and imaginary number in 2's complement based on the allowed word size for real and imaginary"
   ]
  },
  {
   "cell_type": "code",
   "execution_count": 23,
   "metadata": {},
   "outputs": [
    {
     "data": {
      "image/png": "[encoded data removed]",
      "text/latex": [
       "$$\\left ( 32767, \\quad -32768\\right )$$"
      ],
      "text/plain": [
       "(32767, -32768)"
      ]
     },
     "execution_count": 23,
     "metadata": {},
     "output_type": "execute_result"
    }
   ],
   "source": [
    "ReMax=(2**(ReWordLen-1)-1); ReMin=-2**(ReWordLen-1)\n",
    "ReMax, ReMin"
   ]
  },
  {
   "cell_type": "code",
   "execution_count": 24,
   "metadata": {},
   "outputs": [
    {
     "data": {
      "image/png": "[encoded data removed]",
      "text/latex": [
       "$$\\left ( 32767, \\quad -32768\\right )$$"
      ],
      "text/plain": [
       "(32767, -32768)"
      ]
     },
     "execution_count": 24,
     "metadata": {},
     "output_type": "execute_result"
    }
   ],
   "source": [
    "ImMax=(2**(ImWordLen-1)-1); ImMin=-2**(ImWordLen-1)\n",
    "ImMax, ImMin"
   ]
  },
  {
   "cell_type": "markdown",
   "metadata": {},
   "source": [
    "Create a Test A number"
   ]
  },
  {
   "cell_type": "code",
   "execution_count": 25,
   "metadata": {},
   "outputs": [
    {
     "data": {
      "text/plain": [
       "(43-78j)"
      ]
     },
     "execution_count": 25,
     "metadata": {},
     "output_type": "execute_result"
    }
   ],
   "source": [
    "AVal=43-78j; AVal"
   ]
  },
  {
   "cell_type": "markdown",
   "metadata": {},
   "source": [
    "##  \n",
    "Create the $a$ and $b$ part of $A$, concat $a$ and $b$, Confirm that separating $A$ yields the original $a$ and $b$"
   ]
  },
  {
   "cell_type": "code",
   "execution_count": 26,
   "metadata": {},
   "outputs": [
    {
     "data": {
      "text/plain": [
       "intbv(43)"
      ]
     },
     "execution_count": 26,
     "metadata": {},
     "output_type": "execute_result"
    }
   ],
   "source": [
    "a=intbv(int(np.real(AVal)), min=ReMin, max=ReMax); a.signed()"
   ]
  },
  {
   "cell_type": "code",
   "execution_count": 27,
   "metadata": {},
   "outputs": [
    {
     "data": {
      "text/plain": [
       "intbv(-78)"
      ]
     },
     "execution_count": 27,
     "metadata": {},
     "output_type": "execute_result"
    }
   ],
   "source": [
    "b=intbv(int(np.imag(AVal)), min=ImMin, max=ImMax); b.signed()"
   ]
  },
  {
   "cell_type": "code",
   "execution_count": 28,
   "metadata": {},
   "outputs": [
    {
     "data": {
      "text/plain": [
       "(intbv(2883506), intbv(2883506))"
      ]
     },
     "execution_count": 28,
     "metadata": {},
     "output_type": "execute_result"
    }
   ],
   "source": [
    "A=concat(a, b); A, A.signed()"
   ]
  },
  {
   "cell_type": "code",
   "execution_count": 29,
   "metadata": {},
   "outputs": [
    {
     "data": {
      "text/plain": [
       "(intbv(43), intbv(-78))"
      ]
     },
     "execution_count": 29,
     "metadata": {},
     "output_type": "execute_result"
    }
   ],
   "source": [
    "a=intbv(A[:ReWordLen].signed(), min=ReMin, max=ReMax)\n",
    "b=intbv(A[ImWordLen:].signed(), min=ImMin, max=ReMax)\n",
    "a, b, "
   ]
  },
  {
   "cell_type": "markdown",
   "metadata": {},
   "source": [
    " Perform the same action as above but on $B$"
   ]
  },
  {
   "cell_type": "code",
   "execution_count": 30,
   "metadata": {},
   "outputs": [
    {
     "data": {
      "text/plain": [
       "(1+123j)"
      ]
     },
     "execution_count": 30,
     "metadata": {},
     "output_type": "execute_result"
    }
   ],
   "source": [
    "BVal=1+123j; BVal"
   ]
  },
  {
   "cell_type": "code",
   "execution_count": 31,
   "metadata": {},
   "outputs": [
    {
     "data": {
      "text/plain": [
       "intbv(1)"
      ]
     },
     "execution_count": 31,
     "metadata": {},
     "output_type": "execute_result"
    }
   ],
   "source": [
    "c=intbv(int(np.real(BVal)), min=ReMin, max=ReMax); c"
   ]
  },
  {
   "cell_type": "code",
   "execution_count": 32,
   "metadata": {},
   "outputs": [
    {
     "data": {
      "text/plain": [
       "intbv(123)"
      ]
     },
     "execution_count": 32,
     "metadata": {},
     "output_type": "execute_result"
    }
   ],
   "source": [
    "d=intbv(int(np.imag(BVal)), min=ImMin, max=ImMax); d"
   ]
  },
  {
   "cell_type": "code",
   "execution_count": 33,
   "metadata": {},
   "outputs": [
    {
     "data": {
      "text/plain": [
       "(intbv(65659), intbv(65659))"
      ]
     },
     "execution_count": 33,
     "metadata": {},
     "output_type": "execute_result"
    }
   ],
   "source": [
    "B=concat(c, d); B, B.signed()"
   ]
  },
  {
   "cell_type": "code",
   "execution_count": 34,
   "metadata": {},
   "outputs": [
    {
     "data": {
      "text/plain": [
       "(intbv(1), intbv(123))"
      ]
     },
     "execution_count": 34,
     "metadata": {},
     "output_type": "execute_result"
    }
   ],
   "source": [
    "c=intbv(B[:ReWordLen].signed(), min=ReMin, max=ReMax)\n",
    "d=intbv(B[ImWordLen:].signed(), min=ImMin, max=ImMax)\n",
    "c, d"
   ]
  },
  {
   "cell_type": "markdown",
   "metadata": {},
   "source": [
    "##  \n",
    "Use the separated $a, b, c, d$ from $A, B$ to then find the sup-product of $AB=(ac−bd)+i(ad+bc)$\n",
    "$$ac, bd \\in Re$$ $$ ad, bc \\in Im$$"
   ]
  },
  {
   "cell_type": "code",
   "execution_count": 35,
   "metadata": {},
   "outputs": [
    {
     "data": {
      "text/plain": [
       "(43.0, intbv(43), intbv(43))"
      ]
     },
     "execution_count": 35,
     "metadata": {},
     "output_type": "execute_result"
    }
   ],
   "source": [
    "ac=intbv(a*c, min=ReMin, max=ReMax)\n",
    "np.real(AVal)*np.real(BVal), ac, ac.signed()"
   ]
  },
  {
   "cell_type": "code",
   "execution_count": 36,
   "metadata": {},
   "outputs": [
    {
     "data": {
      "text/plain": [
       "(-9594.0, intbv(-9594), intbv(-9594))"
      ]
     },
     "execution_count": 36,
     "metadata": {},
     "output_type": "execute_result"
    }
   ],
   "source": [
    "bd=intbv(b.signed()*d.signed(), min=ImMin, max=ImMax)\n",
    "np.imag(AVal)*np.imag(BVal), bd, bd.signed()"
   ]
  },
  {
   "cell_type": "code",
   "execution_count": 37,
   "metadata": {},
   "outputs": [
    {
     "data": {
      "text/plain": [
       "(5289.0, intbv(5289), intbv(5289))"
      ]
     },
     "execution_count": 37,
     "metadata": {},
     "output_type": "execute_result"
    }
   ],
   "source": [
    "ad=intbv(a.signed()*d.signed(), min=min(ReMin, ImMin), max=max(ReMax, ImMax))\n",
    "np.real(AVal)*np.imag(BVal), ad, ad.signed()"
   ]
  },
  {
   "cell_type": "code",
   "execution_count": 38,
   "metadata": {},
   "outputs": [
    {
     "data": {
      "text/plain": [
       "(-78.0, intbv(-78), intbv(-78))"
      ]
     },
     "execution_count": 38,
     "metadata": {},
     "output_type": "execute_result"
    }
   ],
   "source": [
    "bc=intbv(b.signed()*c.signed(), min=min(ReMin, ImMin), max=max(ReMax, ImMax))\n",
    "np.imag(AVal)*np.real(BVal), bc, bc.signed()"
   ]
  },
  {
   "cell_type": "markdown",
   "metadata": {},
   "source": [
    "##  \n",
    "Find the difference of the real and the sum of the imaginary  products "
   ]
  },
  {
   "cell_type": "code",
   "execution_count": 39,
   "metadata": {},
   "outputs": [
    {
     "data": {
      "text/plain": [
       "(9637.0, intbv(9637))"
      ]
     },
     "execution_count": 39,
     "metadata": {},
     "output_type": "execute_result"
    }
   ],
   "source": [
    "Re=intbv(ac-bd, min=min(ac.min, bd.min), max=max(ac.max, bd.max))\n",
    "np.real(AVal)*np.real(BVal)-np.imag(AVal)*np.imag(BVal), Re.signed()"
   ]
  },
  {
   "cell_type": "code",
   "execution_count": 40,
   "metadata": {},
   "outputs": [
    {
     "data": {
      "text/plain": [
       "(5211.0, intbv(5211), intbv(5211))"
      ]
     },
     "execution_count": 40,
     "metadata": {},
     "output_type": "execute_result"
    }
   ],
   "source": [
    "Im=intbv(ad+bc, min=min(ad.min, bc.min), max=max(ad.max, bc.max))\n",
    "np.real(AVal)*np.imag(BVal)+np.imag(AVal)*np.real(BVal), Im, Im.signed()"
   ]
  },
  {
   "cell_type": "code",
   "execution_count": 41,
   "metadata": {},
   "outputs": [
    {
     "data": {
      "text/plain": [
       "(9637+5211j)"
      ]
     },
     "execution_count": 41,
     "metadata": {},
     "output_type": "execute_result"
    }
   ],
   "source": [
    "AVal*BVal"
   ]
  },
  {
   "cell_type": "markdown",
   "metadata": {},
   "source": [
    "##  \n",
    "Concat the $Re$ and $Im$ and according to the concatenation rule to a single number"
   ]
  },
  {
   "cell_type": "code",
   "execution_count": 42,
   "metadata": {},
   "outputs": [
    {
     "data": {
      "text/plain": [
       "('00100101101001010001010001011011', '00100101101001010001010001011011')"
      ]
     },
     "execution_count": 42,
     "metadata": {},
     "output_type": "execute_result"
    }
   ],
   "source": [
    "Result=concat(Re, Im)\n",
    "bin(Re, Re._nrbits)+bin(Im, Im._nrbits), ''.join([str(int(i)) for i in Result])"
   ]
  },
  {
   "cell_type": "markdown",
   "metadata": {},
   "source": [
    "# myHDL Implementation\n",
    "## Concat issue\n",
    "The 'concat' is not seeing the inputs as Signal `intbv`"
   ]
  },
  {
   "cell_type": "markdown",
   "metadata": {},
   "source": [
    "<p align='center'>\n",
    "<img src='ComplexMultiplierDrawings.png'>\n"
   ]
  },
  {
   "cell_type": "code",
   "execution_count": 43,
   "metadata": {},
   "outputs": [],
   "source": [
    "@block\n",
    "def CompMulti(A, B, C, ReWordLen=ReWordLen, ImWordLen=ImWordLen):\n",
    "    \"\"\"\n",
    "    Module to implement  the complex multiplication of two complex numbers\n",
    "    \n",
    "    Inputs:\n",
    "        A: A 2's `concat` of the input complex number where\n",
    "        the input word is a ` concat` according to ReIm\n",
    "        B: A 2's `concat` of the input complex number where\n",
    "        input word is a `concat` according to ReIm\n",
    "    Outputs:\n",
    "        C: A 2's `concat` of the output  complex number product\n",
    "        where output world is a `concat` according to ReIm\n",
    "        \n",
    "    Conversion Parameters;\n",
    "        ReWordLen: The word len of the real part of `concat` word\n",
    "        ImWordLen: The word len of the imag part of `concat` word\n",
    "    \"\"\" \n",
    "    #calc the min max of the based on ReWord and ImWord length\n",
    "    ReMax=(2**(ReWordLen-1)-1); ReMin=-2**(ReWordLen-1)\n",
    "    ImMax=(2**(ImWordLen-1)-1); ImMin=-2**(ImWordLen-1)\n",
    "    \n",
    "    #create the regeistors to hold the procuct results\n",
    "    ac=Signal(intbv(0, min=ReMin, max=ReMax))\n",
    "    bd=Signal(intbv(0, min=ImMin, max=ImMax))\n",
    "    ad=Signal(intbv(0, min=min(ReMin, ImMin), max=max(ReMax, ImMax)))\n",
    "    bc=Signal(intbv(0, min=min(ReMin, ImMin), max=max(ReMax, ImMax)))\n",
    "    \n",
    "    @always_comb\n",
    "    def SepMulti():\n",
    "        \"\"\"\n",
    "        The combinational logic to separate input words into components and \n",
    "        find multiplication products\n",
    "        \"\"\"\n",
    "        ac.next=A[:ReWordLen] *B[:ReWordLen]\n",
    "        bd.next=A[ImWordLen:]*B[ImWordLen:]\n",
    "        ad.next=A[:ReWordLen]*B[ImWordLen:]\n",
    "        bc.next=A[ImWordLen:]*B[:ReWordLen]\n",
    "    \n",
    "    #will fix when Concat is working properly\n",
    "    #@always_comb\n",
    "    #def AddSupConcat():\n",
    "    #    \"\"\"\n",
    "    #    Perfrom the real sup, im addtion, and concat based on\n",
    "    #    ReIm to final output\n",
    "    #    \"\"\"\n",
    "    #    \n",
    "    #    C.next=concat(ac-bd, ad+bc)\n",
    "        \n",
    "    \n",
    "    return instances()\n",
    "\n",
    "\n",
    "\n",
    "\n"
   ]
  },
  {
   "cell_type": "markdown",
   "metadata": {},
   "source": [
    "# Testing"
   ]
  },
  {
   "cell_type": "markdown",
   "metadata": {},
   "source": [
    "Generate random number within word size bounds for testing"
   ]
  },
  {
   "cell_type": "code",
   "execution_count": 44,
   "metadata": {},
   "outputs": [
    {
     "data": {
      "text/html": [
       "<div>\n",
       "<style scoped>\n",
       "    .dataframe tbody tr th:only-of-type {\n",
       "        vertical-align: middle;\n",
       "    }\n",
       "\n",
       "    .dataframe tbody tr th {\n",
       "        vertical-align: top;\n",
       "    }\n",
       "\n",
       "    .dataframe thead th {\n",
       "        text-align: right;\n",
       "    }\n",
       "</style>\n",
       "<table border=\"1\" class=\"dataframe\">\n",
       "  <thead>\n",
       "    <tr style=\"text-align: right;\">\n",
       "      <th></th>\n",
       "      <th>a</th>\n",
       "      <th>b</th>\n",
       "      <th>c</th>\n",
       "      <th>d</th>\n",
       "    </tr>\n",
       "  </thead>\n",
       "  <tbody>\n",
       "    <tr>\n",
       "      <th>0</th>\n",
       "      <td>3143</td>\n",
       "      <td>-15296</td>\n",
       "      <td>13469</td>\n",
       "      <td>30206</td>\n",
       "    </tr>\n",
       "    <tr>\n",
       "      <th>1</th>\n",
       "      <td>10215</td>\n",
       "      <td>14709</td>\n",
       "      <td>21412</td>\n",
       "      <td>17320</td>\n",
       "    </tr>\n",
       "    <tr>\n",
       "      <th>2</th>\n",
       "      <td>15744</td>\n",
       "      <td>-12580</td>\n",
       "      <td>26497</td>\n",
       "      <td>-1141</td>\n",
       "    </tr>\n",
       "    <tr>\n",
       "      <th>3</th>\n",
       "      <td>30468</td>\n",
       "      <td>4266</td>\n",
       "      <td>6744</td>\n",
       "      <td>21633</td>\n",
       "    </tr>\n",
       "    <tr>\n",
       "      <th>4</th>\n",
       "      <td>23561</td>\n",
       "      <td>-25434</td>\n",
       "      <td>15982</td>\n",
       "      <td>-2695</td>\n",
       "    </tr>\n",
       "    <tr>\n",
       "      <th>5</th>\n",
       "      <td>19639</td>\n",
       "      <td>-32670</td>\n",
       "      <td>27638</td>\n",
       "      <td>18119</td>\n",
       "    </tr>\n",
       "    <tr>\n",
       "      <th>6</th>\n",
       "      <td>6150</td>\n",
       "      <td>4450</td>\n",
       "      <td>27930</td>\n",
       "      <td>30019</td>\n",
       "    </tr>\n",
       "    <tr>\n",
       "      <th>7</th>\n",
       "      <td>25268</td>\n",
       "      <td>14297</td>\n",
       "      <td>6706</td>\n",
       "      <td>-28529</td>\n",
       "    </tr>\n",
       "    <tr>\n",
       "      <th>8</th>\n",
       "      <td>18273</td>\n",
       "      <td>22261</td>\n",
       "      <td>20847</td>\n",
       "      <td>-25957</td>\n",
       "    </tr>\n",
       "    <tr>\n",
       "      <th>9</th>\n",
       "      <td>20020</td>\n",
       "      <td>7935</td>\n",
       "      <td>28408</td>\n",
       "      <td>-6459</td>\n",
       "    </tr>\n",
       "    <tr>\n",
       "      <th>10</th>\n",
       "      <td>15802</td>\n",
       "      <td>31674</td>\n",
       "      <td>29960</td>\n",
       "      <td>15397</td>\n",
       "    </tr>\n",
       "    <tr>\n",
       "      <th>11</th>\n",
       "      <td>4494</td>\n",
       "      <td>2355</td>\n",
       "      <td>23037</td>\n",
       "      <td>11069</td>\n",
       "    </tr>\n",
       "    <tr>\n",
       "      <th>12</th>\n",
       "      <td>12042</td>\n",
       "      <td>-13501</td>\n",
       "      <td>23779</td>\n",
       "      <td>9085</td>\n",
       "    </tr>\n",
       "    <tr>\n",
       "      <th>13</th>\n",
       "      <td>16009</td>\n",
       "      <td>-29555</td>\n",
       "      <td>22707</td>\n",
       "      <td>-21916</td>\n",
       "    </tr>\n",
       "    <tr>\n",
       "      <th>14</th>\n",
       "      <td>13162</td>\n",
       "      <td>22105</td>\n",
       "      <td>16898</td>\n",
       "      <td>-18823</td>\n",
       "    </tr>\n",
       "    <tr>\n",
       "      <th>15</th>\n",
       "      <td>1412</td>\n",
       "      <td>25354</td>\n",
       "      <td>19262</td>\n",
       "      <td>-18327</td>\n",
       "    </tr>\n",
       "    <tr>\n",
       "      <th>16</th>\n",
       "      <td>10871</td>\n",
       "      <td>-10812</td>\n",
       "      <td>2943</td>\n",
       "      <td>25673</td>\n",
       "    </tr>\n",
       "    <tr>\n",
       "      <th>17</th>\n",
       "      <td>11215</td>\n",
       "      <td>29743</td>\n",
       "      <td>14864</td>\n",
       "      <td>-5931</td>\n",
       "    </tr>\n",
       "    <tr>\n",
       "      <th>18</th>\n",
       "      <td>29977</td>\n",
       "      <td>-6786</td>\n",
       "      <td>20900</td>\n",
       "      <td>19193</td>\n",
       "    </tr>\n",
       "    <tr>\n",
       "      <th>19</th>\n",
       "      <td>29226</td>\n",
       "      <td>25438</td>\n",
       "      <td>13397</td>\n",
       "      <td>-836</td>\n",
       "    </tr>\n",
       "  </tbody>\n",
       "</table>\n",
       "</div>"
      ],
      "text/plain": [
       "        a      b      c      d\n",
       "0    3143 -15296  13469  30206\n",
       "1   10215  14709  21412  17320\n",
       "2   15744 -12580  26497  -1141\n",
       "3   30468   4266   6744  21633\n",
       "4   23561 -25434  15982  -2695\n",
       "5   19639 -32670  27638  18119\n",
       "6    6150   4450  27930  30019\n",
       "7   25268  14297   6706 -28529\n",
       "8   18273  22261  20847 -25957\n",
       "9   20020   7935  28408  -6459\n",
       "10  15802  31674  29960  15397\n",
       "11   4494   2355  23037  11069\n",
       "12  12042 -13501  23779   9085\n",
       "13  16009 -29555  22707 -21916\n",
       "14  13162  22105  16898 -18823\n",
       "15   1412  25354  19262 -18327\n",
       "16  10871 -10812   2943  25673\n",
       "17  11215  29743  14864  -5931\n",
       "18  29977  -6786  20900  19193\n",
       "19  29226  25438  13397   -836"
      ]
     },
     "execution_count": 44,
     "metadata": {},
     "output_type": "execute_result"
    }
   ],
   "source": [
    "#calc Bounds\n",
    "Max=(2**(WordSize-1)-1); Min=-2**(WordSize-1)\n",
    "ReMax=(2**(ReWordLen-1)-1); ReMin=-2**(ReWordLen-1)\n",
    "ImMax=(2**(ImWordLen-1)-1); ImMin=-2**(ImWordLen-1)\n",
    "\n",
    "#Create Testing Data\n",
    "Refrance=pd.DataFrame(columns=['a', 'b', 'c', 'd'])\n",
    "#Generate Testing data and bind values to DF\n",
    "for i in range(20):\n",
    "    a=random.sample(range(0, ReMax), 1)[0]\n",
    "    b=random.sample(range(ImMin, ImMax), 1)[0]\n",
    "    c=random.sample(range(0, ReMax), 1)[0]\n",
    "    d=random.sample(range(ImMin, ImMax), 1)[0]\n",
    "    Refrance.loc[Refrance.shape[0]]=[a, b, c, d]\n",
    "    \n",
    "#force the stored value in DF to be ints    \n",
    "Refrance=Refrance.astype(int)\n",
    "Refrance"
   ]
  },
  {
   "cell_type": "code",
   "execution_count": 45,
   "metadata": {},
   "outputs": [
    {
     "data": {
      "text/html": [
       "<div>\n",
       "<style scoped>\n",
       "    .dataframe tbody tr th:only-of-type {\n",
       "        vertical-align: middle;\n",
       "    }\n",
       "\n",
       "    .dataframe tbody tr th {\n",
       "        vertical-align: top;\n",
       "    }\n",
       "\n",
       "    .dataframe thead th {\n",
       "        text-align: right;\n",
       "    }\n",
       "</style>\n",
       "<table border=\"1\" class=\"dataframe\">\n",
       "  <thead>\n",
       "    <tr style=\"text-align: right;\">\n",
       "      <th></th>\n",
       "      <th>a</th>\n",
       "      <th>b</th>\n",
       "      <th>c</th>\n",
       "      <th>d</th>\n",
       "      <th>A</th>\n",
       "      <th>B</th>\n",
       "      <th>C</th>\n",
       "    </tr>\n",
       "  </thead>\n",
       "  <tbody>\n",
       "    <tr>\n",
       "      <th>0</th>\n",
       "      <td>3143</td>\n",
       "      <td>-15296</td>\n",
       "      <td>13469</td>\n",
       "      <td>30206</td>\n",
       "      <td>(3143-15296j)</td>\n",
       "      <td>(13469+30206j)</td>\n",
       "      <td>(504364043-111084366j)</td>\n",
       "    </tr>\n",
       "    <tr>\n",
       "      <th>1</th>\n",
       "      <td>10215</td>\n",
       "      <td>14709</td>\n",
       "      <td>21412</td>\n",
       "      <td>17320</td>\n",
       "      <td>(10215+14709j)</td>\n",
       "      <td>(21412+17320j)</td>\n",
       "      <td>(-36036300+491872908j)</td>\n",
       "    </tr>\n",
       "    <tr>\n",
       "      <th>2</th>\n",
       "      <td>15744</td>\n",
       "      <td>-12580</td>\n",
       "      <td>26497</td>\n",
       "      <td>-1141</td>\n",
       "      <td>(15744-12580j)</td>\n",
       "      <td>(26497-1141j)</td>\n",
       "      <td>(402814988-351296164j)</td>\n",
       "    </tr>\n",
       "    <tr>\n",
       "      <th>3</th>\n",
       "      <td>30468</td>\n",
       "      <td>4266</td>\n",
       "      <td>6744</td>\n",
       "      <td>21633</td>\n",
       "      <td>(30468+4266j)</td>\n",
       "      <td>(6744+21633j)</td>\n",
       "      <td>(113189814+687884148j)</td>\n",
       "    </tr>\n",
       "    <tr>\n",
       "      <th>4</th>\n",
       "      <td>23561</td>\n",
       "      <td>-25434</td>\n",
       "      <td>15982</td>\n",
       "      <td>-2695</td>\n",
       "      <td>(23561-25434j)</td>\n",
       "      <td>(15982-2695j)</td>\n",
       "      <td>(308007272-469983083j)</td>\n",
       "    </tr>\n",
       "    <tr>\n",
       "      <th>5</th>\n",
       "      <td>19639</td>\n",
       "      <td>-32670</td>\n",
       "      <td>27638</td>\n",
       "      <td>18119</td>\n",
       "      <td>(19639-32670j)</td>\n",
       "      <td>(27638+18119j)</td>\n",
       "      <td>(1134730412-547094419j)</td>\n",
       "    </tr>\n",
       "    <tr>\n",
       "      <th>6</th>\n",
       "      <td>6150</td>\n",
       "      <td>4450</td>\n",
       "      <td>27930</td>\n",
       "      <td>30019</td>\n",
       "      <td>(6150+4450j)</td>\n",
       "      <td>(27930+30019j)</td>\n",
       "      <td>(38184950+308905350j)</td>\n",
       "    </tr>\n",
       "    <tr>\n",
       "      <th>7</th>\n",
       "      <td>25268</td>\n",
       "      <td>14297</td>\n",
       "      <td>6706</td>\n",
       "      <td>-28529</td>\n",
       "      <td>(25268+14297j)</td>\n",
       "      <td>(6706-28529j)</td>\n",
       "      <td>(577326321-624995090j)</td>\n",
       "    </tr>\n",
       "    <tr>\n",
       "      <th>8</th>\n",
       "      <td>18273</td>\n",
       "      <td>22261</td>\n",
       "      <td>20847</td>\n",
       "      <td>-25957</td>\n",
       "      <td>(18273+22261j)</td>\n",
       "      <td>(20847-25957j)</td>\n",
       "      <td>(958766008-10237194j)</td>\n",
       "    </tr>\n",
       "    <tr>\n",
       "      <th>9</th>\n",
       "      <td>20020</td>\n",
       "      <td>7935</td>\n",
       "      <td>28408</td>\n",
       "      <td>-6459</td>\n",
       "      <td>(20020+7935j)</td>\n",
       "      <td>(28408-6459j)</td>\n",
       "      <td>(619980325+96108300j)</td>\n",
       "    </tr>\n",
       "    <tr>\n",
       "      <th>10</th>\n",
       "      <td>15802</td>\n",
       "      <td>31674</td>\n",
       "      <td>29960</td>\n",
       "      <td>15397</td>\n",
       "      <td>(15802+31674j)</td>\n",
       "      <td>(29960+15397j)</td>\n",
       "      <td>(-14256658+1192256434j)</td>\n",
       "    </tr>\n",
       "    <tr>\n",
       "      <th>11</th>\n",
       "      <td>4494</td>\n",
       "      <td>2355</td>\n",
       "      <td>23037</td>\n",
       "      <td>11069</td>\n",
       "      <td>(4494+2355j)</td>\n",
       "      <td>(23037+11069j)</td>\n",
       "      <td>(77460783+103996221j)</td>\n",
       "    </tr>\n",
       "    <tr>\n",
       "      <th>12</th>\n",
       "      <td>12042</td>\n",
       "      <td>-13501</td>\n",
       "      <td>23779</td>\n",
       "      <td>9085</td>\n",
       "      <td>(12042-13501j)</td>\n",
       "      <td>(23779+9085j)</td>\n",
       "      <td>(409003303-211638709j)</td>\n",
       "    </tr>\n",
       "    <tr>\n",
       "      <th>13</th>\n",
       "      <td>16009</td>\n",
       "      <td>-29555</td>\n",
       "      <td>22707</td>\n",
       "      <td>-21916</td>\n",
       "      <td>(16009-29555j)</td>\n",
       "      <td>(22707-21916j)</td>\n",
       "      <td>(-284211017-1021958629j)</td>\n",
       "    </tr>\n",
       "    <tr>\n",
       "      <th>14</th>\n",
       "      <td>13162</td>\n",
       "      <td>22105</td>\n",
       "      <td>16898</td>\n",
       "      <td>-18823</td>\n",
       "      <td>(13162+22105j)</td>\n",
       "      <td>(16898-18823j)</td>\n",
       "      <td>(638493891+125781964j)</td>\n",
       "    </tr>\n",
       "    <tr>\n",
       "      <th>15</th>\n",
       "      <td>1412</td>\n",
       "      <td>25354</td>\n",
       "      <td>19262</td>\n",
       "      <td>-18327</td>\n",
       "      <td>(1412+25354j)</td>\n",
       "      <td>(19262-18327j)</td>\n",
       "      <td>(491860702+462491024j)</td>\n",
       "    </tr>\n",
       "    <tr>\n",
       "      <th>16</th>\n",
       "      <td>10871</td>\n",
       "      <td>-10812</td>\n",
       "      <td>2943</td>\n",
       "      <td>25673</td>\n",
       "      <td>(10871-10812j)</td>\n",
       "      <td>(2943+25673j)</td>\n",
       "      <td>(309569829+247271467j)</td>\n",
       "    </tr>\n",
       "    <tr>\n",
       "      <th>17</th>\n",
       "      <td>11215</td>\n",
       "      <td>29743</td>\n",
       "      <td>14864</td>\n",
       "      <td>-5931</td>\n",
       "      <td>(11215+29743j)</td>\n",
       "      <td>(14864-5931j)</td>\n",
       "      <td>(343105493+375583787j)</td>\n",
       "    </tr>\n",
       "    <tr>\n",
       "      <th>18</th>\n",
       "      <td>29977</td>\n",
       "      <td>-6786</td>\n",
       "      <td>20900</td>\n",
       "      <td>19193</td>\n",
       "      <td>(29977-6786j)</td>\n",
       "      <td>(20900+19193j)</td>\n",
       "      <td>(756762998+433521161j)</td>\n",
       "    </tr>\n",
       "    <tr>\n",
       "      <th>19</th>\n",
       "      <td>29226</td>\n",
       "      <td>25438</td>\n",
       "      <td>13397</td>\n",
       "      <td>-836</td>\n",
       "      <td>(29226+25438j)</td>\n",
       "      <td>(13397-836j)</td>\n",
       "      <td>(412806890+316359950j)</td>\n",
       "    </tr>\n",
       "  </tbody>\n",
       "</table>\n",
       "</div>"
      ],
      "text/plain": [
       "        a      b      c      d               A               B  \\\n",
       "0    3143 -15296  13469  30206   (3143-15296j)  (13469+30206j)   \n",
       "1   10215  14709  21412  17320  (10215+14709j)  (21412+17320j)   \n",
       "2   15744 -12580  26497  -1141  (15744-12580j)   (26497-1141j)   \n",
       "3   30468   4266   6744  21633   (30468+4266j)   (6744+21633j)   \n",
       "4   23561 -25434  15982  -2695  (23561-25434j)   (15982-2695j)   \n",
       "5   19639 -32670  27638  18119  (19639-32670j)  (27638+18119j)   \n",
       "6    6150   4450  27930  30019    (6150+4450j)  (27930+30019j)   \n",
       "7   25268  14297   6706 -28529  (25268+14297j)   (6706-28529j)   \n",
       "8   18273  22261  20847 -25957  (18273+22261j)  (20847-25957j)   \n",
       "9   20020   7935  28408  -6459   (20020+7935j)   (28408-6459j)   \n",
       "10  15802  31674  29960  15397  (15802+31674j)  (29960+15397j)   \n",
       "11   4494   2355  23037  11069    (4494+2355j)  (23037+11069j)   \n",
       "12  12042 -13501  23779   9085  (12042-13501j)   (23779+9085j)   \n",
       "13  16009 -29555  22707 -21916  (16009-29555j)  (22707-21916j)   \n",
       "14  13162  22105  16898 -18823  (13162+22105j)  (16898-18823j)   \n",
       "15   1412  25354  19262 -18327   (1412+25354j)  (19262-18327j)   \n",
       "16  10871 -10812   2943  25673  (10871-10812j)   (2943+25673j)   \n",
       "17  11215  29743  14864  -5931  (11215+29743j)   (14864-5931j)   \n",
       "18  29977  -6786  20900  19193   (29977-6786j)  (20900+19193j)   \n",
       "19  29226  25438  13397   -836  (29226+25438j)    (13397-836j)   \n",
       "\n",
       "                           C  \n",
       "0     (504364043-111084366j)  \n",
       "1     (-36036300+491872908j)  \n",
       "2     (402814988-351296164j)  \n",
       "3     (113189814+687884148j)  \n",
       "4     (308007272-469983083j)  \n",
       "5    (1134730412-547094419j)  \n",
       "6      (38184950+308905350j)  \n",
       "7     (577326321-624995090j)  \n",
       "8      (958766008-10237194j)  \n",
       "9      (619980325+96108300j)  \n",
       "10   (-14256658+1192256434j)  \n",
       "11     (77460783+103996221j)  \n",
       "12    (409003303-211638709j)  \n",
       "13  (-284211017-1021958629j)  \n",
       "14    (638493891+125781964j)  \n",
       "15    (491860702+462491024j)  \n",
       "16    (309569829+247271467j)  \n",
       "17    (343105493+375583787j)  \n",
       "18    (756762998+433521161j)  \n",
       "19    (412806890+316359950j)  "
      ]
     },
     "execution_count": 45,
     "metadata": {},
     "output_type": "execute_result"
    }
   ],
   "source": [
    "#calc exspected results\n",
    "RefranceResults=Refrance.copy()\n",
    "RefranceResults['A']=RefranceResults['a']+1j*RefranceResults['b']\n",
    "RefranceResults['B']=RefranceResults['c']+1j*RefranceResults['d']\n",
    "RefranceResults['C']=RefranceResults['A']*RefranceResults['B']\n",
    "RefranceResults"
   ]
  },
  {
   "cell_type": "code",
   "execution_count": 46,
   "metadata": {},
   "outputs": [],
   "source": [
    "Peeker.clear()\n",
    "Max=(2**(WordSize-1)-1); Min=-2**(WordSize-1)\n",
    "ReMax=(2**(ReWordLen-1)-1); ReMin=-2**(ReWordLen-1)\n",
    "ImMax=(2**(ImWordLen-1)-1); ImMin=-2**(ImWordLen-1)\n",
    "\n",
    "A=Signal(intbv(0, min=Min, max=Max)); Peeker(A, 'A')\n",
    "B=Signal(intbv(0, min=Min, max=Max)); Peeker(B, 'B')\n",
    "C=Signal(intbv(0, min=Min, max=Max)); Peeker(C, 'C')\n",
    "a=Signal(intbv(0, min=ReMin, max=ReMax)); Peeker(a, 'a')\n",
    "b=Signal(intbv(0, min=ImMin, max=ImMax)); Peeker(b, 'b')\n",
    "c=Signal(intbv(0, min=ReMin, max=ReMax)); Peeker(c, 'c')\n",
    "d=Signal(intbv(0, min=ImMin, max=ImMax)); Peeker(d, 'd')\n",
    "\n",
    "DUT=CompMulti(A, B, C, ReWordLen=ReWordLen, ImWordLen=ImWordLen)\n",
    "\n",
    "def CompMulti_TB():\n",
    "    @instance\n",
    "    def Test():\n",
    "        for _, j in Refrance.iterrows():\n",
    "            a.next, b.next, c.next, d.next =j\n",
    "            print(a, b, c, d)\n",
    "            #A.next=concat(a, b); B.next=concat(c, d)\n",
    "            yield delay(1)\n",
    "        raise StopSimulation\n",
    "\n",
    "        \n",
    "    return instances()"
   ]
  },
  {
   "cell_type": "code",
   "execution_count": 47,
   "metadata": {},
   "outputs": [
    {
     "name": "stdout",
     "output_type": "stream",
     "text": [
      "0000 0000 0000 0000\n",
      "0c47 c440 349d 75fe\n",
      "27e7 3975 53a4 43a8\n",
      "3d80 cedc 6781 fb8b\n",
      "7704 10aa 1a58 5481\n",
      "5c09 9ca6 3e6e f579\n",
      "4cb7 8062 6bf6 46c7\n",
      "1806 1162 6d1a 7543\n",
      "62b4 37d9 1a32 908f\n",
      "4761 56f5 516f 9a9b\n",
      "4e34 1eff 6ef8 e6c5\n",
      "3dba 7bba 7508 3c25\n",
      "118e 0933 59fd 2b3d\n",
      "2f0a cb43 5ce3 237d\n",
      "3e89 8c8d 58b3 aa64\n",
      "336a 5659 4202 b679\n",
      "0584 630a 4b3e b869\n",
      "2a77 d5c4 0b7f 6449\n",
      "2bcf 742f 3a10 e8d5\n",
      "7519 e57e 51a4 4af9\n"
     ]
    },
    {
     "data": {
      "text/html": [
       "<div><script type=\"WaveDrom\">{\"signal\": [{\"name\": \"A\", \"wave\": \"=...................\", \"data\": [\"0\"]}, {\"name\": \"B\", \"wave\": \"=...................\", \"data\": [\"0\"]}, {\"name\": \"C\", \"wave\": \"=...................\", \"data\": [\"0\"]}, {\"name\": \"a\", \"wave\": \"====================\", \"data\": [\"3143\", \"27e7\", \"3d80\", \"7704\", \"5c09\", \"4cb7\", \"1806\", \"62b4\", \"4761\", \"4e34\", \"3dba\", \"118e\", \"2f0a\", \"3e89\", \"336a\", \"0584\", \"2a77\", \"2bcf\", \"7519\", \"29226\"]}, {\"name\": \"b[0]\", \"wave\": \"====================\", \"data\": [\"-15296\", \"3975\", \"cedc\", \"10aa\", \"9ca6\", \"8062\", \"1162\", \"37d9\", \"56f5\", \"1eff\", \"7bba\", \"0933\", \"cb43\", \"8c8d\", \"5659\", \"630a\", \"d5c4\", \"742f\", \"e57e\", \"25438\"]}, {\"name\": \"c[0]\", \"wave\": \"====================\", \"data\": [\"13469\", \"53a4\", \"6781\", \"1a58\", \"3e6e\", \"6bf6\", \"6d1a\", \"1a32\", \"516f\", \"6ef8\", \"7508\", \"59fd\", \"5ce3\", \"58b3\", \"4202\", \"4b3e\", \"0b7f\", \"3a10\", \"51a4\", \"13397\"]}, {\"name\": \"d[0]\", \"wave\": \"====================\", \"data\": [\"30206\", \"43a8\", \"fb8b\", \"5481\", \"f579\", \"46c7\", \"7543\", \"908f\", \"9a9b\", \"e6c5\", \"3c25\", \"2b3d\", \"237d\", \"aa64\", \"b679\", \"b869\", \"6449\", \"e8d5\", \"4af9\", \"-836\"]}]}</script></div>"
      ]
     },
     "metadata": {},
     "output_type": "display_data"
    },
    {
     "data": {
      "application/javascript": [
       "$.getScript(\"http://wavedrom.com/wavedrom.min.js\", function () {\n",
       "$.getScript(\"http://wavedrom.com/skins/default.js\", function () {\n",
       "WaveDrom.ProcessAll();});\n",
       "});\n"
      ]
     },
     "metadata": {},
     "output_type": "display_data"
    }
   ],
   "source": [
    "sim = Simulation(DUT, CompMulti_TB(), *Peeker.instances()).run()\n",
    "Peeker.to_wavedrom()"
   ]
  },
  {
   "cell_type": "markdown",
   "metadata": {},
   "source": [
    "# Conversion from myHDL to verilog/vhdl "
   ]
  },
  {
   "cell_type": "code",
   "execution_count": 48,
   "metadata": {},
   "outputs": [],
   "source": [
    "@block\n",
    "def CompMulti(A, B, C, ReWordLen=ReWordLen, ImWordLen=ImWordLen):\n",
    "    \"\"\"\n",
    "    Module to implent  the complex multibtion of two conplex numbers\n",
    "    \n",
    "    Inputs:\n",
    "        A: A 2's conplimint concat of the input complex number where\n",
    "        input workd is a concat according to ReIm\n",
    "        B: A 2's conplimint concat of the input complex number where\n",
    "        input workd is a concat according to ReIm\n",
    "    Outputs:\n",
    "        C: A 2's conplimint concat of the output  complex number product\n",
    "        where ouput wordd is a concat according to ReIm\n",
    "        \n",
    "    Conversion Parmters;\n",
    "        ReWordLen: The word len of the real part of concat word\n",
    "        ImWordLen: The word len of the imag part of concat word\n",
    "    \"\"\" \n",
    "    #calc the min max of the based on ReWord and ImWord length\n",
    "    ReMax=(2**(ReWordLen-1)-1); ReMin=-2**(ReWordLen-1)\n",
    "    ImMax=(2**(ImWordLen-1)-1); ImMin=-2**(ImWordLen-1)\n",
    "    \n",
    "    #create the regeistors to hold the procuct results\n",
    "    ac=Signal(intbv(0, min=ReMin, max=ReMax))\n",
    "    bd=Signal(intbv(0, min=ImMin, max=ImMax))\n",
    "    ad=Signal(intbv(0, min=min(ReMin, ImMin), max=max(ReMax, ImMax)))\n",
    "    bc=Signal(intbv(0, min=min(ReMin, ImMin), max=max(ReMax, ImMax)))\n",
    "    \n",
    "    @always_comb\n",
    "    def SepMulti():\n",
    "        \"\"\"\n",
    "        Compintion logic to sep input words into componets and \n",
    "        find multibilication products\n",
    "        \"\"\"\n",
    "        ac.next=A[:ReWordLen] *B[:ReWordLen]\n",
    "        bd.next=A[ImWordLen:]*B[ImWordLen:]\n",
    "        ad.next=A[:ReWordLen]*B[ImWordLen:]\n",
    "        bc.next=A[ImWordLen:]*B[:ReWordLen]\n",
    "    \n",
    "    @always_comb\n",
    "    def AddSupConcat():\n",
    "        \"\"\"\n",
    "        Perfrom the real sup, im addtion, and concat based on\n",
    "        ReIm to final output\n",
    "        \"\"\"\n",
    "        \n",
    "        C.next=concat(ac-bd, ad+bc)\n",
    "        \n",
    "    \n",
    "    return instances()\n",
    "\n",
    "\n",
    "\n",
    "\n"
   ]
  },
  {
   "cell_type": "code",
   "execution_count": 49,
   "metadata": {},
   "outputs": [],
   "source": [
    "#helper  functions to read in the .v and .vhd generated files into python\n",
    "def VerilogTextReader(loc, printresult=True):\n",
    "    with open(f'{loc}.v', 'r') as vText:\n",
    "        VerilogText=vText.read()\n",
    "    if printresult:\n",
    "        print(f'***Verilog modual from {loc}.v***\\n\\n', VerilogText)\n",
    "    return VerilogText\n",
    "\n",
    "def VHDLTextReader(loc, printresult=True):\n",
    "    with open(f'{loc}.vhd', 'r') as vText:\n",
    "        VerilogText=vText.read()\n",
    "    if printresult:\n",
    "        print(f'***VHDL modual from {loc}.vhd***\\n\\n', VerilogText)\n",
    "    return VerilogText"
   ]
  },
  {
   "cell_type": "code",
   "execution_count": 50,
   "metadata": {},
   "outputs": [],
   "source": [
    "A=Signal(intbv(0, min=Min, max=Max))\n",
    "B=Signal(intbv(0, min=Min, max=Max))\n",
    "C=Signal(intbv(0, min=Min, max=Max))"
   ]
  },
  {
   "cell_type": "code",
   "execution_count": 51,
   "metadata": {},
   "outputs": [],
   "source": [
    "DUT=CompMulti(A, B, C, ReWordLen=ReWordLen, ImWordLen=ImWordLen)"
   ]
  },
  {
   "cell_type": "markdown",
   "metadata": {},
   "source": [
    "## !! Concat issue in synthesis"
   ]
  },
  {
   "cell_type": "code",
   "execution_count": 52,
   "metadata": {},
   "outputs": [
    {
     "ename": "TypeError",
     "evalue": "concat: inappropriate argument type: <class 'int'>",
     "output_type": "error",
     "traceback": [
      "\u001b[0;31m---------------------------------------------------------------------------\u001b[0m",
      "\u001b[0;31mTypeError\u001b[0m                                 Traceback (most recent call last)",
      "\u001b[0;32m<ipython-input-52-9e2b96b2e237>\u001b[0m in \u001b[0;36m<module>\u001b[0;34m()\u001b[0m\n\u001b[0;32m----> 1\u001b[0;31m \u001b[0mDUT\u001b[0m\u001b[0;34m.\u001b[0m\u001b[0mconvert\u001b[0m\u001b[0;34m(\u001b[0m\u001b[0;34m)\u001b[0m\u001b[0;34m\u001b[0m\u001b[0m\n\u001b[0m",
      "\u001b[0;32m~/anaconda3/lib/python3.6/site-packages/myhdl/_block.py\u001b[0m in \u001b[0;36mconvert\u001b[0;34m(self, hdl, **kwargs)\u001b[0m\n\u001b[1;32m    340\u001b[0m         \u001b[0;32mfor\u001b[0m \u001b[0mk\u001b[0m\u001b[0;34m,\u001b[0m \u001b[0mv\u001b[0m \u001b[0;32min\u001b[0m \u001b[0mconv_attrs\u001b[0m\u001b[0;34m.\u001b[0m\u001b[0mitems\u001b[0m\u001b[0;34m(\u001b[0m\u001b[0;34m)\u001b[0m\u001b[0;34m:\u001b[0m\u001b[0;34m\u001b[0m\u001b[0m\n\u001b[1;32m    341\u001b[0m             \u001b[0msetattr\u001b[0m\u001b[0;34m(\u001b[0m\u001b[0mconverter\u001b[0m\u001b[0;34m,\u001b[0m \u001b[0mk\u001b[0m\u001b[0;34m,\u001b[0m \u001b[0mv\u001b[0m\u001b[0;34m)\u001b[0m\u001b[0;34m\u001b[0m\u001b[0m\n\u001b[0;32m--> 342\u001b[0;31m         \u001b[0;32mreturn\u001b[0m \u001b[0mconverter\u001b[0m\u001b[0;34m(\u001b[0m\u001b[0mself\u001b[0m\u001b[0;34m)\u001b[0m\u001b[0;34m\u001b[0m\u001b[0m\n\u001b[0m\u001b[1;32m    343\u001b[0m \u001b[0;34m\u001b[0m\u001b[0m\n\u001b[1;32m    344\u001b[0m     \u001b[0;32mdef\u001b[0m \u001b[0mconfig_sim\u001b[0m\u001b[0;34m(\u001b[0m\u001b[0mself\u001b[0m\u001b[0;34m,\u001b[0m \u001b[0mtrace\u001b[0m\u001b[0;34m=\u001b[0m\u001b[0;32mFalse\u001b[0m\u001b[0;34m,\u001b[0m \u001b[0;34m**\u001b[0m\u001b[0mkwargs\u001b[0m\u001b[0;34m)\u001b[0m \u001b[0;34m:\u001b[0m\u001b[0;34m\u001b[0m\u001b[0m\n",
      "\u001b[0;32m~/anaconda3/lib/python3.6/site-packages/myhdl/conversion/_toVerilog.py\u001b[0m in \u001b[0;36m__call__\u001b[0;34m(self, func, *args, **kwargs)\u001b[0m\n\u001b[1;32m    175\u001b[0m         \u001b[0;31m# print h.top\u001b[0m\u001b[0;34m\u001b[0m\u001b[0;34m\u001b[0m\u001b[0m\n\u001b[1;32m    176\u001b[0m         \u001b[0m_checkArgs\u001b[0m\u001b[0;34m(\u001b[0m\u001b[0marglist\u001b[0m\u001b[0;34m)\u001b[0m\u001b[0;34m\u001b[0m\u001b[0m\n\u001b[0;32m--> 177\u001b[0;31m         \u001b[0mgenlist\u001b[0m \u001b[0;34m=\u001b[0m \u001b[0m_analyzeGens\u001b[0m\u001b[0;34m(\u001b[0m\u001b[0marglist\u001b[0m\u001b[0;34m,\u001b[0m \u001b[0mh\u001b[0m\u001b[0;34m.\u001b[0m\u001b[0mabsnames\u001b[0m\u001b[0;34m)\u001b[0m\u001b[0;34m\u001b[0m\u001b[0m\n\u001b[0m\u001b[1;32m    178\u001b[0m         \u001b[0msiglist\u001b[0m\u001b[0;34m,\u001b[0m \u001b[0mmemlist\u001b[0m \u001b[0;34m=\u001b[0m \u001b[0m_analyzeSigs\u001b[0m\u001b[0;34m(\u001b[0m\u001b[0mh\u001b[0m\u001b[0;34m.\u001b[0m\u001b[0mhierarchy\u001b[0m\u001b[0;34m)\u001b[0m\u001b[0;34m\u001b[0m\u001b[0m\n\u001b[1;32m    179\u001b[0m         \u001b[0m_annotateTypes\u001b[0m\u001b[0;34m(\u001b[0m\u001b[0mgenlist\u001b[0m\u001b[0;34m)\u001b[0m\u001b[0;34m\u001b[0m\u001b[0m\n",
      "\u001b[0;32m~/anaconda3/lib/python3.6/site-packages/myhdl/conversion/_analyze.py\u001b[0m in \u001b[0;36m_analyzeGens\u001b[0;34m(top, absnames)\u001b[0m\n\u001b[1;32m    168\u001b[0m             \u001b[0;32melse\u001b[0m\u001b[0;34m:\u001b[0m\u001b[0;34m\u001b[0m\u001b[0m\n\u001b[1;32m    169\u001b[0m                 \u001b[0mv\u001b[0m \u001b[0;34m=\u001b[0m \u001b[0m_AnalyzeAlwaysDecoVisitor\u001b[0m\u001b[0;34m(\u001b[0m\u001b[0mtree\u001b[0m\u001b[0;34m,\u001b[0m \u001b[0mg\u001b[0m\u001b[0;34m.\u001b[0m\u001b[0msenslist\u001b[0m\u001b[0;34m)\u001b[0m\u001b[0;34m\u001b[0m\u001b[0m\n\u001b[0;32m--> 170\u001b[0;31m             \u001b[0mv\u001b[0m\u001b[0;34m.\u001b[0m\u001b[0mvisit\u001b[0m\u001b[0;34m(\u001b[0m\u001b[0mtree\u001b[0m\u001b[0;34m)\u001b[0m\u001b[0;34m\u001b[0m\u001b[0m\n\u001b[0m\u001b[1;32m    171\u001b[0m         \u001b[0;32melse\u001b[0m\u001b[0;34m:\u001b[0m  \u001b[0;31m# @instance\u001b[0m\u001b[0;34m\u001b[0m\u001b[0m\n\u001b[1;32m    172\u001b[0m             \u001b[0mf\u001b[0m \u001b[0;34m=\u001b[0m \u001b[0mg\u001b[0m\u001b[0;34m.\u001b[0m\u001b[0mgen\u001b[0m\u001b[0;34m.\u001b[0m\u001b[0mgi_frame\u001b[0m\u001b[0;34m\u001b[0m\u001b[0m\n",
      "\u001b[0;32m~/anaconda3/lib/python3.6/ast.py\u001b[0m in \u001b[0;36mvisit\u001b[0;34m(self, node)\u001b[0m\n\u001b[1;32m    251\u001b[0m         \u001b[0mmethod\u001b[0m \u001b[0;34m=\u001b[0m \u001b[0;34m'visit_'\u001b[0m \u001b[0;34m+\u001b[0m \u001b[0mnode\u001b[0m\u001b[0;34m.\u001b[0m\u001b[0m__class__\u001b[0m\u001b[0;34m.\u001b[0m\u001b[0m__name__\u001b[0m\u001b[0;34m\u001b[0m\u001b[0m\n\u001b[1;32m    252\u001b[0m         \u001b[0mvisitor\u001b[0m \u001b[0;34m=\u001b[0m \u001b[0mgetattr\u001b[0m\u001b[0;34m(\u001b[0m\u001b[0mself\u001b[0m\u001b[0;34m,\u001b[0m \u001b[0mmethod\u001b[0m\u001b[0;34m,\u001b[0m \u001b[0mself\u001b[0m\u001b[0;34m.\u001b[0m\u001b[0mgeneric_visit\u001b[0m\u001b[0;34m)\u001b[0m\u001b[0;34m\u001b[0m\u001b[0m\n\u001b[0;32m--> 253\u001b[0;31m         \u001b[0;32mreturn\u001b[0m \u001b[0mvisitor\u001b[0m\u001b[0;34m(\u001b[0m\u001b[0mnode\u001b[0m\u001b[0;34m)\u001b[0m\u001b[0;34m\u001b[0m\u001b[0m\n\u001b[0m\u001b[1;32m    254\u001b[0m \u001b[0;34m\u001b[0m\u001b[0m\n\u001b[1;32m    255\u001b[0m     \u001b[0;32mdef\u001b[0m \u001b[0mgeneric_visit\u001b[0m\u001b[0;34m(\u001b[0m\u001b[0mself\u001b[0m\u001b[0;34m,\u001b[0m \u001b[0mnode\u001b[0m\u001b[0;34m)\u001b[0m\u001b[0;34m:\u001b[0m\u001b[0;34m\u001b[0m\u001b[0m\n",
      "\u001b[0;32m~/anaconda3/lib/python3.6/site-packages/myhdl/conversion/_analyze.py\u001b[0m in \u001b[0;36mvisit_Module\u001b[0;34m(self, node)\u001b[0m\n\u001b[1;32m   1115\u001b[0m \u001b[0;34m\u001b[0m\u001b[0m\n\u001b[1;32m   1116\u001b[0m     \u001b[0;32mdef\u001b[0m \u001b[0mvisit_Module\u001b[0m\u001b[0;34m(\u001b[0m\u001b[0mself\u001b[0m\u001b[0;34m,\u001b[0m \u001b[0mnode\u001b[0m\u001b[0;34m)\u001b[0m\u001b[0;34m:\u001b[0m\u001b[0;34m\u001b[0m\u001b[0m\n\u001b[0;32m-> 1117\u001b[0;31m         \u001b[0m_AnalyzeBlockVisitor\u001b[0m\u001b[0;34m.\u001b[0m\u001b[0mvisit_Module\u001b[0m\u001b[0;34m(\u001b[0m\u001b[0mself\u001b[0m\u001b[0;34m,\u001b[0m \u001b[0mnode\u001b[0m\u001b[0;34m)\u001b[0m\u001b[0;34m\u001b[0m\u001b[0m\n\u001b[0m\u001b[1;32m   1118\u001b[0m         \u001b[0;32mif\u001b[0m \u001b[0mself\u001b[0m\u001b[0;34m.\u001b[0m\u001b[0mtree\u001b[0m\u001b[0;34m.\u001b[0m\u001b[0mkind\u001b[0m \u001b[0;34m==\u001b[0m \u001b[0m_kind\u001b[0m\u001b[0;34m.\u001b[0m\u001b[0mSIMPLE_ALWAYS_COMB\u001b[0m\u001b[0;34m:\u001b[0m\u001b[0;34m\u001b[0m\u001b[0m\n\u001b[1;32m   1119\u001b[0m             \u001b[0;32mfor\u001b[0m \u001b[0mn\u001b[0m \u001b[0;32min\u001b[0m \u001b[0mself\u001b[0m\u001b[0;34m.\u001b[0m\u001b[0mtree\u001b[0m\u001b[0;34m.\u001b[0m\u001b[0moutputs\u001b[0m\u001b[0;34m:\u001b[0m\u001b[0;34m\u001b[0m\u001b[0m\n",
      "\u001b[0;32m~/anaconda3/lib/python3.6/site-packages/myhdl/conversion/_analyze.py\u001b[0m in \u001b[0;36mvisit_Module\u001b[0;34m(self, node)\u001b[0m\n\u001b[1;32m   1066\u001b[0m \u001b[0;34m\u001b[0m\u001b[0m\n\u001b[1;32m   1067\u001b[0m     \u001b[0;32mdef\u001b[0m \u001b[0mvisit_Module\u001b[0m\u001b[0;34m(\u001b[0m\u001b[0mself\u001b[0m\u001b[0;34m,\u001b[0m \u001b[0mnode\u001b[0m\u001b[0;34m)\u001b[0m\u001b[0;34m:\u001b[0m\u001b[0;34m\u001b[0m\u001b[0m\n\u001b[0;32m-> 1068\u001b[0;31m         \u001b[0mself\u001b[0m\u001b[0;34m.\u001b[0m\u001b[0mgeneric_visit\u001b[0m\u001b[0;34m(\u001b[0m\u001b[0mnode\u001b[0m\u001b[0;34m)\u001b[0m\u001b[0;34m\u001b[0m\u001b[0m\n\u001b[0m\u001b[1;32m   1069\u001b[0m         \u001b[0;32mfor\u001b[0m \u001b[0mn\u001b[0m \u001b[0;32min\u001b[0m \u001b[0mself\u001b[0m\u001b[0;34m.\u001b[0m\u001b[0mtree\u001b[0m\u001b[0;34m.\u001b[0m\u001b[0moutputs\u001b[0m\u001b[0;34m:\u001b[0m\u001b[0;34m\u001b[0m\u001b[0m\n\u001b[1;32m   1070\u001b[0m             \u001b[0ms\u001b[0m \u001b[0;34m=\u001b[0m \u001b[0mself\u001b[0m\u001b[0;34m.\u001b[0m\u001b[0mtree\u001b[0m\u001b[0;34m.\u001b[0m\u001b[0msigdict\u001b[0m\u001b[0;34m[\u001b[0m\u001b[0mn\u001b[0m\u001b[0;34m]\u001b[0m\u001b[0;34m\u001b[0m\u001b[0m\n",
      "\u001b[0;32m~/anaconda3/lib/python3.6/ast.py\u001b[0m in \u001b[0;36mgeneric_visit\u001b[0;34m(self, node)\u001b[0m\n\u001b[1;32m    259\u001b[0m                 \u001b[0;32mfor\u001b[0m \u001b[0mitem\u001b[0m \u001b[0;32min\u001b[0m \u001b[0mvalue\u001b[0m\u001b[0;34m:\u001b[0m\u001b[0;34m\u001b[0m\u001b[0m\n\u001b[1;32m    260\u001b[0m                     \u001b[0;32mif\u001b[0m \u001b[0misinstance\u001b[0m\u001b[0;34m(\u001b[0m\u001b[0mitem\u001b[0m\u001b[0;34m,\u001b[0m \u001b[0mAST\u001b[0m\u001b[0;34m)\u001b[0m\u001b[0;34m:\u001b[0m\u001b[0;34m\u001b[0m\u001b[0m\n\u001b[0;32m--> 261\u001b[0;31m                         \u001b[0mself\u001b[0m\u001b[0;34m.\u001b[0m\u001b[0mvisit\u001b[0m\u001b[0;34m(\u001b[0m\u001b[0mitem\u001b[0m\u001b[0;34m)\u001b[0m\u001b[0;34m\u001b[0m\u001b[0m\n\u001b[0m\u001b[1;32m    262\u001b[0m             \u001b[0;32melif\u001b[0m \u001b[0misinstance\u001b[0m\u001b[0;34m(\u001b[0m\u001b[0mvalue\u001b[0m\u001b[0;34m,\u001b[0m \u001b[0mAST\u001b[0m\u001b[0;34m)\u001b[0m\u001b[0;34m:\u001b[0m\u001b[0;34m\u001b[0m\u001b[0m\n\u001b[1;32m    263\u001b[0m                 \u001b[0mself\u001b[0m\u001b[0;34m.\u001b[0m\u001b[0mvisit\u001b[0m\u001b[0;34m(\u001b[0m\u001b[0mvalue\u001b[0m\u001b[0;34m)\u001b[0m\u001b[0;34m\u001b[0m\u001b[0m\n",
      "\u001b[0;32m~/anaconda3/lib/python3.6/ast.py\u001b[0m in \u001b[0;36mvisit\u001b[0;34m(self, node)\u001b[0m\n\u001b[1;32m    251\u001b[0m         \u001b[0mmethod\u001b[0m \u001b[0;34m=\u001b[0m \u001b[0;34m'visit_'\u001b[0m \u001b[0;34m+\u001b[0m \u001b[0mnode\u001b[0m\u001b[0;34m.\u001b[0m\u001b[0m__class__\u001b[0m\u001b[0;34m.\u001b[0m\u001b[0m__name__\u001b[0m\u001b[0;34m\u001b[0m\u001b[0m\n\u001b[1;32m    252\u001b[0m         \u001b[0mvisitor\u001b[0m \u001b[0;34m=\u001b[0m \u001b[0mgetattr\u001b[0m\u001b[0;34m(\u001b[0m\u001b[0mself\u001b[0m\u001b[0;34m,\u001b[0m \u001b[0mmethod\u001b[0m\u001b[0;34m,\u001b[0m \u001b[0mself\u001b[0m\u001b[0;34m.\u001b[0m\u001b[0mgeneric_visit\u001b[0m\u001b[0;34m)\u001b[0m\u001b[0;34m\u001b[0m\u001b[0m\n\u001b[0;32m--> 253\u001b[0;31m         \u001b[0;32mreturn\u001b[0m \u001b[0mvisitor\u001b[0m\u001b[0;34m(\u001b[0m\u001b[0mnode\u001b[0m\u001b[0;34m)\u001b[0m\u001b[0;34m\u001b[0m\u001b[0m\n\u001b[0m\u001b[1;32m    254\u001b[0m \u001b[0;34m\u001b[0m\u001b[0m\n\u001b[1;32m    255\u001b[0m     \u001b[0;32mdef\u001b[0m \u001b[0mgeneric_visit\u001b[0m\u001b[0;34m(\u001b[0m\u001b[0mself\u001b[0m\u001b[0;34m,\u001b[0m \u001b[0mnode\u001b[0m\u001b[0;34m)\u001b[0m\u001b[0;34m:\u001b[0m\u001b[0;34m\u001b[0m\u001b[0m\n",
      "\u001b[0;32m~/anaconda3/lib/python3.6/site-packages/myhdl/conversion/_analyze.py\u001b[0m in \u001b[0;36mvisit_FunctionDef\u001b[0;34m(self, node)\u001b[0m\n\u001b[1;32m   1095\u001b[0m         \u001b[0mself\u001b[0m\u001b[0;34m.\u001b[0m\u001b[0mrefStack\u001b[0m\u001b[0;34m.\u001b[0m\u001b[0mpush\u001b[0m\u001b[0;34m(\u001b[0m\u001b[0;34m)\u001b[0m\u001b[0;34m\u001b[0m\u001b[0m\n\u001b[1;32m   1096\u001b[0m         \u001b[0;32mfor\u001b[0m \u001b[0mn\u001b[0m \u001b[0;32min\u001b[0m \u001b[0mnode\u001b[0m\u001b[0;34m.\u001b[0m\u001b[0mbody\u001b[0m\u001b[0;34m:\u001b[0m\u001b[0;34m\u001b[0m\u001b[0m\n\u001b[0;32m-> 1097\u001b[0;31m             \u001b[0mself\u001b[0m\u001b[0;34m.\u001b[0m\u001b[0mvisit\u001b[0m\u001b[0;34m(\u001b[0m\u001b[0mn\u001b[0m\u001b[0;34m)\u001b[0m\u001b[0;34m\u001b[0m\u001b[0m\n\u001b[0m\u001b[1;32m   1098\u001b[0m         \u001b[0mself\u001b[0m\u001b[0;34m.\u001b[0m\u001b[0mtree\u001b[0m\u001b[0;34m.\u001b[0m\u001b[0mkind\u001b[0m \u001b[0;34m=\u001b[0m \u001b[0m_kind\u001b[0m\u001b[0;34m.\u001b[0m\u001b[0mSIMPLE_ALWAYS_COMB\u001b[0m\u001b[0;34m\u001b[0m\u001b[0m\n\u001b[1;32m   1099\u001b[0m         \u001b[0;32mfor\u001b[0m \u001b[0mn\u001b[0m \u001b[0;32min\u001b[0m \u001b[0mnode\u001b[0m\u001b[0;34m.\u001b[0m\u001b[0mbody\u001b[0m\u001b[0;34m:\u001b[0m\u001b[0;34m\u001b[0m\u001b[0m\n",
      "\u001b[0;32m~/anaconda3/lib/python3.6/ast.py\u001b[0m in \u001b[0;36mvisit\u001b[0;34m(self, node)\u001b[0m\n\u001b[1;32m    251\u001b[0m         \u001b[0mmethod\u001b[0m \u001b[0;34m=\u001b[0m \u001b[0;34m'visit_'\u001b[0m \u001b[0;34m+\u001b[0m \u001b[0mnode\u001b[0m\u001b[0;34m.\u001b[0m\u001b[0m__class__\u001b[0m\u001b[0;34m.\u001b[0m\u001b[0m__name__\u001b[0m\u001b[0;34m\u001b[0m\u001b[0m\n\u001b[1;32m    252\u001b[0m         \u001b[0mvisitor\u001b[0m \u001b[0;34m=\u001b[0m \u001b[0mgetattr\u001b[0m\u001b[0;34m(\u001b[0m\u001b[0mself\u001b[0m\u001b[0;34m,\u001b[0m \u001b[0mmethod\u001b[0m\u001b[0;34m,\u001b[0m \u001b[0mself\u001b[0m\u001b[0;34m.\u001b[0m\u001b[0mgeneric_visit\u001b[0m\u001b[0;34m)\u001b[0m\u001b[0;34m\u001b[0m\u001b[0m\n\u001b[0;32m--> 253\u001b[0;31m         \u001b[0;32mreturn\u001b[0m \u001b[0mvisitor\u001b[0m\u001b[0;34m(\u001b[0m\u001b[0mnode\u001b[0m\u001b[0;34m)\u001b[0m\u001b[0;34m\u001b[0m\u001b[0m\n\u001b[0m\u001b[1;32m    254\u001b[0m \u001b[0;34m\u001b[0m\u001b[0m\n\u001b[1;32m    255\u001b[0m     \u001b[0;32mdef\u001b[0m \u001b[0mgeneric_visit\u001b[0m\u001b[0;34m(\u001b[0m\u001b[0mself\u001b[0m\u001b[0;34m,\u001b[0m \u001b[0mnode\u001b[0m\u001b[0;34m)\u001b[0m\u001b[0;34m:\u001b[0m\u001b[0;34m\u001b[0m\u001b[0m\n",
      "\u001b[0;32m~/anaconda3/lib/python3.6/site-packages/myhdl/conversion/_analyze.py\u001b[0m in \u001b[0;36mvisit_Assign\u001b[0;34m(self, node)\u001b[0m\n\u001b[1;32m    551\u001b[0m                 \u001b[0mself\u001b[0m\u001b[0;34m.\u001b[0m\u001b[0mtree\u001b[0m\u001b[0;34m.\u001b[0m\u001b[0mvardict\u001b[0m\u001b[0;34m[\u001b[0m\u001b[0mn\u001b[0m\u001b[0;34m]\u001b[0m \u001b[0;34m=\u001b[0m \u001b[0mobj\u001b[0m\u001b[0;34m\u001b[0m\u001b[0m\n\u001b[1;32m    552\u001b[0m         \u001b[0;32melse\u001b[0m\u001b[0;34m:\u001b[0m\u001b[0;34m\u001b[0m\u001b[0m\n\u001b[0;32m--> 553\u001b[0;31m             \u001b[0mself\u001b[0m\u001b[0;34m.\u001b[0m\u001b[0mvisit\u001b[0m\u001b[0;34m(\u001b[0m\u001b[0mvalue\u001b[0m\u001b[0;34m)\u001b[0m\u001b[0;34m\u001b[0m\u001b[0m\n\u001b[0m\u001b[1;32m    554\u001b[0m \u001b[0;34m\u001b[0m\u001b[0m\n\u001b[1;32m    555\u001b[0m     \u001b[0;32mdef\u001b[0m \u001b[0mvisit_AugAssign\u001b[0m\u001b[0;34m(\u001b[0m\u001b[0mself\u001b[0m\u001b[0;34m,\u001b[0m \u001b[0mnode\u001b[0m\u001b[0;34m)\u001b[0m\u001b[0;34m:\u001b[0m\u001b[0;34m\u001b[0m\u001b[0m\n",
      "\u001b[0;32m~/anaconda3/lib/python3.6/ast.py\u001b[0m in \u001b[0;36mvisit\u001b[0;34m(self, node)\u001b[0m\n\u001b[1;32m    251\u001b[0m         \u001b[0mmethod\u001b[0m \u001b[0;34m=\u001b[0m \u001b[0;34m'visit_'\u001b[0m \u001b[0;34m+\u001b[0m \u001b[0mnode\u001b[0m\u001b[0;34m.\u001b[0m\u001b[0m__class__\u001b[0m\u001b[0;34m.\u001b[0m\u001b[0m__name__\u001b[0m\u001b[0;34m\u001b[0m\u001b[0m\n\u001b[1;32m    252\u001b[0m         \u001b[0mvisitor\u001b[0m \u001b[0;34m=\u001b[0m \u001b[0mgetattr\u001b[0m\u001b[0;34m(\u001b[0m\u001b[0mself\u001b[0m\u001b[0;34m,\u001b[0m \u001b[0mmethod\u001b[0m\u001b[0;34m,\u001b[0m \u001b[0mself\u001b[0m\u001b[0;34m.\u001b[0m\u001b[0mgeneric_visit\u001b[0m\u001b[0;34m)\u001b[0m\u001b[0;34m\u001b[0m\u001b[0m\n\u001b[0;32m--> 253\u001b[0;31m         \u001b[0;32mreturn\u001b[0m \u001b[0mvisitor\u001b[0m\u001b[0;34m(\u001b[0m\u001b[0mnode\u001b[0m\u001b[0;34m)\u001b[0m\u001b[0;34m\u001b[0m\u001b[0m\n\u001b[0m\u001b[1;32m    254\u001b[0m \u001b[0;34m\u001b[0m\u001b[0m\n\u001b[1;32m    255\u001b[0m     \u001b[0;32mdef\u001b[0m \u001b[0mgeneric_visit\u001b[0m\u001b[0;34m(\u001b[0m\u001b[0mself\u001b[0m\u001b[0;34m,\u001b[0m \u001b[0mnode\u001b[0m\u001b[0;34m)\u001b[0m\u001b[0;34m:\u001b[0m\u001b[0;34m\u001b[0m\u001b[0m\n",
      "\u001b[0;32m~/anaconda3/lib/python3.6/site-packages/myhdl/conversion/_analyze.py\u001b[0m in \u001b[0;36mvisit_Call\u001b[0;34m(self, node)\u001b[0m\n\u001b[1;32m    583\u001b[0m             \u001b[0mnode\u001b[0m\u001b[0;34m.\u001b[0m\u001b[0mobj\u001b[0m \u001b[0;34m=\u001b[0m \u001b[0mself\u001b[0m\u001b[0;34m.\u001b[0m\u001b[0mgetVal\u001b[0m\u001b[0;34m(\u001b[0m\u001b[0mnode\u001b[0m\u001b[0;34m)\u001b[0m\u001b[0;34m\u001b[0m\u001b[0m\n\u001b[1;32m    584\u001b[0m         \u001b[0;32melif\u001b[0m \u001b[0mf\u001b[0m \u001b[0;32mis\u001b[0m \u001b[0mconcat\u001b[0m\u001b[0;34m:\u001b[0m\u001b[0;34m\u001b[0m\u001b[0m\n\u001b[0;32m--> 585\u001b[0;31m             \u001b[0mnode\u001b[0m\u001b[0;34m.\u001b[0m\u001b[0mobj\u001b[0m \u001b[0;34m=\u001b[0m \u001b[0mself\u001b[0m\u001b[0;34m.\u001b[0m\u001b[0mgetVal\u001b[0m\u001b[0;34m(\u001b[0m\u001b[0mnode\u001b[0m\u001b[0;34m)\u001b[0m\u001b[0;34m\u001b[0m\u001b[0m\n\u001b[0m\u001b[1;32m    586\u001b[0m         \u001b[0;32melif\u001b[0m \u001b[0mf\u001b[0m \u001b[0;32mis\u001b[0m \u001b[0mlen\u001b[0m\u001b[0;34m:\u001b[0m\u001b[0;34m\u001b[0m\u001b[0m\n\u001b[1;32m    587\u001b[0m             \u001b[0mself\u001b[0m\u001b[0;34m.\u001b[0m\u001b[0maccess\u001b[0m \u001b[0;34m=\u001b[0m \u001b[0m_access\u001b[0m\u001b[0;34m.\u001b[0m\u001b[0mUNKNOWN\u001b[0m\u001b[0;34m\u001b[0m\u001b[0m\n",
      "\u001b[0;32m~/anaconda3/lib/python3.6/site-packages/myhdl/conversion/_misc.py\u001b[0m in \u001b[0;36mgetVal\u001b[0;34m(self, node)\u001b[0m\n\u001b[1;32m    138\u001b[0m         \u001b[0mexpr\u001b[0m\u001b[0;34m.\u001b[0m\u001b[0mcol_offset\u001b[0m \u001b[0;34m=\u001b[0m \u001b[0mnode\u001b[0m\u001b[0;34m.\u001b[0m\u001b[0mcol_offset\u001b[0m\u001b[0;34m\u001b[0m\u001b[0m\n\u001b[1;32m    139\u001b[0m         \u001b[0mc\u001b[0m \u001b[0;34m=\u001b[0m \u001b[0mcompile\u001b[0m\u001b[0;34m(\u001b[0m\u001b[0mexpr\u001b[0m\u001b[0;34m,\u001b[0m \u001b[0;34m'<string>'\u001b[0m\u001b[0;34m,\u001b[0m \u001b[0;34m'eval'\u001b[0m\u001b[0;34m)\u001b[0m\u001b[0;34m\u001b[0m\u001b[0m\n\u001b[0;32m--> 140\u001b[0;31m         \u001b[0mval\u001b[0m \u001b[0;34m=\u001b[0m \u001b[0meval\u001b[0m\u001b[0;34m(\u001b[0m\u001b[0mc\u001b[0m\u001b[0;34m,\u001b[0m \u001b[0mself\u001b[0m\u001b[0;34m.\u001b[0m\u001b[0mtree\u001b[0m\u001b[0;34m.\u001b[0m\u001b[0msymdict\u001b[0m\u001b[0;34m,\u001b[0m \u001b[0mself\u001b[0m\u001b[0;34m.\u001b[0m\u001b[0mtree\u001b[0m\u001b[0;34m.\u001b[0m\u001b[0mvardict\u001b[0m\u001b[0;34m)\u001b[0m\u001b[0;34m\u001b[0m\u001b[0m\n\u001b[0m\u001b[1;32m    141\u001b[0m         \u001b[0;31m# val = eval(_unparse(node), self.tree.symdict, self.tree.vardict)\u001b[0m\u001b[0;34m\u001b[0m\u001b[0;34m\u001b[0m\u001b[0m\n\u001b[1;32m    142\u001b[0m         \u001b[0;32mreturn\u001b[0m \u001b[0mval\u001b[0m\u001b[0;34m\u001b[0m\u001b[0m\n",
      "\u001b[0;32m<string>\u001b[0m in \u001b[0;36m<module>\u001b[0;34m()\u001b[0m\n",
      "\u001b[0;32m~/anaconda3/lib/python3.6/site-packages/myhdl/_concat.py\u001b[0m in \u001b[0;36mconcat\u001b[0;34m(base, *args)\u001b[0m\n\u001b[1;32m     74\u001b[0m         \u001b[0;32melse\u001b[0m\u001b[0;34m:\u001b[0m\u001b[0;34m\u001b[0m\u001b[0m\n\u001b[1;32m     75\u001b[0m             raise TypeError(\"concat: inappropriate argument type: %s\"\n\u001b[0;32m---> 76\u001b[0;31m                             % type(arg))\n\u001b[0m\u001b[1;32m     77\u001b[0m         \u001b[0;32mif\u001b[0m \u001b[0;32mnot\u001b[0m \u001b[0mw\u001b[0m\u001b[0;34m:\u001b[0m\u001b[0;34m\u001b[0m\u001b[0m\n\u001b[1;32m     78\u001b[0m             \u001b[0;32mraise\u001b[0m \u001b[0mTypeError\u001b[0m\u001b[0;34m(\u001b[0m\u001b[0;34m\"concat: arg on pos %d should have length\"\u001b[0m \u001b[0;34m%\u001b[0m \u001b[0;34m(\u001b[0m\u001b[0mi\u001b[0m \u001b[0;34m+\u001b[0m \u001b[0;36m1\u001b[0m\u001b[0;34m)\u001b[0m\u001b[0;34m)\u001b[0m\u001b[0;34m\u001b[0m\u001b[0m\n",
      "\u001b[0;31mTypeError\u001b[0m: concat: inappropriate argument type: <class 'int'>"
     ]
    }
   ],
   "source": [
    "DUT.convert()"
   ]
  },
  {
   "cell_type": "code",
   "execution_count": 53,
   "metadata": {},
   "outputs": [
    {
     "name": "stdout",
     "output_type": "stream",
     "text": [
      "***Verilog modual from CompMulti.v***\n",
      "\n",
      " \n"
     ]
    }
   ],
   "source": [
    "_=VerilogTextReader('CompMulti', True)"
   ]
  },
  {
   "cell_type": "code",
   "execution_count": 54,
   "metadata": {},
   "outputs": [
    {
     "ename": "ConversionError",
     "evalue": "in file <ipython-input-48-f950e095a50b>, line 28:\n    Signal has multiple drivers: bc",
     "output_type": "error",
     "traceback": [
      "\u001b[0;31m---------------------------------------------------------------------------\u001b[0m",
      "\u001b[0;31mConversionError\u001b[0m                           Traceback (most recent call last)",
      "\u001b[0;32m<ipython-input-54-2db9fae1eb2f>\u001b[0m in \u001b[0;36m<module>\u001b[0;34m()\u001b[0m\n\u001b[0;32m----> 1\u001b[0;31m \u001b[0mDUT\u001b[0m\u001b[0;34m.\u001b[0m\u001b[0mconvert\u001b[0m\u001b[0;34m(\u001b[0m\u001b[0mhdl\u001b[0m\u001b[0;34m=\u001b[0m\u001b[0;34m'VHDL'\u001b[0m\u001b[0;34m)\u001b[0m\u001b[0;34m\u001b[0m\u001b[0m\n\u001b[0m",
      "\u001b[0;32m~/anaconda3/lib/python3.6/site-packages/myhdl/_block.py\u001b[0m in \u001b[0;36mconvert\u001b[0;34m(self, hdl, **kwargs)\u001b[0m\n\u001b[1;32m    340\u001b[0m         \u001b[0;32mfor\u001b[0m \u001b[0mk\u001b[0m\u001b[0;34m,\u001b[0m \u001b[0mv\u001b[0m \u001b[0;32min\u001b[0m \u001b[0mconv_attrs\u001b[0m\u001b[0;34m.\u001b[0m\u001b[0mitems\u001b[0m\u001b[0;34m(\u001b[0m\u001b[0;34m)\u001b[0m\u001b[0;34m:\u001b[0m\u001b[0;34m\u001b[0m\u001b[0m\n\u001b[1;32m    341\u001b[0m             \u001b[0msetattr\u001b[0m\u001b[0;34m(\u001b[0m\u001b[0mconverter\u001b[0m\u001b[0;34m,\u001b[0m \u001b[0mk\u001b[0m\u001b[0;34m,\u001b[0m \u001b[0mv\u001b[0m\u001b[0;34m)\u001b[0m\u001b[0;34m\u001b[0m\u001b[0m\n\u001b[0;32m--> 342\u001b[0;31m         \u001b[0;32mreturn\u001b[0m \u001b[0mconverter\u001b[0m\u001b[0;34m(\u001b[0m\u001b[0mself\u001b[0m\u001b[0;34m)\u001b[0m\u001b[0;34m\u001b[0m\u001b[0m\n\u001b[0m\u001b[1;32m    343\u001b[0m \u001b[0;34m\u001b[0m\u001b[0m\n\u001b[1;32m    344\u001b[0m     \u001b[0;32mdef\u001b[0m \u001b[0mconfig_sim\u001b[0m\u001b[0;34m(\u001b[0m\u001b[0mself\u001b[0m\u001b[0;34m,\u001b[0m \u001b[0mtrace\u001b[0m\u001b[0;34m=\u001b[0m\u001b[0;32mFalse\u001b[0m\u001b[0;34m,\u001b[0m \u001b[0;34m**\u001b[0m\u001b[0mkwargs\u001b[0m\u001b[0;34m)\u001b[0m \u001b[0;34m:\u001b[0m\u001b[0;34m\u001b[0m\u001b[0m\n",
      "\u001b[0;32m~/anaconda3/lib/python3.6/site-packages/myhdl/conversion/_toVHDL.py\u001b[0m in \u001b[0;36m__call__\u001b[0;34m(self, func, *args, **kwargs)\u001b[0m\n\u001b[1;32m    193\u001b[0m         \u001b[0marglist\u001b[0m \u001b[0;34m=\u001b[0m \u001b[0m_flatten\u001b[0m\u001b[0;34m(\u001b[0m\u001b[0mh\u001b[0m\u001b[0;34m.\u001b[0m\u001b[0mtop\u001b[0m\u001b[0;34m)\u001b[0m\u001b[0;34m\u001b[0m\u001b[0m\n\u001b[1;32m    194\u001b[0m         \u001b[0m_checkArgs\u001b[0m\u001b[0;34m(\u001b[0m\u001b[0marglist\u001b[0m\u001b[0;34m)\u001b[0m\u001b[0;34m\u001b[0m\u001b[0m\n\u001b[0;32m--> 195\u001b[0;31m         \u001b[0mgenlist\u001b[0m \u001b[0;34m=\u001b[0m \u001b[0m_analyzeGens\u001b[0m\u001b[0;34m(\u001b[0m\u001b[0marglist\u001b[0m\u001b[0;34m,\u001b[0m \u001b[0mh\u001b[0m\u001b[0;34m.\u001b[0m\u001b[0mabsnames\u001b[0m\u001b[0;34m)\u001b[0m\u001b[0;34m\u001b[0m\u001b[0m\n\u001b[0m\u001b[1;32m    196\u001b[0m         \u001b[0msiglist\u001b[0m\u001b[0;34m,\u001b[0m \u001b[0mmemlist\u001b[0m \u001b[0;34m=\u001b[0m \u001b[0m_analyzeSigs\u001b[0m\u001b[0;34m(\u001b[0m\u001b[0mh\u001b[0m\u001b[0;34m.\u001b[0m\u001b[0mhierarchy\u001b[0m\u001b[0;34m,\u001b[0m \u001b[0mhdl\u001b[0m\u001b[0;34m=\u001b[0m\u001b[0;34m'VHDL'\u001b[0m\u001b[0;34m)\u001b[0m\u001b[0;34m\u001b[0m\u001b[0m\n\u001b[1;32m    197\u001b[0m         \u001b[0;31m# print h.top\u001b[0m\u001b[0;34m\u001b[0m\u001b[0;34m\u001b[0m\u001b[0m\n",
      "\u001b[0;32m~/anaconda3/lib/python3.6/site-packages/myhdl/conversion/_analyze.py\u001b[0m in \u001b[0;36m_analyzeGens\u001b[0;34m(top, absnames)\u001b[0m\n\u001b[1;32m    168\u001b[0m             \u001b[0;32melse\u001b[0m\u001b[0;34m:\u001b[0m\u001b[0;34m\u001b[0m\u001b[0m\n\u001b[1;32m    169\u001b[0m                 \u001b[0mv\u001b[0m \u001b[0;34m=\u001b[0m \u001b[0m_AnalyzeAlwaysDecoVisitor\u001b[0m\u001b[0;34m(\u001b[0m\u001b[0mtree\u001b[0m\u001b[0;34m,\u001b[0m \u001b[0mg\u001b[0m\u001b[0;34m.\u001b[0m\u001b[0msenslist\u001b[0m\u001b[0;34m)\u001b[0m\u001b[0;34m\u001b[0m\u001b[0m\n\u001b[0;32m--> 170\u001b[0;31m             \u001b[0mv\u001b[0m\u001b[0;34m.\u001b[0m\u001b[0mvisit\u001b[0m\u001b[0;34m(\u001b[0m\u001b[0mtree\u001b[0m\u001b[0;34m)\u001b[0m\u001b[0;34m\u001b[0m\u001b[0m\n\u001b[0m\u001b[1;32m    171\u001b[0m         \u001b[0;32melse\u001b[0m\u001b[0;34m:\u001b[0m  \u001b[0;31m# @instance\u001b[0m\u001b[0;34m\u001b[0m\u001b[0m\n\u001b[1;32m    172\u001b[0m             \u001b[0mf\u001b[0m \u001b[0;34m=\u001b[0m \u001b[0mg\u001b[0m\u001b[0;34m.\u001b[0m\u001b[0mgen\u001b[0m\u001b[0;34m.\u001b[0m\u001b[0mgi_frame\u001b[0m\u001b[0;34m\u001b[0m\u001b[0m\n",
      "\u001b[0;32m~/anaconda3/lib/python3.6/ast.py\u001b[0m in \u001b[0;36mvisit\u001b[0;34m(self, node)\u001b[0m\n\u001b[1;32m    251\u001b[0m         \u001b[0mmethod\u001b[0m \u001b[0;34m=\u001b[0m \u001b[0;34m'visit_'\u001b[0m \u001b[0;34m+\u001b[0m \u001b[0mnode\u001b[0m\u001b[0;34m.\u001b[0m\u001b[0m__class__\u001b[0m\u001b[0;34m.\u001b[0m\u001b[0m__name__\u001b[0m\u001b[0;34m\u001b[0m\u001b[0m\n\u001b[1;32m    252\u001b[0m         \u001b[0mvisitor\u001b[0m \u001b[0;34m=\u001b[0m \u001b[0mgetattr\u001b[0m\u001b[0;34m(\u001b[0m\u001b[0mself\u001b[0m\u001b[0;34m,\u001b[0m \u001b[0mmethod\u001b[0m\u001b[0;34m,\u001b[0m \u001b[0mself\u001b[0m\u001b[0;34m.\u001b[0m\u001b[0mgeneric_visit\u001b[0m\u001b[0;34m)\u001b[0m\u001b[0;34m\u001b[0m\u001b[0m\n\u001b[0;32m--> 253\u001b[0;31m         \u001b[0;32mreturn\u001b[0m \u001b[0mvisitor\u001b[0m\u001b[0;34m(\u001b[0m\u001b[0mnode\u001b[0m\u001b[0;34m)\u001b[0m\u001b[0;34m\u001b[0m\u001b[0m\n\u001b[0m\u001b[1;32m    254\u001b[0m \u001b[0;34m\u001b[0m\u001b[0m\n\u001b[1;32m    255\u001b[0m     \u001b[0;32mdef\u001b[0m \u001b[0mgeneric_visit\u001b[0m\u001b[0;34m(\u001b[0m\u001b[0mself\u001b[0m\u001b[0;34m,\u001b[0m \u001b[0mnode\u001b[0m\u001b[0;34m)\u001b[0m\u001b[0;34m:\u001b[0m\u001b[0;34m\u001b[0m\u001b[0m\n",
      "\u001b[0;32m~/anaconda3/lib/python3.6/site-packages/myhdl/conversion/_analyze.py\u001b[0m in \u001b[0;36mvisit_Module\u001b[0;34m(self, node)\u001b[0m\n\u001b[1;32m   1115\u001b[0m \u001b[0;34m\u001b[0m\u001b[0m\n\u001b[1;32m   1116\u001b[0m     \u001b[0;32mdef\u001b[0m \u001b[0mvisit_Module\u001b[0m\u001b[0;34m(\u001b[0m\u001b[0mself\u001b[0m\u001b[0;34m,\u001b[0m \u001b[0mnode\u001b[0m\u001b[0;34m)\u001b[0m\u001b[0;34m:\u001b[0m\u001b[0;34m\u001b[0m\u001b[0m\n\u001b[0;32m-> 1117\u001b[0;31m         \u001b[0m_AnalyzeBlockVisitor\u001b[0m\u001b[0;34m.\u001b[0m\u001b[0mvisit_Module\u001b[0m\u001b[0;34m(\u001b[0m\u001b[0mself\u001b[0m\u001b[0;34m,\u001b[0m \u001b[0mnode\u001b[0m\u001b[0;34m)\u001b[0m\u001b[0;34m\u001b[0m\u001b[0m\n\u001b[0m\u001b[1;32m   1118\u001b[0m         \u001b[0;32mif\u001b[0m \u001b[0mself\u001b[0m\u001b[0;34m.\u001b[0m\u001b[0mtree\u001b[0m\u001b[0;34m.\u001b[0m\u001b[0mkind\u001b[0m \u001b[0;34m==\u001b[0m \u001b[0m_kind\u001b[0m\u001b[0;34m.\u001b[0m\u001b[0mSIMPLE_ALWAYS_COMB\u001b[0m\u001b[0;34m:\u001b[0m\u001b[0;34m\u001b[0m\u001b[0m\n\u001b[1;32m   1119\u001b[0m             \u001b[0;32mfor\u001b[0m \u001b[0mn\u001b[0m \u001b[0;32min\u001b[0m \u001b[0mself\u001b[0m\u001b[0;34m.\u001b[0m\u001b[0mtree\u001b[0m\u001b[0;34m.\u001b[0m\u001b[0moutputs\u001b[0m\u001b[0;34m:\u001b[0m\u001b[0;34m\u001b[0m\u001b[0m\n",
      "\u001b[0;32m~/anaconda3/lib/python3.6/site-packages/myhdl/conversion/_analyze.py\u001b[0m in \u001b[0;36mvisit_Module\u001b[0;34m(self, node)\u001b[0m\n\u001b[1;32m   1070\u001b[0m             \u001b[0ms\u001b[0m \u001b[0;34m=\u001b[0m \u001b[0mself\u001b[0m\u001b[0;34m.\u001b[0m\u001b[0mtree\u001b[0m\u001b[0;34m.\u001b[0m\u001b[0msigdict\u001b[0m\u001b[0;34m[\u001b[0m\u001b[0mn\u001b[0m\u001b[0;34m]\u001b[0m\u001b[0;34m\u001b[0m\u001b[0m\n\u001b[1;32m   1071\u001b[0m             \u001b[0;32mif\u001b[0m \u001b[0ms\u001b[0m\u001b[0;34m.\u001b[0m\u001b[0m_driven\u001b[0m\u001b[0;34m:\u001b[0m\u001b[0;34m\u001b[0m\u001b[0m\n\u001b[0;32m-> 1072\u001b[0;31m                 \u001b[0mself\u001b[0m\u001b[0;34m.\u001b[0m\u001b[0mraiseError\u001b[0m\u001b[0;34m(\u001b[0m\u001b[0mnode\u001b[0m\u001b[0;34m,\u001b[0m \u001b[0m_error\u001b[0m\u001b[0;34m.\u001b[0m\u001b[0mSigMultipleDriven\u001b[0m\u001b[0;34m,\u001b[0m \u001b[0mn\u001b[0m\u001b[0;34m)\u001b[0m\u001b[0;34m\u001b[0m\u001b[0m\n\u001b[0m\u001b[1;32m   1073\u001b[0m             \u001b[0ms\u001b[0m\u001b[0;34m.\u001b[0m\u001b[0m_driven\u001b[0m \u001b[0;34m=\u001b[0m \u001b[0;34m\"reg\"\u001b[0m\u001b[0;34m\u001b[0m\u001b[0m\n\u001b[1;32m   1074\u001b[0m         \u001b[0;32mfor\u001b[0m \u001b[0mn\u001b[0m \u001b[0;32min\u001b[0m \u001b[0mself\u001b[0m\u001b[0;34m.\u001b[0m\u001b[0mtree\u001b[0m\u001b[0;34m.\u001b[0m\u001b[0minputs\u001b[0m\u001b[0;34m:\u001b[0m\u001b[0;34m\u001b[0m\u001b[0m\n",
      "\u001b[0;32m~/anaconda3/lib/python3.6/site-packages/myhdl/conversion/_misc.py\u001b[0m in \u001b[0;36mraiseError\u001b[0;34m(self, node, kind, msg)\u001b[0m\n\u001b[1;32m    146\u001b[0m         \u001b[0minfo\u001b[0m \u001b[0;34m=\u001b[0m \u001b[0;34m\"in file %s, line %s:\\n    \"\u001b[0m \u001b[0;34m%\u001b[0m\u001b[0;31m \u001b[0m\u001b[0;31m\\\u001b[0m\u001b[0;34m\u001b[0m\u001b[0m\n\u001b[1;32m    147\u001b[0m             \u001b[0;34m(\u001b[0m\u001b[0mself\u001b[0m\u001b[0;34m.\u001b[0m\u001b[0mtree\u001b[0m\u001b[0;34m.\u001b[0m\u001b[0msourcefile\u001b[0m\u001b[0;34m,\u001b[0m \u001b[0mself\u001b[0m\u001b[0;34m.\u001b[0m\u001b[0mtree\u001b[0m\u001b[0;34m.\u001b[0m\u001b[0mlineoffset\u001b[0m \u001b[0;34m+\u001b[0m \u001b[0mlineno\u001b[0m\u001b[0;34m)\u001b[0m\u001b[0;34m\u001b[0m\u001b[0m\n\u001b[0;32m--> 148\u001b[0;31m         \u001b[0;32mraise\u001b[0m \u001b[0mConversionError\u001b[0m\u001b[0;34m(\u001b[0m\u001b[0mkind\u001b[0m\u001b[0;34m,\u001b[0m \u001b[0mmsg\u001b[0m\u001b[0;34m,\u001b[0m \u001b[0minfo\u001b[0m\u001b[0;34m)\u001b[0m\u001b[0;34m\u001b[0m\u001b[0m\n\u001b[0m\u001b[1;32m    149\u001b[0m \u001b[0;34m\u001b[0m\u001b[0m\n\u001b[1;32m    150\u001b[0m     \u001b[0;32mdef\u001b[0m \u001b[0mrequire\u001b[0m\u001b[0;34m(\u001b[0m\u001b[0mself\u001b[0m\u001b[0;34m,\u001b[0m \u001b[0mnode\u001b[0m\u001b[0;34m,\u001b[0m \u001b[0mtest\u001b[0m\u001b[0;34m,\u001b[0m \u001b[0mmsg\u001b[0m\u001b[0;34m=\u001b[0m\u001b[0;34m\"\"\u001b[0m\u001b[0;34m)\u001b[0m\u001b[0;34m:\u001b[0m\u001b[0;34m\u001b[0m\u001b[0m\n",
      "\u001b[0;31mConversionError\u001b[0m: in file <ipython-input-48-f950e095a50b>, line 28:\n    Signal has multiple drivers: bc"
     ]
    }
   ],
   "source": [
    "DUT.convert(hdl='VHDL')"
   ]
  },
  {
   "cell_type": "code",
   "execution_count": 55,
   "metadata": {},
   "outputs": [
    {
     "name": "stdout",
     "output_type": "stream",
     "text": [
      "***VHDL modual from CompMulti.vhd***\n",
      "\n",
      " \n"
     ]
    }
   ],
   "source": [
    "_=VHDLTextReader('CompMulti', True)"
   ]
  }
 ],
 "metadata": {
  "author": "myHDL Two Word Complex Multiplier",
  "hide_input": false,
  "kernelspec": {
   "display_name": "Python 3",
   "language": "python",
   "name": "python3"
  },
  "language_info": {
   "codemirror_mode": {
    "name": "ipython",
    "version": 3
   },
   "file_extension": ".py",
   "mimetype": "text/x-python",
   "name": "python",
   "nbconvert_exporter": "python",
   "pygments_lexer": "ipython3",
   "version": "3.6.3"
  },
  "latex_envs": {
   "LaTeX_envs_menu_present": true,
   "autoclose": false,
   "autocomplete": true,
   "bibliofile": "biblio.bib",
   "cite_by": "apalike",
   "current_citInitial": 1,
   "eqLabelWithNumbers": true,
   "eqNumInitial": 1,
   "hotkeys": {
    "equation": "Ctrl-E",
    "itemize": "Ctrl-I"
   },
   "labels_anchors": false,
   "latex_user_defs": false,
   "report_style_numbering": false,
   "user_envs_cfg": false
  },
  "toc": {
   "nav_menu": {},
   "number_sections": true,
   "sideBar": true,
   "skip_h1_title": false,
   "toc_cell": true,
   "toc_position": {},
   "toc_section_display": true,
   "toc_window_display": false
  }
 },
 "nbformat": 4,
 "nbformat_minor": 2
}
