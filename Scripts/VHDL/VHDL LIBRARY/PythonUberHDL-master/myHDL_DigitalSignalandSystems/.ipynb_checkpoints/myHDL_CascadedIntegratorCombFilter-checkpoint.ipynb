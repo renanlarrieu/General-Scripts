{
 "cells": [
  {
   "cell_type": "markdown",
   "metadata": {},
   "source": [
    "\\title{Cascaded Integrator Comb (CIC) Filter in myHDL}\n",
    "\\author{Steven K Armour}\n",
    "\\maketitle"
   ]
  },
  {
   "cell_type": "markdown",
   "metadata": {},
   "source": [
    "# Python Libraries Utilized"
   ]
  },
  {
   "cell_type": "code",
   "execution_count": 1,
   "metadata": {
    "collapsed": true
   },
   "outputs": [],
   "source": [
    "import numpy as np\n",
    "import scipy.signal as sig\n",
    "import pandas as pd\n",
    "\n",
    "from sympy import *\n",
    "init_printing()\n",
    "from IPython.display import display, Math, Latex\n",
    " \n",
    "from myhdl import *\n",
    "from myhdlpeek import Peeker\n",
    "\n",
    "import matplotlib.pyplot as plt\n",
    "%matplotlib inline"
   ]
  },
  {
   "cell_type": "markdown",
   "metadata": {},
   "source": [
    "# Acknowledgments\n",
    "The orgianl CIC filter written in myHDL was done by [Christopher Felton](https://github.com/cfelton)\n",
    "(myHDL.old version [here](https://github.com/jandecaluwe/site-myhdl-retired/blob/master/_ori/pages/projects/gciccomplete.txt))\n",
    "\n",
    "Author of myHDL [Jan Decaluwe](http://www.myhdl.org/users/jandecaluwe.html) and the author of the myHDL Peeker [XESS Corp.](https://github.com/xesscorp/myhdlpeek)\n"
   ]
  },
  {
   "cell_type": "markdown",
   "metadata": {},
   "source": [
    "# Refrances "
   ]
  },
  {
   "cell_type": "markdown",
   "metadata": {},
   "source": [
    "# CIC Filter Backround and Pro/Cons of use"
   ]
  },
  {
   "cell_type": "markdown",
   "metadata": {},
   "source": [
    "# CIC Comb (dervitive) Unit\n",
    "## 1st Order Comb Unit"
   ]
  },
  {
   "cell_type": "markdown",
   "metadata": {},
   "source": [
    "### Sympy Anyslsis"
   ]
  },
  {
   "cell_type": "markdown",
   "metadata": {},
   "source": [
    "One of the two fundumental stages of the CIC filter is the Derivative stage also called a Comb. The lowest order Comb filter is governed by the following equation"
   ]
  },
  {
   "cell_type": "code",
   "execution_count": 2,
   "metadata": {},
   "outputs": [
    {
     "data": {
      "image/png": "[encoded data removed]",
      "text/latex": [
       "$$y{\\left (n \\right )} = x{\\left (n \\right )} - x{\\left (n - 1 \\right )}$$"
      ],
      "text/plain": [
       "y(n) = x(n) - x(n - 1)"
      ]
     },
     "execution_count": 2,
     "metadata": {},
     "output_type": "execute_result"
    }
   ],
   "source": [
    "n, M=symbols('n, M')\n",
    "y=Function('y')(n)\n",
    "x=Function('x')\n",
    "\n",
    "Comb1Eq=Eq(y, x(n)-x(n-1)); Comb1Eq"
   ]
  },
  {
   "cell_type": "markdown",
   "metadata": {},
   "source": [
    "where by applying the \"Z\" Transform to 1st order Comb equation we get"
   ]
  },
  {
   "cell_type": "code",
   "execution_count": 3,
   "metadata": {},
   "outputs": [
    {
     "data": {
      "image/png": "[encoded data removed]",
      "text/latex": [
       "$$Y{\\left (z \\right )} = \\left(1 - \\frac{1}{z}\\right) X{\\left (z \\right )}$$"
      ],
      "text/plain": [
       "       ⎛    1⎞     \n",
       "Y(z) = ⎜1 - ─⎟⋅X(z)\n",
       "       ⎝    z⎠     "
      ]
     },
     "execution_count": 3,
     "metadata": {},
     "output_type": "execute_result"
    }
   ],
   "source": [
    "z=symbols('z')\n",
    "Y=Function('Y')(z); X=Function('X')(z)\n",
    "Comb1ZEq=Eq(Y, (1-z**-1)*X); Comb1ZEq"
   ]
  },
  {
   "cell_type": "markdown",
   "metadata": {},
   "source": [
    "Which results in the following Transfer Function and discrate inpulse responce"
   ]
  },
  {
   "cell_type": "code",
   "execution_count": 4,
   "metadata": {},
   "outputs": [
    {
     "data": {
      "image/png": "[encoded data removed]",
      "text/latex": [
       "$$H{\\left (z \\right )} = \\frac{1}{z} \\left(z - 1\\right)$$"
      ],
      "text/plain": [
       "       z - 1\n",
       "H(z) = ─────\n",
       "         z  "
      ]
     },
     "execution_count": 4,
     "metadata": {},
     "output_type": "execute_result"
    }
   ],
   "source": [
    "H=Function('H')(z)\n",
    "Comb1TFEq=Eq(H, solve(Comb1ZEq, Y)[0]/X); Comb1TFEq"
   ]
  },
  {
   "cell_type": "markdown",
   "metadata": {},
   "source": [
    "The Transfer function has the following zeros and poles"
   ]
  },
  {
   "cell_type": "code",
   "execution_count": 5,
   "metadata": {},
   "outputs": [
    {
     "name": "stdout",
     "output_type": "stream",
     "text": [
      "H(z) has zeros from z - 1 at [1]\n",
      "and poles from z at [0]\n"
     ]
    }
   ],
   "source": [
    "TFnum, TFden=fraction(Comb1TFEq.rhs); TFnum, TFden\n",
    "TFZeros=solve(TFnum, z); TFPoles=solve(TFden)\n",
    "TFPZStatment=f\"\"\"{H} has zeros from {TFnum} at {TFZeros}\n",
    "and poles from {TFden} at {TFPoles}\"\"\"\n",
    "print(TFPZStatment)"
   ]
  },
  {
   "cell_type": "markdown",
   "metadata": {},
   "source": [
    "### scipy anyslsis"
   ]
  },
  {
   "cell_type": "markdown",
   "metadata": {},
   "source": [
    "using the exspersion for the numurator and denomnator there coefecnts can be build off thusly and read into scipy's signal module to numerical inspect the resulting transfer function thusly where we will use a sample time"
   ]
  },
  {
   "cell_type": "code",
   "execution_count": 6,
   "metadata": {},
   "outputs": [
    {
     "data": {
      "image/png": "[encoded data removed]",
      "text/latex": [
       "$$\\left ( \\left [ 1.0, \\quad -1.0\\right ], \\quad \\left [ 1.0\\right ]\\right )$$"
      ],
      "text/plain": [
       "([1.0, -1.0], [1.0])"
      ]
     },
     "execution_count": 6,
     "metadata": {},
     "output_type": "execute_result"
    }
   ],
   "source": [
    "TFCoefN=lambda NumDen: [float(i) for i in Poly(NumDen, z).coeffs()]\n",
    "TFnumC=TFCoefN(TFnum); TFdenC=TFCoefN(TFden)\n",
    "TFnumC, TFdenC"
   ]
  },
  {
   "cell_type": "code",
   "execution_count": 7,
   "metadata": {},
   "outputs": [
    {
     "data": {
      "text/plain": [
       "TransferFunctionDiscrete(\n",
       "array([ 1., -1.]),\n",
       "array([ 1.,  0.]),\n",
       "dt: 0.00020833333333333335\n",
       ")"
      ]
     },
     "execution_count": 7,
     "metadata": {},
     "output_type": "execute_result"
    }
   ],
   "source": [
    "Comb1Sci=sig.TransferFunction(TFnumC, [1, 0], dt=1/4.8e3)\n",
    "Comb1Sci"
   ]
  },
  {
   "cell_type": "code",
   "execution_count": 8,
   "metadata": {},
   "outputs": [
    {
     "name": "stderr",
     "output_type": "stream",
     "text": [
      "** RuntimeWarning: divide by zero encountered in log10\n"
     ]
    },
    {
     "data": {
      "image/png": "[encoded data removed]",
      "text/plain": [
       "<matplotlib.figure.Figure at 0x2a94a7038d0>"
      ]
     },
     "metadata": {},
     "output_type": "display_data"
    }
   ],
   "source": [
    "w, mag, phase = sig.dbode(Comb1Sci )\n",
    "fig, ax=plt.subplots(nrows=2, ncols=1, sharex=True)\n",
    "plt.title('Bode Plot of 1st order Comb Section')\n",
    "ax[0].semilogx(w, mag, label='Mag')\n",
    "ax[0].set_ylabel('Mag [dB]')\n",
    "ax[1].semilogx(w, phase, label='Phase')\n",
    "ax[1].set_ylabel('Phase[deg]')\n",
    "ax[1].set_xlabel(r'$\\omega[rad/dt]$')\n",
    "None\n"
   ]
  },
  {
   "cell_type": "code",
   "execution_count": 9,
   "metadata": {},
   "outputs": [
    {
     "data": {
      "image/png": "[encoded data removed]",
      "text/plain": [
       "<matplotlib.figure.Figure at 0x2a94a566860>"
      ]
     },
     "metadata": {},
     "output_type": "display_data"
    }
   ],
   "source": [
    "plt.title('Impulse Respince of 1st Order Comb Filter')\n",
    "tout, yout=sig.dimpulse(Comb1Sci, n=100)\n",
    "plt.plot(tout, yout[0])\n",
    "plt.xlabel('time[sec]'); plt.ylabel('Amp')\n",
    "plt.ticklabel_format(style='sci', axis='x', scilimits=(0,0))"
   ]
  },
  {
   "cell_type": "code",
   "execution_count": 10,
   "metadata": {},
   "outputs": [
    {
     "data": {
      "image/png": "[encoded data removed]",
      "text/plain": [
       "<matplotlib.figure.Figure at 0x2a94a691940>"
      ]
     },
     "metadata": {},
     "output_type": "display_data"
    }
   ],
   "source": [
    "plt.title('Step Respince of 1st Order Comb Filter')\n",
    "tout, yout=sig.dstep(Comb1Sci, n=100)\n",
    "plt.plot(tout, yout[0])\n",
    "plt.xlabel('time[sec]'); plt.ylabel('Amp')\n",
    "plt.ticklabel_format(style='sci', axis='x', scilimits=(0,0))"
   ]
  },
  {
   "cell_type": "markdown",
   "metadata": {},
   "source": [
    "## M-th Order Comb Unit"
   ]
  },
  {
   "cell_type": "code",
   "execution_count": 11,
   "metadata": {},
   "outputs": [
    {
     "data": {
      "image/png": "[encoded data removed]",
      "text/latex": [
       "$$y{\\left (n \\right )} = x{\\left (n \\right )} - x{\\left (- M + n \\right )}$$"
      ],
      "text/plain": [
       "y(n) = x(n) - x(-M + n)"
      ]
     },
     "execution_count": 11,
     "metadata": {},
     "output_type": "execute_result"
    }
   ],
   "source": [
    "M=symbols('M')\n",
    "CombMEq=Eq(y, x(n)-x(n-M)); CombMEq"
   ]
  },
  {
   "cell_type": "code",
   "execution_count": 12,
   "metadata": {},
   "outputs": [
    {
     "data": {
      "image/png": "[encoded data removed]",
      "text/latex": [
       "$$Y{\\left (z \\right )} = \\left(1 - z^{- M}\\right) X{\\left (z \\right )}$$"
      ],
      "text/plain": [
       "       ⎛     -M⎞     \n",
       "Y(z) = ⎝1 - z  ⎠⋅X(z)"
      ]
     },
     "execution_count": 12,
     "metadata": {},
     "output_type": "execute_result"
    }
   ],
   "source": [
    "CombMZEq=Eq(Y, (1-z**-M)*X); CombMZEq"
   ]
  },
  {
   "cell_type": "code",
   "execution_count": 13,
   "metadata": {},
   "outputs": [
    {
     "data": {
      "image/png": "[encoded data removed]",
      "text/latex": [
       "$$H{\\left (z \\right )} = \\frac{1}{z^{3}} \\left(z^{3} - 1\\right)$$"
      ],
      "text/plain": [
       "        3    \n",
       "       z  - 1\n",
       "H(z) = ──────\n",
       "          3  \n",
       "         z   "
      ]
     },
     "execution_count": 13,
     "metadata": {},
     "output_type": "execute_result"
    }
   ],
   "source": [
    "H=Function('H')(z)\n",
    "CombMTFEq=Eq(H, simplify(solve(CombMZEq, Y)[0]/X)); CombMTFEq\n",
    "CombMTFEq=Eq(H, expand(CombMTFEq.rhs*z**M)/z**M); CombMTFEq\n",
    "\n",
    "sups={M:3}\n",
    "CombMTFEq=CombMTFEq.subs(sups); CombMTFEq\n"
   ]
  },
  {
   "cell_type": "code",
   "execution_count": 14,
   "metadata": {},
   "outputs": [
    {
     "name": "stdout",
     "output_type": "stream",
     "text": [
      "H(z) has zeros from z**3 - 1 at [1, -1/2 - sqrt(3)*I/2, -1/2 + sqrt(3)*I/2]\n",
      "and poles from z**3 at [0]\n"
     ]
    }
   ],
   "source": [
    "TFnum, TFden=fraction(CombMTFEq.rhs); TFnum, TFden\n",
    "TFZeros=solve(TFnum, z); TFPoles=solve(TFden)\n",
    "TFPZStatment=f\"\"\"{H} has zeros from {TFnum} at {TFZeros}\n",
    "and poles from {TFden} at {TFPoles}\"\"\"\n",
    "print(TFPZStatment)"
   ]
  },
  {
   "cell_type": "code",
   "execution_count": 15,
   "metadata": {},
   "outputs": [
    {
     "data": {
      "image/png": "[encoded data removed]",
      "text/latex": [
       "$$\\left ( \\left [ 1.0, \\quad 0, \\quad 0, \\quad -1.0\\right ], \\quad \\left [ 1.0, \\quad 0, \\quad 0, \\quad 0\\right ]\\right )$$"
      ],
      "text/plain": [
       "([1.0, 0, 0, -1.0], [1.0, 0, 0, 0])"
      ]
     },
     "execution_count": 15,
     "metadata": {},
     "output_type": "execute_result"
    }
   ],
   "source": [
    "TFCoefN=lambda NumDen: [float(i) for i in Poly(NumDen, z).coeffs()]\n",
    "TFnumC=TFCoefN(TFnum); TFdenC=TFCoefN(TFden)\n",
    "for i in range(sups[M]-1):\n",
    "    TFnumC.insert(1, 0)\n",
    "\n",
    "for i in range(sups[M]):\n",
    "    TFdenC.insert(1, 0)\n",
    "TFnumC, TFdenC"
   ]
  },
  {
   "cell_type": "code",
   "execution_count": 16,
   "metadata": {},
   "outputs": [
    {
     "data": {
      "text/plain": [
       "TransferFunctionDiscrete(\n",
       "array([ 1.,  0.,  0., -1.]),\n",
       "array([ 1.,  0.,  0.,  0.]),\n",
       "dt: 0.00020833333333333335\n",
       ")"
      ]
     },
     "execution_count": 16,
     "metadata": {},
     "output_type": "execute_result"
    }
   ],
   "source": [
    "CombMSci=sig.TransferFunction(TFnumC, TFdenC, dt=1/4.8e3)\n",
    "CombMSci"
   ]
  },
  {
   "cell_type": "code",
   "execution_count": 17,
   "metadata": {},
   "outputs": [
    {
     "name": "stderr",
     "output_type": "stream",
     "text": [
      "** RuntimeWarning: divide by zero encountered in log10\n"
     ]
    },
    {
     "data": {
      "image/png": "[encoded data removed]",
      "text/plain": [
       "<matplotlib.figure.Figure at 0x2a94aadd940>"
      ]
     },
     "metadata": {},
     "output_type": "display_data"
    }
   ],
   "source": [
    "w, mag, phase = sig.dbode(CombMSci )\n",
    "fig, ax=plt.subplots(nrows=2, ncols=1, sharex=True)\n",
    "plt.title(f'Bode Plot of {sups[M]} order Comb Section')\n",
    "ax[0].semilogx(w, mag, label='Mag')\n",
    "ax[0].set_ylabel('Mag [dB]')\n",
    "ax[1].semilogx(w, phase, label='Phase')\n",
    "ax[1].set_ylabel('Phase[deg]')\n",
    "ax[1].set_xlabel(r'$\\omega[rad/dt]$')\n",
    "None"
   ]
  },
  {
   "cell_type": "code",
   "execution_count": 18,
   "metadata": {},
   "outputs": [
    {
     "data": {
      "image/png": "[encoded data removed]",
      "text/plain": [
       "<matplotlib.figure.Figure at 0x2a94bdc93c8>"
      ]
     },
     "metadata": {},
     "output_type": "display_data"
    }
   ],
   "source": [
    "plt.title(f'Impulse Respince of {sups[M]} order Comb Section')\n",
    "tout, yout=sig.dimpulse(CombMSci, n=100)\n",
    "plt.plot(tout, yout[0])\n",
    "plt.xlabel('time[sec]'); plt.ylabel('Amp')\n",
    "plt.ticklabel_format(style='sci', axis='x', scilimits=(0,0))"
   ]
  },
  {
   "cell_type": "code",
   "execution_count": 19,
   "metadata": {},
   "outputs": [
    {
     "data": {
      "image/png": "[encoded data removed]",
      "text/plain": [
       "<matplotlib.figure.Figure at 0x2a94be42be0>"
      ]
     },
     "metadata": {},
     "output_type": "display_data"
    }
   ],
   "source": [
    "plt.title(f'Step Respince of {sups[M]} order Comb Section')\n",
    "tout, yout=sig.dstep(CombMSci, n=100)\n",
    "plt.plot(tout, yout[0])\n",
    "plt.xlabel('time[sec]'); plt.ylabel('Amp')\n",
    "plt.ticklabel_format(style='sci', axis='x', scilimits=(0,0))"
   ]
  },
  {
   "cell_type": "markdown",
   "metadata": {},
   "source": [
    "## myHDL Implimintation of M-th Order Comb Section"
   ]
  },
  {
   "cell_type": "markdown",
   "metadata": {},
   "source": [
    "### $z^{-1}$ as a delay"
   ]
  },
  {
   "cell_type": "code",
   "execution_count": 20,
   "metadata": {},
   "outputs": [
    {
     "data": {
      "image/png": "[encoded data removed]",
      "text/plain": [
       "<matplotlib.figure.Figure at 0x2a94be825c0>"
      ]
     },
     "metadata": {},
     "output_type": "display_data"
    }
   ],
   "source": [
    "TestValues=pd.read_pickle('SinGen16.pkl')\n",
    "plt.stem(TestValues['Time[s]'], TestValues['GenValue'])\n",
    "plt.plot(TestValues['Time[s]'], TestValues['GenValue'])\n",
    "plt.ticklabel_format(style='sci', axis='x', scilimits=(0,0))\n"
   ]
  },
  {
   "cell_type": "code",
   "execution_count": 21,
   "metadata": {
    "collapsed": true
   },
   "outputs": [],
   "source": [
    "def CombDelay(x_in, y_out, DataValIn, clk ):\n",
    "    \"\"\"\n",
    "    Modfied D flip-flop repersenting a delay of z^-1\n",
    "    Ports:\n",
    "    ------\n",
    "    x_in:    2's compliment input\n",
    "    y_out:    2's compliment output\n",
    "    DataValIn:  data valid input, flow control signal for the different rates\n",
    "    clk:  System clock, must be equal to or greater than the max\n",
    "          sample rate after interpolation or before decimation\n",
    "    \"\"\"\n",
    "    @always(clk.posedge)\n",
    "    def logic():\n",
    "        if DataValIn:\n",
    "            y_out.next=x_in\n",
    "    return logic"
   ]
  },
  {
   "cell_type": "markdown",
   "metadata": {},
   "source": [
    "Using the output sin genratr values with 16 bit persisoin we optain the following test data"
   ]
  },
  {
   "cell_type": "code",
   "execution_count": 22,
   "metadata": {
    "collapsed": true
   },
   "outputs": [],
   "source": [
    "BitWidth=16\n",
    "L=2**(BitWidth)\n",
    "maxminV =2*L \n",
    "Peeker.clear()\n",
    "\n",
    "x_in=Signal(intbv(0, min=-L, max=L)); Peeker(x_in, 'x_in')\n",
    "\n",
    "y_out=Signal(intbv(0, min=-maxminV, max=maxminV)); Peeker(y_out, 'y_out')\n",
    "CombDelayTracker=[]\n",
    "\n",
    "DataValIn=Signal(bool(0)); Peeker(DataValIn, 'DataValIn')\n",
    "clk=Signal(bool(0)); Peeker(clk, 'clk')\n",
    "\n",
    "DUT=CombDelay(x_in=x_in, y_out=y_out, DataValIn=DataValIn, clk=clk)\n",
    "\n",
    "\n",
    "def CombDelay_TB():\n",
    "    TestValueGen=TestValues['GenValue'].iteritems()\n",
    "    \n",
    "    @always(delay(1))    \n",
    "    def clkgen():\n",
    "        clk.next = not clk\n",
    "    \n",
    "    @instance\n",
    "    def stimules():\n",
    "        #test the DataValIn responce\n",
    "        for step, val in TestValueGen:\n",
    "            x_in.next=int(val)\n",
    "            if step<12:\n",
    "                DataValIn.next=False\n",
    "            else:\n",
    "                DataValIn.next=1\n",
    "            CombDelayTracker.append(int(y_out))\n",
    "            \n",
    "            yield clk.negedge\n",
    "        \n",
    "        raise StopSimulation\n",
    "        \n",
    "    return instances()\n",
    "        "
   ]
  },
  {
   "cell_type": "code",
   "execution_count": 23,
   "metadata": {},
   "outputs": [
    {
     "data": {
      "text/html": [
       "<div><script type=\"WaveDrom\">{\"signal\": [{\"name\": \"x_in\", \"wave\": \"=.=.=.=.=.=.=.=.=.=.=\", \"data\": [\"-29189\", \"-19244\", \"-5104\", \"10148\", \"23187\", \"31170\", \"32357\", \"26489\", \"14845\", \"-36\", \"-14910\"]}, {\"name\": \"y_out\", \"wave\": \"==.=.=.=.=.=.=.=.=.=.\", \"data\": [\"-32771\", \"-29189\", \"-19244\", \"-5104\", \"10148\", \"23187\", \"31170\", \"32357\", \"26489\", \"14845\", \"-36\"]}, {\"name\": \"DataValIn[0]\", \"wave\": \"1....................\"}, {\"name\": \"clk[0]\", \"wave\": \"010101010101010101010\"}], \"head\": {\"tock\": 40}, \"foot\": {\"tock\": 40}}</script></div>"
      ]
     },
     "metadata": {},
     "output_type": "display_data"
    },
    {
     "data": {
      "application/javascript": [
       "$.getScript(\"http://wavedrom.com/wavedrom.min.js\", function () {\n",
       "$.getScript(\"http://wavedrom.com/skins/default.js\", function () {\n",
       "WaveDrom.ProcessAll();});\n",
       "});\n"
      ]
     },
     "metadata": {},
     "output_type": "display_data"
    }
   ],
   "source": [
    "N=TestValues.shape[0]\n",
    "sim = Simulation(DUT, CombDelay_TB(), *Peeker.instances()).run()\n",
    "Peeker.to_wavedrom(start_time=40, stop_time=60, tock=True)"
   ]
  },
  {
   "cell_type": "code",
   "execution_count": 24,
   "metadata": {},
   "outputs": [
    {
     "data": {
      "image/png": "[encoded data removed]",
      "text/plain": [
       "<matplotlib.figure.Figure at 0x2a94bc95198>"
      ]
     },
     "metadata": {},
     "output_type": "display_data"
    }
   ],
   "source": [
    "plt.stem(TestValues['Time[s]'], TestValues['GenValue']-np.array(CombDelayTracker))\n",
    "plt.ticklabel_format(style='sci', axis='x', scilimits=(0,0))\n"
   ]
  },
  {
   "cell_type": "markdown",
   "metadata": {},
   "source": [
    "### Comb Section"
   ]
  },
  {
   "cell_type": "code",
   "execution_count": 25,
   "metadata": {},
   "outputs": [],
   "source": [
    "def CombSection(x_in, y_out, DataValIn, DataValOut, clk, rst, MthOrderParm=1):\n",
    "    \"\"\"\n",
    "     Comb (difference) section of CIC with parameterizable to Mth Order\n",
    "    \n",
    "    Parameters:\n",
    "    -----------\n",
    "    MthOrderParm: Delay Order of the Comb section\n",
    "    \n",
    "    Ports:\n",
    "    ------\n",
    "    x_in:    2's compliment input\n",
    "    y_out:    2's compliment output\n",
    "    DataValIn:  data valid input, flow control signal for the different rates\n",
    "    clk:  System clock, must be equal to or greater than the max\n",
    "          sample rate after interpolation or before decimation\n",
    "    rst:  System reset\n",
    "    \"\"\"\n",
    "    #quntiztion\n",
    "    Q = len(x_in)-1\n",
    "    #word lengths\n",
    "    L = 2**Q\n",
    "    \n",
    "    #create the dealy structer\n",
    "    #Comb Delay Instansis\n",
    "    Delay_i = [None for i in range(MthOrderParm)]\n",
    "    #Comb Delay Instansis Interconects\n",
    "    Delay_iX = [Signal(intbv(0, min=-L, max=L)) for i in range(MthOrderParm)]\n",
    "    \n",
    "    #output of delay block = to x[n-M]\n",
    "    subx=Delay_iX[MthOrderParm-1]\n",
    "    \n",
    "    for i in range(MthOrderParm):\n",
    "        if i ==0:\n",
    "            Delay_i[i]=CombDelay(x_in=x_in, y_out=Delay_iX[i], DataValIn=DataValIn, clk=clk)\n",
    "        else:\n",
    "            Delay_i[i]=CombDelay(x_in=Delay_iX[i-1], y_out=Delay_iX[i], DataValIn=DataValIn, clk=clk)\n",
    "\n",
    "    @always(clk.posedge)\n",
    "    def logic():\n",
    "        if rst:\n",
    "            y_out.next=0\n",
    "        else:\n",
    "            if DataValIn:\n",
    "                y_out.next=x_in-subx\n",
    "                DataValOut.next=True\n",
    "            else:\n",
    "                DataValOut.next=False\n",
    "    return instances()\n"
   ]
  },
  {
   "cell_type": "markdown",
   "metadata": {},
   "source": [
    "### Comb Test"
   ]
  },
  {
   "cell_type": "code",
   "execution_count": 26,
   "metadata": {},
   "outputs": [],
   "source": [
    "BitWidth=16\n",
    "L=2**(BitWidth)\n",
    "maxminV =2*L \n",
    "Peeker.clear()\n",
    "\n",
    "x_in=Signal(intbv(0, min=-L, max=L)); Peeker(x_in, 'x_in')\n",
    "\n",
    "y_out=Signal(intbv(0, min=-maxminV, max=maxminV)); Peeker(y_out, 'y_out')\n",
    "CombTracker=[]\n",
    "\n",
    "DataValIn=Signal(bool(0)); Peeker(DataValIn, 'DataValIn')\n",
    "DataValOut=Signal(bool(0)); Peeker(DataValOut, 'DataValOut')\n",
    "\n",
    "clk=Signal(bool(0)); Peeker(clk, 'clk')\n",
    "rst=Signal(bool(0)); Peeker(rst, 'rst')\n",
    "\n",
    "\n",
    "DUT=CombSection(x_in=x_in, y_out=y_out, \n",
    "                DataValIn=DataValIn, DataValOut=DataValOut, \n",
    "                clk=clk, rst=rst, \n",
    "                MthOrderParm=1)\n",
    "\n",
    "\n",
    "\n",
    "def CombSection_TB():\n",
    "    TestValueGen=TestValues['GenValue'].iteritems()\n",
    "    \n",
    "    @always(delay(1))    \n",
    "    def clkgen():\n",
    "        clk.next = not clk\n",
    "    \n",
    "    @instance\n",
    "    def stimules():\n",
    "        #test the DataValIn responce\n",
    "        for step, val in TestValueGen:\n",
    "            x_in.next=int(val)\n",
    "            if step<12:\n",
    "                DataValIn.next=False\n",
    "            \n",
    "            elif step==12:\n",
    "                DataValIn.next=True\n",
    "                \n",
    "            elif step==100:\n",
    "                rst.next=True\n",
    "                DataValIn.next=False\n",
    "            \n",
    "            elif step==101:\n",
    "                rst.next=False\n",
    "                DataValIn.next=False\n",
    "            \n",
    "            elif step==112:\n",
    "                DataValIn.next=False\n",
    "                \n",
    "            else:\n",
    "                DataValIn.next=True\n",
    "            CombTracker.append(int(y_out))\n",
    "            \n",
    "            yield clk.negedge\n",
    "        \n",
    "        raise StopSimulation\n",
    "        \n",
    "    return instances()\n",
    "        "
   ]
  },
  {
   "cell_type": "code",
   "execution_count": 27,
   "metadata": {},
   "outputs": [
    {
     "data": {
      "text/html": [
       "<div><script type=\"WaveDrom\">{\"signal\": [{\"name\": \"DataValIn\", \"wave\": \"1....................\"}, {\"name\": \"DataValOut\", \"wave\": \"1....................\"}, {\"name\": \"clk\", \"wave\": \"010101010101010101010\"}, {\"name\": \"x_in\", \"wave\": \"=.=.=.=.=.=.=.=.=.=.=\", \"data\": [\"-29189\", \"-19244\", \"-5104\", \"10148\", \"23187\", \"31170\", \"32357\", \"26489\", \"14845\", \"-36\", \"-14910\"]}, {\"name\": \"y_out\", \"wave\": \"==.=.=.=.=.=.=.=.=.=.\", \"data\": [\"-3562\", \"3582\", \"9945\", \"14140\", \"15252\", \"13039\", \"7983\", \"1187\", \"-5868\", \"-11644\", \"-14881\"]}, {\"name\": \"rst[0]\", \"wave\": \"0....................\"}], \"head\": {\"tock\": 40}, \"foot\": {\"tock\": 40}}</script></div>"
      ]
     },
     "metadata": {},
     "output_type": "display_data"
    },
    {
     "data": {
      "application/javascript": [
       "$.getScript(\"http://wavedrom.com/wavedrom.min.js\", function () {\n",
       "$.getScript(\"http://wavedrom.com/skins/default.js\", function () {\n",
       "WaveDrom.ProcessAll();});\n",
       "});\n"
      ]
     },
     "metadata": {},
     "output_type": "display_data"
    }
   ],
   "source": [
    "N=TestValues.shape[0]\n",
    "sim = Simulation(DUT, CombSection_TB(), *Peeker.instances()).run()\n",
    "Peeker.to_wavedrom(start_time=40, stop_time=60, tock=True)"
   ]
  },
  {
   "cell_type": "code",
   "execution_count": 28,
   "metadata": {},
   "outputs": [
    {
     "data": {
      "image/png": "[encoded data removed]",
      "text/plain": [
       "<matplotlib.figure.Figure at 0x2a94ac4b1d0>"
      ]
     },
     "metadata": {},
     "output_type": "display_data"
    }
   ],
   "source": [
    "plt.stem(TestValues['Time[s]'], TestValues['GenValue']-np.array(CombTracker))\n",
    "plt.ticklabel_format(style='sci', axis='x', scilimits=(0,0))\n"
   ]
  },
  {
   "cell_type": "code",
   "execution_count": 29,
   "metadata": {
    "collapsed": true
   },
   "outputs": [],
   "source": [
    "BitWidth=16\n",
    "L=2**(BitWidth)\n",
    "maxminV =2*L \n",
    "Peeker.clear()\n",
    "\n",
    "x_in=Signal(intbv(0, min=-L, max=L)); Peeker(x_in, 'x_in')\n",
    "\n",
    "y_out=Signal(intbv(0, min=-maxminV, max=maxminV)); Peeker(y_out, 'y_out')\n",
    "CombTracker=[]\n",
    "\n",
    "DataValIn=Signal(bool(0)); Peeker(DataValIn, 'DataValIn')\n",
    "DataValOut=Signal(bool(0)); Peeker(DataValOut, 'DataValOut')\n",
    "\n",
    "clk=Signal(bool(0)); Peeker(clk, 'clk')\n",
    "rst=Signal(bool(0)); Peeker(rst, 'rst')\n",
    "\n",
    "\n",
    "DUT=CombSection(x_in=x_in, y_out=y_out, \n",
    "                DataValIn=DataValIn, DataValOut=DataValOut, \n",
    "                clk=clk, rst=rst, \n",
    "                MthOrderParm=3)"
   ]
  },
  {
   "cell_type": "code",
   "execution_count": 30,
   "metadata": {},
   "outputs": [
    {
     "data": {
      "text/html": [
       "<div><script type=\"WaveDrom\">{\"signal\": [{\"name\": \"DataValIn\", \"wave\": \"1....................\"}, {\"name\": \"DataValOut\", \"wave\": \"1....................\"}, {\"name\": \"clk\", \"wave\": \"010101010101010101010\"}, {\"name\": \"x_in\", \"wave\": \"=.=.=.=.=.=.=.=.=.=.=\", \"data\": [\"-29189\", \"-19244\", \"-5104\", \"10148\", \"23187\", \"31170\", \"32357\", \"26489\", \"14845\", \"-36\", \"-14910\"]}, {\"name\": \"y_out\", \"wave\": \"==.=.=.=.=.=.=.=.=.=.\", \"data\": [\"-27625\", \"-9910\", \"9965\", \"27667\", \"39337\", \"42431\", \"36274\", \"22209\", \"3302\", \"-16325\", \"-32393\"]}, {\"name\": \"rst[0]\", \"wave\": \"0....................\"}], \"head\": {\"tock\": 40}, \"foot\": {\"tock\": 40}}</script></div>"
      ]
     },
     "metadata": {},
     "output_type": "display_data"
    },
    {
     "data": {
      "application/javascript": [
       "$.getScript(\"http://wavedrom.com/wavedrom.min.js\", function () {\n",
       "$.getScript(\"http://wavedrom.com/skins/default.js\", function () {\n",
       "WaveDrom.ProcessAll();});\n",
       "});\n"
      ]
     },
     "metadata": {},
     "output_type": "display_data"
    }
   ],
   "source": [
    "N=TestValues.shape[0]\n",
    "sim = Simulation(DUT, CombSection_TB(), *Peeker.instances()).run()\n",
    "Peeker.to_wavedrom(start_time=40, stop_time=60, tock=True)"
   ]
  },
  {
   "cell_type": "code",
   "execution_count": 31,
   "metadata": {},
   "outputs": [
    {
     "data": {
      "image/png": "[encoded data removed]",
      "text/plain": [
       "<matplotlib.figure.Figure at 0x2a94bf3ca20>"
      ]
     },
     "metadata": {},
     "output_type": "display_data"
    }
   ],
   "source": [
    "plt.stem(TestValues['Time[s]'], TestValues['GenValue']-np.array(CombTracker))\n",
    "plt.ticklabel_format(style='sci', axis='x', scilimits=(0,0))\n"
   ]
  },
  {
   "cell_type": "markdown",
   "metadata": {},
   "source": [
    "# CIC Accumultor (Integrator) Unit"
   ]
  },
  {
   "cell_type": "markdown",
   "metadata": {},
   "source": [
    "## Sympy anylsis"
   ]
  },
  {
   "cell_type": "code",
   "execution_count": 32,
   "metadata": {},
   "outputs": [
    {
     "data": {
      "image/png": "[encoded data removed]",
      "text/latex": [
       "$$y{\\left (n \\right )} = x{\\left (n \\right )} + y{\\left (n - 1 \\right )}$$"
      ],
      "text/plain": [
       "y(n) = x(n) + y(n - 1)"
      ]
     },
     "execution_count": 32,
     "metadata": {},
     "output_type": "execute_result"
    }
   ],
   "source": [
    "y=Function('y')\n",
    "Accum1Eq=Eq(y(n), x(n)+y(n-1)); Accum1Eq"
   ]
  },
  {
   "cell_type": "code",
   "execution_count": 33,
   "metadata": {},
   "outputs": [
    {
     "data": {
      "image/png": "[encoded data removed]",
      "text/latex": [
       "$$Y{\\left (z \\right )} = X{\\left (z \\right )} + \\frac{1}{z} Y{\\left (z \\right )}$$"
      ],
      "text/plain": [
       "              Y(z)\n",
       "Y(z) = X(z) + ────\n",
       "               z  "
      ]
     },
     "execution_count": 33,
     "metadata": {},
     "output_type": "execute_result"
    }
   ],
   "source": [
    "Accum1ZEq=Eq(Y, X+z**-1 *Y); Accum1ZEq"
   ]
  },
  {
   "cell_type": "code",
   "execution_count": 34,
   "metadata": {},
   "outputs": [
    {
     "data": {
      "image/png": "[encoded data removed]",
      "text/latex": [
       "$$H{\\left (z \\right )} = \\frac{z}{z - 1}$$"
      ],
      "text/plain": [
       "         z  \n",
       "H(z) = ─────\n",
       "       z - 1"
      ]
     },
     "execution_count": 34,
     "metadata": {},
     "output_type": "execute_result"
    }
   ],
   "source": [
    "Accum1TFEq=Eq(H, solve(Accum1ZEq, Y)[0]/X); Accum1TFEq"
   ]
  },
  {
   "cell_type": "code",
   "execution_count": 35,
   "metadata": {},
   "outputs": [
    {
     "name": "stdout",
     "output_type": "stream",
     "text": [
      "H(z) has zeros from z at [0]\n",
      "and poles from z - 1 at [1]\n"
     ]
    }
   ],
   "source": [
    "TFnum, TFden=fraction(Accum1TFEq.rhs); TFnum, TFden\n",
    "TFZeros=solve(TFnum, z); TFPoles=solve(TFden)\n",
    "TFPZStatment=f\"\"\"{H} has zeros from {TFnum} at {TFZeros}\n",
    "and poles from {TFden} at {TFPoles}\"\"\"\n",
    "print(TFPZStatment)"
   ]
  },
  {
   "cell_type": "code",
   "execution_count": 36,
   "metadata": {},
   "outputs": [
    {
     "data": {
      "image/png": "[encoded data removed]",
      "text/latex": [
       "$$\\left ( \\left [ 1.0\\right ], \\quad \\left [ 1.0, \\quad -1.0\\right ]\\right )$$"
      ],
      "text/plain": [
       "([1.0], [1.0, -1.0])"
      ]
     },
     "execution_count": 36,
     "metadata": {},
     "output_type": "execute_result"
    }
   ],
   "source": [
    "sups[M]=0\n",
    "TFCoefN=lambda NumDen: [float(i) for i in Poly(NumDen, z).coeffs()]\n",
    "TFnumC=TFCoefN(TFnum); TFdenC=TFCoefN(TFden)\n",
    "for i in range(sups[M]-1):\n",
    "    TFnumC.insert(1, 0)\n",
    "\n",
    "for i in range(sups[M]):\n",
    "    TFdenC.insert(1, 0)\n",
    "TFnumC, TFdenC"
   ]
  },
  {
   "cell_type": "code",
   "execution_count": 37,
   "metadata": {},
   "outputs": [
    {
     "data": {
      "text/plain": [
       "TransferFunctionDiscrete(\n",
       "array([ 1.]),\n",
       "array([ 1., -1.]),\n",
       "dt: 0.00020833333333333335\n",
       ")"
      ]
     },
     "execution_count": 37,
     "metadata": {},
     "output_type": "execute_result"
    }
   ],
   "source": [
    "AccumSci=sig.TransferFunction(TFnumC, TFdenC, dt=1/4.8e3)\n",
    "AccumSci"
   ]
  },
  {
   "cell_type": "code",
   "execution_count": 38,
   "metadata": {},
   "outputs": [
    {
     "name": "stderr",
     "output_type": "stream",
     "text": [
      "** RuntimeWarning: divide by zero encountered in true_divide\n",
      "** RuntimeWarning: invalid value encountered in true_divide\n",
      "** RuntimeWarning: invalid value encountered in remainder\n",
      "** RuntimeWarning: invalid value encountered in greater\n",
      "** RuntimeWarning: invalid value encountered in less\n"
     ]
    },
    {
     "data": {
      "text/plain": [
       "<matplotlib.text.Text at 0x2a94bd084a8>"
      ]
     },
     "execution_count": 38,
     "metadata": {},
     "output_type": "execute_result"
    },
    {
     "data": {
      "image/png": "[encoded data removed]",
      "text/plain": [
       "<matplotlib.figure.Figure at 0x2a94aabaf28>"
      ]
     },
     "metadata": {},
     "output_type": "display_data"
    }
   ],
   "source": [
    "w, mag, phase = sig.dbode(AccumSci )\n",
    "fig, ax=plt.subplots(nrows=2, ncols=1, sharex=True)\n",
    "plt.title(f'Bode Plot of Accum Section')\n",
    "ax[0].semilogx(w, mag, label='Mag')\n",
    "ax[0].set_ylabel('Mag [dB]')\n",
    "ax[1].semilogx(w, phase, label='Phase')\n",
    "ax[1].set_ylabel('Phase[deg]')\n",
    "ax[1].set_xlabel(r'$\\omega[rad/dt]$')"
   ]
  },
  {
   "cell_type": "code",
   "execution_count": 39,
   "metadata": {},
   "outputs": [
    {
     "data": {
      "image/png": "[encoded data removed]",
      "text/plain": [
       "<matplotlib.figure.Figure at 0x2a94bf4e240>"
      ]
     },
     "metadata": {},
     "output_type": "display_data"
    }
   ],
   "source": [
    "plt.title(f'Impulse Respince of Accum Section')\n",
    "tout, yout=sig.dimpulse(AccumSci, n=100)\n",
    "plt.plot(tout, yout[0])\n",
    "plt.xlabel('time[sec]'); plt.ylabel('Amp')\n",
    "plt.ticklabel_format(style='sci', axis='x', scilimits=(0,0))"
   ]
  },
  {
   "cell_type": "code",
   "execution_count": 40,
   "metadata": {},
   "outputs": [
    {
     "data": {
      "image/png": "[encoded data removed]",
      "text/plain": [
       "<matplotlib.figure.Figure at 0x2a94bf0ba90>"
      ]
     },
     "metadata": {},
     "output_type": "display_data"
    }
   ],
   "source": [
    "plt.title(f'Step Respince of Accum Section')\n",
    "tout, yout=sig.dstep(AccumSci, n=100)\n",
    "plt.plot(tout, yout[0])\n",
    "plt.xlabel('time[sec]'); plt.ylabel('Amp')\n",
    "plt.ticklabel_format(style='sci', axis='x', scilimits=(0,0))"
   ]
  },
  {
   "cell_type": "code",
   "execution_count": 61,
   "metadata": {
    "collapsed": true
   },
   "outputs": [],
   "source": [
    "def AccumSection(x_in, y_out, DataValIn, DataValOut, clk, rst):\n",
    "    \"\"\"\n",
    "    Simple Integrator    \n",
    "    \n",
    "    \n",
    "    Ports:\n",
    "    ------\n",
    "    x_in:    2's compliment input\n",
    "    y_out:    2's compliment output\n",
    "    DataValIn:  data valid input, flow control signal for the different rates\n",
    "    clk:  System clock, must be equal to or greater than the max\n",
    "          sample rate after interpolation or before decimation\n",
    "    rst:  System reset\n",
    "    \"\"\"\n",
    "    \n",
    "    @always(clk.posedge)\n",
    "    def logic():\n",
    "        if rst:\n",
    "            y_out.next=0\n",
    "        else:                \n",
    "            test=0\n",
    "\n",
    "            if DataValIn and (test<y_out.max and test>y_out.min):\n",
    "                y_out.next=y_out+x_in\n",
    "                DataValOut.next=True\n",
    "            else:\n",
    "                DataValOut.next=False\n",
    "    \n",
    "    return instances()\n",
    "            \n",
    "    "
   ]
  },
  {
   "cell_type": "code",
   "execution_count": 62,
   "metadata": {
    "collapsed": true
   },
   "outputs": [],
   "source": [
    "BitWidth=16\n",
    "L=2**(BitWidth)\n",
    "maxminV =4*L \n",
    "Peeker.clear()\n",
    "\n",
    "x_in=Signal(intbv(0, min=-L, max=L)); Peeker(x_in, 'x_in')\n",
    "\n",
    "y_out=Signal(intbv(0, min=-maxminV, max=maxminV)); Peeker(y_out, 'y_out')\n",
    "AccumTracker=[]\n",
    "\n",
    "DataValIn=Signal(bool(0)); Peeker(DataValIn, 'DataValIn')\n",
    "DataValOut=Signal(bool(0)); Peeker(DataValOut, 'DataValOut')\n",
    "\n",
    "clk=Signal(bool(0)); Peeker(clk, 'clk')\n",
    "rst=Signal(bool(0)); Peeker(rst, 'rst')\n",
    "\n",
    "\n",
    "DUT=AccumSection(x_in=x_in, y_out=y_out, \n",
    "                DataValIn=DataValIn, DataValOut=DataValOut, \n",
    "                clk=clk, rst=rst)\n",
    "\n",
    "\n",
    "\n",
    "def AccumSection_TB():\n",
    "    TestValueGen=TestValues['GenValue'].iteritems()\n",
    "    \n",
    "    @always(delay(1))    \n",
    "    def clkgen():\n",
    "        clk.next = not clk\n",
    "    \n",
    "    @instance\n",
    "    def stimules():\n",
    "        #test the DataValIn responce\n",
    "        for step, val in TestValueGen:\n",
    "            x_in.next=int(val)\n",
    "            if step<12:\n",
    "                DataValIn.next=False\n",
    "            \n",
    "            elif step==12:\n",
    "                DataValIn.next=True\n",
    "                \n",
    "            elif step==100:\n",
    "                rst.next=True\n",
    "                DataValIn.next=False\n",
    "            \n",
    "            elif step==101:\n",
    "                rst.next=False\n",
    "                DataValIn.next=False\n",
    "            \n",
    "            elif step==112:\n",
    "                DataValIn.next=False\n",
    "                \n",
    "            else:\n",
    "                DataValIn.next=True\n",
    "            AccumTracker.append(int(y_out))\n",
    "            \n",
    "        \n",
    "            \n",
    "            yield clk.negedge\n",
    "        \n",
    "        raise StopSimulation\n",
    "        \n",
    "    return instances()\n",
    "        "
   ]
  },
  {
   "cell_type": "code",
   "execution_count": 63,
   "metadata": {},
   "outputs": [
    {
     "data": {
      "text/html": [
       "<div><script type=\"WaveDrom\">{\"signal\": [{\"name\": \"DataValIn\", \"wave\": \"1....................\"}, {\"name\": \"DataValOut\", \"wave\": \"1....................\"}, {\"name\": \"clk\", \"wave\": \"010101010101010101010\"}, {\"name\": \"x_in\", \"wave\": \"=.=.=.=.=.=.=.=.=.=.=\", \"data\": [\"-29189\", \"-19244\", \"-5104\", \"10148\", \"23187\", \"31170\", \"32357\", \"26489\", \"14845\", \"-36\", \"-14910\"]}, {\"name\": \"y_out\", \"wave\": \"==.=.=.=.=.=.=.=.=.=.\", \"data\": [\"10386\", \"-18803\", \"-38047\", \"-43151\", \"-33003\", \"-9816\", \"21354\", \"53711\", \"80200\", \"95045\", \"95009\"]}, {\"name\": \"rst[0]\", \"wave\": \"0....................\"}], \"head\": {\"tock\": 40}, \"foot\": {\"tock\": 40}}</script></div>"
      ]
     },
     "metadata": {},
     "output_type": "display_data"
    },
    {
     "data": {
      "application/javascript": [
       "$.getScript(\"http://wavedrom.com/wavedrom.min.js\", function () {\n",
       "$.getScript(\"http://wavedrom.com/skins/default.js\", function () {\n",
       "WaveDrom.ProcessAll();});\n",
       "});\n"
      ]
     },
     "metadata": {},
     "output_type": "display_data"
    }
   ],
   "source": [
    "N=TestValues.shape[0]\n",
    "sim = Simulation(DUT, AccumSection_TB(), *Peeker.instances()).run()\n",
    "Peeker.to_wavedrom(start_time=40, stop_time=60, tock=True)"
   ]
  },
  {
   "cell_type": "code",
   "execution_count": 65,
   "metadata": {},
   "outputs": [
    {
     "data": {
      "image/png": "[encoded data removed]",
      "text/plain": [
       "<matplotlib.figure.Figure at 0x2a94c020eb8>"
      ]
     },
     "metadata": {},
     "output_type": "display_data"
    }
   ],
   "source": [
    "plt.stem(TestValues['Time[s]'], TestValues['GenValue']-np.array(AccumTracker))\n",
    "plt.ticklabel_format(style='sci', axis='x', scilimits=(0,0))\n"
   ]
  },
  {
   "cell_type": "markdown",
   "metadata": {},
   "source": [
    "# CIC Filter Additial Segments"
   ]
  },
  {
   "cell_type": "code",
   "execution_count": 67,
   "metadata": {
    "collapsed": true
   },
   "outputs": [],
   "source": [
    "def PassThroughSection(x_in, y_out, DataValIn, DataValOut):\n",
    "    \"\"\"\n",
    "    Place holder insted of interpoplation or decimation \n",
    "    \n",
    "    Ports:\n",
    "    ------\n",
    "    x_in:    2's compliment input\n",
    "    y_out:    2's compliment output\n",
    "    DataValIn:  data valid input, flow control signal for the different rates\n",
    "    \"\"\"\n",
    "    \n",
    "    @always_comb\n",
    "    def logic():\n",
    "        y_out.next=x_in\n",
    "        DataValOut.next=DataValIn\n",
    "    return logic"
   ]
  },
  {
   "cell_type": "code",
   "execution_count": 76,
   "metadata": {},
   "outputs": [],
   "source": [
    "BitWidth=16\n",
    "L=2**(BitWidth)\n",
    "maxminV =4*L \n",
    "Peeker.clear()\n",
    "\n",
    "x_in=Signal(intbv(0, min=-L, max=L)); Peeker(x_in, 'x_in')\n",
    "\n",
    "y_out=Signal(intbv(0, min=-maxminV, max=maxminV)); Peeker(y_out, 'y_out')\n",
    "PassThroughTracker=[]\n",
    "\n",
    "DataValIn=Signal(bool(0)); Peeker(DataValIn, 'DataValIn')\n",
    "DataValOut=Signal(bool(0)); Peeker(DataValOut, 'DataValOut')\n",
    "\n",
    "clk=Signal(bool(0)); Peeker(clk, 'clk')\n",
    "rst=Signal(bool(0)); Peeker(rst, 'rst')\n",
    "\n",
    "\n",
    "DUT=PassThroughSection(x_in=x_in, y_out=y_out, \n",
    "                       DataValIn=DataValIn, DataValOut=DataValOut)\n",
    "\n",
    "\n",
    "\n",
    "\n",
    "def PassThroughSection_TB():\n",
    "    TestValueGen=TestValues['GenValue'].iteritems()\n",
    "    \n",
    "    @always(delay(1))    \n",
    "    def clkgen():\n",
    "        clk.next = not clk\n",
    "    \n",
    "    @instance\n",
    "    def stimules():\n",
    "        #test the DataValIn responce\n",
    "        for step, val in TestValueGen:\n",
    "            x_in.next=int(val)\n",
    "            if step<12:\n",
    "                DataValIn.next=False\n",
    "            \n",
    "            elif step==12:\n",
    "                DataValIn.next=True\n",
    "                \n",
    "           \n",
    "            PassThroughTracker.append(int(y_out))\n",
    "        \n",
    "            yield clk.negedge\n",
    "        \n",
    "        raise StopSimulation\n",
    "        \n",
    "    return instances()\n",
    "        "
   ]
  },
  {
   "cell_type": "code",
   "execution_count": 77,
   "metadata": {},
   "outputs": [
    {
     "data": {
      "text/html": [
       "<div><script type=\"WaveDrom\">{\"signal\": [{\"name\": \"DataValIn\", \"wave\": \"1....................\"}, {\"name\": \"DataValOut\", \"wave\": \"1....................\"}, {\"name\": \"clk\", \"wave\": \"010101010101010101010\"}, {\"name\": \"x_in\", \"wave\": \"=.=.=.=.=.=.=.=.=.=.=\", \"data\": [\"-29189\", \"-19244\", \"-5104\", \"10148\", \"23187\", \"31170\", \"32357\", \"26489\", \"14845\", \"-36\", \"-14910\"]}, {\"name\": \"y_out\", \"wave\": \"=.=.=.=.=.=.=.=.=.=.=\", \"data\": [\"-29189\", \"-19244\", \"-5104\", \"10148\", \"23187\", \"31170\", \"32357\", \"26489\", \"14845\", \"-36\", \"-14910\"]}, {\"name\": \"rst[0]\", \"wave\": \"0....................\"}], \"head\": {\"tock\": 40}, \"foot\": {\"tock\": 40}}</script></div>"
      ]
     },
     "metadata": {},
     "output_type": "display_data"
    },
    {
     "data": {
      "application/javascript": [
       "$.getScript(\"http://wavedrom.com/wavedrom.min.js\", function () {\n",
       "$.getScript(\"http://wavedrom.com/skins/default.js\", function () {\n",
       "WaveDrom.ProcessAll();});\n",
       "});\n"
      ]
     },
     "metadata": {},
     "output_type": "display_data"
    }
   ],
   "source": [
    "N=TestValues.shape[0]\n",
    "sim = Simulation(DUT, PassThroughSection_TB(), *Peeker.instances()).run()\n",
    "Peeker.to_wavedrom(start_time=40, stop_time=60, tock=True)"
   ]
  },
  {
   "cell_type": "code",
   "execution_count": 78,
   "metadata": {},
   "outputs": [
    {
     "data": {
      "image/png": "[encoded data removed]",
      "text/plain": [
       "<matplotlib.figure.Figure at 0x2a94c33e160>"
      ]
     },
     "metadata": {},
     "output_type": "display_data"
    }
   ],
   "source": [
    "plt.stem(TestValues['Time[s]'], TestValues['GenValue']-np.array(PassThroughTracker))\n",
    "plt.ticklabel_format(style='sci', axis='x', scilimits=(0,0))\n"
   ]
  },
  {
   "cell_type": "code",
   "execution_count": null,
   "metadata": {
    "collapsed": true
   },
   "outputs": [],
   "source": []
  }
 ],
 "metadata": {
  "author": "Cascaded Integrator Comb (CIC) Filter in myHDL",
  "hide_input": false,
  "kernelspec": {
   "display_name": "Python 3",
   "language": "python",
   "name": "python3"
  },
  "language_info": {
   "codemirror_mode": {
    "name": "ipython",
    "version": 3
   },
   "file_extension": ".py",
   "mimetype": "text/x-python",
   "name": "python",
   "nbconvert_exporter": "python",
   "pygments_lexer": "ipython3",
   "version": "3.6.1"
  },
  "latex_envs": {
   "LaTeX_envs_menu_present": true,
   "autocomplete": true,
   "bibliofile": "biblio.bib",
   "cite_by": "apalike",
   "current_citInitial": 1,
   "eqLabelWithNumbers": true,
   "eqNumInitial": 1,
   "hotkeys": {
    "equation": "Ctrl-E",
    "itemize": "Ctrl-I"
   },
   "labels_anchors": false,
   "latex_user_defs": false,
   "report_style_numbering": false,
   "user_envs_cfg": false
  },
  "toc": {
   "colors": {
    "hover_highlight": "#DAA520",
    "navigate_num": "#000000",
    "navigate_text": "#333333",
    "running_highlight": "#FF0000",
    "selected_highlight": "#FFD700",
    "sidebar_border": "#EEEEEE",
    "wrapper_background": "#FFFFFF"
   },
   "moveMenuLeft": true,
   "nav_menu": {
    "height": "12px",
    "width": "252px"
   },
   "navigate_menu": true,
   "number_sections": true,
   "sideBar": true,
   "threshold": 4,
   "toc_cell": false,
   "toc_position": {
    "height": "799px",
    "left": "0px",
    "right": "738px",
    "top": "130px",
    "width": "212px"
   },
   "toc_section_display": "block",
   "toc_window_display": true,
   "widenNotebook": false
  }
 },
 "nbformat": 4,
 "nbformat_minor": 2
}
