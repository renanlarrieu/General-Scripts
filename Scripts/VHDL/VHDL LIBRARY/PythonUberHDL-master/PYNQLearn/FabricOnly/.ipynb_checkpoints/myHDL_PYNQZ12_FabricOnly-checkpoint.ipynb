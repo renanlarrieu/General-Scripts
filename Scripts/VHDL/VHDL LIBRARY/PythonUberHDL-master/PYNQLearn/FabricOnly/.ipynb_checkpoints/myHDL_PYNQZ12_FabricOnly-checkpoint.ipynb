{
 "cells": [
  {
   "cell_type": "markdown",
   "metadata": {},
   "source": [
    "\\title{myHDL to PYNQ Fabric Only Exsample}\n",
    "\\author{Steven K Armour}\n",
    "\\maketitle"
   ]
  },
  {
   "cell_type": "markdown",
   "metadata": {},
   "source": [
    "# Refrances"
   ]
  },
  {
   "cell_type": "markdown",
   "metadata": {},
   "source": [
    "# Libraries and Helper functions"
   ]
  },
  {
   "cell_type": "code",
   "execution_count": 1,
   "metadata": {},
   "outputs": [
    {
     "data": {
      "application/json": {
       "Software versions": [
        {
         "module": "Python",
         "version": "3.6.5 64bit [GCC 7.2.0]"
        },
        {
         "module": "IPython",
         "version": "6.4.0"
        },
        {
         "module": "OS",
         "version": "Linux 4.15.0 30 generic x86_64 with debian buster sid"
        },
        {
         "module": "myhdl",
         "version": "0.10"
        },
        {
         "module": "myhdlpeek",
         "version": "0.0.7"
        },
        {
         "module": "numpy",
         "version": "1.14.3"
        },
        {
         "module": "pandas",
         "version": "0.23.0"
        },
        {
         "module": "matplotlib",
         "version": "2.2.2"
        },
        {
         "module": "sympy",
         "version": "1.1.1"
        },
        {
         "module": "random",
         "version": "The 'random' distribution was not found and is required by the application"
        }
       ]
      },
      "text/html": [
       "<table><tr><th>Software</th><th>Version</th></tr><tr><td>Python</td><td>3.6.5 64bit [GCC 7.2.0]</td></tr><tr><td>IPython</td><td>6.4.0</td></tr><tr><td>OS</td><td>Linux 4.15.0 30 generic x86_64 with debian buster sid</td></tr><tr><td>myhdl</td><td>0.10</td></tr><tr><td>myhdlpeek</td><td>0.0.7</td></tr><tr><td>numpy</td><td>1.14.3</td></tr><tr><td>pandas</td><td>0.23.0</td></tr><tr><td>matplotlib</td><td>2.2.2</td></tr><tr><td>sympy</td><td>1.1.1</td></tr><tr><td>random</td><td>The 'random' distribution was not found and is required by the application</td></tr><tr><td colspan='2'>Sun Aug 19 18:05:52 2018 MDT</td></tr></table>"
      ],
      "text/latex": [
       "\\begin{tabular}{|l|l|}\\hline\n",
       "{\\bf Software} & {\\bf Version} \\\\ \\hline\\hline\n",
       "Python & 3.6.5 64bit [GCC 7.2.0] \\\\ \\hline\n",
       "IPython & 6.4.0 \\\\ \\hline\n",
       "OS & Linux 4.15.0 30 generic x86\\_64 with debian buster sid \\\\ \\hline\n",
       "myhdl & 0.10 \\\\ \\hline\n",
       "myhdlpeek & 0.0.7 \\\\ \\hline\n",
       "numpy & 1.14.3 \\\\ \\hline\n",
       "pandas & 0.23.0 \\\\ \\hline\n",
       "matplotlib & 2.2.2 \\\\ \\hline\n",
       "sympy & 1.1.1 \\\\ \\hline\n",
       "random & The 'random' distribution was not found and is required by the application \\\\ \\hline\n",
       "\\hline \\multicolumn{2}{|l|}{Sun Aug 19 18:05:52 2018 MDT} \\\\ \\hline\n",
       "\\end{tabular}\n"
      ],
      "text/plain": [
       "Software versions\n",
       "Python 3.6.5 64bit [GCC 7.2.0]\n",
       "IPython 6.4.0\n",
       "OS Linux 4.15.0 30 generic x86_64 with debian buster sid\n",
       "myhdl 0.10\n",
       "myhdlpeek 0.0.7\n",
       "numpy 1.14.3\n",
       "pandas 0.23.0\n",
       "matplotlib 2.2.2\n",
       "sympy 1.1.1\n",
       "random The 'random' distribution was not found and is required by the application\n",
       "Sun Aug 19 18:05:52 2018 MDT"
      ]
     },
     "execution_count": 1,
     "metadata": {},
     "output_type": "execute_result"
    }
   ],
   "source": [
    "from myhdl import *\n",
    "from myhdlpeek import Peeker\n",
    "import numpy as np\n",
    "import pandas as pd\n",
    "import matplotlib.pyplot as plt\n",
    "%matplotlib inline\n",
    "\n",
    "from sympy import *\n",
    "init_printing()\n",
    "\n",
    "import random\n",
    "\n",
    "#https://github.com/jrjohansson/version_information\n",
    "%load_ext version_information\n",
    "%version_information myhdl, myhdlpeek, numpy, pandas, matplotlib, sympy, random"
   ]
  },
  {
   "cell_type": "code",
   "execution_count": 2,
   "metadata": {},
   "outputs": [],
   "source": [
    "#helper  functions to read in the .v and .vhd generated files into python\n",
    "def VerilogTextReader(loc, printresult=True):\n",
    "    with open(f'{loc}.v', 'r') as vText:\n",
    "        VerilogText=vText.read()\n",
    "    if printresult:\n",
    "        print(f'***Verilog modual from {loc}.v***\\n\\n', VerilogText)\n",
    "    return VerilogText\n",
    "\n",
    "def VHDLTextReader(loc, printresult=True):\n",
    "    with open(f'{loc}.vhd', 'r') as vText:\n",
    "        VerilogText=vText.read()\n",
    "    if printresult:\n",
    "        print(f'***VHDL modual from {loc}.vhd***\\n\\n', VerilogText)\n",
    "    return VerilogText"
   ]
  },
  {
   "cell_type": "markdown",
   "metadata": {},
   "source": [
    "# Project 1: 1 Switch 1 LED\n",
    "https://timetoexplore.net/blog/arty-fpga-verilog-01"
   ]
  },
  {
   "cell_type": "markdown",
   "metadata": {},
   "source": [
    "## Constraints File"
   ]
  },
  {
   "cell_type": "markdown",
   "metadata": {},
   "source": [
    "## myHDL Code"
   ]
  },
  {
   "cell_type": "code",
   "execution_count": 3,
   "metadata": {},
   "outputs": [],
   "source": [
    "@block\n",
    "def S0L0(sw, clk, led):\n",
    "    \"\"\"\n",
    "    FPGA Hello world of one switch controlling one LED based on\n",
    "    https://timetoexplore.net/blog/arty-fpga-verilog-01\n",
    "    \n",
    "    Target:\n",
    "        ZYNQ 7000 Board (Arty, PYNQ-Z1, PYNQ-Z2) with at least 2 \n",
    "        switchs and 4 leds\n",
    "    \n",
    "    \n",
    "    Input:\n",
    "        sw(2bitVec):switch input\n",
    "        clk(bool): clock input    \n",
    "    Ouput:\n",
    "        led(4bitVec): led output\n",
    "        \n",
    "    \"\"\"\n",
    "    \n",
    "    @always(clk.posedge)\n",
    "    def logic():\n",
    "        if sw[0]==0:\n",
    "            led.next[0]=True\n",
    "        else:\n",
    "            led.next[0]=False\n",
    "    \n",
    "    return instances()"
   ]
  },
  {
   "cell_type": "markdown",
   "metadata": {},
   "source": [
    "## myHDL Testing"
   ]
  },
  {
   "cell_type": "code",
   "execution_count": 4,
   "metadata": {},
   "outputs": [],
   "source": [
    "Peeker.clear()\n",
    "clk=Signal(bool(0)); Peeker(clk, 'clk')\n",
    "sw=Signal(intbv(0)[2:]); Peeker(sw, 'sw')\n",
    "led=Signal(intbv(0)[4:]); Peeker(led, 'led')\n",
    "\n",
    "np.random.seed(18)\n",
    "swTVals=[int(i) for i in np.random.randint(0,2, 10)]\n",
    "\n",
    "DUT=S0L0(sw, clk, led)\n",
    "\n",
    "def S0L0_TB():\n",
    "    \n",
    "    @always(delay(1))\n",
    "    def ClkGen():\n",
    "        clk.next=not clk\n",
    "        \n",
    "    @instance\n",
    "    def stimules():\n",
    "        for i in range(10):\n",
    "            sw.next[0]=swTVals[i]\n",
    "            yield clk.posedge\n",
    "        raise StopSimulation()\n",
    "    \n",
    "    return instances()\n",
    "            \n",
    "sim=Simulation(DUT, S0L0_TB(), *Peeker.instances()).run()"
   ]
  },
  {
   "cell_type": "code",
   "execution_count": 5,
   "metadata": {},
   "outputs": [
    {
     "data": {
      "text/html": [
       "<div><script type=\"WaveDrom\">{\"signal\": [{\"name\": \"clk\", \"wave\": \"0101010101010101010\"}, {\"name\": \"led\", \"wave\": \"==.=.=.=.=.=.=.....\", \"data\": [\"0\", \"1\", \"0\", \"1\", \"0\", \"1\", \"0\", \"1\"]}, {\"name\": \"sw\", \"wave\": \"==.=.=.=.=.=.......\", \"data\": [\"0\", \"1\", \"0\", \"1\", \"0\", \"1\", \"0\"]}]}</script></div>"
      ]
     },
     "metadata": {},
     "output_type": "display_data"
    },
    {
     "data": {
      "application/javascript": [
       "$.getScript(\"http://wavedrom.com/wavedrom.min.js\", function () {\n",
       "$.getScript(\"http://wavedrom.com/skins/default.js\", function () {\n",
       "WaveDrom.ProcessAll();});\n",
       "});\n"
      ]
     },
     "metadata": {},
     "output_type": "display_data"
    }
   ],
   "source": [
    "Peeker.to_wavedrom()"
   ]
  },
  {
   "cell_type": "code",
   "execution_count": 6,
   "metadata": {},
   "outputs": [
    {
     "data": {
      "text/html": [
       "<div>\n",
       "<style scoped>\n",
       "    .dataframe tbody tr th:only-of-type {\n",
       "        vertical-align: middle;\n",
       "    }\n",
       "\n",
       "    .dataframe tbody tr th {\n",
       "        vertical-align: top;\n",
       "    }\n",
       "\n",
       "    .dataframe thead th {\n",
       "        text-align: right;\n",
       "    }\n",
       "</style>\n",
       "<table border=\"1\" class=\"dataframe\">\n",
       "  <thead>\n",
       "    <tr style=\"text-align: right;\">\n",
       "      <th></th>\n",
       "      <th>clk</th>\n",
       "      <th>led</th>\n",
       "      <th>sw</th>\n",
       "    </tr>\n",
       "  </thead>\n",
       "  <tbody>\n",
       "    <tr>\n",
       "      <th>0</th>\n",
       "      <td>0</td>\n",
       "      <td>0</td>\n",
       "      <td>0</td>\n",
       "    </tr>\n",
       "    <tr>\n",
       "      <th>1</th>\n",
       "      <td>1</td>\n",
       "      <td>1</td>\n",
       "      <td>1</td>\n",
       "    </tr>\n",
       "    <tr>\n",
       "      <th>2</th>\n",
       "      <td>0</td>\n",
       "      <td>1</td>\n",
       "      <td>1</td>\n",
       "    </tr>\n",
       "    <tr>\n",
       "      <th>3</th>\n",
       "      <td>1</td>\n",
       "      <td>0</td>\n",
       "      <td>0</td>\n",
       "    </tr>\n",
       "    <tr>\n",
       "      <th>4</th>\n",
       "      <td>0</td>\n",
       "      <td>0</td>\n",
       "      <td>0</td>\n",
       "    </tr>\n",
       "    <tr>\n",
       "      <th>5</th>\n",
       "      <td>1</td>\n",
       "      <td>1</td>\n",
       "      <td>1</td>\n",
       "    </tr>\n",
       "    <tr>\n",
       "      <th>6</th>\n",
       "      <td>0</td>\n",
       "      <td>1</td>\n",
       "      <td>1</td>\n",
       "    </tr>\n",
       "    <tr>\n",
       "      <th>7</th>\n",
       "      <td>1</td>\n",
       "      <td>0</td>\n",
       "      <td>0</td>\n",
       "    </tr>\n",
       "    <tr>\n",
       "      <th>8</th>\n",
       "      <td>0</td>\n",
       "      <td>0</td>\n",
       "      <td>0</td>\n",
       "    </tr>\n",
       "    <tr>\n",
       "      <th>9</th>\n",
       "      <td>1</td>\n",
       "      <td>1</td>\n",
       "      <td>1</td>\n",
       "    </tr>\n",
       "    <tr>\n",
       "      <th>10</th>\n",
       "      <td>0</td>\n",
       "      <td>1</td>\n",
       "      <td>1</td>\n",
       "    </tr>\n",
       "    <tr>\n",
       "      <th>11</th>\n",
       "      <td>1</td>\n",
       "      <td>0</td>\n",
       "      <td>0</td>\n",
       "    </tr>\n",
       "    <tr>\n",
       "      <th>12</th>\n",
       "      <td>0</td>\n",
       "      <td>0</td>\n",
       "      <td>0</td>\n",
       "    </tr>\n",
       "    <tr>\n",
       "      <th>13</th>\n",
       "      <td>1</td>\n",
       "      <td>1</td>\n",
       "      <td>0</td>\n",
       "    </tr>\n",
       "    <tr>\n",
       "      <th>14</th>\n",
       "      <td>0</td>\n",
       "      <td>1</td>\n",
       "      <td>0</td>\n",
       "    </tr>\n",
       "    <tr>\n",
       "      <th>15</th>\n",
       "      <td>1</td>\n",
       "      <td>1</td>\n",
       "      <td>0</td>\n",
       "    </tr>\n",
       "    <tr>\n",
       "      <th>16</th>\n",
       "      <td>0</td>\n",
       "      <td>1</td>\n",
       "      <td>0</td>\n",
       "    </tr>\n",
       "    <tr>\n",
       "      <th>17</th>\n",
       "      <td>1</td>\n",
       "      <td>1</td>\n",
       "      <td>0</td>\n",
       "    </tr>\n",
       "    <tr>\n",
       "      <th>18</th>\n",
       "      <td>0</td>\n",
       "      <td>1</td>\n",
       "      <td>0</td>\n",
       "    </tr>\n",
       "  </tbody>\n",
       "</table>\n",
       "</div>"
      ],
      "text/plain": [
       "    clk  led  sw\n",
       "0     0    0   0\n",
       "1     1    1   1\n",
       "2     0    1   1\n",
       "3     1    0   0\n",
       "4     0    0   0\n",
       "5     1    1   1\n",
       "6     0    1   1\n",
       "7     1    0   0\n",
       "8     0    0   0\n",
       "9     1    1   1\n",
       "10    0    1   1\n",
       "11    1    0   0\n",
       "12    0    0   0\n",
       "13    1    1   0\n",
       "14    0    1   0\n",
       "15    1    1   0\n",
       "16    0    1   0\n",
       "17    1    1   0\n",
       "18    0    1   0"
      ]
     },
     "execution_count": 6,
     "metadata": {},
     "output_type": "execute_result"
    }
   ],
   "source": [
    "Peeker.to_dataframe()"
   ]
  },
  {
   "cell_type": "markdown",
   "metadata": {},
   "source": [
    "## Verilog Code"
   ]
  },
  {
   "cell_type": "code",
   "execution_count": 7,
   "metadata": {},
   "outputs": [
    {
     "name": "stdout",
     "output_type": "stream",
     "text": [
      "***Verilog modual from S0L0.v***\n",
      "\n",
      " // File: S0L0.v\n",
      "// Generated by MyHDL 0.10\n",
      "// Date: Sun Aug 19 18:05:53 2018\n",
      "\n",
      "\n",
      "`timescale 1ns/10ps\n",
      "\n",
      "module S0L0 (\n",
      "    sw,\n",
      "    clk,\n",
      "    led\n",
      ");\n",
      "// FPGA Hello world of one switch controlling one LED based on\n",
      "// https://timetoexplore.net/blog/arty-fpga-verilog-01\n",
      "// \n",
      "// Target:\n",
      "//     ZYNQ 7000 Board (Arty, PYNQ-Z1, PYNQ-Z2) with at least 2 \n",
      "//     switchs and 4 leds\n",
      "// \n",
      "// \n",
      "// Input:\n",
      "//     sw(2bitVec):switch input\n",
      "//     clk(bool): clock input    \n",
      "// Ouput:\n",
      "//     led(4bitVec): led output\n",
      "//     \n",
      "\n",
      "input [1:0] sw;\n",
      "input clk;\n",
      "output [3:0] led;\n",
      "reg [3:0] led;\n",
      "\n",
      "\n",
      "\n",
      "\n",
      "always @(posedge clk) begin: S0L0_LOGIC\n",
      "    if ((sw[0] == 0)) begin\n",
      "        led[0] <= 1'b1;\n",
      "    end\n",
      "    else begin\n",
      "        led[0] <= 1'b0;\n",
      "    end\n",
      "end\n",
      "\n",
      "endmodule\n",
      "\n"
     ]
    }
   ],
   "source": [
    "DUT.convert()\n",
    "VerilogTextReader('S0L0');"
   ]
  },
  {
   "cell_type": "markdown",
   "metadata": {},
   "source": [
    "\\begin{figure}\n",
    "\\centerline{\\includegraphics[width=10cm]{S0L0_RTL.png}}\n",
    "\\caption{\\label{fig:S0L0RTL} S0L0 RTL schematic; Xilinx Vivado 2017.4}\n",
    "\\end{figure}"
   ]
  },
  {
   "cell_type": "markdown",
   "metadata": {},
   "source": [
    "\\begin{figure}\n",
    "\\centerline{\\includegraphics[width=10cm]{S0L0_SYN.png}}\n",
    "\\caption{\\label{fig:S0L0SYN} S0L0 Synthesized Schematic; Xilinx Vivado 2017.4}\n",
    "\\end{figure}"
   ]
  },
  {
   "cell_type": "markdown",
   "metadata": {},
   "source": [
    "\\begin{figure}\n",
    "\\centerline{\\includegraphics[width=10cm]{S0L0_SYN.png}}\n",
    "\\caption{\\label{fig:S0L0SYN} S0L0 Implementated Schematic; Xilinx Vivado 2017.4}\n",
    "\\end{figure}"
   ]
  },
  {
   "cell_type": "markdown",
   "metadata": {},
   "source": [
    "## PYNQ-Z1 Constraints File\n",
    "Below is what is found in file `constrs_S0L0.xdc`\n",
    "\n",
    "Notice that the orgianl port names found in the PYNQ-Z1 Constraints file have been changed to the port names of the module `S0L0`"
   ]
  },
  {
   "cell_type": "raw",
   "metadata": {},
   "source": [
    "## PYNQ-Z1 Board Constraints for S0L0.v\n",
    "## Based on https://github.com/Digilent/digilent-xdc/blob/master/Arty-Master.xdc\n",
    "\n",
    "## Clock signal 125 MHz\n",
    "\n",
    "set_property -dict { PACKAGE_PIN H16   IOSTANDARD LVCMOS33 } [get_ports { clk }]; #IO_L13P_T2_MRCC_35 Sch=clk\n",
    "create_clock -add -name sys_clk_pin -period 8.00 -waveform {0 4} [get_ports { clk }];\n",
    "\n",
    "## Switches\n",
    "set_property -dict {PACKAGE_PIN M20 IOSTANDARD LVCMOS33} [get_ports {sw[0]}]\n",
    "set_property -dict {PACKAGE_PIN M19 IOSTANDARD LVCMOS33} [get_ports {sw[1]}]\n",
    "\n",
    "\n",
    "##LEDs\n",
    "set_property -dict {PACKAGE_PIN R14 IOSTANDARD LVCMOS33} [get_ports {led[0]}]\n",
    "set_property -dict {PACKAGE_PIN P14 IOSTANDARD LVCMOS33} [get_ports {led[1]}]\n",
    "set_property -dict {PACKAGE_PIN N16 IOSTANDARD LVCMOS33} [get_ports {led[2]}]\n",
    "set_property -dict {PACKAGE_PIN M14 IOSTANDARD LVCMOS33} [get_ports {led[3]}]"
   ]
  },
  {
   "cell_type": "markdown",
   "metadata": {},
   "source": [
    "## Verilog Testbench"
   ]
  },
  {
   "cell_type": "code",
   "execution_count": 8,
   "metadata": {},
   "outputs": [
    {
     "name": "stdout",
     "output_type": "stream",
     "text": [
      "swTest: [0, 1, 0, 1, 0, 1, 0, 0, 0, 0], 150, [0, 1, 0, 1, 0, 1, 0, 0, 0, 0]\n"
     ]
    }
   ],
   "source": [
    "swTVal=intbv(int(''.join([str(i) for i in swTVals]), 2))[len(swTVals):]\n",
    "print(f'swTest: {swTVals}, {swTVal}, {[int(i) for i in swTVal]}')\n"
   ]
  },
  {
   "cell_type": "code",
   "execution_count": 9,
   "metadata": {},
   "outputs": [
    {
     "name": "stdout",
     "output_type": "stream",
     "text": [
      "<class 'myhdl._Signal._Signal'> <class '_ast.Name'>\n",
      "<class 'myhdl._Signal._Signal'> <class '_ast.Name'>\n",
      "<class 'myhdl._Signal._Signal'> <class '_ast.Name'>\n",
      "***Verilog modual from S0L0_TBV.v***\n",
      "\n",
      " // File: S0L0_TBV.v\n",
      "// Generated by MyHDL 0.10\n",
      "// Date: Sun Aug 19 18:05:54 2018\n",
      "\n",
      "\n",
      "`timescale 1ns/10ps\n",
      "\n",
      "module S0L0_TBV (\n",
      "\n",
      ");\n",
      "\n",
      "\n",
      "\n",
      "reg clk = 0;\n",
      "reg [1:0] sw = 0;\n",
      "reg [3:0] led = 0;\n",
      "wire [9:0] swTVals;\n",
      "\n",
      "assign swTVals = 10'd336;\n",
      "\n",
      "\n",
      "always @(clk, sw, led) begin: S0L0_TBV_PRINT_DATA\n",
      "    $write(\"%h\", sw);\n",
      "    $write(\" \");\n",
      "    $write(\"%h\", clk);\n",
      "    $write(\" \");\n",
      "    $write(\"%h\", led);\n",
      "    $write(\"\\n\");\n",
      "end\n",
      "\n",
      "\n",
      "always @(posedge clk) begin: S0L0_TBV_S0L00_0_LOGIC\n",
      "    if ((sw[0] == 0)) begin\n",
      "        led[0] <= 1'b1;\n",
      "    end\n",
      "    else begin\n",
      "        led[0] <= 1'b0;\n",
      "    end\n",
      "end\n",
      "\n",
      "\n",
      "initial begin: S0L0_TBV_CLK_SIGNAL\n",
      "    while (1'b1) begin\n",
      "        clk <= (!clk);\n",
      "        # 1;\n",
      "    end\n",
      "end\n",
      "\n",
      "\n",
      "initial begin: S0L0_TBV_STIMULES\n",
      "    integer i;\n",
      "    for (i=0; i<10; i=i+1) begin\n",
      "        sw[0] <= swTVals[i];\n",
      "        @(posedge clk);\n",
      "    end\n",
      "    $finish;\n",
      "end\n",
      "\n",
      "endmodule\n",
      "\n"
     ]
    },
    {
     "name": "stderr",
     "output_type": "stream",
     "text": [
      "/home/iridium/anaconda3/lib/python3.6/site-packages/myhdl/conversion/_toVerilog.py:349: ToVerilogWarning: Signal is not driven: swTVals\n",
      "  category=ToVerilogWarning\n"
     ]
    }
   ],
   "source": [
    "@block\n",
    "def S0L0_TBV():\n",
    "    clk=Signal(bool(0))\n",
    "    sw=Signal(intbv(0)[2:])\n",
    "    led=Signal(intbv(0)[4:])\n",
    "    \n",
    "    #test stimuli\n",
    "    swTVals=Signal(swTVal)\n",
    "    \n",
    "    @always_comb\n",
    "    def print_data():\n",
    "        print(sw, clk, led)\n",
    "\n",
    "\n",
    "    DUT=S0L0(sw, clk, led)\n",
    "    \n",
    "    @instance\n",
    "    def clk_signal():\n",
    "        while True:\n",
    "            clk.next = not clk\n",
    "            yield delay(1)\n",
    "        \n",
    "    @instance\n",
    "    def stimules():\n",
    "        for i in range(10):\n",
    "            sw.next[0]=swTVals[i]\n",
    "            yield clk.posedge\n",
    "        raise StopSimulation()\n",
    "    \n",
    "    return instances()\n",
    "            \n",
    "TB=S0L0_TBV()\n",
    "TB.convert(hdl=\"Verilog\", initial_values=True)\n",
    "VerilogTextReader('S0L0_TBV');"
   ]
  },
  {
   "cell_type": "markdown",
   "metadata": {},
   "source": [
    "## Board Verification"
   ]
  },
  {
   "cell_type": "markdown",
   "metadata": {},
   "source": []
  },
  {
   "cell_type": "markdown",
   "metadata": {},
   "source": [
    "# Project 2: 2 Switchs 4 LEDS\n",
    "https://timetoexplore.net/blog/arty-fpga-verilog-01"
   ]
  },
  {
   "cell_type": "markdown",
   "metadata": {},
   "source": [
    "## myHDL Code"
   ]
  },
  {
   "cell_type": "code",
   "execution_count": 10,
   "metadata": {},
   "outputs": [],
   "source": [
    "@block\n",
    "def S2L4(sw, clk, led):\n",
    "    \"\"\"\n",
    "    FPGA Hello world of two switchs controlling four LED based on\n",
    "    https://timetoexplore.net/blog/arty-fpga-verilog-01\n",
    "    \n",
    "    Target:\n",
    "        ZYNQ 7000 Board (Arty, PYNQ-Z1, PYNQ-Z2) with at least 2 \n",
    "        switchs and 4 leds\n",
    "    \n",
    "    \n",
    "    Input:\n",
    "        sw(2bitVec):switch input\n",
    "        clk(bool): clock input    \n",
    "    Ouput:\n",
    "        led(4bitVec): led output\n",
    "        \n",
    "    \"\"\"\n",
    "\n",
    "    \n",
    "    @always(clk.posedge)\n",
    "    def logic():\n",
    "        if sw[0]==0:\n",
    "            led.next[2:]=0\n",
    "        else:\n",
    "            led.next[2:]=3\n",
    "            \n",
    "        if sw[1]==0:\n",
    "            led.next[4:2]=0\n",
    "        else:\n",
    "            led.next[4:2]=3\n",
    "    \n",
    "    return instances()"
   ]
  },
  {
   "cell_type": "markdown",
   "metadata": {},
   "source": [
    "## myHDL Testing"
   ]
  },
  {
   "cell_type": "code",
   "execution_count": 11,
   "metadata": {
    "scrolled": false
   },
   "outputs": [],
   "source": [
    "Peeker.clear()\n",
    "clk=Signal(bool(0)); Peeker(clk, 'clk')\n",
    "sw=Signal(intbv(0)[2:]); Peeker(sw, 'sw')\n",
    "led=Signal(intbv(0)[4:]); Peeker(led, 'led')\n",
    "\n",
    "np.random.seed(18)\n",
    "swTVals=[int(i) for i in np.random.randint(0,4, 10)]\n",
    "\n",
    "DUT=S2L4(sw, clk, led)\n",
    "\n",
    "def S2L4_TB():\n",
    "    \n",
    "    @always(delay(1))\n",
    "    def ClkGen():\n",
    "        clk.next=not clk\n",
    "        \n",
    "    @instance\n",
    "    def stimules():\n",
    "        for i in range(10):\n",
    "            sw.next=swTVals[i]\n",
    "            yield clk.posedge\n",
    "        raise StopSimulation()\n",
    "    \n",
    "    return instances()\n",
    "            \n",
    "sim=Simulation(DUT, S2L4_TB(), *Peeker.instances()).run()"
   ]
  },
  {
   "cell_type": "code",
   "execution_count": 12,
   "metadata": {},
   "outputs": [
    {
     "data": {
      "text/html": [
       "<div><script type=\"WaveDrom\">{\"signal\": [{\"name\": \"clk\", \"wave\": \"0101010101010101010\"}, {\"name\": \"led\", \"wave\": \"==.=.=.=.=.=.=.....\", \"data\": [\"0\", \"c\", \"f\", \"0\", \"3\", \"c\", \"3\", \"c\"]}, {\"name\": \"sw\", \"wave\": \"==.=.=.=.=.=.....=.\", \"data\": [\"2\", \"3\", \"0\", \"1\", \"2\", \"1\", \"2\", \"0\"]}]}</script></div>"
      ]
     },
     "metadata": {},
     "output_type": "display_data"
    },
    {
     "data": {
      "application/javascript": [
       "$.getScript(\"http://wavedrom.com/wavedrom.min.js\", function () {\n",
       "$.getScript(\"http://wavedrom.com/skins/default.js\", function () {\n",
       "WaveDrom.ProcessAll();});\n",
       "});\n"
      ]
     },
     "metadata": {},
     "output_type": "display_data"
    }
   ],
   "source": [
    "Peeker.to_wavedrom()"
   ]
  },
  {
   "cell_type": "code",
   "execution_count": 13,
   "metadata": {},
   "outputs": [
    {
     "data": {
      "text/html": [
       "<div>\n",
       "<style scoped>\n",
       "    .dataframe tbody tr th:only-of-type {\n",
       "        vertical-align: middle;\n",
       "    }\n",
       "\n",
       "    .dataframe tbody tr th {\n",
       "        vertical-align: top;\n",
       "    }\n",
       "\n",
       "    .dataframe thead th {\n",
       "        text-align: right;\n",
       "    }\n",
       "</style>\n",
       "<table border=\"1\" class=\"dataframe\">\n",
       "  <thead>\n",
       "    <tr style=\"text-align: right;\">\n",
       "      <th></th>\n",
       "      <th>clk</th>\n",
       "      <th>led</th>\n",
       "      <th>sw</th>\n",
       "    </tr>\n",
       "  </thead>\n",
       "  <tbody>\n",
       "    <tr>\n",
       "      <th>0</th>\n",
       "      <td>0</td>\n",
       "      <td>0</td>\n",
       "      <td>2</td>\n",
       "    </tr>\n",
       "    <tr>\n",
       "      <th>1</th>\n",
       "      <td>1</td>\n",
       "      <td>12</td>\n",
       "      <td>3</td>\n",
       "    </tr>\n",
       "    <tr>\n",
       "      <th>2</th>\n",
       "      <td>0</td>\n",
       "      <td>12</td>\n",
       "      <td>3</td>\n",
       "    </tr>\n",
       "    <tr>\n",
       "      <th>3</th>\n",
       "      <td>1</td>\n",
       "      <td>15</td>\n",
       "      <td>0</td>\n",
       "    </tr>\n",
       "    <tr>\n",
       "      <th>4</th>\n",
       "      <td>0</td>\n",
       "      <td>15</td>\n",
       "      <td>0</td>\n",
       "    </tr>\n",
       "    <tr>\n",
       "      <th>5</th>\n",
       "      <td>1</td>\n",
       "      <td>0</td>\n",
       "      <td>1</td>\n",
       "    </tr>\n",
       "    <tr>\n",
       "      <th>6</th>\n",
       "      <td>0</td>\n",
       "      <td>0</td>\n",
       "      <td>1</td>\n",
       "    </tr>\n",
       "    <tr>\n",
       "      <th>7</th>\n",
       "      <td>1</td>\n",
       "      <td>3</td>\n",
       "      <td>2</td>\n",
       "    </tr>\n",
       "    <tr>\n",
       "      <th>8</th>\n",
       "      <td>0</td>\n",
       "      <td>3</td>\n",
       "      <td>2</td>\n",
       "    </tr>\n",
       "    <tr>\n",
       "      <th>9</th>\n",
       "      <td>1</td>\n",
       "      <td>12</td>\n",
       "      <td>1</td>\n",
       "    </tr>\n",
       "    <tr>\n",
       "      <th>10</th>\n",
       "      <td>0</td>\n",
       "      <td>12</td>\n",
       "      <td>1</td>\n",
       "    </tr>\n",
       "    <tr>\n",
       "      <th>11</th>\n",
       "      <td>1</td>\n",
       "      <td>3</td>\n",
       "      <td>2</td>\n",
       "    </tr>\n",
       "    <tr>\n",
       "      <th>12</th>\n",
       "      <td>0</td>\n",
       "      <td>3</td>\n",
       "      <td>2</td>\n",
       "    </tr>\n",
       "    <tr>\n",
       "      <th>13</th>\n",
       "      <td>1</td>\n",
       "      <td>12</td>\n",
       "      <td>2</td>\n",
       "    </tr>\n",
       "    <tr>\n",
       "      <th>14</th>\n",
       "      <td>0</td>\n",
       "      <td>12</td>\n",
       "      <td>2</td>\n",
       "    </tr>\n",
       "    <tr>\n",
       "      <th>15</th>\n",
       "      <td>1</td>\n",
       "      <td>12</td>\n",
       "      <td>2</td>\n",
       "    </tr>\n",
       "    <tr>\n",
       "      <th>16</th>\n",
       "      <td>0</td>\n",
       "      <td>12</td>\n",
       "      <td>2</td>\n",
       "    </tr>\n",
       "    <tr>\n",
       "      <th>17</th>\n",
       "      <td>1</td>\n",
       "      <td>12</td>\n",
       "      <td>0</td>\n",
       "    </tr>\n",
       "    <tr>\n",
       "      <th>18</th>\n",
       "      <td>0</td>\n",
       "      <td>12</td>\n",
       "      <td>0</td>\n",
       "    </tr>\n",
       "  </tbody>\n",
       "</table>\n",
       "</div>"
      ],
      "text/plain": [
       "    clk  led  sw\n",
       "0     0    0   2\n",
       "1     1   12   3\n",
       "2     0   12   3\n",
       "3     1   15   0\n",
       "4     0   15   0\n",
       "5     1    0   1\n",
       "6     0    0   1\n",
       "7     1    3   2\n",
       "8     0    3   2\n",
       "9     1   12   1\n",
       "10    0   12   1\n",
       "11    1    3   2\n",
       "12    0    3   2\n",
       "13    1   12   2\n",
       "14    0   12   2\n",
       "15    1   12   2\n",
       "16    0   12   2\n",
       "17    1   12   0\n",
       "18    0   12   0"
      ]
     },
     "execution_count": 13,
     "metadata": {},
     "output_type": "execute_result"
    }
   ],
   "source": [
    "Peeker.to_dataframe()"
   ]
  },
  {
   "cell_type": "markdown",
   "metadata": {},
   "source": [
    "## Verilog Code"
   ]
  },
  {
   "cell_type": "code",
   "execution_count": 14,
   "metadata": {},
   "outputs": [
    {
     "name": "stdout",
     "output_type": "stream",
     "text": [
      "***Verilog modual from S2L4.v***\n",
      "\n",
      " // File: S2L4.v\n",
      "// Generated by MyHDL 0.10\n",
      "// Date: Sun Aug 19 18:05:54 2018\n",
      "\n",
      "\n",
      "`timescale 1ns/10ps\n",
      "\n",
      "module S2L4 (\n",
      "    sw,\n",
      "    clk,\n",
      "    led\n",
      ");\n",
      "// FPGA Hello world of two switchs controlling four LED based on\n",
      "// https://timetoexplore.net/blog/arty-fpga-verilog-01\n",
      "// \n",
      "// Target:\n",
      "//     ZYNQ 7000 Board (Arty, PYNQ-Z1, PYNQ-Z2) with at least 2 \n",
      "//     switchs and 4 leds\n",
      "// \n",
      "// \n",
      "// Input:\n",
      "//     sw(2bitVec):switch input\n",
      "//     clk(bool): clock input    \n",
      "// Ouput:\n",
      "//     led(4bitVec): led output\n",
      "//     \n",
      "\n",
      "input [1:0] sw;\n",
      "input clk;\n",
      "output [3:0] led;\n",
      "reg [3:0] led;\n",
      "\n",
      "\n",
      "\n",
      "\n",
      "always @(posedge clk) begin: S2L4_LOGIC\n",
      "    if ((sw[0] == 0)) begin\n",
      "        led[2-1:0] <= 0;\n",
      "    end\n",
      "    else begin\n",
      "        led[2-1:0] <= 3;\n",
      "    end\n",
      "    if ((sw[1] == 0)) begin\n",
      "        led[4-1:2] <= 0;\n",
      "    end\n",
      "    else begin\n",
      "        led[4-1:2] <= 3;\n",
      "    end\n",
      "end\n",
      "\n",
      "endmodule\n",
      "\n"
     ]
    }
   ],
   "source": [
    "DUT.convert()\n",
    "VerilogTextReader('S2L4');"
   ]
  },
  {
   "cell_type": "markdown",
   "metadata": {},
   "source": [
    "\\begin{figure}\n",
    "\\centerline{\\includegraphics[width=10cm]{S2L4_RTL.png}}\n",
    "\\caption{\\label{fig:S2L4RTL} S2L4 RTL schematic; Xilinx Vivado 2017.4}\n",
    "\\end{figure}"
   ]
  },
  {
   "cell_type": "markdown",
   "metadata": {},
   "source": [
    "\\begin{figure}\n",
    "\\centerline{\\includegraphics[width=10cm]{S2L4_SYN.png}}\n",
    "\\caption{\\label{fig:S2L4SYN} S2L4 Synthesized Schematic; Xilinx Vivado 2017.4}\n",
    "\\end{figure}"
   ]
  },
  {
   "cell_type": "markdown",
   "metadata": {},
   "source": [
    "\\begin{figure}\n",
    "\\centerline{\\includegraphics[width=10cm]{S2L4_IMP.png}}\n",
    "\\caption{\\label{fig:S2L4SYN} S2L4 Implementated Schematic; Xilinx Vivado 2017.4}\n",
    "\\end{figure}"
   ]
  },
  {
   "cell_type": "markdown",
   "metadata": {},
   "source": [
    "## Verilog Testbench (ToDo)\n",
    "will write later when testbench conversion is improved"
   ]
  },
  {
   "cell_type": "markdown",
   "metadata": {},
   "source": [
    "## PYNQ-Z1 Constraints File\n",
    "using same one as in **1 Switch 1 LED**: `constrs_S0L0.xdc`"
   ]
  },
  {
   "cell_type": "markdown",
   "metadata": {},
   "source": [
    "## Board Verification"
   ]
  },
  {
   "cell_type": "code",
   "execution_count": null,
   "metadata": {},
   "outputs": [],
   "source": []
  },
  {
   "cell_type": "markdown",
   "metadata": {},
   "source": [
    "# Project 3: Countdown"
   ]
  },
  {
   "cell_type": "markdown",
   "metadata": {},
   "source": [
    "## myHDL Code"
   ]
  },
  {
   "cell_type": "code",
   "execution_count": 15,
   "metadata": {},
   "outputs": [],
   "source": [
    "@block\n",
    "def countLED(clk, led):\n",
    "    counter=Signal(modbv(0)[33:])\n",
    "    \n",
    "    @always(clk.posedge)\n",
    "    def logic():\n",
    "        counter.next=counter+1\n",
    "        led.next[0]=counter[26]\n",
    "        led.next[1]=counter[24]\n",
    "        led.next[3]=counter[22]\n",
    "        led.next[4]=counter[20]\n",
    "    \n",
    "    return instances()"
   ]
  },
  {
   "cell_type": "markdown",
   "metadata": {},
   "source": [
    "## myHDL Testing"
   ]
  },
  {
   "cell_type": "code",
   "execution_count": 16,
   "metadata": {},
   "outputs": [
    {
     "data": {
      "text/plain": [
       "''"
      ]
     },
     "execution_count": 16,
     "metadata": {},
     "output_type": "execute_result"
    }
   ],
   "source": [
    "Peeker.clear()\n",
    "clk=Signal(bool(0)); Peeker(clk, 'clk')\n",
    "led=Signal(intbv(0)[4:]); Peeker(led, 'led')\n",
    "\n",
    "\n",
    "DUT=countLED(clk, led)\n",
    "\n",
    "'''\n",
    "def countLED_TB():\n",
    "    \n",
    "    @always(delay(1))\n",
    "    def ClkGen():\n",
    "        clk.next=not clk\n",
    "        \n",
    "    @instance\n",
    "    def stimules():\n",
    "        i=0\n",
    "        while True:\n",
    "            if i==2**33:\n",
    "                raise StopSimulation()\n",
    "            if 1%100==0:\n",
    "                print(i)\n",
    "            i+=1\n",
    "            yield clk.posedge\n",
    "    \n",
    "    return instances()\n",
    "            \n",
    "sim=Simulation(DUT, countLED_TB(), *Peeker.instances()).run()\n",
    "'''\n",
    ";"
   ]
  },
  {
   "cell_type": "markdown",
   "metadata": {},
   "source": [
    "Need to figure out how to write/run these long simulations better in python "
   ]
  },
  {
   "cell_type": "markdown",
   "metadata": {},
   "source": [
    "## Verilog Code"
   ]
  },
  {
   "cell_type": "code",
   "execution_count": 17,
   "metadata": {},
   "outputs": [
    {
     "name": "stdout",
     "output_type": "stream",
     "text": [
      "***Verilog modual from countLED.v***\n",
      "\n",
      " // File: countLED.v\n",
      "// Generated by MyHDL 0.10\n",
      "// Date: Sun Aug 19 18:05:54 2018\n",
      "\n",
      "\n",
      "`timescale 1ns/10ps\n",
      "\n",
      "module countLED (\n",
      "    clk,\n",
      "    led\n",
      ");\n",
      "\n",
      "\n",
      "input clk;\n",
      "output [3:0] led;\n",
      "reg [3:0] led;\n",
      "\n",
      "reg [32:0] counter = 0;\n",
      "\n",
      "\n",
      "\n",
      "always @(posedge clk) begin: COUNTLED_LOGIC\n",
      "    counter <= (counter + 1);\n",
      "    led[0] <= counter[26];\n",
      "    led[1] <= counter[24];\n",
      "    led[3] <= counter[22];\n",
      "    led[4] <= counter[20];\n",
      "end\n",
      "\n",
      "endmodule\n",
      "\n"
     ]
    }
   ],
   "source": [
    "DUT.convert()\n",
    "VerilogTextReader('countLED');"
   ]
  },
  {
   "cell_type": "markdown",
   "metadata": {},
   "source": [
    "## Verilog Testbench"
   ]
  },
  {
   "cell_type": "markdown",
   "metadata": {},
   "source": [
    "## PYNQ-Z1 Constraints File\n",
    "Below is what is found in file `constrs_S0L0.xdc`\n",
    "\n",
    "Notice that the orgianl port names found in the PYNQ-Z1 Constraints file have been changed to the port names of the module `S0L0`"
   ]
  },
  {
   "cell_type": "raw",
   "metadata": {},
   "source": [
    "## PYNQ-Z1 Board Constraints for countLED.v\n",
    "## Based on https://github.com/Digilent/digilent-xdc/blob/master/Arty-Master.xdc\n",
    "\n",
    "## Clock signal 125 MHz\n",
    "\n",
    "set_property -dict { PACKAGE_PIN H16   IOSTANDARD LVCMOS33 } [get_ports { clk }]; #IO_L13P_T2_MRCC_35 Sch=clk\n",
    "create_clock -add -name sys_clk_pin -period 10.00 -waveform {0 5} [get_ports { clk }];\n",
    "\n",
    "\n",
    "\n",
    "##LEDs\n",
    "set_property -dict {PACKAGE_PIN R14 IOSTANDARD LVCMOS33} [get_ports {led[0]}]\n",
    "set_property -dict {PACKAGE_PIN P14 IOSTANDARD LVCMOS33} [get_ports {led[1]}]\n",
    "set_property -dict {PACKAGE_PIN N16 IOSTANDARD LVCMOS33} [get_ports {led[2]}]\n",
    "set_property -dict {PACKAGE_PIN M14 IOSTANDARD LVCMOS33} [get_ports {led[3]}]"
   ]
  },
  {
   "cell_type": "markdown",
   "metadata": {},
   "source": [
    "## Board Verification"
   ]
  },
  {
   "cell_type": "markdown",
   "metadata": {},
   "source": [
    "# Project 4: Basic Duty Cycle\n",
    "https://timetoexplore.net/blog/arty-fpga-verilog-02"
   ]
  },
  {
   "cell_type": "markdown",
   "metadata": {},
   "source": [
    "## myHDL Code"
   ]
  },
  {
   "cell_type": "code",
   "execution_count": 18,
   "metadata": {},
   "outputs": [],
   "source": [
    "@block\n",
    "def BDCLed(clk, led):\n",
    "    counter=Signal(modbv(0)[8:])\n",
    "    duty_led=Signal(modbv(8)[8:])\n",
    "    \n",
    "    @always(clk.posedge)\n",
    "    def logic():\n",
    "        counter.next=counter+1\n",
    "        if counter<duty_led:\n",
    "            led.next=15\n",
    "        else:\n",
    "            led.next=0\n",
    "    \n",
    "    return instances()"
   ]
  },
  {
   "cell_type": "markdown",
   "metadata": {},
   "source": [
    "## myHDL Testing"
   ]
  },
  {
   "cell_type": "code",
   "execution_count": 26,
   "metadata": {},
   "outputs": [],
   "source": [
    "Peeker.clear()\n",
    "clk=Signal(bool(0)); Peeker(clk, 'clk')\n",
    "led=Signal(intbv(0)[4:]); Peeker(led, 'led')\n",
    "\n",
    "DUT=BDCLed(clk, led)\n",
    "    \n",
    "def BDCLed_TB():\n",
    "    \n",
    "    @always(delay(1))\n",
    "    def ClkGen():\n",
    "        clk.next=not clk\n",
    "        \n",
    "    @instance\n",
    "    def stimules():\n",
    "        i=0\n",
    "        while True:\n",
    "            if i==1000:\n",
    "                raise StopSimulation()\n",
    "            i+=1\n",
    "            yield clk.posedge\n",
    "    \n",
    "    return instances()\n",
    "            \n",
    "sim=Simulation(DUT, BDCLed_TB(), *Peeker.instances()).run()"
   ]
  },
  {
   "cell_type": "code",
   "execution_count": 27,
   "metadata": {},
   "outputs": [
    {
     "data": {
      "text/html": [
       "<div><script type=\"WaveDrom\">{\"signal\": [{\"name\": \"clk\", \"wave\": \"0101010101010101010101010101010101010101010101010101010101010101010101010101010101010101010101010101010101010101010101010101010101010101010101010101010101010101010101010101010101010101010101010101010101010101010101010101010101010101010101010101010101010101010101010101010101010101010101010101010101010101010101010101010101010101010101010101010101010101010101010101010101010101010101010101010101010101010101010101010101010101010101010101010101010101010101010101010101010101010101010101010101010101010101010101010101010101010101010101010101010101010101010101010101010101010101010101010101010101010101010101010101010101010101010101010101010101010101010101010101010101010101010101010101010101010101010101010101010101010101010101010101010101010101010101010101010101010101010101010101010101010101010101010101010101010101010101010101010101010101010101010101010101010101010101010101010101010101010101010101010101010101010101010101010101010101010101010101010101010101010101010101010101010101010101010101010101010101010101010101010101010101010101010101010101010101010101010101010101010101010101010101010101010101010101010101010101010101010101010101010101010101010101010101010101010101010101010101010101010101010101010101010101010101010101010101010101010101010101010101010101010101010101010101010101010101010101010101010101010101010101010101010101010101010101010101010101010101010101010101010101010101010101010101010101010101010101010101010101010101010101010101010101010101010101010101010101010101010101010101010101010101010101010101010101010101010101010101010101010101010101010101010101010101010101010101010101010101010101010101010101010101010101010101010101010101010101010101010101010101010101010101010101010101010101010101010101010101010101010101010101010101010101010101010101010101010101010101010101010101010101010101010101010101010101010101010101010101010101010101010101010101010101010101010101010101010101010101010101010101010101010101010101010101010101010101010101010101010101010101010101010101010101010\"}, {\"name\": \"led\", \"wave\": \"==...............=...............................................................................................................................................................................................................................................................................................................................................................................................................................................................................................................=...............=...............................................................................................................................................................................................................................................................................................................................................................................................................................................................................................................=...............=...............................................................................................................................................................................................................................................................................................................................................................................................................................................................................................................=...............=.............................................................................................................................................................................................................................................................................................................................................................................................................................................................\", \"data\": [\"0\", \"f\", \"0\", \"f\", \"0\", \"f\", \"0\", \"f\", \"0\"]}]}</script></div>"
      ]
     },
     "metadata": {},
     "output_type": "display_data"
    },
    {
     "data": {
      "application/javascript": [
       "$.getScript(\"http://wavedrom.com/wavedrom.min.js\", function () {\n",
       "$.getScript(\"http://wavedrom.com/skins/default.js\", function () {\n",
       "WaveDrom.ProcessAll();});\n",
       "});\n"
      ]
     },
     "metadata": {},
     "output_type": "display_data"
    }
   ],
   "source": [
    "Peeker.to_wavedrom()"
   ]
  },
  {
   "cell_type": "code",
   "execution_count": 28,
   "metadata": {},
   "outputs": [
    {
     "data": {
      "image/png": "[encoded data removed]",
      "text/plain": [
       "<Figure size 432x288 with 1 Axes>"
      ]
     },
     "metadata": {},
     "output_type": "display_data"
    }
   ],
   "source": [
    "BDCLedData=Peeker.to_dataframe()\n",
    "BDCLedData=BDCLedData[BDCLedData['clk']==1]\n",
    "BDCLedData.plot(y='led');"
   ]
  },
  {
   "cell_type": "markdown",
   "metadata": {},
   "source": [
    "## Verilog Code"
   ]
  },
  {
   "cell_type": "code",
   "execution_count": 30,
   "metadata": {},
   "outputs": [
    {
     "name": "stdout",
     "output_type": "stream",
     "text": [
      "***Verilog modual from BDCLed.v***\n",
      "\n",
      " // File: BDCLed.v\n",
      "// Generated by MyHDL 0.10\n",
      "// Date: Sun Aug 19 18:11:00 2018\n",
      "\n",
      "\n",
      "`timescale 1ns/10ps\n",
      "\n",
      "module BDCLed (\n",
      "    clk,\n",
      "    led\n",
      ");\n",
      "\n",
      "\n",
      "input clk;\n",
      "output [3:0] led;\n",
      "reg [3:0] led;\n",
      "\n",
      "wire [7:0] duty_led;\n",
      "reg [7:0] counter = 0;\n",
      "\n",
      "assign duty_led = 8'd8;\n",
      "\n",
      "\n",
      "always @(posedge clk) begin: BDCLED_LOGIC\n",
      "    counter <= (counter + 1);\n",
      "    if ((counter < duty_led)) begin\n",
      "        led <= 15;\n",
      "    end\n",
      "    else begin\n",
      "        led <= 0;\n",
      "    end\n",
      "end\n",
      "\n",
      "endmodule\n",
      "\n"
     ]
    },
    {
     "name": "stderr",
     "output_type": "stream",
     "text": [
      "/home/iridium/anaconda3/lib/python3.6/site-packages/myhdl/conversion/_toVerilog.py:349: ToVerilogWarning: Signal is not driven: duty_led\n",
      "  category=ToVerilogWarning\n"
     ]
    }
   ],
   "source": [
    "DUT.convert()\n",
    "VerilogTextReader('BDCLed');"
   ]
  },
  {
   "cell_type": "markdown",
   "metadata": {},
   "source": [
    "## PYNQ-Z1 Constraints File\n",
    "Below is what is found in file `constrs_S0L0.xdc`\n",
    "\n",
    "Notice that the orgianl port names found in the PYNQ-Z1 Constraints file have been changed to the port names of the module `S0L0`"
   ]
  },
  {
   "cell_type": "markdown",
   "metadata": {},
   "source": [
    "## Verilog Testbench"
   ]
  },
  {
   "cell_type": "code",
   "execution_count": 31,
   "metadata": {},
   "outputs": [
    {
     "name": "stdout",
     "output_type": "stream",
     "text": [
      "<class 'myhdl._Signal._Signal'> <class '_ast.Name'>\n",
      "<class 'myhdl._Signal._Signal'> <class '_ast.Name'>\n",
      "<class 'myhdl._Signal._Signal'> <class '_ast.Name'>\n",
      "***Verilog modual from BDCLed_TBV.v***\n",
      "\n",
      " // File: BDCLed_TBV.v\n",
      "// Generated by MyHDL 0.10\n",
      "// Date: Sun Aug 19 18:16:51 2018\n",
      "\n",
      "\n",
      "`timescale 1ns/10ps\n",
      "\n",
      "module BDCLed_TBV (\n",
      "\n",
      ");\n",
      "\n",
      "\n",
      "\n",
      "reg clk = 0;\n",
      "wire [1:0] sw;\n",
      "reg [3:0] led = 0;\n",
      "wire [7:0] BDCLed0_0_duty_led;\n",
      "reg [7:0] BDCLed0_0_counter = 0;\n",
      "\n",
      "assign sw = 2'd0;\n",
      "assign BDCLed0_0_duty_led = 8'd8;\n",
      "\n",
      "\n",
      "always @(clk, sw, led) begin: BDCLED_TBV_PRINT_DATA\n",
      "    $write(\"%h\", sw);\n",
      "    $write(\" \");\n",
      "    $write(\"%h\", clk);\n",
      "    $write(\" \");\n",
      "    $write(\"%h\", led);\n",
      "    $write(\"\\n\");\n",
      "end\n",
      "\n",
      "\n",
      "always @(posedge clk) begin: BDCLED_TBV_BDCLED0_0_LOGIC\n",
      "    BDCLed0_0_counter <= (BDCLed0_0_counter + 1);\n",
      "    if ((BDCLed0_0_counter < BDCLed0_0_duty_led)) begin\n",
      "        led <= 15;\n",
      "    end\n",
      "    else begin\n",
      "        led <= 0;\n",
      "    end\n",
      "end\n",
      "\n",
      "\n",
      "initial begin: BDCLED_TBV_CLK_SIGNAL\n",
      "    while (1'b1) begin\n",
      "        clk <= (!clk);\n",
      "        # 1;\n",
      "    end\n",
      "end\n",
      "\n",
      "\n",
      "initial begin: BDCLED_TBV_STIMULES\n",
      "    integer i;\n",
      "    i = 0;\n",
      "    while (1'b1) begin\n",
      "        if ((i == 1000)) begin\n",
      "            $finish;\n",
      "        end\n",
      "        i = i + 1;\n",
      "        @(posedge clk);\n",
      "    end\n",
      "end\n",
      "\n",
      "endmodule\n",
      "\n"
     ]
    },
    {
     "name": "stderr",
     "output_type": "stream",
     "text": [
      "/home/iridium/anaconda3/lib/python3.6/site-packages/myhdl/conversion/_toVerilog.py:349: ToVerilogWarning: Signal is not driven: sw\n",
      "  category=ToVerilogWarning\n",
      "/home/iridium/anaconda3/lib/python3.6/site-packages/myhdl/conversion/_toVerilog.py:349: ToVerilogWarning: Signal is not driven: BDCLed0_0_duty_led\n",
      "  category=ToVerilogWarning\n"
     ]
    }
   ],
   "source": [
    "@block\n",
    "def BDCLed_TBV():\n",
    "\n",
    "    clk=Signal(bool(0))\n",
    "    led=Signal(intbv(0)[4:])\n",
    "    \n",
    "    @always_comb\n",
    "    def print_data():\n",
    "        print(sw, clk, led)\n",
    "\n",
    "    DUT=BDCLed(clk, led)\n",
    "    \n",
    "    \n",
    "    @instance\n",
    "    def clk_signal():\n",
    "        while True:\n",
    "            clk.next = not clk\n",
    "            yield delay(1)\n",
    "        \n",
    "    @instance\n",
    "    def stimules():\n",
    "        i=0\n",
    "        while True:\n",
    "            if i==1000:\n",
    "                raise StopSimulation()\n",
    "            i+=1\n",
    "            yield clk.posedge\n",
    "    \n",
    "    return instances()\n",
    "            \n",
    "TB=BDCLed_TBV()\n",
    "TB.convert(hdl=\"Verilog\", initial_values=True)\n",
    "VerilogTextReader('BDCLed_TBV');"
   ]
  },
  {
   "cell_type": "markdown",
   "metadata": {},
   "source": [
    "## Board Verification"
   ]
  },
  {
   "cell_type": "markdown",
   "metadata": {},
   "source": [
    "# Project 5: Mid level PWM LED"
   ]
  },
  {
   "cell_type": "markdown",
   "metadata": {},
   "source": [
    "## pwm myHDL Code"
   ]
  },
  {
   "cell_type": "code",
   "execution_count": 32,
   "metadata": {},
   "outputs": [],
   "source": [
    "@block\n",
    "def pwm(clk, dutyCount, o_state):\n",
    "    counter=Signal(modbv(0)[8:])\n",
    "    \n",
    "    @always(clk.posedge)\n",
    "    def logic():\n",
    "        counter.next=counter+1\n",
    "        o_state.next=counter<dutyCount\n",
    "    \n",
    "    return instances()"
   ]
  },
  {
   "cell_type": "markdown",
   "metadata": {},
   "source": [
    "## pwm myHDL Testing"
   ]
  },
  {
   "cell_type": "code",
   "execution_count": 33,
   "metadata": {},
   "outputs": [],
   "source": [
    "Peeker.clear()\n",
    "clk=Signal(bool(0)); Peeker(clk, 'clk')\n",
    "dutyCount=Signal(intbv(4)[8:]); Peeker(dutyCount, 'dutyCount')\n",
    "o_state=Signal(bool(0)); Peeker(o_state, 'o_state')\n",
    "\n",
    "DUT=pwm(clk, dutyCount, o_state)\n",
    "\n",
    "def pwm_TB():\n",
    "    pass"
   ]
  },
  {
   "cell_type": "markdown",
   "metadata": {},
   "source": [
    "## pwm Verilog Code"
   ]
  },
  {
   "cell_type": "code",
   "execution_count": null,
   "metadata": {},
   "outputs": [],
   "source": []
  },
  {
   "cell_type": "code",
   "execution_count": null,
   "metadata": {},
   "outputs": [],
   "source": []
  }
 ],
 "metadata": {
  "author": "myHDL to PYNQ Fabric Only Exsample",
  "hide_input": false,
  "kernelspec": {
   "display_name": "Python 3",
   "language": "python",
   "name": "python3"
  },
  "language_info": {
   "codemirror_mode": {
    "name": "ipython",
    "version": 3
   },
   "file_extension": ".py",
   "mimetype": "text/x-python",
   "name": "python",
   "nbconvert_exporter": "python",
   "pygments_lexer": "ipython3",
   "version": "3.6.5"
  },
  "latex_envs": {
   "LaTeX_envs_menu_present": true,
   "autoclose": false,
   "autocomplete": true,
   "bibliofile": "biblio.bib",
   "cite_by": "apalike",
   "current_citInitial": 1,
   "eqLabelWithNumbers": true,
   "eqNumInitial": 1,
   "hotkeys": {
    "equation": "Ctrl-E",
    "itemize": "Ctrl-I"
   },
   "labels_anchors": false,
   "latex_user_defs": false,
   "report_style_numbering": false,
   "user_envs_cfg": false
  },
  "toc": {
   "base_numbering": 1,
   "nav_menu": {},
   "number_sections": true,
   "sideBar": true,
   "skip_h1_title": false,
   "title_cell": "Table of Contents",
   "title_sidebar": "Contents",
   "toc_cell": false,
   "toc_position": {},
   "toc_section_display": true,
   "toc_window_display": true
  }
 },
 "nbformat": 4,
 "nbformat_minor": 2
}
